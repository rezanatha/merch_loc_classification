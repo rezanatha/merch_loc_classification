{
 "cells": [
  {
   "cell_type": "code",
   "execution_count": 42,
   "id": "95e8d9ae-7d05-41ae-8a9c-c160c905ac33",
   "metadata": {},
   "outputs": [],
   "source": [
    "from gensim.models import Word2Vec\n",
    "import gensim\n",
    "from nltk.tokenize import sent_tokenize, word_tokenize"
   ]
  },
  {
   "cell_type": "code",
   "execution_count": 43,
   "id": "a2180798-a14c-4ae3-8da4-9c00fc3fbbfe",
   "metadata": {},
   "outputs": [],
   "source": [
    "import polars as pl"
   ]
  },
  {
   "cell_type": "code",
   "execution_count": 44,
   "id": "05170569-3360-4e48-9def-15fd1126ec27",
   "metadata": {},
   "outputs": [],
   "source": [
    "data = pl.read_parquet(\"data/merchant_ner_labeled_all.parquet\")"
   ]
  },
  {
   "cell_type": "code",
   "execution_count": 45,
   "id": "4a2e0d2c-ade7-4839-aa97-8ef4d0dbc72e",
   "metadata": {},
   "outputs": [],
   "source": [
    "pos_desc = [desc.split(\" \") for desc in data['cleaned_merchant_name'].to_list()]"
   ]
  },
  {
   "cell_type": "code",
   "execution_count": 46,
   "id": "8b3e2507-7768-4043-a378-ea8b344ffa29",
   "metadata": {},
   "outputs": [
    {
     "data": {
      "text/plain": [
       "[['chop', 'buntut', 'cak', 'yo', 'sleman', 'kab'],\n",
       " ['tbl', 'the', 'seed', 'level', 'amsterdam'],\n",
       " ['siloam', 'clinic', 'grh', 'raya', 'tangerang', 'slt'],\n",
       " ['swalayan', 'zoom', 'mbl', 'tanjung', 'pinan'],\n",
       " ['pedro', 'sun', 'plaza', 'medan', 'medan', 'kot'],\n",
       " ['wembley', 'grill', 'wembley'],\n",
       " ['aia', 'fin', '39020926', '112', 'tangerang'],\n",
       " ['idm', 'tb04', 'pasuruan'],\n",
       " ['chamart', 'panglima', 'pol', 'babandar', 'lampun'],\n",
       " ['idm', 'fiqj', 'bekasi'],\n",
       " ['goodfriends', 'coffeeshop', 'sleman'],\n",
       " ['wendysbsd', 'tangerang', 'slt'],\n",
       " ['hong', 'tang', 'jakarta', 'slt'],\n",
       " ['union', 'motor', 'bekasi', 'kab'],\n",
       " ['rumah', 'sambal', 'seruit', 'tangerang'],\n",
       " ['dean', 'audio', 'jakarta', 'utara'],\n",
       " ['warung', 'cap', 'jendela', 'bandung'],\n",
       " ['pt', 'pesona', 'natasha', 'kds01', 'kudus'],\n",
       " ['west', 'zone', 'fresh', 'superm', 'dubai'],\n",
       " ['letsdietnow', 'san', 'diego']]"
      ]
     },
     "execution_count": 46,
     "metadata": {},
     "output_type": "execute_result"
    }
   ],
   "source": [
    "pos_desc[:20]"
   ]
  },
  {
   "cell_type": "code",
   "execution_count": 47,
   "id": "11eb6db0-e31b-478f-a9eb-2e63a5ed5338",
   "metadata": {},
   "outputs": [],
   "source": [
    "# Train Word2Vec model\n",
    "model = Word2Vec(\n",
    "    sentences=pos_desc,\n",
    "    vector_size=100,  # Dimensionality of the embeddings\n",
    "    window=5,         # Context window size\n",
    "    min_count=1,      # Ignore words with frequency below this\n",
    "    workers=4,        # Number of threads to use\n",
    "    sg=1              # 1 for skip-gram, 0 for CBOW\n",
    ")"
   ]
  },
  {
   "cell_type": "code",
   "execution_count": 48,
   "id": "5477a546-653a-4c08-b5be-4b790f5d60fd",
   "metadata": {},
   "outputs": [
    {
     "data": {
      "text/plain": [
       "<gensim.models.word2vec.Word2Vec at 0x7f0cd4189e50>"
      ]
     },
     "execution_count": 48,
     "metadata": {},
     "output_type": "execute_result"
    }
   ],
   "source": [
    "model"
   ]
  },
  {
   "cell_type": "code",
   "execution_count": 37,
   "id": "0d494f20-8dfc-4dd6-bd10-6e0ac121bf95",
   "metadata": {},
   "outputs": [
    {
     "name": "stdout",
     "output_type": "stream",
     "text": [
      "Cosine similarity skip gram:  0.7408895\n"
     ]
    }
   ],
   "source": [
    "# Print results\n",
    "print(\"Cosine similarity skip gram: \",\n",
    "      model.wv.similarity('jaksel', 'jakarta'))"
   ]
  },
  {
   "cell_type": "code",
   "execution_count": 40,
   "id": "e747b583-2c44-4f4b-be3f-bce1362a2ef7",
   "metadata": {},
   "outputs": [
    {
     "data": {
      "text/plain": [
       "[('se', 0.9109564423561096),\n",
       " ('tatangerang', 0.8729041218757629),\n",
       " ('serpong', 0.8570849895477295),\n",
       " ('pamulang', 0.8393759727478027),\n",
       " ('bintaro', 0.8391792178153992),\n",
       " ('bsd', 0.8343351483345032),\n",
       " ('tangerang', 0.8301516771316528),\n",
       " ('bsdho', 0.8194298148155212),\n",
       " ('mbtangerang', 0.8160304427146912),\n",
       " ('bintar', 0.8146150708198547)]"
      ]
     },
     "execution_count": 40,
     "metadata": {},
     "output_type": "execute_result"
    }
   ],
   "source": [
    "similar_words = model.wv.most_similar(\"sel\")\n",
    "similar_words"
   ]
  },
  {
   "cell_type": "code",
   "execution_count": 49,
   "id": "5b5c2133-161d-4108-a31f-a667c61e3806",
   "metadata": {},
   "outputs": [],
   "source": [
    "model.save(\"model/word2vec.model\")"
   ]
  },
  {
   "cell_type": "code",
   "execution_count": null,
   "id": "e92461c9-d3ac-4471-a25d-707fcec94493",
   "metadata": {},
   "outputs": [],
   "source": []
  }
 ],
 "metadata": {
  "kernelspec": {
   "display_name": "Python 3 (ipykernel)",
   "language": "python",
   "name": "python3"
  },
  "language_info": {
   "codemirror_mode": {
    "name": "ipython",
    "version": 3
   },
   "file_extension": ".py",
   "mimetype": "text/x-python",
   "name": "python",
   "nbconvert_exporter": "python",
   "pygments_lexer": "ipython3",
   "version": "3.11.2"
  }
 },
 "nbformat": 4,
 "nbformat_minor": 5
}
