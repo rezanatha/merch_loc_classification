{
 "cells": [
  {
   "cell_type": "code",
   "execution_count": 1,
   "id": "d0ff48a4-db0e-4e5f-b8c0-8b6cfee5f4fb",
   "metadata": {},
   "outputs": [],
   "source": [
    "import spacy\n",
    "import re\n",
    "import polars as pl\n",
    "# Load the saved model\n",
    "loaded_nlp = spacy.load(\"model/indonesian_location_ner_model\")"
   ]
  },
  {
   "cell_type": "code",
   "execution_count": 230,
   "id": "b8783ab5-92fd-4b92-8775-9ca009bc1c67",
   "metadata": {},
   "outputs": [
    {
     "name": "stdout",
     "output_type": "stream",
     "text": [
      "ID: jakarta slt - LOC\n"
     ]
    }
   ],
   "source": [
    "# Test on some text\n",
    "def clean_merchant_name(text):\n",
    "    remainder = text\n",
    "    # last two characters are country id\n",
    "    country_id = remainder[len(text)-2] + remainder[len(text)-1]\n",
    "    remainder = text[:len(text)-2].lower()\n",
    "\n",
    "    return country_id, re.sub(r'[^a-zA-Z0-9\\s]','',remainder).strip()\n",
    "\n",
    "text = \"DIAN KENANGA TOTOK AURA JAKARTA SLT ID\"\n",
    "country_id, text_clean = clean_merchant_name(text)\n",
    "doc = loaded_nlp(text_clean)\n",
    "\n",
    "# Print entities\n",
    "for ent in doc.ents:\n",
    "    print(f\"{country_id}: {ent.text} - {ent.label_}\")\n",
    "\n"
   ]
  },
  {
   "cell_type": "code",
   "execution_count": 181,
   "id": "f3f124e6-49a4-47ca-a44b-eb2408ffbf8d",
   "metadata": {},
   "outputs": [
    {
     "name": "stdout",
     "output_type": "stream",
     "text": [
      "('jakarta slt', [(0.808, 'jakarta selatan', 'aba'), (0.8, 'jakarta selatan', 'cba'), (0.707, 'jakarta pusat', 'aba'), (0.7, 'jakarta pusat', 'cba'), (0.6666666666666666, 'jakarta barat', 'cba'), (0.6666666666666666, 'jakarta utara', 'cba'), (0.625, 'takalar', 'cba'), (0.625, 'takalar', 'cba'), (0.6, 'kolaka utara', 'cba')])\n",
      "Augmented: jakarta selatan\n"
     ]
    }
   ],
   "source": [
    "# text augmentation\n",
    "import pickle\n",
    "file = open('data/city_dictionary.pkl', 'rb')\n",
    "city_dictionary = pickle.load(file)\n",
    "file.close()\n",
    "\n",
    "def jaccard_similarity(ngrams1, ngrams2):\n",
    "    _ngrams1 = set(ngrams1)\n",
    "    _ngrams2 = set(ngrams2)\n",
    "\n",
    "    intersection = len(_ngrams1.intersection(_ngrams2))\n",
    "    union = len(_ngrams1.union(_ngrams2))\n",
    "\n",
    "    return intersection / union\n",
    "\n",
    "def enhance_location_from_dict(row, cba_threshold = 0.6, threshold = 0.8, all_text_threshold = 0.7):\n",
    "    if row is None or len(row) == 0:\n",
    "        return None\n",
    "\n",
    "    # SPECIAL CASE: BADUNG & BANDUNG\n",
    "    if re.search(r'(bandung\\s?barat)', row):\n",
    "        return row, [(1.1, 'bandung barat')]\n",
    "    if re.search(r'(bdg\\s?barat)', row):\n",
    "        return row, [(1.1, 'bdg barat')]\n",
    "    if re.search(r'bandung', row):\n",
    "        return row, [(1.1, 'bandung')]\n",
    "    if re.search(r'(bdg)', row):\n",
    "        return row, [(1.1, 'bdg')]\n",
    "    if re.search(r'badung', row):\n",
    "        return row, [(1.1, 'badung')]\n",
    "\n",
    "    #char by all\n",
    "    match = []\n",
    "    for loc_char in row:\n",
    "        if loc_char not in city_dictionary['full_text']:\n",
    "            continue\n",
    "\n",
    "        for possible_loc in city_dictionary['full_text'][loc_char]:\n",
    "            score = jaccard_similarity(possible_loc, row)\n",
    "            if possible_loc in row:\n",
    "                score += 0.01\n",
    "\n",
    "            if score >= cba_threshold:\n",
    "                match.append((score, possible_loc, 'cba'))\n",
    "\n",
    "    # word by word\n",
    "\n",
    "    for loc_word in row.split(\" \"):\n",
    "        if len(loc_word) == 0:\n",
    "            continue\n",
    "        if loc_word[0] not in city_dictionary['full_text']:\n",
    "            continue\n",
    "\n",
    "        for possible_loc in city_dictionary['full_text'][loc_word[0]]:\n",
    "            score = jaccard_similarity(possible_loc, loc_word)\n",
    "            if possible_loc in loc_word:\n",
    "                score += 0.01\n",
    "\n",
    "            if score >= threshold:\n",
    "                match.append((score,possible_loc, 'wbw')) # change loc_word to possible_loc for full enhancement\n",
    "    # all by all\n",
    "    if row[0] in city_dictionary['full_text']:\n",
    "        for possible_loc in city_dictionary['full_text'][row[0]]:\n",
    "            score = jaccard_similarity(possible_loc, row)\n",
    "            if score >= all_text_threshold:\n",
    "                match.append((1.01*score, possible_loc ,'aba')) # change row to possible_loc for full enhancement\n",
    "\n",
    "    return row, sorted(match, key=lambda x: x[0], reverse=True)\n",
    "\n",
    "def extract_enhanced_location(row):\n",
    "    enhanced = enhance_location_from_dict(row)\n",
    "    print(enhanced)\n",
    "\n",
    "    if len(enhanced[1]) == 0:\n",
    "        return None\n",
    "    if len(enhanced[1][0]) == 0:\n",
    "        return None\n",
    "\n",
    "    return enhanced[1][0][1]\n",
    "\n",
    "# Print entities\n",
    "for ent in doc.ents:\n",
    "    if ent.label_== \"LOC\":\n",
    "        print(\"Augmented:\", extract_enhanced_location(ent.text))\n"
   ]
  },
  {
   "cell_type": "markdown",
   "id": "92e5e863-523a-4d02-a316-bc84fc0caafd",
   "metadata": {},
   "source": [
    "# location dict"
   ]
  },
  {
   "cell_type": "code",
   "execution_count": 2,
   "id": "4447edef-42f8-41fc-8c1e-8d15fc6ec832",
   "metadata": {},
   "outputs": [],
   "source": [
    "cities_regencies = pl.read_csv('data/regencies.csv', new_columns=['id', 'id_provinces', 'name'])"
   ]
  },
  {
   "cell_type": "code",
   "execution_count": 3,
   "id": "40fe6abf-ce68-4b58-9eac-f329364e3066",
   "metadata": {},
   "outputs": [
    {
     "data": {
      "text/html": [
       "<div><style>\n",
       ".dataframe > thead > tr,\n",
       ".dataframe > tbody > tr {\n",
       "  text-align: right;\n",
       "  white-space: pre-wrap;\n",
       "}\n",
       "</style>\n",
       "<small>shape: (513, 3)</small><table border=\"1\" class=\"dataframe\"><thead><tr><th>id</th><th>id_provinces</th><th>name</th></tr><tr><td>i64</td><td>i64</td><td>str</td></tr></thead><tbody><tr><td>1102</td><td>11</td><td>&quot;KABUPATEN ACEH SINGKIL&quot;</td></tr><tr><td>1103</td><td>11</td><td>&quot;KABUPATEN ACEH SELATAN&quot;</td></tr><tr><td>1104</td><td>11</td><td>&quot;KABUPATEN ACEH TENGGARA&quot;</td></tr><tr><td>1105</td><td>11</td><td>&quot;KABUPATEN ACEH TIMUR&quot;</td></tr><tr><td>1106</td><td>11</td><td>&quot;KABUPATEN ACEH TENGAH&quot;</td></tr><tr><td>&hellip;</td><td>&hellip;</td><td>&hellip;</td></tr><tr><td>9433</td><td>94</td><td>&quot;KABUPATEN PUNCAK&quot;</td></tr><tr><td>9434</td><td>94</td><td>&quot;KABUPATEN DOGIYAI&quot;</td></tr><tr><td>9435</td><td>94</td><td>&quot;KABUPATEN INTAN JAYA&quot;</td></tr><tr><td>9436</td><td>94</td><td>&quot;KABUPATEN DEIYAI&quot;</td></tr><tr><td>9471</td><td>94</td><td>&quot;KOTA JAYAPURA&quot;</td></tr></tbody></table></div>"
      ],
      "text/plain": [
       "shape: (513, 3)\n",
       "┌──────┬──────────────┬─────────────────────────┐\n",
       "│ id   ┆ id_provinces ┆ name                    │\n",
       "│ ---  ┆ ---          ┆ ---                     │\n",
       "│ i64  ┆ i64          ┆ str                     │\n",
       "╞══════╪══════════════╪═════════════════════════╡\n",
       "│ 1102 ┆ 11           ┆ KABUPATEN ACEH SINGKIL  │\n",
       "│ 1103 ┆ 11           ┆ KABUPATEN ACEH SELATAN  │\n",
       "│ 1104 ┆ 11           ┆ KABUPATEN ACEH TENGGARA │\n",
       "│ 1105 ┆ 11           ┆ KABUPATEN ACEH TIMUR    │\n",
       "│ 1106 ┆ 11           ┆ KABUPATEN ACEH TENGAH   │\n",
       "│ …    ┆ …            ┆ …                       │\n",
       "│ 9433 ┆ 94           ┆ KABUPATEN PUNCAK        │\n",
       "│ 9434 ┆ 94           ┆ KABUPATEN DOGIYAI       │\n",
       "│ 9435 ┆ 94           ┆ KABUPATEN INTAN JAYA    │\n",
       "│ 9436 ┆ 94           ┆ KABUPATEN DEIYAI        │\n",
       "│ 9471 ┆ 94           ┆ KOTA JAYAPURA           │\n",
       "└──────┴──────────────┴─────────────────────────┘"
      ]
     },
     "execution_count": 3,
     "metadata": {},
     "output_type": "execute_result"
    }
   ],
   "source": [
    "cities_regencies"
   ]
  },
  {
   "cell_type": "code",
   "execution_count": 4,
   "id": "dc5d1b42-bcb7-41c9-849e-de4ffd16f961",
   "metadata": {},
   "outputs": [],
   "source": [
    "# ngram\n",
    "def get_word_ngram(text, n):\n",
    "    words = text.split()\n",
    "    if len(words) < n:\n",
    "        return []\n",
    "        \n",
    "    return [tuple(words[i:i+n]) for i in range(len(words) - n + 1)]\n",
    "\n",
    "def get_word_ngram_from_list(wordlist, n):\n",
    "    if len(wordlist) < n:\n",
    "        return []\n",
    "        \n",
    "    return [tuple(wordlist[i:i+n]) for i in range(len(wordlist) - n + 1)]\n",
    "\n",
    "def get_char_ngrams(text, n):\n",
    "    \"\"\"Generate character n-grams from text.\"\"\"\n",
    "    # Convert text to lowercase and remove spaces for character-level comparison\n",
    "    text = text.lower().replace(\" \", \"\")\n",
    "    return [text[i:i+n] for i in range(len(text) - n + 1)]"
   ]
  },
  {
   "cell_type": "code",
   "execution_count": 5,
   "id": "032c1a76-371f-458a-b2b4-fb46a391f28b",
   "metadata": {},
   "outputs": [],
   "source": [
    "cities_regencies = cities_regencies.with_columns(\n",
    "    pl.col('name').str.replace(r'(KABUPATEN|KOTA)','').str.to_lowercase().str.strip_chars().alias('name_clean')\n",
    ")"
   ]
  },
  {
   "cell_type": "code",
   "execution_count": 6,
   "id": "0d4a2f55-e8f4-4940-a09c-790a30943266",
   "metadata": {},
   "outputs": [
    {
     "data": {
      "text/html": [
       "<div><style>\n",
       ".dataframe > thead > tr,\n",
       ".dataframe > tbody > tr {\n",
       "  text-align: right;\n",
       "  white-space: pre-wrap;\n",
       "}\n",
       "</style>\n",
       "<small>shape: (513, 4)</small><table border=\"1\" class=\"dataframe\"><thead><tr><th>id</th><th>id_provinces</th><th>name</th><th>name_clean</th></tr><tr><td>i64</td><td>i64</td><td>str</td><td>str</td></tr></thead><tbody><tr><td>1102</td><td>11</td><td>&quot;KABUPATEN ACEH SINGKIL&quot;</td><td>&quot;aceh singkil&quot;</td></tr><tr><td>1103</td><td>11</td><td>&quot;KABUPATEN ACEH SELATAN&quot;</td><td>&quot;aceh selatan&quot;</td></tr><tr><td>1104</td><td>11</td><td>&quot;KABUPATEN ACEH TENGGARA&quot;</td><td>&quot;aceh tenggara&quot;</td></tr><tr><td>1105</td><td>11</td><td>&quot;KABUPATEN ACEH TIMUR&quot;</td><td>&quot;aceh timur&quot;</td></tr><tr><td>1106</td><td>11</td><td>&quot;KABUPATEN ACEH TENGAH&quot;</td><td>&quot;aceh tengah&quot;</td></tr><tr><td>&hellip;</td><td>&hellip;</td><td>&hellip;</td><td>&hellip;</td></tr><tr><td>9433</td><td>94</td><td>&quot;KABUPATEN PUNCAK&quot;</td><td>&quot;puncak&quot;</td></tr><tr><td>9434</td><td>94</td><td>&quot;KABUPATEN DOGIYAI&quot;</td><td>&quot;dogiyai&quot;</td></tr><tr><td>9435</td><td>94</td><td>&quot;KABUPATEN INTAN JAYA&quot;</td><td>&quot;intan jaya&quot;</td></tr><tr><td>9436</td><td>94</td><td>&quot;KABUPATEN DEIYAI&quot;</td><td>&quot;deiyai&quot;</td></tr><tr><td>9471</td><td>94</td><td>&quot;KOTA JAYAPURA&quot;</td><td>&quot;jayapura&quot;</td></tr></tbody></table></div>"
      ],
      "text/plain": [
       "shape: (513, 4)\n",
       "┌──────┬──────────────┬─────────────────────────┬───────────────┐\n",
       "│ id   ┆ id_provinces ┆ name                    ┆ name_clean    │\n",
       "│ ---  ┆ ---          ┆ ---                     ┆ ---           │\n",
       "│ i64  ┆ i64          ┆ str                     ┆ str           │\n",
       "╞══════╪══════════════╪═════════════════════════╪═══════════════╡\n",
       "│ 1102 ┆ 11           ┆ KABUPATEN ACEH SINGKIL  ┆ aceh singkil  │\n",
       "│ 1103 ┆ 11           ┆ KABUPATEN ACEH SELATAN  ┆ aceh selatan  │\n",
       "│ 1104 ┆ 11           ┆ KABUPATEN ACEH TENGGARA ┆ aceh tenggara │\n",
       "│ 1105 ┆ 11           ┆ KABUPATEN ACEH TIMUR    ┆ aceh timur    │\n",
       "│ 1106 ┆ 11           ┆ KABUPATEN ACEH TENGAH   ┆ aceh tengah   │\n",
       "│ …    ┆ …            ┆ …                       ┆ …             │\n",
       "│ 9433 ┆ 94           ┆ KABUPATEN PUNCAK        ┆ puncak        │\n",
       "│ 9434 ┆ 94           ┆ KABUPATEN DOGIYAI       ┆ dogiyai       │\n",
       "│ 9435 ┆ 94           ┆ KABUPATEN INTAN JAYA    ┆ intan jaya    │\n",
       "│ 9436 ┆ 94           ┆ KABUPATEN DEIYAI        ┆ deiyai        │\n",
       "│ 9471 ┆ 94           ┆ KOTA JAYAPURA           ┆ jayapura      │\n",
       "└──────┴──────────────┴─────────────────────────┴───────────────┘"
      ]
     },
     "execution_count": 6,
     "metadata": {},
     "output_type": "execute_result"
    }
   ],
   "source": [
    "cities_regencies"
   ]
  },
  {
   "cell_type": "code",
   "execution_count": 9,
   "id": "20dfc41b-7d5b-47cf-8531-7f4d18ec5214",
   "metadata": {},
   "outputs": [],
   "source": [
    "import pickle"
   ]
  },
  {
   "cell_type": "code",
   "execution_count": 11,
   "id": "865290ad-4603-4aa6-8431-21131c30231e",
   "metadata": {},
   "outputs": [],
   "source": [
    "indonesian_cities = cities_regencies['name_clean'].to_list()"
   ]
  },
  {
   "cell_type": "code",
   "execution_count": null,
   "id": "840265b0-8529-4a0b-a1a5-c6406d9c02c5",
   "metadata": {},
   "outputs": [],
   "source": [
    "file = open(\"data/indo_cities_list.pkl\", \"wb\")\n",
    "pickle.dump(indonesian_cities, file)\n",
    "file.close()"
   ]
  },
  {
   "cell_type": "code",
   "execution_count": 105,
   "id": "cea26e3f-dfd1-4c9b-8ca2-21cd309d1347",
   "metadata": {},
   "outputs": [],
   "source": [
    "import numpy as np\n",
    "from sklearn.feature_extraction.text import CountVectorizer\n",
    "from sklearn.metrics.pairwise import cosine_similarity"
   ]
  },
  {
   "cell_type": "code",
   "execution_count": 62,
   "id": "09105ebb-f78d-493f-b968-842161d789a1",
   "metadata": {},
   "outputs": [],
   "source": [
    "# Approach 1: Character-level n-gram embeddings\n",
    "def create_char_ngram_embeddings(cities_list, ngram_range=(2, 3)):\n",
    "    \"\"\"Create character-level n-gram embeddings for city names\"\"\"\n",
    "    # Initialize vectorizer for character n-grams\n",
    "    vectorizer = CountVectorizer(analyzer='char', ngram_range=ngram_range)\n",
    "    \n",
    "    # Fit and transform the city names\n",
    "    embeddings = vectorizer.fit_transform(cities_list)\n",
    "    \n",
    "    # Get feature names for debugging\n",
    "    feature_names = vectorizer.get_feature_names_out()\n",
    "    \n",
    "    return embeddings.toarray(), feature_names"
   ]
  },
  {
   "cell_type": "code",
   "execution_count": 63,
   "id": "31db2dcc-e0fe-40b8-8268-a48ac5ed58a0",
   "metadata": {},
   "outputs": [],
   "source": [
    "char_ngram_embeddings, ngram_features = create_char_ngram_embeddings(indonesian_cities)"
   ]
  },
  {
   "cell_type": "code",
   "execution_count": 66,
   "id": "ac638321-e36d-4295-8ede-b552056b0bac",
   "metadata": {},
   "outputs": [
    {
     "data": {
      "text/plain": [
       "(1365,)"
      ]
     },
     "execution_count": 66,
     "metadata": {},
     "output_type": "execute_result"
    }
   ],
   "source": [
    "ngram_features.shape"
   ]
  },
  {
   "cell_type": "code",
   "execution_count": 69,
   "id": "843bd3ca-0745-4f34-bde0-9df0cf9d1fc6",
   "metadata": {},
   "outputs": [],
   "source": [
    "vectorizer = CountVectorizer(analyzer='char', ngram_range=(2, 3))\n",
    "    \n",
    "# Fit and transform the city names\n",
    "embeddings = vectorizer.fit_transform(indonesian_cities)\n",
    "    \n",
    "# Get feature names for debugging\n",
    "feature_names = vectorizer.get_feature_names_out()"
   ]
  },
  {
   "cell_type": "code",
   "execution_count": 241,
   "id": "8df3c423-9b8c-4023-add6-a7fcdabe29da",
   "metadata": {},
   "outputs": [],
   "source": [
    "query_vector = vectorizer.transform([\"sudirbanyumas\", \"jakarta slt\", \"bandung\"])"
   ]
  },
  {
   "cell_type": "code",
   "execution_count": 242,
   "id": "cdd14ed2-4f98-498e-a247-6cd74b23f344",
   "metadata": {},
   "outputs": [
    {
     "data": {
      "text/plain": [
       "<3x1365 sparse matrix of type '<class 'numpy.int64'>'\n",
       "\twith 47 stored elements in Compressed Sparse Row format>"
      ]
     },
     "execution_count": 242,
     "metadata": {},
     "output_type": "execute_result"
    }
   ],
   "source": [
    "query_vector"
   ]
  },
  {
   "cell_type": "code",
   "execution_count": 243,
   "id": "d7df04c9-7df8-4302-9ab8-9f29c47cc19d",
   "metadata": {},
   "outputs": [
    {
     "name": "stdout",
     "output_type": "stream",
     "text": [
      "CPU times: user 2.25 ms, sys: 137 μs, total: 2.39 ms\n",
      "Wall time: 1.57 ms\n"
     ]
    }
   ],
   "source": [
    "%%time\n",
    "similarities = cosine_similarity(query_vector, embeddings)"
   ]
  },
  {
   "cell_type": "code",
   "execution_count": 314,
   "id": "dc8d4c7f-f2d0-422e-b0f4-b3e5ded64ea6",
   "metadata": {},
   "outputs": [
    {
     "data": {
      "text/plain": [
       "array([[0.        , 0.048795  , 0.        , ..., 0.05423261, 0.        ,\n",
       "        0.        ],\n",
       "       [0.05455447, 0.10910895, 0.0521286 , ..., 0.12126781, 0.        ,\n",
       "        0.06933752],\n",
       "       [0.06579517, 0.06579517, 0.06286946, ..., 0.07312724, 0.        ,\n",
       "        0.        ]])"
      ]
     },
     "execution_count": 314,
     "metadata": {},
     "output_type": "execute_result"
    }
   ],
   "source": [
    "similarities"
   ]
  },
  {
   "cell_type": "code",
   "execution_count": 307,
   "id": "364100cc-92c1-4650-8e2a-eabdbe3a8a16",
   "metadata": {},
   "outputs": [
    {
     "data": {
      "text/plain": [
       "(3, 1365)"
      ]
     },
     "execution_count": 307,
     "metadata": {},
     "output_type": "execute_result"
    }
   ],
   "source": [
    "query_vector.shape"
   ]
  },
  {
   "cell_type": "code",
   "execution_count": 311,
   "id": "52a32dea-49b6-4d5a-b926-e89c91fc7001",
   "metadata": {},
   "outputs": [],
   "source": [
    "max_scores = np.max(similarities, axis=1)"
   ]
  },
  {
   "cell_type": "code",
   "execution_count": 315,
   "id": "2745c88a-9aeb-4de7-bf95-ce56a3147656",
   "metadata": {},
   "outputs": [],
   "source": [
    "top_indices = np.where(similarities >= 0.3)"
   ]
  },
  {
   "cell_type": "code",
   "execution_count": 316,
   "id": "d4b13a2a-59fb-47a3-a50d-08dc9bba1563",
   "metadata": {},
   "outputs": [
    {
     "data": {
      "text/plain": [
       "(array([0, 0, 0, 0, 0, 1, 1, 1, 1, 1, 1, 1, 1, 1, 1, 1, 1, 1, 2, 2, 2, 2,\n",
       "        2, 2, 2, 2, 2, 2, 2, 2, 2, 2, 2, 2, 2, 2, 2, 2, 2, 2, 2, 2, 2, 2,\n",
       "        2, 2, 2, 2, 2, 2, 2, 2, 2, 2, 2, 2, 2, 2, 2, 2, 2, 2]),\n",
       " array([102, 103, 187, 235, 352,  32, 154, 155, 156, 157, 158, 172, 216,\n",
       "        225, 356, 368, 401, 428,  17,  18,  36,  48,  91,  92,  94, 110,\n",
       "        137, 139, 141, 142, 152, 162, 171, 175, 176, 179, 185, 202, 208,\n",
       "        210, 222, 223, 229, 235, 242, 248, 251, 264, 273, 274, 276, 277,\n",
       "        315, 343, 351, 365, 366, 381, 385, 399, 497, 504]))"
      ]
     },
     "execution_count": 316,
     "metadata": {},
     "output_type": "execute_result"
    }
   ],
   "source": [
    "top_indices"
   ]
  },
  {
   "cell_type": "code",
   "execution_count": 273,
   "id": "75558db7-b3e4-4e06-91cf-8acbb6ec4adc",
   "metadata": {},
   "outputs": [],
   "source": [
    "list_indices = [0] * query_vector.shape[0]\n",
    "for i in range(len(list_indices)):\n",
    "    indices_j = []\n",
    "    for en,j in enumerate(top_indices[0]):\n",
    "        indices_j.append(top_indices[1][en])\n",
    "    list_indices[i] = indices_j"
   ]
  },
  {
   "cell_type": "code",
   "execution_count": 276,
   "id": "ec2e602a-f8ed-4893-a70a-1c1a7c5a69ab",
   "metadata": {},
   "outputs": [],
   "source": [
    "for idx, el in enumerate(list_indices):\n",
    "    list_indices[idx] = sorted(list_indices[idx], key=lambda i: similarities[idx][i], reverse=True)[:5]"
   ]
  },
  {
   "cell_type": "code",
   "execution_count": 317,
   "id": "5a9c2e43-dea3-4e99-8603-c1d05a9e1196",
   "metadata": {},
   "outputs": [
    {
     "ename": "IndexError",
     "evalue": "index 102 is out of bounds for axis 0 with size 3",
     "output_type": "error",
     "traceback": [
      "\u001b[0;31m---------------------------------------------------------------------------\u001b[0m",
      "\u001b[0;31mIndexError\u001b[0m                                Traceback (most recent call last)",
      "Cell \u001b[0;32mIn[317], line 2\u001b[0m\n\u001b[1;32m      1\u001b[0m top_indices \u001b[38;5;241m=\u001b[39m np\u001b[38;5;241m.\u001b[39mwhere(similarities \u001b[38;5;241m>\u001b[39m\u001b[38;5;241m=\u001b[39m \u001b[38;5;241m0.3\u001b[39m)\n\u001b[0;32m----> 2\u001b[0m top_indices \u001b[38;5;241m=\u001b[39m \u001b[38;5;28;43msorted\u001b[39;49m\u001b[43m(\u001b[49m\u001b[43mtop_indices\u001b[49m\u001b[43m,\u001b[49m\u001b[43m \u001b[49m\u001b[43mkey\u001b[49m\u001b[38;5;241;43m=\u001b[39;49m\u001b[38;5;28;43;01mlambda\u001b[39;49;00m\u001b[43m \u001b[49m\u001b[43mi\u001b[49m\u001b[43m:\u001b[49m\u001b[43m \u001b[49m\u001b[43msimilarities\u001b[49m\u001b[43m[\u001b[49m\u001b[43mi\u001b[49m\u001b[43m]\u001b[49m\u001b[43m,\u001b[49m\u001b[43m \u001b[49m\u001b[43mreverse\u001b[49m\u001b[38;5;241;43m=\u001b[39;49m\u001b[38;5;28;43;01mTrue\u001b[39;49;00m\u001b[43m)\u001b[49m[:\u001b[38;5;241m5\u001b[39m]\n\u001b[1;32m      3\u001b[0m top_indices\n",
      "Cell \u001b[0;32mIn[317], line 2\u001b[0m, in \u001b[0;36m<lambda>\u001b[0;34m(i)\u001b[0m\n\u001b[1;32m      1\u001b[0m top_indices \u001b[38;5;241m=\u001b[39m np\u001b[38;5;241m.\u001b[39mwhere(similarities \u001b[38;5;241m>\u001b[39m\u001b[38;5;241m=\u001b[39m \u001b[38;5;241m0.3\u001b[39m)\n\u001b[0;32m----> 2\u001b[0m top_indices \u001b[38;5;241m=\u001b[39m \u001b[38;5;28msorted\u001b[39m(top_indices, key\u001b[38;5;241m=\u001b[39m\u001b[38;5;28;01mlambda\u001b[39;00m i: \u001b[43msimilarities\u001b[49m\u001b[43m[\u001b[49m\u001b[43mi\u001b[49m\u001b[43m]\u001b[49m, reverse\u001b[38;5;241m=\u001b[39m\u001b[38;5;28;01mTrue\u001b[39;00m)[:\u001b[38;5;241m5\u001b[39m]\n\u001b[1;32m      3\u001b[0m top_indices\n",
      "\u001b[0;31mIndexError\u001b[0m: index 102 is out of bounds for axis 0 with size 3"
     ]
    }
   ],
   "source": [
    "top_indices = np.where(similarities >= 0.3)\n",
    "top_indices = sorted(top_indices, key=lambda i: similarities[i], reverse=True)[:5]\n",
    "top_indices"
   ]
  },
  {
   "cell_type": "code",
   "execution_count": 189,
   "id": "9c50217b-2992-441a-a16d-410d6ea92ba3",
   "metadata": {},
   "outputs": [
    {
     "data": {
      "text/plain": [
       "['banyumas', 'banyu asin', 'banyuwangi', 'musi banyuasin', 'banjarmasin']"
      ]
     },
     "execution_count": 189,
     "metadata": {},
     "output_type": "execute_result"
    }
   ],
   "source": [
    "[indonesian_cities[x] for x in top_indices]"
   ]
  },
  {
   "cell_type": "code",
   "execution_count": 337,
   "id": "d1f04b3a-820c-44af-b21c-1ccd80af2d1a",
   "metadata": {},
   "outputs": [],
   "source": [
    "class NGramFuzzyMatcher:\n",
    "    def __init__(self, reference_list, ngram_range=(2, 3)):\n",
    "        self.vectorizer = CountVectorizer(analyzer='char', ngram_range=ngram_range)\n",
    "        self.embeddings = self.vectorizer.fit_transform(reference_list)\n",
    "        self.feature_names = self.vectorizer.get_feature_names_out()\n",
    "        self.reference_list = reference_list\n",
    "        \n",
    "    def query(self, query, top_n = 1, threshold = 0.5):\n",
    "        query_vector = self.vectorizer.transform([query])\n",
    "        similarities = cosine_similarity(query_vector, self.embeddings)[0]\n",
    "        top_indices = np.where(similarities >= threshold)[0]\n",
    "        top_indices = sorted(top_indices, key=lambda i: similarities[i], reverse=True)[:top_n]\n",
    "        return [self.reference_list[x] for x in top_indices]\n",
    "\n",
    "    def batch_query(self, query, top_n = 1, threshold = 0.5):\n",
    "        query_vector = self.vectorizer.transform(query)\n",
    "        similarities = cosine_similarity(query_vector, self.embeddings)\n",
    "        top_indices = np.where(similarities >= threshold)\n",
    "        \n",
    "        list_indices = [0] * query_vector.shape[0]\n",
    "        \n",
    "        for i in range(len(list_indices)):\n",
    "            indices_j = []\n",
    "            for j in range(len(top_indices[0])):\n",
    "                indices_j.append(top_indices[1][j])\n",
    "                \n",
    "            list_indices[i] = [self.reference_list[x] for x in sorted(indices_j, key=lambda n: similarities[i][n], reverse=True)[:top_n]]\n",
    "\n",
    "        # for idx in range(len(list_indices)):\n",
    "        #     list_indices[idx] = sorted(list_indices[idx], key=lambda i: similarities[idx][i], reverse=True)[:top_n]\n",
    "\n",
    "        # for idx in range(len(list_indices)):\n",
    "        #     list_indices[idx] = [self.reference_list[x] for x in list_indices[idx]]\n",
    "        return list_indices\n",
    "        "
   ]
  },
  {
   "cell_type": "code",
   "execution_count": 338,
   "id": "2cb27b91-edb3-45d5-b858-63f74909b271",
   "metadata": {},
   "outputs": [],
   "source": [
    "matcher = NGramFuzzyMatcher(indonesian_cities, ngram_range=(1,3))"
   ]
  },
  {
   "cell_type": "code",
   "execution_count": 320,
   "id": "d28e400c-2cd3-4dfa-919b-96450ab8195b",
   "metadata": {},
   "outputs": [
    {
     "data": {
      "text/plain": [
       "['jakarta selatan', 'seluma', 'solok selatan']"
      ]
     },
     "execution_count": 320,
     "metadata": {},
     "output_type": "execute_result"
    }
   ],
   "source": [
    "matcher.query(\"jaksel\", top_n = 3, threshold = 0.4)"
   ]
  },
  {
   "cell_type": "code",
   "execution_count": 341,
   "id": "7c890259-1c96-4901-b7f6-e23cb6b3ba0c",
   "metadata": {},
   "outputs": [
    {
     "name": "stdout",
     "output_type": "stream",
     "text": [
      "CPU times: user 0 ns, sys: 2.36 ms, total: 2.36 ms\n",
      "Wall time: 1.71 ms\n"
     ]
    },
    {
     "data": {
      "text/plain": [
       "[['jakarta selatan', 'jakarta utara', 'jakarta barat'],\n",
       " ['banyumas', 'banyuwangi', 'banyu asin'],\n",
       " ['denpasar', 'pasaman', 'pasaman barat']]"
      ]
     },
     "execution_count": 341,
     "metadata": {},
     "output_type": "execute_result"
    }
   ],
   "source": [
    "%%time\n",
    "matcher.batch_query([\"jakarta sltn\", \"banyuma\", \"denpasar\"], top_n = 3, threshold = 0.5)"
   ]
  },
  {
   "cell_type": "code",
   "execution_count": 343,
   "id": "9d5b2358-38c6-4d68-95a8-b924370799b5",
   "metadata": {},
   "outputs": [],
   "source": [
    "import pickle"
   ]
  },
  {
   "cell_type": "code",
   "execution_count": 345,
   "id": "6965025b-0fd5-41f0-961c-cea799743376",
   "metadata": {},
   "outputs": [],
   "source": [
    "file = open('data/ngram_fuzzy_matcher_class.pkl', 'wb')\n",
    "pickle.dump(matcher, file)\n",
    "file.close()"
   ]
  },
  {
   "cell_type": "code",
   "execution_count": 348,
   "id": "53123587-2f88-4d12-8897-2f306257b347",
   "metadata": {},
   "outputs": [],
   "source": [
    "file = open('data/ngram_fuzzy_matcher_class.pkl', 'rb')\n",
    "x = pickle.load(file)\n",
    "file.close()"
   ]
  },
  {
   "cell_type": "code",
   "execution_count": null,
   "id": "9ab06bf9-4441-4778-9b0f-bd195420e38b",
   "metadata": {},
   "outputs": [],
   "source": []
  }
 ],
 "metadata": {
  "kernelspec": {
   "display_name": "Python 3 (ipykernel)",
   "language": "python",
   "name": "python3"
  },
  "language_info": {
   "codemirror_mode": {
    "name": "ipython",
    "version": 3
   },
   "file_extension": ".py",
   "mimetype": "text/x-python",
   "name": "python",
   "nbconvert_exporter": "python",
   "pygments_lexer": "ipython3",
   "version": "3.11.2"
  }
 },
 "nbformat": 4,
 "nbformat_minor": 5
}
