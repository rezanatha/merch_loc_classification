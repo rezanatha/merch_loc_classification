{
 "cells": [
  {
   "cell_type": "code",
   "execution_count": 179,
   "id": "d0ff48a4-db0e-4e5f-b8c0-8b6cfee5f4fb",
   "metadata": {},
   "outputs": [],
   "source": [
    "import spacy\n",
    "import re\n",
    "import polars as pl\n",
    "# Load the saved model\n",
    "loaded_nlp = spacy.load(\"model/indonesian_location_ner_model\")"
   ]
  },
  {
   "cell_type": "code",
   "execution_count": 180,
   "id": "b8783ab5-92fd-4b92-8775-9ca009bc1c67",
   "metadata": {},
   "outputs": [
    {
     "name": "stdout",
     "output_type": "stream",
     "text": [
      "ID: jakarta slt - LOC\n"
     ]
    }
   ],
   "source": [
    "# Test on some text\n",
    "def clean_merchant_name(text):\n",
    "    remainder = text\n",
    "    # last two characters are country id\n",
    "    country_id = remainder[len(text)-2] + remainder[len(text)-1]\n",
    "    remainder = text[:len(text)-2].lower()\n",
    "\n",
    "    return country_id, re.sub(r'[^a-zA-Z0-9\\s]','',remainder).strip()\n",
    "\n",
    "text = \"DIAN KENANGA TOTOK AURA JAKARTA SLT ID\"\n",
    "country_id, text_clean = clean_merchant_name(text)\n",
    "doc = loaded_nlp(text_clean)\n",
    "\n",
    "# Print entities\n",
    "for ent in doc.ents:\n",
    "    print(f\"{country_id}: {ent.text} - {ent.label_}\")\n",
    "\n"
   ]
  },
  {
   "cell_type": "code",
   "execution_count": 181,
   "id": "f3f124e6-49a4-47ca-a44b-eb2408ffbf8d",
   "metadata": {},
   "outputs": [
    {
     "name": "stdout",
     "output_type": "stream",
     "text": [
      "('jakarta slt', [(0.808, 'jakarta selatan', 'aba'), (0.8, 'jakarta selatan', 'cba'), (0.707, 'jakarta pusat', 'aba'), (0.7, 'jakarta pusat', 'cba'), (0.6666666666666666, 'jakarta barat', 'cba'), (0.6666666666666666, 'jakarta utara', 'cba'), (0.625, 'takalar', 'cba'), (0.625, 'takalar', 'cba'), (0.6, 'kolaka utara', 'cba')])\n",
      "Augmented: jakarta selatan\n"
     ]
    }
   ],
   "source": [
    "# text augmentation\n",
    "import pickle\n",
    "file = open('data/city_dictionary.pkl', 'rb')\n",
    "city_dictionary = pickle.load(file)\n",
    "file.close()\n",
    "\n",
    "def jaccard_similarity(ngrams1, ngrams2):\n",
    "    _ngrams1 = set(ngrams1)\n",
    "    _ngrams2 = set(ngrams2)\n",
    "\n",
    "    intersection = len(_ngrams1.intersection(_ngrams2))\n",
    "    union = len(_ngrams1.union(_ngrams2))\n",
    "\n",
    "    return intersection / union\n",
    "\n",
    "def enhance_location_from_dict(row, cba_threshold = 0.6, threshold = 0.8, all_text_threshold = 0.7):\n",
    "    if row is None or len(row) == 0:\n",
    "        return None\n",
    "\n",
    "    # SPECIAL CASE: BADUNG & BANDUNG\n",
    "    if re.search(r'(bandung\\s?barat)', row):\n",
    "        return row, [(1.1, 'bandung barat')]\n",
    "    if re.search(r'(bdg\\s?barat)', row):\n",
    "        return row, [(1.1, 'bdg barat')]\n",
    "    if re.search(r'bandung', row):\n",
    "        return row, [(1.1, 'bandung')]\n",
    "    if re.search(r'(bdg)', row):\n",
    "        return row, [(1.1, 'bdg')]\n",
    "    if re.search(r'badung', row):\n",
    "        return row, [(1.1, 'badung')]\n",
    "\n",
    "    #char by all\n",
    "    match = []\n",
    "    for loc_char in row:\n",
    "        if loc_char not in city_dictionary['full_text']:\n",
    "            continue\n",
    "\n",
    "        for possible_loc in city_dictionary['full_text'][loc_char]:\n",
    "            score = jaccard_similarity(possible_loc, row)\n",
    "            if possible_loc in row:\n",
    "                score += 0.01\n",
    "\n",
    "            if score >= cba_threshold:\n",
    "                match.append((score, possible_loc, 'cba'))\n",
    "\n",
    "    # word by word\n",
    "\n",
    "    for loc_word in row.split(\" \"):\n",
    "        if len(loc_word) == 0:\n",
    "            continue\n",
    "        if loc_word[0] not in city_dictionary['full_text']:\n",
    "            continue\n",
    "\n",
    "        for possible_loc in city_dictionary['full_text'][loc_word[0]]:\n",
    "            score = jaccard_similarity(possible_loc, loc_word)\n",
    "            if possible_loc in loc_word:\n",
    "                score += 0.01\n",
    "\n",
    "            if score >= threshold:\n",
    "                match.append((score,possible_loc, 'wbw')) # change loc_word to possible_loc for full enhancement\n",
    "    # all by all\n",
    "    if row[0] in city_dictionary['full_text']:\n",
    "        for possible_loc in city_dictionary['full_text'][row[0]]:\n",
    "            score = jaccard_similarity(possible_loc, row)\n",
    "            if score >= all_text_threshold:\n",
    "                match.append((1.01*score, possible_loc ,'aba')) # change row to possible_loc for full enhancement\n",
    "\n",
    "    return row, sorted(match, key=lambda x: x[0], reverse=True)\n",
    "\n",
    "def extract_enhanced_location(row):\n",
    "    enhanced = enhance_location_from_dict(row)\n",
    "    print(enhanced)\n",
    "\n",
    "    if len(enhanced[1]) == 0:\n",
    "        return None\n",
    "    if len(enhanced[1][0]) == 0:\n",
    "        return None\n",
    "\n",
    "    return enhanced[1][0][1]\n",
    "\n",
    "# Print entities\n",
    "for ent in doc.ents:\n",
    "    if ent.label_== \"LOC\":\n",
    "        print(\"Augmented:\", extract_enhanced_location(ent.text))\n"
   ]
  },
  {
   "cell_type": "markdown",
   "id": "92e5e863-523a-4d02-a316-bc84fc0caafd",
   "metadata": {},
   "source": [
    "# location dict"
   ]
  },
  {
   "cell_type": "code",
   "execution_count": 21,
   "id": "4447edef-42f8-41fc-8c1e-8d15fc6ec832",
   "metadata": {},
   "outputs": [],
   "source": [
    "cities_regencies = pl.read_csv('data/regencies.csv', new_columns=['id', 'id_provinces', 'name'])"
   ]
  },
  {
   "cell_type": "code",
   "execution_count": 22,
   "id": "40fe6abf-ce68-4b58-9eac-f329364e3066",
   "metadata": {},
   "outputs": [
    {
     "data": {
      "text/html": [
       "<div><style>\n",
       ".dataframe > thead > tr,\n",
       ".dataframe > tbody > tr {\n",
       "  text-align: right;\n",
       "  white-space: pre-wrap;\n",
       "}\n",
       "</style>\n",
       "<small>shape: (513, 3)</small><table border=\"1\" class=\"dataframe\"><thead><tr><th>id</th><th>id_provinces</th><th>name</th></tr><tr><td>i64</td><td>i64</td><td>str</td></tr></thead><tbody><tr><td>1102</td><td>11</td><td>&quot;KABUPATEN ACEH SINGKIL&quot;</td></tr><tr><td>1103</td><td>11</td><td>&quot;KABUPATEN ACEH SELATAN&quot;</td></tr><tr><td>1104</td><td>11</td><td>&quot;KABUPATEN ACEH TENGGARA&quot;</td></tr><tr><td>1105</td><td>11</td><td>&quot;KABUPATEN ACEH TIMUR&quot;</td></tr><tr><td>1106</td><td>11</td><td>&quot;KABUPATEN ACEH TENGAH&quot;</td></tr><tr><td>&hellip;</td><td>&hellip;</td><td>&hellip;</td></tr><tr><td>9433</td><td>94</td><td>&quot;KABUPATEN PUNCAK&quot;</td></tr><tr><td>9434</td><td>94</td><td>&quot;KABUPATEN DOGIYAI&quot;</td></tr><tr><td>9435</td><td>94</td><td>&quot;KABUPATEN INTAN JAYA&quot;</td></tr><tr><td>9436</td><td>94</td><td>&quot;KABUPATEN DEIYAI&quot;</td></tr><tr><td>9471</td><td>94</td><td>&quot;KOTA JAYAPURA&quot;</td></tr></tbody></table></div>"
      ],
      "text/plain": [
       "shape: (513, 3)\n",
       "┌──────┬──────────────┬─────────────────────────┐\n",
       "│ id   ┆ id_provinces ┆ name                    │\n",
       "│ ---  ┆ ---          ┆ ---                     │\n",
       "│ i64  ┆ i64          ┆ str                     │\n",
       "╞══════╪══════════════╪═════════════════════════╡\n",
       "│ 1102 ┆ 11           ┆ KABUPATEN ACEH SINGKIL  │\n",
       "│ 1103 ┆ 11           ┆ KABUPATEN ACEH SELATAN  │\n",
       "│ 1104 ┆ 11           ┆ KABUPATEN ACEH TENGGARA │\n",
       "│ 1105 ┆ 11           ┆ KABUPATEN ACEH TIMUR    │\n",
       "│ 1106 ┆ 11           ┆ KABUPATEN ACEH TENGAH   │\n",
       "│ …    ┆ …            ┆ …                       │\n",
       "│ 9433 ┆ 94           ┆ KABUPATEN PUNCAK        │\n",
       "│ 9434 ┆ 94           ┆ KABUPATEN DOGIYAI       │\n",
       "│ 9435 ┆ 94           ┆ KABUPATEN INTAN JAYA    │\n",
       "│ 9436 ┆ 94           ┆ KABUPATEN DEIYAI        │\n",
       "│ 9471 ┆ 94           ┆ KOTA JAYAPURA           │\n",
       "└──────┴──────────────┴─────────────────────────┘"
      ]
     },
     "execution_count": 22,
     "metadata": {},
     "output_type": "execute_result"
    }
   ],
   "source": [
    "cities_regencies"
   ]
  },
  {
   "cell_type": "code",
   "execution_count": 23,
   "id": "dc5d1b42-bcb7-41c9-849e-de4ffd16f961",
   "metadata": {},
   "outputs": [],
   "source": [
    "# ngram\n",
    "def get_word_ngram(text, n):\n",
    "    words = text.split()\n",
    "    if len(words) < n:\n",
    "        return []\n",
    "        \n",
    "    return [tuple(words[i:i+n]) for i in range(len(words) - n + 1)]\n",
    "\n",
    "def get_word_ngram_from_list(wordlist, n):\n",
    "    if len(wordlist) < n:\n",
    "        return []\n",
    "        \n",
    "    return [tuple(wordlist[i:i+n]) for i in range(len(wordlist) - n + 1)]\n",
    "\n",
    "def get_char_ngrams(text, n):\n",
    "    \"\"\"Generate character n-grams from text.\"\"\"\n",
    "    # Convert text to lowercase and remove spaces for character-level comparison\n",
    "    text = text.lower().replace(\" \", \"\")\n",
    "    return [text[i:i+n] for i in range(len(text) - n + 1)]"
   ]
  },
  {
   "cell_type": "code",
   "execution_count": 58,
   "id": "032c1a76-371f-458a-b2b4-fb46a391f28b",
   "metadata": {},
   "outputs": [],
   "source": [
    "cities_regencies = cities_regencies.with_columns(\n",
    "    pl.col('name').str.replace(r'(KABUPATEN|KOTA)','').str.to_lowercase().str.strip_chars().alias('name_clean')\n",
    ")"
   ]
  },
  {
   "cell_type": "code",
   "execution_count": 59,
   "id": "0d4a2f55-e8f4-4940-a09c-790a30943266",
   "metadata": {},
   "outputs": [
    {
     "data": {
      "text/html": [
       "<div><style>\n",
       ".dataframe > thead > tr,\n",
       ".dataframe > tbody > tr {\n",
       "  text-align: right;\n",
       "  white-space: pre-wrap;\n",
       "}\n",
       "</style>\n",
       "<small>shape: (513, 7)</small><table border=\"1\" class=\"dataframe\"><thead><tr><th>id</th><th>id_provinces</th><th>name</th><th>name_clean</th><th>unigram</th><th>bigram</th><th>trigram</th></tr><tr><td>i64</td><td>i64</td><td>str</td><td>str</td><td>object</td><td>object</td><td>object</td></tr></thead><tbody><tr><td>1102</td><td>11</td><td>&quot;KABUPATEN ACEH SINGKIL&quot;</td><td>&quot;aceh singkil&quot;</td><td>[&#x27;a&#x27;, &#x27;c&#x27;, &#x27;e&#x27;, &#x27;h&#x27;, &#x27;s&#x27;, &#x27;i&#x27;, &#x27;n&#x27;, &#x27;g&#x27;, &#x27;k&#x27;, &#x27;i&#x27;, &#x27;l&#x27;]</td><td>[&#x27;ac&#x27;, &#x27;ce&#x27;, &#x27;eh&#x27;, &#x27;hs&#x27;, &#x27;si&#x27;, &#x27;in&#x27;, &#x27;ng&#x27;, &#x27;gk&#x27;, &#x27;ki&#x27;, &#x27;il&#x27;]</td><td>[&#x27;ace&#x27;, &#x27;ceh&#x27;, &#x27;ehs&#x27;, &#x27;hsi&#x27;, &#x27;sin&#x27;, &#x27;ing&#x27;, &#x27;ngk&#x27;, &#x27;gki&#x27;, &#x27;kil&#x27;]</td></tr><tr><td>1103</td><td>11</td><td>&quot;KABUPATEN ACEH SELATAN&quot;</td><td>&quot;aceh selatan&quot;</td><td>[&#x27;a&#x27;, &#x27;c&#x27;, &#x27;e&#x27;, &#x27;h&#x27;, &#x27;s&#x27;, &#x27;e&#x27;, &#x27;l&#x27;, &#x27;a&#x27;, &#x27;t&#x27;, &#x27;a&#x27;, &#x27;n&#x27;]</td><td>[&#x27;ac&#x27;, &#x27;ce&#x27;, &#x27;eh&#x27;, &#x27;hs&#x27;, &#x27;se&#x27;, &#x27;el&#x27;, &#x27;la&#x27;, &#x27;at&#x27;, &#x27;ta&#x27;, &#x27;an&#x27;]</td><td>[&#x27;ace&#x27;, &#x27;ceh&#x27;, &#x27;ehs&#x27;, &#x27;hse&#x27;, &#x27;sel&#x27;, &#x27;ela&#x27;, &#x27;lat&#x27;, &#x27;ata&#x27;, &#x27;tan&#x27;]</td></tr><tr><td>1104</td><td>11</td><td>&quot;KABUPATEN ACEH TENGGARA&quot;</td><td>&quot;aceh tenggara&quot;</td><td>[&#x27;a&#x27;, &#x27;c&#x27;, &#x27;e&#x27;, &#x27;h&#x27;, &#x27;t&#x27;, &#x27;e&#x27;, &#x27;n&#x27;, &#x27;g&#x27;, &#x27;g&#x27;, &#x27;a&#x27;, &#x27;r&#x27;, &#x27;a&#x27;]</td><td>[&#x27;ac&#x27;, &#x27;ce&#x27;, &#x27;eh&#x27;, &#x27;ht&#x27;, &#x27;te&#x27;, &#x27;en&#x27;, &#x27;ng&#x27;, &#x27;gg&#x27;, &#x27;ga&#x27;, &#x27;ar&#x27;, &#x27;ra&#x27;]</td><td>[&#x27;ace&#x27;, &#x27;ceh&#x27;, &#x27;eht&#x27;, &#x27;hte&#x27;, &#x27;ten&#x27;, &#x27;eng&#x27;, &#x27;ngg&#x27;, &#x27;gga&#x27;, &#x27;gar&#x27;, &#x27;ara&#x27;]</td></tr><tr><td>1105</td><td>11</td><td>&quot;KABUPATEN ACEH TIMUR&quot;</td><td>&quot;aceh timur&quot;</td><td>[&#x27;a&#x27;, &#x27;c&#x27;, &#x27;e&#x27;, &#x27;h&#x27;, &#x27;t&#x27;, &#x27;i&#x27;, &#x27;m&#x27;, &#x27;u&#x27;, &#x27;r&#x27;]</td><td>[&#x27;ac&#x27;, &#x27;ce&#x27;, &#x27;eh&#x27;, &#x27;ht&#x27;, &#x27;ti&#x27;, &#x27;im&#x27;, &#x27;mu&#x27;, &#x27;ur&#x27;]</td><td>[&#x27;ace&#x27;, &#x27;ceh&#x27;, &#x27;eht&#x27;, &#x27;hti&#x27;, &#x27;tim&#x27;, &#x27;imu&#x27;, &#x27;mur&#x27;]</td></tr><tr><td>1106</td><td>11</td><td>&quot;KABUPATEN ACEH TENGAH&quot;</td><td>&quot;aceh tengah&quot;</td><td>[&#x27;a&#x27;, &#x27;c&#x27;, &#x27;e&#x27;, &#x27;h&#x27;, &#x27;t&#x27;, &#x27;e&#x27;, &#x27;n&#x27;, &#x27;g&#x27;, &#x27;a&#x27;, &#x27;h&#x27;]</td><td>[&#x27;ac&#x27;, &#x27;ce&#x27;, &#x27;eh&#x27;, &#x27;ht&#x27;, &#x27;te&#x27;, &#x27;en&#x27;, &#x27;ng&#x27;, &#x27;ga&#x27;, &#x27;ah&#x27;]</td><td>[&#x27;ace&#x27;, &#x27;ceh&#x27;, &#x27;eht&#x27;, &#x27;hte&#x27;, &#x27;ten&#x27;, &#x27;eng&#x27;, &#x27;nga&#x27;, &#x27;gah&#x27;]</td></tr><tr><td>&hellip;</td><td>&hellip;</td><td>&hellip;</td><td>&hellip;</td><td>&hellip;</td><td>&hellip;</td><td>&hellip;</td></tr><tr><td>9433</td><td>94</td><td>&quot;KABUPATEN PUNCAK&quot;</td><td>&quot;puncak&quot;</td><td>[&#x27;p&#x27;, &#x27;u&#x27;, &#x27;n&#x27;, &#x27;c&#x27;, &#x27;a&#x27;, &#x27;k&#x27;]</td><td>[&#x27;pu&#x27;, &#x27;un&#x27;, &#x27;nc&#x27;, &#x27;ca&#x27;, &#x27;ak&#x27;]</td><td>[&#x27;pun&#x27;, &#x27;unc&#x27;, &#x27;nca&#x27;, &#x27;cak&#x27;]</td></tr><tr><td>9434</td><td>94</td><td>&quot;KABUPATEN DOGIYAI&quot;</td><td>&quot;dogiyai&quot;</td><td>[&#x27;d&#x27;, &#x27;o&#x27;, &#x27;g&#x27;, &#x27;i&#x27;, &#x27;y&#x27;, &#x27;a&#x27;, &#x27;i&#x27;]</td><td>[&#x27;do&#x27;, &#x27;og&#x27;, &#x27;gi&#x27;, &#x27;iy&#x27;, &#x27;ya&#x27;, &#x27;ai&#x27;]</td><td>[&#x27;dog&#x27;, &#x27;ogi&#x27;, &#x27;giy&#x27;, &#x27;iya&#x27;, &#x27;yai&#x27;]</td></tr><tr><td>9435</td><td>94</td><td>&quot;KABUPATEN INTAN JAYA&quot;</td><td>&quot;intan jaya&quot;</td><td>[&#x27;i&#x27;, &#x27;n&#x27;, &#x27;t&#x27;, &#x27;a&#x27;, &#x27;n&#x27;, &#x27;j&#x27;, &#x27;a&#x27;, &#x27;y&#x27;, &#x27;a&#x27;]</td><td>[&#x27;in&#x27;, &#x27;nt&#x27;, &#x27;ta&#x27;, &#x27;an&#x27;, &#x27;nj&#x27;, &#x27;ja&#x27;, &#x27;ay&#x27;, &#x27;ya&#x27;]</td><td>[&#x27;int&#x27;, &#x27;nta&#x27;, &#x27;tan&#x27;, &#x27;anj&#x27;, &#x27;nja&#x27;, &#x27;jay&#x27;, &#x27;aya&#x27;]</td></tr><tr><td>9436</td><td>94</td><td>&quot;KABUPATEN DEIYAI&quot;</td><td>&quot;deiyai&quot;</td><td>[&#x27;d&#x27;, &#x27;e&#x27;, &#x27;i&#x27;, &#x27;y&#x27;, &#x27;a&#x27;, &#x27;i&#x27;]</td><td>[&#x27;de&#x27;, &#x27;ei&#x27;, &#x27;iy&#x27;, &#x27;ya&#x27;, &#x27;ai&#x27;]</td><td>[&#x27;dei&#x27;, &#x27;eiy&#x27;, &#x27;iya&#x27;, &#x27;yai&#x27;]</td></tr><tr><td>9471</td><td>94</td><td>&quot;KOTA JAYAPURA&quot;</td><td>&quot;jayapura&quot;</td><td>[&#x27;j&#x27;, &#x27;a&#x27;, &#x27;y&#x27;, &#x27;a&#x27;, &#x27;p&#x27;, &#x27;u&#x27;, &#x27;r&#x27;, &#x27;a&#x27;]</td><td>[&#x27;ja&#x27;, &#x27;ay&#x27;, &#x27;ya&#x27;, &#x27;ap&#x27;, &#x27;pu&#x27;, &#x27;ur&#x27;, &#x27;ra&#x27;]</td><td>[&#x27;jay&#x27;, &#x27;aya&#x27;, &#x27;yap&#x27;, &#x27;apu&#x27;, &#x27;pur&#x27;, &#x27;ura&#x27;]</td></tr></tbody></table></div>"
      ],
      "text/plain": [
       "shape: (513, 7)\n",
       "┌──────┬──────────────┬─────────────────┬────────────────┬────────────┬────────────────┬───────────┐\n",
       "│ id   ┆ id_provinces ┆ name            ┆ name_clean     ┆ unigram    ┆ bigram         ┆ trigram   │\n",
       "│ ---  ┆ ---          ┆ ---             ┆ ---            ┆ ---        ┆ ---            ┆ ---       │\n",
       "│ i64  ┆ i64          ┆ str             ┆ str            ┆ object     ┆ object         ┆ object    │\n",
       "╞══════╪══════════════╪═════════════════╪════════════════╪════════════╪════════════════╪═══════════╡\n",
       "│ 1102 ┆ 11           ┆ KABUPATEN ACEH  ┆ aceh singkil   ┆ ['a', 'c', ┆ ['ac', 'ce',   ┆ ['ace',   │\n",
       "│      ┆              ┆ SINGKIL         ┆                ┆ 'e', 'h',  ┆ 'eh', 'hs',    ┆ 'ceh',    │\n",
       "│      ┆              ┆                 ┆                ┆ 's', 'i',… ┆ 'si',…         ┆ 'ehs',    │\n",
       "│      ┆              ┆                 ┆                ┆            ┆                ┆ 'hsi', '… │\n",
       "│ 1103 ┆ 11           ┆ KABUPATEN ACEH  ┆ aceh selatan   ┆ ['a', 'c', ┆ ['ac', 'ce',   ┆ ['ace',   │\n",
       "│      ┆              ┆ SELATAN         ┆                ┆ 'e', 'h',  ┆ 'eh', 'hs',    ┆ 'ceh',    │\n",
       "│      ┆              ┆                 ┆                ┆ 's', 'e',… ┆ 'se',…         ┆ 'ehs',    │\n",
       "│      ┆              ┆                 ┆                ┆            ┆                ┆ 'hse', '… │\n",
       "│ 1104 ┆ 11           ┆ KABUPATEN ACEH  ┆ aceh tenggara  ┆ ['a', 'c', ┆ ['ac', 'ce',   ┆ ['ace',   │\n",
       "│      ┆              ┆ TENGGARA        ┆                ┆ 'e', 'h',  ┆ 'eh', 'ht',    ┆ 'ceh',    │\n",
       "│      ┆              ┆                 ┆                ┆ 't', 'e',… ┆ 'te',…         ┆ 'eht',    │\n",
       "│      ┆              ┆                 ┆                ┆            ┆                ┆ 'hte', '… │\n",
       "│ 1105 ┆ 11           ┆ KABUPATEN ACEH  ┆ aceh timur     ┆ ['a', 'c', ┆ ['ac', 'ce',   ┆ ['ace',   │\n",
       "│      ┆              ┆ TIMUR           ┆                ┆ 'e', 'h',  ┆ 'eh', 'ht',    ┆ 'ceh',    │\n",
       "│      ┆              ┆                 ┆                ┆ 't', 'i',… ┆ 'ti',…         ┆ 'eht',    │\n",
       "│      ┆              ┆                 ┆                ┆            ┆                ┆ 'hti', '… │\n",
       "│ 1106 ┆ 11           ┆ KABUPATEN ACEH  ┆ aceh tengah    ┆ ['a', 'c', ┆ ['ac', 'ce',   ┆ ['ace',   │\n",
       "│      ┆              ┆ TENGAH          ┆                ┆ 'e', 'h',  ┆ 'eh', 'ht',    ┆ 'ceh',    │\n",
       "│      ┆              ┆                 ┆                ┆ 't', 'e',… ┆ 'te',…         ┆ 'eht',    │\n",
       "│      ┆              ┆                 ┆                ┆            ┆                ┆ 'hte', '… │\n",
       "│ …    ┆ …            ┆ …               ┆ …              ┆ …          ┆ …              ┆ …         │\n",
       "│ 9433 ┆ 94           ┆ KABUPATEN       ┆ puncak         ┆ ['p', 'u', ┆ ['pu', 'un',   ┆ ['pun',   │\n",
       "│      ┆              ┆ PUNCAK          ┆                ┆ 'n', 'c',  ┆ 'nc', 'ca',    ┆ 'unc',    │\n",
       "│      ┆              ┆                 ┆                ┆ 'a', 'k']  ┆ 'ak']          ┆ 'nca',    │\n",
       "│      ┆              ┆                 ┆                ┆            ┆                ┆ 'cak']    │\n",
       "│ 9434 ┆ 94           ┆ KABUPATEN       ┆ dogiyai        ┆ ['d', 'o', ┆ ['do', 'og',   ┆ ['dog',   │\n",
       "│      ┆              ┆ DOGIYAI         ┆                ┆ 'g', 'i',  ┆ 'gi', 'iy',    ┆ 'ogi',    │\n",
       "│      ┆              ┆                 ┆                ┆ 'y', 'a',… ┆ 'ya',…         ┆ 'giy',    │\n",
       "│      ┆              ┆                 ┆                ┆            ┆                ┆ 'iya', '… │\n",
       "│ 9435 ┆ 94           ┆ KABUPATEN INTAN ┆ intan jaya     ┆ ['i', 'n', ┆ ['in', 'nt',   ┆ ['int',   │\n",
       "│      ┆              ┆ JAYA            ┆                ┆ 't', 'a',  ┆ 'ta', 'an',    ┆ 'nta',    │\n",
       "│      ┆              ┆                 ┆                ┆ 'n', 'j',… ┆ 'nj',…         ┆ 'tan',    │\n",
       "│      ┆              ┆                 ┆                ┆            ┆                ┆ 'anj', '… │\n",
       "│ 9436 ┆ 94           ┆ KABUPATEN       ┆ deiyai         ┆ ['d', 'e', ┆ ['de', 'ei',   ┆ ['dei',   │\n",
       "│      ┆              ┆ DEIYAI          ┆                ┆ 'i', 'y',  ┆ 'iy', 'ya',    ┆ 'eiy',    │\n",
       "│      ┆              ┆                 ┆                ┆ 'a', 'i']  ┆ 'ai']          ┆ 'iya',    │\n",
       "│      ┆              ┆                 ┆                ┆            ┆                ┆ 'yai']    │\n",
       "│ 9471 ┆ 94           ┆ KOTA JAYAPURA   ┆ jayapura       ┆ ['j', 'a', ┆ ['ja', 'ay',   ┆ ['jay',   │\n",
       "│      ┆              ┆                 ┆                ┆ 'y', 'a',  ┆ 'ya', 'ap',    ┆ 'aya',    │\n",
       "│      ┆              ┆                 ┆                ┆ 'p', 'u',… ┆ 'pu',…         ┆ 'yap',    │\n",
       "│      ┆              ┆                 ┆                ┆            ┆                ┆ 'apu', '… │\n",
       "└──────┴──────────────┴─────────────────┴────────────────┴────────────┴────────────────┴───────────┘"
      ]
     },
     "execution_count": 59,
     "metadata": {},
     "output_type": "execute_result"
    }
   ],
   "source": [
    "cities_regencies"
   ]
  },
  {
   "cell_type": "code",
   "execution_count": 60,
   "id": "865290ad-4603-4aa6-8431-21131c30231e",
   "metadata": {},
   "outputs": [],
   "source": [
    "indonesian_cities = cities_regencies['name_clean'].to_list()"
   ]
  },
  {
   "cell_type": "code",
   "execution_count": 105,
   "id": "cea26e3f-dfd1-4c9b-8ca2-21cd309d1347",
   "metadata": {},
   "outputs": [],
   "source": [
    "import numpy as np\n",
    "from sklearn.feature_extraction.text import CountVectorizer\n",
    "from sklearn.metrics.pairwise import cosine_similarity"
   ]
  },
  {
   "cell_type": "code",
   "execution_count": 62,
   "id": "09105ebb-f78d-493f-b968-842161d789a1",
   "metadata": {},
   "outputs": [],
   "source": [
    "# Approach 1: Character-level n-gram embeddings\n",
    "def create_char_ngram_embeddings(cities_list, ngram_range=(2, 3)):\n",
    "    \"\"\"Create character-level n-gram embeddings for city names\"\"\"\n",
    "    # Initialize vectorizer for character n-grams\n",
    "    vectorizer = CountVectorizer(analyzer='char', ngram_range=ngram_range)\n",
    "    \n",
    "    # Fit and transform the city names\n",
    "    embeddings = vectorizer.fit_transform(cities_list)\n",
    "    \n",
    "    # Get feature names for debugging\n",
    "    feature_names = vectorizer.get_feature_names_out()\n",
    "    \n",
    "    return embeddings.toarray(), feature_names"
   ]
  },
  {
   "cell_type": "code",
   "execution_count": 63,
   "id": "31db2dcc-e0fe-40b8-8268-a48ac5ed58a0",
   "metadata": {},
   "outputs": [],
   "source": [
    "char_ngram_embeddings, ngram_features = create_char_ngram_embeddings(indonesian_cities)"
   ]
  },
  {
   "cell_type": "code",
   "execution_count": 66,
   "id": "ac638321-e36d-4295-8ede-b552056b0bac",
   "metadata": {},
   "outputs": [
    {
     "data": {
      "text/plain": [
       "(1365,)"
      ]
     },
     "execution_count": 66,
     "metadata": {},
     "output_type": "execute_result"
    }
   ],
   "source": [
    "ngram_features.shape"
   ]
  },
  {
   "cell_type": "code",
   "execution_count": 69,
   "id": "843bd3ca-0745-4f34-bde0-9df0cf9d1fc6",
   "metadata": {},
   "outputs": [],
   "source": [
    "vectorizer = CountVectorizer(analyzer='char', ngram_range=(2, 3))\n",
    "    \n",
    "# Fit and transform the city names\n",
    "embeddings = vectorizer.fit_transform(indonesian_cities)\n",
    "    \n",
    "# Get feature names for debugging\n",
    "feature_names = vectorizer.get_feature_names_out()"
   ]
  },
  {
   "cell_type": "code",
   "execution_count": 217,
   "id": "8df3c423-9b8c-4023-add6-a7fcdabe29da",
   "metadata": {},
   "outputs": [],
   "source": [
    "query_vector = vectorizer.transform([\"sudirbanyumas\"])"
   ]
  },
  {
   "cell_type": "code",
   "execution_count": 218,
   "id": "cdd14ed2-4f98-498e-a247-6cd74b23f344",
   "metadata": {},
   "outputs": [
    {
     "data": {
      "text/plain": [
       "<1x1365 sparse matrix of type '<class 'numpy.int64'>'\n",
       "\twith 20 stored elements in Compressed Sparse Row format>"
      ]
     },
     "execution_count": 218,
     "metadata": {},
     "output_type": "execute_result"
    }
   ],
   "source": [
    "query_vector"
   ]
  },
  {
   "cell_type": "code",
   "execution_count": 219,
   "id": "d7df04c9-7df8-4302-9ab8-9f29c47cc19d",
   "metadata": {},
   "outputs": [
    {
     "name": "stdout",
     "output_type": "stream",
     "text": [
      "CPU times: user 0 ns, sys: 2.72 ms, total: 2.72 ms\n",
      "Wall time: 1.9 ms\n"
     ]
    }
   ],
   "source": [
    "%%time\n",
    "similarities = cosine_similarity(query_vector, embeddings)"
   ]
  },
  {
   "cell_type": "code",
   "execution_count": 220,
   "id": "dc8d4c7f-f2d0-422e-b0f4-b3e5ded64ea6",
   "metadata": {},
   "outputs": [
    {
     "data": {
      "text/plain": [
       "(1, 513)"
      ]
     },
     "execution_count": 220,
     "metadata": {},
     "output_type": "execute_result"
    }
   ],
   "source": [
    "similarities.shape"
   ]
  },
  {
   "cell_type": "code",
   "execution_count": 221,
   "id": "9a090fc3-37aa-4159-9cdd-ba344460e239",
   "metadata": {},
   "outputs": [
    {
     "data": {
      "text/plain": [
       "<1x513 sparse matrix of type '<class 'numpy.int64'>'\n",
       "\twith 326 stored elements in Compressed Sparse Row format>"
      ]
     },
     "execution_count": 221,
     "metadata": {},
     "output_type": "execute_result"
    }
   ],
   "source": [
    "np.dot(query_vector, embeddings.T)"
   ]
  },
  {
   "cell_type": "code",
   "execution_count": 222,
   "id": "364100cc-92c1-4650-8e2a-eabdbe3a8a16",
   "metadata": {},
   "outputs": [
    {
     "data": {
      "text/plain": [
       "(1, 1365)"
      ]
     },
     "execution_count": 222,
     "metadata": {},
     "output_type": "execute_result"
    }
   ],
   "source": [
    "query_vector.shape"
   ]
  },
  {
   "cell_type": "code",
   "execution_count": 223,
   "id": "4c393ae1-6ec3-4869-b35c-0fcc3eda5b08",
   "metadata": {},
   "outputs": [
    {
     "data": {
      "text/plain": [
       "(513, 1365)"
      ]
     },
     "execution_count": 223,
     "metadata": {},
     "output_type": "execute_result"
    }
   ],
   "source": [
    "embeddings.shape"
   ]
  },
  {
   "cell_type": "code",
   "execution_count": 224,
   "id": "2745c88a-9aeb-4de7-bf95-ce56a3147656",
   "metadata": {},
   "outputs": [],
   "source": [
    "top_indices = np.where(similarities >= 0.3)"
   ]
  },
  {
   "cell_type": "code",
   "execution_count": 227,
   "id": "d4b13a2a-59fb-47a3-a50d-08dc9bba1563",
   "metadata": {},
   "outputs": [
    {
     "data": {
      "text/plain": [
       "(array([0, 0, 0, 0, 0]), array([102, 103, 187, 235, 352]))"
      ]
     },
     "execution_count": 227,
     "metadata": {},
     "output_type": "execute_result"
    }
   ],
   "source": [
    "top_indices"
   ]
  },
  {
   "cell_type": "code",
   "execution_count": 197,
   "id": "5a9c2e43-dea3-4e99-8603-c1d05a9e1196",
   "metadata": {},
   "outputs": [
    {
     "data": {
      "text/plain": [
       "[array([102, 103, 187, 235, 352])]"
      ]
     },
     "execution_count": 197,
     "metadata": {},
     "output_type": "execute_result"
    }
   ],
   "source": [
    "top_indices = np.where(similarities >= 0.3)\n",
    "top_indices = sorted(top_indices, key=lambda i: similarities[i], reverse=True)[:5]\n",
    "top_indices"
   ]
  },
  {
   "cell_type": "code",
   "execution_count": 189,
   "id": "9c50217b-2992-441a-a16d-410d6ea92ba3",
   "metadata": {},
   "outputs": [
    {
     "data": {
      "text/plain": [
       "['banyumas', 'banyu asin', 'banyuwangi', 'musi banyuasin', 'banjarmasin']"
      ]
     },
     "execution_count": 189,
     "metadata": {},
     "output_type": "execute_result"
    }
   ],
   "source": [
    "[indonesian_cities[x] for x in top_indices]"
   ]
  },
  {
   "cell_type": "code",
   "execution_count": 174,
   "id": "d1f04b3a-820c-44af-b21c-1ccd80af2d1a",
   "metadata": {},
   "outputs": [],
   "source": [
    "class NGramFuzzyMatcher:\n",
    "    def __init__(self, reference_list, ngram_range=(2, 3)):\n",
    "        self.vectorizer = CountVectorizer(analyzer='char', ngram_range=ngram_range)\n",
    "        self.embeddings = self.vectorizer.fit_transform(reference_list)\n",
    "        self.feature_names = self.vectorizer.get_feature_names_out()\n",
    "        self.reference_list = reference_list\n",
    "        \n",
    "    def query(self, query, top_n = 1, threshold = 0.5):\n",
    "        query_vector = self.vectorizer.transform(query)\n",
    "        similarities = cosine_similarity(query_vector, self.embeddings)\n",
    "        top_indices = np.where(similarities >= threshold)\n",
    "        top_indices = sorted(top_indices, key=lambda i: similarities[i], reverse=True)[:top_n]\n",
    "        return [self.reference_list[x] for x in top_indices]\n",
    "        "
   ]
  },
  {
   "cell_type": "code",
   "execution_count": 175,
   "id": "2cb27b91-edb3-45d5-b858-63f74909b271",
   "metadata": {},
   "outputs": [],
   "source": [
    "matcher = NGramFuzzyMatcher(indonesian_cities, ngram_range=(1,3))"
   ]
  },
  {
   "cell_type": "code",
   "execution_count": 178,
   "id": "d28e400c-2cd3-4dfa-919b-96450ab8195b",
   "metadata": {},
   "outputs": [
    {
     "data": {
      "text/plain": [
       "['jakarta selatan', 'seluma', 'solok selatan']"
      ]
     },
     "execution_count": 178,
     "metadata": {},
     "output_type": "execute_result"
    }
   ],
   "source": [
    "matcher.query([\"jaksel\"], top_n = 3, threshold = 0.1)"
   ]
  },
  {
   "cell_type": "code",
   "execution_count": null,
   "id": "7c890259-1c96-4901-b7f6-e23cb6b3ba0c",
   "metadata": {},
   "outputs": [],
   "source": []
  }
 ],
 "metadata": {
  "kernelspec": {
   "display_name": "Python 3 (ipykernel)",
   "language": "python",
   "name": "python3"
  },
  "language_info": {
   "codemirror_mode": {
    "name": "ipython",
    "version": 3
   },
   "file_extension": ".py",
   "mimetype": "text/x-python",
   "name": "python",
   "nbconvert_exporter": "python",
   "pygments_lexer": "ipython3",
   "version": "3.11.2"
  }
 },
 "nbformat": 4,
 "nbformat_minor": 5
}
