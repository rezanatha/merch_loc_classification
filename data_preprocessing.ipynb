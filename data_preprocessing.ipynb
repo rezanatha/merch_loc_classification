{
 "cells": [
  {
   "cell_type": "code",
   "execution_count": 1,
   "id": "6df8e736-d488-40e4-b5ab-0726e6177b1f",
   "metadata": {},
   "outputs": [],
   "source": [
    "import polars as pl"
   ]
  },
  {
   "cell_type": "code",
   "execution_count": 103,
   "id": "e99f74b9-bdee-4c9f-b0f9-251f5fa7e4d4",
   "metadata": {},
   "outputs": [],
   "source": [
    "data = pl.read_csv('merchant_locs.csv', separator='|', quote_char='\"')"
   ]
  },
  {
   "cell_type": "code",
   "execution_count": 40,
   "id": "5989c798-a488-48a7-a2e1-8b2a80bc7013",
   "metadata": {},
   "outputs": [
    {
     "data": {
      "text/html": [
       "<div><style>\n",
       ".dataframe > thead > tr,\n",
       ".dataframe > tbody > tr {\n",
       "  text-align: right;\n",
       "  white-space: pre-wrap;\n",
       "}\n",
       "</style>\n",
       "<small>shape: (2_366_336, 3)</small><table border=\"1\" class=\"dataframe\"><thead><tr><th>source</th><th>merchant_name</th><th>merchant_location</th></tr><tr><td>str</td><td>str</td><td>str</td></tr></thead><tbody><tr><td>&quot;CREDIT_CARD&quot;</td><td>&quot;Grab* A-7GE7G2RWWIPB South Jak…</td><td>null</td></tr><tr><td>&quot;CREDIT_CARD&quot;</td><td>&quot;WWW.SHOPEE.CO.I*114159472JAKAR…</td><td>null</td></tr><tr><td>&quot;CREDIT_CARD&quot;</td><td>&quot;Grab* A-7D6W9LAWWHUX South Jak…</td><td>null</td></tr><tr><td>&quot;CREDIT_CARD&quot;</td><td>&quot;Grab* A-79DSO98WWJKC JAKARTA S…</td><td>null</td></tr><tr><td>&quot;CREDIT_CARD&quot;</td><td>&quot;Grab* A-7C5WXVVGWIN9 South Jak…</td><td>null</td></tr><tr><td>&hellip;</td><td>&hellip;</td><td>&hellip;</td></tr><tr><td>&quot;CREDIT_CARD&quot;</td><td>&quot;ET CETERA PAKUWON MALL B : 01/…</td><td>null</td></tr><tr><td>&quot;CREDIT_CARD&quot;</td><td>&quot;Grab* A-7GDHVRJGWI5H South Jak…</td><td>null</td></tr><tr><td>&quot;CREDIT_CARD&quot;</td><td>&quot;Grab* A-7DQPWS8WWEQR South Jak…</td><td>null</td></tr><tr><td>&quot;CREDIT_CARD&quot;</td><td>&quot;Grab* 6-C66KBEUXUE5BAA South J…</td><td>null</td></tr><tr><td>&quot;CREDIT_CARD&quot;</td><td>&quot;-TKP294507879JAKARTA ID&quot;</td><td>null</td></tr></tbody></table></div>"
      ],
      "text/plain": [
       "shape: (2_366_336, 3)\n",
       "┌─────────────┬─────────────────────────────────┬───────────────────┐\n",
       "│ source      ┆ merchant_name                   ┆ merchant_location │\n",
       "│ ---         ┆ ---                             ┆ ---               │\n",
       "│ str         ┆ str                             ┆ str               │\n",
       "╞═════════════╪═════════════════════════════════╪═══════════════════╡\n",
       "│ CREDIT_CARD ┆ Grab* A-7GE7G2RWWIPB South Jak… ┆ null              │\n",
       "│ CREDIT_CARD ┆ WWW.SHOPEE.CO.I*114159472JAKAR… ┆ null              │\n",
       "│ CREDIT_CARD ┆ Grab* A-7D6W9LAWWHUX South Jak… ┆ null              │\n",
       "│ CREDIT_CARD ┆ Grab* A-79DSO98WWJKC JAKARTA S… ┆ null              │\n",
       "│ CREDIT_CARD ┆ Grab* A-7C5WXVVGWIN9 South Jak… ┆ null              │\n",
       "│ …           ┆ …                               ┆ …                 │\n",
       "│ CREDIT_CARD ┆ ET CETERA PAKUWON MALL B : 01/… ┆ null              │\n",
       "│ CREDIT_CARD ┆ Grab* A-7GDHVRJGWI5H South Jak… ┆ null              │\n",
       "│ CREDIT_CARD ┆ Grab* A-7DQPWS8WWEQR South Jak… ┆ null              │\n",
       "│ CREDIT_CARD ┆ Grab* 6-C66KBEUXUE5BAA South J… ┆ null              │\n",
       "│ CREDIT_CARD ┆ -TKP294507879JAKARTA ID         ┆ null              │\n",
       "└─────────────┴─────────────────────────────────┴───────────────────┘"
      ]
     },
     "execution_count": 40,
     "metadata": {},
     "output_type": "execute_result"
    }
   ],
   "source": [
    "data.filter(pl.col(\"source\") == \"CREDIT_CARD\")"
   ]
  },
  {
   "cell_type": "code",
   "execution_count": 107,
   "id": "a2623713-a823-469d-a4ad-e794ada84675",
   "metadata": {},
   "outputs": [],
   "source": [
    "data = data.with_columns(\n",
    "    pl.col(column).str.to_uppercase() for column in data.columns\n",
    ")"
   ]
  },
  {
   "cell_type": "code",
   "execution_count": 384,
   "id": "d766a133-0d02-4300-94ec-f5b6ed2d9a6a",
   "metadata": {},
   "outputs": [],
   "source": [
    "# clean data\n",
    "data = data.filter(~pl.col(\"merchant_name\").str.contains(r\"(\\d{2}/\\d{2})|(\\d{1}/\\d{2})\")) # clean from installments"
   ]
  },
  {
   "cell_type": "code",
   "execution_count": 385,
   "id": "052d3356-d255-4895-9990-5b08202a4905",
   "metadata": {},
   "outputs": [
    {
     "data": {
      "text/html": [
       "<div><style>\n",
       ".dataframe > thead > tr,\n",
       ".dataframe > tbody > tr {\n",
       "  text-align: right;\n",
       "  white-space: pre-wrap;\n",
       "}\n",
       "</style>\n",
       "<small>shape: (3_698_100, 4)</small><table border=\"1\" class=\"dataframe\"><thead><tr><th>source</th><th>merchant_name</th><th>merchant_location</th><th>online_offline_flag</th></tr><tr><td>str</td><td>str</td><td>str</td><td>str</td></tr></thead><tbody><tr><td>&quot;CREDIT_CARD&quot;</td><td>&quot;GRAB* A-7GE7G2RWWIPB SOUTH JAK…</td><td>null</td><td>&quot;ONLINE&quot;</td></tr><tr><td>&quot;CREDIT_CARD&quot;</td><td>&quot;WWW.SHOPEE.CO.I*114159472JAKAR…</td><td>null</td><td>&quot;OFFLINE&quot;</td></tr><tr><td>&quot;QRIS_WONDR&quot;</td><td>&quot;HI PIX STUDIO&quot;</td><td>&quot;JAKARTA TIMUR&quot;</td><td>&quot;OFFLINE&quot;</td></tr><tr><td>&quot;QRIS_WONDR&quot;</td><td>&quot;WIJAYA ADVANCE&quot;</td><td>&quot;SURABAYA&quot;</td><td>&quot;OFFLINE&quot;</td></tr><tr><td>&quot;CREDIT_CARD&quot;</td><td>&quot;GRAB* A-7D6W9LAWWHUX SOUTH JAK…</td><td>null</td><td>&quot;ONLINE&quot;</td></tr><tr><td>&hellip;</td><td>&hellip;</td><td>&hellip;</td><td>&hellip;</td></tr><tr><td>&quot;QRIS_WONDR&quot;</td><td>&quot;ERKAT BARBERSHOP&quot;</td><td>&quot;MEDAN&quot;</td><td>&quot;OFFLINE&quot;</td></tr><tr><td>&quot;CREDIT_CARD&quot;</td><td>&quot;GRAB* 6-C66KBEUXUE5BAA SOUTH J…</td><td>null</td><td>&quot;ONLINE&quot;</td></tr><tr><td>&quot;QRIS_WONDR&quot;</td><td>&quot;MASJID NURUL QOMAR&quot;</td><td>&quot;BATAM&quot;</td><td>&quot;OFFLINE&quot;</td></tr><tr><td>&quot;QRIS_WONDR&quot;</td><td>&quot;KRUPUK IKAN TENGIRI PROB&quot;</td><td>&quot;PROBOLINGGO&quot;</td><td>&quot;OFFLINE&quot;</td></tr><tr><td>&quot;CREDIT_CARD&quot;</td><td>&quot;-TKP294507879JAKARTA ID&quot;</td><td>null</td><td>&quot;ONLINE&quot;</td></tr></tbody></table></div>"
      ],
      "text/plain": [
       "shape: (3_698_100, 4)\n",
       "┌─────────────┬─────────────────────────────────┬───────────────────┬─────────────────────┐\n",
       "│ source      ┆ merchant_name                   ┆ merchant_location ┆ online_offline_flag │\n",
       "│ ---         ┆ ---                             ┆ ---               ┆ ---                 │\n",
       "│ str         ┆ str                             ┆ str               ┆ str                 │\n",
       "╞═════════════╪═════════════════════════════════╪═══════════════════╪═════════════════════╡\n",
       "│ CREDIT_CARD ┆ GRAB* A-7GE7G2RWWIPB SOUTH JAK… ┆ null              ┆ ONLINE              │\n",
       "│ CREDIT_CARD ┆ WWW.SHOPEE.CO.I*114159472JAKAR… ┆ null              ┆ OFFLINE             │\n",
       "│ QRIS_WONDR  ┆ HI PIX STUDIO                   ┆ JAKARTA TIMUR     ┆ OFFLINE             │\n",
       "│ QRIS_WONDR  ┆ WIJAYA ADVANCE                  ┆ SURABAYA          ┆ OFFLINE             │\n",
       "│ CREDIT_CARD ┆ GRAB* A-7D6W9LAWWHUX SOUTH JAK… ┆ null              ┆ ONLINE              │\n",
       "│ …           ┆ …                               ┆ …                 ┆ …                   │\n",
       "│ QRIS_WONDR  ┆ ERKAT BARBERSHOP                ┆ MEDAN             ┆ OFFLINE             │\n",
       "│ CREDIT_CARD ┆ GRAB* 6-C66KBEUXUE5BAA SOUTH J… ┆ null              ┆ ONLINE              │\n",
       "│ QRIS_WONDR  ┆ MASJID NURUL QOMAR              ┆ BATAM             ┆ OFFLINE             │\n",
       "│ QRIS_WONDR  ┆ KRUPUK IKAN TENGIRI PROB        ┆ PROBOLINGGO       ┆ OFFLINE             │\n",
       "│ CREDIT_CARD ┆ -TKP294507879JAKARTA ID         ┆ null              ┆ ONLINE              │\n",
       "└─────────────┴─────────────────────────────────┴───────────────────┴─────────────────────┘"
      ]
     },
     "execution_count": 385,
     "metadata": {},
     "output_type": "execute_result"
    }
   ],
   "source": [
    "data"
   ]
  },
  {
   "cell_type": "code",
   "execution_count": 73,
   "id": "c18ad792-c695-46c8-9b00-b86c73650d99",
   "metadata": {},
   "outputs": [
    {
     "data": {
      "text/html": [
       "<div><style>\n",
       ".dataframe > thead > tr,\n",
       ".dataframe > tbody > tr {\n",
       "  text-align: right;\n",
       "  white-space: pre-wrap;\n",
       "}\n",
       "</style>\n",
       "<small>shape: (259_257, 4)</small><table border=\"1\" class=\"dataframe\"><thead><tr><th>source</th><th>merchant_name</th><th>merchant_location</th><th>merchant_online_flag</th></tr><tr><td>str</td><td>str</td><td>str</td><td>str</td></tr></thead><tbody><tr><td>&quot;CREDIT_CARD&quot;</td><td>&quot;SHOP TKPD 6370725773 JAKARTA I…</td><td>null</td><td>null</td></tr><tr><td>&quot;CREDIT_CARD&quot;</td><td>&quot;SHOP TKPD 6326410201 JAKARTA I…</td><td>null</td><td>null</td></tr><tr><td>&quot;CREDIT_CARD&quot;</td><td>&quot;-TKP292327649JAKARTA ID&quot;</td><td>null</td><td>null</td></tr><tr><td>&quot;CREDIT_CARD&quot;</td><td>&quot;-TKP294850893JAKARTA ID&quot;</td><td>null</td><td>null</td></tr><tr><td>&quot;CREDIT_CARD&quot;</td><td>&quot;-TKP290776132JAKARTA ID&quot;</td><td>null</td><td>null</td></tr><tr><td>&hellip;</td><td>&hellip;</td><td>&hellip;</td><td>&hellip;</td></tr><tr><td>&quot;CREDIT_CARD&quot;</td><td>&quot;-TKP294422661JAKARTA ID&quot;</td><td>null</td><td>null</td></tr><tr><td>&quot;CREDIT_CARD&quot;</td><td>&quot;SHOP TKPD 6738929473 JAKARTA I…</td><td>null</td><td>null</td></tr><tr><td>&quot;CREDIT_CARD&quot;</td><td>&quot;-TKP292305545JAKARTA ID&quot;</td><td>null</td><td>null</td></tr><tr><td>&quot;CREDIT_CARD&quot;</td><td>&quot;SHOP TKPD 6260238479 JAKARTA I…</td><td>null</td><td>null</td></tr><tr><td>&quot;CREDIT_CARD&quot;</td><td>&quot;-TKP294507879JAKARTA ID&quot;</td><td>null</td><td>null</td></tr></tbody></table></div>"
      ],
      "text/plain": [
       "shape: (259_257, 4)\n",
       "┌─────────────┬─────────────────────────────────┬───────────────────┬──────────────────────┐\n",
       "│ source      ┆ merchant_name                   ┆ merchant_location ┆ merchant_online_flag │\n",
       "│ ---         ┆ ---                             ┆ ---               ┆ ---                  │\n",
       "│ str         ┆ str                             ┆ str               ┆ str                  │\n",
       "╞═════════════╪═════════════════════════════════╪═══════════════════╪══════════════════════╡\n",
       "│ CREDIT_CARD ┆ SHOP TKPD 6370725773 JAKARTA I… ┆ null              ┆ null                 │\n",
       "│ CREDIT_CARD ┆ SHOP TKPD 6326410201 JAKARTA I… ┆ null              ┆ null                 │\n",
       "│ CREDIT_CARD ┆ -TKP292327649JAKARTA ID         ┆ null              ┆ null                 │\n",
       "│ CREDIT_CARD ┆ -TKP294850893JAKARTA ID         ┆ null              ┆ null                 │\n",
       "│ CREDIT_CARD ┆ -TKP290776132JAKARTA ID         ┆ null              ┆ null                 │\n",
       "│ …           ┆ …                               ┆ …                 ┆ …                    │\n",
       "│ CREDIT_CARD ┆ -TKP294422661JAKARTA ID         ┆ null              ┆ null                 │\n",
       "│ CREDIT_CARD ┆ SHOP TKPD 6738929473 JAKARTA I… ┆ null              ┆ null                 │\n",
       "│ CREDIT_CARD ┆ -TKP292305545JAKARTA ID         ┆ null              ┆ null                 │\n",
       "│ CREDIT_CARD ┆ SHOP TKPD 6260238479 JAKARTA I… ┆ null              ┆ null                 │\n",
       "│ CREDIT_CARD ┆ -TKP294507879JAKARTA ID         ┆ null              ┆ null                 │\n",
       "└─────────────┴─────────────────────────────────┴───────────────────┴──────────────────────┘"
      ]
     },
     "execution_count": 73,
     "metadata": {},
     "output_type": "execute_result"
    }
   ],
   "source": [
    "# explore\n",
    "'''\n",
    "to filter\n",
    ".CO but exclude offline .CO\n",
    "\n",
    "'''\n",
    "\n",
    "\n",
    "data.filter(pl.col(\"merchant_name\").str.contains(r\"\"))"
   ]
  },
  {
   "cell_type": "code",
   "execution_count": 442,
   "id": "738d8024-97dc-44e8-98bb-2a02d4393c68",
   "metadata": {},
   "outputs": [],
   "source": [
    "#  & ~pl.col(\"merchant_location\").is_null()\n",
    "\n",
    "# .COM or .CO.\n",
    "# pl.col(\"merchant_name\").str.contains(r\"\\.CO(\\.|M)\") - & pl.col(\"merchant_location\").is_null() - online\n",
    "# pl.col(\"merchant_name\").str.contains(r\"\\.CO(\\s|\\.)\") & ~pl.col(\"merchant_name\").str.contains(r\".COFFE\") - offline\n",
    "# pl.col(\"merchant_name\").str.contains(r\"\\.CO(\\.|M)\") & pl.col(\"merchant_name\").str.contains(r\"\\sQR\\s\") AGODA QR - online\n",
    "# pl.col(\"merchant_name\").str.contains(r\"\\.CO(\\s)\") & ~pl.col(\"merchant_location\").is_null() - Offline\n",
    "\n",
    "# GOOGLE\n",
    "# pl.col(\"merchant_name\").str.contains(r\"GOOGLE\") - online\n",
    "# pl.col(\"merchant_name\").str.contains(r\"GOOG\") & ~pl.col(\"merchant_location\").is_null() - offline\n",
    "# pl.col(\"merchant_name\").str.contains(\"PLAY.GOOGLE.COMSTOREAPPS\") - None\n",
    "\n",
    "# FACEBOOK\n",
    "# pl.col(\"merchant_name\").str.contains(r\"FACEB(OO)?K\") - online\n",
    "\n",
    "# CANVA\n",
    "# pl.col(\"merchant_name\").str.contains(r\"CANVA\\*\") - online\n",
    "\n",
    "# 3 letters with 3 or more numbers\n",
    "# pl.col(\"merchant_name\").str.contains(r\"[a-zA-Z]{3}\\d{3,}\") - online\n",
    "# pl.col(\"merchant_name\").str.contains(r\"[a-zA-Z]{3}\\d{3,}\") & ~pl.col(\"merchant_location\").is_null() - offline\n",
    "\n",
    "# MBL/MITRABL\n",
    "# pl.col(\"merchant_name\").str.contains(r\"MBL\\d{3,}\") - offline\n",
    "\n",
    "# installments\n",
    "# pl.col(\"merchant_name\").str.contains(r\"(\\d{2}/\\d{2})\") - None\n",
    "\n",
    "# GRAB\n",
    "# pl.col(\"merchant_name\").str.contains(r\"GRAB*\") - ONLINE\n",
    "\n",
    "# paypal, airbnb, various\n",
    "# pl.col(\"merchant_name\").str.contains(r\"(PAYPAL|AIRBNB|SPOTIFY|M TIX|LINKEDIN|KINDLE|GARUDA MOB B|\\bEBAY\\b|CELEBRITYFITNES|ASTRO\\s\\-\\d+\") - Online \n",
    "\n",
    "# TKPD\n",
    "# pl.col(\"merchant_name\").str.contains(r\"(TKPD|\\-?TKP\\d{3,})\") - online\n",
    "# pl.col(\"merchant_name\").str.contains(r\"(TKPD|\\-?TKP\\d{3,})\") & ~pl.col(\"merchant_location\").is_null() - offline\n",
    "\n",
    "# alfamart (afm)\n",
    "# pl.col(\"merchant_name\").str.contains(r\"(\\bAFM\\b)|(ALFAMART)\") - OFFLINE\n",
    "\n",
    "# microsoft\n",
    "# pl.col(\"merchant_name\").str.contains(r\"(MICROSOFT#|MSFT\\s\\*)\") - online\n",
    "\n",
    "# traveloka\n",
    "# pl.col(\"merchant_name\").str.contains(r\"TRAVELOKA|TVLK\") & pl.col(\"merchant_location\").is_null() - online\n",
    "\n",
    "# idm\n",
    "# pl.col(\"merchant_name\").str.contains(r\"(\\bIDM\\b|INDOMARET)\") - offline\n",
    "\n",
    "# vivo\n",
    "# pl.col(\"merchant_name\").str.contains(r\"\\d{3}(\\s)?\\-(\\s)?VIVO\") - offline\n",
    "\n",
    "# heroku\n",
    "# pl.col(\"merchant_name\").str.contains(r\"HEROKU\") - online\n",
    "\n",
    "# hero\n",
    "# pl.col(\"merchant_name\").str.contains(r\"\\d{4}(\\s)?\\-(\\s)?HERO\") - offline\n",
    "\n",
    "# bill payment\n",
    "# pl.col(\"merchant_name\").str.contains(r\"(BILL PYM)|(BILL PAYMENT)\") - online\n",
    "\n",
    "# sevel\n",
    "# pl.col(\"merchant_name\").str.contains(r\"(7(\\s)?\\-(\\s)?11)|7-ELEVEN\") - offline\n",
    "\n",
    "# xl\n",
    "#pl.col(\"merchant_name\").str.contains(r\"XL AXIATA 2DS\"),\n",
    "\n",
    "# with merchant_location\n",
    "# ~pl.col(\"merchant_location\").is_null() - OFFLINE \n",
    "\n",
    "explore_data = data.filter(\n",
    "     pl.col(\"merchant_name\").str.contains(r\"TOKO\") \n",
    ")"
   ]
  },
  {
   "cell_type": "code",
   "execution_count": 443,
   "id": "84e5c3be-0ce2-4bc3-aa2b-d8cc9a1d4edc",
   "metadata": {},
   "outputs": [
    {
     "data": {
      "text/html": [
       "<div><style>\n",
       ".dataframe > thead > tr,\n",
       ".dataframe > tbody > tr {\n",
       "  text-align: right;\n",
       "  white-space: pre-wrap;\n",
       "}\n",
       "</style>\n",
       "<small>shape: (8_884, 4)</small><table border=\"1\" class=\"dataframe\"><thead><tr><th>source</th><th>merchant_name</th><th>merchant_location</th><th>online_offline_flag</th></tr><tr><td>str</td><td>str</td><td>str</td><td>str</td></tr></thead><tbody><tr><td>&quot;CREDIT_CARD&quot;</td><td>&quot;TOKO CINDAY MART MBL KAB MALIN…</td><td>null</td><td>null</td></tr><tr><td>&quot;CREDIT_CARD&quot;</td><td>&quot;TOKO BASMALAH KRATON PASURUAN …</td><td>null</td><td>null</td></tr><tr><td>&quot;CREDIT_CARD&quot;</td><td>&quot;TOKO ANEKA JAYA YK MBL YOGYAKA…</td><td>null</td><td>null</td></tr><tr><td>&quot;CREDIT_CARD&quot;</td><td>&quot;SUMBER ILMU TOKO BUKU-H JAKART…</td><td>null</td><td>null</td></tr><tr><td>&quot;CREDIT_CARD&quot;</td><td>&quot;TOKO BORNEO DEPOK (KOTA) ID&quot;</td><td>null</td><td>null</td></tr><tr><td>&hellip;</td><td>&hellip;</td><td>&hellip;</td><td>&hellip;</td></tr><tr><td>&quot;CREDIT_CARD&quot;</td><td>&quot;TOKO 33 MAKASSAR (KOTID&quot;</td><td>null</td><td>null</td></tr><tr><td>&quot;CREDIT_CARD&quot;</td><td>&quot;TOKO EMAS SINAR JAYA 1 SURABAY…</td><td>null</td><td>null</td></tr><tr><td>&quot;CREDIT_CARD&quot;</td><td>&quot;TOKO KINTOP JAKARTA PUSATID&quot;</td><td>null</td><td>null</td></tr><tr><td>&quot;CREDIT_CARD&quot;</td><td>&quot;TOKO ROYAL BALIKPAPAN ( ID&quot;</td><td>null</td><td>null</td></tr><tr><td>&quot;CREDIT_CARD&quot;</td><td>&quot;TOKO EMAS GINBERS MEDAN KOT. I…</td><td>null</td><td>null</td></tr></tbody></table></div>"
      ],
      "text/plain": [
       "shape: (8_884, 4)\n",
       "┌─────────────┬─────────────────────────────────┬───────────────────┬─────────────────────┐\n",
       "│ source      ┆ merchant_name                   ┆ merchant_location ┆ online_offline_flag │\n",
       "│ ---         ┆ ---                             ┆ ---               ┆ ---                 │\n",
       "│ str         ┆ str                             ┆ str               ┆ str                 │\n",
       "╞═════════════╪═════════════════════════════════╪═══════════════════╪═════════════════════╡\n",
       "│ CREDIT_CARD ┆ TOKO CINDAY MART MBL KAB MALIN… ┆ null              ┆ null                │\n",
       "│ CREDIT_CARD ┆ TOKO BASMALAH KRATON PASURUAN … ┆ null              ┆ null                │\n",
       "│ CREDIT_CARD ┆ TOKO ANEKA JAYA YK MBL YOGYAKA… ┆ null              ┆ null                │\n",
       "│ CREDIT_CARD ┆ SUMBER ILMU TOKO BUKU-H JAKART… ┆ null              ┆ null                │\n",
       "│ CREDIT_CARD ┆ TOKO BORNEO DEPOK (KOTA) ID     ┆ null              ┆ null                │\n",
       "│ …           ┆ …                               ┆ …                 ┆ …                   │\n",
       "│ CREDIT_CARD ┆ TOKO 33 MAKASSAR (KOTID         ┆ null              ┆ null                │\n",
       "│ CREDIT_CARD ┆ TOKO EMAS SINAR JAYA 1 SURABAY… ┆ null              ┆ null                │\n",
       "│ CREDIT_CARD ┆ TOKO KINTOP JAKARTA PUSATID     ┆ null              ┆ null                │\n",
       "│ CREDIT_CARD ┆ TOKO ROYAL BALIKPAPAN ( ID      ┆ null              ┆ null                │\n",
       "│ CREDIT_CARD ┆ TOKO EMAS GINBERS MEDAN KOT. I… ┆ null              ┆ null                │\n",
       "└─────────────┴─────────────────────────────────┴───────────────────┴─────────────────────┘"
      ]
     },
     "execution_count": 443,
     "metadata": {},
     "output_type": "execute_result"
    }
   ],
   "source": [
    "explore_data"
   ]
  },
  {
   "cell_type": "code",
   "execution_count": 444,
   "id": "64e25b26-c21c-4c57-85a6-a4b7975fec36",
   "metadata": {},
   "outputs": [],
   "source": [
    "explore_data.write_csv(\"test_toko.csv\")"
   ]
  },
  {
   "cell_type": "code",
   "execution_count": 336,
   "id": "5b80a158-213e-4473-b5e1-a230f4b328a6",
   "metadata": {},
   "outputs": [],
   "source": [
    "def add_flag_column(data, condition, flag_column_name, flag_value=None):\n",
    "    \"\"\"\n",
    "    Add a flag column to a Polars DataFrame based on a custom condition.\n",
    "    \n",
    "    Parameters:\n",
    "    -----------\n",
    "    data : pl.DataFrame\n",
    "        The input DataFrame\n",
    "    condition : pl.Expr\n",
    "        Polars expression representing the condition (e.g., pl.col(\"x\").str.contains(...))\n",
    "    flag_column_name : str\n",
    "        Name of the flag column to create\n",
    "    flag_value : any, default=None\n",
    "        The value to set when condition is True\n",
    "        \n",
    "    Returns:\n",
    "    --------\n",
    "    pl.DataFrame\n",
    "        DataFrame with the new flag column added\n",
    "    \"\"\"\n",
    "    import polars as pl\n",
    "    \n",
    "    # Create a dictionary with the column name as key and the when-then-otherwise expression as value\n",
    "    column_expr = {\n",
    "        flag_column_name: pl.when(condition)\n",
    "                            .then(pl.lit(flag_value))\n",
    "                            .otherwise(flag_column_name)\n",
    "    }\n",
    "    \n",
    "    # Add the column to the DataFrame\n",
    "    return data.with_columns(**column_expr)"
   ]
  },
  {
   "cell_type": "code",
   "execution_count": 343,
   "id": "d68e49a9-82c6-48f1-9e68-f7178ead7659",
   "metadata": {},
   "outputs": [],
   "source": [
    "data = data.with_columns(online_offline_flag = None)"
   ]
  },
  {
   "cell_type": "code",
   "execution_count": 344,
   "id": "f9151145-787d-4517-84b6-0699072e89f0",
   "metadata": {},
   "outputs": [],
   "source": [
    "cond = pl.col(\"merchant_name\").str.contains(r\"\\.CO(\\.|M)\") & pl.col(\"merchant_location\").is_null()\n",
    "data = add_flag_column(data, cond, \"online_offline_flag\", 'ONLINE')"
   ]
  },
  {
   "cell_type": "code",
   "execution_count": 345,
   "id": "d58bcdcb-5fa0-4488-8a6f-460d74d884e4",
   "metadata": {},
   "outputs": [
    {
     "data": {
      "text/html": [
       "<div><style>\n",
       ".dataframe > thead > tr,\n",
       ".dataframe > tbody > tr {\n",
       "  text-align: right;\n",
       "  white-space: pre-wrap;\n",
       "}\n",
       "</style>\n",
       "<small>shape: (55_315, 4)</small><table border=\"1\" class=\"dataframe\"><thead><tr><th>source</th><th>merchant_name</th><th>merchant_location</th><th>online_offline_flag</th></tr><tr><td>str</td><td>str</td><td>str</td><td>str</td></tr></thead><tbody><tr><td>&quot;CREDIT_CARD&quot;</td><td>&quot;WWW.SHOPEE.CO.I*114159472JAKAR…</td><td>null</td><td>&quot;ONLINE&quot;</td></tr><tr><td>&quot;CREDIT_CARD&quot;</td><td>&quot;AMWAY.CO.ID *38604336_JAKARTA …</td><td>null</td><td>&quot;ONLINE&quot;</td></tr><tr><td>&quot;CREDIT_CARD&quot;</td><td>&quot;WWW.SHOPEE.CO.I*236580778JAKAR…</td><td>null</td><td>&quot;ONLINE&quot;</td></tr><tr><td>&quot;CREDIT_CARD&quot;</td><td>&quot;BLIBLI.COM *121692286JAKARTA P…</td><td>null</td><td>&quot;ONLINE&quot;</td></tr><tr><td>&quot;CREDIT_CARD&quot;</td><td>&quot;WWW.SHOPEE.CO.I*425688249JAKAR…</td><td>null</td><td>&quot;ONLINE&quot;</td></tr><tr><td>&hellip;</td><td>&hellip;</td><td>&hellip;</td><td>&hellip;</td></tr><tr><td>&quot;CREDIT_CARD&quot;</td><td>&quot;FLICKR PRO MONTHLY FLICKR.COM …</td><td>null</td><td>&quot;ONLINE&quot;</td></tr><tr><td>&quot;CREDIT_CARD&quot;</td><td>&quot;HALODOC.COM *P3E3K7-93JAKARTA …</td><td>null</td><td>&quot;ONLINE&quot;</td></tr><tr><td>&quot;CREDIT_CARD&quot;</td><td>&quot;WWW.SHOPEE.CO.I*760970018JAKAR…</td><td>null</td><td>&quot;ONLINE&quot;</td></tr><tr><td>&quot;CREDIT_CARD&quot;</td><td>&quot;WWW.SHOPEE.CO.I*145386630JAKAR…</td><td>null</td><td>&quot;ONLINE&quot;</td></tr><tr><td>&quot;CREDIT_CARD&quot;</td><td>&quot;PHD.CO.ID *327328619JAKARTA SL…</td><td>null</td><td>&quot;ONLINE&quot;</td></tr></tbody></table></div>"
      ],
      "text/plain": [
       "shape: (55_315, 4)\n",
       "┌─────────────┬─────────────────────────────────┬───────────────────┬─────────────────────┐\n",
       "│ source      ┆ merchant_name                   ┆ merchant_location ┆ online_offline_flag │\n",
       "│ ---         ┆ ---                             ┆ ---               ┆ ---                 │\n",
       "│ str         ┆ str                             ┆ str               ┆ str                 │\n",
       "╞═════════════╪═════════════════════════════════╪═══════════════════╪═════════════════════╡\n",
       "│ CREDIT_CARD ┆ WWW.SHOPEE.CO.I*114159472JAKAR… ┆ null              ┆ ONLINE              │\n",
       "│ CREDIT_CARD ┆ AMWAY.CO.ID *38604336_JAKARTA … ┆ null              ┆ ONLINE              │\n",
       "│ CREDIT_CARD ┆ WWW.SHOPEE.CO.I*236580778JAKAR… ┆ null              ┆ ONLINE              │\n",
       "│ CREDIT_CARD ┆ BLIBLI.COM *121692286JAKARTA P… ┆ null              ┆ ONLINE              │\n",
       "│ CREDIT_CARD ┆ WWW.SHOPEE.CO.I*425688249JAKAR… ┆ null              ┆ ONLINE              │\n",
       "│ …           ┆ …                               ┆ …                 ┆ …                   │\n",
       "│ CREDIT_CARD ┆ FLICKR PRO MONTHLY FLICKR.COM … ┆ null              ┆ ONLINE              │\n",
       "│ CREDIT_CARD ┆ HALODOC.COM *P3E3K7-93JAKARTA … ┆ null              ┆ ONLINE              │\n",
       "│ CREDIT_CARD ┆ WWW.SHOPEE.CO.I*760970018JAKAR… ┆ null              ┆ ONLINE              │\n",
       "│ CREDIT_CARD ┆ WWW.SHOPEE.CO.I*145386630JAKAR… ┆ null              ┆ ONLINE              │\n",
       "│ CREDIT_CARD ┆ PHD.CO.ID *327328619JAKARTA SL… ┆ null              ┆ ONLINE              │\n",
       "└─────────────┴─────────────────────────────────┴───────────────────┴─────────────────────┘"
      ]
     },
     "execution_count": 345,
     "metadata": {},
     "output_type": "execute_result"
    }
   ],
   "source": [
    "data.filter(pl.col(\"online_offline_flag\") == 'ONLINE')"
   ]
  },
  {
   "cell_type": "code",
   "execution_count": 346,
   "id": "620be39a-f753-45f6-b54a-4fe997b11d5f",
   "metadata": {},
   "outputs": [
    {
     "data": {
      "text/html": [
       "<div><style>\n",
       ".dataframe > thead > tr,\n",
       ".dataframe > tbody > tr {\n",
       "  text-align: right;\n",
       "  white-space: pre-wrap;\n",
       "}\n",
       "</style>\n",
       "<small>shape: (2, 2)</small><table border=\"1\" class=\"dataframe\"><thead><tr><th>online_offline_flag</th><th>count</th></tr><tr><td>str</td><td>u32</td></tr></thead><tbody><tr><td>null</td><td>3736528</td></tr><tr><td>&quot;ONLINE&quot;</td><td>55315</td></tr></tbody></table></div>"
      ],
      "text/plain": [
       "shape: (2, 2)\n",
       "┌─────────────────────┬─────────┐\n",
       "│ online_offline_flag ┆ count   │\n",
       "│ ---                 ┆ ---     │\n",
       "│ str                 ┆ u32     │\n",
       "╞═════════════════════╪═════════╡\n",
       "│ null                ┆ 3736528 │\n",
       "│ ONLINE              ┆ 55315   │\n",
       "└─────────────────────┴─────────┘"
      ]
     },
     "execution_count": 346,
     "metadata": {},
     "output_type": "execute_result"
    }
   ],
   "source": [
    "data['online_offline_flag'].value_counts()"
   ]
  },
  {
   "cell_type": "code",
   "execution_count": 456,
   "id": "e7ae2069-5975-4b3f-b55f-9d430d718f83",
   "metadata": {},
   "outputs": [],
   "source": [
    "merchant_flags = {\n",
    "    \"ONLINE\": [\n",
    "        pl.col(\"merchant_name\").str.contains(r\"\\.CO(\\.|M)\") & pl.col(\"merchant_name\").str.contains(r\"\\sQR\\s\"),\n",
    "        pl.col(\"merchant_name\").str.contains(r\"GOOGLE\"),\n",
    "        pl.col(\"merchant_name\").str.contains(r\"FACEB(OO)?K\"),\n",
    "        pl.col(\"merchant_name\").str.contains(r\"CANVA\\*\"),\n",
    "        pl.col(\"merchant_name\").str.contains(r\"[a-zA-Z]{3}\\d{3,}\") & pl.col(\"merchant_location\").is_null(),\n",
    "        pl.col(\"merchant_name\").str.contains(r\"GRAB\\*\"),\n",
    "        pl.col(\"merchant_name\").str.contains(r\"PAYPAL|AIRBNB|SPOTIFY|M TIX|LINKEDIN|KINDLE|GARUDA MOB B|\\bEBAY\\b|CELEBRITYFITNES|ASTRO\\s\\-\\d+\"),\n",
    "        pl.col(\"merchant_name\").str.contains(r\"(TKPD|\\-?TKP\\d{3,})\") & pl.col(\"merchant_location\").is_null(),\n",
    "        pl.col(\"merchant_name\").str.contains(r\"(MICROSOFT#|MSFT\\s\\*)\"),\n",
    "        pl.col(\"merchant_name\").str.contains(r\"TRAVELOKA|TVLK\") & pl.col(\"merchant_location\").is_null(),\n",
    "        pl.col(\"merchant_name\").str.contains(r\"HEROKU\"),\n",
    "        pl.col(\"merchant_name\").str.contains(r\"(BILL PYM)|(BILL PAYMENT)\"),\n",
    "        pl.col(\"merchant_name\").str.contains(r\"XL AXIATA\"),\n",
    "        pl.col(\"merchant_name\").str.contains(r\"GARUDA WEB\"),\n",
    "        pl.col(\"merchant_name\").str.contains(r\"TELE(\\s)?TRAVEL\"),\n",
    "        pl.col(\"merchant_name\").str.contains(r\"TELKOM SPEEDY\"),\n",
    "        pl.col(\"merchant_name\").str.contains(r\"SCRIBD\"),\n",
    "    ],\n",
    "    \"OFFLINE\": [\n",
    "        pl.col(\"merchant_name\").str.contains(r\"\\.CO(\\s|\\.)\") & ~pl.col(\"merchant_name\").str.contains(r\".COFFE\"),\n",
    "        pl.col(\"merchant_name\").str.contains(r\"\\.CO(\\s)\") & ~pl.col(\"merchant_location\").is_null(),\n",
    "        pl.col(\"merchant_name\").str.contains(r\"GOOG\") & ~pl.col(\"merchant_location\").is_null(),\n",
    "        pl.col(\"merchant_name\").str.contains(r\"[a-zA-Z]{3}\\d{3,}\") & ~pl.col(\"merchant_location\").is_null(),\n",
    "        pl.col(\"merchant_name\").str.contains(r\"MBL\\d{3,}\"),\n",
    "        pl.col(\"merchant_name\").str.contains(r\"(TKPD|\\-?TKP\\d{3,})\") & ~pl.col(\"merchant_location\").is_null(),\n",
    "        pl.col(\"merchant_name\").str.contains(r\"(\\bAFM\\b)|(ALFAMART)\"),\n",
    "        pl.col(\"merchant_name\").str.contains(r\"(\\bIDM\\b|INDOMARET)\"),\n",
    "        pl.col(\"merchant_name\").str.contains(r\"\\d{3}(\\s)?\\-(\\s)?VIVO\"),\n",
    "        pl.col(\"merchant_name\").str.contains(r\"\\d{4}(\\s)?\\-(\\s)?HERO\"),\n",
    "        pl.col(\"merchant_name\").str.contains(r\"(7(\\s)?\\-(\\s)?11)|7-ELEVEN\"),\n",
    "        pl.col(\"merchant_name\").str.contains(r\"TOKO\"), \n",
    "        ~pl.col(\"merchant_location\").is_null(),\n",
    "    ]\n",
    "}"
   ]
  },
  {
   "cell_type": "code",
   "execution_count": 457,
   "id": "ad54f4a6-6842-49fb-a397-d27f5ef73bb6",
   "metadata": {},
   "outputs": [],
   "source": [
    "#data = add_flag_column(data, cond, \"online_offline_flag\", 'ONLINE')"
   ]
  },
  {
   "cell_type": "code",
   "execution_count": 458,
   "id": "0131c54c-9314-4454-bb63-cc2be8970e5c",
   "metadata": {},
   "outputs": [],
   "source": [
    "for flag, conditions in merchant_flags.items():\n",
    "    for c in conditions:\n",
    "        data = add_flag_column(data, c, \"online_offline_flag\", flag)"
   ]
  },
  {
   "cell_type": "code",
   "execution_count": 462,
   "id": "bd553884-fd39-40fa-95b9-330d0c850499",
   "metadata": {},
   "outputs": [
    {
     "data": {
      "text/html": [
       "<div><style>\n",
       ".dataframe > thead > tr,\n",
       ".dataframe > tbody > tr {\n",
       "  text-align: right;\n",
       "  white-space: pre-wrap;\n",
       "}\n",
       "</style>\n",
       "<small>shape: (3, 2)</small><table border=\"1\" class=\"dataframe\"><thead><tr><th>online_offline_flag</th><th>count</th></tr><tr><td>str</td><td>u32</td></tr></thead><tbody><tr><td>&quot;ONLINE&quot;</td><td>1655239</td></tr><tr><td>&quot;OFFLINE&quot;</td><td>1592526</td></tr><tr><td>null</td><td>450335</td></tr></tbody></table></div>"
      ],
      "text/plain": [
       "shape: (3, 2)\n",
       "┌─────────────────────┬─────────┐\n",
       "│ online_offline_flag ┆ count   │\n",
       "│ ---                 ┆ ---     │\n",
       "│ str                 ┆ u32     │\n",
       "╞═════════════════════╪═════════╡\n",
       "│ ONLINE              ┆ 1655239 │\n",
       "│ OFFLINE             ┆ 1592526 │\n",
       "│ null                ┆ 450335  │\n",
       "└─────────────────────┴─────────┘"
      ]
     },
     "execution_count": 462,
     "metadata": {},
     "output_type": "execute_result"
    }
   ],
   "source": [
    "data[\"online_offline_flag\"].value_counts()"
   ]
  },
  {
   "cell_type": "code",
   "execution_count": 460,
   "id": "cfca185b-ad2d-49cd-811a-a715c66bf481",
   "metadata": {},
   "outputs": [],
   "source": [
    "data.filter(pl.col(\"online_offline_flag\").is_null()).sample(50000).sort(\"merchant_name\").write_csv(\"test_null_50000.csv\")"
   ]
  },
  {
   "cell_type": "code",
   "execution_count": 67,
   "id": "9c330bdd-a757-43a2-bce0-7460f5bce49f",
   "metadata": {},
   "outputs": [],
   "source": [
    "data = data.with_columns(\n",
    "    merchant_online_flag = pl.when(pl.col(\"merchant_name\").str.contains(r'''(GRAB*)|(TKP\\d{'''))\n",
    "                             .then(pl.lit(\"ONLINE\"))\n",
    "                             .otherwise(None)\n",
    ")"
   ]
  },
  {
   "cell_type": "code",
   "execution_count": 68,
   "id": "8b5d1ac2-7520-4d33-bba8-d653d08efd5b",
   "metadata": {},
   "outputs": [
    {
     "data": {
      "text/html": [
       "<div><style>\n",
       ".dataframe > thead > tr,\n",
       ".dataframe > tbody > tr {\n",
       "  text-align: right;\n",
       "  white-space: pre-wrap;\n",
       "}\n",
       "</style>\n",
       "<small>shape: (3_891_134, 4)</small><table border=\"1\" class=\"dataframe\"><thead><tr><th>source</th><th>merchant_name</th><th>merchant_location</th><th>merchant_online_flag</th></tr><tr><td>str</td><td>str</td><td>str</td><td>str</td></tr></thead><tbody><tr><td>&quot;CREDIT_CARD&quot;</td><td>&quot;GRAB* A-7GE7G2RWWIPB SOUTH JAK…</td><td>null</td><td>&quot;ONLINE&quot;</td></tr><tr><td>&quot;CREDIT_CARD&quot;</td><td>&quot;WWW.SHOPEE.CO.I*114159472JAKAR…</td><td>null</td><td>null</td></tr><tr><td>&quot;QRIS_WONDR&quot;</td><td>&quot;HI PIX STUDIO&quot;</td><td>&quot;JAKARTA TIMUR&quot;</td><td>null</td></tr><tr><td>&quot;QRIS_WONDR&quot;</td><td>&quot;WIJAYA ADVANCE&quot;</td><td>&quot;SURABAYA&quot;</td><td>null</td></tr><tr><td>&quot;CREDIT_CARD&quot;</td><td>&quot;GRAB* A-7D6W9LAWWHUX SOUTH JAK…</td><td>null</td><td>&quot;ONLINE&quot;</td></tr><tr><td>&hellip;</td><td>&hellip;</td><td>&hellip;</td><td>&hellip;</td></tr><tr><td>&quot;QRIS_WONDR&quot;</td><td>&quot;ERKAT BARBERSHOP&quot;</td><td>&quot;MEDAN&quot;</td><td>null</td></tr><tr><td>&quot;CREDIT_CARD&quot;</td><td>&quot;GRAB* 6-C66KBEUXUE5BAA SOUTH J…</td><td>null</td><td>&quot;ONLINE&quot;</td></tr><tr><td>&quot;QRIS_WONDR&quot;</td><td>&quot;MASJID NURUL QOMAR&quot;</td><td>&quot;BATAM&quot;</td><td>null</td></tr><tr><td>&quot;QRIS_WONDR&quot;</td><td>&quot;KRUPUK IKAN TENGIRI PROB&quot;</td><td>&quot;PROBOLINGGO&quot;</td><td>null</td></tr><tr><td>&quot;CREDIT_CARD&quot;</td><td>&quot;-TKP294507879JAKARTA ID&quot;</td><td>null</td><td>null</td></tr></tbody></table></div>"
      ],
      "text/plain": [
       "shape: (3_891_134, 4)\n",
       "┌─────────────┬─────────────────────────────────┬───────────────────┬──────────────────────┐\n",
       "│ source      ┆ merchant_name                   ┆ merchant_location ┆ merchant_online_flag │\n",
       "│ ---         ┆ ---                             ┆ ---               ┆ ---                  │\n",
       "│ str         ┆ str                             ┆ str               ┆ str                  │\n",
       "╞═════════════╪═════════════════════════════════╪═══════════════════╪══════════════════════╡\n",
       "│ CREDIT_CARD ┆ GRAB* A-7GE7G2RWWIPB SOUTH JAK… ┆ null              ┆ ONLINE               │\n",
       "│ CREDIT_CARD ┆ WWW.SHOPEE.CO.I*114159472JAKAR… ┆ null              ┆ null                 │\n",
       "│ QRIS_WONDR  ┆ HI PIX STUDIO                   ┆ JAKARTA TIMUR     ┆ null                 │\n",
       "│ QRIS_WONDR  ┆ WIJAYA ADVANCE                  ┆ SURABAYA          ┆ null                 │\n",
       "│ CREDIT_CARD ┆ GRAB* A-7D6W9LAWWHUX SOUTH JAK… ┆ null              ┆ ONLINE               │\n",
       "│ …           ┆ …                               ┆ …                 ┆ …                    │\n",
       "│ QRIS_WONDR  ┆ ERKAT BARBERSHOP                ┆ MEDAN             ┆ null                 │\n",
       "│ CREDIT_CARD ┆ GRAB* 6-C66KBEUXUE5BAA SOUTH J… ┆ null              ┆ ONLINE               │\n",
       "│ QRIS_WONDR  ┆ MASJID NURUL QOMAR              ┆ BATAM             ┆ null                 │\n",
       "│ QRIS_WONDR  ┆ KRUPUK IKAN TENGIRI PROB        ┆ PROBOLINGGO       ┆ null                 │\n",
       "│ CREDIT_CARD ┆ -TKP294507879JAKARTA ID         ┆ null              ┆ null                 │\n",
       "└─────────────┴─────────────────────────────────┴───────────────────┴──────────────────────┘"
      ]
     },
     "execution_count": 68,
     "metadata": {},
     "output_type": "execute_result"
    }
   ],
   "source": [
    "data"
   ]
  },
  {
   "cell_type": "code",
   "execution_count": 461,
   "id": "2310acb1-07c8-493f-82cb-15c7f37336eb",
   "metadata": {},
   "outputs": [
    {
     "data": {
      "text/html": [
       "<div><style>\n",
       ".dataframe > thead > tr,\n",
       ".dataframe > tbody > tr {\n",
       "  text-align: right;\n",
       "  white-space: pre-wrap;\n",
       "}\n",
       "</style>\n",
       "<small>shape: (1_524_734, 4)</small><table border=\"1\" class=\"dataframe\"><thead><tr><th>source</th><th>merchant_name</th><th>merchant_location</th><th>online_offline_flag</th></tr><tr><td>str</td><td>str</td><td>str</td><td>str</td></tr></thead><tbody><tr><td>&quot;QRIS_WONDR&quot;</td><td>&quot;HI PIX STUDIO&quot;</td><td>&quot;JAKARTA TIMUR&quot;</td><td>&quot;OFFLINE&quot;</td></tr><tr><td>&quot;QRIS_WONDR&quot;</td><td>&quot;WIJAYA ADVANCE&quot;</td><td>&quot;SURABAYA&quot;</td><td>&quot;OFFLINE&quot;</td></tr><tr><td>&quot;QRIS_WONDR&quot;</td><td>&quot;NASI PECEL , TAPOS&quot;</td><td>&quot;DEPOK&quot;</td><td>&quot;OFFLINE&quot;</td></tr><tr><td>&quot;QRIS_WONDR&quot;</td><td>&quot;TOKO AMAR&quot;</td><td>&quot;GOWA&quot;</td><td>&quot;OFFLINE&quot;</td></tr><tr><td>&quot;QRIS_WONDR&quot;</td><td>&quot;AYAM/IKAN BAKAR 007, PURI&quot;</td><td>&quot;TANGERANG&quot;</td><td>&quot;OFFLINE&quot;</td></tr><tr><td>&hellip;</td><td>&hellip;</td><td>&hellip;</td><td>&hellip;</td></tr><tr><td>&quot;QRIS_WONDR&quot;</td><td>&quot;MY CIMOL&quot;</td><td>&quot;TANGSEL&quot;</td><td>&quot;OFFLINE&quot;</td></tr><tr><td>&quot;QRIS_WONDR&quot;</td><td>&quot;BIMA MART CV-HO&quot;</td><td>&quot;DELI SERDANG&quot;</td><td>&quot;OFFLINE&quot;</td></tr><tr><td>&quot;QRIS_WONDR&quot;</td><td>&quot;ERKAT BARBERSHOP&quot;</td><td>&quot;MEDAN&quot;</td><td>&quot;OFFLINE&quot;</td></tr><tr><td>&quot;QRIS_WONDR&quot;</td><td>&quot;MASJID NURUL QOMAR&quot;</td><td>&quot;BATAM&quot;</td><td>&quot;OFFLINE&quot;</td></tr><tr><td>&quot;QRIS_WONDR&quot;</td><td>&quot;KRUPUK IKAN TENGIRI PROB&quot;</td><td>&quot;PROBOLINGGO&quot;</td><td>&quot;OFFLINE&quot;</td></tr></tbody></table></div>"
      ],
      "text/plain": [
       "shape: (1_524_734, 4)\n",
       "┌────────────┬───────────────────────────┬───────────────────┬─────────────────────┐\n",
       "│ source     ┆ merchant_name             ┆ merchant_location ┆ online_offline_flag │\n",
       "│ ---        ┆ ---                       ┆ ---               ┆ ---                 │\n",
       "│ str        ┆ str                       ┆ str               ┆ str                 │\n",
       "╞════════════╪═══════════════════════════╪═══════════════════╪═════════════════════╡\n",
       "│ QRIS_WONDR ┆ HI PIX STUDIO             ┆ JAKARTA TIMUR     ┆ OFFLINE             │\n",
       "│ QRIS_WONDR ┆ WIJAYA ADVANCE            ┆ SURABAYA          ┆ OFFLINE             │\n",
       "│ QRIS_WONDR ┆ NASI PECEL , TAPOS        ┆ DEPOK             ┆ OFFLINE             │\n",
       "│ QRIS_WONDR ┆ TOKO AMAR                 ┆ GOWA              ┆ OFFLINE             │\n",
       "│ QRIS_WONDR ┆ AYAM/IKAN BAKAR 007, PURI ┆ TANGERANG         ┆ OFFLINE             │\n",
       "│ …          ┆ …                         ┆ …                 ┆ …                   │\n",
       "│ QRIS_WONDR ┆ MY CIMOL                  ┆ TANGSEL           ┆ OFFLINE             │\n",
       "│ QRIS_WONDR ┆ BIMA MART CV-HO           ┆ DELI SERDANG      ┆ OFFLINE             │\n",
       "│ QRIS_WONDR ┆ ERKAT BARBERSHOP          ┆ MEDAN             ┆ OFFLINE             │\n",
       "│ QRIS_WONDR ┆ MASJID NURUL QOMAR        ┆ BATAM             ┆ OFFLINE             │\n",
       "│ QRIS_WONDR ┆ KRUPUK IKAN TENGIRI PROB  ┆ PROBOLINGGO       ┆ OFFLINE             │\n",
       "└────────────┴───────────────────────────┴───────────────────┴─────────────────────┘"
      ]
     },
     "execution_count": 461,
     "metadata": {},
     "output_type": "execute_result"
    }
   ],
   "source": [
    "data.filter(~pl.col(\"merchant_location\").is_null())"
   ]
  },
  {
   "cell_type": "code",
   "execution_count": 468,
   "id": "0f13f57b-ff88-438d-8fea-4ddecacb0874",
   "metadata": {},
   "outputs": [],
   "source": [
    "# export\n",
    "\n",
    "data.filter(pl.col(\"online_offline_flag\").is_not_null()).sample(1000).sort(\"merchant_name\").write_csv(\"merchant_locs_train.csv\")"
   ]
  },
  {
   "cell_type": "code",
   "execution_count": 469,
   "id": "78c6ffb0-04f4-4016-922c-81865d3b8543",
   "metadata": {},
   "outputs": [],
   "source": [
    "# downsample grab"
   ]
  },
  {
   "cell_type": "code",
   "execution_count": null,
   "id": "ea65fae5-1e4b-43e7-b364-536bc96c923c",
   "metadata": {},
   "outputs": [],
   "source": []
  }
 ],
 "metadata": {
  "kernelspec": {
   "display_name": "Python 3 (ipykernel)",
   "language": "python",
   "name": "python3"
  },
  "language_info": {
   "codemirror_mode": {
    "name": "ipython",
    "version": 3
   },
   "file_extension": ".py",
   "mimetype": "text/x-python",
   "name": "python",
   "nbconvert_exporter": "python",
   "pygments_lexer": "ipython3",
   "version": "3.11.2"
  }
 },
 "nbformat": 4,
 "nbformat_minor": 5
}
