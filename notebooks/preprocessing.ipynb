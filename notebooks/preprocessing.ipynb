{
 "cells": [
  {
   "cell_type": "code",
   "execution_count": 1,
   "id": "3c5a573f-b665-483d-bbe2-e0950017d235",
   "metadata": {
    "editable": true,
    "slideshow": {
     "slide_type": ""
    },
    "tags": []
   },
   "outputs": [],
   "source": [
    "import polars as pl\n",
    "import torch"
   ]
  },
  {
   "cell_type": "code",
   "execution_count": 2,
   "id": "01560a52-9391-4ca8-8789-3c8d8a368a26",
   "metadata": {},
   "outputs": [],
   "source": [
    "device = 'cuda'\n",
    "torch.set_default_device(device)"
   ]
  },
  {
   "cell_type": "code",
   "execution_count": 16,
   "id": "fca48ed2-a26f-4389-9252-ae647b407a85",
   "metadata": {},
   "outputs": [
    {
     "name": "stdout",
     "output_type": "stream",
     "text": [
      "CUDA Memory Status:\n",
      "Total: 6.10 GB\n",
      "Allocated: 0.00 GB (0.0%)\n",
      "Cached: 0.00 GB (0.0%)\n",
      "Free: 6.10 GB (100.0%)\n"
     ]
    }
   ],
   "source": [
    "def check_cuda_memory():\n",
    "    if torch.cuda.is_available():\n",
    "        # Get total memory in bytes\n",
    "        total_memory = torch.cuda.get_device_properties(0).total_memory\n",
    "        \n",
    "        # Get allocated memory in bytes\n",
    "        allocated_memory = torch.cuda.memory_allocated(0)\n",
    "        \n",
    "        # Get cached memory in bytes (reserved by PyTorch but not used)\n",
    "        cached_memory = torch.cuda.memory_reserved(0)\n",
    "        \n",
    "        # Calculate free memory\n",
    "        free_memory = total_memory - allocated_memory - cached_memory\n",
    "        \n",
    "        # Convert to more readable units (GB)\n",
    "        total_gb = total_memory / 1e9\n",
    "        allocated_gb = allocated_memory / 1e9\n",
    "        cached_gb = cached_memory / 1e9\n",
    "        free_gb = free_memory / 1e9\n",
    "        \n",
    "        print(f\"CUDA Memory Status:\")\n",
    "        print(f\"Total: {total_gb:.2f} GB\")\n",
    "        print(f\"Allocated: {allocated_gb:.2f} GB ({allocated_gb/total_gb*100:.1f}%)\")\n",
    "        print(f\"Cached: {cached_gb:.2f} GB ({cached_gb/total_gb*100:.1f}%)\")\n",
    "        print(f\"Free: {free_gb:.2f} GB ({free_gb/total_gb*100:.1f}%)\")\n",
    "    else:\n",
    "        print(\"CUDA is not available on this system\")\n",
    "\n",
    "# Call the function to check memory\n",
    "check_cuda_memory()"
   ]
  },
  {
   "cell_type": "code",
   "execution_count": 15,
   "id": "9f9a3503-7665-4322-9b9a-4aa4627e90f5",
   "metadata": {},
   "outputs": [],
   "source": [
    "torch.cuda.empty_cache()"
   ]
  },
  {
   "cell_type": "code",
   "execution_count": 18,
   "id": "26dc2253-e57d-4388-9b13-450704000883",
   "metadata": {},
   "outputs": [],
   "source": [
    "data = pl.read_csv('data/merchant_locs_train.csv', separator=',', quote_char='\"')"
   ]
  },
  {
   "cell_type": "code",
   "execution_count": 17,
   "id": "161769c0",
   "metadata": {},
   "outputs": [],
   "source": [
    "import polars as pl\n",
    "import numpy as np\n",
    "\n",
    "def shuffled_train_test_split(df, test_size=0.2, seed=42):\n",
    "    \"\"\"\n",
    "    Create a shuffled train-test split using Polars DataFrame.\n",
    "    \n",
    "    Parameters:\n",
    "    -----------\n",
    "    df : polars.DataFrame\n",
    "        The input DataFrame to split\n",
    "    test_size : float\n",
    "        Proportion of the dataset to include in the test split (0.0 to 1.0)\n",
    "    seed : int\n",
    "        Random seed for reproducibility\n",
    "    \n",
    "    Returns:\n",
    "    --------\n",
    "    train_df, test_df : tuple of polars.DataFrame\n",
    "        The train and test splits of the input DataFrame\n",
    "    \"\"\"\n",
    "    # Generate a random column for shuffling\n",
    "    np.random.seed(seed)\n",
    "    n_rows = df.height\n",
    "    random_values = np.random.rand(n_rows)\n",
    "    \n",
    "    # Add the random column to the DataFrame\n",
    "    df_with_random = df.with_columns(\n",
    "        pl.lit(random_values).alias(\"_random_\")\n",
    "    )\n",
    "    \n",
    "    # Sort by the random column\n",
    "    shuffled_df = df_with_random.sort(\"_random_\")\n",
    "    \n",
    "    # Calculate split point\n",
    "    split_idx = int(n_rows * (1 - test_size))\n",
    "    \n",
    "    # Split the DataFrame\n",
    "    train_df = shuffled_df[:split_idx].drop(\"_random_\")\n",
    "    test_df = shuffled_df[split_idx:].drop(\"_random_\")\n",
    "    \n",
    "    return train_df, test_df\n",
    "\n",
    "# Example usage"
   ]
  },
  {
   "cell_type": "code",
   "execution_count": 19,
   "id": "2ea408bf",
   "metadata": {},
   "outputs": [],
   "source": [
    "train_df, test_df = shuffled_train_test_split(data, test_size=0.1, seed=42)"
   ]
  },
  {
   "cell_type": "code",
   "execution_count": 21,
   "id": "2e0da228",
   "metadata": {},
   "outputs": [],
   "source": [
    "train_df.write_csv(\"data/merchant_locs_offline_online_train.csv\")"
   ]
  },
  {
   "cell_type": "code",
   "execution_count": 23,
   "id": "c929769a",
   "metadata": {},
   "outputs": [],
   "source": [
    "test_df.write_csv(\"data/merchant_locs_offline_online_validation.csv\")"
   ]
  },
  {
   "cell_type": "code",
   "execution_count": 5,
   "id": "2d47517d-d8ca-4de4-bb39-1e39177c19fe",
   "metadata": {},
   "outputs": [
    {
     "data": {
      "text/html": [
       "<div><style>\n",
       ".dataframe > thead > tr,\n",
       ".dataframe > tbody > tr {\n",
       "  text-align: right;\n",
       "  white-space: pre-wrap;\n",
       "}\n",
       "</style>\n",
       "<small>shape: (2, 2)</small><table border=\"1\" class=\"dataframe\"><thead><tr><th>online_offline_flag</th><th>count</th></tr><tr><td>str</td><td>u32</td></tr></thead><tbody><tr><td>&quot;ONLINE&quot;</td><td>3378</td></tr><tr><td>&quot;OFFLINE&quot;</td><td>6622</td></tr></tbody></table></div>"
      ],
      "text/plain": [
       "shape: (2, 2)\n",
       "┌─────────────────────┬───────┐\n",
       "│ online_offline_flag ┆ count │\n",
       "│ ---                 ┆ ---   │\n",
       "│ str                 ┆ u32   │\n",
       "╞═════════════════════╪═══════╡\n",
       "│ ONLINE              ┆ 3378  │\n",
       "│ OFFLINE             ┆ 6622  │\n",
       "└─────────────────────┴───────┘"
      ]
     },
     "execution_count": 5,
     "metadata": {},
     "output_type": "execute_result"
    }
   ],
   "source": [
    "data['online_offline_flag'].value_counts()"
   ]
  },
  {
   "cell_type": "code",
   "execution_count": 7,
   "id": "4aa8e932-3952-4399-be21-e827da4021cc",
   "metadata": {},
   "outputs": [
    {
     "data": {
      "text/html": [
       "<div><style>\n",
       ".dataframe > thead > tr,\n",
       ".dataframe > tbody > tr {\n",
       "  text-align: right;\n",
       "  white-space: pre-wrap;\n",
       "}\n",
       "</style>\n",
       "<small>shape: (10_000, 4)</small><table border=\"1\" class=\"dataframe\"><thead><tr><th>source</th><th>merchant_name</th><th>merchant_location</th><th>online_offline_flag</th></tr><tr><td>str</td><td>str</td><td>str</td><td>str</td></tr></thead><tbody><tr><td>&quot;CREDIT_CARD&quot;</td><td>&quot;TRAVELOKA-1223435704 JAKARTA I…</td><td>null</td><td>&quot;ONLINE&quot;</td></tr><tr><td>&quot;QRIS_WONDR&quot;</td><td>&quot;PECEL LELE AYAM KREMES MA&quot;</td><td>&quot;BOGOR&quot;</td><td>&quot;OFFLINE&quot;</td></tr><tr><td>&quot;QRIS_WONDR&quot;</td><td>&quot;MAKAM SYEKH AHMAD MUTAMAK&quot;</td><td>&quot;PATI&quot;</td><td>&quot;OFFLINE&quot;</td></tr><tr><td>&quot;QRIS_WONDR&quot;</td><td>&quot;KEDAI HENOT&quot;</td><td>&quot;KOTA PALEMBANG&quot;</td><td>&quot;OFFLINE&quot;</td></tr><tr><td>&quot;QRIS_WONDR&quot;</td><td>&quot;PKM DUKUH KUPANG&quot;</td><td>&quot;SURABAYA&quot;</td><td>&quot;OFFLINE&quot;</td></tr><tr><td>&hellip;</td><td>&hellip;</td><td>&hellip;</td><td>&hellip;</td></tr><tr><td>&quot;QRIS_WONDR&quot;</td><td>&quot;MERAH PUTIH LAUNDRY FA...&quot;</td><td>&quot;SURAKARTA&quot;</td><td>&quot;OFFLINE&quot;</td></tr><tr><td>&quot;QRIS_WONDR&quot;</td><td>&quot;BUBUR AYAM SANTANI&quot;</td><td>&quot;BOGOR&quot;</td><td>&quot;OFFLINE&quot;</td></tr><tr><td>&quot;QRIS_WONDR&quot;</td><td>&quot;CINTA DAMAI PUTRA BAHAGIA&quot;</td><td>&quot;MAJALENGKA (K&quot;</td><td>&quot;OFFLINE&quot;</td></tr><tr><td>&quot;QRIS_WONDR&quot;</td><td>&quot;LUMPIA BASAH MAMAH DZAKI&quot;</td><td>&quot;BOGOR (KAB)&quot;</td><td>&quot;OFFLINE&quot;</td></tr><tr><td>&quot;QRIS_WONDR&quot;</td><td>&quot;DEPOT JAWA INDAH&quot;</td><td>&quot;SAMARINDA&quot;</td><td>&quot;OFFLINE&quot;</td></tr></tbody></table></div>"
      ],
      "text/plain": [
       "shape: (10_000, 4)\n",
       "┌─────────────┬─────────────────────────────────┬───────────────────┬─────────────────────┐\n",
       "│ source      ┆ merchant_name                   ┆ merchant_location ┆ online_offline_flag │\n",
       "│ ---         ┆ ---                             ┆ ---               ┆ ---                 │\n",
       "│ str         ┆ str                             ┆ str               ┆ str                 │\n",
       "╞═════════════╪═════════════════════════════════╪═══════════════════╪═════════════════════╡\n",
       "│ CREDIT_CARD ┆ TRAVELOKA-1223435704 JAKARTA I… ┆ null              ┆ ONLINE              │\n",
       "│ QRIS_WONDR  ┆ PECEL LELE AYAM KREMES MA       ┆ BOGOR             ┆ OFFLINE             │\n",
       "│ QRIS_WONDR  ┆ MAKAM SYEKH AHMAD MUTAMAK       ┆ PATI              ┆ OFFLINE             │\n",
       "│ QRIS_WONDR  ┆ KEDAI HENOT                     ┆ KOTA PALEMBANG    ┆ OFFLINE             │\n",
       "│ QRIS_WONDR  ┆ PKM DUKUH KUPANG                ┆ SURABAYA          ┆ OFFLINE             │\n",
       "│ …           ┆ …                               ┆ …                 ┆ …                   │\n",
       "│ QRIS_WONDR  ┆ MERAH PUTIH LAUNDRY FA...       ┆ SURAKARTA         ┆ OFFLINE             │\n",
       "│ QRIS_WONDR  ┆ BUBUR AYAM SANTANI              ┆ BOGOR             ┆ OFFLINE             │\n",
       "│ QRIS_WONDR  ┆ CINTA DAMAI PUTRA BAHAGIA       ┆ MAJALENGKA (K     ┆ OFFLINE             │\n",
       "│ QRIS_WONDR  ┆ LUMPIA BASAH MAMAH DZAKI        ┆ BOGOR (KAB)       ┆ OFFLINE             │\n",
       "│ QRIS_WONDR  ┆ DEPOT JAWA INDAH                ┆ SAMARINDA         ┆ OFFLINE             │\n",
       "└─────────────┴─────────────────────────────────┴───────────────────┴─────────────────────┘"
      ]
     },
     "execution_count": 7,
     "metadata": {},
     "output_type": "execute_result"
    }
   ],
   "source": [
    "data"
   ]
  },
  {
   "cell_type": "code",
   "execution_count": 6,
   "id": "f1260736-3807-414a-a6b5-1140501a40d4",
   "metadata": {},
   "outputs": [],
   "source": [
    "mapping = {\"ONLINE\": 1, \"OFFLINE\": 0}"
   ]
  },
  {
   "cell_type": "code",
   "execution_count": 7,
   "id": "5ee50f6a-7cb7-48c7-9427-2a7a30f9450a",
   "metadata": {},
   "outputs": [],
   "source": [
    "data = data.with_columns(\n",
    "    pl.col(\"online_offline_flag\").replace_strict(mapping).alias(\"label\")\n",
    ")"
   ]
  },
  {
   "cell_type": "code",
   "execution_count": 10,
   "id": "7bd4570e-d8d5-4901-8d91-8a1d730f233b",
   "metadata": {},
   "outputs": [],
   "source": [
    "import re\n",
    "def count_digit(x):\n",
    "    return sum(c.isdigit() for c in x)\n",
    "\n",
    "data = data.with_columns(\n",
    "    pl.col(\"merchant_name\").map_elements(lambda x: count_digit(x)/len(x), return_dtype = pl.Float32).alias(\"digit_ratio\"),\n",
    "    pl.col(\"merchant_name\").map_elements(lambda x: len(re.findall(r'\\d+',x)), return_dtype = pl.Int32).alias(\"num_blocks\"),\n",
    "    #pl.when(pl.col(\"merchant_location\").is_null()).then(pl.lit(0)).otherwise(pl.lit(1)).alias(\"location_is_known\"),\n",
    "    pl.when(pl.col(\"merchant_name\").str.contains(r\"((\\bAFM\\b)|(ALFAMART))|((\\bIDM\\b|INDOMARET))|(FAMILY\\s?MART)|(HHB\\s[A-Z0-9]{3})|(7-(11|ELEVEN))\")).then(pl.lit(1)).otherwise(pl.lit(0)).alias(\"known_offline_merchant\"),\n",
    "    pl.when(pl.col(\"merchant_name\").str.contains(r\"\\.CO(\\.|M)?|(CO\\.ID)|(\\.(SG|JP))|(GOOGL)|(FACEB(OO)?K)|(BILL P(A)?YM(ENT)?)\")).then(pl.lit(1)).otherwise(pl.lit(0)).alias(\"known_online_merchant\"),\n",
    "    pl.col(\"merchant_name\").map_elements(lambda x: len(re.sub(r'[a-zA-Z0-9\\s]','',x)), return_dtype = pl.Int32).alias(\"num_non_alphanumerics\"),\n",
    ")"
   ]
  },
  {
   "cell_type": "code",
   "execution_count": 11,
   "id": "9d03ea38-7cca-49b6-852d-ab48b721381e",
   "metadata": {},
   "outputs": [
    {
     "data": {
      "text/html": [
       "<div><style>\n",
       ".dataframe > thead > tr,\n",
       ".dataframe > tbody > tr {\n",
       "  text-align: right;\n",
       "  white-space: pre-wrap;\n",
       "}\n",
       "</style>\n",
       "<small>shape: (10_000, 10)</small><table border=\"1\" class=\"dataframe\"><thead><tr><th>source</th><th>merchant_name</th><th>merchant_location</th><th>online_offline_flag</th><th>label</th><th>digit_ratio</th><th>num_blocks</th><th>known_offline_merchant</th><th>known_online_merchant</th><th>num_non_alphanumerics</th></tr><tr><td>str</td><td>str</td><td>str</td><td>str</td><td>i64</td><td>f32</td><td>i32</td><td>i32</td><td>i32</td><td>i32</td></tr></thead><tbody><tr><td>&quot;CREDIT_CARD&quot;</td><td>&quot;-TKP291822088JAKARTA ID&quot;</td><td>null</td><td>&quot;ONLINE&quot;</td><td>1</td><td>0.391304</td><td>1</td><td>0</td><td>0</td><td>1</td></tr><tr><td>&quot;CREDIT_CARD&quot;</td><td>&quot;XL AXIATA 2DS *853957 JAKARTA …</td><td>null</td><td>&quot;ONLINE&quot;</td><td>1</td><td>0.194444</td><td>2</td><td>0</td><td>0</td><td>1</td></tr><tr><td>&quot;CREDIT_CARD&quot;</td><td>&quot;-TKP288134990JAKARTA ID&quot;</td><td>null</td><td>&quot;ONLINE&quot;</td><td>1</td><td>0.391304</td><td>1</td><td>0</td><td>0</td><td>1</td></tr><tr><td>&quot;QRIS_WONDR&quot;</td><td>&quot;BRUNO PREMI&quot;</td><td>&quot;CIREBON&quot;</td><td>&quot;OFFLINE&quot;</td><td>0</td><td>0.0</td><td>0</td><td>0</td><td>0</td><td>0</td></tr><tr><td>&quot;QRIS_WONDR&quot;</td><td>&quot;NASI LENGKO&quot;</td><td>&quot;JAKARTA TIMUR&quot;</td><td>&quot;OFFLINE&quot;</td><td>0</td><td>0.0</td><td>0</td><td>0</td><td>0</td><td>0</td></tr><tr><td>&hellip;</td><td>&hellip;</td><td>&hellip;</td><td>&hellip;</td><td>&hellip;</td><td>&hellip;</td><td>&hellip;</td><td>&hellip;</td><td>&hellip;</td><td>&hellip;</td></tr><tr><td>&quot;CREDIT_CARD&quot;</td><td>&quot;GRAB* A-7COAA8GWWFW2 SOUTH JAK…</td><td>null</td><td>&quot;ONLINE&quot;</td><td>1</td><td>0.083333</td><td>3</td><td>0</td><td>0</td><td>2</td></tr><tr><td>&quot;QRIS_WONDR&quot;</td><td>&quot;NASI PECEL MASPERRI&quot;</td><td>&quot;BALIKPAPAN&quot;</td><td>&quot;OFFLINE&quot;</td><td>0</td><td>0.0</td><td>0</td><td>0</td><td>0</td><td>0</td></tr><tr><td>&quot;QRIS_WONDR&quot;</td><td>&quot;AMPERA TARUNA FAMILY&quot;</td><td>&quot;SIDOARJO&quot;</td><td>&quot;OFFLINE&quot;</td><td>0</td><td>0.0</td><td>0</td><td>0</td><td>0</td><td>0</td></tr><tr><td>&quot;QRIS_WONDR&quot;</td><td>&quot;AYAM BAKAR SHINAI, KLP DU&quot;</td><td>&quot;TANGERANG&quot;</td><td>&quot;OFFLINE&quot;</td><td>0</td><td>0.0</td><td>0</td><td>0</td><td>0</td><td>1</td></tr><tr><td>&quot;QRIS_WONDR&quot;</td><td>&quot;FOTOKOPI DAMAR&quot;</td><td>&quot;SAMARINDA&quot;</td><td>&quot;OFFLINE&quot;</td><td>0</td><td>0.0</td><td>0</td><td>0</td><td>0</td><td>0</td></tr></tbody></table></div>"
      ],
      "text/plain": [
       "shape: (10_000, 10)\n",
       "┌───────────┬───────────┬───────────┬───────────┬───┬───────────┬───────────┬───────────┬──────────┐\n",
       "│ source    ┆ merchant_ ┆ merchant_ ┆ online_of ┆ … ┆ num_block ┆ known_off ┆ known_onl ┆ num_non_ │\n",
       "│ ---       ┆ name      ┆ location  ┆ fline_fla ┆   ┆ s         ┆ line_merc ┆ ine_merch ┆ alphanum │\n",
       "│ str       ┆ ---       ┆ ---       ┆ g         ┆   ┆ ---       ┆ hant      ┆ ant       ┆ erics    │\n",
       "│           ┆ str       ┆ str       ┆ ---       ┆   ┆ i32       ┆ ---       ┆ ---       ┆ ---      │\n",
       "│           ┆           ┆           ┆ str       ┆   ┆           ┆ i32       ┆ i32       ┆ i32      │\n",
       "╞═══════════╪═══════════╪═══════════╪═══════════╪═══╪═══════════╪═══════════╪═══════════╪══════════╡\n",
       "│ CREDIT_CA ┆ -TKP29182 ┆ null      ┆ ONLINE    ┆ … ┆ 1         ┆ 0         ┆ 0         ┆ 1        │\n",
       "│ RD        ┆ 2088JAKAR ┆           ┆           ┆   ┆           ┆           ┆           ┆          │\n",
       "│           ┆ TA ID     ┆           ┆           ┆   ┆           ┆           ┆           ┆          │\n",
       "│ CREDIT_CA ┆ XL AXIATA ┆ null      ┆ ONLINE    ┆ … ┆ 2         ┆ 0         ┆ 0         ┆ 1        │\n",
       "│ RD        ┆ 2DS       ┆           ┆           ┆   ┆           ┆           ┆           ┆          │\n",
       "│           ┆ *853957   ┆           ┆           ┆   ┆           ┆           ┆           ┆          │\n",
       "│           ┆ JAKARTA … ┆           ┆           ┆   ┆           ┆           ┆           ┆          │\n",
       "│ CREDIT_CA ┆ -TKP28813 ┆ null      ┆ ONLINE    ┆ … ┆ 1         ┆ 0         ┆ 0         ┆ 1        │\n",
       "│ RD        ┆ 4990JAKAR ┆           ┆           ┆   ┆           ┆           ┆           ┆          │\n",
       "│           ┆ TA ID     ┆           ┆           ┆   ┆           ┆           ┆           ┆          │\n",
       "│ QRIS_WOND ┆ BRUNO     ┆ CIREBON   ┆ OFFLINE   ┆ … ┆ 0         ┆ 0         ┆ 0         ┆ 0        │\n",
       "│ R         ┆ PREMI     ┆           ┆           ┆   ┆           ┆           ┆           ┆          │\n",
       "│ QRIS_WOND ┆ NASI      ┆ JAKARTA   ┆ OFFLINE   ┆ … ┆ 0         ┆ 0         ┆ 0         ┆ 0        │\n",
       "│ R         ┆ LENGKO    ┆ TIMUR     ┆           ┆   ┆           ┆           ┆           ┆          │\n",
       "│ …         ┆ …         ┆ …         ┆ …         ┆ … ┆ …         ┆ …         ┆ …         ┆ …        │\n",
       "│ CREDIT_CA ┆ GRAB* A-7 ┆ null      ┆ ONLINE    ┆ … ┆ 3         ┆ 0         ┆ 0         ┆ 2        │\n",
       "│ RD        ┆ COAA8GWWF ┆           ┆           ┆   ┆           ┆           ┆           ┆          │\n",
       "│           ┆ W2 SOUTH  ┆           ┆           ┆   ┆           ┆           ┆           ┆          │\n",
       "│           ┆ JAK…      ┆           ┆           ┆   ┆           ┆           ┆           ┆          │\n",
       "│ QRIS_WOND ┆ NASI      ┆ BALIKPAPA ┆ OFFLINE   ┆ … ┆ 0         ┆ 0         ┆ 0         ┆ 0        │\n",
       "│ R         ┆ PECEL     ┆ N         ┆           ┆   ┆           ┆           ┆           ┆          │\n",
       "│           ┆ MASPERRI  ┆           ┆           ┆   ┆           ┆           ┆           ┆          │\n",
       "│ QRIS_WOND ┆ AMPERA    ┆ SIDOARJO  ┆ OFFLINE   ┆ … ┆ 0         ┆ 0         ┆ 0         ┆ 0        │\n",
       "│ R         ┆ TARUNA    ┆           ┆           ┆   ┆           ┆           ┆           ┆          │\n",
       "│           ┆ FAMILY    ┆           ┆           ┆   ┆           ┆           ┆           ┆          │\n",
       "│ QRIS_WOND ┆ AYAM      ┆ TANGERANG ┆ OFFLINE   ┆ … ┆ 0         ┆ 0         ┆ 0         ┆ 1        │\n",
       "│ R         ┆ BAKAR     ┆           ┆           ┆   ┆           ┆           ┆           ┆          │\n",
       "│           ┆ SHINAI,   ┆           ┆           ┆   ┆           ┆           ┆           ┆          │\n",
       "│           ┆ KLP DU    ┆           ┆           ┆   ┆           ┆           ┆           ┆          │\n",
       "│ QRIS_WOND ┆ FOTOKOPI  ┆ SAMARINDA ┆ OFFLINE   ┆ … ┆ 0         ┆ 0         ┆ 0         ┆ 0        │\n",
       "│ R         ┆ DAMAR     ┆           ┆           ┆   ┆           ┆           ┆           ┆          │\n",
       "└───────────┴───────────┴───────────┴───────────┴───┴───────────┴───────────┴───────────┴──────────┘"
      ]
     },
     "execution_count": 11,
     "metadata": {},
     "output_type": "execute_result"
    }
   ],
   "source": [
    "data"
   ]
  },
  {
   "cell_type": "code",
   "execution_count": 11,
   "id": "2bac0d75-19f4-4d64-a0ec-321ad4273c42",
   "metadata": {},
   "outputs": [],
   "source": [
    "from sklearn.model_selection import train_test_split\n",
    "X = data[['merchant_name','digit_ratio', 'num_blocks', #'location_is_known', \n",
    "          'known_offline_merchant']]\n",
    "y = data['label']\n",
    "\n",
    "X_train_raw, X_test_raw, y_train, y_test = train_test_split(X, y, test_size=0.3, random_state=1)"
   ]
  },
  {
   "cell_type": "code",
   "execution_count": 13,
   "id": "82cf5e7c-d895-4494-b551-5da29bd2e8fc",
   "metadata": {},
   "outputs": [
    {
     "data": {
      "text/html": [
       "<div><style>\n",
       ".dataframe > thead > tr,\n",
       ".dataframe > tbody > tr {\n",
       "  text-align: right;\n",
       "  white-space: pre-wrap;\n",
       "}\n",
       "</style>\n",
       "<small>shape: (3_000, 4)</small><table border=\"1\" class=\"dataframe\"><thead><tr><th>merchant_name</th><th>digit_ratio</th><th>num_blocks</th><th>known_offline_merchant</th></tr><tr><td>str</td><td>f32</td><td>i32</td><td>i32</td></tr></thead><tbody><tr><td>&quot;LAB CITO BOGOR&quot;</td><td>0.0</td><td>0</td><td>0</td></tr><tr><td>&quot;INDOMARET TU67 SALATIGA&quot;</td><td>0.086957</td><td>1</td><td>1</td></tr><tr><td>&quot;TRAVELOKA3DS*1210524667 JAKART…</td><td>0.323529</td><td>2</td><td>0</td></tr><tr><td>&quot;-TKP292496391JAKARTA ID&quot;</td><td>0.391304</td><td>1</td><td>0</td></tr><tr><td>&quot;TRAVELOKAC*1216941198 JAKARTA …</td><td>0.3125</td><td>1</td><td>0</td></tr><tr><td>&hellip;</td><td>&hellip;</td><td>&hellip;</td><td>&hellip;</td></tr><tr><td>&quot;EBAY O*08-12584-27572 408-3766…</td><td>0.611111</td><td>5</td><td>0</td></tr><tr><td>&quot;-TKP292218179JAKARTA ID&quot;</td><td>0.391304</td><td>1</td><td>0</td></tr><tr><td>&quot;BATIK ATIK.&quot;</td><td>0.0</td><td>0</td><td>0</td></tr><tr><td>&quot;KOPERASI GAJAYANA MALANG&quot;</td><td>0.0</td><td>0</td><td>0</td></tr><tr><td>&quot;TOKO CAHAYA&quot;</td><td>0.0</td><td>0</td><td>0</td></tr></tbody></table></div>"
      ],
      "text/plain": [
       "shape: (3_000, 4)\n",
       "┌─────────────────────────────────┬─────────────┬────────────┬────────────────────────┐\n",
       "│ merchant_name                   ┆ digit_ratio ┆ num_blocks ┆ known_offline_merchant │\n",
       "│ ---                             ┆ ---         ┆ ---        ┆ ---                    │\n",
       "│ str                             ┆ f32         ┆ i32        ┆ i32                    │\n",
       "╞═════════════════════════════════╪═════════════╪════════════╪════════════════════════╡\n",
       "│ LAB CITO BOGOR                  ┆ 0.0         ┆ 0          ┆ 0                      │\n",
       "│ INDOMARET TU67 SALATIGA         ┆ 0.086957    ┆ 1          ┆ 1                      │\n",
       "│ TRAVELOKA3DS*1210524667 JAKART… ┆ 0.323529    ┆ 2          ┆ 0                      │\n",
       "│ -TKP292496391JAKARTA ID         ┆ 0.391304    ┆ 1          ┆ 0                      │\n",
       "│ TRAVELOKAC*1216941198 JAKARTA … ┆ 0.3125      ┆ 1          ┆ 0                      │\n",
       "│ …                               ┆ …           ┆ …          ┆ …                      │\n",
       "│ EBAY O*08-12584-27572 408-3766… ┆ 0.611111    ┆ 5          ┆ 0                      │\n",
       "│ -TKP292218179JAKARTA ID         ┆ 0.391304    ┆ 1          ┆ 0                      │\n",
       "│ BATIK ATIK.                     ┆ 0.0         ┆ 0          ┆ 0                      │\n",
       "│ KOPERASI GAJAYANA MALANG        ┆ 0.0         ┆ 0          ┆ 0                      │\n",
       "│ TOKO CAHAYA                     ┆ 0.0         ┆ 0          ┆ 0                      │\n",
       "└─────────────────────────────────┴─────────────┴────────────┴────────────────────────┘"
      ]
     },
     "execution_count": 13,
     "metadata": {},
     "output_type": "execute_result"
    }
   ],
   "source": [
    "X_test_raw"
   ]
  },
  {
   "cell_type": "code",
   "execution_count": 14,
   "id": "691700e5-a267-4b08-b2a0-7069b0b0c0b9",
   "metadata": {},
   "outputs": [
    {
     "name": "stderr",
     "output_type": "stream",
     "text": [
      "/home/master/work/nn_venv/lib/python3.11/site-packages/tqdm/auto.py:21: TqdmWarning: IProgress not found. Please update jupyter and ipywidgets. See https://ipywidgets.readthedocs.io/en/stable/user_install.html\n",
      "  from .autonotebook import tqdm as notebook_tqdm\n"
     ]
    }
   ],
   "source": [
    "# bert auto tokenizer\n",
    "import transformers, tqdm"
   ]
  },
  {
   "cell_type": "code",
   "execution_count": 15,
   "id": "1fb43c97-f81a-45c2-bcab-cba1c4dd8de9",
   "metadata": {},
   "outputs": [],
   "source": [
    "bert_tokenizer = transformers.AutoTokenizer.from_pretrained('huawei-noah/TinyBERT_General_4L_312D')\n",
    "bert_model = transformers.AutoModel.from_pretrained('huawei-noah/TinyBERT_General_4L_312D')"
   ]
  },
  {
   "cell_type": "code",
   "execution_count": 16,
   "id": "22b25d20-4f73-40a7-a318-ffbd56b2de8f",
   "metadata": {},
   "outputs": [
    {
     "data": {
      "text/plain": [
       "BertModel(\n",
       "  (embeddings): BertEmbeddings(\n",
       "    (word_embeddings): Embedding(30522, 312, padding_idx=0)\n",
       "    (position_embeddings): Embedding(512, 312)\n",
       "    (token_type_embeddings): Embedding(2, 312)\n",
       "    (LayerNorm): LayerNorm((312,), eps=1e-12, elementwise_affine=True)\n",
       "    (dropout): Dropout(p=0.1, inplace=False)\n",
       "  )\n",
       "  (encoder): BertEncoder(\n",
       "    (layer): ModuleList(\n",
       "      (0-3): 4 x BertLayer(\n",
       "        (attention): BertAttention(\n",
       "          (self): BertSdpaSelfAttention(\n",
       "            (query): Linear(in_features=312, out_features=312, bias=True)\n",
       "            (key): Linear(in_features=312, out_features=312, bias=True)\n",
       "            (value): Linear(in_features=312, out_features=312, bias=True)\n",
       "            (dropout): Dropout(p=0.1, inplace=False)\n",
       "          )\n",
       "          (output): BertSelfOutput(\n",
       "            (dense): Linear(in_features=312, out_features=312, bias=True)\n",
       "            (LayerNorm): LayerNorm((312,), eps=1e-12, elementwise_affine=True)\n",
       "            (dropout): Dropout(p=0.1, inplace=False)\n",
       "          )\n",
       "        )\n",
       "        (intermediate): BertIntermediate(\n",
       "          (dense): Linear(in_features=312, out_features=1200, bias=True)\n",
       "          (intermediate_act_fn): GELUActivation()\n",
       "        )\n",
       "        (output): BertOutput(\n",
       "          (dense): Linear(in_features=1200, out_features=312, bias=True)\n",
       "          (LayerNorm): LayerNorm((312,), eps=1e-12, elementwise_affine=True)\n",
       "          (dropout): Dropout(p=0.1, inplace=False)\n",
       "        )\n",
       "      )\n",
       "    )\n",
       "  )\n",
       "  (pooler): BertPooler(\n",
       "    (dense): Linear(in_features=312, out_features=312, bias=True)\n",
       "    (activation): Tanh()\n",
       "  )\n",
       ")"
      ]
     },
     "execution_count": 16,
     "metadata": {},
     "output_type": "execute_result"
    }
   ],
   "source": [
    "bert_model.to('cuda')"
   ]
  },
  {
   "cell_type": "code",
   "execution_count": 17,
   "id": "3f69c8ff-2626-4c19-9f83-4ff636b0d2e4",
   "metadata": {},
   "outputs": [
    {
     "name": "stderr",
     "output_type": "stream",
     "text": [
      "Asking to truncate to max_length but no maximum length is provided and the model has no predefined maximum length. Default to no truncation.\n"
     ]
    }
   ],
   "source": [
    "bert_input = bert_tokenizer(list(X_train_raw['merchant_name']), return_tensors=\"pt\", padding=True, truncation=True)"
   ]
  },
  {
   "cell_type": "code",
   "execution_count": 18,
   "id": "dc336ffd-ab3c-4c36-89e9-1336e2d38de8",
   "metadata": {},
   "outputs": [],
   "source": [
    "# Get embeddings\n",
    "with torch.no_grad():\n",
    "    bert_output = bert_model(**bert_input)"
   ]
  },
  {
   "cell_type": "code",
   "execution_count": 19,
   "id": "ac6dad49-8e08-4651-a1f7-55a7a3750ea4",
   "metadata": {},
   "outputs": [],
   "source": [
    "bert_feature = bert_output.last_hidden_state[:, 0, :]"
   ]
  },
  {
   "cell_type": "code",
   "execution_count": 20,
   "id": "fc8cca02-34a1-45c4-a20f-c7fb595e7d66",
   "metadata": {},
   "outputs": [
    {
     "data": {
      "text/plain": [
       "torch.Size([7000, 312])"
      ]
     },
     "execution_count": 20,
     "metadata": {},
     "output_type": "execute_result"
    }
   ],
   "source": [
    "bert_feature.shape"
   ]
  },
  {
   "cell_type": "code",
   "execution_count": 38,
   "id": "793bc294-b39a-4516-af47-1d5200bb69d0",
   "metadata": {},
   "outputs": [],
   "source": [
    "# preprocessing for tfidf: remove special characters, numbers, extra space, convert to lowercase\n",
    "import re\n",
    "\n",
    "def clean_merchant_name(x):\n",
    "    x1 = re.sub(r'[^a-zA-Z\\s]', '', x)\n",
    "    x2 = re.sub(r'\\s+', ' ', x1).lower()\n",
    "    return x2\n",
    "\n",
    "data = data.with_columns(\n",
    "    pl.col(\"merchant_name\").map_elements(lambda x: clean_merchant_name(x), return_dtype = pl.Utf8).alias(\"merchant_name_clean\")\n",
    ")"
   ]
  },
  {
   "cell_type": "code",
   "execution_count": 184,
   "id": "3f47c736-9596-4971-a06f-5542643c3b3a",
   "metadata": {},
   "outputs": [],
   "source": [
    "X = data['merchant_name_clean']\n",
    "y = data['label']"
   ]
  },
  {
   "cell_type": "code",
   "execution_count": 189,
   "id": "e1b3b511-2617-4348-aba4-32bc2eb9da30",
   "metadata": {},
   "outputs": [],
   "source": [
    "from sklearn.model_selection import train_test_split\n",
    "\n",
    "X_train_raw, X_test_raw, y_train, y_test = train_test_split(X, y, test_size=0.3, random_state=1)"
   ]
  },
  {
   "cell_type": "code",
   "execution_count": 200,
   "id": "53c20900-da09-43a9-9966-edb1078aa9d7",
   "metadata": {},
   "outputs": [],
   "source": [
    "# sklearn TFIDF tokenizer\n",
    "from sklearn.feature_extraction.text import TfidfVectorizer\n",
    "\n",
    "vectorizer = TfidfVectorizer(\n",
    "    analyzer='char_wb',  # Character n-grams including word boundaries\n",
    "    ngram_range=(2, 5),  # 2-4 character sequences\n",
    "    min_df=4,\n",
    "    max_df=0.95,\n",
    "    sublinear_tf=True, \n",
    "    norm='l2',  \n",
    "    use_idf=True, \n",
    "    smooth_idf=True, \n",
    ")\n",
    "X_train = vectorizer.fit_transform(X_train_raw)"
   ]
  },
  {
   "cell_type": "code",
   "execution_count": 198,
   "id": "f9b9a8ec-f0ec-402e-8316-5cfba98ddf93",
   "metadata": {},
   "outputs": [
    {
     "data": {
      "text/plain": [
       "<Compressed Sparse Row sparse matrix of dtype 'float64'\n",
       "\twith 19484934 stored elements and shape (350000, 119182)>"
      ]
     },
     "execution_count": 198,
     "metadata": {},
     "output_type": "execute_result"
    }
   ],
   "source": [
    "X_train"
   ]
  },
  {
   "cell_type": "code",
   "execution_count": 201,
   "id": "433a1dd9-2c6a-440d-8dd7-25d22a023a6c",
   "metadata": {},
   "outputs": [],
   "source": [
    "X_test = vectorizer.transform(X_test_raw)"
   ]
  },
  {
   "cell_type": "code",
   "execution_count": 202,
   "id": "48ce71c8-bc21-4449-97a2-951533648519",
   "metadata": {},
   "outputs": [
    {
     "data": {
      "text/plain": [
       "<Compressed Sparse Row sparse matrix of dtype 'float64'\n",
       "\twith 8325890 stored elements and shape (150000, 119182)>"
      ]
     },
     "execution_count": 202,
     "metadata": {},
     "output_type": "execute_result"
    }
   ],
   "source": [
    "X_test"
   ]
  },
  {
   "cell_type": "code",
   "execution_count": 82,
   "id": "822b9fa5-f3de-4c04-b7b0-ecb12ad8ac28",
   "metadata": {},
   "outputs": [],
   "source": [
    "# modeling with torch"
   ]
  },
  {
   "cell_type": "code",
   "execution_count": 22,
   "id": "dfa45252-fdc7-4a55-a8f4-0c6942a1c6ed",
   "metadata": {},
   "outputs": [],
   "source": [
    "import torch"
   ]
  },
  {
   "cell_type": "code",
   "execution_count": 23,
   "id": "e635a678-33b7-4ff9-ae29-4bc057c06db9",
   "metadata": {},
   "outputs": [],
   "source": [
    "device = 'cuda'\n",
    "torch.set_default_device(device)"
   ]
  },
  {
   "cell_type": "code",
   "execution_count": 67,
   "id": "3f3360ee-1b94-448d-9bbf-043cfed1ef01",
   "metadata": {},
   "outputs": [
    {
     "data": {
      "text/plain": [
       "array([22129, 42212,  2633, ..., 45516, 28812, 38533],\n",
       "      shape=(3260473,), dtype=int32)"
      ]
     },
     "execution_count": 67,
     "metadata": {},
     "output_type": "execute_result"
    }
   ],
   "source": [
    "X_train.indptr\n",
    "X_train.indices"
   ]
  },
  {
   "cell_type": "code",
   "execution_count": 72,
   "id": "4fa2cceb-6330-4319-8a7f-12e9c9bf374d",
   "metadata": {},
   "outputs": [],
   "source": [
    "X_train_csr_tensor = torch.sparse_csr_tensor(torch.from_numpy(X_train.indptr),\n",
    "                                       torch.from_numpy(X_train.indices),\n",
    "                                       torch.from_numpy(X_train.data),\n",
    "                                        dtype = torch.float32)"
   ]
  },
  {
   "cell_type": "code",
   "execution_count": 77,
   "id": "9d711dcc-0134-4f04-a306-da6d069b5e78",
   "metadata": {},
   "outputs": [],
   "source": [
    "X_test_csr_tensor = torch.sparse_csr_tensor(torch.from_numpy(X_test.indptr),\n",
    "                                       torch.from_numpy(X_test.indices),\n",
    "                                       torch.from_numpy(X_test.data),\n",
    "                                        dtype = torch.float32)"
   ]
  },
  {
   "cell_type": "code",
   "execution_count": 81,
   "id": "a0bc3dba-3dec-4e6d-86cc-91fbab840fed",
   "metadata": {},
   "outputs": [],
   "source": [
    "y_train = torch.tensor(y_train)\n",
    "y_test = torch.tensor(y_test)"
   ]
  },
  {
   "cell_type": "code",
   "execution_count": 125,
   "id": "11295d70-3517-43fd-a441-6db0fe167489",
   "metadata": {},
   "outputs": [],
   "source": [
    "# baseline model, xgboost"
   ]
  },
  {
   "cell_type": "code",
   "execution_count": 230,
   "id": "48ac3376-ec06-465a-a153-0a52f1a85239",
   "metadata": {},
   "outputs": [
    {
     "data": {
      "text/html": [
       "<div><style>\n",
       ".dataframe > thead > tr,\n",
       ".dataframe > tbody > tr {\n",
       "  text-align: right;\n",
       "  white-space: pre-wrap;\n",
       "}\n",
       "</style>\n",
       "<small>shape: (7_000, 4)</small><table border=\"1\" class=\"dataframe\"><thead><tr><th>merchant_name</th><th>digit_ratio</th><th>num_blocks</th><th>known_offline_merchant</th></tr><tr><td>str</td><td>f32</td><td>i32</td><td>i32</td></tr></thead><tbody><tr><td>&quot;TOKO PALL&quot;</td><td>0.0</td><td>0</td><td>0</td></tr><tr><td>&quot;TRAVELOKA*1221658246 JAKARTA I…</td><td>0.322581</td><td>1</td><td>0</td></tr><tr><td>&quot;SEKIAN KOPI PORIS, CIPOND&quot;</td><td>0.0</td><td>0</td><td>0</td></tr><tr><td>&quot;RM PADANG BASALERO&quot;</td><td>0.0</td><td>0</td><td>0</td></tr><tr><td>&quot;WARUNG IJO BPK. WAHYU&quot;</td><td>0.0</td><td>0</td><td>0</td></tr><tr><td>&hellip;</td><td>&hellip;</td><td>&hellip;</td><td>&hellip;</td></tr><tr><td>&quot;SHOP TKPD 6092057227 JAKARTA I…</td><td>0.322581</td><td>1</td><td>0</td></tr><tr><td>&quot;CAHAYA SIDRAP BIRD SHOP&quot;</td><td>0.0</td><td>0</td><td>0</td></tr><tr><td>&quot;FLIPSIDE TEXNO&quot;</td><td>0.0</td><td>0</td><td>0</td></tr><tr><td>&quot;MIE AYAM BAKSO MBAK YU WI&quot;</td><td>0.0</td><td>0</td><td>0</td></tr><tr><td>&quot;PRU14672085-20250124 JAKARTA I…</td><td>0.516129</td><td>2</td><td>0</td></tr></tbody></table></div>"
      ],
      "text/plain": [
       "shape: (7_000, 4)\n",
       "┌─────────────────────────────────┬─────────────┬────────────┬────────────────────────┐\n",
       "│ merchant_name                   ┆ digit_ratio ┆ num_blocks ┆ known_offline_merchant │\n",
       "│ ---                             ┆ ---         ┆ ---        ┆ ---                    │\n",
       "│ str                             ┆ f32         ┆ i32        ┆ i32                    │\n",
       "╞═════════════════════════════════╪═════════════╪════════════╪════════════════════════╡\n",
       "│ TOKO PALL                       ┆ 0.0         ┆ 0          ┆ 0                      │\n",
       "│ TRAVELOKA*1221658246 JAKARTA I… ┆ 0.322581    ┆ 1          ┆ 0                      │\n",
       "│ SEKIAN KOPI PORIS, CIPOND       ┆ 0.0         ┆ 0          ┆ 0                      │\n",
       "│ RM PADANG BASALERO              ┆ 0.0         ┆ 0          ┆ 0                      │\n",
       "│ WARUNG IJO BPK. WAHYU           ┆ 0.0         ┆ 0          ┆ 0                      │\n",
       "│ …                               ┆ …           ┆ …          ┆ …                      │\n",
       "│ SHOP TKPD 6092057227 JAKARTA I… ┆ 0.322581    ┆ 1          ┆ 0                      │\n",
       "│ CAHAYA SIDRAP BIRD SHOP         ┆ 0.0         ┆ 0          ┆ 0                      │\n",
       "│ FLIPSIDE TEXNO                  ┆ 0.0         ┆ 0          ┆ 0                      │\n",
       "│ MIE AYAM BAKSO MBAK YU WI       ┆ 0.0         ┆ 0          ┆ 0                      │\n",
       "│ PRU14672085-20250124 JAKARTA I… ┆ 0.516129    ┆ 2          ┆ 0                      │\n",
       "└─────────────────────────────────┴─────────────┴────────────┴────────────────────────┘"
      ]
     },
     "execution_count": 230,
     "metadata": {},
     "output_type": "execute_result"
    }
   ],
   "source": [
    "X_train_raw"
   ]
  },
  {
   "cell_type": "code",
   "execution_count": 26,
   "id": "e4ffcb90-2384-452c-a046-af65f0875f5e",
   "metadata": {},
   "outputs": [],
   "source": [
    "X_train = torch.cat([torch.tensor(X_train_raw[['digit_ratio', 'num_blocks', \n",
    "                                               #'location_is_known',\n",
    "                                               'known_offline_merchant']].to_numpy()).to(device), \n",
    "                     #bert_feature\n",
    "                    ], dim=1)\n",
    "y_train = torch.tensor(y_train)"
   ]
  },
  {
   "cell_type": "code",
   "execution_count": 27,
   "id": "a1bb47c7-a31e-499a-94f8-96c624d5540e",
   "metadata": {},
   "outputs": [
    {
     "data": {
      "text/plain": [
       "torch.Size([7000, 3])"
      ]
     },
     "execution_count": 27,
     "metadata": {},
     "output_type": "execute_result"
    }
   ],
   "source": [
    "X_train.shape"
   ]
  },
  {
   "cell_type": "code",
   "execution_count": 28,
   "id": "ca71f4d3-e365-41cb-9451-5dd12d2a0766",
   "metadata": {},
   "outputs": [],
   "source": [
    "# TRAINING"
   ]
  },
  {
   "cell_type": "code",
   "execution_count": 29,
   "id": "58085bf0-3743-49a2-a5bd-d02b96918896",
   "metadata": {},
   "outputs": [],
   "source": [
    "test_bert_input = bert_tokenizer(list(X_test_raw['merchant_name']), return_tensors=\"pt\", padding=True, truncation=True)\n",
    "# Get embeddings\n",
    "with torch.no_grad():\n",
    "    test_bert_output = bert_model(**test_bert_input)"
   ]
  },
  {
   "cell_type": "code",
   "execution_count": 30,
   "id": "d9e4a01f-50ad-47d0-afce-b152a0ed3b3a",
   "metadata": {},
   "outputs": [],
   "source": [
    "test_bert_feature = test_bert_output.last_hidden_state[:, 0, :]"
   ]
  },
  {
   "cell_type": "code",
   "execution_count": 31,
   "id": "a37ad5e0-8237-4713-9a62-4a9103350e56",
   "metadata": {},
   "outputs": [],
   "source": [
    "X_test = torch.cat([torch.tensor(X_test_raw[['digit_ratio','num_blocks',\n",
    "                                             #'location_is_known',\n",
    "                                             'known_offline_merchant']].to_numpy()).to(device), \n",
    "                    #test_bert_feature\n",
    "                   ], \n",
    "                   dim=1)\n",
    "y_test = torch.tensor(y_test)"
   ]
  },
  {
   "cell_type": "code",
   "execution_count": 32,
   "id": "5e11a2a1-b211-4f3f-b72c-750c4e9f0fc2",
   "metadata": {},
   "outputs": [],
   "source": [
    "import xgboost as xgb\n",
    "model = xgb.XGBClassifier(\n",
    "    objective='binary:logistic',\n",
    "    n_estimators=500,\n",
    "    learning_rate=0.1,\n",
    "    max_depth=5,\n",
    "    min_child_weight=3,\n",
    "    subsample=0.8,\n",
    "    colsample_bytree=0.8,\n",
    "    tree_method='hist',  # For faster training with sparse data\n",
    "    device='cuda',\n",
    "    random_state = 1,\n",
    "    early_stopping_rounds = 50\n",
    ")"
   ]
  },
  {
   "cell_type": "code",
   "execution_count": null,
   "id": "16042a29-cbca-4bcd-b3e1-fca807a463b7",
   "metadata": {},
   "outputs": [],
   "source": [
    "# Train model\n",
    "model.fit(\n",
    "    X_train, \n",
    "    y_train,\n",
    "    eval_set=[(X_test, y_test)],\n",
    "    verbose=True,\n",
    ")"
   ]
  },
  {
   "cell_type": "code",
   "execution_count": 34,
   "id": "71f52f87-b09f-4f44-b7e3-8de17ad2474d",
   "metadata": {},
   "outputs": [
    {
     "data": {
      "text/plain": [
       "tensor([0, 0, 1,  ..., 0, 0, 0], device='cuda:0')"
      ]
     },
     "execution_count": 34,
     "metadata": {},
     "output_type": "execute_result"
    }
   ],
   "source": [
    "y_test"
   ]
  },
  {
   "cell_type": "code",
   "execution_count": 35,
   "id": "2941f5a0-3369-4348-97fd-9c6f7855e6cb",
   "metadata": {},
   "outputs": [
    {
     "name": "stdout",
     "output_type": "stream",
     "text": [
      "Accuracy: 0.97\n",
      "\n",
      "Classification Report:\n",
      "              precision    recall  f1-score   support\n",
      "\n",
      "           0       0.97      0.98      0.98      2020\n",
      "           1       0.96      0.94      0.95       980\n",
      "\n",
      "    accuracy                           0.97      3000\n",
      "   macro avg       0.97      0.96      0.97      3000\n",
      "weighted avg       0.97      0.97      0.97      3000\n",
      "\n"
     ]
    }
   ],
   "source": [
    "# 6. Evaluate model\n",
    "from sklearn.metrics import classification_report, accuracy_score\n",
    "y_pred = model.predict(X_test)\n",
    "print(\"Accuracy:\", accuracy_score(y_test.to('cpu'), y_pred))\n",
    "print(\"\\nClassification Report:\")\n",
    "print(classification_report(y_test.to('cpu'), y_pred))"
   ]
  },
  {
   "cell_type": "markdown",
   "id": "c3bf2c6f-11ff-43d4-a616-8728a483e990",
   "metadata": {},
   "source": [
    "## OFFLINE ONLY"
   ]
  },
  {
   "cell_type": "code",
   "execution_count": 96,
   "id": "6dd6f69c-3dee-4f4c-8f08-f3ea637d9968",
   "metadata": {},
   "outputs": [],
   "source": [
    "data_test_2_raw = pl.read_csv('data/merchant_locs_train.csv', separator=',', quote_char='\"').sample(100000)"
   ]
  },
  {
   "cell_type": "code",
   "execution_count": 97,
   "id": "64d52248-3b7c-4b1f-a9ab-89f2515f9bcf",
   "metadata": {},
   "outputs": [],
   "source": [
    "data_test_2_raw = data_test_2_raw.filter(pl.col('merchant_location').is_null() & (pl.col('online_offline_flag') == 'OFFLINE'))"
   ]
  },
  {
   "cell_type": "code",
   "execution_count": 98,
   "id": "7606a660-9921-49cd-a05a-59aa1039805a",
   "metadata": {},
   "outputs": [
    {
     "data": {
      "text/html": [
       "<div><style>\n",
       ".dataframe > thead > tr,\n",
       ".dataframe > tbody > tr {\n",
       "  text-align: right;\n",
       "  white-space: pre-wrap;\n",
       "}\n",
       "</style>\n",
       "<small>shape: (1, 2)</small><table border=\"1\" class=\"dataframe\"><thead><tr><th>online_offline_flag</th><th>count</th></tr><tr><td>str</td><td>u32</td></tr></thead><tbody><tr><td>&quot;OFFLINE&quot;</td><td>2025</td></tr></tbody></table></div>"
      ],
      "text/plain": [
       "shape: (1, 2)\n",
       "┌─────────────────────┬───────┐\n",
       "│ online_offline_flag ┆ count │\n",
       "│ ---                 ┆ ---   │\n",
       "│ str                 ┆ u32   │\n",
       "╞═════════════════════╪═══════╡\n",
       "│ OFFLINE             ┆ 2025  │\n",
       "└─────────────────────┴───────┘"
      ]
     },
     "execution_count": 98,
     "metadata": {},
     "output_type": "execute_result"
    }
   ],
   "source": [
    "data_test_2_raw['online_offline_flag'].value_counts()"
   ]
  },
  {
   "cell_type": "code",
   "execution_count": 99,
   "id": "c33610b8-3f53-4e27-abd7-af02d1510e1c",
   "metadata": {},
   "outputs": [],
   "source": [
    "data_test_2 = data_test_2_raw.with_columns(\n",
    "    pl.col(\"merchant_name\").map_elements(lambda x: count_digit(x)/len(x), return_dtype = pl.Float32).alias(\"digit_ratio\"),\n",
    "    pl.col(\"merchant_name\").map_elements(lambda x: len(re.findall(r'\\d+',x)), return_dtype = pl.Int32).alias(\"num_blocks\"),\n",
    "    #pl.when(pl.col(\"merchant_location\").is_null()).then(pl.lit(0)).otherwise(pl.lit(1)).alias(\"location_is_known\"),\n",
    "    pl.when(pl.col(\"merchant_name\").str.contains(r\"((\\bAFM\\b)|(ALFAMART))|((\\bIDM\\b|INDOMARET))|(FAMILY\\s?MART)|(HHB\\s[A-Z0-9]{3})\")).then(pl.lit(1)).otherwise(pl.lit(0)).alias(\"known_offline_merchant\")\n",
    ")"
   ]
  },
  {
   "cell_type": "code",
   "execution_count": 100,
   "id": "580f06b4-a424-4934-982d-918ccdbe1747",
   "metadata": {},
   "outputs": [],
   "source": [
    "data_test_2 = data_test_2.with_columns(\n",
    "    pl.col(\"online_offline_flag\").replace_strict(mapping).alias(\"label\")\n",
    ")"
   ]
  },
  {
   "cell_type": "code",
   "execution_count": 101,
   "id": "f3001b17-c3be-4db1-8d5a-44e2105e02d3",
   "metadata": {},
   "outputs": [
    {
     "data": {
      "text/html": [
       "<div><style>\n",
       ".dataframe > thead > tr,\n",
       ".dataframe > tbody > tr {\n",
       "  text-align: right;\n",
       "  white-space: pre-wrap;\n",
       "}\n",
       "</style>\n",
       "<small>shape: (2_025, 8)</small><table border=\"1\" class=\"dataframe\"><thead><tr><th>source</th><th>merchant_name</th><th>merchant_location</th><th>online_offline_flag</th><th>digit_ratio</th><th>num_blocks</th><th>known_offline_merchant</th><th>label</th></tr><tr><td>str</td><td>str</td><td>str</td><td>str</td><td>f32</td><td>i32</td><td>i32</td><td>i64</td></tr></thead><tbody><tr><td>&quot;CREDIT_CARD&quot;</td><td>&quot;ALFAMART W172 MBL MEDAN ID&quot;</td><td>null</td><td>&quot;OFFLINE&quot;</td><td>0.115385</td><td>1</td><td>1</td><td>0</td></tr><tr><td>&quot;CREDIT_CARD&quot;</td><td>&quot;ALFAMART 2ABN NGAGEL KAB PATI …</td><td>null</td><td>&quot;OFFLINE&quot;</td><td>0.03125</td><td>1</td><td>1</td><td>0</td></tr><tr><td>&quot;CREDIT_CARD&quot;</td><td>&quot;IDM TNQL BATAM ID&quot;</td><td>null</td><td>&quot;OFFLINE&quot;</td><td>0.0</td><td>0</td><td>1</td><td>0</td></tr><tr><td>&quot;CREDIT_CARD&quot;</td><td>&quot;TOKO LIBERTY MINAHASA KAB.ID&quot;</td><td>null</td><td>&quot;OFFLINE&quot;</td><td>0.0</td><td>0</td><td>0</td><td>0</td></tr><tr><td>&quot;CREDIT_CARD&quot;</td><td>&quot;ALFAMART AD61 MBL TANGERANG ID&quot;</td><td>null</td><td>&quot;OFFLINE&quot;</td><td>0.066667</td><td>1</td><td>1</td><td>0</td></tr><tr><td>&hellip;</td><td>&hellip;</td><td>&hellip;</td><td>&hellip;</td><td>&hellip;</td><td>&hellip;</td><td>&hellip;</td><td>&hellip;</td></tr><tr><td>&quot;CREDIT_CARD&quot;</td><td>&quot;IDM TNTJ MANADO ID&quot;</td><td>null</td><td>&quot;OFFLINE&quot;</td><td>0.0</td><td>0</td><td>1</td><td>0</td></tr><tr><td>&quot;CREDIT_CARD&quot;</td><td>&quot;IDM FWR9 - AMD SUKARAMI PALEMB…</td><td>null</td><td>&quot;OFFLINE&quot;</td><td>0.027778</td><td>1</td><td>1</td><td>0</td></tr><tr><td>&quot;CREDIT_CARD&quot;</td><td>&quot;1M05 ALFAMART VILLA J TANGERAN…</td><td>null</td><td>&quot;OFFLINE&quot;</td><td>0.081081</td><td>2</td><td>1</td><td>0</td></tr><tr><td>&quot;CREDIT_CARD&quot;</td><td>&quot;IDM TXMU-ZONA EROPA BEKASI ID&quot;</td><td>null</td><td>&quot;OFFLINE&quot;</td><td>0.0</td><td>0</td><td>1</td><td>0</td></tr><tr><td>&quot;CREDIT_CARD&quot;</td><td>&quot;ALFAMART UB28 BASUKI RAHMSORON…</td><td>null</td><td>&quot;OFFLINE&quot;</td><td>0.058824</td><td>1</td><td>1</td><td>0</td></tr></tbody></table></div>"
      ],
      "text/plain": [
       "shape: (2_025, 8)\n",
       "┌────────────┬────────────┬────────────┬────────────┬────────────┬────────────┬────────────┬───────┐\n",
       "│ source     ┆ merchant_n ┆ merchant_l ┆ online_off ┆ digit_rati ┆ num_blocks ┆ known_offl ┆ label │\n",
       "│ ---        ┆ ame        ┆ ocation    ┆ line_flag  ┆ o          ┆ ---        ┆ ine_mercha ┆ ---   │\n",
       "│ str        ┆ ---        ┆ ---        ┆ ---        ┆ ---        ┆ i32        ┆ nt         ┆ i64   │\n",
       "│            ┆ str        ┆ str        ┆ str        ┆ f32        ┆            ┆ ---        ┆       │\n",
       "│            ┆            ┆            ┆            ┆            ┆            ┆ i32        ┆       │\n",
       "╞════════════╪════════════╪════════════╪════════════╪════════════╪════════════╪════════════╪═══════╡\n",
       "│ CREDIT_CAR ┆ ALFAMART   ┆ null       ┆ OFFLINE    ┆ 0.115385   ┆ 1          ┆ 1          ┆ 0     │\n",
       "│ D          ┆ W172 MBL   ┆            ┆            ┆            ┆            ┆            ┆       │\n",
       "│            ┆ MEDAN ID   ┆            ┆            ┆            ┆            ┆            ┆       │\n",
       "│ CREDIT_CAR ┆ ALFAMART   ┆ null       ┆ OFFLINE    ┆ 0.03125    ┆ 1          ┆ 1          ┆ 0     │\n",
       "│ D          ┆ 2ABN       ┆            ┆            ┆            ┆            ┆            ┆       │\n",
       "│            ┆ NGAGEL KAB ┆            ┆            ┆            ┆            ┆            ┆       │\n",
       "│            ┆ PATI …     ┆            ┆            ┆            ┆            ┆            ┆       │\n",
       "│ CREDIT_CAR ┆ IDM TNQL   ┆ null       ┆ OFFLINE    ┆ 0.0        ┆ 0          ┆ 1          ┆ 0     │\n",
       "│ D          ┆ BATAM ID   ┆            ┆            ┆            ┆            ┆            ┆       │\n",
       "│ CREDIT_CAR ┆ TOKO       ┆ null       ┆ OFFLINE    ┆ 0.0        ┆ 0          ┆ 0          ┆ 0     │\n",
       "│ D          ┆ LIBERTY    ┆            ┆            ┆            ┆            ┆            ┆       │\n",
       "│            ┆ MINAHASA   ┆            ┆            ┆            ┆            ┆            ┆       │\n",
       "│            ┆ KAB.ID     ┆            ┆            ┆            ┆            ┆            ┆       │\n",
       "│ CREDIT_CAR ┆ ALFAMART   ┆ null       ┆ OFFLINE    ┆ 0.066667   ┆ 1          ┆ 1          ┆ 0     │\n",
       "│ D          ┆ AD61 MBL   ┆            ┆            ┆            ┆            ┆            ┆       │\n",
       "│            ┆ TANGERANG  ┆            ┆            ┆            ┆            ┆            ┆       │\n",
       "│            ┆ ID         ┆            ┆            ┆            ┆            ┆            ┆       │\n",
       "│ …          ┆ …          ┆ …          ┆ …          ┆ …          ┆ …          ┆ …          ┆ …     │\n",
       "│ CREDIT_CAR ┆ IDM TNTJ   ┆ null       ┆ OFFLINE    ┆ 0.0        ┆ 0          ┆ 1          ┆ 0     │\n",
       "│ D          ┆ MANADO ID  ┆            ┆            ┆            ┆            ┆            ┆       │\n",
       "│ CREDIT_CAR ┆ IDM FWR9 - ┆ null       ┆ OFFLINE    ┆ 0.027778   ┆ 1          ┆ 1          ┆ 0     │\n",
       "│ D          ┆ AMD        ┆            ┆            ┆            ┆            ┆            ┆       │\n",
       "│            ┆ SUKARAMI   ┆            ┆            ┆            ┆            ┆            ┆       │\n",
       "│            ┆ PALEMB…    ┆            ┆            ┆            ┆            ┆            ┆       │\n",
       "│ CREDIT_CAR ┆ 1M05       ┆ null       ┆ OFFLINE    ┆ 0.081081   ┆ 2          ┆ 1          ┆ 0     │\n",
       "│ D          ┆ ALFAMART   ┆            ┆            ┆            ┆            ┆            ┆       │\n",
       "│            ┆ VILLA J    ┆            ┆            ┆            ┆            ┆            ┆       │\n",
       "│            ┆ TANGERAN…  ┆            ┆            ┆            ┆            ┆            ┆       │\n",
       "│ CREDIT_CAR ┆ IDM        ┆ null       ┆ OFFLINE    ┆ 0.0        ┆ 0          ┆ 1          ┆ 0     │\n",
       "│ D          ┆ TXMU-ZONA  ┆            ┆            ┆            ┆            ┆            ┆       │\n",
       "│            ┆ EROPA      ┆            ┆            ┆            ┆            ┆            ┆       │\n",
       "│            ┆ BEKASI ID  ┆            ┆            ┆            ┆            ┆            ┆       │\n",
       "│ CREDIT_CAR ┆ ALFAMART   ┆ null       ┆ OFFLINE    ┆ 0.058824   ┆ 1          ┆ 1          ┆ 0     │\n",
       "│ D          ┆ UB28       ┆            ┆            ┆            ┆            ┆            ┆       │\n",
       "│            ┆ BASUKI     ┆            ┆            ┆            ┆            ┆            ┆       │\n",
       "│            ┆ RAHMSORON… ┆            ┆            ┆            ┆            ┆            ┆       │\n",
       "└────────────┴────────────┴────────────┴────────────┴────────────┴────────────┴────────────┴───────┘"
      ]
     },
     "execution_count": 101,
     "metadata": {},
     "output_type": "execute_result"
    }
   ],
   "source": [
    "data_test_2"
   ]
  },
  {
   "cell_type": "code",
   "execution_count": 102,
   "id": "7e246e07-c537-4ec7-a3c3-3bfc23eaa948",
   "metadata": {},
   "outputs": [],
   "source": [
    "def create_bert_feature(data):\n",
    "    bert_input = bert_tokenizer(list(data), return_tensors=\"pt\", padding=True, truncation=True)\n",
    "    # Get embeddings\n",
    "    with torch.no_grad():\n",
    "        bert_output = bert_model(**bert_input)\n",
    "    return bert_output.last_hidden_state[:, 0, :]"
   ]
  },
  {
   "cell_type": "code",
   "execution_count": 103,
   "id": "2e0179a2-217e-4f64-9c46-74ad8e798f47",
   "metadata": {},
   "outputs": [],
   "source": [
    "data_test_2_bert = create_bert_feature(data_test_2['merchant_name'])"
   ]
  },
  {
   "cell_type": "code",
   "execution_count": 104,
   "id": "e0ad6eef-4a44-47aa-a5d1-342e8143c016",
   "metadata": {},
   "outputs": [],
   "source": [
    "#data_test_2 = vectorizer.transform(data_test_2_raw['merchant_name_clean'])"
   ]
  },
  {
   "cell_type": "code",
   "execution_count": 105,
   "id": "50a8d42e-f2dd-44d9-bac9-6e735253bd96",
   "metadata": {},
   "outputs": [],
   "source": [
    "X_test_2 = torch.cat([torch.tensor(data_test_2[['digit_ratio','num_blocks',\n",
    "                                                #'location_is_known', \n",
    "                                                'known_offline_merchant']].to_numpy()).to(device), \n",
    "                      data_test_2_bert\n",
    "                     ], \n",
    "                     dim=1)\n",
    "y_test_2 = torch.tensor(data_test_2['label'])"
   ]
  },
  {
   "cell_type": "code",
   "execution_count": 106,
   "id": "5679750c-54c7-447a-9145-0ca25b6d4f35",
   "metadata": {},
   "outputs": [
    {
     "data": {
      "text/plain": [
       "torch.Size([2025, 315])"
      ]
     },
     "execution_count": 106,
     "metadata": {},
     "output_type": "execute_result"
    }
   ],
   "source": [
    "X_test_2.shape"
   ]
  },
  {
   "cell_type": "code",
   "execution_count": 107,
   "id": "850efbe8-0e86-4a8d-af8d-7ff52a36ecf7",
   "metadata": {},
   "outputs": [
    {
     "ename": "NameError",
     "evalue": "name 'model' is not defined",
     "output_type": "error",
     "traceback": [
      "\u001b[0;31m---------------------------------------------------------------------------\u001b[0m",
      "\u001b[0;31mNameError\u001b[0m                                 Traceback (most recent call last)",
      "Cell \u001b[0;32mIn[107], line 3\u001b[0m\n\u001b[1;32m      1\u001b[0m \u001b[38;5;66;03m# 6. Evaluate model\u001b[39;00m\n\u001b[1;32m      2\u001b[0m \u001b[38;5;28;01mfrom\u001b[39;00m\u001b[38;5;250m \u001b[39m\u001b[38;5;21;01msklearn\u001b[39;00m\u001b[38;5;21;01m.\u001b[39;00m\u001b[38;5;21;01mmetrics\u001b[39;00m\u001b[38;5;250m \u001b[39m\u001b[38;5;28;01mimport\u001b[39;00m classification_report, accuracy_score\n\u001b[0;32m----> 3\u001b[0m y_pred \u001b[38;5;241m=\u001b[39m \u001b[43mmodel\u001b[49m\u001b[38;5;241m.\u001b[39mpredict(X_test_2)\n\u001b[1;32m      4\u001b[0m \u001b[38;5;28mprint\u001b[39m(\u001b[38;5;124m\"\u001b[39m\u001b[38;5;124mAccuracy:\u001b[39m\u001b[38;5;124m\"\u001b[39m, accuracy_score(y_test_2\u001b[38;5;241m.\u001b[39mto(\u001b[38;5;124m'\u001b[39m\u001b[38;5;124mcpu\u001b[39m\u001b[38;5;124m'\u001b[39m), y_pred))\n\u001b[1;32m      5\u001b[0m \u001b[38;5;28mprint\u001b[39m(\u001b[38;5;124m\"\u001b[39m\u001b[38;5;130;01m\\n\u001b[39;00m\u001b[38;5;124mClassification Report:\u001b[39m\u001b[38;5;124m\"\u001b[39m)\n",
      "\u001b[0;31mNameError\u001b[0m: name 'model' is not defined"
     ]
    }
   ],
   "source": [
    "# 6. Evaluate model\n",
    "from sklearn.metrics import classification_report, accuracy_score\n",
    "y_pred = model.predict(X_test_2)\n",
    "print(\"Accuracy:\", accuracy_score(y_test_2.to('cpu'), y_pred))\n",
    "print(\"\\nClassification Report:\")\n",
    "print(classification_report(y_test_2.to('cpu'), y_pred))\n"
   ]
  },
  {
   "cell_type": "code",
   "execution_count": 220,
   "id": "a32e8cd0-c870-42c6-a3e8-fbe7761a6de9",
   "metadata": {},
   "outputs": [],
   "source": [
    "data_test_2_raw = data_test_2_raw.with_columns(\n",
    "    pl.lit(y_pred).alias('predicted_label')\n",
    ")"
   ]
  },
  {
   "cell_type": "code",
   "execution_count": 204,
   "id": "15fbc99a-759d-46f6-8f6c-179d88befdaf",
   "metadata": {},
   "outputs": [],
   "source": [
    "data_test_2_raw.filter(pl.col('predicted_label') == 1).write_csv('wrong_prediction.csv')"
   ]
  },
  {
   "cell_type": "markdown",
   "id": "e0bfc158-7bc5-49d6-b6f3-d40edaccc423",
   "metadata": {},
   "source": [
    "# Track Feature Experiments"
   ]
  },
  {
   "cell_type": "code",
   "execution_count": 54,
   "id": "3f5aa58a-e7e5-4af4-aa54-42588f9c1c48",
   "metadata": {},
   "outputs": [],
   "source": [
    "import mlflow\n",
    "from mlflow.models import infer_signature\n",
    "import xgboost as xgb\n",
    "from sklearn.metrics import classification_report, accuracy_score, f1_score, roc_auc_score"
   ]
  },
  {
   "cell_type": "code",
   "execution_count": 20,
   "id": "27aae32d-eb95-4de7-a568-15e8392531fb",
   "metadata": {},
   "outputs": [
    {
     "name": "stderr",
     "output_type": "stream",
     "text": [
      "/home/master/work/nn_venv/lib/python3.11/site-packages/tqdm/auto.py:21: TqdmWarning: IProgress not found. Please update jupyter and ipywidgets. See https://ipywidgets.readthedocs.io/en/stable/user_install.html\n",
      "  from .autonotebook import tqdm as notebook_tqdm\n"
     ]
    },
    {
     "data": {
      "text/plain": [
       "BertModel(\n",
       "  (embeddings): BertEmbeddings(\n",
       "    (word_embeddings): Embedding(30522, 312, padding_idx=0)\n",
       "    (position_embeddings): Embedding(512, 312)\n",
       "    (token_type_embeddings): Embedding(2, 312)\n",
       "    (LayerNorm): LayerNorm((312,), eps=1e-12, elementwise_affine=True)\n",
       "    (dropout): Dropout(p=0.1, inplace=False)\n",
       "  )\n",
       "  (encoder): BertEncoder(\n",
       "    (layer): ModuleList(\n",
       "      (0-3): 4 x BertLayer(\n",
       "        (attention): BertAttention(\n",
       "          (self): BertSdpaSelfAttention(\n",
       "            (query): Linear(in_features=312, out_features=312, bias=True)\n",
       "            (key): Linear(in_features=312, out_features=312, bias=True)\n",
       "            (value): Linear(in_features=312, out_features=312, bias=True)\n",
       "            (dropout): Dropout(p=0.1, inplace=False)\n",
       "          )\n",
       "          (output): BertSelfOutput(\n",
       "            (dense): Linear(in_features=312, out_features=312, bias=True)\n",
       "            (LayerNorm): LayerNorm((312,), eps=1e-12, elementwise_affine=True)\n",
       "            (dropout): Dropout(p=0.1, inplace=False)\n",
       "          )\n",
       "        )\n",
       "        (intermediate): BertIntermediate(\n",
       "          (dense): Linear(in_features=312, out_features=1200, bias=True)\n",
       "          (intermediate_act_fn): GELUActivation()\n",
       "        )\n",
       "        (output): BertOutput(\n",
       "          (dense): Linear(in_features=1200, out_features=312, bias=True)\n",
       "          (LayerNorm): LayerNorm((312,), eps=1e-12, elementwise_affine=True)\n",
       "          (dropout): Dropout(p=0.1, inplace=False)\n",
       "        )\n",
       "      )\n",
       "    )\n",
       "  )\n",
       "  (pooler): BertPooler(\n",
       "    (dense): Linear(in_features=312, out_features=312, bias=True)\n",
       "    (activation): Tanh()\n",
       "  )\n",
       ")"
      ]
     },
     "execution_count": 20,
     "metadata": {},
     "output_type": "execute_result"
    }
   ],
   "source": [
    "# bert auto tokenizer\n",
    "import transformers, tqdm\n",
    "bert_tokenizer = transformers.AutoTokenizer.from_pretrained('huawei-noah/TinyBERT_General_4L_312D')\n",
    "bert_model = transformers.AutoModel.from_pretrained('huawei-noah/TinyBERT_General_4L_312D')\n",
    "bert_model.to(device)"
   ]
  },
  {
   "cell_type": "code",
   "execution_count": 22,
   "id": "a98999d6-169d-4639-b2b1-e374f63da23c",
   "metadata": {},
   "outputs": [],
   "source": [
    "def create_bert_feature(data):\n",
    "    bert_input = bert_tokenizer(list(data), return_tensors=\"pt\", padding=True, truncation=True)\n",
    "    # Get embeddings\n",
    "    with torch.no_grad():\n",
    "        bert_output = bert_model(**bert_input)\n",
    "    return bert_output.last_hidden_state[:, 0, :]"
   ]
  },
  {
   "cell_type": "code",
   "execution_count": 32,
   "id": "dca0028a-40bb-46b7-9bd6-2c91b025c56b",
   "metadata": {},
   "outputs": [],
   "source": [
    "feature_sets = {\n",
    "    'basic':(['digit_ratio', 'num_blocks', 'known_offline_merchant'], []),\n",
    "    'basic_with_bert':(['digit_ratio', 'num_blocks', 'known_offline_merchant'], ['bert'])\n",
    "}"
   ]
  },
  {
   "cell_type": "code",
   "execution_count": 64,
   "id": "b36e5fdd-2e3a-4147-8bb8-a751dfae6da9",
   "metadata": {},
   "outputs": [
    {
     "name": "stderr",
     "output_type": "stream",
     "text": [
      "2025/03/03 22:22:45 INFO mlflow.tracking.fluent: Experiment with name 'MLflow Feature Experiment' does not exist. Creating a new experiment.\n"
     ]
    }
   ],
   "source": [
    "# Create a new MLflow Experiment\n",
    "mlflow.set_experiment(\"MLflow Feature Experiment\")\n",
    "mlflow.set_tracking_uri(uri=\"http://127.0.0.1:5000\")"
   ]
  },
  {
   "cell_type": "code",
   "execution_count": 114,
   "id": "79344744-5f90-46c1-8ff9-ed686ebf5c22",
   "metadata": {},
   "outputs": [],
   "source": [
    "def evaluate_feature_sets(X,y, feature_set_name, features):\n",
    "    with mlflow.start_run(run_name=f'feature_experiment_{feature_set_name}'):\n",
    "        # Log feature set metadata\n",
    "        experiment_id = mlflow.active_run().info.experiment_id\n",
    "        mlflow.log_param(\"feature_set\", feature_set_name)\n",
    "\n",
    "        has_bert = features[1] == ['bert']\n",
    "        num_features = len(features[0]) + 312 if has_bert else len(features[0])\n",
    "        mlflow.log_param(\"num_features\", num_features)\n",
    "        mlflow.log_param(\"features\", features)\n",
    "\n",
    "        if has_bert:\n",
    "            bert_feature = create_bert_feature(data['merchant_name'])\n",
    "            X = torch.cat([torch.tensor(X[features[0]].to_numpy()).to(device), bert_feature], dim=1)\n",
    "        else:\n",
    "            X = torch.tensor(X[features[0]].to_numpy()).to(device)\n",
    "        y = torch.tensor(y)\n",
    "\n",
    "        X_train, X_test, y_train, y_test = train_test_split(X, y, test_size=0.3, random_state=1)\n",
    "        params = {\n",
    "                'objective':'binary:logistic',\n",
    "                'n_estimators': 100,\n",
    "                'learning_rate':0.1,\n",
    "                'max_depth':5,\n",
    "                'min_child_weight':3,\n",
    "                'subsample':0.8,\n",
    "                'colsample_bytree':0.8,\n",
    "                'tree_method':'hist',\n",
    "                'device':'cuda',\n",
    "                'random_state' : 1,\n",
    "                'early_stopping_rounds' :50\n",
    "        }\n",
    "        mlflow.log_params(params)\n",
    "        \n",
    "        model = xgb.XGBClassifier(**params)\n",
    "        model.fit(X_train, y_train, eval_set=[(X_test, y_test)])\n",
    "\n",
    "\n",
    "        # 6. Evaluate model\n",
    "\n",
    "        y_pred = model.predict(X_test)\n",
    "        # Log multiple metrics\n",
    "        mlflow.log_metric(\"accuracy\", accuracy_score(y_test.to('cpu'), y_pred))\n",
    "        mlflow.log_metric(\"f1_score\", f1_score(y_test.to('cpu'), y_pred))\n",
    "        mlflow.log_metric(\"roc_auc\", roc_auc_score(y_test.to('cpu'), y_pred))\n",
    "\n",
    "        # Evaluate model to specific dataset (accuracy only)\n",
    "        if has_bert:\n",
    "            data_test_bert = create_bert_feature(data_test_2['merchant_name'])\n",
    "            X_test_specific = torch.cat([torch.tensor(data_test_2[features[0]].to_numpy()).to(device), data_test_bert], \n",
    "                     dim=1)\n",
    "        else:\n",
    "            X_test_specific = torch.tensor(data_test_2[features[0]].to_numpy()).to(device)\n",
    "            \n",
    "        y_test_specific = torch.tensor(data_test_2['label'])\n",
    "        y_pred = model.predict(X_test_specific)\n",
    "        mlflow.log_metric(\"accuracy_specific\", accuracy_score(y_test_specific.to('cpu'), y_pred))\n",
    "\n",
    "        # Save report\n",
    "        X_test_specific = data_test_2.with_columns(\n",
    "            pl.lit(y_pred).alias('predicted_label')\n",
    "        )\n",
    "        X_test_specific[['merchant_name']].filter(pl.col('predicted_label') == 1).write_csv(f\"prediction_result_{feature_set_name}.csv\")\n",
    "        mlflow.log_artifact(f\"prediction_result_{feature_set_name}.csv\")\n",
    "        \n",
    "        # Log model\n",
    "        # Infer the model signature\n",
    "        signature = infer_signature(X_train, model.predict(X_train))\n",
    "        \n",
    "        mlflow.sklearn.log_model(model, \"model\",signature=signature)"
   ]
  },
  {
   "cell_type": "code",
   "execution_count": 115,
   "id": "0191e302-42b6-4536-97b0-8eb436945950",
   "metadata": {},
   "outputs": [],
   "source": [
    "X = data.drop('label')\n",
    "y = data['label']"
   ]
  },
  {
   "cell_type": "code",
   "execution_count": 116,
   "id": "9eb3b3ad-1df6-4e19-861f-637864972aae",
   "metadata": {},
   "outputs": [
    {
     "name": "stdout",
     "output_type": "stream",
     "text": [
      "[0]\tvalidation_0-logloss:0.57302\n",
      "[1]\tvalidation_0-logloss:0.52129\n",
      "[2]\tvalidation_0-logloss:0.47845\n",
      "[3]\tvalidation_0-logloss:0.44330\n",
      "[4]\tvalidation_0-logloss:0.41373\n",
      "[5]\tvalidation_0-logloss:0.37492\n",
      "[6]\tvalidation_0-logloss:0.34252\n",
      "[7]\tvalidation_0-logloss:0.31576\n",
      "[8]\tvalidation_0-logloss:0.29426\n",
      "[9]\tvalidation_0-logloss:0.28023\n",
      "[10]\tvalidation_0-logloss:0.26812\n",
      "[11]\tvalidation_0-logloss:0.25210\n",
      "[12]\tvalidation_0-logloss:0.23631\n",
      "[13]\tvalidation_0-logloss:0.22844\n",
      "[14]\tvalidation_0-logloss:0.21756\n",
      "[15]\tvalidation_0-logloss:0.21135\n",
      "[16]\tvalidation_0-logloss:0.20031\n",
      "[17]\tvalidation_0-logloss:0.19069\n",
      "[18]\tvalidation_0-logloss:0.18290\n",
      "[19]\tvalidation_0-logloss:0.17661\n",
      "[20]\tvalidation_0-logloss:0.17143\n",
      "[21]\tvalidation_0-logloss:0.16530\n",
      "[22]\tvalidation_0-logloss:0.16103\n",
      "[23]\tvalidation_0-logloss:0.15720\n",
      "[24]\tvalidation_0-logloss:0.15290\n",
      "[25]\tvalidation_0-logloss:0.14986\n",
      "[26]\tvalidation_0-logloss:0.14617\n",
      "[27]\tvalidation_0-logloss:0.14267\n",
      "[28]\tvalidation_0-logloss:0.14004\n",
      "[29]\tvalidation_0-logloss:0.13795\n",
      "[30]\tvalidation_0-logloss:0.13680\n",
      "[31]\tvalidation_0-logloss:0.13587\n",
      "[32]\tvalidation_0-logloss:0.13427\n",
      "[33]\tvalidation_0-logloss:0.13281\n",
      "[34]\tvalidation_0-logloss:0.13135\n",
      "[35]\tvalidation_0-logloss:0.13083\n",
      "[36]\tvalidation_0-logloss:0.12958\n",
      "[37]\tvalidation_0-logloss:0.12919\n",
      "[38]\tvalidation_0-logloss:0.12815\n",
      "[39]\tvalidation_0-logloss:0.12781\n",
      "[40]\tvalidation_0-logloss:0.12756\n",
      "[41]\tvalidation_0-logloss:0.12721\n",
      "[42]\tvalidation_0-logloss:0.12638\n",
      "[43]\tvalidation_0-logloss:0.12571\n",
      "[44]\tvalidation_0-logloss:0.12493\n",
      "[45]\tvalidation_0-logloss:0.12423\n",
      "[46]\tvalidation_0-logloss:0.12347\n",
      "[47]\tvalidation_0-logloss:0.12272\n",
      "[48]\tvalidation_0-logloss:0.12249\n",
      "[49]\tvalidation_0-logloss:0.12129\n",
      "[50]\tvalidation_0-logloss:0.12084\n",
      "[51]\tvalidation_0-logloss:0.12068\n",
      "[52]\tvalidation_0-logloss:0.11974\n",
      "[53]\tvalidation_0-logloss:0.11959\n",
      "[54]\tvalidation_0-logloss:0.11946\n",
      "[55]\tvalidation_0-logloss:0.11898\n",
      "[56]\tvalidation_0-logloss:0.11854\n",
      "[57]\tvalidation_0-logloss:0.11786\n",
      "[58]\tvalidation_0-logloss:0.11748\n",
      "[59]\tvalidation_0-logloss:0.11732\n",
      "[60]\tvalidation_0-logloss:0.11727\n",
      "[61]\tvalidation_0-logloss:0.11720\n",
      "[62]\tvalidation_0-logloss:0.11673\n",
      "[63]\tvalidation_0-logloss:0.11658\n",
      "[64]\tvalidation_0-logloss:0.11634\n",
      "[65]\tvalidation_0-logloss:0.11604\n",
      "[66]\tvalidation_0-logloss:0.11593\n",
      "[67]\tvalidation_0-logloss:0.11565\n",
      "[68]\tvalidation_0-logloss:0.11543\n",
      "[69]\tvalidation_0-logloss:0.11538\n",
      "[70]\tvalidation_0-logloss:0.11522\n",
      "[71]\tvalidation_0-logloss:0.11517\n",
      "[72]\tvalidation_0-logloss:0.11474\n",
      "[73]\tvalidation_0-logloss:0.11465\n",
      "[74]\tvalidation_0-logloss:0.11444\n",
      "[75]\tvalidation_0-logloss:0.11426\n",
      "[76]\tvalidation_0-logloss:0.11412\n",
      "[77]\tvalidation_0-logloss:0.11412\n",
      "[78]\tvalidation_0-logloss:0.11394\n",
      "[79]\tvalidation_0-logloss:0.11377\n",
      "[80]\tvalidation_0-logloss:0.11371\n",
      "[81]\tvalidation_0-logloss:0.11347\n",
      "[82]\tvalidation_0-logloss:0.11343\n",
      "[83]\tvalidation_0-logloss:0.11331\n",
      "[84]\tvalidation_0-logloss:0.11323\n",
      "[85]\tvalidation_0-logloss:0.11314\n",
      "[86]\tvalidation_0-logloss:0.11310\n",
      "[87]\tvalidation_0-logloss:0.11311\n",
      "[88]\tvalidation_0-logloss:0.11300\n",
      "[89]\tvalidation_0-logloss:0.11287\n",
      "[90]\tvalidation_0-logloss:0.11276\n",
      "[91]\tvalidation_0-logloss:0.11268\n",
      "[92]\tvalidation_0-logloss:0.11265\n",
      "[93]\tvalidation_0-logloss:0.11263\n",
      "[94]\tvalidation_0-logloss:0.11255\n",
      "[95]\tvalidation_0-logloss:0.11245\n",
      "[96]\tvalidation_0-logloss:0.11247\n",
      "[97]\tvalidation_0-logloss:0.11248\n",
      "[98]\tvalidation_0-logloss:0.11248\n",
      "[99]\tvalidation_0-logloss:0.11248\n"
     ]
    },
    {
     "name": "stderr",
     "output_type": "stream",
     "text": [
      "2025/03/03 22:50:07 WARNING mlflow.models.signature: Failed to infer schema for inputs. Setting schema to `Schema([ColSpec(type=AnyType())]` as default. Note that MLflow doesn't validate data types during inference for AnyType. To see the full traceback, set logging level to DEBUG.\n"
     ]
    },
    {
     "name": "stdout",
     "output_type": "stream",
     "text": [
      "🏃 View run feature_experiment_basic at: http://127.0.0.1:5000/#/experiments/648015007643292645/runs/3db965d48a8a4ee58e8cd088e4984b6b\n",
      "🧪 View experiment at: http://127.0.0.1:5000/#/experiments/648015007643292645\n",
      "[0]\tvalidation_0-logloss:0.55070\n",
      "[1]\tvalidation_0-logloss:0.48226\n",
      "[2]\tvalidation_0-logloss:0.42554\n",
      "[3]\tvalidation_0-logloss:0.37799\n",
      "[4]\tvalidation_0-logloss:0.33690\n",
      "[5]\tvalidation_0-logloss:0.30216\n",
      "[6]\tvalidation_0-logloss:0.27167\n",
      "[7]\tvalidation_0-logloss:0.24513\n",
      "[8]\tvalidation_0-logloss:0.22230\n",
      "[9]\tvalidation_0-logloss:0.20202\n",
      "[10]\tvalidation_0-logloss:0.18401\n",
      "[11]\tvalidation_0-logloss:0.16792\n",
      "[12]\tvalidation_0-logloss:0.15355\n",
      "[13]\tvalidation_0-logloss:0.14054\n",
      "[14]\tvalidation_0-logloss:0.12898\n",
      "[15]\tvalidation_0-logloss:0.11872\n",
      "[16]\tvalidation_0-logloss:0.10959\n",
      "[17]\tvalidation_0-logloss:0.10109\n",
      "[18]\tvalidation_0-logloss:0.09384\n",
      "[19]\tvalidation_0-logloss:0.08710\n",
      "[20]\tvalidation_0-logloss:0.08107\n",
      "[21]\tvalidation_0-logloss:0.07588\n",
      "[22]\tvalidation_0-logloss:0.07063\n",
      "[23]\tvalidation_0-logloss:0.06598\n",
      "[24]\tvalidation_0-logloss:0.06171\n",
      "[25]\tvalidation_0-logloss:0.05794\n",
      "[26]\tvalidation_0-logloss:0.05447\n",
      "[27]\tvalidation_0-logloss:0.05129\n",
      "[28]\tvalidation_0-logloss:0.04894\n",
      "[29]\tvalidation_0-logloss:0.04640\n",
      "[30]\tvalidation_0-logloss:0.04395\n",
      "[31]\tvalidation_0-logloss:0.04193\n",
      "[32]\tvalidation_0-logloss:0.04023\n",
      "[33]\tvalidation_0-logloss:0.03836\n",
      "[34]\tvalidation_0-logloss:0.03651\n",
      "[35]\tvalidation_0-logloss:0.03511\n",
      "[36]\tvalidation_0-logloss:0.03379\n",
      "[37]\tvalidation_0-logloss:0.03255\n",
      "[38]\tvalidation_0-logloss:0.03146\n",
      "[39]\tvalidation_0-logloss:0.03031\n",
      "[40]\tvalidation_0-logloss:0.02940\n",
      "[41]\tvalidation_0-logloss:0.02841\n",
      "[42]\tvalidation_0-logloss:0.02743\n",
      "[43]\tvalidation_0-logloss:0.02678\n",
      "[44]\tvalidation_0-logloss:0.02624\n",
      "[45]\tvalidation_0-logloss:0.02563\n",
      "[46]\tvalidation_0-logloss:0.02497\n",
      "[47]\tvalidation_0-logloss:0.02435\n",
      "[48]\tvalidation_0-logloss:0.02398\n",
      "[49]\tvalidation_0-logloss:0.02343\n",
      "[50]\tvalidation_0-logloss:0.02297\n",
      "[51]\tvalidation_0-logloss:0.02242\n",
      "[52]\tvalidation_0-logloss:0.02215\n",
      "[53]\tvalidation_0-logloss:0.02158\n",
      "[54]\tvalidation_0-logloss:0.02115\n",
      "[55]\tvalidation_0-logloss:0.02086\n",
      "[56]\tvalidation_0-logloss:0.02053\n",
      "[57]\tvalidation_0-logloss:0.02020\n",
      "[58]\tvalidation_0-logloss:0.01991\n",
      "[59]\tvalidation_0-logloss:0.01968\n",
      "[60]\tvalidation_0-logloss:0.01951\n",
      "[61]\tvalidation_0-logloss:0.01923\n",
      "[62]\tvalidation_0-logloss:0.01894\n",
      "[63]\tvalidation_0-logloss:0.01875\n",
      "[64]\tvalidation_0-logloss:0.01835\n",
      "[65]\tvalidation_0-logloss:0.01835\n",
      "[66]\tvalidation_0-logloss:0.01821\n",
      "[67]\tvalidation_0-logloss:0.01809\n",
      "[68]\tvalidation_0-logloss:0.01798\n",
      "[69]\tvalidation_0-logloss:0.01769\n",
      "[70]\tvalidation_0-logloss:0.01745\n",
      "[71]\tvalidation_0-logloss:0.01720\n",
      "[72]\tvalidation_0-logloss:0.01712\n",
      "[73]\tvalidation_0-logloss:0.01702\n",
      "[74]\tvalidation_0-logloss:0.01693\n",
      "[75]\tvalidation_0-logloss:0.01682\n",
      "[76]\tvalidation_0-logloss:0.01677\n",
      "[77]\tvalidation_0-logloss:0.01663\n",
      "[78]\tvalidation_0-logloss:0.01650\n",
      "[79]\tvalidation_0-logloss:0.01637\n",
      "[80]\tvalidation_0-logloss:0.01625\n",
      "[81]\tvalidation_0-logloss:0.01610\n",
      "[82]\tvalidation_0-logloss:0.01600\n",
      "[83]\tvalidation_0-logloss:0.01599\n",
      "[84]\tvalidation_0-logloss:0.01592\n",
      "[85]\tvalidation_0-logloss:0.01591\n",
      "[86]\tvalidation_0-logloss:0.01581\n",
      "[87]\tvalidation_0-logloss:0.01565\n",
      "[88]\tvalidation_0-logloss:0.01554\n",
      "[89]\tvalidation_0-logloss:0.01541\n",
      "[90]\tvalidation_0-logloss:0.01536\n",
      "[91]\tvalidation_0-logloss:0.01531\n",
      "[92]\tvalidation_0-logloss:0.01533\n",
      "[93]\tvalidation_0-logloss:0.01533\n",
      "[94]\tvalidation_0-logloss:0.01531\n",
      "[95]\tvalidation_0-logloss:0.01522\n",
      "[96]\tvalidation_0-logloss:0.01517\n",
      "[97]\tvalidation_0-logloss:0.01510\n",
      "[98]\tvalidation_0-logloss:0.01508\n",
      "[99]\tvalidation_0-logloss:0.01499\n"
     ]
    },
    {
     "name": "stderr",
     "output_type": "stream",
     "text": [
      "2025/03/03 22:50:11 WARNING mlflow.models.signature: Failed to infer schema for inputs. Setting schema to `Schema([ColSpec(type=AnyType())]` as default. Note that MLflow doesn't validate data types during inference for AnyType. To see the full traceback, set logging level to DEBUG.\n"
     ]
    },
    {
     "name": "stdout",
     "output_type": "stream",
     "text": [
      "🏃 View run feature_experiment_basic_with_bert at: http://127.0.0.1:5000/#/experiments/648015007643292645/runs/f667ced415764497bde8b08f101e591b\n",
      "🧪 View experiment at: http://127.0.0.1:5000/#/experiments/648015007643292645\n"
     ]
    }
   ],
   "source": [
    "for feature_name, features in feature_sets.items():\n",
    "    evaluate_feature_sets(X,y,feature_name, features)"
   ]
  },
  {
   "cell_type": "code",
   "execution_count": 37,
   "id": "117a5e96-ab1c-4c35-b008-04eb28f69633",
   "metadata": {},
   "outputs": [
    {
     "data": {
      "text/html": [
       "<div><style>\n",
       ".dataframe > thead > tr,\n",
       ".dataframe > tbody > tr {\n",
       "  text-align: right;\n",
       "  white-space: pre-wrap;\n",
       "}\n",
       "</style>\n",
       "<small>shape: (10_000,)</small><table border=\"1\" class=\"dataframe\"><thead><tr><th>label</th></tr><tr><td>i64</td></tr></thead><tbody><tr><td>0</td></tr><tr><td>1</td></tr><tr><td>0</td></tr><tr><td>0</td></tr><tr><td>1</td></tr><tr><td>&hellip;</td></tr><tr><td>0</td></tr><tr><td>0</td></tr><tr><td>0</td></tr><tr><td>1</td></tr><tr><td>1</td></tr></tbody></table></div>"
      ],
      "text/plain": [
       "shape: (10_000,)\n",
       "Series: 'label' [i64]\n",
       "[\n",
       "\t0\n",
       "\t1\n",
       "\t0\n",
       "\t0\n",
       "\t1\n",
       "\t…\n",
       "\t0\n",
       "\t0\n",
       "\t0\n",
       "\t1\n",
       "\t1\n",
       "]"
      ]
     },
     "execution_count": 37,
     "metadata": {},
     "output_type": "execute_result"
    }
   ],
   "source": [
    "data['label']"
   ]
  },
  {
   "cell_type": "code",
   "execution_count": null,
   "id": "b48849da-44b7-4e18-ab91-13fb5e4fc945",
   "metadata": {},
   "outputs": [],
   "source": []
  }
 ],
 "metadata": {
  "kernelspec": {
   "display_name": "Python 3 (ipykernel)",
   "language": "python",
   "name": "python3"
  },
  "language_info": {
   "codemirror_mode": {
    "name": "ipython",
    "version": 3
   },
   "file_extension": ".py",
   "mimetype": "text/x-python",
   "name": "python",
   "nbconvert_exporter": "python",
   "pygments_lexer": "ipython3",
   "version": "3.11.2"
  }
 },
 "nbformat": 4,
 "nbformat_minor": 5
}
