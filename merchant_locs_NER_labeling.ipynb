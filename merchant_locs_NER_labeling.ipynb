{
 "cells": [
  {
   "cell_type": "code",
   "execution_count": 1,
   "metadata": {
    "editable": true,
    "slideshow": {
     "slide_type": "slide"
    },
    "tags": []
   },
   "outputs": [],
   "source": [
    "import polars as pl\n",
    "import re\n",
    "\n",
    "from collections import Counter \n"
   ]
  },
  {
   "cell_type": "code",
   "execution_count": 354,
   "metadata": {},
   "outputs": [],
   "source": [
    "data = pl.read_csv('data/merchant_location_training.csv', separator=',', quote_char='\"')"
   ]
  },
  {
   "cell_type": "code",
   "execution_count": 351,
   "metadata": {},
   "outputs": [],
   "source": [
    "data = pl.read_csv('data/merchant_locs_train.csv', separator=',', quote_char='\"')"
   ]
  },
  {
   "cell_type": "code",
   "execution_count": 353,
   "metadata": {},
   "outputs": [
    {
     "data": {
      "text/html": [
       "<div><style>\n",
       ".dataframe > thead > tr,\n",
       ".dataframe > tbody > tr {\n",
       "  text-align: right;\n",
       "  white-space: pre-wrap;\n",
       "}\n",
       "</style>\n",
       "<small>shape: (2_373_230, 4)</small><table border=\"1\" class=\"dataframe\"><thead><tr><th>source</th><th>merchant_name</th><th>merchant_location</th><th>online_offline_flag</th></tr><tr><td>str</td><td>str</td><td>str</td><td>str</td></tr></thead><tbody><tr><td>&quot;CREDIT_CARD&quot;</td><td>&quot;YOG3102 POP MART DR WAHIDYOGYA…</td><td>null</td><td>&quot;ONLINE&quot;</td></tr><tr><td>&quot;QRIS_WONDR&quot;</td><td>&quot;ANIMO BAKERY&quot;</td><td>&quot;TANGERANG&quot;</td><td>&quot;OFFLINE&quot;</td></tr><tr><td>&quot;QRIS_WONDR&quot;</td><td>&quot;APOTEK 92 FARMA&quot;</td><td>&quot;SURABAYA (KOTA)&quot;</td><td>&quot;OFFLINE&quot;</td></tr><tr><td>&quot;QRIS_WONDR&quot;</td><td>&quot;CHATERAISE HIVE KHI&quot;</td><td>&quot;BEKASI&quot;</td><td>&quot;OFFLINE&quot;</td></tr><tr><td>&quot;QRIS_WONDR&quot;</td><td>&quot;FOTOCOPY ALFATTAH MASTRIP&quot;</td><td>&quot;KAB. JEMBER&quot;</td><td>&quot;OFFLINE&quot;</td></tr><tr><td>&hellip;</td><td>&hellip;</td><td>&hellip;</td><td>&hellip;</td></tr><tr><td>&quot;QRIS_WONDR&quot;</td><td>&quot;JUICE KABITA, DASANA INDA&quot;</td><td>&quot;TANGERANG&quot;</td><td>&quot;OFFLINE&quot;</td></tr><tr><td>&quot;CREDIT_CARD&quot;</td><td>&quot;TRAVELOKA*1202604564 JAKARTA I…</td><td>null</td><td>&quot;ONLINE&quot;</td></tr><tr><td>&quot;QRIS_WONDR&quot;</td><td>&quot;KEDAI LINGGA&quot;</td><td>&quot;SUMEDANG&quot;</td><td>&quot;OFFLINE&quot;</td></tr><tr><td>&quot;QRIS_WONDR&quot;</td><td>&quot;MUTIARA MANDIRI COLL&quot;</td><td>&quot;MOJOKERTO&quot;</td><td>&quot;OFFLINE&quot;</td></tr><tr><td>&quot;QRIS_WONDR&quot;</td><td>&quot;CHIGO X FLIP&quot;</td><td>&quot;BANDAR LAMPUNG&quot;</td><td>&quot;OFFLINE&quot;</td></tr></tbody></table></div>"
      ],
      "text/plain": [
       "shape: (2_373_230, 4)\n",
       "┌─────────────┬─────────────────────────────────┬───────────────────┬─────────────────────┐\n",
       "│ source      ┆ merchant_name                   ┆ merchant_location ┆ online_offline_flag │\n",
       "│ ---         ┆ ---                             ┆ ---               ┆ ---                 │\n",
       "│ str         ┆ str                             ┆ str               ┆ str                 │\n",
       "╞═════════════╪═════════════════════════════════╪═══════════════════╪═════════════════════╡\n",
       "│ CREDIT_CARD ┆ YOG3102 POP MART DR WAHIDYOGYA… ┆ null              ┆ ONLINE              │\n",
       "│ QRIS_WONDR  ┆ ANIMO BAKERY                    ┆ TANGERANG         ┆ OFFLINE             │\n",
       "│ QRIS_WONDR  ┆ APOTEK 92 FARMA                 ┆ SURABAYA (KOTA)   ┆ OFFLINE             │\n",
       "│ QRIS_WONDR  ┆ CHATERAISE HIVE KHI             ┆ BEKASI            ┆ OFFLINE             │\n",
       "│ QRIS_WONDR  ┆ FOTOCOPY ALFATTAH MASTRIP       ┆ KAB. JEMBER       ┆ OFFLINE             │\n",
       "│ …           ┆ …                               ┆ …                 ┆ …                   │\n",
       "│ QRIS_WONDR  ┆ JUICE KABITA, DASANA INDA       ┆ TANGERANG         ┆ OFFLINE             │\n",
       "│ CREDIT_CARD ┆ TRAVELOKA*1202604564 JAKARTA I… ┆ null              ┆ ONLINE              │\n",
       "│ QRIS_WONDR  ┆ KEDAI LINGGA                    ┆ SUMEDANG          ┆ OFFLINE             │\n",
       "│ QRIS_WONDR  ┆ MUTIARA MANDIRI COLL            ┆ MOJOKERTO         ┆ OFFLINE             │\n",
       "│ QRIS_WONDR  ┆ CHIGO X FLIP                    ┆ BANDAR LAMPUNG    ┆ OFFLINE             │\n",
       "└─────────────┴─────────────────────────────────┴───────────────────┴─────────────────────┘"
      ]
     },
     "execution_count": 353,
     "metadata": {},
     "output_type": "execute_result"
    }
   ],
   "source": [
    "data"
   ]
  },
  {
   "cell_type": "code",
   "execution_count": 4,
   "metadata": {
    "editable": true,
    "slideshow": {
     "slide_type": ""
    },
    "tags": []
   },
   "outputs": [
    {
     "data": {
      "text/html": [
       "<div><style>\n",
       ".dataframe > thead > tr,\n",
       ".dataframe > tbody > tr {\n",
       "  text-align: right;\n",
       "  white-space: pre-wrap;\n",
       "}\n",
       "</style>\n",
       "<small>shape: (2, 2)</small><table border=\"1\" class=\"dataframe\"><thead><tr><th>online_offline_flag</th><th>count</th></tr><tr><td>str</td><td>u32</td></tr></thead><tbody><tr><td>null</td><td>443739</td></tr><tr><td>&quot;OFFLINE&quot;</td><td>1573240</td></tr></tbody></table></div>"
      ],
      "text/plain": [
       "shape: (2, 2)\n",
       "┌─────────────────────┬─────────┐\n",
       "│ online_offline_flag ┆ count   │\n",
       "│ ---                 ┆ ---     │\n",
       "│ str                 ┆ u32     │\n",
       "╞═════════════════════╪═════════╡\n",
       "│ null                ┆ 443739  │\n",
       "│ OFFLINE             ┆ 1573240 │\n",
       "└─────────────────────┴─────────┘"
      ]
     },
     "execution_count": 4,
     "metadata": {},
     "output_type": "execute_result"
    }
   ],
   "source": [
    "data['online_offline_flag'].value_counts()"
   ]
  },
  {
   "cell_type": "code",
   "execution_count": 4,
   "metadata": {
    "editable": true,
    "slideshow": {
     "slide_type": ""
    },
    "tags": []
   },
   "outputs": [
    {
     "data": {
      "text/html": [
       "<div><style>\n",
       ".dataframe > thead > tr,\n",
       ".dataframe > tbody > tr {\n",
       "  text-align: right;\n",
       "  white-space: pre-wrap;\n",
       "}\n",
       "</style>\n",
       "<small>shape: (492_245, 4)</small><table border=\"1\" class=\"dataframe\"><thead><tr><th>source</th><th>merchant_name</th><th>merchant_location</th><th>online_offline_flag</th></tr><tr><td>str</td><td>str</td><td>str</td><td>str</td></tr></thead><tbody><tr><td>&quot;CREDIT_CARD&quot;</td><td>&quot;CHOP BUNTUT CAK YO SLEMAN (KAB…</td><td>null</td><td>null</td></tr><tr><td>&quot;CREDIT_CARD&quot;</td><td>&quot;TBL* THE SEED LEVEL AMSTERDAM …</td><td>null</td><td>null</td></tr><tr><td>&quot;CREDIT_CARD&quot;</td><td>&quot;SILOAM CLINIC GRH RAYA TANGERA…</td><td>null</td><td>null</td></tr><tr><td>&quot;CREDIT_CARD&quot;</td><td>&quot;SWALAYAN ZOOM MBL TANJUNG PINA…</td><td>null</td><td>null</td></tr><tr><td>&quot;CREDIT_CARD&quot;</td><td>&quot;PEDRO SUN PLAZA MEDAN MEDAN KO…</td><td>null</td><td>null</td></tr><tr><td>&hellip;</td><td>&hellip;</td><td>&hellip;</td><td>&hellip;</td></tr><tr><td>&quot;CREDIT_CARD&quot;</td><td>&quot;AUSSIE TOYS ONLINE PAKENHAM AU&quot;</td><td>null</td><td>null</td></tr><tr><td>&quot;CREDIT_CARD&quot;</td><td>&quot;TOKO EMAS GINBERS MEDAN KOT. I…</td><td>null</td><td>&quot;OFFLINE&quot;</td></tr><tr><td>&quot;CREDIT_CARD&quot;</td><td>&quot;BINTANG SPORT SERANG (KOTA)ID&quot;</td><td>null</td><td>null</td></tr><tr><td>&quot;CREDIT_CARD&quot;</td><td>&quot;ACE HARDWARE MALL PI I JAKARTA…</td><td>null</td><td>null</td></tr><tr><td>&quot;CREDIT_CARD&quot;</td><td>&quot;IDM TJAJ LOMBOK TIMUR ID&quot;</td><td>null</td><td>&quot;OFFLINE&quot;</td></tr></tbody></table></div>"
      ],
      "text/plain": [
       "shape: (492_245, 4)\n",
       "┌─────────────┬─────────────────────────────────┬───────────────────┬─────────────────────┐\n",
       "│ source      ┆ merchant_name                   ┆ merchant_location ┆ online_offline_flag │\n",
       "│ ---         ┆ ---                             ┆ ---               ┆ ---                 │\n",
       "│ str         ┆ str                             ┆ str               ┆ str                 │\n",
       "╞═════════════╪═════════════════════════════════╪═══════════════════╪═════════════════════╡\n",
       "│ CREDIT_CARD ┆ CHOP BUNTUT CAK YO SLEMAN (KAB… ┆ null              ┆ null                │\n",
       "│ CREDIT_CARD ┆ TBL* THE SEED LEVEL AMSTERDAM … ┆ null              ┆ null                │\n",
       "│ CREDIT_CARD ┆ SILOAM CLINIC GRH RAYA TANGERA… ┆ null              ┆ null                │\n",
       "│ CREDIT_CARD ┆ SWALAYAN ZOOM MBL TANJUNG PINA… ┆ null              ┆ null                │\n",
       "│ CREDIT_CARD ┆ PEDRO SUN PLAZA MEDAN MEDAN KO… ┆ null              ┆ null                │\n",
       "│ …           ┆ …                               ┆ …                 ┆ …                   │\n",
       "│ CREDIT_CARD ┆ AUSSIE TOYS ONLINE PAKENHAM AU  ┆ null              ┆ null                │\n",
       "│ CREDIT_CARD ┆ TOKO EMAS GINBERS MEDAN KOT. I… ┆ null              ┆ OFFLINE             │\n",
       "│ CREDIT_CARD ┆ BINTANG SPORT SERANG (KOTA)ID   ┆ null              ┆ null                │\n",
       "│ CREDIT_CARD ┆ ACE HARDWARE MALL PI I JAKARTA… ┆ null              ┆ null                │\n",
       "│ CREDIT_CARD ┆ IDM TJAJ LOMBOK TIMUR ID        ┆ null              ┆ OFFLINE             │\n",
       "└─────────────┴─────────────────────────────────┴───────────────────┴─────────────────────┘"
      ]
     },
     "execution_count": 4,
     "metadata": {},
     "output_type": "execute_result"
    }
   ],
   "source": [
    "data.filter(pl.col('merchant_location').is_null())"
   ]
  },
  {
   "cell_type": "code",
   "execution_count": 5,
   "metadata": {},
   "outputs": [],
   "source": [
    "data.filter(pl.col('merchant_location').is_not_null()).sample(10000).sort('merchant_name').write_csv('data_exploration/not_null_merchant_locations.csv')"
   ]
  },
  {
   "cell_type": "markdown",
   "metadata": {
    "editable": true,
    "slideshow": {
     "slide_type": ""
    },
    "tags": []
   },
   "source": [
    "# CREATE NER LABELS\n",
    "\n",
    "1. Country Label (ID, JP) ISO 3166-1 alpha-2\n",
    "2. City Label\n",
    "3. Area Label\n",
    "4. Merchant Name"
   ]
  },
  {
   "cell_type": "code",
   "execution_count": 4,
   "metadata": {},
   "outputs": [],
   "source": [
    "#for merchant with known location, \n",
    "#we assume the country code is ID, city label is the merchant_location, and merchant name is the merchant name\n",
    "data_location_known = data.filter(pl.col(\"merchant_location\").is_not_null()) \n",
    "data_location_unknown = data.filter(pl.col(\"merchant_location\").is_null())"
   ]
  },
  {
   "cell_type": "code",
   "execution_count": 5,
   "metadata": {
    "editable": true,
    "slideshow": {
     "slide_type": ""
    },
    "tags": []
   },
   "outputs": [],
   "source": [
    "# split the merchant name into country, city, merchant_name\n",
    "# \n",
    "# def split_backward(text):\n",
    "#     splitted = []\n",
    "#     element = \"\"\n",
    "#     split_count = 0\n",
    "#     for i, c in enumerate(reversed(text)):\n",
    "#         if split_count == 2:\n",
    "#             element += c\n",
    "#             if i == len(text) -1:\n",
    "#                 splitted.append(element[::-1])\n",
    "        \n",
    "#         elif c == \" \":\n",
    "#             splitted.append(element[::-1])\n",
    "#             element = \"\"\n",
    "#             split_count += 1\n",
    "#         else:\n",
    "#             element += c\n",
    "\n",
    "#     return splitted\n",
    "\n",
    "def get_word_ngram(text, n):\n",
    "    words = text.split()\n",
    "    if len(words) < n:\n",
    "        return []\n",
    "        \n",
    "    return [tuple(words[i:i+n]) for i in range(len(words) - n + 1)]\n",
    "\n",
    "def split_logically(text):\n",
    "\n",
    "    remainder = text\n",
    "    # last two characters are country id\n",
    "    country_id = remainder[len(text)-2] + remainder[len(text)-1]\n",
    "    remainder = text[:len(text)-2].lower()\n",
    "\n",
    "    #return country_id, get_word_ngram(remainder.strip(),1)\n",
    "    return country_id, re.split(r\"\\s+\", re.sub(r'[^a-zA-Z0-9\\s]','',remainder).strip())\n"
   ]
  },
  {
   "cell_type": "code",
   "execution_count": 6,
   "metadata": {
    "editable": true,
    "slideshow": {
     "slide_type": ""
    },
    "tags": []
   },
   "outputs": [],
   "source": [
    "data_location_unknown = data_location_unknown.with_columns(\n",
    "    pl.col(\"merchant_name\").map_elements(lambda x: split_logically(x)[0], return_dtype = pl.String).alias(\"country_code\"),\n",
    "    pl.col(\"merchant_name\").map_elements(lambda x: split_logically(x)[1], return_dtype = pl.List(pl.String)).alias(\"word_list\"),  \n",
    ")"
   ]
  },
  {
   "cell_type": "code",
   "execution_count": 45,
   "metadata": {
    "editable": true,
    "slideshow": {
     "slide_type": ""
    },
    "tags": []
   },
   "outputs": [],
   "source": [
    "data_location_unknown.sample(1000).write_json(\"data_exploration/split_1.json\")"
   ]
  },
  {
   "cell_type": "code",
   "execution_count": 7,
   "metadata": {
    "editable": true,
    "slideshow": {
     "slide_type": ""
    },
    "tags": []
   },
   "outputs": [
    {
     "data": {
      "text/html": [
       "<div><style>\n",
       ".dataframe > thead > tr,\n",
       ".dataframe > tbody > tr {\n",
       "  text-align: right;\n",
       "  white-space: pre-wrap;\n",
       "}\n",
       "</style>\n",
       "<small>shape: (1, 6)</small><table border=\"1\" class=\"dataframe\"><thead><tr><th>source</th><th>merchant_name</th><th>merchant_location</th><th>online_offline_flag</th><th>country_code</th><th>word_list</th></tr><tr><td>str</td><td>str</td><td>str</td><td>str</td><td>str</td><td>list[str]</td></tr></thead><tbody><tr><td>&quot;CREDIT_CARD&quot;</td><td>&quot;W519 ALFAMART KRUENG M LHOKSEU…</td><td>null</td><td>&quot;OFFLINE&quot;</td><td>&quot;ID&quot;</td><td>[&quot;w519&quot;, &quot;alfamart&quot;, … &quot;lhokseumawe&quot;]</td></tr></tbody></table></div>"
      ],
      "text/plain": [
       "shape: (1, 6)\n",
       "┌─────────────┬─────────────────┬─────────────────┬────────────────┬──────────────┬────────────────┐\n",
       "│ source      ┆ merchant_name   ┆ merchant_locati ┆ online_offline ┆ country_code ┆ word_list      │\n",
       "│ ---         ┆ ---             ┆ on              ┆ _flag          ┆ ---          ┆ ---            │\n",
       "│ str         ┆ str             ┆ ---             ┆ ---            ┆ str          ┆ list[str]      │\n",
       "│             ┆                 ┆ str             ┆ str            ┆              ┆                │\n",
       "╞═════════════╪═════════════════╪═════════════════╪════════════════╪══════════════╪════════════════╡\n",
       "│ CREDIT_CARD ┆ W519 ALFAMART   ┆ null            ┆ OFFLINE        ┆ ID           ┆ [\"w519\",       │\n",
       "│             ┆ KRUENG M        ┆                 ┆                ┆              ┆ \"alfamart\", …  │\n",
       "│             ┆ LHOKSEU…        ┆                 ┆                ┆              ┆ \"lhokse…       │\n",
       "└─────────────┴─────────────────┴─────────────────┴────────────────┴──────────────┴────────────────┘"
      ]
     },
     "execution_count": 7,
     "metadata": {},
     "output_type": "execute_result"
    }
   ],
   "source": [
    "data_location_unknown[45]"
   ]
  },
  {
   "cell_type": "code",
   "execution_count": 111,
   "metadata": {},
   "outputs": [
    {
     "data": {
      "text/plain": [
       "'W519 ALFAMART KRUENG M LHOKSEUMAWE'"
      ]
     },
     "execution_count": 111,
     "metadata": {},
     "output_type": "execute_result"
    }
   ],
   "source": [
    "re.sub(r'[^a-zA-Z0-9\\s]','', \"W519 ALFAMART KRUENG M LHOKSEUMAWE (\").strip()"
   ]
  },
  {
   "cell_type": "code",
   "execution_count": 186,
   "metadata": {
    "editable": true,
    "slideshow": {
     "slide_type": ""
    },
    "tags": []
   },
   "outputs": [
    {
     "data": {
      "text/html": [
       "<div><style>\n",
       ".dataframe > thead > tr,\n",
       ".dataframe > tbody > tr {\n",
       "  text-align: right;\n",
       "  white-space: pre-wrap;\n",
       "}\n",
       "</style>\n",
       "<small>shape: (223, 2)</small><table border=\"1\" class=\"dataframe\"><thead><tr><th>country_code</th><th>count</th></tr><tr><td>str</td><td>u32</td></tr></thead><tbody><tr><td>&quot;DO&quot;</td><td>12</td></tr><tr><td>&quot;YA&quot;</td><td>4</td></tr><tr><td>&quot;KN&quot;</td><td>5</td></tr><tr><td>&quot;LL&quot;</td><td>1</td></tr><tr><td>&quot;I.&quot;</td><td>1</td></tr><tr><td>&hellip;</td><td>&hellip;</td></tr><tr><td>&quot;SE&quot;</td><td>651</td></tr><tr><td>&quot;JP&quot;</td><td>17203</td></tr><tr><td>&quot;GP&quot;</td><td>1</td></tr><tr><td>&quot;JO&quot;</td><td>91</td></tr><tr><td>&quot;KG&quot;</td><td>6</td></tr></tbody></table></div>"
      ],
      "text/plain": [
       "shape: (223, 2)\n",
       "┌──────────────┬───────┐\n",
       "│ country_code ┆ count │\n",
       "│ ---          ┆ ---   │\n",
       "│ str          ┆ u32   │\n",
       "╞══════════════╪═══════╡\n",
       "│ DO           ┆ 12    │\n",
       "│ YA           ┆ 4     │\n",
       "│ KN           ┆ 5     │\n",
       "│ LL           ┆ 1     │\n",
       "│ I.           ┆ 1     │\n",
       "│ …            ┆ …     │\n",
       "│ SE           ┆ 651   │\n",
       "│ JP           ┆ 17203 │\n",
       "│ GP           ┆ 1     │\n",
       "│ JO           ┆ 91    │\n",
       "│ KG           ┆ 6     │\n",
       "└──────────────┴───────┘"
      ]
     },
     "execution_count": 186,
     "metadata": {},
     "output_type": "execute_result"
    }
   ],
   "source": [
    "data_location_unknown['country_code'].value_counts()"
   ]
  },
  {
   "cell_type": "code",
   "execution_count": 380,
   "metadata": {},
   "outputs": [
    {
     "data": {
      "text/html": [
       "<div><style>\n",
       ".dataframe > thead > tr,\n",
       ".dataframe > tbody > tr {\n",
       "  text-align: right;\n",
       "  white-space: pre-wrap;\n",
       "}\n",
       "</style>\n",
       "<small>shape: (1,)</small><table border=\"1\" class=\"dataframe\"><thead><tr><th>word_list</th></tr><tr><td>list[str]</td></tr></thead><tbody><tr><td>[&quot;iboxaasp&quot;, &quot;dago&quot;, &quot;bandung&quot;]</td></tr></tbody></table></div>"
      ],
      "text/plain": [
       "shape: (1,)\n",
       "Series: 'word_list' [list[str]]\n",
       "[\n",
       "\t[\"iboxaasp\", \"dago\", \"bandung\"]\n",
       "]"
      ]
     },
     "execution_count": 380,
     "metadata": {},
     "output_type": "execute_result"
    }
   ],
   "source": [
    "data_location_unknown.filter(pl.col('country_code')== 'ID').sample(1)['word_list']"
   ]
  },
  {
   "cell_type": "markdown",
   "metadata": {},
   "source": [
    "# CREATE DICTIONARY OF INDONESIAN LOCATIONS"
   ]
  },
  {
   "cell_type": "code",
   "execution_count": 2,
   "metadata": {},
   "outputs": [],
   "source": [
    "cities_regencies = pl.read_csv('data/regencies.csv', new_columns=['id', 'id_provinces', 'name'])"
   ]
  },
  {
   "cell_type": "code",
   "execution_count": 3,
   "metadata": {},
   "outputs": [
    {
     "data": {
      "text/html": [
       "<div><style>\n",
       ".dataframe > thead > tr,\n",
       ".dataframe > tbody > tr {\n",
       "  text-align: right;\n",
       "  white-space: pre-wrap;\n",
       "}\n",
       "</style>\n",
       "<small>shape: (513, 3)</small><table border=\"1\" class=\"dataframe\"><thead><tr><th>id</th><th>id_provinces</th><th>name</th></tr><tr><td>i64</td><td>i64</td><td>str</td></tr></thead><tbody><tr><td>1102</td><td>11</td><td>&quot;KABUPATEN ACEH SINGKIL&quot;</td></tr><tr><td>1103</td><td>11</td><td>&quot;KABUPATEN ACEH SELATAN&quot;</td></tr><tr><td>1104</td><td>11</td><td>&quot;KABUPATEN ACEH TENGGARA&quot;</td></tr><tr><td>1105</td><td>11</td><td>&quot;KABUPATEN ACEH TIMUR&quot;</td></tr><tr><td>1106</td><td>11</td><td>&quot;KABUPATEN ACEH TENGAH&quot;</td></tr><tr><td>&hellip;</td><td>&hellip;</td><td>&hellip;</td></tr><tr><td>9433</td><td>94</td><td>&quot;KABUPATEN PUNCAK&quot;</td></tr><tr><td>9434</td><td>94</td><td>&quot;KABUPATEN DOGIYAI&quot;</td></tr><tr><td>9435</td><td>94</td><td>&quot;KABUPATEN INTAN JAYA&quot;</td></tr><tr><td>9436</td><td>94</td><td>&quot;KABUPATEN DEIYAI&quot;</td></tr><tr><td>9471</td><td>94</td><td>&quot;KOTA JAYAPURA&quot;</td></tr></tbody></table></div>"
      ],
      "text/plain": [
       "shape: (513, 3)\n",
       "┌──────┬──────────────┬─────────────────────────┐\n",
       "│ id   ┆ id_provinces ┆ name                    │\n",
       "│ ---  ┆ ---          ┆ ---                     │\n",
       "│ i64  ┆ i64          ┆ str                     │\n",
       "╞══════╪══════════════╪═════════════════════════╡\n",
       "│ 1102 ┆ 11           ┆ KABUPATEN ACEH SINGKIL  │\n",
       "│ 1103 ┆ 11           ┆ KABUPATEN ACEH SELATAN  │\n",
       "│ 1104 ┆ 11           ┆ KABUPATEN ACEH TENGGARA │\n",
       "│ 1105 ┆ 11           ┆ KABUPATEN ACEH TIMUR    │\n",
       "│ 1106 ┆ 11           ┆ KABUPATEN ACEH TENGAH   │\n",
       "│ …    ┆ …            ┆ …                       │\n",
       "│ 9433 ┆ 94           ┆ KABUPATEN PUNCAK        │\n",
       "│ 9434 ┆ 94           ┆ KABUPATEN DOGIYAI       │\n",
       "│ 9435 ┆ 94           ┆ KABUPATEN INTAN JAYA    │\n",
       "│ 9436 ┆ 94           ┆ KABUPATEN DEIYAI        │\n",
       "│ 9471 ┆ 94           ┆ KOTA JAYAPURA           │\n",
       "└──────┴──────────────┴─────────────────────────┘"
      ]
     },
     "execution_count": 3,
     "metadata": {},
     "output_type": "execute_result"
    }
   ],
   "source": [
    "cities_regencies"
   ]
  },
  {
   "cell_type": "code",
   "execution_count": 4,
   "metadata": {},
   "outputs": [],
   "source": [
    "# ngram\n",
    "def get_word_ngram(text, n):\n",
    "    words = text.split()\n",
    "    if len(words) < n:\n",
    "        return []\n",
    "        \n",
    "    return [tuple(words[i:i+n]) for i in range(len(words) - n + 1)]\n",
    "\n",
    "def get_word_ngram_from_list(wordlist, n):\n",
    "    if len(wordlist) < n:\n",
    "        return []\n",
    "        \n",
    "    return [tuple(wordlist[i:i+n]) for i in range(len(wordlist) - n + 1)]\n",
    "\n",
    "def get_char_ngrams(text, n):\n",
    "    \"\"\"Generate character n-grams from text.\"\"\"\n",
    "    # Convert text to lowercase and remove spaces for character-level comparison\n",
    "    text = text.lower().replace(\" \", \"\")\n",
    "    return [text[i:i+n] for i in range(len(text) - n + 1)]"
   ]
  },
  {
   "cell_type": "code",
   "execution_count": 5,
   "metadata": {},
   "outputs": [],
   "source": [
    "cities_regencies = cities_regencies.with_columns(\n",
    "    pl.col('name').str.replace(r'(KABUPATEN|KOTA)','').str.strip_chars().alias('name_clean')\n",
    ")"
   ]
  },
  {
   "cell_type": "code",
   "execution_count": 6,
   "metadata": {},
   "outputs": [
    {
     "data": {
      "text/html": [
       "<div><style>\n",
       ".dataframe > thead > tr,\n",
       ".dataframe > tbody > tr {\n",
       "  text-align: right;\n",
       "  white-space: pre-wrap;\n",
       "}\n",
       "</style>\n",
       "<small>shape: (513, 4)</small><table border=\"1\" class=\"dataframe\"><thead><tr><th>id</th><th>id_provinces</th><th>name</th><th>name_clean</th></tr><tr><td>i64</td><td>i64</td><td>str</td><td>str</td></tr></thead><tbody><tr><td>1102</td><td>11</td><td>&quot;KABUPATEN ACEH SINGKIL&quot;</td><td>&quot;ACEH SINGKIL&quot;</td></tr><tr><td>1103</td><td>11</td><td>&quot;KABUPATEN ACEH SELATAN&quot;</td><td>&quot;ACEH SELATAN&quot;</td></tr><tr><td>1104</td><td>11</td><td>&quot;KABUPATEN ACEH TENGGARA&quot;</td><td>&quot;ACEH TENGGARA&quot;</td></tr><tr><td>1105</td><td>11</td><td>&quot;KABUPATEN ACEH TIMUR&quot;</td><td>&quot;ACEH TIMUR&quot;</td></tr><tr><td>1106</td><td>11</td><td>&quot;KABUPATEN ACEH TENGAH&quot;</td><td>&quot;ACEH TENGAH&quot;</td></tr><tr><td>&hellip;</td><td>&hellip;</td><td>&hellip;</td><td>&hellip;</td></tr><tr><td>9433</td><td>94</td><td>&quot;KABUPATEN PUNCAK&quot;</td><td>&quot;PUNCAK&quot;</td></tr><tr><td>9434</td><td>94</td><td>&quot;KABUPATEN DOGIYAI&quot;</td><td>&quot;DOGIYAI&quot;</td></tr><tr><td>9435</td><td>94</td><td>&quot;KABUPATEN INTAN JAYA&quot;</td><td>&quot;INTAN JAYA&quot;</td></tr><tr><td>9436</td><td>94</td><td>&quot;KABUPATEN DEIYAI&quot;</td><td>&quot;DEIYAI&quot;</td></tr><tr><td>9471</td><td>94</td><td>&quot;KOTA JAYAPURA&quot;</td><td>&quot;JAYAPURA&quot;</td></tr></tbody></table></div>"
      ],
      "text/plain": [
       "shape: (513, 4)\n",
       "┌──────┬──────────────┬─────────────────────────┬───────────────┐\n",
       "│ id   ┆ id_provinces ┆ name                    ┆ name_clean    │\n",
       "│ ---  ┆ ---          ┆ ---                     ┆ ---           │\n",
       "│ i64  ┆ i64          ┆ str                     ┆ str           │\n",
       "╞══════╪══════════════╪═════════════════════════╪═══════════════╡\n",
       "│ 1102 ┆ 11           ┆ KABUPATEN ACEH SINGKIL  ┆ ACEH SINGKIL  │\n",
       "│ 1103 ┆ 11           ┆ KABUPATEN ACEH SELATAN  ┆ ACEH SELATAN  │\n",
       "│ 1104 ┆ 11           ┆ KABUPATEN ACEH TENGGARA ┆ ACEH TENGGARA │\n",
       "│ 1105 ┆ 11           ┆ KABUPATEN ACEH TIMUR    ┆ ACEH TIMUR    │\n",
       "│ 1106 ┆ 11           ┆ KABUPATEN ACEH TENGAH   ┆ ACEH TENGAH   │\n",
       "│ …    ┆ …            ┆ …                       ┆ …             │\n",
       "│ 9433 ┆ 94           ┆ KABUPATEN PUNCAK        ┆ PUNCAK        │\n",
       "│ 9434 ┆ 94           ┆ KABUPATEN DOGIYAI       ┆ DOGIYAI       │\n",
       "│ 9435 ┆ 94           ┆ KABUPATEN INTAN JAYA    ┆ INTAN JAYA    │\n",
       "│ 9436 ┆ 94           ┆ KABUPATEN DEIYAI        ┆ DEIYAI        │\n",
       "│ 9471 ┆ 94           ┆ KOTA JAYAPURA           ┆ JAYAPURA      │\n",
       "└──────┴──────────────┴─────────────────────────┴───────────────┘"
      ]
     },
     "execution_count": 6,
     "metadata": {},
     "output_type": "execute_result"
    }
   ],
   "source": [
    "cities_regencies"
   ]
  },
  {
   "cell_type": "code",
   "execution_count": 7,
   "metadata": {},
   "outputs": [],
   "source": [
    "cities_regencies = cities_regencies.with_columns(\n",
    "    pl.col('name_clean').map_elements(lambda x: get_char_ngrams(x,1), return_dtype=pl.Object).alias('unigram'),\n",
    "    pl.col('name_clean').map_elements(lambda x: get_char_ngrams(x,2), return_dtype=pl.Object).alias('bigram'),\n",
    "    pl.col('name_clean').map_elements(lambda x: get_char_ngrams(x,3), return_dtype=pl.Object).alias('trigram'),\n",
    ")"
   ]
  },
  {
   "cell_type": "code",
   "execution_count": 8,
   "metadata": {},
   "outputs": [
    {
     "data": {
      "text/html": [
       "<div><style>\n",
       ".dataframe > thead > tr,\n",
       ".dataframe > tbody > tr {\n",
       "  text-align: right;\n",
       "  white-space: pre-wrap;\n",
       "}\n",
       "</style>\n",
       "<small>shape: (513, 7)</small><table border=\"1\" class=\"dataframe\"><thead><tr><th>id</th><th>id_provinces</th><th>name</th><th>name_clean</th><th>unigram</th><th>bigram</th><th>trigram</th></tr><tr><td>i64</td><td>i64</td><td>str</td><td>str</td><td>object</td><td>object</td><td>object</td></tr></thead><tbody><tr><td>1102</td><td>11</td><td>&quot;KABUPATEN ACEH SINGKIL&quot;</td><td>&quot;ACEH SINGKIL&quot;</td><td>[&#x27;a&#x27;, &#x27;c&#x27;, &#x27;e&#x27;, &#x27;h&#x27;, &#x27;s&#x27;, &#x27;i&#x27;, &#x27;n&#x27;, &#x27;g&#x27;, &#x27;k&#x27;, &#x27;i&#x27;, &#x27;l&#x27;]</td><td>[&#x27;ac&#x27;, &#x27;ce&#x27;, &#x27;eh&#x27;, &#x27;hs&#x27;, &#x27;si&#x27;, &#x27;in&#x27;, &#x27;ng&#x27;, &#x27;gk&#x27;, &#x27;ki&#x27;, &#x27;il&#x27;]</td><td>[&#x27;ace&#x27;, &#x27;ceh&#x27;, &#x27;ehs&#x27;, &#x27;hsi&#x27;, &#x27;sin&#x27;, &#x27;ing&#x27;, &#x27;ngk&#x27;, &#x27;gki&#x27;, &#x27;kil&#x27;]</td></tr><tr><td>1103</td><td>11</td><td>&quot;KABUPATEN ACEH SELATAN&quot;</td><td>&quot;ACEH SELATAN&quot;</td><td>[&#x27;a&#x27;, &#x27;c&#x27;, &#x27;e&#x27;, &#x27;h&#x27;, &#x27;s&#x27;, &#x27;e&#x27;, &#x27;l&#x27;, &#x27;a&#x27;, &#x27;t&#x27;, &#x27;a&#x27;, &#x27;n&#x27;]</td><td>[&#x27;ac&#x27;, &#x27;ce&#x27;, &#x27;eh&#x27;, &#x27;hs&#x27;, &#x27;se&#x27;, &#x27;el&#x27;, &#x27;la&#x27;, &#x27;at&#x27;, &#x27;ta&#x27;, &#x27;an&#x27;]</td><td>[&#x27;ace&#x27;, &#x27;ceh&#x27;, &#x27;ehs&#x27;, &#x27;hse&#x27;, &#x27;sel&#x27;, &#x27;ela&#x27;, &#x27;lat&#x27;, &#x27;ata&#x27;, &#x27;tan&#x27;]</td></tr><tr><td>1104</td><td>11</td><td>&quot;KABUPATEN ACEH TENGGARA&quot;</td><td>&quot;ACEH TENGGARA&quot;</td><td>[&#x27;a&#x27;, &#x27;c&#x27;, &#x27;e&#x27;, &#x27;h&#x27;, &#x27;t&#x27;, &#x27;e&#x27;, &#x27;n&#x27;, &#x27;g&#x27;, &#x27;g&#x27;, &#x27;a&#x27;, &#x27;r&#x27;, &#x27;a&#x27;]</td><td>[&#x27;ac&#x27;, &#x27;ce&#x27;, &#x27;eh&#x27;, &#x27;ht&#x27;, &#x27;te&#x27;, &#x27;en&#x27;, &#x27;ng&#x27;, &#x27;gg&#x27;, &#x27;ga&#x27;, &#x27;ar&#x27;, &#x27;ra&#x27;]</td><td>[&#x27;ace&#x27;, &#x27;ceh&#x27;, &#x27;eht&#x27;, &#x27;hte&#x27;, &#x27;ten&#x27;, &#x27;eng&#x27;, &#x27;ngg&#x27;, &#x27;gga&#x27;, &#x27;gar&#x27;, &#x27;ara&#x27;]</td></tr><tr><td>1105</td><td>11</td><td>&quot;KABUPATEN ACEH TIMUR&quot;</td><td>&quot;ACEH TIMUR&quot;</td><td>[&#x27;a&#x27;, &#x27;c&#x27;, &#x27;e&#x27;, &#x27;h&#x27;, &#x27;t&#x27;, &#x27;i&#x27;, &#x27;m&#x27;, &#x27;u&#x27;, &#x27;r&#x27;]</td><td>[&#x27;ac&#x27;, &#x27;ce&#x27;, &#x27;eh&#x27;, &#x27;ht&#x27;, &#x27;ti&#x27;, &#x27;im&#x27;, &#x27;mu&#x27;, &#x27;ur&#x27;]</td><td>[&#x27;ace&#x27;, &#x27;ceh&#x27;, &#x27;eht&#x27;, &#x27;hti&#x27;, &#x27;tim&#x27;, &#x27;imu&#x27;, &#x27;mur&#x27;]</td></tr><tr><td>1106</td><td>11</td><td>&quot;KABUPATEN ACEH TENGAH&quot;</td><td>&quot;ACEH TENGAH&quot;</td><td>[&#x27;a&#x27;, &#x27;c&#x27;, &#x27;e&#x27;, &#x27;h&#x27;, &#x27;t&#x27;, &#x27;e&#x27;, &#x27;n&#x27;, &#x27;g&#x27;, &#x27;a&#x27;, &#x27;h&#x27;]</td><td>[&#x27;ac&#x27;, &#x27;ce&#x27;, &#x27;eh&#x27;, &#x27;ht&#x27;, &#x27;te&#x27;, &#x27;en&#x27;, &#x27;ng&#x27;, &#x27;ga&#x27;, &#x27;ah&#x27;]</td><td>[&#x27;ace&#x27;, &#x27;ceh&#x27;, &#x27;eht&#x27;, &#x27;hte&#x27;, &#x27;ten&#x27;, &#x27;eng&#x27;, &#x27;nga&#x27;, &#x27;gah&#x27;]</td></tr><tr><td>&hellip;</td><td>&hellip;</td><td>&hellip;</td><td>&hellip;</td><td>&hellip;</td><td>&hellip;</td><td>&hellip;</td></tr><tr><td>9433</td><td>94</td><td>&quot;KABUPATEN PUNCAK&quot;</td><td>&quot;PUNCAK&quot;</td><td>[&#x27;p&#x27;, &#x27;u&#x27;, &#x27;n&#x27;, &#x27;c&#x27;, &#x27;a&#x27;, &#x27;k&#x27;]</td><td>[&#x27;pu&#x27;, &#x27;un&#x27;, &#x27;nc&#x27;, &#x27;ca&#x27;, &#x27;ak&#x27;]</td><td>[&#x27;pun&#x27;, &#x27;unc&#x27;, &#x27;nca&#x27;, &#x27;cak&#x27;]</td></tr><tr><td>9434</td><td>94</td><td>&quot;KABUPATEN DOGIYAI&quot;</td><td>&quot;DOGIYAI&quot;</td><td>[&#x27;d&#x27;, &#x27;o&#x27;, &#x27;g&#x27;, &#x27;i&#x27;, &#x27;y&#x27;, &#x27;a&#x27;, &#x27;i&#x27;]</td><td>[&#x27;do&#x27;, &#x27;og&#x27;, &#x27;gi&#x27;, &#x27;iy&#x27;, &#x27;ya&#x27;, &#x27;ai&#x27;]</td><td>[&#x27;dog&#x27;, &#x27;ogi&#x27;, &#x27;giy&#x27;, &#x27;iya&#x27;, &#x27;yai&#x27;]</td></tr><tr><td>9435</td><td>94</td><td>&quot;KABUPATEN INTAN JAYA&quot;</td><td>&quot;INTAN JAYA&quot;</td><td>[&#x27;i&#x27;, &#x27;n&#x27;, &#x27;t&#x27;, &#x27;a&#x27;, &#x27;n&#x27;, &#x27;j&#x27;, &#x27;a&#x27;, &#x27;y&#x27;, &#x27;a&#x27;]</td><td>[&#x27;in&#x27;, &#x27;nt&#x27;, &#x27;ta&#x27;, &#x27;an&#x27;, &#x27;nj&#x27;, &#x27;ja&#x27;, &#x27;ay&#x27;, &#x27;ya&#x27;]</td><td>[&#x27;int&#x27;, &#x27;nta&#x27;, &#x27;tan&#x27;, &#x27;anj&#x27;, &#x27;nja&#x27;, &#x27;jay&#x27;, &#x27;aya&#x27;]</td></tr><tr><td>9436</td><td>94</td><td>&quot;KABUPATEN DEIYAI&quot;</td><td>&quot;DEIYAI&quot;</td><td>[&#x27;d&#x27;, &#x27;e&#x27;, &#x27;i&#x27;, &#x27;y&#x27;, &#x27;a&#x27;, &#x27;i&#x27;]</td><td>[&#x27;de&#x27;, &#x27;ei&#x27;, &#x27;iy&#x27;, &#x27;ya&#x27;, &#x27;ai&#x27;]</td><td>[&#x27;dei&#x27;, &#x27;eiy&#x27;, &#x27;iya&#x27;, &#x27;yai&#x27;]</td></tr><tr><td>9471</td><td>94</td><td>&quot;KOTA JAYAPURA&quot;</td><td>&quot;JAYAPURA&quot;</td><td>[&#x27;j&#x27;, &#x27;a&#x27;, &#x27;y&#x27;, &#x27;a&#x27;, &#x27;p&#x27;, &#x27;u&#x27;, &#x27;r&#x27;, &#x27;a&#x27;]</td><td>[&#x27;ja&#x27;, &#x27;ay&#x27;, &#x27;ya&#x27;, &#x27;ap&#x27;, &#x27;pu&#x27;, &#x27;ur&#x27;, &#x27;ra&#x27;]</td><td>[&#x27;jay&#x27;, &#x27;aya&#x27;, &#x27;yap&#x27;, &#x27;apu&#x27;, &#x27;pur&#x27;, &#x27;ura&#x27;]</td></tr></tbody></table></div>"
      ],
      "text/plain": [
       "shape: (513, 7)\n",
       "┌──────┬──────────────┬─────────────────┬────────────────┬────────────┬────────────────┬───────────┐\n",
       "│ id   ┆ id_provinces ┆ name            ┆ name_clean     ┆ unigram    ┆ bigram         ┆ trigram   │\n",
       "│ ---  ┆ ---          ┆ ---             ┆ ---            ┆ ---        ┆ ---            ┆ ---       │\n",
       "│ i64  ┆ i64          ┆ str             ┆ str            ┆ object     ┆ object         ┆ object    │\n",
       "╞══════╪══════════════╪═════════════════╪════════════════╪════════════╪════════════════╪═══════════╡\n",
       "│ 1102 ┆ 11           ┆ KABUPATEN ACEH  ┆ ACEH SINGKIL   ┆ ['a', 'c', ┆ ['ac', 'ce',   ┆ ['ace',   │\n",
       "│      ┆              ┆ SINGKIL         ┆                ┆ 'e', 'h',  ┆ 'eh', 'hs',    ┆ 'ceh',    │\n",
       "│      ┆              ┆                 ┆                ┆ 's', 'i',… ┆ 'si',…         ┆ 'ehs',    │\n",
       "│      ┆              ┆                 ┆                ┆            ┆                ┆ 'hsi', '… │\n",
       "│ 1103 ┆ 11           ┆ KABUPATEN ACEH  ┆ ACEH SELATAN   ┆ ['a', 'c', ┆ ['ac', 'ce',   ┆ ['ace',   │\n",
       "│      ┆              ┆ SELATAN         ┆                ┆ 'e', 'h',  ┆ 'eh', 'hs',    ┆ 'ceh',    │\n",
       "│      ┆              ┆                 ┆                ┆ 's', 'e',… ┆ 'se',…         ┆ 'ehs',    │\n",
       "│      ┆              ┆                 ┆                ┆            ┆                ┆ 'hse', '… │\n",
       "│ 1104 ┆ 11           ┆ KABUPATEN ACEH  ┆ ACEH TENGGARA  ┆ ['a', 'c', ┆ ['ac', 'ce',   ┆ ['ace',   │\n",
       "│      ┆              ┆ TENGGARA        ┆                ┆ 'e', 'h',  ┆ 'eh', 'ht',    ┆ 'ceh',    │\n",
       "│      ┆              ┆                 ┆                ┆ 't', 'e',… ┆ 'te',…         ┆ 'eht',    │\n",
       "│      ┆              ┆                 ┆                ┆            ┆                ┆ 'hte', '… │\n",
       "│ 1105 ┆ 11           ┆ KABUPATEN ACEH  ┆ ACEH TIMUR     ┆ ['a', 'c', ┆ ['ac', 'ce',   ┆ ['ace',   │\n",
       "│      ┆              ┆ TIMUR           ┆                ┆ 'e', 'h',  ┆ 'eh', 'ht',    ┆ 'ceh',    │\n",
       "│      ┆              ┆                 ┆                ┆ 't', 'i',… ┆ 'ti',…         ┆ 'eht',    │\n",
       "│      ┆              ┆                 ┆                ┆            ┆                ┆ 'hti', '… │\n",
       "│ 1106 ┆ 11           ┆ KABUPATEN ACEH  ┆ ACEH TENGAH    ┆ ['a', 'c', ┆ ['ac', 'ce',   ┆ ['ace',   │\n",
       "│      ┆              ┆ TENGAH          ┆                ┆ 'e', 'h',  ┆ 'eh', 'ht',    ┆ 'ceh',    │\n",
       "│      ┆              ┆                 ┆                ┆ 't', 'e',… ┆ 'te',…         ┆ 'eht',    │\n",
       "│      ┆              ┆                 ┆                ┆            ┆                ┆ 'hte', '… │\n",
       "│ …    ┆ …            ┆ …               ┆ …              ┆ …          ┆ …              ┆ …         │\n",
       "│ 9433 ┆ 94           ┆ KABUPATEN       ┆ PUNCAK         ┆ ['p', 'u', ┆ ['pu', 'un',   ┆ ['pun',   │\n",
       "│      ┆              ┆ PUNCAK          ┆                ┆ 'n', 'c',  ┆ 'nc', 'ca',    ┆ 'unc',    │\n",
       "│      ┆              ┆                 ┆                ┆ 'a', 'k']  ┆ 'ak']          ┆ 'nca',    │\n",
       "│      ┆              ┆                 ┆                ┆            ┆                ┆ 'cak']    │\n",
       "│ 9434 ┆ 94           ┆ KABUPATEN       ┆ DOGIYAI        ┆ ['d', 'o', ┆ ['do', 'og',   ┆ ['dog',   │\n",
       "│      ┆              ┆ DOGIYAI         ┆                ┆ 'g', 'i',  ┆ 'gi', 'iy',    ┆ 'ogi',    │\n",
       "│      ┆              ┆                 ┆                ┆ 'y', 'a',… ┆ 'ya',…         ┆ 'giy',    │\n",
       "│      ┆              ┆                 ┆                ┆            ┆                ┆ 'iya', '… │\n",
       "│ 9435 ┆ 94           ┆ KABUPATEN INTAN ┆ INTAN JAYA     ┆ ['i', 'n', ┆ ['in', 'nt',   ┆ ['int',   │\n",
       "│      ┆              ┆ JAYA            ┆                ┆ 't', 'a',  ┆ 'ta', 'an',    ┆ 'nta',    │\n",
       "│      ┆              ┆                 ┆                ┆ 'n', 'j',… ┆ 'nj',…         ┆ 'tan',    │\n",
       "│      ┆              ┆                 ┆                ┆            ┆                ┆ 'anj', '… │\n",
       "│ 9436 ┆ 94           ┆ KABUPATEN       ┆ DEIYAI         ┆ ['d', 'e', ┆ ['de', 'ei',   ┆ ['dei',   │\n",
       "│      ┆              ┆ DEIYAI          ┆                ┆ 'i', 'y',  ┆ 'iy', 'ya',    ┆ 'eiy',    │\n",
       "│      ┆              ┆                 ┆                ┆ 'a', 'i']  ┆ 'ai']          ┆ 'iya',    │\n",
       "│      ┆              ┆                 ┆                ┆            ┆                ┆ 'yai']    │\n",
       "│ 9471 ┆ 94           ┆ KOTA JAYAPURA   ┆ JAYAPURA       ┆ ['j', 'a', ┆ ['ja', 'ay',   ┆ ['jay',   │\n",
       "│      ┆              ┆                 ┆                ┆ 'y', 'a',  ┆ 'ya', 'ap',    ┆ 'aya',    │\n",
       "│      ┆              ┆                 ┆                ┆ 'p', 'u',… ┆ 'pu',…         ┆ 'yap',    │\n",
       "│      ┆              ┆                 ┆                ┆            ┆                ┆ 'apu', '… │\n",
       "└──────┴──────────────┴─────────────────┴────────────────┴────────────┴────────────────┴───────────┘"
      ]
     },
     "execution_count": 8,
     "metadata": {},
     "output_type": "execute_result"
    }
   ],
   "source": [
    "cities_regencies"
   ]
  },
  {
   "cell_type": "code",
   "execution_count": 15,
   "metadata": {},
   "outputs": [
    {
     "data": {
      "text/plain": [
       "['b', 'a', 'n', 'd', 'u', 'n', 'g']"
      ]
     },
     "execution_count": 15,
     "metadata": {},
     "output_type": "execute_result"
    }
   ],
   "source": [
    "bandung = cities_regencies.filter(pl.col('name') == 'KOTA BANDUNG')['unigram'][0]\n",
    "bandung"
   ]
  },
  {
   "cell_type": "code",
   "execution_count": 17,
   "metadata": {},
   "outputs": [
    {
     "data": {
      "text/html": [
       "<div><style>\n",
       ".dataframe > thead > tr,\n",
       ".dataframe > tbody > tr {\n",
       "  text-align: right;\n",
       "  white-space: pre-wrap;\n",
       "}\n",
       "</style>\n",
       "<small>shape: (1, 7)</small><table border=\"1\" class=\"dataframe\"><thead><tr><th>id</th><th>id_provinces</th><th>name</th><th>name_clean</th><th>unigram</th><th>bigram</th><th>trigram</th></tr><tr><td>i64</td><td>i64</td><td>str</td><td>str</td><td>object</td><td>object</td><td>object</td></tr></thead><tbody><tr><td>3174</td><td>31</td><td>&quot;KOTA JAKARTA BARAT&quot;</td><td>&quot; JAKARTA BARAT&quot;</td><td>[&#x27;j&#x27;, &#x27;a&#x27;, &#x27;k&#x27;, &#x27;a&#x27;, &#x27;r&#x27;, &#x27;t&#x27;, &#x27;a&#x27;, &#x27;b&#x27;, &#x27;a&#x27;, &#x27;r&#x27;, &#x27;a&#x27;, &#x27;t&#x27;]</td><td>[&#x27;ja&#x27;, &#x27;ak&#x27;, &#x27;ka&#x27;, &#x27;ar&#x27;, &#x27;rt&#x27;, &#x27;ta&#x27;, &#x27;ab&#x27;, &#x27;ba&#x27;, &#x27;ar&#x27;, &#x27;ra&#x27;, &#x27;at&#x27;]</td><td>[&#x27;jak&#x27;, &#x27;aka&#x27;, &#x27;kar&#x27;, &#x27;art&#x27;, &#x27;rta&#x27;, &#x27;tab&#x27;, &#x27;aba&#x27;, &#x27;bar&#x27;, &#x27;ara&#x27;, &#x27;rat&#x27;]</td></tr></tbody></table></div>"
      ],
      "text/plain": [
       "shape: (1, 7)\n",
       "┌──────┬──────────────┬─────────────────┬────────────────┬────────────┬────────────────┬───────────┐\n",
       "│ id   ┆ id_provinces ┆ name            ┆ name_clean     ┆ unigram    ┆ bigram         ┆ trigram   │\n",
       "│ ---  ┆ ---          ┆ ---             ┆ ---            ┆ ---        ┆ ---            ┆ ---       │\n",
       "│ i64  ┆ i64          ┆ str             ┆ str            ┆ object     ┆ object         ┆ object    │\n",
       "╞══════╪══════════════╪═════════════════╪════════════════╪════════════╪════════════════╪═══════════╡\n",
       "│ 3174 ┆ 31           ┆ KOTA JAKARTA    ┆  JAKARTA BARAT ┆ ['j', 'a', ┆ ['ja', 'ak',   ┆ ['jak',   │\n",
       "│      ┆              ┆ BARAT           ┆                ┆ 'k', 'a',  ┆ 'ka', 'ar',    ┆ 'aka',    │\n",
       "│      ┆              ┆                 ┆                ┆ 'r', 't',… ┆ 'rt',…         ┆ 'kar',    │\n",
       "│      ┆              ┆                 ┆                ┆            ┆                ┆ 'art', '… │\n",
       "└──────┴──────────────┴─────────────────┴────────────────┴────────────┴────────────────┴───────────┘"
      ]
     },
     "execution_count": 17,
     "metadata": {},
     "output_type": "execute_result"
    }
   ],
   "source": [
    "cities_regencies.filter(pl.col('name') == 'KOTA JAKARTA BARAT')"
   ]
  },
  {
   "cell_type": "code",
   "execution_count": 291,
   "metadata": {},
   "outputs": [],
   "source": [
    "def jaccard_similarity(ngrams1, ngrams2):\n",
    "    _ngrams1 = set(ngrams1)\n",
    "    _ngrams2 = set(ngrams2)\n",
    "    \n",
    "    intersection = len(_ngrams1.intersection(_ngrams2))\n",
    "    union = len(_ngrams1.union(_ngrams2))\n",
    "\n",
    "    return intersection / union\n",
    "    "
   ]
  },
  {
   "cell_type": "code",
   "execution_count": 19,
   "metadata": {},
   "outputs": [
    {
     "data": {
      "text/plain": [
       "['chop', 'buntut', 'cak', 'yo', 'sleman', 'kab']"
      ]
     },
     "execution_count": 19,
     "metadata": {},
     "output_type": "execute_result"
    }
   ],
   "source": [
    "merchant_words = data_location_unknown.filter(pl.col('country_code') == 'ID')['word_list'][0].to_list()\n",
    "merchant_words"
   ]
  },
  {
   "cell_type": "code",
   "execution_count": 20,
   "metadata": {},
   "outputs": [
    {
     "data": {
      "text/plain": [
       "['s', 'l', 'e', 'm', 'a', 'n']"
      ]
     },
     "execution_count": 20,
     "metadata": {},
     "output_type": "execute_result"
    }
   ],
   "source": [
    "city_unigram = cities_regencies.filter(pl.col('name').str.contains(r'SLEMAN'))['unigram'][0]\n",
    "city_unigram"
   ]
  },
  {
   "cell_type": "code",
   "execution_count": 21,
   "metadata": {},
   "outputs": [
    {
     "data": {
      "text/plain": [
       "['sl', 'le', 'em', 'ma', 'an']"
      ]
     },
     "execution_count": 21,
     "metadata": {},
     "output_type": "execute_result"
    }
   ],
   "source": [
    "city_bigram = cities_regencies.filter(pl.col('name').str.contains(r'SLEMAN'))['bigram'][0]\n",
    "city_bigram"
   ]
  },
  {
   "cell_type": "code",
   "execution_count": 17,
   "metadata": {},
   "outputs": [
    {
     "data": {
      "text/plain": [
       "['kab',\n",
       " 'abu',\n",
       " 'bup',\n",
       " 'upa',\n",
       " 'pat',\n",
       " 'ate',\n",
       " 'ten',\n",
       " 'ens',\n",
       " 'nsl',\n",
       " 'sle',\n",
       " 'lem',\n",
       " 'ema',\n",
       " 'man']"
      ]
     },
     "execution_count": 17,
     "metadata": {},
     "output_type": "execute_result"
    }
   ],
   "source": [
    "city_trigram = cities_regencies.filter(pl.col('name').str.contains(r'SLEMAN'))['trigram'][0]\n",
    "city_trigram"
   ]
  },
  {
   "cell_type": "code",
   "execution_count": 15,
   "metadata": {},
   "outputs": [],
   "source": [
    "def get_word_ngram_from_list(wordlist, n):\n",
    "    if len(wordlist) < n:\n",
    "        return []\n",
    "    return [tuple(wordlist[i:i+n]) for i in range(len(wordlist) - n + 1)]\n",
    "\n",
    "# def get_word_ngram_from_list(wordlist, n):\n",
    "#     if len(wordlist) < n:\n",
    "#         return []\n",
    "\n",
    "#     result = []\n",
    "#     for i in range(len(wordlist) - n + 1):\n",
    "#         word = []\n",
    "#         for j in range(i,i+n):\n",
    "#             word.append((wordlist[j],j))\n",
    "#         result.append(word)\n",
    "        \n",
    "#     return result"
   ]
  },
  {
   "cell_type": "code",
   "execution_count": 23,
   "metadata": {},
   "outputs": [
    {
     "data": {
      "text/plain": [
       "[('chop', 'buntut'),\n",
       " ('buntut', 'cak'),\n",
       " ('cak', 'yo'),\n",
       " ('yo', 'sleman'),\n",
       " ('sleman', 'kab')]"
      ]
     },
     "execution_count": 23,
     "metadata": {},
     "output_type": "execute_result"
    }
   ],
   "source": [
    "get_word_ngram_from_list(merchant_words,2)"
   ]
  },
  {
   "cell_type": "code",
   "execution_count": 20,
   "metadata": {},
   "outputs": [
    {
     "data": {
      "text/plain": [
       "[('chop',), ('buntut',), ('cak',), ('yo',), ('sleman',), ('kab',)]"
      ]
     },
     "execution_count": 20,
     "metadata": {},
     "output_type": "execute_result"
    }
   ],
   "source": [
    "merchant_unigram = get_word_ngram_from_list(merchant_words,1)\n",
    "merchant_unigram"
   ]
  },
  {
   "cell_type": "code",
   "execution_count": 23,
   "metadata": {},
   "outputs": [],
   "source": [
    "# unigram matching\n",
    "unigram_threshold = 0.5\n",
    "word_matches = []\n",
    "\n",
    "for i, word in enumerate(merchant_unigram):\n",
    "    best_match = None\n",
    "    best_score = 0\n",
    "\n",
    "    string_word = \" \".join(word)\n",
    "    word_char = get_char_ngrams(string_word,1)\n",
    "    \n",
    "    score = jaccard_similarity(city_unigram, word_char)\n",
    "    if score > best_score:\n",
    "        best_score = score\n",
    "    \n",
    "    is_location = best_score >= unigram_threshold\n",
    "    match_info = {\n",
    "            'word': word,\n",
    "            'is_location': is_location,\n",
    "            'score': best_score,\n",
    "            'index_interval': [i,i+len(word)-1]\n",
    "        }\n",
    "    word_matches.append(match_info)\n",
    "    #results['labeled_words'].append((word, is_location, best_match, best_score))"
   ]
  },
  {
   "cell_type": "code",
   "execution_count": 24,
   "metadata": {},
   "outputs": [
    {
     "data": {
      "text/plain": [
       "[{'word': ('chop',),\n",
       "  'is_location': False,\n",
       "  'score': 0.07142857142857142,\n",
       "  'index_interval': [0, 0]},\n",
       " {'word': ('buntut',),\n",
       "  'is_location': False,\n",
       "  'score': 0.36363636363636365,\n",
       "  'index_interval': [1, 1]},\n",
       " {'word': ('cak',),\n",
       "  'is_location': False,\n",
       "  'score': 0.16666666666666666,\n",
       "  'index_interval': [2, 2]},\n",
       " {'word': ('yo',), 'is_location': False, 'score': 0, 'index_interval': [3, 3]},\n",
       " {'word': ('sleman',),\n",
       "  'is_location': True,\n",
       "  'score': 0.5454545454545454,\n",
       "  'index_interval': [4, 4]},\n",
       " {'word': ('kab',),\n",
       "  'is_location': False,\n",
       "  'score': 0.2727272727272727,\n",
       "  'index_interval': [5, 5]}]"
      ]
     },
     "execution_count": 24,
     "metadata": {},
     "output_type": "execute_result"
    }
   ],
   "source": [
    "word_matches"
   ]
  },
  {
   "cell_type": "code",
   "execution_count": 25,
   "metadata": {},
   "outputs": [
    {
     "data": {
      "text/plain": [
       "[('chop', 'buntut'),\n",
       " ('buntut', 'cak'),\n",
       " ('cak', 'yo'),\n",
       " ('yo', 'sleman'),\n",
       " ('sleman', 'kab')]"
      ]
     },
     "execution_count": 25,
     "metadata": {},
     "output_type": "execute_result"
    }
   ],
   "source": [
    "merchant_list = get_word_ngram_from_list(merchant_words, 2)\n",
    "merchant_list"
   ]
  },
  {
   "cell_type": "code",
   "execution_count": 26,
   "metadata": {},
   "outputs": [
    {
     "data": {
      "text/plain": [
       "('sleman', 'kab')"
      ]
     },
     "execution_count": 26,
     "metadata": {},
     "output_type": "execute_result"
    }
   ],
   "source": [
    "merchant_list[4]"
   ]
  },
  {
   "cell_type": "code",
   "execution_count": 27,
   "metadata": {},
   "outputs": [
    {
     "data": {
      "text/plain": [
       "['ka',\n",
       " 'ab',\n",
       " 'bu',\n",
       " 'up',\n",
       " 'pa',\n",
       " 'at',\n",
       " 'te',\n",
       " 'en',\n",
       " 'ns',\n",
       " 'sl',\n",
       " 'le',\n",
       " 'em',\n",
       " 'ma',\n",
       " 'an']"
      ]
     },
     "execution_count": 27,
     "metadata": {},
     "output_type": "execute_result"
    }
   ],
   "source": [
    "city_bigram"
   ]
  },
  {
   "cell_type": "code",
   "execution_count": 38,
   "metadata": {},
   "outputs": [],
   "source": [
    "# bigram matching\n",
    "bigram_threshold = 0.4\n",
    "word_matches = []\n",
    "\n",
    "merchant_bigram = get_word_ngram_from_list(merchant_words, 2)"
   ]
  },
  {
   "cell_type": "code",
   "execution_count": 39,
   "metadata": {},
   "outputs": [],
   "source": [
    "for i, word in enumerate(merchant_bigram):\n",
    "    best_match = None\n",
    "    best_score = 0\n",
    "\n",
    "    string_word = \" \".join(word)\n",
    "    \n",
    "    word_char = get_char_ngrams(string_word,2)\n",
    "    \n",
    "    score = jaccard_similarity(city_bigram, word_char)\n",
    "    if score > best_score:\n",
    "        best_score = score\n",
    "    \n",
    "    is_location = best_score >= bigram_threshold\n",
    "    match_info = {\n",
    "            'word': word,\n",
    "            'is_location': is_location,\n",
    "            'score': best_score,\n",
    "            'index_interval': [i, i+len(word)-1]\n",
    "        }\n",
    "    word_matches.append(match_info)\n",
    "    #results['labeled_words'].append((word, is_location, best_match, best_score))"
   ]
  },
  {
   "cell_type": "code",
   "execution_count": 40,
   "metadata": {},
   "outputs": [
    {
     "data": {
      "text/plain": [
       "[{'word': ('chop', 'buntut'),\n",
       "  'is_location': False,\n",
       "  'score': 0.045454545454545456,\n",
       "  'index_interval': [0, 1]},\n",
       " {'word': ('buntut', 'cak'),\n",
       "  'is_location': False,\n",
       "  'score': 0.047619047619047616,\n",
       "  'index_interval': [1, 2]},\n",
       " {'word': ('cak', 'yo'),\n",
       "  'is_location': False,\n",
       "  'score': 0,\n",
       "  'index_interval': [2, 3]},\n",
       " {'word': ('yo', 'sleman'),\n",
       "  'is_location': False,\n",
       "  'score': 0.3125,\n",
       "  'index_interval': [3, 4]},\n",
       " {'word': ('sleman', 'kab'),\n",
       "  'is_location': True,\n",
       "  'score': 0.4666666666666667,\n",
       "  'index_interval': [4, 5]}]"
      ]
     },
     "execution_count": 40,
     "metadata": {},
     "output_type": "execute_result"
    }
   ],
   "source": [
    "word_matches"
   ]
  },
  {
   "cell_type": "code",
   "execution_count": 342,
   "metadata": {},
   "outputs": [
    {
     "data": {
      "text/plain": [
       "['kab',\n",
       " 'abu',\n",
       " 'bup',\n",
       " 'upa',\n",
       " 'pat',\n",
       " 'ate',\n",
       " 'ten',\n",
       " 'ens',\n",
       " 'nsl',\n",
       " 'sle',\n",
       " 'lem',\n",
       " 'ema',\n",
       " 'man']"
      ]
     },
     "execution_count": 342,
     "metadata": {},
     "output_type": "execute_result"
    }
   ],
   "source": [
    "city_trigram"
   ]
  },
  {
   "cell_type": "code",
   "execution_count": 42,
   "metadata": {},
   "outputs": [],
   "source": [
    "# trigram matching\n",
    "\n",
    "trigram_threshold = 0.4\n",
    "word_matches = []\n",
    "\n",
    "merchant_trigram = get_word_ngram_from_list(merchant_words, 3)\n",
    "for i, word in enumerate(merchant_trigram):\n",
    "    best_match = None\n",
    "    best_score = 0\n",
    "\n",
    "    string_word = \"\".join(word)\n",
    "    \n",
    "    word_char = get_char_ngrams(string_word,1)\n",
    "    \n",
    "    score = jaccard_similarity(city_unigram, word_char)\n",
    "    if score > best_score:\n",
    "        best_score = score\n",
    "    \n",
    "    is_location = best_score >= trigram_threshold\n",
    "    match_info = {\n",
    "            'word': word,\n",
    "            'is_location': is_location,\n",
    "            'score': best_score,\n",
    "            'index_interval': [i, i+len(word)-1]\n",
    "        }\n",
    "    word_matches.append(match_info)\n",
    "    #results['labeled_words'].append((word, is_location, best_match, best_score))"
   ]
  },
  {
   "cell_type": "code",
   "execution_count": 349,
   "metadata": {
    "scrolled": true
   },
   "outputs": [
    {
     "data": {
      "text/plain": [
       "{'unigram': [(0.8333333333333334,\n",
       "   {'word': ('samsung',),\n",
       "    'score': 0.8333333333333334,\n",
       "    'index_interval': [0, 0]}),\n",
       "  (0.75, {'word': ('samsung',), 'score': 0.75, 'index_interval': [0, 0]}),\n",
       "  (0.75, {'word': ('samsung',), 'score': 0.75, 'index_interval': [0, 0]}),\n",
       "  (0.7142857142857143,\n",
       "   {'word': ('samsung',),\n",
       "    'score': 0.7142857142857143,\n",
       "    'index_interval': [0, 0]}),\n",
       "  (0.625, {'word': ('samsung',), 'score': 0.625, 'index_interval': [0, 0]}),\n",
       "  (0.625, {'word': ('samsung',), 'score': 0.625, 'index_interval': [0, 0]}),\n",
       "  (0.7142857142857143,\n",
       "   {'word': ('samsung',),\n",
       "    'score': 0.7142857142857143,\n",
       "    'index_interval': [0, 0]}),\n",
       "  (0.6, {'word': ('samsung',), 'score': 0.6, 'index_interval': [0, 0]}),\n",
       "  (0.8333333333333334,\n",
       "   {'word': ('samsung',),\n",
       "    'score': 0.8333333333333334,\n",
       "    'index_interval': [0, 0]}),\n",
       "  (0.6923076923076923,\n",
       "   {'word': ('metrobekasi',),\n",
       "    'score': 0.6923076923076923,\n",
       "    'index_interval': [2, 2]})],\n",
       " 'bigram': [],\n",
       " 'trigram': []}"
      ]
     },
     "execution_count": 349,
     "metadata": {},
     "output_type": "execute_result"
    }
   ],
   "source": [
    "word_matches"
   ]
  },
  {
   "cell_type": "markdown",
   "metadata": {},
   "source": [
    "# LOOP TO ALL CITY DICTIONARY"
   ]
  },
  {
   "cell_type": "code",
   "execution_count": 292,
   "metadata": {},
   "outputs": [
    {
     "data": {
      "text/plain": [
       "['samsung', 'rstore', 'metrobekasi']"
      ]
     },
     "execution_count": 292,
     "metadata": {},
     "output_type": "execute_result"
    }
   ],
   "source": [
    "merchant_words = data_location_unknown['word_list'][9997].to_list()\n",
    "merchant_words"
   ]
  },
  {
   "cell_type": "code",
   "execution_count": 9,
   "metadata": {},
   "outputs": [],
   "source": [
    "city_dictionary = {\n",
    "    'unigram':{},\n",
    "    'bigram':{},\n",
    "}"
   ]
  },
  {
   "cell_type": "code",
   "execution_count": 10,
   "metadata": {},
   "outputs": [],
   "source": [
    "for unigram in cities_regencies['unigram']:\n",
    "    if unigram[0] not in city_dictionary['unigram']:\n",
    "        unigram_list = [unigram]\n",
    "        city_dictionary['unigram'][unigram[0]] = unigram_list\n",
    "    else:\n",
    "        city_dictionary['unigram'][unigram[0]].append(unigram)"
   ]
  },
  {
   "cell_type": "code",
   "execution_count": 11,
   "metadata": {},
   "outputs": [],
   "source": [
    "for bigram in cities_regencies['bigram']:\n",
    "    if bigram[0][0] not in city_dictionary['bigram']:\n",
    "        bigram_list = [bigram]\n",
    "        city_dictionary['bigram'][bigram[0][0]] = bigram_list\n",
    "    else:\n",
    "        city_dictionary['bigram'][bigram[0][0]].append(bigram)"
   ]
  },
  {
   "cell_type": "code",
   "execution_count": 314,
   "metadata": {},
   "outputs": [],
   "source": [
    "unigram_threshold = 0.81\n",
    "merchant_unigram = get_word_ngram_from_list(merchant_words,1)"
   ]
  },
  {
   "cell_type": "code",
   "execution_count": 315,
   "metadata": {},
   "outputs": [
    {
     "data": {
      "text/plain": [
       "'s'"
      ]
     },
     "execution_count": 315,
     "metadata": {},
     "output_type": "execute_result"
    }
   ],
   "source": [
    "merchant_unigram[0][0][0]"
   ]
  },
  {
   "cell_type": "code",
   "execution_count": 280,
   "metadata": {},
   "outputs": [],
   "source": [
    "word_matches = {'unigram':[], 'bigram':[], 'trigram':[]}"
   ]
  },
  {
   "cell_type": "code",
   "execution_count": 282,
   "metadata": {},
   "outputs": [
    {
     "name": "stdout",
     "output_type": "stream",
     "text": [
      "['s', 'i', 'm', 'a', 'l', 'u', 'n', 'g', 'u', 'n']\n",
      "['s', 'u', 'm', 'e', 'd', 'a', 'n', 'g']\n",
      "['s', 'u', 'b', 'a', 'n', 'g']\n",
      "['s', 'e', 'm', 'a', 'r', 'a', 'n', 'g']\n",
      "['s', 'e', 'm', 'a', 'r', 'a', 'n', 'g']\n",
      "['s', 'a', 'm', 'p', 'a', 'n', 'g']\n",
      "['s', 'u', 'm', 'b', 'a', 't', 'e', 'n', 'g', 'a', 'h']\n",
      "['s', 'a', 'n', 'g', 'g', 'a', 'u']\n",
      "['m', 'a', 'n', 'o', 'k', 'w', 'a', 'r', 'i', 's', 'e', 'l', 'a', 't', 'a', 'n']\n",
      "CPU times: user 601 μs, sys: 7 μs, total: 608 μs\n",
      "Wall time: 595 μs\n"
     ]
    }
   ],
   "source": [
    "%%time\n",
    "unigram_threshold = 0.6\n",
    "merchant_unigram = get_word_ngram_from_list(merchant_words,1)\n",
    "\n",
    "# unigram matching\n",
    "for i, word in enumerate(merchant_unigram):\n",
    "    first_char = word[0][0]\n",
    "\n",
    "    if first_char not in city_dictionary['unigram']:\n",
    "         continue\n",
    "        \n",
    "    for city_unigram in city_dictionary['unigram'][first_char]:\n",
    "    #for city_unigram in cities_regencies['unigram']:\n",
    "        \n",
    "        best_match = None\n",
    "        best_score = 0\n",
    "    \n",
    "        string_word = \" \".join(word)\n",
    "        word_char = get_char_ngrams(string_word,1)\n",
    "        \n",
    "        score = jaccard_similarity(city_unigram, word_char)\n",
    "        if score > best_score:\n",
    "            best_score = score\n",
    "        \n",
    "        is_location = best_score >= unigram_threshold\n",
    "        match_info = (\n",
    "            best_score,\n",
    "                {\n",
    "                'word': word,\n",
    "                'score': best_score,\n",
    "                'index_interval': [i,i+len(word)-1]\n",
    "                }\n",
    "        )\n",
    "        if is_location:\n",
    "            print(city_unigram)\n",
    "            word_matches['unigram'].append(match_info)"
   ]
  },
  {
   "cell_type": "code",
   "execution_count": 283,
   "metadata": {},
   "outputs": [
    {
     "data": {
      "text/plain": [
       "{'unigram': [(0.8333333333333334,\n",
       "   {'word': ('samsung',),\n",
       "    'score': 0.8333333333333334,\n",
       "    'index_interval': [0, 0]}),\n",
       "  (0.75, {'word': ('samsung',), 'score': 0.75, 'index_interval': [0, 0]}),\n",
       "  (0.75, {'word': ('samsung',), 'score': 0.75, 'index_interval': [0, 0]}),\n",
       "  (0.7142857142857143,\n",
       "   {'word': ('samsung',),\n",
       "    'score': 0.7142857142857143,\n",
       "    'index_interval': [0, 0]}),\n",
       "  (0.625, {'word': ('samsung',), 'score': 0.625, 'index_interval': [0, 0]}),\n",
       "  (0.625, {'word': ('samsung',), 'score': 0.625, 'index_interval': [0, 0]}),\n",
       "  (0.7142857142857143,\n",
       "   {'word': ('samsung',),\n",
       "    'score': 0.7142857142857143,\n",
       "    'index_interval': [0, 0]}),\n",
       "  (0.6, {'word': ('samsung',), 'score': 0.6, 'index_interval': [0, 0]}),\n",
       "  (0.8333333333333334,\n",
       "   {'word': ('samsung',),\n",
       "    'score': 0.8333333333333334,\n",
       "    'index_interval': [0, 0]}),\n",
       "  (0.6923076923076923,\n",
       "   {'word': ('metrobekasi',),\n",
       "    'score': 0.6923076923076923,\n",
       "    'index_interval': [2, 2]})],\n",
       " 'bigram': [],\n",
       " 'trigram': []}"
      ]
     },
     "execution_count": 283,
     "metadata": {},
     "output_type": "execute_result"
    }
   ],
   "source": [
    "word_matches"
   ]
  },
  {
   "cell_type": "code",
   "execution_count": 269,
   "metadata": {},
   "outputs": [
    {
     "data": {
      "text/plain": [
       "'a'"
      ]
     },
     "execution_count": 269,
     "metadata": {},
     "output_type": "execute_result"
    }
   ],
   "source": [
    "cities_regencies['bigram'][0][0][0]"
   ]
  },
  {
   "cell_type": "code",
   "execution_count": 270,
   "metadata": {},
   "outputs": [],
   "source": [
    "bigram_threshold = 0.55\n",
    "merchant_bigram = get_word_ngram_from_list(merchant_words,2)"
   ]
  },
  {
   "cell_type": "code",
   "execution_count": 271,
   "metadata": {},
   "outputs": [
    {
     "data": {
      "text/plain": [
       "[('samsung', 'rstore'), ('rstore', 'metrobekasi')]"
      ]
     },
     "execution_count": 271,
     "metadata": {},
     "output_type": "execute_result"
    }
   ],
   "source": [
    "merchant_bigram"
   ]
  },
  {
   "cell_type": "code",
   "execution_count": 272,
   "metadata": {},
   "outputs": [
    {
     "name": "stdout",
     "output_type": "stream",
     "text": [
      "CPU times: user 850 μs, sys: 0 ns, total: 850 μs\n",
      "Wall time: 854 μs\n"
     ]
    }
   ],
   "source": [
    "%%time\n",
    "#word_matches = {'unigram':[], 'bigram':[], 'trigram':[]}\n",
    "bigram_threshold = 0.65\n",
    "merchant_bigram = get_word_ngram_from_list(merchant_words,2)\n",
    "\n",
    "for i, word in enumerate(merchant_bigram):\n",
    "    first_chars = (word[0][0], word[1][0])\n",
    "\n",
    "    for first_char in first_chars:\n",
    "        if first_char not in city_dictionary['bigram']:\n",
    "            continue\n",
    "        \n",
    "        for city_bigram in city_dictionary['bigram'][first_char]:\n",
    "            best_match = None\n",
    "            best_score = 0\n",
    "        \n",
    "            string_word = \" \".join(word)\n",
    "            word_char = get_char_ngrams(string_word,2)\n",
    "            \n",
    "            score = jaccard_similarity(city_bigram, word_char)\n",
    "            if score > best_score:\n",
    "                best_score = score\n",
    "            \n",
    "            is_location = best_score >= bigram_threshold\n",
    "            match_info = {\n",
    "                    'word': word,\n",
    "                    'score': best_score,\n",
    "                    'index_interval': [i,i+len(word)-1]\n",
    "                }\n",
    "            if is_location:\n",
    "                print(city_bigram)\n",
    "                word_matches['bigram'].append(match_info)"
   ]
  },
  {
   "cell_type": "code",
   "execution_count": 273,
   "metadata": {},
   "outputs": [
    {
     "data": {
      "text/plain": [
       "{'unigram': [(0.8333333333333334,\n",
       "   {'word': ('samsung',),\n",
       "    'score': 0.8333333333333334,\n",
       "    'index_interval': [0, 0]})],\n",
       " 'bigram': [],\n",
       " 'trigram': []}"
      ]
     },
     "execution_count": 273,
     "metadata": {},
     "output_type": "execute_result"
    }
   ],
   "source": [
    "word_matches"
   ]
  },
  {
   "cell_type": "code",
   "execution_count": 229,
   "metadata": {},
   "outputs": [],
   "source": [
    "#word_matches = {'unigram':[], 'bigram':[], 'trigram':[]}\n",
    "trigram_threshold = 0.7\n",
    "merchant_trigram = get_word_ngram_from_list(merchant_words,3)\n",
    "\n",
    "for city_trigram in cities_regencies['trigram']:\n",
    "    # trigram matching\n",
    "    for i, word in enumerate(merchant_trigram):\n",
    "        best_match = None\n",
    "        best_score = 0\n",
    "    \n",
    "        string_word = \" \".join(word)\n",
    "        word_char = get_char_ngrams(string_word,3)\n",
    "        \n",
    "        score = jaccard_similarity(city_trigram, word_char)\n",
    "        if score > best_score:\n",
    "            best_score = score\n",
    "        \n",
    "        is_location = best_score >= trigram_threshold\n",
    "        match_info = {\n",
    "                'word': word,\n",
    "                'is_location': is_location,\n",
    "                'score': best_score,\n",
    "                'index_interval': [i,i+len(word)-1]\n",
    "            }\n",
    "        if is_location:\n",
    "            print(city_trigram)\n",
    "            word_matches['trigram'].append(match_info)"
   ]
  },
  {
   "cell_type": "code",
   "execution_count": 230,
   "metadata": {},
   "outputs": [
    {
     "data": {
      "text/plain": [
       "[('alfamrt', 'x761', 'pr2'), ('x761', 'pr2', 'pand'), ('pr2', 'pand', 'bogor')]"
      ]
     },
     "execution_count": 230,
     "metadata": {},
     "output_type": "execute_result"
    }
   ],
   "source": [
    "get_word_ngram_from_list(merchant_words,3)"
   ]
  },
  {
   "cell_type": "code",
   "execution_count": 231,
   "metadata": {},
   "outputs": [
    {
     "data": {
      "text/plain": [
       "{'unigram': [{'word': ('bogor',),\n",
       "   'is_location': True,\n",
       "   'score': 1.0,\n",
       "   'index_interval': [4, 4]},\n",
       "  {'word': ('bogor',),\n",
       "   'is_location': True,\n",
       "   'score': 1.0,\n",
       "   'index_interval': [4, 4]}],\n",
       " 'bigram': [],\n",
       " 'trigram': []}"
      ]
     },
     "execution_count": 231,
     "metadata": {},
     "output_type": "execute_result"
    }
   ],
   "source": [
    "word_matches"
   ]
  },
  {
   "cell_type": "markdown",
   "metadata": {},
   "source": [
    "# FIND & EXTRACT LOCATION INDEX"
   ]
  },
  {
   "cell_type": "code",
   "execution_count": 175,
   "metadata": {},
   "outputs": [],
   "source": [
    "def find_location_index(merchant_words, \n",
    "                        cities_regencies, \n",
    "                        unigram_threshold=0.9,\n",
    "                        bigram_threshold=0.65,\n",
    "                       ):\n",
    "    word_matches = {'unigram':[], 'bigram':[]}\n",
    "    \n",
    "    # unigram matching\n",
    "    #unigram_threshold = 0.81\n",
    "    merchant_unigram = get_word_ngram_from_list(merchant_words,1)\n",
    "\n",
    "    for city_unigram in cities_regencies['unigram']:\n",
    "        for i, word in enumerate(merchant_unigram):\n",
    "            best_match = None\n",
    "            best_score = 0\n",
    "        \n",
    "            string_word = \" \".join(word)\n",
    "            word_char = get_char_ngrams(string_word,1)\n",
    "            \n",
    "            score = jaccard_similarity(city_unigram, word_char)\n",
    "            if score > best_score:\n",
    "                best_score = score\n",
    "\n",
    "\n",
    "            is_location = best_score >= unigram_threshold\n",
    "            match_info = (\n",
    "                best_score,\n",
    "                    {\n",
    "                    'word': word,\n",
    "                    'score': best_score,\n",
    "                    'index_interval': [i,i+len(word)-1]\n",
    "                    }\n",
    "            )\n",
    "            if is_location:\n",
    "                word_matches['unigram'].append(match_info)\n",
    "\n",
    "    # bigram matching \n",
    "    merchant_bigram = get_word_ngram_from_list(merchant_words,2)\n",
    "    for city_bigram in cities_regencies['bigram']:\n",
    "        for i, word in enumerate(merchant_bigram):\n",
    "            best_match = None\n",
    "            best_score = 0\n",
    "        \n",
    "            string_word = \" \".join(word)\n",
    "            word_char = get_char_ngrams(string_word,2)\n",
    "            \n",
    "            score = jaccard_similarity(city_bigram, word_char)\n",
    "            if score > best_score:\n",
    "                best_score = score\n",
    "            \n",
    "            is_location = best_score >= bigram_threshold\n",
    "            match_info = (\n",
    "                best_score,\n",
    "                    {\n",
    "                    'word': word,\n",
    "                    'score': best_score,\n",
    "                    'index_interval': [i,i+len(word)-1]\n",
    "                    }\n",
    "            )\n",
    "            if is_location:\n",
    "                word_matches['bigram'].append(match_info)    \n",
    "\n",
    "    return word_matches"
   ]
  },
  {
   "cell_type": "code",
   "execution_count": 22,
   "metadata": {},
   "outputs": [],
   "source": [
    "# WITH DICTIONARY\n",
    "def find_location_index(merchant_words, \n",
    "                        city_dict, \n",
    "                        unigram_threshold=0.9,\n",
    "                        bigram_threshold=0.67,\n",
    "                       ):\n",
    "    word_matches = {'unigram':[], 'bigram':[]}\n",
    "    \n",
    "    # unigram matching\n",
    "    #unigram_threshold = 0.81\n",
    "    merchant_unigram = get_word_ngram_from_list(merchant_words,1)\n",
    "    for i, word in enumerate(merchant_unigram):   \n",
    "        if len(word) == 0:\n",
    "            continue\n",
    "            \n",
    "        if len(word[0]) > 0:\n",
    "            first_char = word[0][0]\n",
    "        else:\n",
    "            continue\n",
    "            \n",
    "        if first_char not in city_dict['unigram']:\n",
    "             continue\n",
    "            \n",
    "        for city_unigram in city_dict['unigram'][first_char]:\n",
    "            best_match = None\n",
    "            best_score = 0\n",
    "        \n",
    "            string_word = \" \".join(word)\n",
    "            word_char = get_char_ngrams(string_word,1)\n",
    "            \n",
    "            score = jaccard_similarity(city_unigram, word_char)\n",
    "            if score > best_score:\n",
    "                best_score = score\n",
    "            \n",
    "            is_location = best_score >= unigram_threshold\n",
    "            match_info = (\n",
    "                best_score,\n",
    "                    {\n",
    "                    'word': word,\n",
    "                    'score': best_score,\n",
    "                    'index_interval': [i,i+len(word)-1]\n",
    "                    }\n",
    "            )\n",
    "            if is_location:\n",
    "                word_matches['unigram'].append(match_info)\n",
    "\n",
    "    # bigram matching \n",
    "    merchant_bigram = get_word_ngram_from_list(merchant_words,2)\n",
    "    for i, word in enumerate(merchant_bigram):\n",
    "        first_chars = []\n",
    "        \n",
    "        for w in word:\n",
    "            if len(w) == 0:\n",
    "                continue\n",
    "            if len(w[0]) > 0:\n",
    "                first_chars.append(w[0])\n",
    "                \n",
    "        #first_chars = (word[0][0], word[1][0])\n",
    "    \n",
    "        for first_char in first_chars:\n",
    "            if first_char not in city_dict['bigram']:\n",
    "                continue\n",
    "            \n",
    "            for city_bigram in city_dict['bigram'][first_char]:\n",
    "                best_match = None\n",
    "                best_score = 0\n",
    "            \n",
    "                string_word = \" \".join(word)\n",
    "                word_char = get_char_ngrams(string_word,2)\n",
    "                \n",
    "                score = jaccard_similarity(city_bigram, word_char)\n",
    "                if score > best_score:\n",
    "                    best_score = score\n",
    "                \n",
    "                is_location = best_score >= bigram_threshold\n",
    "                match_info = (\n",
    "                    best_score,\n",
    "                        {\n",
    "                        'word': word,\n",
    "                        'score': best_score,\n",
    "                        'index_interval': [i,i+len(word)-1]\n",
    "                        }\n",
    "                )\n",
    "                if is_location:\n",
    "                    word_matches['bigram'].append(match_info) \n",
    "\n",
    "    return word_matches"
   ]
  },
  {
   "cell_type": "code",
   "execution_count": 23,
   "metadata": {},
   "outputs": [
    {
     "data": {
      "text/plain": [
       "['samsung', 'rstore', 'metrobekasi']"
      ]
     },
     "execution_count": 23,
     "metadata": {},
     "output_type": "execute_result"
    }
   ],
   "source": [
    "merchant_words = data_location_unknown['word_list'][9997].to_list()\n",
    "merchant_words"
   ]
  },
  {
   "cell_type": "code",
   "execution_count": 24,
   "metadata": {},
   "outputs": [
    {
     "ename": "NameError",
     "evalue": "name 'city_dictionary' is not defined",
     "output_type": "error",
     "traceback": [
      "\u001b[0;31m---------------------------------------------------------------------------\u001b[0m",
      "\u001b[0;31mNameError\u001b[0m                                 Traceback (most recent call last)",
      "File \u001b[0;32m<timed exec>:2\u001b[0m\n",
      "\u001b[0;31mNameError\u001b[0m: name 'city_dictionary' is not defined"
     ]
    }
   ],
   "source": [
    "%%time\n",
    "result = find_location_index(merchant_words,\n",
    "                             city_dictionary\n",
    "                            )"
   ]
  },
  {
   "cell_type": "code",
   "execution_count": 190,
   "metadata": {},
   "outputs": [
    {
     "data": {
      "text/plain": [
       "{'unigram': [], 'bigram': []}"
      ]
     },
     "execution_count": 190,
     "metadata": {},
     "output_type": "execute_result"
    }
   ],
   "source": [
    "result"
   ]
  },
  {
   "cell_type": "code",
   "execution_count": 191,
   "metadata": {},
   "outputs": [
    {
     "data": {
      "text/plain": [
       "[]"
      ]
     },
     "execution_count": 191,
     "metadata": {},
     "output_type": "execute_result"
    }
   ],
   "source": [
    "sorted(result['bigram'], key= lambda x: x[0], reverse=True)"
   ]
  },
  {
   "cell_type": "code",
   "execution_count": 192,
   "metadata": {},
   "outputs": [],
   "source": [
    "def extract_location_index(word_matches):\n",
    "    unigram_sorted = sorted(word_matches['unigram'], key=lambda x: x[0], reverse=True)\n",
    "    bigram_sorted = sorted(word_matches['bigram'], key=lambda x: x[0], reverse=True)\n",
    "\n",
    "    result = [-1,-1]\n",
    "    unigram_index = set()\n",
    "    bigram_index = set()\n",
    "    \n",
    "    if len(unigram_sorted) > 0:\n",
    "        unigram_index = set(unigram_sorted[0][1]['index_interval'])\n",
    "\n",
    "    if len(bigram_sorted) > 0:\n",
    "        bigram_index = set(bigram_sorted[0][1]['index_interval'])\n",
    "\n",
    "    result[0] = min(unigram_index.union(bigram_index), default=-1)\n",
    "    result[1] = max(unigram_index.union(bigram_index), default=-1)\n",
    "    \n",
    "    return result"
   ]
  },
  {
   "cell_type": "code",
   "execution_count": 193,
   "metadata": {},
   "outputs": [
    {
     "data": {
      "text/plain": [
       "[-1, -1]"
      ]
     },
     "execution_count": 193,
     "metadata": {},
     "output_type": "execute_result"
    }
   ],
   "source": [
    "extract_location_index(result)"
   ]
  },
  {
   "cell_type": "code",
   "execution_count": 194,
   "metadata": {},
   "outputs": [],
   "source": [
    "def process_loc_index_on_dataframe(merchant_words, cities_regencies):\n",
    "    result = find_location_index(merchant_words,cities_regencies)\n",
    "    return extract_location_index(result)"
   ]
  },
  {
   "cell_type": "code",
   "execution_count": 197,
   "metadata": {},
   "outputs": [
    {
     "name": "stdout",
     "output_type": "stream",
     "text": [
      "CPU times: user 13min 35s, sys: 9.33 s, total: 13min 44s\n",
      "Wall time: 13min 25s\n"
     ]
    }
   ],
   "source": [
    "%%time\n",
    "data_location_unknown = data_location_unknown.with_columns(\n",
    "    pl.when(pl.col('country_code') == 'ID').then(\n",
    "        pl.col('word_list').map_elements(\n",
    "            lambda word: process_loc_index_on_dataframe(word, city_dictionary), \n",
    "            return_dtype = pl.List(pl.Int32)\n",
    "        )\n",
    "    ).otherwise(pl.lit(None)).alias('location_index')\n",
    ")"
   ]
  },
  {
   "cell_type": "code",
   "execution_count": 198,
   "metadata": {},
   "outputs": [
    {
     "data": {
      "text/html": [
       "<div><style>\n",
       ".dataframe > thead > tr,\n",
       ".dataframe > tbody > tr {\n",
       "  text-align: right;\n",
       "  white-space: pre-wrap;\n",
       "}\n",
       "</style>\n",
       "<small>shape: (492_245, 7)</small><table border=\"1\" class=\"dataframe\"><thead><tr><th>source</th><th>merchant_name</th><th>merchant_location</th><th>online_offline_flag</th><th>country_code</th><th>word_list</th><th>location_index</th></tr><tr><td>str</td><td>str</td><td>str</td><td>str</td><td>str</td><td>list[str]</td><td>list[i32]</td></tr></thead><tbody><tr><td>&quot;CREDIT_CARD&quot;</td><td>&quot;CHOP BUNTUT CAK YO SLEMAN (KAB…</td><td>null</td><td>null</td><td>&quot;ID&quot;</td><td>[&quot;chop&quot;, &quot;buntut&quot;, … &quot;kab&quot;]</td><td>[3, 4]</td></tr><tr><td>&quot;CREDIT_CARD&quot;</td><td>&quot;TBL* THE SEED LEVEL AMSTERDAM …</td><td>null</td><td>null</td><td>&quot;NL&quot;</td><td>[&quot;tbl&quot;, &quot;the&quot;, … &quot;amsterdam&quot;]</td><td>null</td></tr><tr><td>&quot;CREDIT_CARD&quot;</td><td>&quot;SILOAM CLINIC GRH RAYA TANGERA…</td><td>null</td><td>null</td><td>&quot;ID&quot;</td><td>[&quot;siloam&quot;, &quot;clinic&quot;, … &quot;slt&quot;]</td><td>[4, 4]</td></tr><tr><td>&quot;CREDIT_CARD&quot;</td><td>&quot;SWALAYAN ZOOM MBL TANJUNG PINA…</td><td>null</td><td>null</td><td>&quot;ID&quot;</td><td>[&quot;swalayan&quot;, &quot;zoom&quot;, … &quot;pinan&quot;]</td><td>[3, 4]</td></tr><tr><td>&quot;CREDIT_CARD&quot;</td><td>&quot;PEDRO SUN PLAZA MEDAN MEDAN KO…</td><td>null</td><td>null</td><td>&quot;ID&quot;</td><td>[&quot;pedro&quot;, &quot;sun&quot;, … &quot;kot&quot;]</td><td>[3, 4]</td></tr><tr><td>&hellip;</td><td>&hellip;</td><td>&hellip;</td><td>&hellip;</td><td>&hellip;</td><td>&hellip;</td><td>&hellip;</td></tr><tr><td>&quot;CREDIT_CARD&quot;</td><td>&quot;AUSSIE TOYS ONLINE PAKENHAM AU&quot;</td><td>null</td><td>null</td><td>&quot;AU&quot;</td><td>[&quot;aussie&quot;, &quot;toys&quot;, … &quot;pakenham&quot;]</td><td>null</td></tr><tr><td>&quot;CREDIT_CARD&quot;</td><td>&quot;TOKO EMAS GINBERS MEDAN KOT. I…</td><td>null</td><td>&quot;OFFLINE&quot;</td><td>&quot;ID&quot;</td><td>[&quot;toko&quot;, &quot;emas&quot;, … &quot;kot&quot;]</td><td>[3, 3]</td></tr><tr><td>&quot;CREDIT_CARD&quot;</td><td>&quot;BINTANG SPORT SERANG (KOTA)ID&quot;</td><td>null</td><td>null</td><td>&quot;ID&quot;</td><td>[&quot;bintang&quot;, &quot;sport&quot;, … &quot;kota&quot;]</td><td>[2, 2]</td></tr><tr><td>&quot;CREDIT_CARD&quot;</td><td>&quot;ACE HARDWARE MALL PI I JAKARTA…</td><td>null</td><td>null</td><td>&quot;ID&quot;</td><td>[&quot;ace&quot;, &quot;hardware&quot;, … &quot;jakarta&quot;]</td><td>[-1, -1]</td></tr><tr><td>&quot;CREDIT_CARD&quot;</td><td>&quot;IDM TJAJ LOMBOK TIMUR ID&quot;</td><td>null</td><td>&quot;OFFLINE&quot;</td><td>&quot;ID&quot;</td><td>[&quot;idm&quot;, &quot;tjaj&quot;, … &quot;timur&quot;]</td><td>[2, 3]</td></tr></tbody></table></div>"
      ],
      "text/plain": [
       "shape: (492_245, 7)\n",
       "┌─────────────┬──────────────┬─────────────┬─────────────┬─────────────┬─────────────┬─────────────┐\n",
       "│ source      ┆ merchant_nam ┆ merchant_lo ┆ online_offl ┆ country_cod ┆ word_list   ┆ location_in │\n",
       "│ ---         ┆ e            ┆ cation      ┆ ine_flag    ┆ e           ┆ ---         ┆ dex         │\n",
       "│ str         ┆ ---          ┆ ---         ┆ ---         ┆ ---         ┆ list[str]   ┆ ---         │\n",
       "│             ┆ str          ┆ str         ┆ str         ┆ str         ┆             ┆ list[i32]   │\n",
       "╞═════════════╪══════════════╪═════════════╪═════════════╪═════════════╪═════════════╪═════════════╡\n",
       "│ CREDIT_CARD ┆ CHOP BUNTUT  ┆ null        ┆ null        ┆ ID          ┆ [\"chop\",    ┆ [3, 4]      │\n",
       "│             ┆ CAK YO       ┆             ┆             ┆             ┆ \"buntut\", … ┆             │\n",
       "│             ┆ SLEMAN (KAB… ┆             ┆             ┆             ┆ \"kab\"]      ┆             │\n",
       "│ CREDIT_CARD ┆ TBL* THE     ┆ null        ┆ null        ┆ NL          ┆ [\"tbl\",     ┆ null        │\n",
       "│             ┆ SEED LEVEL   ┆             ┆             ┆             ┆ \"the\", …    ┆             │\n",
       "│             ┆ AMSTERDAM …  ┆             ┆             ┆             ┆ \"amsterdam\" ┆             │\n",
       "│             ┆              ┆             ┆             ┆             ┆ ]           ┆             │\n",
       "│ CREDIT_CARD ┆ SILOAM       ┆ null        ┆ null        ┆ ID          ┆ [\"siloam\",  ┆ [4, 4]      │\n",
       "│             ┆ CLINIC GRH   ┆             ┆             ┆             ┆ \"clinic\", … ┆             │\n",
       "│             ┆ RAYA         ┆             ┆             ┆             ┆ \"slt\"]      ┆             │\n",
       "│             ┆ TANGERA…     ┆             ┆             ┆             ┆             ┆             │\n",
       "│ CREDIT_CARD ┆ SWALAYAN     ┆ null        ┆ null        ┆ ID          ┆ [\"swalayan\" ┆ [3, 4]      │\n",
       "│             ┆ ZOOM MBL     ┆             ┆             ┆             ┆ , \"zoom\", … ┆             │\n",
       "│             ┆ TANJUNG      ┆             ┆             ┆             ┆ \"pinan\"…    ┆             │\n",
       "│             ┆ PINA…        ┆             ┆             ┆             ┆             ┆             │\n",
       "│ CREDIT_CARD ┆ PEDRO SUN    ┆ null        ┆ null        ┆ ID          ┆ [\"pedro\",   ┆ [3, 4]      │\n",
       "│             ┆ PLAZA MEDAN  ┆             ┆             ┆             ┆ \"sun\", …    ┆             │\n",
       "│             ┆ MEDAN KO…    ┆             ┆             ┆             ┆ \"kot\"]      ┆             │\n",
       "│ …           ┆ …            ┆ …           ┆ …           ┆ …           ┆ …           ┆ …           │\n",
       "│ CREDIT_CARD ┆ AUSSIE TOYS  ┆ null        ┆ null        ┆ AU          ┆ [\"aussie\",  ┆ null        │\n",
       "│             ┆ ONLINE       ┆             ┆             ┆             ┆ \"toys\", …   ┆             │\n",
       "│             ┆ PAKENHAM AU  ┆             ┆             ┆             ┆ \"pakenham…  ┆             │\n",
       "│ CREDIT_CARD ┆ TOKO EMAS    ┆ null        ┆ OFFLINE     ┆ ID          ┆ [\"toko\",    ┆ [3, 3]      │\n",
       "│             ┆ GINBERS      ┆             ┆             ┆             ┆ \"emas\", …   ┆             │\n",
       "│             ┆ MEDAN KOT.   ┆             ┆             ┆             ┆ \"kot\"]      ┆             │\n",
       "│             ┆ I…           ┆             ┆             ┆             ┆             ┆             │\n",
       "│ CREDIT_CARD ┆ BINTANG      ┆ null        ┆ null        ┆ ID          ┆ [\"bintang\", ┆ [2, 2]      │\n",
       "│             ┆ SPORT SERANG ┆             ┆             ┆             ┆ \"sport\", …  ┆             │\n",
       "│             ┆ (KOTA)ID     ┆             ┆             ┆             ┆ \"kota\"]     ┆             │\n",
       "│ CREDIT_CARD ┆ ACE HARDWARE ┆ null        ┆ null        ┆ ID          ┆ [\"ace\",     ┆ [-1, -1]    │\n",
       "│             ┆ MALL PI I    ┆             ┆             ┆             ┆ \"hardware\", ┆             │\n",
       "│             ┆ JAKARTA…     ┆             ┆             ┆             ┆ … \"jakarta… ┆             │\n",
       "│ CREDIT_CARD ┆ IDM TJAJ     ┆ null        ┆ OFFLINE     ┆ ID          ┆ [\"idm\",     ┆ [2, 3]      │\n",
       "│             ┆ LOMBOK TIMUR ┆             ┆             ┆             ┆ \"tjaj\", …   ┆             │\n",
       "│             ┆ ID           ┆             ┆             ┆             ┆ \"timur\"]    ┆             │\n",
       "└─────────────┴──────────────┴─────────────┴─────────────┴─────────────┴─────────────┴─────────────┘"
      ]
     },
     "execution_count": 198,
     "metadata": {},
     "output_type": "execute_result"
    }
   ],
   "source": [
    "data_location_unknown"
   ]
  },
  {
   "cell_type": "code",
   "execution_count": 200,
   "metadata": {},
   "outputs": [],
   "source": [
    "data_location_unknown.write_parquet('data_location_labeled.parquet')"
   ]
  },
  {
   "cell_type": "markdown",
   "metadata": {},
   "source": [
    "# LOAD LABELED LOCATION FROM FILE"
   ]
  },
  {
   "cell_type": "code",
   "execution_count": 16,
   "metadata": {},
   "outputs": [],
   "source": [
    "data_labeled = pl.read_parquet('data_location_labeled.parquet')"
   ]
  },
  {
   "cell_type": "code",
   "execution_count": 17,
   "metadata": {},
   "outputs": [
    {
     "data": {
      "text/html": [
       "<div><style>\n",
       ".dataframe > thead > tr,\n",
       ".dataframe > tbody > tr {\n",
       "  text-align: right;\n",
       "  white-space: pre-wrap;\n",
       "}\n",
       "</style>\n",
       "<small>shape: (492_245, 8)</small><table border=\"1\" class=\"dataframe\"><thead><tr><th>source</th><th>merchant_name</th><th>merchant_location</th><th>online_offline_flag</th><th>country_code</th><th>word_list</th><th>location_index</th><th>extracted_location</th></tr><tr><td>str</td><td>str</td><td>str</td><td>str</td><td>str</td><td>list[str]</td><td>list[i32]</td><td>str</td></tr></thead><tbody><tr><td>&quot;CREDIT_CARD&quot;</td><td>&quot;CHOP BUNTUT CAK YO SLEMAN (KAB…</td><td>null</td><td>null</td><td>&quot;ID&quot;</td><td>[&quot;chop&quot;, &quot;buntut&quot;, … &quot;kab&quot;]</td><td>[3, 4]</td><td>&quot;yo sleman&quot;</td></tr><tr><td>&quot;CREDIT_CARD&quot;</td><td>&quot;TBL* THE SEED LEVEL AMSTERDAM …</td><td>null</td><td>null</td><td>&quot;NL&quot;</td><td>[&quot;tbl&quot;, &quot;the&quot;, … &quot;amsterdam&quot;]</td><td>null</td><td>null</td></tr><tr><td>&quot;CREDIT_CARD&quot;</td><td>&quot;SILOAM CLINIC GRH RAYA TANGERA…</td><td>null</td><td>null</td><td>&quot;ID&quot;</td><td>[&quot;siloam&quot;, &quot;clinic&quot;, … &quot;slt&quot;]</td><td>[4, 4]</td><td>&quot;tangerang&quot;</td></tr><tr><td>&quot;CREDIT_CARD&quot;</td><td>&quot;SWALAYAN ZOOM MBL TANJUNG PINA…</td><td>null</td><td>null</td><td>&quot;ID&quot;</td><td>[&quot;swalayan&quot;, &quot;zoom&quot;, … &quot;pinan&quot;]</td><td>[3, 4]</td><td>&quot;tanjung pinan&quot;</td></tr><tr><td>&quot;CREDIT_CARD&quot;</td><td>&quot;PEDRO SUN PLAZA MEDAN MEDAN KO…</td><td>null</td><td>null</td><td>&quot;ID&quot;</td><td>[&quot;pedro&quot;, &quot;sun&quot;, … &quot;kot&quot;]</td><td>[3, 4]</td><td>&quot;medan medan&quot;</td></tr><tr><td>&hellip;</td><td>&hellip;</td><td>&hellip;</td><td>&hellip;</td><td>&hellip;</td><td>&hellip;</td><td>&hellip;</td><td>&hellip;</td></tr><tr><td>&quot;CREDIT_CARD&quot;</td><td>&quot;AUSSIE TOYS ONLINE PAKENHAM AU&quot;</td><td>null</td><td>null</td><td>&quot;AU&quot;</td><td>[&quot;aussie&quot;, &quot;toys&quot;, … &quot;pakenham&quot;]</td><td>null</td><td>null</td></tr><tr><td>&quot;CREDIT_CARD&quot;</td><td>&quot;TOKO EMAS GINBERS MEDAN KOT. I…</td><td>null</td><td>&quot;OFFLINE&quot;</td><td>&quot;ID&quot;</td><td>[&quot;toko&quot;, &quot;emas&quot;, … &quot;kot&quot;]</td><td>[3, 3]</td><td>&quot;medan&quot;</td></tr><tr><td>&quot;CREDIT_CARD&quot;</td><td>&quot;BINTANG SPORT SERANG (KOTA)ID&quot;</td><td>null</td><td>null</td><td>&quot;ID&quot;</td><td>[&quot;bintang&quot;, &quot;sport&quot;, … &quot;kota&quot;]</td><td>[2, 2]</td><td>&quot;serang&quot;</td></tr><tr><td>&quot;CREDIT_CARD&quot;</td><td>&quot;ACE HARDWARE MALL PI I JAKARTA…</td><td>null</td><td>null</td><td>&quot;ID&quot;</td><td>[&quot;ace&quot;, &quot;hardware&quot;, … &quot;jakarta&quot;]</td><td>[-1, -1]</td><td>null</td></tr><tr><td>&quot;CREDIT_CARD&quot;</td><td>&quot;IDM TJAJ LOMBOK TIMUR ID&quot;</td><td>null</td><td>&quot;OFFLINE&quot;</td><td>&quot;ID&quot;</td><td>[&quot;idm&quot;, &quot;tjaj&quot;, … &quot;timur&quot;]</td><td>[2, 3]</td><td>&quot;lombok timur&quot;</td></tr></tbody></table></div>"
      ],
      "text/plain": [
       "shape: (492_245, 8)\n",
       "┌────────────┬────────────┬────────────┬───────────┬───────────┬───────────┬───────────┬───────────┐\n",
       "│ source     ┆ merchant_n ┆ merchant_l ┆ online_of ┆ country_c ┆ word_list ┆ location_ ┆ extracted │\n",
       "│ ---        ┆ ame        ┆ ocation    ┆ fline_fla ┆ ode       ┆ ---       ┆ index     ┆ _location │\n",
       "│ str        ┆ ---        ┆ ---        ┆ g         ┆ ---       ┆ list[str] ┆ ---       ┆ ---       │\n",
       "│            ┆ str        ┆ str        ┆ ---       ┆ str       ┆           ┆ list[i32] ┆ str       │\n",
       "│            ┆            ┆            ┆ str       ┆           ┆           ┆           ┆           │\n",
       "╞════════════╪════════════╪════════════╪═══════════╪═══════════╪═══════════╪═══════════╪═══════════╡\n",
       "│ CREDIT_CAR ┆ CHOP       ┆ null       ┆ null      ┆ ID        ┆ [\"chop\",  ┆ [3, 4]    ┆ yo sleman │\n",
       "│ D          ┆ BUNTUT CAK ┆            ┆           ┆           ┆ \"buntut\", ┆           ┆           │\n",
       "│            ┆ YO SLEMAN  ┆            ┆           ┆           ┆ … \"kab\"]  ┆           ┆           │\n",
       "│            ┆ (KAB…      ┆            ┆           ┆           ┆           ┆           ┆           │\n",
       "│ CREDIT_CAR ┆ TBL* THE   ┆ null       ┆ null      ┆ NL        ┆ [\"tbl\",   ┆ null      ┆ null      │\n",
       "│ D          ┆ SEED LEVEL ┆            ┆           ┆           ┆ \"the\", …  ┆           ┆           │\n",
       "│            ┆ AMSTERDAM  ┆            ┆           ┆           ┆ \"amsterda ┆           ┆           │\n",
       "│            ┆ …          ┆            ┆           ┆           ┆ m\"]       ┆           ┆           │\n",
       "│ CREDIT_CAR ┆ SILOAM     ┆ null       ┆ null      ┆ ID        ┆ [\"siloam\" ┆ [4, 4]    ┆ tangerang │\n",
       "│ D          ┆ CLINIC GRH ┆            ┆           ┆           ┆ ,         ┆           ┆           │\n",
       "│            ┆ RAYA       ┆            ┆           ┆           ┆ \"clinic\", ┆           ┆           │\n",
       "│            ┆ TANGERA…   ┆            ┆           ┆           ┆ … \"slt\"]  ┆           ┆           │\n",
       "│ CREDIT_CAR ┆ SWALAYAN   ┆ null       ┆ null      ┆ ID        ┆ [\"swalaya ┆ [3, 4]    ┆ tanjung   │\n",
       "│ D          ┆ ZOOM MBL   ┆            ┆           ┆           ┆ n\",       ┆           ┆ pinan     │\n",
       "│            ┆ TANJUNG    ┆            ┆           ┆           ┆ \"zoom\", … ┆           ┆           │\n",
       "│            ┆ PINA…      ┆            ┆           ┆           ┆ \"pinan\"…  ┆           ┆           │\n",
       "│ CREDIT_CAR ┆ PEDRO SUN  ┆ null       ┆ null      ┆ ID        ┆ [\"pedro\", ┆ [3, 4]    ┆ medan     │\n",
       "│ D          ┆ PLAZA      ┆            ┆           ┆           ┆ \"sun\", …  ┆           ┆ medan     │\n",
       "│            ┆ MEDAN      ┆            ┆           ┆           ┆ \"kot\"]    ┆           ┆           │\n",
       "│            ┆ MEDAN KO…  ┆            ┆           ┆           ┆           ┆           ┆           │\n",
       "│ …          ┆ …          ┆ …          ┆ …         ┆ …         ┆ …         ┆ …         ┆ …         │\n",
       "│ CREDIT_CAR ┆ AUSSIE     ┆ null       ┆ null      ┆ AU        ┆ [\"aussie\" ┆ null      ┆ null      │\n",
       "│ D          ┆ TOYS       ┆            ┆           ┆           ┆ , \"toys\", ┆           ┆           │\n",
       "│            ┆ ONLINE     ┆            ┆           ┆           ┆ … \"pakenh ┆           ┆           │\n",
       "│            ┆ PAKENHAM   ┆            ┆           ┆           ┆ am…       ┆           ┆           │\n",
       "│            ┆ AU         ┆            ┆           ┆           ┆           ┆           ┆           │\n",
       "│ CREDIT_CAR ┆ TOKO EMAS  ┆ null       ┆ OFFLINE   ┆ ID        ┆ [\"toko\",  ┆ [3, 3]    ┆ medan     │\n",
       "│ D          ┆ GINBERS    ┆            ┆           ┆           ┆ \"emas\", … ┆           ┆           │\n",
       "│            ┆ MEDAN KOT. ┆            ┆           ┆           ┆ \"kot\"]    ┆           ┆           │\n",
       "│            ┆ I…         ┆            ┆           ┆           ┆           ┆           ┆           │\n",
       "│ CREDIT_CAR ┆ BINTANG    ┆ null       ┆ null      ┆ ID        ┆ [\"bintang ┆ [2, 2]    ┆ serang    │\n",
       "│ D          ┆ SPORT      ┆            ┆           ┆           ┆ \",        ┆           ┆           │\n",
       "│            ┆ SERANG     ┆            ┆           ┆           ┆ \"sport\",  ┆           ┆           │\n",
       "│            ┆ (KOTA)ID   ┆            ┆           ┆           ┆ … \"kota\"] ┆           ┆           │\n",
       "│ CREDIT_CAR ┆ ACE        ┆ null       ┆ null      ┆ ID        ┆ [\"ace\",   ┆ [-1, -1]  ┆ null      │\n",
       "│ D          ┆ HARDWARE   ┆            ┆           ┆           ┆ \"hardware ┆           ┆           │\n",
       "│            ┆ MALL PI I  ┆            ┆           ┆           ┆ \", …      ┆           ┆           │\n",
       "│            ┆ JAKARTA…   ┆            ┆           ┆           ┆ \"jakarta… ┆           ┆           │\n",
       "│ CREDIT_CAR ┆ IDM TJAJ   ┆ null       ┆ OFFLINE   ┆ ID        ┆ [\"idm\",   ┆ [2, 3]    ┆ lombok    │\n",
       "│ D          ┆ LOMBOK     ┆            ┆           ┆           ┆ \"tjaj\", … ┆           ┆ timur     │\n",
       "│            ┆ TIMUR ID   ┆            ┆           ┆           ┆ \"timur\"]  ┆           ┆           │\n",
       "└────────────┴────────────┴────────────┴───────────┴───────────┴───────────┴───────────┴───────────┘"
      ]
     },
     "execution_count": 17,
     "metadata": {},
     "output_type": "execute_result"
    }
   ],
   "source": [
    "data_labeled"
   ]
  },
  {
   "cell_type": "code",
   "execution_count": 18,
   "metadata": {},
   "outputs": [],
   "source": [
    "sample = data_labeled.filter(pl.col('country_code') == 'ID').tail(5)"
   ]
  },
  {
   "cell_type": "code",
   "execution_count": 19,
   "metadata": {},
   "outputs": [
    {
     "data": {
      "text/html": [
       "<div><style>\n",
       ".dataframe > thead > tr,\n",
       ".dataframe > tbody > tr {\n",
       "  text-align: right;\n",
       "  white-space: pre-wrap;\n",
       "}\n",
       "</style>\n",
       "<small>shape: (1,)</small><table border=\"1\" class=\"dataframe\"><thead><tr><th>word_list</th></tr><tr><td>list[str]</td></tr></thead><tbody><tr><td>[&quot;ace&quot;, &quot;hardware&quot;, … &quot;jakarta&quot;]</td></tr></tbody></table></div>"
      ],
      "text/plain": [
       "shape: (1,)\n",
       "Series: 'word_list' [list[str]]\n",
       "[\n",
       "\t[\"ace\", \"hardware\", … \"jakarta\"]\n",
       "]"
      ]
     },
     "execution_count": 19,
     "metadata": {},
     "output_type": "execute_result"
    }
   ],
   "source": [
    "sample.filter(pl.col('merchant_name') == 'ACE HARDWARE MALL PI I JAKARTA ID')['word_list']"
   ]
  },
  {
   "cell_type": "code",
   "execution_count": 30,
   "metadata": {},
   "outputs": [
    {
     "data": {
      "text/plain": [
       "['ace', 'hardware', 'mall', 'pi', 'i', 'jakarta']"
      ]
     },
     "execution_count": 30,
     "metadata": {},
     "output_type": "execute_result"
    }
   ],
   "source": [
    "merchant_words = sample.filter(pl.col('merchant_name') == \"ACE HARDWARE MALL PI I JAKARTA ID\")['word_list'].to_list()[0]\n",
    "merchant_words"
   ]
  },
  {
   "cell_type": "code",
   "execution_count": 31,
   "metadata": {},
   "outputs": [
    {
     "name": "stdout",
     "output_type": "stream",
     "text": [
      "CPU times: user 1.43 ms, sys: 0 ns, total: 1.43 ms\n",
      "Wall time: 1.44 ms\n"
     ]
    },
    {
     "data": {
      "text/plain": [
       "{'unigram': [(0.8333333333333334,\n",
       "   {'word': ('jakarta',),\n",
       "    'score': 0.8333333333333334,\n",
       "    'index_interval': [5, 5]}),\n",
       "  (0.8333333333333334,\n",
       "   {'word': ('jakarta',),\n",
       "    'score': 0.8333333333333334,\n",
       "    'index_interval': [5, 5]})],\n",
       " 'bigram': []}"
      ]
     },
     "execution_count": 31,
     "metadata": {},
     "output_type": "execute_result"
    }
   ],
   "source": [
    "%%time\n",
    "find_location_index(merchant_words,\n",
    "                             city_dictionary,\n",
    "                             unigram_threshold = 0.8,\n",
    "                             bigram_threshold = 0.7\n",
    "                            )"
   ]
  },
  {
   "cell_type": "code",
   "execution_count": 298,
   "metadata": {},
   "outputs": [],
   "source": [
    "x = [1,2,3,4,5]"
   ]
  },
  {
   "cell_type": "code",
   "execution_count": 310,
   "metadata": {},
   "outputs": [
    {
     "data": {
      "text/plain": [
       "[4, 5]"
      ]
     },
     "execution_count": 310,
     "metadata": {},
     "output_type": "execute_result"
    }
   ],
   "source": [
    "x[3:4+1]"
   ]
  },
  {
   "cell_type": "code",
   "execution_count": 302,
   "metadata": {},
   "outputs": [
    {
     "data": {
      "text/html": [
       "<div><style>\n",
       ".dataframe > thead > tr,\n",
       ".dataframe > tbody > tr {\n",
       "  text-align: right;\n",
       "  white-space: pre-wrap;\n",
       "}\n",
       "</style>\n",
       "<small>shape: (4,)</small><table border=\"1\" class=\"dataframe\"><thead><tr><th></th></tr><tr><td>str</td></tr></thead><tbody><tr><td>&quot;idm&quot;</td></tr><tr><td>&quot;tjaj&quot;</td></tr><tr><td>&quot;lombok&quot;</td></tr><tr><td>&quot;timur&quot;</td></tr></tbody></table></div>"
      ],
      "text/plain": [
       "shape: (4,)\n",
       "Series: '' [str]\n",
       "[\n",
       "\t\"idm\"\n",
       "\t\"tjaj\"\n",
       "\t\"lombok\"\n",
       "\t\"timur\"\n",
       "]"
      ]
     },
     "execution_count": 302,
     "metadata": {},
     "output_type": "execute_result"
    }
   ],
   "source": [
    "merchant_words = sample['word_list'][4]\n",
    "merchant_words"
   ]
  },
  {
   "cell_type": "code",
   "execution_count": 32,
   "metadata": {},
   "outputs": [],
   "source": [
    "def extract_location(row):\n",
    "    word_list = row[\"word_list\"]\n",
    "    loc_index = row[\"location_index\"]\n",
    "\n",
    "    if loc_index is None or loc_index == [-1,-1]:\n",
    "        return None\n",
    "    \n",
    "    loc_index_start = loc_index[0]\n",
    "    loc_index_end = loc_index[1]\n",
    "        \n",
    "    return \" \".join(word_list[loc_index_start:loc_index_end+1])"
   ]
  },
  {
   "cell_type": "code",
   "execution_count": 33,
   "metadata": {},
   "outputs": [],
   "source": [
    "data_labeled = data_labeled.with_columns(\n",
    "    pl.struct([\"word_list\",\"location_index\"]).map_elements(extract_location, return_dtype = pl.String).alias(\"extracted_location\")\n",
    ")"
   ]
  },
  {
   "cell_type": "code",
   "execution_count": 34,
   "metadata": {},
   "outputs": [
    {
     "data": {
      "text/html": [
       "<div><style>\n",
       ".dataframe > thead > tr,\n",
       ".dataframe > tbody > tr {\n",
       "  text-align: right;\n",
       "  white-space: pre-wrap;\n",
       "}\n",
       "</style>\n",
       "<small>shape: (492_245, 8)</small><table border=\"1\" class=\"dataframe\"><thead><tr><th>source</th><th>merchant_name</th><th>merchant_location</th><th>online_offline_flag</th><th>country_code</th><th>word_list</th><th>location_index</th><th>extracted_location</th></tr><tr><td>str</td><td>str</td><td>str</td><td>str</td><td>str</td><td>list[str]</td><td>list[i32]</td><td>str</td></tr></thead><tbody><tr><td>&quot;CREDIT_CARD&quot;</td><td>&quot;CHOP BUNTUT CAK YO SLEMAN (KAB…</td><td>null</td><td>null</td><td>&quot;ID&quot;</td><td>[&quot;chop&quot;, &quot;buntut&quot;, … &quot;kab&quot;]</td><td>[3, 4]</td><td>&quot;yo sleman&quot;</td></tr><tr><td>&quot;CREDIT_CARD&quot;</td><td>&quot;TBL* THE SEED LEVEL AMSTERDAM …</td><td>null</td><td>null</td><td>&quot;NL&quot;</td><td>[&quot;tbl&quot;, &quot;the&quot;, … &quot;amsterdam&quot;]</td><td>null</td><td>null</td></tr><tr><td>&quot;CREDIT_CARD&quot;</td><td>&quot;SILOAM CLINIC GRH RAYA TANGERA…</td><td>null</td><td>null</td><td>&quot;ID&quot;</td><td>[&quot;siloam&quot;, &quot;clinic&quot;, … &quot;slt&quot;]</td><td>[4, 4]</td><td>&quot;tangerang&quot;</td></tr><tr><td>&quot;CREDIT_CARD&quot;</td><td>&quot;SWALAYAN ZOOM MBL TANJUNG PINA…</td><td>null</td><td>null</td><td>&quot;ID&quot;</td><td>[&quot;swalayan&quot;, &quot;zoom&quot;, … &quot;pinan&quot;]</td><td>[3, 4]</td><td>&quot;tanjung pinan&quot;</td></tr><tr><td>&quot;CREDIT_CARD&quot;</td><td>&quot;PEDRO SUN PLAZA MEDAN MEDAN KO…</td><td>null</td><td>null</td><td>&quot;ID&quot;</td><td>[&quot;pedro&quot;, &quot;sun&quot;, … &quot;kot&quot;]</td><td>[3, 4]</td><td>&quot;medan medan&quot;</td></tr><tr><td>&hellip;</td><td>&hellip;</td><td>&hellip;</td><td>&hellip;</td><td>&hellip;</td><td>&hellip;</td><td>&hellip;</td><td>&hellip;</td></tr><tr><td>&quot;CREDIT_CARD&quot;</td><td>&quot;AUSSIE TOYS ONLINE PAKENHAM AU&quot;</td><td>null</td><td>null</td><td>&quot;AU&quot;</td><td>[&quot;aussie&quot;, &quot;toys&quot;, … &quot;pakenham&quot;]</td><td>null</td><td>null</td></tr><tr><td>&quot;CREDIT_CARD&quot;</td><td>&quot;TOKO EMAS GINBERS MEDAN KOT. I…</td><td>null</td><td>&quot;OFFLINE&quot;</td><td>&quot;ID&quot;</td><td>[&quot;toko&quot;, &quot;emas&quot;, … &quot;kot&quot;]</td><td>[3, 3]</td><td>&quot;medan&quot;</td></tr><tr><td>&quot;CREDIT_CARD&quot;</td><td>&quot;BINTANG SPORT SERANG (KOTA)ID&quot;</td><td>null</td><td>null</td><td>&quot;ID&quot;</td><td>[&quot;bintang&quot;, &quot;sport&quot;, … &quot;kota&quot;]</td><td>[2, 2]</td><td>&quot;serang&quot;</td></tr><tr><td>&quot;CREDIT_CARD&quot;</td><td>&quot;ACE HARDWARE MALL PI I JAKARTA…</td><td>null</td><td>null</td><td>&quot;ID&quot;</td><td>[&quot;ace&quot;, &quot;hardware&quot;, … &quot;jakarta&quot;]</td><td>[-1, -1]</td><td>null</td></tr><tr><td>&quot;CREDIT_CARD&quot;</td><td>&quot;IDM TJAJ LOMBOK TIMUR ID&quot;</td><td>null</td><td>&quot;OFFLINE&quot;</td><td>&quot;ID&quot;</td><td>[&quot;idm&quot;, &quot;tjaj&quot;, … &quot;timur&quot;]</td><td>[2, 3]</td><td>&quot;lombok timur&quot;</td></tr></tbody></table></div>"
      ],
      "text/plain": [
       "shape: (492_245, 8)\n",
       "┌────────────┬────────────┬────────────┬───────────┬───────────┬───────────┬───────────┬───────────┐\n",
       "│ source     ┆ merchant_n ┆ merchant_l ┆ online_of ┆ country_c ┆ word_list ┆ location_ ┆ extracted │\n",
       "│ ---        ┆ ame        ┆ ocation    ┆ fline_fla ┆ ode       ┆ ---       ┆ index     ┆ _location │\n",
       "│ str        ┆ ---        ┆ ---        ┆ g         ┆ ---       ┆ list[str] ┆ ---       ┆ ---       │\n",
       "│            ┆ str        ┆ str        ┆ ---       ┆ str       ┆           ┆ list[i32] ┆ str       │\n",
       "│            ┆            ┆            ┆ str       ┆           ┆           ┆           ┆           │\n",
       "╞════════════╪════════════╪════════════╪═══════════╪═══════════╪═══════════╪═══════════╪═══════════╡\n",
       "│ CREDIT_CAR ┆ CHOP       ┆ null       ┆ null      ┆ ID        ┆ [\"chop\",  ┆ [3, 4]    ┆ yo sleman │\n",
       "│ D          ┆ BUNTUT CAK ┆            ┆           ┆           ┆ \"buntut\", ┆           ┆           │\n",
       "│            ┆ YO SLEMAN  ┆            ┆           ┆           ┆ … \"kab\"]  ┆           ┆           │\n",
       "│            ┆ (KAB…      ┆            ┆           ┆           ┆           ┆           ┆           │\n",
       "│ CREDIT_CAR ┆ TBL* THE   ┆ null       ┆ null      ┆ NL        ┆ [\"tbl\",   ┆ null      ┆ null      │\n",
       "│ D          ┆ SEED LEVEL ┆            ┆           ┆           ┆ \"the\", …  ┆           ┆           │\n",
       "│            ┆ AMSTERDAM  ┆            ┆           ┆           ┆ \"amsterda ┆           ┆           │\n",
       "│            ┆ …          ┆            ┆           ┆           ┆ m\"]       ┆           ┆           │\n",
       "│ CREDIT_CAR ┆ SILOAM     ┆ null       ┆ null      ┆ ID        ┆ [\"siloam\" ┆ [4, 4]    ┆ tangerang │\n",
       "│ D          ┆ CLINIC GRH ┆            ┆           ┆           ┆ ,         ┆           ┆           │\n",
       "│            ┆ RAYA       ┆            ┆           ┆           ┆ \"clinic\", ┆           ┆           │\n",
       "│            ┆ TANGERA…   ┆            ┆           ┆           ┆ … \"slt\"]  ┆           ┆           │\n",
       "│ CREDIT_CAR ┆ SWALAYAN   ┆ null       ┆ null      ┆ ID        ┆ [\"swalaya ┆ [3, 4]    ┆ tanjung   │\n",
       "│ D          ┆ ZOOM MBL   ┆            ┆           ┆           ┆ n\",       ┆           ┆ pinan     │\n",
       "│            ┆ TANJUNG    ┆            ┆           ┆           ┆ \"zoom\", … ┆           ┆           │\n",
       "│            ┆ PINA…      ┆            ┆           ┆           ┆ \"pinan\"…  ┆           ┆           │\n",
       "│ CREDIT_CAR ┆ PEDRO SUN  ┆ null       ┆ null      ┆ ID        ┆ [\"pedro\", ┆ [3, 4]    ┆ medan     │\n",
       "│ D          ┆ PLAZA      ┆            ┆           ┆           ┆ \"sun\", …  ┆           ┆ medan     │\n",
       "│            ┆ MEDAN      ┆            ┆           ┆           ┆ \"kot\"]    ┆           ┆           │\n",
       "│            ┆ MEDAN KO…  ┆            ┆           ┆           ┆           ┆           ┆           │\n",
       "│ …          ┆ …          ┆ …          ┆ …         ┆ …         ┆ …         ┆ …         ┆ …         │\n",
       "│ CREDIT_CAR ┆ AUSSIE     ┆ null       ┆ null      ┆ AU        ┆ [\"aussie\" ┆ null      ┆ null      │\n",
       "│ D          ┆ TOYS       ┆            ┆           ┆           ┆ , \"toys\", ┆           ┆           │\n",
       "│            ┆ ONLINE     ┆            ┆           ┆           ┆ … \"pakenh ┆           ┆           │\n",
       "│            ┆ PAKENHAM   ┆            ┆           ┆           ┆ am…       ┆           ┆           │\n",
       "│            ┆ AU         ┆            ┆           ┆           ┆           ┆           ┆           │\n",
       "│ CREDIT_CAR ┆ TOKO EMAS  ┆ null       ┆ OFFLINE   ┆ ID        ┆ [\"toko\",  ┆ [3, 3]    ┆ medan     │\n",
       "│ D          ┆ GINBERS    ┆            ┆           ┆           ┆ \"emas\", … ┆           ┆           │\n",
       "│            ┆ MEDAN KOT. ┆            ┆           ┆           ┆ \"kot\"]    ┆           ┆           │\n",
       "│            ┆ I…         ┆            ┆           ┆           ┆           ┆           ┆           │\n",
       "│ CREDIT_CAR ┆ BINTANG    ┆ null       ┆ null      ┆ ID        ┆ [\"bintang ┆ [2, 2]    ┆ serang    │\n",
       "│ D          ┆ SPORT      ┆            ┆           ┆           ┆ \",        ┆           ┆           │\n",
       "│            ┆ SERANG     ┆            ┆           ┆           ┆ \"sport\",  ┆           ┆           │\n",
       "│            ┆ (KOTA)ID   ┆            ┆           ┆           ┆ … \"kota\"] ┆           ┆           │\n",
       "│ CREDIT_CAR ┆ ACE        ┆ null       ┆ null      ┆ ID        ┆ [\"ace\",   ┆ [-1, -1]  ┆ null      │\n",
       "│ D          ┆ HARDWARE   ┆            ┆           ┆           ┆ \"hardware ┆           ┆           │\n",
       "│            ┆ MALL PI I  ┆            ┆           ┆           ┆ \", …      ┆           ┆           │\n",
       "│            ┆ JAKARTA…   ┆            ┆           ┆           ┆ \"jakarta… ┆           ┆           │\n",
       "│ CREDIT_CAR ┆ IDM TJAJ   ┆ null       ┆ OFFLINE   ┆ ID        ┆ [\"idm\",   ┆ [2, 3]    ┆ lombok    │\n",
       "│ D          ┆ LOMBOK     ┆            ┆           ┆           ┆ \"tjaj\", … ┆           ┆ timur     │\n",
       "│            ┆ TIMUR ID   ┆            ┆           ┆           ┆ \"timur\"]  ┆           ┆           │\n",
       "└────────────┴────────────┴────────────┴───────────┴───────────┴───────────┴───────────┴───────────┘"
      ]
     },
     "execution_count": 34,
     "metadata": {},
     "output_type": "execute_result"
    }
   ],
   "source": [
    "data_labeled"
   ]
  },
  {
   "cell_type": "code",
   "execution_count": 337,
   "metadata": {},
   "outputs": [],
   "source": [
    "# export data\n",
    "data_labeled.write_parquet('data_location_labeled.parquet')"
   ]
  },
  {
   "cell_type": "code",
   "execution_count": 525,
   "metadata": {},
   "outputs": [
    {
     "data": {
      "text/html": [
       "<div><style>\n",
       ".dataframe > thead > tr,\n",
       ".dataframe > tbody > tr {\n",
       "  text-align: right;\n",
       "  white-space: pre-wrap;\n",
       "}\n",
       "</style>\n",
       "<small>shape: (492_245, 10)</small><table border=\"1\" class=\"dataframe\"><thead><tr><th>source</th><th>merchant_name</th><th>merchant_location</th><th>online_offline_flag</th><th>country_code</th><th>word_list</th><th>location_index</th><th>extracted_location</th><th>enhanced_location</th><th>cleaned_location</th></tr><tr><td>str</td><td>str</td><td>str</td><td>str</td><td>str</td><td>list[str]</td><td>list[i32]</td><td>str</td><td>str</td><td>str</td></tr></thead><tbody><tr><td>&quot;CREDIT_CARD&quot;</td><td>&quot;CHOP BUNTUT CAK YO SLEMAN (KAB…</td><td>null</td><td>null</td><td>&quot;ID&quot;</td><td>[&quot;chop&quot;, &quot;buntut&quot;, … &quot;kab&quot;]</td><td>[3, 4]</td><td>&quot;yo sleman&quot;</td><td>&quot;sleman&quot;</td><td>&quot;sleman&quot;</td></tr><tr><td>&quot;CREDIT_CARD&quot;</td><td>&quot;TBL* THE SEED LEVEL AMSTERDAM …</td><td>null</td><td>null</td><td>&quot;NL&quot;</td><td>[&quot;tbl&quot;, &quot;the&quot;, … &quot;amsterdam&quot;]</td><td>null</td><td>null</td><td>null</td><td>null</td></tr><tr><td>&quot;CREDIT_CARD&quot;</td><td>&quot;SILOAM CLINIC GRH RAYA TANGERA…</td><td>null</td><td>null</td><td>&quot;ID&quot;</td><td>[&quot;siloam&quot;, &quot;clinic&quot;, … &quot;slt&quot;]</td><td>[4, 4]</td><td>&quot;tangerang&quot;</td><td>&quot;tangerang&quot;</td><td>&quot;tangerang&quot;</td></tr><tr><td>&quot;CREDIT_CARD&quot;</td><td>&quot;SWALAYAN ZOOM MBL TANJUNG PINA…</td><td>null</td><td>null</td><td>&quot;ID&quot;</td><td>[&quot;swalayan&quot;, &quot;zoom&quot;, … &quot;pinan&quot;]</td><td>[3, 4]</td><td>&quot;tanjung pinan&quot;</td><td>&quot;tanjung pinang&quot;</td><td>&quot;tanjung pinan&quot;</td></tr><tr><td>&quot;CREDIT_CARD&quot;</td><td>&quot;PEDRO SUN PLAZA MEDAN MEDAN KO…</td><td>null</td><td>null</td><td>&quot;ID&quot;</td><td>[&quot;pedro&quot;, &quot;sun&quot;, … &quot;kot&quot;]</td><td>[3, 4]</td><td>&quot;medan medan&quot;</td><td>&quot;medan&quot;</td><td>&quot;medan&quot;</td></tr><tr><td>&hellip;</td><td>&hellip;</td><td>&hellip;</td><td>&hellip;</td><td>&hellip;</td><td>&hellip;</td><td>&hellip;</td><td>&hellip;</td><td>&hellip;</td><td>&hellip;</td></tr><tr><td>&quot;CREDIT_CARD&quot;</td><td>&quot;AUSSIE TOYS ONLINE PAKENHAM AU&quot;</td><td>null</td><td>null</td><td>&quot;AU&quot;</td><td>[&quot;aussie&quot;, &quot;toys&quot;, … &quot;pakenham&quot;]</td><td>null</td><td>null</td><td>null</td><td>null</td></tr><tr><td>&quot;CREDIT_CARD&quot;</td><td>&quot;TOKO EMAS GINBERS MEDAN KOT. I…</td><td>null</td><td>&quot;OFFLINE&quot;</td><td>&quot;ID&quot;</td><td>[&quot;toko&quot;, &quot;emas&quot;, … &quot;kot&quot;]</td><td>[3, 3]</td><td>&quot;medan&quot;</td><td>&quot;medan&quot;</td><td>&quot;medan&quot;</td></tr><tr><td>&quot;CREDIT_CARD&quot;</td><td>&quot;BINTANG SPORT SERANG (KOTA)ID&quot;</td><td>null</td><td>null</td><td>&quot;ID&quot;</td><td>[&quot;bintang&quot;, &quot;sport&quot;, … &quot;kota&quot;]</td><td>[2, 2]</td><td>&quot;serang&quot;</td><td>&quot;serang&quot;</td><td>&quot;serang&quot;</td></tr><tr><td>&quot;CREDIT_CARD&quot;</td><td>&quot;ACE HARDWARE MALL PI I JAKARTA…</td><td>null</td><td>null</td><td>&quot;ID&quot;</td><td>[&quot;ace&quot;, &quot;hardware&quot;, … &quot;jakarta&quot;]</td><td>[-1, -1]</td><td>null</td><td>null</td><td>null</td></tr><tr><td>&quot;CREDIT_CARD&quot;</td><td>&quot;IDM TJAJ LOMBOK TIMUR ID&quot;</td><td>null</td><td>&quot;OFFLINE&quot;</td><td>&quot;ID&quot;</td><td>[&quot;idm&quot;, &quot;tjaj&quot;, … &quot;timur&quot;]</td><td>[2, 3]</td><td>&quot;lombok timur&quot;</td><td>&quot;lombok timur&quot;</td><td>&quot;lombok timur&quot;</td></tr></tbody></table></div>"
      ],
      "text/plain": [
       "shape: (492_245, 10)\n",
       "┌───────────┬───────────┬───────────┬───────────┬───┬───────────┬───────────┬───────────┬──────────┐\n",
       "│ source    ┆ merchant_ ┆ merchant_ ┆ online_of ┆ … ┆ location_ ┆ extracted ┆ enhanced_ ┆ cleaned_ │\n",
       "│ ---       ┆ name      ┆ location  ┆ fline_fla ┆   ┆ index     ┆ _location ┆ location  ┆ location │\n",
       "│ str       ┆ ---       ┆ ---       ┆ g         ┆   ┆ ---       ┆ ---       ┆ ---       ┆ ---      │\n",
       "│           ┆ str       ┆ str       ┆ ---       ┆   ┆ list[i32] ┆ str       ┆ str       ┆ str      │\n",
       "│           ┆           ┆           ┆ str       ┆   ┆           ┆           ┆           ┆          │\n",
       "╞═══════════╪═══════════╪═══════════╪═══════════╪═══╪═══════════╪═══════════╪═══════════╪══════════╡\n",
       "│ CREDIT_CA ┆ CHOP      ┆ null      ┆ null      ┆ … ┆ [3, 4]    ┆ yo sleman ┆ sleman    ┆ sleman   │\n",
       "│ RD        ┆ BUNTUT    ┆           ┆           ┆   ┆           ┆           ┆           ┆          │\n",
       "│           ┆ CAK YO    ┆           ┆           ┆   ┆           ┆           ┆           ┆          │\n",
       "│           ┆ SLEMAN    ┆           ┆           ┆   ┆           ┆           ┆           ┆          │\n",
       "│           ┆ (KAB…     ┆           ┆           ┆   ┆           ┆           ┆           ┆          │\n",
       "│ CREDIT_CA ┆ TBL* THE  ┆ null      ┆ null      ┆ … ┆ null      ┆ null      ┆ null      ┆ null     │\n",
       "│ RD        ┆ SEED      ┆           ┆           ┆   ┆           ┆           ┆           ┆          │\n",
       "│           ┆ LEVEL     ┆           ┆           ┆   ┆           ┆           ┆           ┆          │\n",
       "│           ┆ AMSTERDAM ┆           ┆           ┆   ┆           ┆           ┆           ┆          │\n",
       "│           ┆ …         ┆           ┆           ┆   ┆           ┆           ┆           ┆          │\n",
       "│ CREDIT_CA ┆ SILOAM    ┆ null      ┆ null      ┆ … ┆ [4, 4]    ┆ tangerang ┆ tangerang ┆ tangeran │\n",
       "│ RD        ┆ CLINIC    ┆           ┆           ┆   ┆           ┆           ┆           ┆ g        │\n",
       "│           ┆ GRH RAYA  ┆           ┆           ┆   ┆           ┆           ┆           ┆          │\n",
       "│           ┆ TANGERA…  ┆           ┆           ┆   ┆           ┆           ┆           ┆          │\n",
       "│ CREDIT_CA ┆ SWALAYAN  ┆ null      ┆ null      ┆ … ┆ [3, 4]    ┆ tanjung   ┆ tanjung   ┆ tanjung  │\n",
       "│ RD        ┆ ZOOM MBL  ┆           ┆           ┆   ┆           ┆ pinan     ┆ pinang    ┆ pinan    │\n",
       "│           ┆ TANJUNG   ┆           ┆           ┆   ┆           ┆           ┆           ┆          │\n",
       "│           ┆ PINA…     ┆           ┆           ┆   ┆           ┆           ┆           ┆          │\n",
       "│ CREDIT_CA ┆ PEDRO SUN ┆ null      ┆ null      ┆ … ┆ [3, 4]    ┆ medan     ┆ medan     ┆ medan    │\n",
       "│ RD        ┆ PLAZA     ┆           ┆           ┆   ┆           ┆ medan     ┆           ┆          │\n",
       "│           ┆ MEDAN     ┆           ┆           ┆   ┆           ┆           ┆           ┆          │\n",
       "│           ┆ MEDAN KO… ┆           ┆           ┆   ┆           ┆           ┆           ┆          │\n",
       "│ …         ┆ …         ┆ …         ┆ …         ┆ … ┆ …         ┆ …         ┆ …         ┆ …        │\n",
       "│ CREDIT_CA ┆ AUSSIE    ┆ null      ┆ null      ┆ … ┆ null      ┆ null      ┆ null      ┆ null     │\n",
       "│ RD        ┆ TOYS      ┆           ┆           ┆   ┆           ┆           ┆           ┆          │\n",
       "│           ┆ ONLINE    ┆           ┆           ┆   ┆           ┆           ┆           ┆          │\n",
       "│           ┆ PAKENHAM  ┆           ┆           ┆   ┆           ┆           ┆           ┆          │\n",
       "│           ┆ AU        ┆           ┆           ┆   ┆           ┆           ┆           ┆          │\n",
       "│ CREDIT_CA ┆ TOKO EMAS ┆ null      ┆ OFFLINE   ┆ … ┆ [3, 3]    ┆ medan     ┆ medan     ┆ medan    │\n",
       "│ RD        ┆ GINBERS   ┆           ┆           ┆   ┆           ┆           ┆           ┆          │\n",
       "│           ┆ MEDAN     ┆           ┆           ┆   ┆           ┆           ┆           ┆          │\n",
       "│           ┆ KOT. I…   ┆           ┆           ┆   ┆           ┆           ┆           ┆          │\n",
       "│ CREDIT_CA ┆ BINTANG   ┆ null      ┆ null      ┆ … ┆ [2, 2]    ┆ serang    ┆ serang    ┆ serang   │\n",
       "│ RD        ┆ SPORT     ┆           ┆           ┆   ┆           ┆           ┆           ┆          │\n",
       "│           ┆ SERANG    ┆           ┆           ┆   ┆           ┆           ┆           ┆          │\n",
       "│           ┆ (KOTA)ID  ┆           ┆           ┆   ┆           ┆           ┆           ┆          │\n",
       "│ CREDIT_CA ┆ ACE       ┆ null      ┆ null      ┆ … ┆ [-1, -1]  ┆ null      ┆ null      ┆ null     │\n",
       "│ RD        ┆ HARDWARE  ┆           ┆           ┆   ┆           ┆           ┆           ┆          │\n",
       "│           ┆ MALL PI I ┆           ┆           ┆   ┆           ┆           ┆           ┆          │\n",
       "│           ┆ JAKARTA…  ┆           ┆           ┆   ┆           ┆           ┆           ┆          │\n",
       "│ CREDIT_CA ┆ IDM TJAJ  ┆ null      ┆ OFFLINE   ┆ … ┆ [2, 3]    ┆ lombok    ┆ lombok    ┆ lombok   │\n",
       "│ RD        ┆ LOMBOK    ┆           ┆           ┆   ┆           ┆ timur     ┆ timur     ┆ timur    │\n",
       "│           ┆ TIMUR ID  ┆           ┆           ┆   ┆           ┆           ┆           ┆          │\n",
       "└───────────┴───────────┴───────────┴───────────┴───┴───────────┴───────────┴───────────┴──────────┘"
      ]
     },
     "execution_count": 525,
     "metadata": {},
     "output_type": "execute_result"
    }
   ],
   "source": [
    "data_labeled"
   ]
  },
  {
   "cell_type": "code",
   "execution_count": 346,
   "metadata": {},
   "outputs": [
    {
     "data": {
      "text/html": [
       "<div><style>\n",
       ".dataframe > thead > tr,\n",
       ".dataframe > tbody > tr {\n",
       "  text-align: right;\n",
       "  white-space: pre-wrap;\n",
       "}\n",
       "</style>\n",
       "<small>shape: (10_885, 8)</small><table border=\"1\" class=\"dataframe\"><thead><tr><th>source</th><th>merchant_name</th><th>merchant_location</th><th>online_offline_flag</th><th>country_code</th><th>word_list</th><th>location_index</th><th>extracted_location</th></tr><tr><td>str</td><td>str</td><td>str</td><td>str</td><td>str</td><td>list[str]</td><td>list[i32]</td><td>str</td></tr></thead><tbody><tr><td>&quot;CREDIT_CARD&quot;</td><td>&quot;SUSHI HIRO PASIFIC PLA JAJAKAR…</td><td>null</td><td>null</td><td>&quot;ID&quot;</td><td>[&quot;sushi&quot;, &quot;hiro&quot;, … &quot;selat&quot;]</td><td>[4, 5]</td><td>&quot;jajakarta selat&quot;</td></tr><tr><td>&quot;CREDIT_CARD&quot;</td><td>&quot;KYZN KUNINGAN MBL 1 JAKARTA SE…</td><td>null</td><td>null</td><td>&quot;ID&quot;</td><td>[&quot;kyzn&quot;, &quot;kuningan&quot;, … &quot;selat&quot;]</td><td>[1, 5]</td><td>&quot;kuningan mbl 1 jakarta selat&quot;</td></tr><tr><td>&quot;CREDIT_CARD&quot;</td><td>&quot;IRWAN TEAM JAKARTA SELATID&quot;</td><td>null</td><td>null</td><td>&quot;ID&quot;</td><td>[&quot;irwan&quot;, &quot;team&quot;, … &quot;selat&quot;]</td><td>[2, 3]</td><td>&quot;jakarta selat&quot;</td></tr><tr><td>&quot;CREDIT_CARD&quot;</td><td>&quot;KEBULI BY KHAN CAB.FAT JAKARTA…</td><td>null</td><td>null</td><td>&quot;ID&quot;</td><td>[&quot;kebuli&quot;, &quot;by&quot;, … &quot;selat&quot;]</td><td>[4, 5]</td><td>&quot;jakarta selat&quot;</td></tr><tr><td>&quot;CREDIT_CARD&quot;</td><td>&quot;HARDWARE BG JAKARTA SELATID&quot;</td><td>null</td><td>null</td><td>&quot;ID&quot;</td><td>[&quot;hardware&quot;, &quot;bg&quot;, … &quot;selat&quot;]</td><td>[2, 3]</td><td>&quot;jakarta selat&quot;</td></tr><tr><td>&hellip;</td><td>&hellip;</td><td>&hellip;</td><td>&hellip;</td><td>&hellip;</td><td>&hellip;</td><td>&hellip;</td><td>&hellip;</td></tr><tr><td>&quot;CREDIT_CARD&quot;</td><td>&quot;DAPUR SATE MAK SYUKUR JAKARTA …</td><td>null</td><td>null</td><td>&quot;ID&quot;</td><td>[&quot;dapur&quot;, &quot;sate&quot;, … &quot;selat&quot;]</td><td>[4, 5]</td><td>&quot;jakarta selat&quot;</td></tr><tr><td>&quot;CREDIT_CARD&quot;</td><td>&quot;GUESS - KOTA KASABLAN JAKARTA …</td><td>null</td><td>null</td><td>&quot;ID&quot;</td><td>[&quot;guess&quot;, &quot;kota&quot;, … &quot;sela&quot;]</td><td>[3, 4]</td><td>&quot;jakarta sela&quot;</td></tr><tr><td>&quot;CREDIT_CARD&quot;</td><td>&quot;SUCK MY DUCK JAKARTA SELATID&quot;</td><td>null</td><td>null</td><td>&quot;ID&quot;</td><td>[&quot;suck&quot;, &quot;my&quot;, … &quot;selat&quot;]</td><td>[3, 4]</td><td>&quot;jakarta selat&quot;</td></tr><tr><td>&quot;CREDIT_CARD&quot;</td><td>&quot;INDRI COLLECTION JAKARTA SELAT…</td><td>null</td><td>null</td><td>&quot;ID&quot;</td><td>[&quot;indri&quot;, &quot;collection&quot;, … &quot;selat&quot;]</td><td>[2, 3]</td><td>&quot;jakarta selat&quot;</td></tr><tr><td>&quot;CREDIT_CARD&quot;</td><td>&quot;HARIO ONE SATRIO JAKARTA SELA …</td><td>null</td><td>null</td><td>&quot;ID&quot;</td><td>[&quot;hario&quot;, &quot;one&quot;, … &quot;sela&quot;]</td><td>[3, 4]</td><td>&quot;jakarta sela&quot;</td></tr></tbody></table></div>"
      ],
      "text/plain": [
       "shape: (10_885, 8)\n",
       "┌────────────┬────────────┬────────────┬───────────┬───────────┬───────────┬───────────┬───────────┐\n",
       "│ source     ┆ merchant_n ┆ merchant_l ┆ online_of ┆ country_c ┆ word_list ┆ location_ ┆ extracted │\n",
       "│ ---        ┆ ame        ┆ ocation    ┆ fline_fla ┆ ode       ┆ ---       ┆ index     ┆ _location │\n",
       "│ str        ┆ ---        ┆ ---        ┆ g         ┆ ---       ┆ list[str] ┆ ---       ┆ ---       │\n",
       "│            ┆ str        ┆ str        ┆ ---       ┆ str       ┆           ┆ list[i32] ┆ str       │\n",
       "│            ┆            ┆            ┆ str       ┆           ┆           ┆           ┆           │\n",
       "╞════════════╪════════════╪════════════╪═══════════╪═══════════╪═══════════╪═══════════╪═══════════╡\n",
       "│ CREDIT_CAR ┆ SUSHI HIRO ┆ null       ┆ null      ┆ ID        ┆ [\"sushi\", ┆ [4, 5]    ┆ jajakarta │\n",
       "│ D          ┆ PASIFIC    ┆            ┆           ┆           ┆ \"hiro\", … ┆           ┆ selat     │\n",
       "│            ┆ PLA        ┆            ┆           ┆           ┆ \"selat\"]  ┆           ┆           │\n",
       "│            ┆ JAJAKAR…   ┆            ┆           ┆           ┆           ┆           ┆           │\n",
       "│ CREDIT_CAR ┆ KYZN       ┆ null       ┆ null      ┆ ID        ┆ [\"kyzn\",  ┆ [1, 5]    ┆ kuningan  │\n",
       "│ D          ┆ KUNINGAN   ┆            ┆           ┆           ┆ \"kuningan ┆           ┆ mbl 1     │\n",
       "│            ┆ MBL 1      ┆            ┆           ┆           ┆ \", …      ┆           ┆ jakarta   │\n",
       "│            ┆ JAKARTA    ┆            ┆           ┆           ┆ \"selat\"…  ┆           ┆ selat     │\n",
       "│            ┆ SE…        ┆            ┆           ┆           ┆           ┆           ┆           │\n",
       "│ CREDIT_CAR ┆ IRWAN TEAM ┆ null       ┆ null      ┆ ID        ┆ [\"irwan\", ┆ [2, 3]    ┆ jakarta   │\n",
       "│ D          ┆ JAKARTA    ┆            ┆           ┆           ┆ \"team\", … ┆           ┆ selat     │\n",
       "│            ┆ SELATID    ┆            ┆           ┆           ┆ \"selat\"]  ┆           ┆           │\n",
       "│ CREDIT_CAR ┆ KEBULI BY  ┆ null       ┆ null      ┆ ID        ┆ [\"kebuli\" ┆ [4, 5]    ┆ jakarta   │\n",
       "│ D          ┆ KHAN       ┆            ┆           ┆           ┆ , \"by\", … ┆           ┆ selat     │\n",
       "│            ┆ CAB.FAT    ┆            ┆           ┆           ┆ \"selat\"]  ┆           ┆           │\n",
       "│            ┆ JAKARTA…   ┆            ┆           ┆           ┆           ┆           ┆           │\n",
       "│ CREDIT_CAR ┆ HARDWARE   ┆ null       ┆ null      ┆ ID        ┆ [\"hardwar ┆ [2, 3]    ┆ jakarta   │\n",
       "│ D          ┆ BG JAKARTA ┆            ┆           ┆           ┆ e\", \"bg\", ┆           ┆ selat     │\n",
       "│            ┆ SELATID    ┆            ┆           ┆           ┆ …         ┆           ┆           │\n",
       "│            ┆            ┆            ┆           ┆           ┆ \"selat\"]  ┆           ┆           │\n",
       "│ …          ┆ …          ┆ …          ┆ …         ┆ …         ┆ …         ┆ …         ┆ …         │\n",
       "│ CREDIT_CAR ┆ DAPUR SATE ┆ null       ┆ null      ┆ ID        ┆ [\"dapur\", ┆ [4, 5]    ┆ jakarta   │\n",
       "│ D          ┆ MAK SYUKUR ┆            ┆           ┆           ┆ \"sate\", … ┆           ┆ selat     │\n",
       "│            ┆ JAKARTA …  ┆            ┆           ┆           ┆ \"selat\"]  ┆           ┆           │\n",
       "│ CREDIT_CAR ┆ GUESS -    ┆ null       ┆ null      ┆ ID        ┆ [\"guess\", ┆ [3, 4]    ┆ jakarta   │\n",
       "│ D          ┆ KOTA       ┆            ┆           ┆           ┆ \"kota\", … ┆           ┆ sela      │\n",
       "│            ┆ KASABLAN   ┆            ┆           ┆           ┆ \"sela\"]   ┆           ┆           │\n",
       "│            ┆ JAKARTA …  ┆            ┆           ┆           ┆           ┆           ┆           │\n",
       "│ CREDIT_CAR ┆ SUCK MY    ┆ null       ┆ null      ┆ ID        ┆ [\"suck\",  ┆ [3, 4]    ┆ jakarta   │\n",
       "│ D          ┆ DUCK       ┆            ┆           ┆           ┆ \"my\", …   ┆           ┆ selat     │\n",
       "│            ┆ JAKARTA    ┆            ┆           ┆           ┆ \"selat\"]  ┆           ┆           │\n",
       "│            ┆ SELATID    ┆            ┆           ┆           ┆           ┆           ┆           │\n",
       "│ CREDIT_CAR ┆ INDRI      ┆ null       ┆ null      ┆ ID        ┆ [\"indri\", ┆ [2, 3]    ┆ jakarta   │\n",
       "│ D          ┆ COLLECTION ┆            ┆           ┆           ┆ \"collecti ┆           ┆ selat     │\n",
       "│            ┆ JAKARTA    ┆            ┆           ┆           ┆ on\", …    ┆           ┆           │\n",
       "│            ┆ SELAT…     ┆            ┆           ┆           ┆ \"sel…     ┆           ┆           │\n",
       "│ CREDIT_CAR ┆ HARIO ONE  ┆ null       ┆ null      ┆ ID        ┆ [\"hario\", ┆ [3, 4]    ┆ jakarta   │\n",
       "│ D          ┆ SATRIO     ┆            ┆           ┆           ┆ \"one\", …  ┆           ┆ sela      │\n",
       "│            ┆ JAKARTA    ┆            ┆           ┆           ┆ \"sela\"]   ┆           ┆           │\n",
       "│            ┆ SELA …     ┆            ┆           ┆           ┆           ┆           ┆           │\n",
       "└────────────┴────────────┴────────────┴───────────┴───────────┴───────────┴───────────┴───────────┘"
      ]
     },
     "execution_count": 346,
     "metadata": {},
     "output_type": "execute_result"
    }
   ],
   "source": [
    "data_labeled.filter(pl.col('extracted_location').str.contains(r'jakarta sel'))"
   ]
  },
  {
   "cell_type": "markdown",
   "metadata": {},
   "source": [
    "# TEXT ADJUSTMENT (COMPLETION AND DELETION) TO ENHANCE THE LABEL"
   ]
  },
  {
   "cell_type": "code",
   "execution_count": 316,
   "metadata": {},
   "outputs": [
    {
     "data": {
      "text/html": [
       "<div><style>\n",
       ".dataframe > thead > tr,\n",
       ".dataframe > tbody > tr {\n",
       "  text-align: right;\n",
       "  white-space: pre-wrap;\n",
       "}\n",
       "</style>\n",
       "<small>shape: (492_245, 8)</small><table border=\"1\" class=\"dataframe\"><thead><tr><th>source</th><th>merchant_name</th><th>merchant_location</th><th>online_offline_flag</th><th>country_code</th><th>word_list</th><th>location_index</th><th>extracted_location</th></tr><tr><td>str</td><td>str</td><td>str</td><td>str</td><td>str</td><td>list[str]</td><td>list[i32]</td><td>str</td></tr></thead><tbody><tr><td>&quot;CREDIT_CARD&quot;</td><td>&quot;CHOP BUNTUT CAK YO SLEMAN (KAB…</td><td>null</td><td>null</td><td>&quot;ID&quot;</td><td>[&quot;chop&quot;, &quot;buntut&quot;, … &quot;kab&quot;]</td><td>[3, 4]</td><td>&quot;yo sleman&quot;</td></tr><tr><td>&quot;CREDIT_CARD&quot;</td><td>&quot;TBL* THE SEED LEVEL AMSTERDAM …</td><td>null</td><td>null</td><td>&quot;NL&quot;</td><td>[&quot;tbl&quot;, &quot;the&quot;, … &quot;amsterdam&quot;]</td><td>null</td><td>null</td></tr><tr><td>&quot;CREDIT_CARD&quot;</td><td>&quot;SILOAM CLINIC GRH RAYA TANGERA…</td><td>null</td><td>null</td><td>&quot;ID&quot;</td><td>[&quot;siloam&quot;, &quot;clinic&quot;, … &quot;slt&quot;]</td><td>[4, 4]</td><td>&quot;tangerang&quot;</td></tr><tr><td>&quot;CREDIT_CARD&quot;</td><td>&quot;SWALAYAN ZOOM MBL TANJUNG PINA…</td><td>null</td><td>null</td><td>&quot;ID&quot;</td><td>[&quot;swalayan&quot;, &quot;zoom&quot;, … &quot;pinan&quot;]</td><td>[3, 4]</td><td>&quot;tanjung pinan&quot;</td></tr><tr><td>&quot;CREDIT_CARD&quot;</td><td>&quot;PEDRO SUN PLAZA MEDAN MEDAN KO…</td><td>null</td><td>null</td><td>&quot;ID&quot;</td><td>[&quot;pedro&quot;, &quot;sun&quot;, … &quot;kot&quot;]</td><td>[3, 4]</td><td>&quot;medan medan&quot;</td></tr><tr><td>&hellip;</td><td>&hellip;</td><td>&hellip;</td><td>&hellip;</td><td>&hellip;</td><td>&hellip;</td><td>&hellip;</td><td>&hellip;</td></tr><tr><td>&quot;CREDIT_CARD&quot;</td><td>&quot;AUSSIE TOYS ONLINE PAKENHAM AU&quot;</td><td>null</td><td>null</td><td>&quot;AU&quot;</td><td>[&quot;aussie&quot;, &quot;toys&quot;, … &quot;pakenham&quot;]</td><td>null</td><td>null</td></tr><tr><td>&quot;CREDIT_CARD&quot;</td><td>&quot;TOKO EMAS GINBERS MEDAN KOT. I…</td><td>null</td><td>&quot;OFFLINE&quot;</td><td>&quot;ID&quot;</td><td>[&quot;toko&quot;, &quot;emas&quot;, … &quot;kot&quot;]</td><td>[3, 3]</td><td>&quot;medan&quot;</td></tr><tr><td>&quot;CREDIT_CARD&quot;</td><td>&quot;BINTANG SPORT SERANG (KOTA)ID&quot;</td><td>null</td><td>null</td><td>&quot;ID&quot;</td><td>[&quot;bintang&quot;, &quot;sport&quot;, … &quot;kota&quot;]</td><td>[2, 2]</td><td>&quot;serang&quot;</td></tr><tr><td>&quot;CREDIT_CARD&quot;</td><td>&quot;ACE HARDWARE MALL PI I JAKARTA…</td><td>null</td><td>null</td><td>&quot;ID&quot;</td><td>[&quot;ace&quot;, &quot;hardware&quot;, … &quot;jakarta&quot;]</td><td>[-1, -1]</td><td>null</td></tr><tr><td>&quot;CREDIT_CARD&quot;</td><td>&quot;IDM TJAJ LOMBOK TIMUR ID&quot;</td><td>null</td><td>&quot;OFFLINE&quot;</td><td>&quot;ID&quot;</td><td>[&quot;idm&quot;, &quot;tjaj&quot;, … &quot;timur&quot;]</td><td>[2, 3]</td><td>&quot;lombok timur&quot;</td></tr></tbody></table></div>"
      ],
      "text/plain": [
       "shape: (492_245, 8)\n",
       "┌────────────┬────────────┬────────────┬───────────┬───────────┬───────────┬───────────┬───────────┐\n",
       "│ source     ┆ merchant_n ┆ merchant_l ┆ online_of ┆ country_c ┆ word_list ┆ location_ ┆ extracted │\n",
       "│ ---        ┆ ame        ┆ ocation    ┆ fline_fla ┆ ode       ┆ ---       ┆ index     ┆ _location │\n",
       "│ str        ┆ ---        ┆ ---        ┆ g         ┆ ---       ┆ list[str] ┆ ---       ┆ ---       │\n",
       "│            ┆ str        ┆ str        ┆ ---       ┆ str       ┆           ┆ list[i32] ┆ str       │\n",
       "│            ┆            ┆            ┆ str       ┆           ┆           ┆           ┆           │\n",
       "╞════════════╪════════════╪════════════╪═══════════╪═══════════╪═══════════╪═══════════╪═══════════╡\n",
       "│ CREDIT_CAR ┆ CHOP       ┆ null       ┆ null      ┆ ID        ┆ [\"chop\",  ┆ [3, 4]    ┆ yo sleman │\n",
       "│ D          ┆ BUNTUT CAK ┆            ┆           ┆           ┆ \"buntut\", ┆           ┆           │\n",
       "│            ┆ YO SLEMAN  ┆            ┆           ┆           ┆ … \"kab\"]  ┆           ┆           │\n",
       "│            ┆ (KAB…      ┆            ┆           ┆           ┆           ┆           ┆           │\n",
       "│ CREDIT_CAR ┆ TBL* THE   ┆ null       ┆ null      ┆ NL        ┆ [\"tbl\",   ┆ null      ┆ null      │\n",
       "│ D          ┆ SEED LEVEL ┆            ┆           ┆           ┆ \"the\", …  ┆           ┆           │\n",
       "│            ┆ AMSTERDAM  ┆            ┆           ┆           ┆ \"amsterda ┆           ┆           │\n",
       "│            ┆ …          ┆            ┆           ┆           ┆ m\"]       ┆           ┆           │\n",
       "│ CREDIT_CAR ┆ SILOAM     ┆ null       ┆ null      ┆ ID        ┆ [\"siloam\" ┆ [4, 4]    ┆ tangerang │\n",
       "│ D          ┆ CLINIC GRH ┆            ┆           ┆           ┆ ,         ┆           ┆           │\n",
       "│            ┆ RAYA       ┆            ┆           ┆           ┆ \"clinic\", ┆           ┆           │\n",
       "│            ┆ TANGERA…   ┆            ┆           ┆           ┆ … \"slt\"]  ┆           ┆           │\n",
       "│ CREDIT_CAR ┆ SWALAYAN   ┆ null       ┆ null      ┆ ID        ┆ [\"swalaya ┆ [3, 4]    ┆ tanjung   │\n",
       "│ D          ┆ ZOOM MBL   ┆            ┆           ┆           ┆ n\",       ┆           ┆ pinan     │\n",
       "│            ┆ TANJUNG    ┆            ┆           ┆           ┆ \"zoom\", … ┆           ┆           │\n",
       "│            ┆ PINA…      ┆            ┆           ┆           ┆ \"pinan\"…  ┆           ┆           │\n",
       "│ CREDIT_CAR ┆ PEDRO SUN  ┆ null       ┆ null      ┆ ID        ┆ [\"pedro\", ┆ [3, 4]    ┆ medan     │\n",
       "│ D          ┆ PLAZA      ┆            ┆           ┆           ┆ \"sun\", …  ┆           ┆ medan     │\n",
       "│            ┆ MEDAN      ┆            ┆           ┆           ┆ \"kot\"]    ┆           ┆           │\n",
       "│            ┆ MEDAN KO…  ┆            ┆           ┆           ┆           ┆           ┆           │\n",
       "│ …          ┆ …          ┆ …          ┆ …         ┆ …         ┆ …         ┆ …         ┆ …         │\n",
       "│ CREDIT_CAR ┆ AUSSIE     ┆ null       ┆ null      ┆ AU        ┆ [\"aussie\" ┆ null      ┆ null      │\n",
       "│ D          ┆ TOYS       ┆            ┆           ┆           ┆ , \"toys\", ┆           ┆           │\n",
       "│            ┆ ONLINE     ┆            ┆           ┆           ┆ … \"pakenh ┆           ┆           │\n",
       "│            ┆ PAKENHAM   ┆            ┆           ┆           ┆ am…       ┆           ┆           │\n",
       "│            ┆ AU         ┆            ┆           ┆           ┆           ┆           ┆           │\n",
       "│ CREDIT_CAR ┆ TOKO EMAS  ┆ null       ┆ OFFLINE   ┆ ID        ┆ [\"toko\",  ┆ [3, 3]    ┆ medan     │\n",
       "│ D          ┆ GINBERS    ┆            ┆           ┆           ┆ \"emas\", … ┆           ┆           │\n",
       "│            ┆ MEDAN KOT. ┆            ┆           ┆           ┆ \"kot\"]    ┆           ┆           │\n",
       "│            ┆ I…         ┆            ┆           ┆           ┆           ┆           ┆           │\n",
       "│ CREDIT_CAR ┆ BINTANG    ┆ null       ┆ null      ┆ ID        ┆ [\"bintang ┆ [2, 2]    ┆ serang    │\n",
       "│ D          ┆ SPORT      ┆            ┆           ┆           ┆ \",        ┆           ┆           │\n",
       "│            ┆ SERANG     ┆            ┆           ┆           ┆ \"sport\",  ┆           ┆           │\n",
       "│            ┆ (KOTA)ID   ┆            ┆           ┆           ┆ … \"kota\"] ┆           ┆           │\n",
       "│ CREDIT_CAR ┆ ACE        ┆ null       ┆ null      ┆ ID        ┆ [\"ace\",   ┆ [-1, -1]  ┆ null      │\n",
       "│ D          ┆ HARDWARE   ┆            ┆           ┆           ┆ \"hardware ┆           ┆           │\n",
       "│            ┆ MALL PI I  ┆            ┆           ┆           ┆ \", …      ┆           ┆           │\n",
       "│            ┆ JAKARTA…   ┆            ┆           ┆           ┆ \"jakarta… ┆           ┆           │\n",
       "│ CREDIT_CAR ┆ IDM TJAJ   ┆ null       ┆ OFFLINE   ┆ ID        ┆ [\"idm\",   ┆ [2, 3]    ┆ lombok    │\n",
       "│ D          ┆ LOMBOK     ┆            ┆           ┆           ┆ \"tjaj\", … ┆           ┆ timur     │\n",
       "│            ┆ TIMUR ID   ┆            ┆           ┆           ┆ \"timur\"]  ┆           ┆           │\n",
       "└────────────┴────────────┴────────────┴───────────┴───────────┴───────────┴───────────┴───────────┘"
      ]
     },
     "execution_count": 316,
     "metadata": {},
     "output_type": "execute_result"
    }
   ],
   "source": [
    "# Description preprocessing (Training pipeline)\n",
    "# 1. Extract and remove last 2 characters (Country code)\n",
    "# 2. Remove non-alphanumeric\n",
    "# 3. Remove extra spaces (should be just 1 space)\n",
    "# 4. Enhance extracted location (completion & deletion)\n",
    "# 5. Put the enhanced location back to description\n",
    "# 6. Extract location starting & ending index\n",
    "# DONE - Go to Training\n",
    "\n",
    "# Description preprocessing (Inference pipeline)\n",
    "# 1. Extract and remove last 2 characters (Country code)\n",
    "# 2. Remove non-alphanumeric\n",
    "# 3. Remove extra spaces (should be just 1 space)\n",
    "# DONE - Go to inference\n",
    "\n",
    "# Postprocessing (Inference pipeline)\n",
    "# 1. Enhance extracted location (completion & deletion)\n",
    "data_labeled"
   ]
  },
  {
   "cell_type": "code",
   "execution_count": 12,
   "metadata": {},
   "outputs": [],
   "source": [
    "city_dictionary['full_text'] = {}\n",
    "for city_name in cities_regencies['name_clean']:\n",
    "    city_name = city_name.strip().lower()\n",
    "    first_char = city_name[0]\n",
    "    if first_char not in city_dictionary['full_text']:\n",
    "        city_dictionary['full_text'][first_char] = [city_name]\n",
    "    else:\n",
    "        city_dictionary['full_text'][first_char].append(city_name)\n"
   ]
  },
  {
   "cell_type": "code",
   "execution_count": 14,
   "metadata": {},
   "outputs": [],
   "source": [
    "import pickle"
   ]
  },
  {
   "cell_type": "code",
   "execution_count": 15,
   "metadata": {},
   "outputs": [],
   "source": [
    "file_path=open(\"data/city_dictionary.pkl\", \"wb\")\n",
    "pickle.dump(city_dictionary,file_path)\n",
    "file_path.close()"
   ]
  },
  {
   "cell_type": "code",
   "execution_count": 204,
   "metadata": {},
   "outputs": [
    {
     "name": "stdout",
     "output_type": "stream",
     "text": [
      "4\n",
      "3\n"
     ]
    }
   ],
   "source": [
    "def edit_distance(str1, str2):\n",
    "    \"\"\"\n",
    "    Calculate the Levenshtein (edit) distance between two strings.\n",
    "    \n",
    "    The edit distance is the minimum number of single-character operations\n",
    "    (insertions, deletions, or substitutions) required to change one string\n",
    "    into another.\n",
    "    \n",
    "    Args:\n",
    "        str1: First string\n",
    "        str2: Second string\n",
    "        \n",
    "    Returns:\n",
    "        The edit distance between str1 and str2\n",
    "    \"\"\"\n",
    "    # Create a matrix of size (len(str1)+1) x (len(str2)+1)\n",
    "    dp = [[0 for _ in range(len(str2) + 1)] for _ in range(len(str1) + 1)]\n",
    "    \n",
    "    # Initialize the first row and column\n",
    "    for i in range(len(str1) + 1):\n",
    "        dp[i][0] = i\n",
    "    for j in range(len(str2) + 1):\n",
    "        dp[0][j] = j\n",
    "    \n",
    "    # Fill the matrix\n",
    "    for i in range(1, len(str1) + 1):\n",
    "        for j in range(1, len(str2) + 1):\n",
    "            # If characters match, no operation needed\n",
    "            if str1[i - 1] == str2[j - 1]:\n",
    "                dp[i][j] = dp[i - 1][j - 1]\n",
    "            else:\n",
    "                # Take the minimum of three operations: insert, delete, substitute\n",
    "                dp[i][j] = 1 + min(\n",
    "                    dp[i - 1][j],      # deletion\n",
    "                    dp[i][j - 1],      # insertion\n",
    "                    dp[i - 1][j - 1]   # substitution\n",
    "                )\n",
    "    \n",
    "    return dp[len(str1)][len(str2)]\n",
    "\n",
    "# Example usage\n",
    "print(edit_distance(\"jajakarta selat\", \"jakarta selatan\"))  # Output: 3\n",
    "print(edit_distance(\"sunday\", \"saturday\"))  # Output: 3"
   ]
  },
  {
   "cell_type": "code",
   "execution_count": 319,
   "metadata": {},
   "outputs": [
    {
     "data": {
      "text/html": [
       "<div><style>\n",
       ".dataframe > thead > tr,\n",
       ".dataframe > tbody > tr {\n",
       "  text-align: right;\n",
       "  white-space: pre-wrap;\n",
       "}\n",
       "</style>\n",
       "<small>shape: (9, 7)</small><table border=\"1\" class=\"dataframe\"><thead><tr><th>id</th><th>id_provinces</th><th>name</th><th>name_clean</th><th>unigram</th><th>bigram</th><th>trigram</th></tr><tr><td>i64</td><td>i64</td><td>str</td><td>str</td><td>object</td><td>object</td><td>object</td></tr></thead><tbody><tr><td>1207</td><td>12</td><td>&quot;KABUPATEN LABUHAN BATU&quot;</td><td>&quot;LABUHAN BATU&quot;</td><td>[&#x27;l&#x27;, &#x27;a&#x27;, &#x27;b&#x27;, &#x27;u&#x27;, &#x27;h&#x27;, &#x27;a&#x27;, &#x27;n&#x27;, &#x27;b&#x27;, &#x27;a&#x27;, &#x27;t&#x27;, &#x27;u&#x27;]</td><td>[&#x27;la&#x27;, &#x27;ab&#x27;, &#x27;bu&#x27;, &#x27;uh&#x27;, &#x27;ha&#x27;, &#x27;an&#x27;, &#x27;nb&#x27;, &#x27;ba&#x27;, &#x27;at&#x27;, &#x27;tu&#x27;]</td><td>[&#x27;lab&#x27;, &#x27;abu&#x27;, &#x27;buh&#x27;, &#x27;uha&#x27;, &#x27;han&#x27;, &#x27;anb&#x27;, &#x27;nba&#x27;, &#x27;bat&#x27;, &#x27;atu&#x27;]</td></tr><tr><td>1219</td><td>12</td><td>&quot;KABUPATEN BATU BARA&quot;</td><td>&quot;BATU BARA&quot;</td><td>[&#x27;b&#x27;, &#x27;a&#x27;, &#x27;t&#x27;, &#x27;u&#x27;, &#x27;b&#x27;, &#x27;a&#x27;, &#x27;r&#x27;, &#x27;a&#x27;]</td><td>[&#x27;ba&#x27;, &#x27;at&#x27;, &#x27;tu&#x27;, &#x27;ub&#x27;, &#x27;ba&#x27;, &#x27;ar&#x27;, &#x27;ra&#x27;]</td><td>[&#x27;bat&#x27;, &#x27;atu&#x27;, &#x27;tub&#x27;, &#x27;uba&#x27;, &#x27;bar&#x27;, &#x27;ara&#x27;]</td></tr><tr><td>1222</td><td>12</td><td>&quot;KABUPATEN LABUHAN BATU SELATAN&quot;</td><td>&quot;LABUHAN BATU SELATAN&quot;</td><td>[&#x27;l&#x27;, &#x27;a&#x27;, &#x27;b&#x27;, &#x27;u&#x27;, &#x27;h&#x27;, &#x27;a&#x27;, &#x27;n&#x27;, &#x27;b&#x27;, &#x27;a&#x27;, &#x27;t&#x27;, &#x27;u&#x27;, &#x27;s&#x27;, &#x27;e&#x27;, &#x27;l&#x27;, &#x27;a&#x27;, &#x27;t&#x27;, &#x27;a&#x27;, &#x27;n&#x27;]</td><td>[&#x27;la&#x27;, &#x27;ab&#x27;, &#x27;bu&#x27;, &#x27;uh&#x27;, &#x27;ha&#x27;, &#x27;an&#x27;, &#x27;nb&#x27;, &#x27;ba&#x27;, &#x27;at&#x27;, &#x27;tu&#x27;, &#x27;us&#x27;, &#x27;se&#x27;, &#x27;el&#x27;, &#x27;la&#x27;, &#x27;at&#x27;, &#x27;ta&#x27;, &#x27;an&#x27;]</td><td>[&#x27;lab&#x27;, &#x27;abu&#x27;, &#x27;buh&#x27;, &#x27;uha&#x27;, &#x27;han&#x27;, &#x27;anb&#x27;, &#x27;nba&#x27;, &#x27;bat&#x27;, &#x27;atu&#x27;, &#x27;tus&#x27;, &#x27;use&#x27;, &#x27;sel&#x27;, &#x27;ela&#x27;, &#x27;lat&#x27;, &#x27;ata&#x27;, &#x27;tan&#x27;]</td></tr><tr><td>1223</td><td>12</td><td>&quot;KABUPATEN LABUHAN BATU UTARA&quot;</td><td>&quot;LABUHAN BATU UTARA&quot;</td><td>[&#x27;l&#x27;, &#x27;a&#x27;, &#x27;b&#x27;, &#x27;u&#x27;, &#x27;h&#x27;, &#x27;a&#x27;, &#x27;n&#x27;, &#x27;b&#x27;, &#x27;a&#x27;, &#x27;t&#x27;, &#x27;u&#x27;, &#x27;u&#x27;, &#x27;t&#x27;, &#x27;a&#x27;, &#x27;r&#x27;, &#x27;a&#x27;]</td><td>[&#x27;la&#x27;, &#x27;ab&#x27;, &#x27;bu&#x27;, &#x27;uh&#x27;, &#x27;ha&#x27;, &#x27;an&#x27;, &#x27;nb&#x27;, &#x27;ba&#x27;, &#x27;at&#x27;, &#x27;tu&#x27;, &#x27;uu&#x27;, &#x27;ut&#x27;, &#x27;ta&#x27;, &#x27;ar&#x27;, &#x27;ra&#x27;]</td><td>[&#x27;lab&#x27;, &#x27;abu&#x27;, &#x27;buh&#x27;, &#x27;uha&#x27;, &#x27;han&#x27;, &#x27;anb&#x27;, &#x27;nba&#x27;, &#x27;bat&#x27;, &#x27;atu&#x27;, &#x27;tuu&#x27;, &#x27;uut&#x27;, &#x27;uta&#x27;, &#x27;tar&#x27;, &#x27;ara&#x27;]</td></tr><tr><td>1504</td><td>15</td><td>&quot;KABUPATEN BATANG HARI&quot;</td><td>&quot;BATANG HARI&quot;</td><td>[&#x27;b&#x27;, &#x27;a&#x27;, &#x27;t&#x27;, &#x27;a&#x27;, &#x27;n&#x27;, &#x27;g&#x27;, &#x27;h&#x27;, &#x27;a&#x27;, &#x27;r&#x27;, &#x27;i&#x27;]</td><td>[&#x27;ba&#x27;, &#x27;at&#x27;, &#x27;ta&#x27;, &#x27;an&#x27;, &#x27;ng&#x27;, &#x27;gh&#x27;, &#x27;ha&#x27;, &#x27;ar&#x27;, &#x27;ri&#x27;]</td><td>[&#x27;bat&#x27;, &#x27;ata&#x27;, &#x27;tan&#x27;, &#x27;ang&#x27;, &#x27;ngh&#x27;, &#x27;gha&#x27;, &#x27;har&#x27;, &#x27;ari&#x27;]</td></tr><tr><td>2171</td><td>21</td><td>&quot;KOTA BATAM&quot;</td><td>&quot;BATAM&quot;</td><td>[&#x27;b&#x27;, &#x27;a&#x27;, &#x27;t&#x27;, &#x27;a&#x27;, &#x27;m&#x27;]</td><td>[&#x27;ba&#x27;, &#x27;at&#x27;, &#x27;ta&#x27;, &#x27;am&#x27;]</td><td>[&#x27;bat&#x27;, &#x27;ata&#x27;, &#x27;tam&#x27;]</td></tr><tr><td>3325</td><td>33</td><td>&quot;KABUPATEN BATANG&quot;</td><td>&quot;BATANG&quot;</td><td>[&#x27;b&#x27;, &#x27;a&#x27;, &#x27;t&#x27;, &#x27;a&#x27;, &#x27;n&#x27;, &#x27;g&#x27;]</td><td>[&#x27;ba&#x27;, &#x27;at&#x27;, &#x27;ta&#x27;, &#x27;an&#x27;, &#x27;ng&#x27;]</td><td>[&#x27;bat&#x27;, &#x27;ata&#x27;, &#x27;tan&#x27;, &#x27;ang&#x27;]</td></tr><tr><td>3579</td><td>35</td><td>&quot;KOTA BATU&quot;</td><td>&quot;BATU&quot;</td><td>[&#x27;b&#x27;, &#x27;a&#x27;, &#x27;t&#x27;, &#x27;u&#x27;]</td><td>[&#x27;ba&#x27;, &#x27;at&#x27;, &#x27;tu&#x27;]</td><td>[&#x27;bat&#x27;, &#x27;atu&#x27;]</td></tr><tr><td>5308</td><td>53</td><td>&quot;KABUPATEN LEMBATA&quot;</td><td>&quot;LEMBATA&quot;</td><td>[&#x27;l&#x27;, &#x27;e&#x27;, &#x27;m&#x27;, &#x27;b&#x27;, &#x27;a&#x27;, &#x27;t&#x27;, &#x27;a&#x27;]</td><td>[&#x27;le&#x27;, &#x27;em&#x27;, &#x27;mb&#x27;, &#x27;ba&#x27;, &#x27;at&#x27;, &#x27;ta&#x27;]</td><td>[&#x27;lem&#x27;, &#x27;emb&#x27;, &#x27;mba&#x27;, &#x27;bat&#x27;, &#x27;ata&#x27;]</td></tr></tbody></table></div>"
      ],
      "text/plain": [
       "shape: (9, 7)\n",
       "┌──────┬──────────────┬─────────────────┬────────────────┬────────────┬────────────────┬───────────┐\n",
       "│ id   ┆ id_provinces ┆ name            ┆ name_clean     ┆ unigram    ┆ bigram         ┆ trigram   │\n",
       "│ ---  ┆ ---          ┆ ---             ┆ ---            ┆ ---        ┆ ---            ┆ ---       │\n",
       "│ i64  ┆ i64          ┆ str             ┆ str            ┆ object     ┆ object         ┆ object    │\n",
       "╞══════╪══════════════╪═════════════════╪════════════════╪════════════╪════════════════╪═══════════╡\n",
       "│ 1207 ┆ 12           ┆ KABUPATEN       ┆ LABUHAN BATU   ┆ ['l', 'a', ┆ ['la', 'ab',   ┆ ['lab',   │\n",
       "│      ┆              ┆ LABUHAN BATU    ┆                ┆ 'b', 'u',  ┆ 'bu', 'uh',    ┆ 'abu',    │\n",
       "│      ┆              ┆                 ┆                ┆ 'h', 'a',… ┆ 'ha',…         ┆ 'buh',    │\n",
       "│      ┆              ┆                 ┆                ┆            ┆                ┆ 'uha', '… │\n",
       "│ 1219 ┆ 12           ┆ KABUPATEN BATU  ┆ BATU BARA      ┆ ['b', 'a', ┆ ['ba', 'at',   ┆ ['bat',   │\n",
       "│      ┆              ┆ BARA            ┆                ┆ 't', 'u',  ┆ 'tu', 'ub',    ┆ 'atu',    │\n",
       "│      ┆              ┆                 ┆                ┆ 'b', 'a',… ┆ 'ba',…         ┆ 'tub',    │\n",
       "│      ┆              ┆                 ┆                ┆            ┆                ┆ 'uba', '… │\n",
       "│ 1222 ┆ 12           ┆ KABUPATEN       ┆ LABUHAN BATU   ┆ ['l', 'a', ┆ ['la', 'ab',   ┆ ['lab',   │\n",
       "│      ┆              ┆ LABUHAN BATU    ┆ SELATAN        ┆ 'b', 'u',  ┆ 'bu', 'uh',    ┆ 'abu',    │\n",
       "│      ┆              ┆ SELATAN         ┆                ┆ 'h', 'a',… ┆ 'ha',…         ┆ 'buh',    │\n",
       "│      ┆              ┆                 ┆                ┆            ┆                ┆ 'uha', '… │\n",
       "│ 1223 ┆ 12           ┆ KABUPATEN       ┆ LABUHAN BATU   ┆ ['l', 'a', ┆ ['la', 'ab',   ┆ ['lab',   │\n",
       "│      ┆              ┆ LABUHAN BATU    ┆ UTARA          ┆ 'b', 'u',  ┆ 'bu', 'uh',    ┆ 'abu',    │\n",
       "│      ┆              ┆ UTARA           ┆                ┆ 'h', 'a',… ┆ 'ha',…         ┆ 'buh',    │\n",
       "│      ┆              ┆                 ┆                ┆            ┆                ┆ 'uha', '… │\n",
       "│ 1504 ┆ 15           ┆ KABUPATEN       ┆ BATANG HARI    ┆ ['b', 'a', ┆ ['ba', 'at',   ┆ ['bat',   │\n",
       "│      ┆              ┆ BATANG HARI     ┆                ┆ 't', 'a',  ┆ 'ta', 'an',    ┆ 'ata',    │\n",
       "│      ┆              ┆                 ┆                ┆ 'n', 'g',… ┆ 'ng',…         ┆ 'tan',    │\n",
       "│      ┆              ┆                 ┆                ┆            ┆                ┆ 'ang', '… │\n",
       "│ 2171 ┆ 21           ┆ KOTA BATAM      ┆ BATAM          ┆ ['b', 'a', ┆ ['ba', 'at',   ┆ ['bat',   │\n",
       "│      ┆              ┆                 ┆                ┆ 't', 'a',  ┆ 'ta', 'am']    ┆ 'ata',    │\n",
       "│      ┆              ┆                 ┆                ┆ 'm']       ┆                ┆ 'tam']    │\n",
       "│ 3325 ┆ 33           ┆ KABUPATEN       ┆ BATANG         ┆ ['b', 'a', ┆ ['ba', 'at',   ┆ ['bat',   │\n",
       "│      ┆              ┆ BATANG          ┆                ┆ 't', 'a',  ┆ 'ta', 'an',    ┆ 'ata',    │\n",
       "│      ┆              ┆                 ┆                ┆ 'n', 'g']  ┆ 'ng']          ┆ 'tan',    │\n",
       "│      ┆              ┆                 ┆                ┆            ┆                ┆ 'ang']    │\n",
       "│ 3579 ┆ 35           ┆ KOTA BATU       ┆ BATU           ┆ ['b', 'a', ┆ ['ba', 'at',   ┆ ['bat',   │\n",
       "│      ┆              ┆                 ┆                ┆ 't', 'u']  ┆ 'tu']          ┆ 'atu']    │\n",
       "│ 5308 ┆ 53           ┆ KABUPATEN       ┆ LEMBATA        ┆ ['l', 'e', ┆ ['le', 'em',   ┆ ['lem',   │\n",
       "│      ┆              ┆ LEMBATA         ┆                ┆ 'm', 'b',  ┆ 'mb', 'ba',    ┆ 'emb',    │\n",
       "│      ┆              ┆                 ┆                ┆ 'a', 't',… ┆ 'at',…         ┆ 'mba',    │\n",
       "│      ┆              ┆                 ┆                ┆            ┆                ┆ 'bat', '… │\n",
       "└──────┴──────────────┴─────────────────┴────────────────┴────────────┴────────────────┴───────────┘"
      ]
     },
     "execution_count": 319,
     "metadata": {},
     "output_type": "execute_result"
    }
   ],
   "source": [
    "cities_regencies.filter(pl.col('name').str.contains(r'BAT'))"
   ]
  },
  {
   "cell_type": "code",
   "execution_count": 342,
   "metadata": {},
   "outputs": [
    {
     "data": {
      "text/plain": [
       "<re.Match object; span=(3, 9), match='badung'>"
      ]
     },
     "execution_count": 342,
     "metadata": {},
     "output_type": "execute_result"
    }
   ],
   "source": [
    "re.search(r'badung', 'ho badung')"
   ]
  },
  {
   "cell_type": "code",
   "execution_count": 374,
   "metadata": {},
   "outputs": [],
   "source": [
    "def enhance_location(row, threshold = 0.8, all_text_threshold = 0.7):\n",
    "    if row is None or len(row) == 0:\n",
    "        return None\n",
    "\n",
    "    # SPECIAL CASE: BADUNG & BANDUNG\n",
    "    if re.search(r'(bandung\\s?barat)', row):\n",
    "        return row, [(1.1, 'bandung barat')]\n",
    "    if re.search(r'(bdg\\s?barat)', row):\n",
    "        return row, [(1.1, 'bdg barat')]\n",
    "    if re.search(r'bandung', row):\n",
    "        return row, [(1.1, 'bandung')]\n",
    "    if re.search(r'(bdg)', row):\n",
    "        return row, [(1.1, 'bdg')]\n",
    "    if re.search(r'badung', row):\n",
    "        return row, [(1.1, 'badung')]\n",
    "\n",
    "    # word by word\n",
    "    match = []\n",
    "    for loc_word in row.split(\" \"):\n",
    "        if len(loc_word) == 0:\n",
    "            continue\n",
    "        if loc_word[0] not in city_dictionary['full_text']:\n",
    "            continue\n",
    "        \n",
    "        for possible_loc in city_dictionary['full_text'][loc_word[0]]:\n",
    "            score = jaccard_similarity(possible_loc, loc_word)\n",
    "            if possible_loc in loc_word:\n",
    "                score += 0.01\n",
    "\n",
    "            if score >= threshold:\n",
    "                match.append((score,loc_word, 'wbw')) # change loc_word to possible_loc for full enhancement\n",
    "    # single\n",
    "    if row[0] in city_dictionary['full_text']:\n",
    "        for possible_loc in city_dictionary['full_text'][row[0]]:\n",
    "            score = jaccard_similarity(possible_loc, row)\n",
    "            if score >= all_text_threshold:\n",
    "                match.append((1.01*score, row ,'sin')) # change row to possible_loc for full enhancement\n",
    "\n",
    "    return row, sorted(match, key=lambda x: x[0], reverse=True)"
   ]
  },
  {
   "cell_type": "code",
   "execution_count": 375,
   "metadata": {},
   "outputs": [
    {
     "name": "stdout",
     "output_type": "stream",
     "text": [
      "None\n",
      "None\n",
      "('jakarta barat', [(1.01, 'jakarta barat', 'sin'), (0.7575000000000001, 'jakarta barat', 'sin')])\n",
      "('bekasi', [(1.01, 'bekasi', 'wbw'), (1.01, 'bekasi', 'wbw'), (1.01, 'bekasi', 'sin'), (1.01, 'bekasi', 'sin')])\n",
      "None\n",
      "('jakarta pusa', [(1.01, 'jakarta pusa', 'sin'), (0.7855555555555556, 'jakarta pusa', 'sin')])\n",
      "None\n",
      "None\n",
      "('sukabumi kab', [(1.01, 'sukabumi', 'wbw'), (1.01, 'sukabumi', 'wbw'), (0.88375, 'sukabumi kab', 'sin'), (0.88375, 'sukabumi kab', 'sin'), (0.707, 'sukabumi kab', 'sin')])\n",
      "('bebekasi', [(1.01, 'bebekasi', 'wbw'), (1.01, 'bebekasi', 'wbw'), (1.01, 'bebekasi', 'sin'), (1.01, 'bebekasi', 'sin')])\n",
      "CPU times: user 4.03 ms, sys: 0 ns, total: 4.03 ms\n",
      "Wall time: 2.79 ms\n"
     ]
    }
   ],
   "source": [
    "%%time\n",
    "for row in data_labeled['extracted_location'].sample(10):\n",
    "    print(enhance_location(row))"
   ]
  },
  {
   "cell_type": "code",
   "execution_count": 1,
   "metadata": {},
   "outputs": [
    {
     "ename": "NameError",
     "evalue": "name 'enhance_location' is not defined",
     "output_type": "error",
     "traceback": [
      "\u001b[0;31m---------------------------------------------------------------------------\u001b[0m",
      "\u001b[0;31mNameError\u001b[0m                                 Traceback (most recent call last)",
      "Cell \u001b[0;32mIn[1], line 1\u001b[0m\n\u001b[0;32m----> 1\u001b[0m \u001b[43menhance_location\u001b[49m(\u001b[38;5;124m\"\u001b[39m\u001b[38;5;124mjakarta slt\u001b[39m\u001b[38;5;124m\"\u001b[39m)\n",
      "\u001b[0;31mNameError\u001b[0m: name 'enhance_location' is not defined"
     ]
    }
   ],
   "source": [
    "enhance_location(\"jakarta slt\")"
   ]
  },
  {
   "cell_type": "code",
   "execution_count": 359,
   "metadata": {},
   "outputs": [],
   "source": [
    "def create_enhanced_location(row):\n",
    "    enhanced = enhance_location(row)\n",
    "\n",
    "    if len(enhanced[1]) == 0:\n",
    "        return None\n",
    "    if len(enhanced[1][0]) == 0:\n",
    "        return None\n",
    "    \n",
    "    return enhanced[1][0][1]"
   ]
  },
  {
   "cell_type": "code",
   "execution_count": 376,
   "metadata": {},
   "outputs": [
    {
     "name": "stdout",
     "output_type": "stream",
     "text": [
      "CPU times: user 41.5 s, sys: 94.5 ms, total: 41.6 s\n",
      "Wall time: 41.4 s\n"
     ]
    }
   ],
   "source": [
    "%%time\n",
    "data_labeled = data_labeled.with_columns(\n",
    "    pl.col('extracted_location').map_elements(lambda x: create_enhanced_location(x), return_dtype=pl.String).alias('cleaned_location')\n",
    ")"
   ]
  },
  {
   "cell_type": "code",
   "execution_count": 377,
   "metadata": {},
   "outputs": [
    {
     "data": {
      "text/html": [
       "<div><style>\n",
       ".dataframe > thead > tr,\n",
       ".dataframe > tbody > tr {\n",
       "  text-align: right;\n",
       "  white-space: pre-wrap;\n",
       "}\n",
       "</style>\n",
       "<small>shape: (492_245, 10)</small><table border=\"1\" class=\"dataframe\"><thead><tr><th>source</th><th>merchant_name</th><th>merchant_location</th><th>online_offline_flag</th><th>country_code</th><th>word_list</th><th>location_index</th><th>extracted_location</th><th>enhanced_location</th><th>cleaned_location</th></tr><tr><td>str</td><td>str</td><td>str</td><td>str</td><td>str</td><td>list[str]</td><td>list[i32]</td><td>str</td><td>str</td><td>str</td></tr></thead><tbody><tr><td>&quot;CREDIT_CARD&quot;</td><td>&quot;CHOP BUNTUT CAK YO SLEMAN (KAB…</td><td>null</td><td>null</td><td>&quot;ID&quot;</td><td>[&quot;chop&quot;, &quot;buntut&quot;, … &quot;kab&quot;]</td><td>[3, 4]</td><td>&quot;yo sleman&quot;</td><td>&quot;sleman&quot;</td><td>&quot;sleman&quot;</td></tr><tr><td>&quot;CREDIT_CARD&quot;</td><td>&quot;TBL* THE SEED LEVEL AMSTERDAM …</td><td>null</td><td>null</td><td>&quot;NL&quot;</td><td>[&quot;tbl&quot;, &quot;the&quot;, … &quot;amsterdam&quot;]</td><td>null</td><td>null</td><td>null</td><td>null</td></tr><tr><td>&quot;CREDIT_CARD&quot;</td><td>&quot;SILOAM CLINIC GRH RAYA TANGERA…</td><td>null</td><td>null</td><td>&quot;ID&quot;</td><td>[&quot;siloam&quot;, &quot;clinic&quot;, … &quot;slt&quot;]</td><td>[4, 4]</td><td>&quot;tangerang&quot;</td><td>&quot;tangerang&quot;</td><td>&quot;tangerang&quot;</td></tr><tr><td>&quot;CREDIT_CARD&quot;</td><td>&quot;SWALAYAN ZOOM MBL TANJUNG PINA…</td><td>null</td><td>null</td><td>&quot;ID&quot;</td><td>[&quot;swalayan&quot;, &quot;zoom&quot;, … &quot;pinan&quot;]</td><td>[3, 4]</td><td>&quot;tanjung pinan&quot;</td><td>&quot;tanjung pinang&quot;</td><td>&quot;tanjung pinan&quot;</td></tr><tr><td>&quot;CREDIT_CARD&quot;</td><td>&quot;PEDRO SUN PLAZA MEDAN MEDAN KO…</td><td>null</td><td>null</td><td>&quot;ID&quot;</td><td>[&quot;pedro&quot;, &quot;sun&quot;, … &quot;kot&quot;]</td><td>[3, 4]</td><td>&quot;medan medan&quot;</td><td>&quot;medan&quot;</td><td>&quot;medan&quot;</td></tr><tr><td>&hellip;</td><td>&hellip;</td><td>&hellip;</td><td>&hellip;</td><td>&hellip;</td><td>&hellip;</td><td>&hellip;</td><td>&hellip;</td><td>&hellip;</td><td>&hellip;</td></tr><tr><td>&quot;CREDIT_CARD&quot;</td><td>&quot;AUSSIE TOYS ONLINE PAKENHAM AU&quot;</td><td>null</td><td>null</td><td>&quot;AU&quot;</td><td>[&quot;aussie&quot;, &quot;toys&quot;, … &quot;pakenham&quot;]</td><td>null</td><td>null</td><td>null</td><td>null</td></tr><tr><td>&quot;CREDIT_CARD&quot;</td><td>&quot;TOKO EMAS GINBERS MEDAN KOT. I…</td><td>null</td><td>&quot;OFFLINE&quot;</td><td>&quot;ID&quot;</td><td>[&quot;toko&quot;, &quot;emas&quot;, … &quot;kot&quot;]</td><td>[3, 3]</td><td>&quot;medan&quot;</td><td>&quot;medan&quot;</td><td>&quot;medan&quot;</td></tr><tr><td>&quot;CREDIT_CARD&quot;</td><td>&quot;BINTANG SPORT SERANG (KOTA)ID&quot;</td><td>null</td><td>null</td><td>&quot;ID&quot;</td><td>[&quot;bintang&quot;, &quot;sport&quot;, … &quot;kota&quot;]</td><td>[2, 2]</td><td>&quot;serang&quot;</td><td>&quot;serang&quot;</td><td>&quot;serang&quot;</td></tr><tr><td>&quot;CREDIT_CARD&quot;</td><td>&quot;ACE HARDWARE MALL PI I JAKARTA…</td><td>null</td><td>null</td><td>&quot;ID&quot;</td><td>[&quot;ace&quot;, &quot;hardware&quot;, … &quot;jakarta&quot;]</td><td>[-1, -1]</td><td>null</td><td>null</td><td>null</td></tr><tr><td>&quot;CREDIT_CARD&quot;</td><td>&quot;IDM TJAJ LOMBOK TIMUR ID&quot;</td><td>null</td><td>&quot;OFFLINE&quot;</td><td>&quot;ID&quot;</td><td>[&quot;idm&quot;, &quot;tjaj&quot;, … &quot;timur&quot;]</td><td>[2, 3]</td><td>&quot;lombok timur&quot;</td><td>&quot;lombok timur&quot;</td><td>&quot;lombok timur&quot;</td></tr></tbody></table></div>"
      ],
      "text/plain": [
       "shape: (492_245, 10)\n",
       "┌───────────┬───────────┬───────────┬───────────┬───┬───────────┬───────────┬───────────┬──────────┐\n",
       "│ source    ┆ merchant_ ┆ merchant_ ┆ online_of ┆ … ┆ location_ ┆ extracted ┆ enhanced_ ┆ cleaned_ │\n",
       "│ ---       ┆ name      ┆ location  ┆ fline_fla ┆   ┆ index     ┆ _location ┆ location  ┆ location │\n",
       "│ str       ┆ ---       ┆ ---       ┆ g         ┆   ┆ ---       ┆ ---       ┆ ---       ┆ ---      │\n",
       "│           ┆ str       ┆ str       ┆ ---       ┆   ┆ list[i32] ┆ str       ┆ str       ┆ str      │\n",
       "│           ┆           ┆           ┆ str       ┆   ┆           ┆           ┆           ┆          │\n",
       "╞═══════════╪═══════════╪═══════════╪═══════════╪═══╪═══════════╪═══════════╪═══════════╪══════════╡\n",
       "│ CREDIT_CA ┆ CHOP      ┆ null      ┆ null      ┆ … ┆ [3, 4]    ┆ yo sleman ┆ sleman    ┆ sleman   │\n",
       "│ RD        ┆ BUNTUT    ┆           ┆           ┆   ┆           ┆           ┆           ┆          │\n",
       "│           ┆ CAK YO    ┆           ┆           ┆   ┆           ┆           ┆           ┆          │\n",
       "│           ┆ SLEMAN    ┆           ┆           ┆   ┆           ┆           ┆           ┆          │\n",
       "│           ┆ (KAB…     ┆           ┆           ┆   ┆           ┆           ┆           ┆          │\n",
       "│ CREDIT_CA ┆ TBL* THE  ┆ null      ┆ null      ┆ … ┆ null      ┆ null      ┆ null      ┆ null     │\n",
       "│ RD        ┆ SEED      ┆           ┆           ┆   ┆           ┆           ┆           ┆          │\n",
       "│           ┆ LEVEL     ┆           ┆           ┆   ┆           ┆           ┆           ┆          │\n",
       "│           ┆ AMSTERDAM ┆           ┆           ┆   ┆           ┆           ┆           ┆          │\n",
       "│           ┆ …         ┆           ┆           ┆   ┆           ┆           ┆           ┆          │\n",
       "│ CREDIT_CA ┆ SILOAM    ┆ null      ┆ null      ┆ … ┆ [4, 4]    ┆ tangerang ┆ tangerang ┆ tangeran │\n",
       "│ RD        ┆ CLINIC    ┆           ┆           ┆   ┆           ┆           ┆           ┆ g        │\n",
       "│           ┆ GRH RAYA  ┆           ┆           ┆   ┆           ┆           ┆           ┆          │\n",
       "│           ┆ TANGERA…  ┆           ┆           ┆   ┆           ┆           ┆           ┆          │\n",
       "│ CREDIT_CA ┆ SWALAYAN  ┆ null      ┆ null      ┆ … ┆ [3, 4]    ┆ tanjung   ┆ tanjung   ┆ tanjung  │\n",
       "│ RD        ┆ ZOOM MBL  ┆           ┆           ┆   ┆           ┆ pinan     ┆ pinang    ┆ pinan    │\n",
       "│           ┆ TANJUNG   ┆           ┆           ┆   ┆           ┆           ┆           ┆          │\n",
       "│           ┆ PINA…     ┆           ┆           ┆   ┆           ┆           ┆           ┆          │\n",
       "│ CREDIT_CA ┆ PEDRO SUN ┆ null      ┆ null      ┆ … ┆ [3, 4]    ┆ medan     ┆ medan     ┆ medan    │\n",
       "│ RD        ┆ PLAZA     ┆           ┆           ┆   ┆           ┆ medan     ┆           ┆          │\n",
       "│           ┆ MEDAN     ┆           ┆           ┆   ┆           ┆           ┆           ┆          │\n",
       "│           ┆ MEDAN KO… ┆           ┆           ┆   ┆           ┆           ┆           ┆          │\n",
       "│ …         ┆ …         ┆ …         ┆ …         ┆ … ┆ …         ┆ …         ┆ …         ┆ …        │\n",
       "│ CREDIT_CA ┆ AUSSIE    ┆ null      ┆ null      ┆ … ┆ null      ┆ null      ┆ null      ┆ null     │\n",
       "│ RD        ┆ TOYS      ┆           ┆           ┆   ┆           ┆           ┆           ┆          │\n",
       "│           ┆ ONLINE    ┆           ┆           ┆   ┆           ┆           ┆           ┆          │\n",
       "│           ┆ PAKENHAM  ┆           ┆           ┆   ┆           ┆           ┆           ┆          │\n",
       "│           ┆ AU        ┆           ┆           ┆   ┆           ┆           ┆           ┆          │\n",
       "│ CREDIT_CA ┆ TOKO EMAS ┆ null      ┆ OFFLINE   ┆ … ┆ [3, 3]    ┆ medan     ┆ medan     ┆ medan    │\n",
       "│ RD        ┆ GINBERS   ┆           ┆           ┆   ┆           ┆           ┆           ┆          │\n",
       "│           ┆ MEDAN     ┆           ┆           ┆   ┆           ┆           ┆           ┆          │\n",
       "│           ┆ KOT. I…   ┆           ┆           ┆   ┆           ┆           ┆           ┆          │\n",
       "│ CREDIT_CA ┆ BINTANG   ┆ null      ┆ null      ┆ … ┆ [2, 2]    ┆ serang    ┆ serang    ┆ serang   │\n",
       "│ RD        ┆ SPORT     ┆           ┆           ┆   ┆           ┆           ┆           ┆          │\n",
       "│           ┆ SERANG    ┆           ┆           ┆   ┆           ┆           ┆           ┆          │\n",
       "│           ┆ (KOTA)ID  ┆           ┆           ┆   ┆           ┆           ┆           ┆          │\n",
       "│ CREDIT_CA ┆ ACE       ┆ null      ┆ null      ┆ … ┆ [-1, -1]  ┆ null      ┆ null      ┆ null     │\n",
       "│ RD        ┆ HARDWARE  ┆           ┆           ┆   ┆           ┆           ┆           ┆          │\n",
       "│           ┆ MALL PI I ┆           ┆           ┆   ┆           ┆           ┆           ┆          │\n",
       "│           ┆ JAKARTA…  ┆           ┆           ┆   ┆           ┆           ┆           ┆          │\n",
       "│ CREDIT_CA ┆ IDM TJAJ  ┆ null      ┆ OFFLINE   ┆ … ┆ [2, 3]    ┆ lombok    ┆ lombok    ┆ lombok   │\n",
       "│ RD        ┆ LOMBOK    ┆           ┆           ┆   ┆           ┆ timur     ┆ timur     ┆ timur    │\n",
       "│           ┆ TIMUR ID  ┆           ┆           ┆   ┆           ┆           ┆           ┆          │\n",
       "└───────────┴───────────┴───────────┴───────────┴───┴───────────┴───────────┴───────────┴──────────┘"
      ]
     },
     "execution_count": 377,
     "metadata": {},
     "output_type": "execute_result"
    }
   ],
   "source": [
    "data_labeled"
   ]
  },
  {
   "cell_type": "code",
   "execution_count": 379,
   "metadata": {},
   "outputs": [],
   "source": [
    "data_labeled.filter(pl.col('extracted_location').is_not_null() & pl.col('enhanced_location').is_null()).write_json('failed_location_enhancement.json')"
   ]
  },
  {
   "cell_type": "code",
   "execution_count": 80,
   "metadata": {},
   "outputs": [
    {
     "data": {
      "text/plain": [
       "0.9"
      ]
     },
     "execution_count": 80,
     "metadata": {},
     "output_type": "execute_result"
    }
   ],
   "source": [
    "jaccard_similarity(\"JAKARTA SELAT\", \"JAKARTA SELATAN\")"
   ]
  },
  {
   "cell_type": "code",
   "execution_count": 51,
   "metadata": {},
   "outputs": [
    {
     "data": {
      "text/plain": [
       "['yogyakarta', 'yahukimo', 'yalimo']"
      ]
     },
     "execution_count": 51,
     "metadata": {},
     "output_type": "execute_result"
    }
   ],
   "source": [
    "city_dictionary['full_text']['y']"
   ]
  },
  {
   "cell_type": "code",
   "execution_count": 380,
   "metadata": {},
   "outputs": [
    {
     "data": {
      "text/html": [
       "<div><style>\n",
       ".dataframe > thead > tr,\n",
       ".dataframe > tbody > tr {\n",
       "  text-align: right;\n",
       "  white-space: pre-wrap;\n",
       "}\n",
       "</style>\n",
       "<small>shape: (492_245, 10)</small><table border=\"1\" class=\"dataframe\"><thead><tr><th>source</th><th>merchant_name</th><th>merchant_location</th><th>online_offline_flag</th><th>country_code</th><th>word_list</th><th>location_index</th><th>extracted_location</th><th>enhanced_location</th><th>cleaned_location</th></tr><tr><td>str</td><td>str</td><td>str</td><td>str</td><td>str</td><td>list[str]</td><td>list[i32]</td><td>str</td><td>str</td><td>str</td></tr></thead><tbody><tr><td>&quot;CREDIT_CARD&quot;</td><td>&quot;CHOP BUNTUT CAK YO SLEMAN (KAB…</td><td>null</td><td>null</td><td>&quot;ID&quot;</td><td>[&quot;chop&quot;, &quot;buntut&quot;, … &quot;kab&quot;]</td><td>[3, 4]</td><td>&quot;yo sleman&quot;</td><td>&quot;sleman&quot;</td><td>&quot;sleman&quot;</td></tr><tr><td>&quot;CREDIT_CARD&quot;</td><td>&quot;TBL* THE SEED LEVEL AMSTERDAM …</td><td>null</td><td>null</td><td>&quot;NL&quot;</td><td>[&quot;tbl&quot;, &quot;the&quot;, … &quot;amsterdam&quot;]</td><td>null</td><td>null</td><td>null</td><td>null</td></tr><tr><td>&quot;CREDIT_CARD&quot;</td><td>&quot;SILOAM CLINIC GRH RAYA TANGERA…</td><td>null</td><td>null</td><td>&quot;ID&quot;</td><td>[&quot;siloam&quot;, &quot;clinic&quot;, … &quot;slt&quot;]</td><td>[4, 4]</td><td>&quot;tangerang&quot;</td><td>&quot;tangerang&quot;</td><td>&quot;tangerang&quot;</td></tr><tr><td>&quot;CREDIT_CARD&quot;</td><td>&quot;SWALAYAN ZOOM MBL TANJUNG PINA…</td><td>null</td><td>null</td><td>&quot;ID&quot;</td><td>[&quot;swalayan&quot;, &quot;zoom&quot;, … &quot;pinan&quot;]</td><td>[3, 4]</td><td>&quot;tanjung pinan&quot;</td><td>&quot;tanjung pinang&quot;</td><td>&quot;tanjung pinan&quot;</td></tr><tr><td>&quot;CREDIT_CARD&quot;</td><td>&quot;PEDRO SUN PLAZA MEDAN MEDAN KO…</td><td>null</td><td>null</td><td>&quot;ID&quot;</td><td>[&quot;pedro&quot;, &quot;sun&quot;, … &quot;kot&quot;]</td><td>[3, 4]</td><td>&quot;medan medan&quot;</td><td>&quot;medan&quot;</td><td>&quot;medan&quot;</td></tr><tr><td>&hellip;</td><td>&hellip;</td><td>&hellip;</td><td>&hellip;</td><td>&hellip;</td><td>&hellip;</td><td>&hellip;</td><td>&hellip;</td><td>&hellip;</td><td>&hellip;</td></tr><tr><td>&quot;CREDIT_CARD&quot;</td><td>&quot;AUSSIE TOYS ONLINE PAKENHAM AU&quot;</td><td>null</td><td>null</td><td>&quot;AU&quot;</td><td>[&quot;aussie&quot;, &quot;toys&quot;, … &quot;pakenham&quot;]</td><td>null</td><td>null</td><td>null</td><td>null</td></tr><tr><td>&quot;CREDIT_CARD&quot;</td><td>&quot;TOKO EMAS GINBERS MEDAN KOT. I…</td><td>null</td><td>&quot;OFFLINE&quot;</td><td>&quot;ID&quot;</td><td>[&quot;toko&quot;, &quot;emas&quot;, … &quot;kot&quot;]</td><td>[3, 3]</td><td>&quot;medan&quot;</td><td>&quot;medan&quot;</td><td>&quot;medan&quot;</td></tr><tr><td>&quot;CREDIT_CARD&quot;</td><td>&quot;BINTANG SPORT SERANG (KOTA)ID&quot;</td><td>null</td><td>null</td><td>&quot;ID&quot;</td><td>[&quot;bintang&quot;, &quot;sport&quot;, … &quot;kota&quot;]</td><td>[2, 2]</td><td>&quot;serang&quot;</td><td>&quot;serang&quot;</td><td>&quot;serang&quot;</td></tr><tr><td>&quot;CREDIT_CARD&quot;</td><td>&quot;ACE HARDWARE MALL PI I JAKARTA…</td><td>null</td><td>null</td><td>&quot;ID&quot;</td><td>[&quot;ace&quot;, &quot;hardware&quot;, … &quot;jakarta&quot;]</td><td>[-1, -1]</td><td>null</td><td>null</td><td>null</td></tr><tr><td>&quot;CREDIT_CARD&quot;</td><td>&quot;IDM TJAJ LOMBOK TIMUR ID&quot;</td><td>null</td><td>&quot;OFFLINE&quot;</td><td>&quot;ID&quot;</td><td>[&quot;idm&quot;, &quot;tjaj&quot;, … &quot;timur&quot;]</td><td>[2, 3]</td><td>&quot;lombok timur&quot;</td><td>&quot;lombok timur&quot;</td><td>&quot;lombok timur&quot;</td></tr></tbody></table></div>"
      ],
      "text/plain": [
       "shape: (492_245, 10)\n",
       "┌───────────┬───────────┬───────────┬───────────┬───┬───────────┬───────────┬───────────┬──────────┐\n",
       "│ source    ┆ merchant_ ┆ merchant_ ┆ online_of ┆ … ┆ location_ ┆ extracted ┆ enhanced_ ┆ cleaned_ │\n",
       "│ ---       ┆ name      ┆ location  ┆ fline_fla ┆   ┆ index     ┆ _location ┆ location  ┆ location │\n",
       "│ str       ┆ ---       ┆ ---       ┆ g         ┆   ┆ ---       ┆ ---       ┆ ---       ┆ ---      │\n",
       "│           ┆ str       ┆ str       ┆ ---       ┆   ┆ list[i32] ┆ str       ┆ str       ┆ str      │\n",
       "│           ┆           ┆           ┆ str       ┆   ┆           ┆           ┆           ┆          │\n",
       "╞═══════════╪═══════════╪═══════════╪═══════════╪═══╪═══════════╪═══════════╪═══════════╪══════════╡\n",
       "│ CREDIT_CA ┆ CHOP      ┆ null      ┆ null      ┆ … ┆ [3, 4]    ┆ yo sleman ┆ sleman    ┆ sleman   │\n",
       "│ RD        ┆ BUNTUT    ┆           ┆           ┆   ┆           ┆           ┆           ┆          │\n",
       "│           ┆ CAK YO    ┆           ┆           ┆   ┆           ┆           ┆           ┆          │\n",
       "│           ┆ SLEMAN    ┆           ┆           ┆   ┆           ┆           ┆           ┆          │\n",
       "│           ┆ (KAB…     ┆           ┆           ┆   ┆           ┆           ┆           ┆          │\n",
       "│ CREDIT_CA ┆ TBL* THE  ┆ null      ┆ null      ┆ … ┆ null      ┆ null      ┆ null      ┆ null     │\n",
       "│ RD        ┆ SEED      ┆           ┆           ┆   ┆           ┆           ┆           ┆          │\n",
       "│           ┆ LEVEL     ┆           ┆           ┆   ┆           ┆           ┆           ┆          │\n",
       "│           ┆ AMSTERDAM ┆           ┆           ┆   ┆           ┆           ┆           ┆          │\n",
       "│           ┆ …         ┆           ┆           ┆   ┆           ┆           ┆           ┆          │\n",
       "│ CREDIT_CA ┆ SILOAM    ┆ null      ┆ null      ┆ … ┆ [4, 4]    ┆ tangerang ┆ tangerang ┆ tangeran │\n",
       "│ RD        ┆ CLINIC    ┆           ┆           ┆   ┆           ┆           ┆           ┆ g        │\n",
       "│           ┆ GRH RAYA  ┆           ┆           ┆   ┆           ┆           ┆           ┆          │\n",
       "│           ┆ TANGERA…  ┆           ┆           ┆   ┆           ┆           ┆           ┆          │\n",
       "│ CREDIT_CA ┆ SWALAYAN  ┆ null      ┆ null      ┆ … ┆ [3, 4]    ┆ tanjung   ┆ tanjung   ┆ tanjung  │\n",
       "│ RD        ┆ ZOOM MBL  ┆           ┆           ┆   ┆           ┆ pinan     ┆ pinang    ┆ pinan    │\n",
       "│           ┆ TANJUNG   ┆           ┆           ┆   ┆           ┆           ┆           ┆          │\n",
       "│           ┆ PINA…     ┆           ┆           ┆   ┆           ┆           ┆           ┆          │\n",
       "│ CREDIT_CA ┆ PEDRO SUN ┆ null      ┆ null      ┆ … ┆ [3, 4]    ┆ medan     ┆ medan     ┆ medan    │\n",
       "│ RD        ┆ PLAZA     ┆           ┆           ┆   ┆           ┆ medan     ┆           ┆          │\n",
       "│           ┆ MEDAN     ┆           ┆           ┆   ┆           ┆           ┆           ┆          │\n",
       "│           ┆ MEDAN KO… ┆           ┆           ┆   ┆           ┆           ┆           ┆          │\n",
       "│ …         ┆ …         ┆ …         ┆ …         ┆ … ┆ …         ┆ …         ┆ …         ┆ …        │\n",
       "│ CREDIT_CA ┆ AUSSIE    ┆ null      ┆ null      ┆ … ┆ null      ┆ null      ┆ null      ┆ null     │\n",
       "│ RD        ┆ TOYS      ┆           ┆           ┆   ┆           ┆           ┆           ┆          │\n",
       "│           ┆ ONLINE    ┆           ┆           ┆   ┆           ┆           ┆           ┆          │\n",
       "│           ┆ PAKENHAM  ┆           ┆           ┆   ┆           ┆           ┆           ┆          │\n",
       "│           ┆ AU        ┆           ┆           ┆   ┆           ┆           ┆           ┆          │\n",
       "│ CREDIT_CA ┆ TOKO EMAS ┆ null      ┆ OFFLINE   ┆ … ┆ [3, 3]    ┆ medan     ┆ medan     ┆ medan    │\n",
       "│ RD        ┆ GINBERS   ┆           ┆           ┆   ┆           ┆           ┆           ┆          │\n",
       "│           ┆ MEDAN     ┆           ┆           ┆   ┆           ┆           ┆           ┆          │\n",
       "│           ┆ KOT. I…   ┆           ┆           ┆   ┆           ┆           ┆           ┆          │\n",
       "│ CREDIT_CA ┆ BINTANG   ┆ null      ┆ null      ┆ … ┆ [2, 2]    ┆ serang    ┆ serang    ┆ serang   │\n",
       "│ RD        ┆ SPORT     ┆           ┆           ┆   ┆           ┆           ┆           ┆          │\n",
       "│           ┆ SERANG    ┆           ┆           ┆   ┆           ┆           ┆           ┆          │\n",
       "│           ┆ (KOTA)ID  ┆           ┆           ┆   ┆           ┆           ┆           ┆          │\n",
       "│ CREDIT_CA ┆ ACE       ┆ null      ┆ null      ┆ … ┆ [-1, -1]  ┆ null      ┆ null      ┆ null     │\n",
       "│ RD        ┆ HARDWARE  ┆           ┆           ┆   ┆           ┆           ┆           ┆          │\n",
       "│           ┆ MALL PI I ┆           ┆           ┆   ┆           ┆           ┆           ┆          │\n",
       "│           ┆ JAKARTA…  ┆           ┆           ┆   ┆           ┆           ┆           ┆          │\n",
       "│ CREDIT_CA ┆ IDM TJAJ  ┆ null      ┆ OFFLINE   ┆ … ┆ [2, 3]    ┆ lombok    ┆ lombok    ┆ lombok   │\n",
       "│ RD        ┆ LOMBOK    ┆           ┆           ┆   ┆           ┆ timur     ┆ timur     ┆ timur    │\n",
       "│           ┆ TIMUR ID  ┆           ┆           ┆   ┆           ┆           ┆           ┆          │\n",
       "└───────────┴───────────┴───────────┴───────────┴───┴───────────┴───────────┴───────────┴──────────┘"
      ]
     },
     "execution_count": 380,
     "metadata": {},
     "output_type": "execute_result"
    }
   ],
   "source": [
    "data_labeled"
   ]
  },
  {
   "cell_type": "markdown",
   "metadata": {},
   "source": [
    "# CREATE ENTITY INDEX FROM CLEANED MERCHANT NAME\n",
    "\n",
    "Description preprocessing (Training pipeline)\n",
    "\n",
    "1. Extract and remove last 2 characters (Country code)\n",
    "\n",
    "2. Remove non-alphanumeric\n",
    "\n",
    "3. Remove extra spaces (should be just 1 space)\n",
    "\n",
    "4. Enhance extracted location (completion & deletion)\n",
    "\n",
    "5. Put the enhanced location back to description\n",
    "\n",
    "6. Extract location starting & ending index\n",
    "\n",
    "DONE - Go to Training"
   ]
  },
  {
   "cell_type": "code",
   "execution_count": 448,
   "metadata": {},
   "outputs": [],
   "source": [
    "data_labeled_train = data_labeled[['merchant_name','country_code','enhanced_location','cleaned_location']]"
   ]
  },
  {
   "cell_type": "code",
   "execution_count": 313,
   "metadata": {},
   "outputs": [],
   "source": [
    "def clean_merchant_name(text):\n",
    "    remainder = text\n",
    "    # last two characters are country id\n",
    "    country_id = remainder[len(text)-2] + remainder[len(text)-1]\n",
    "    remainder = text[:len(text)-2].lower()\n",
    "\n",
    "    #return country_id, get_word_ngram(remainder.strip(),1)\n",
    "    return re.sub(r'[^a-zA-Z0-9\\s]','',remainder).strip()"
   ]
  },
  {
   "cell_type": "code",
   "execution_count": 450,
   "metadata": {},
   "outputs": [],
   "source": [
    "data_labeled_train = data_labeled_train.with_columns(\n",
    "    pl.col('merchant_name').map_elements(lambda x: clean_merchant_name(x), return_dtype=pl.String).alias('cleaned_merchant_name')\n",
    ")"
   ]
  },
  {
   "cell_type": "code",
   "execution_count": 451,
   "metadata": {},
   "outputs": [],
   "source": [
    "data_labeled_train = data_labeled_train[['merchant_name','cleaned_merchant_name','country_code','enhanced_location','cleaned_location']]"
   ]
  },
  {
   "cell_type": "code",
   "execution_count": 452,
   "metadata": {},
   "outputs": [
    {
     "data": {
      "text/html": [
       "<div><style>\n",
       ".dataframe > thead > tr,\n",
       ".dataframe > tbody > tr {\n",
       "  text-align: right;\n",
       "  white-space: pre-wrap;\n",
       "}\n",
       "</style>\n",
       "<small>shape: (492_245, 5)</small><table border=\"1\" class=\"dataframe\"><thead><tr><th>merchant_name</th><th>cleaned_merchant_name</th><th>country_code</th><th>enhanced_location</th><th>cleaned_location</th></tr><tr><td>str</td><td>str</td><td>str</td><td>str</td><td>str</td></tr></thead><tbody><tr><td>&quot;CHOP BUNTUT CAK YO SLEMAN (KAB…</td><td>&quot;chop buntut cak yo sleman kab&quot;</td><td>&quot;ID&quot;</td><td>&quot;sleman&quot;</td><td>&quot;sleman&quot;</td></tr><tr><td>&quot;TBL* THE SEED LEVEL AMSTERDAM …</td><td>&quot;tbl the seed level amsterdam&quot;</td><td>&quot;NL&quot;</td><td>null</td><td>null</td></tr><tr><td>&quot;SILOAM CLINIC GRH RAYA TANGERA…</td><td>&quot;siloam clinic grh raya tangera…</td><td>&quot;ID&quot;</td><td>&quot;tangerang&quot;</td><td>&quot;tangerang&quot;</td></tr><tr><td>&quot;SWALAYAN ZOOM MBL TANJUNG PINA…</td><td>&quot;swalayan zoom mbl tanjung pina…</td><td>&quot;ID&quot;</td><td>&quot;tanjung pinang&quot;</td><td>&quot;tanjung pinan&quot;</td></tr><tr><td>&quot;PEDRO SUN PLAZA MEDAN MEDAN KO…</td><td>&quot;pedro sun plaza medan medan ko…</td><td>&quot;ID&quot;</td><td>&quot;medan&quot;</td><td>&quot;medan&quot;</td></tr><tr><td>&hellip;</td><td>&hellip;</td><td>&hellip;</td><td>&hellip;</td><td>&hellip;</td></tr><tr><td>&quot;AUSSIE TOYS ONLINE PAKENHAM AU&quot;</td><td>&quot;aussie toys online pakenham&quot;</td><td>&quot;AU&quot;</td><td>null</td><td>null</td></tr><tr><td>&quot;TOKO EMAS GINBERS MEDAN KOT. I…</td><td>&quot;toko emas ginbers medan kot&quot;</td><td>&quot;ID&quot;</td><td>&quot;medan&quot;</td><td>&quot;medan&quot;</td></tr><tr><td>&quot;BINTANG SPORT SERANG (KOTA)ID&quot;</td><td>&quot;bintang sport serang kota&quot;</td><td>&quot;ID&quot;</td><td>&quot;serang&quot;</td><td>&quot;serang&quot;</td></tr><tr><td>&quot;ACE HARDWARE MALL PI I JAKARTA…</td><td>&quot;ace hardware mall pi i jakarta&quot;</td><td>&quot;ID&quot;</td><td>null</td><td>null</td></tr><tr><td>&quot;IDM TJAJ LOMBOK TIMUR ID&quot;</td><td>&quot;idm tjaj lombok timur&quot;</td><td>&quot;ID&quot;</td><td>&quot;lombok timur&quot;</td><td>&quot;lombok timur&quot;</td></tr></tbody></table></div>"
      ],
      "text/plain": [
       "shape: (492_245, 5)\n",
       "┌──────────────────────┬─────────────────────┬──────────────┬───────────────────┬──────────────────┐\n",
       "│ merchant_name        ┆ cleaned_merchant_na ┆ country_code ┆ enhanced_location ┆ cleaned_location │\n",
       "│ ---                  ┆ me                  ┆ ---          ┆ ---               ┆ ---              │\n",
       "│ str                  ┆ ---                 ┆ str          ┆ str               ┆ str              │\n",
       "│                      ┆ str                 ┆              ┆                   ┆                  │\n",
       "╞══════════════════════╪═════════════════════╪══════════════╪═══════════════════╪══════════════════╡\n",
       "│ CHOP BUNTUT CAK YO   ┆ chop buntut cak yo  ┆ ID           ┆ sleman            ┆ sleman           │\n",
       "│ SLEMAN (KAB…         ┆ sleman kab          ┆              ┆                   ┆                  │\n",
       "│ TBL* THE SEED LEVEL  ┆ tbl the seed level  ┆ NL           ┆ null              ┆ null             │\n",
       "│ AMSTERDAM …          ┆ amsterdam           ┆              ┆                   ┆                  │\n",
       "│ SILOAM CLINIC GRH    ┆ siloam clinic grh   ┆ ID           ┆ tangerang         ┆ tangerang        │\n",
       "│ RAYA TANGERA…        ┆ raya tangera…       ┆              ┆                   ┆                  │\n",
       "│ SWALAYAN ZOOM MBL    ┆ swalayan zoom mbl   ┆ ID           ┆ tanjung pinang    ┆ tanjung pinan    │\n",
       "│ TANJUNG PINA…        ┆ tanjung pina…       ┆              ┆                   ┆                  │\n",
       "│ PEDRO SUN PLAZA      ┆ pedro sun plaza     ┆ ID           ┆ medan             ┆ medan            │\n",
       "│ MEDAN MEDAN KO…      ┆ medan medan ko…     ┆              ┆                   ┆                  │\n",
       "│ …                    ┆ …                   ┆ …            ┆ …                 ┆ …                │\n",
       "│ AUSSIE TOYS ONLINE   ┆ aussie toys online  ┆ AU           ┆ null              ┆ null             │\n",
       "│ PAKENHAM AU          ┆ pakenham            ┆              ┆                   ┆                  │\n",
       "│ TOKO EMAS GINBERS    ┆ toko emas ginbers   ┆ ID           ┆ medan             ┆ medan            │\n",
       "│ MEDAN KOT. I…        ┆ medan kot           ┆              ┆                   ┆                  │\n",
       "│ BINTANG SPORT SERANG ┆ bintang sport       ┆ ID           ┆ serang            ┆ serang           │\n",
       "│ (KOTA)ID             ┆ serang kota         ┆              ┆                   ┆                  │\n",
       "│ ACE HARDWARE MALL PI ┆ ace hardware mall   ┆ ID           ┆ null              ┆ null             │\n",
       "│ I JAKARTA…           ┆ pi i jakarta        ┆              ┆                   ┆                  │\n",
       "│ IDM TJAJ LOMBOK      ┆ idm tjaj lombok     ┆ ID           ┆ lombok timur      ┆ lombok timur     │\n",
       "│ TIMUR ID             ┆ timur               ┆              ┆                   ┆                  │\n",
       "└──────────────────────┴─────────────────────┴──────────────┴───────────────────┴──────────────────┘"
      ]
     },
     "execution_count": 452,
     "metadata": {},
     "output_type": "execute_result"
    }
   ],
   "source": [
    "data_labeled_train"
   ]
  },
  {
   "cell_type": "code",
   "execution_count": 434,
   "metadata": {},
   "outputs": [],
   "source": [
    "def find_index(row):\n",
    "    if row['cleaned_location'] is None:\n",
    "        return None\n",
    "    \n",
    "    start = row['cleaned_merchant_name'].index(row['cleaned_location'])\n",
    "    end = start + len(row['cleaned_location'])\n",
    "    return [start,end]\n"
   ]
  },
  {
   "cell_type": "code",
   "execution_count": 453,
   "metadata": {},
   "outputs": [],
   "source": [
    "# find starting and ending index\n",
    "data_labeled_train = data_labeled_train.with_columns(\n",
    "    pl.struct([\"cleaned_merchant_name\",\"cleaned_location\"]).map_elements(lambda x: find_index(x), return_dtype = pl.List(pl.Int32)).alias('loc_entity_index')\n",
    ")"
   ]
  },
  {
   "cell_type": "code",
   "execution_count": 454,
   "metadata": {},
   "outputs": [
    {
     "data": {
      "text/html": [
       "<div><style>\n",
       ".dataframe > thead > tr,\n",
       ".dataframe > tbody > tr {\n",
       "  text-align: right;\n",
       "  white-space: pre-wrap;\n",
       "}\n",
       "</style>\n",
       "<small>shape: (492_245, 6)</small><table border=\"1\" class=\"dataframe\"><thead><tr><th>merchant_name</th><th>cleaned_merchant_name</th><th>country_code</th><th>enhanced_location</th><th>cleaned_location</th><th>loc_entity_index</th></tr><tr><td>str</td><td>str</td><td>str</td><td>str</td><td>str</td><td>list[i32]</td></tr></thead><tbody><tr><td>&quot;CHOP BUNTUT CAK YO SLEMAN (KAB…</td><td>&quot;chop buntut cak yo sleman kab&quot;</td><td>&quot;ID&quot;</td><td>&quot;sleman&quot;</td><td>&quot;sleman&quot;</td><td>[19, 25]</td></tr><tr><td>&quot;TBL* THE SEED LEVEL AMSTERDAM …</td><td>&quot;tbl the seed level amsterdam&quot;</td><td>&quot;NL&quot;</td><td>null</td><td>null</td><td>[]</td></tr><tr><td>&quot;SILOAM CLINIC GRH RAYA TANGERA…</td><td>&quot;siloam clinic grh raya tangera…</td><td>&quot;ID&quot;</td><td>&quot;tangerang&quot;</td><td>&quot;tangerang&quot;</td><td>[23, 32]</td></tr><tr><td>&quot;SWALAYAN ZOOM MBL TANJUNG PINA…</td><td>&quot;swalayan zoom mbl tanjung pina…</td><td>&quot;ID&quot;</td><td>&quot;tanjung pinang&quot;</td><td>&quot;tanjung pinan&quot;</td><td>[18, 31]</td></tr><tr><td>&quot;PEDRO SUN PLAZA MEDAN MEDAN KO…</td><td>&quot;pedro sun plaza medan medan ko…</td><td>&quot;ID&quot;</td><td>&quot;medan&quot;</td><td>&quot;medan&quot;</td><td>[16, 21]</td></tr><tr><td>&hellip;</td><td>&hellip;</td><td>&hellip;</td><td>&hellip;</td><td>&hellip;</td><td>&hellip;</td></tr><tr><td>&quot;AUSSIE TOYS ONLINE PAKENHAM AU&quot;</td><td>&quot;aussie toys online pakenham&quot;</td><td>&quot;AU&quot;</td><td>null</td><td>null</td><td>[]</td></tr><tr><td>&quot;TOKO EMAS GINBERS MEDAN KOT. I…</td><td>&quot;toko emas ginbers medan kot&quot;</td><td>&quot;ID&quot;</td><td>&quot;medan&quot;</td><td>&quot;medan&quot;</td><td>[18, 23]</td></tr><tr><td>&quot;BINTANG SPORT SERANG (KOTA)ID&quot;</td><td>&quot;bintang sport serang kota&quot;</td><td>&quot;ID&quot;</td><td>&quot;serang&quot;</td><td>&quot;serang&quot;</td><td>[14, 20]</td></tr><tr><td>&quot;ACE HARDWARE MALL PI I JAKARTA…</td><td>&quot;ace hardware mall pi i jakarta&quot;</td><td>&quot;ID&quot;</td><td>null</td><td>null</td><td>[]</td></tr><tr><td>&quot;IDM TJAJ LOMBOK TIMUR ID&quot;</td><td>&quot;idm tjaj lombok timur&quot;</td><td>&quot;ID&quot;</td><td>&quot;lombok timur&quot;</td><td>&quot;lombok timur&quot;</td><td>[9, 21]</td></tr></tbody></table></div>"
      ],
      "text/plain": [
       "shape: (492_245, 6)\n",
       "┌────────────────┬────────────────┬──────────────┬────────────────┬────────────────┬───────────────┐\n",
       "│ merchant_name  ┆ cleaned_mercha ┆ country_code ┆ enhanced_locat ┆ cleaned_locati ┆ loc_entity_in │\n",
       "│ ---            ┆ nt_name        ┆ ---          ┆ ion            ┆ on             ┆ dex           │\n",
       "│ str            ┆ ---            ┆ str          ┆ ---            ┆ ---            ┆ ---           │\n",
       "│                ┆ str            ┆              ┆ str            ┆ str            ┆ list[i32]     │\n",
       "╞════════════════╪════════════════╪══════════════╪════════════════╪════════════════╪═══════════════╡\n",
       "│ CHOP BUNTUT    ┆ chop buntut    ┆ ID           ┆ sleman         ┆ sleman         ┆ [19, 25]      │\n",
       "│ CAK YO SLEMAN  ┆ cak yo sleman  ┆              ┆                ┆                ┆               │\n",
       "│ (KAB…          ┆ kab            ┆              ┆                ┆                ┆               │\n",
       "│ TBL* THE SEED  ┆ tbl the seed   ┆ NL           ┆ null           ┆ null           ┆ []            │\n",
       "│ LEVEL          ┆ level          ┆              ┆                ┆                ┆               │\n",
       "│ AMSTERDAM …    ┆ amsterdam      ┆              ┆                ┆                ┆               │\n",
       "│ SILOAM CLINIC  ┆ siloam clinic  ┆ ID           ┆ tangerang      ┆ tangerang      ┆ [23, 32]      │\n",
       "│ GRH RAYA       ┆ grh raya       ┆              ┆                ┆                ┆               │\n",
       "│ TANGERA…       ┆ tangera…       ┆              ┆                ┆                ┆               │\n",
       "│ SWALAYAN ZOOM  ┆ swalayan zoom  ┆ ID           ┆ tanjung pinang ┆ tanjung pinan  ┆ [18, 31]      │\n",
       "│ MBL TANJUNG    ┆ mbl tanjung    ┆              ┆                ┆                ┆               │\n",
       "│ PINA…          ┆ pina…          ┆              ┆                ┆                ┆               │\n",
       "│ PEDRO SUN      ┆ pedro sun      ┆ ID           ┆ medan          ┆ medan          ┆ [16, 21]      │\n",
       "│ PLAZA MEDAN    ┆ plaza medan    ┆              ┆                ┆                ┆               │\n",
       "│ MEDAN KO…      ┆ medan ko…      ┆              ┆                ┆                ┆               │\n",
       "│ …              ┆ …              ┆ …            ┆ …              ┆ …              ┆ …             │\n",
       "│ AUSSIE TOYS    ┆ aussie toys    ┆ AU           ┆ null           ┆ null           ┆ []            │\n",
       "│ ONLINE         ┆ online         ┆              ┆                ┆                ┆               │\n",
       "│ PAKENHAM AU    ┆ pakenham       ┆              ┆                ┆                ┆               │\n",
       "│ TOKO EMAS      ┆ toko emas      ┆ ID           ┆ medan          ┆ medan          ┆ [18, 23]      │\n",
       "│ GINBERS MEDAN  ┆ ginbers medan  ┆              ┆                ┆                ┆               │\n",
       "│ KOT. I…        ┆ kot            ┆              ┆                ┆                ┆               │\n",
       "│ BINTANG SPORT  ┆ bintang sport  ┆ ID           ┆ serang         ┆ serang         ┆ [14, 20]      │\n",
       "│ SERANG         ┆ serang kota    ┆              ┆                ┆                ┆               │\n",
       "│ (KOTA)ID       ┆                ┆              ┆                ┆                ┆               │\n",
       "│ ACE HARDWARE   ┆ ace hardware   ┆ ID           ┆ null           ┆ null           ┆ []            │\n",
       "│ MALL PI I      ┆ mall pi i      ┆              ┆                ┆                ┆               │\n",
       "│ JAKARTA…       ┆ jakarta        ┆              ┆                ┆                ┆               │\n",
       "│ IDM TJAJ       ┆ idm tjaj       ┆ ID           ┆ lombok timur   ┆ lombok timur   ┆ [9, 21]       │\n",
       "│ LOMBOK TIMUR   ┆ lombok timur   ┆              ┆                ┆                ┆               │\n",
       "│ ID             ┆                ┆              ┆                ┆                ┆               │\n",
       "└────────────────┴────────────────┴──────────────┴────────────────┴────────────────┴───────────────┘"
      ]
     },
     "execution_count": 454,
     "metadata": {},
     "output_type": "execute_result"
    }
   ],
   "source": [
    "data_labeled_train"
   ]
  },
  {
   "cell_type": "code",
   "execution_count": 459,
   "metadata": {},
   "outputs": [],
   "source": [
    "def add_flag_column(data, condition, flag_column_name, flag_value=None):\n",
    "    # Create a dictionary with the column name as key and the when-then-otherwise expression as value\n",
    "    column_expr = {\n",
    "        flag_column_name: pl.when((pl.col('country_code') == 'ID') & pl.col('enhanced_location').is_null() & condition)\n",
    "                            .then(pl.lit(flag_value))\n",
    "                            .otherwise(flag_column_name)\n",
    "    }\n",
    "    \n",
    "    # Add the column to the DataFrame\n",
    "    return data.with_columns(**column_expr)"
   ]
  },
  {
   "cell_type": "code",
   "execution_count": null,
   "metadata": {},
   "outputs": [],
   "source": [
    "data_labeled_train.filter((pl.col('country_code') == 'ID') & pl.col('enhanced_location').is_null()).write_csv(\"unextracted_location.csv\")"
   ]
  },
  {
   "cell_type": "code",
   "execution_count": 546,
   "metadata": {},
   "outputs": [
    {
     "data": {
      "text/html": [
       "<div><style>\n",
       ".dataframe > thead > tr,\n",
       ".dataframe > tbody > tr {\n",
       "  text-align: right;\n",
       "  white-space: pre-wrap;\n",
       "}\n",
       "</style>\n",
       "<small>shape: (492_245, 6)</small><table border=\"1\" class=\"dataframe\"><thead><tr><th>merchant_name</th><th>cleaned_merchant_name</th><th>country_code</th><th>enhanced_location</th><th>cleaned_location</th><th>loc_entity_index</th></tr><tr><td>str</td><td>str</td><td>str</td><td>str</td><td>str</td><td>list[i32]</td></tr></thead><tbody><tr><td>&quot;CHOP BUNTUT CAK YO SLEMAN (KAB…</td><td>&quot;chop buntut cak yo sleman kab&quot;</td><td>&quot;ID&quot;</td><td>&quot;sleman&quot;</td><td>&quot;sleman&quot;</td><td>[19, 25]</td></tr><tr><td>&quot;TBL* THE SEED LEVEL AMSTERDAM …</td><td>&quot;tbl the seed level amsterdam&quot;</td><td>&quot;NL&quot;</td><td>null</td><td>null</td><td>[]</td></tr><tr><td>&quot;SILOAM CLINIC GRH RAYA TANGERA…</td><td>&quot;siloam clinic grh raya tangera…</td><td>&quot;ID&quot;</td><td>&quot;tangerang&quot;</td><td>&quot;tangerang&quot;</td><td>[23, 32]</td></tr><tr><td>&quot;SWALAYAN ZOOM MBL TANJUNG PINA…</td><td>&quot;swalayan zoom mbl tanjung pina…</td><td>&quot;ID&quot;</td><td>&quot;tanjung pinang&quot;</td><td>&quot;tanjung pinan&quot;</td><td>[18, 31]</td></tr><tr><td>&quot;PEDRO SUN PLAZA MEDAN MEDAN KO…</td><td>&quot;pedro sun plaza medan medan ko…</td><td>&quot;ID&quot;</td><td>&quot;medan&quot;</td><td>&quot;medan&quot;</td><td>[16, 21]</td></tr><tr><td>&hellip;</td><td>&hellip;</td><td>&hellip;</td><td>&hellip;</td><td>&hellip;</td><td>&hellip;</td></tr><tr><td>&quot;AUSSIE TOYS ONLINE PAKENHAM AU&quot;</td><td>&quot;aussie toys online pakenham&quot;</td><td>&quot;AU&quot;</td><td>null</td><td>null</td><td>[]</td></tr><tr><td>&quot;TOKO EMAS GINBERS MEDAN KOT. I…</td><td>&quot;toko emas ginbers medan kot&quot;</td><td>&quot;ID&quot;</td><td>&quot;medan&quot;</td><td>&quot;medan&quot;</td><td>[18, 23]</td></tr><tr><td>&quot;BINTANG SPORT SERANG (KOTA)ID&quot;</td><td>&quot;bintang sport serang kota&quot;</td><td>&quot;ID&quot;</td><td>&quot;serang&quot;</td><td>&quot;serang&quot;</td><td>[14, 20]</td></tr><tr><td>&quot;ACE HARDWARE MALL PI I JAKARTA…</td><td>&quot;ace hardware mall pi i jakarta&quot;</td><td>&quot;ID&quot;</td><td>null</td><td>&quot;jakarta&quot;</td><td>[23, 30]</td></tr><tr><td>&quot;IDM TJAJ LOMBOK TIMUR ID&quot;</td><td>&quot;idm tjaj lombok timur&quot;</td><td>&quot;ID&quot;</td><td>&quot;lombok timur&quot;</td><td>&quot;lombok timur&quot;</td><td>[9, 21]</td></tr></tbody></table></div>"
      ],
      "text/plain": [
       "shape: (492_245, 6)\n",
       "┌────────────────┬────────────────┬──────────────┬────────────────┬────────────────┬───────────────┐\n",
       "│ merchant_name  ┆ cleaned_mercha ┆ country_code ┆ enhanced_locat ┆ cleaned_locati ┆ loc_entity_in │\n",
       "│ ---            ┆ nt_name        ┆ ---          ┆ ion            ┆ on             ┆ dex           │\n",
       "│ str            ┆ ---            ┆ str          ┆ ---            ┆ ---            ┆ ---           │\n",
       "│                ┆ str            ┆              ┆ str            ┆ str            ┆ list[i32]     │\n",
       "╞════════════════╪════════════════╪══════════════╪════════════════╪════════════════╪═══════════════╡\n",
       "│ CHOP BUNTUT    ┆ chop buntut    ┆ ID           ┆ sleman         ┆ sleman         ┆ [19, 25]      │\n",
       "│ CAK YO SLEMAN  ┆ cak yo sleman  ┆              ┆                ┆                ┆               │\n",
       "│ (KAB…          ┆ kab            ┆              ┆                ┆                ┆               │\n",
       "│ TBL* THE SEED  ┆ tbl the seed   ┆ NL           ┆ null           ┆ null           ┆ []            │\n",
       "│ LEVEL          ┆ level          ┆              ┆                ┆                ┆               │\n",
       "│ AMSTERDAM …    ┆ amsterdam      ┆              ┆                ┆                ┆               │\n",
       "│ SILOAM CLINIC  ┆ siloam clinic  ┆ ID           ┆ tangerang      ┆ tangerang      ┆ [23, 32]      │\n",
       "│ GRH RAYA       ┆ grh raya       ┆              ┆                ┆                ┆               │\n",
       "│ TANGERA…       ┆ tangera…       ┆              ┆                ┆                ┆               │\n",
       "│ SWALAYAN ZOOM  ┆ swalayan zoom  ┆ ID           ┆ tanjung pinang ┆ tanjung pinan  ┆ [18, 31]      │\n",
       "│ MBL TANJUNG    ┆ mbl tanjung    ┆              ┆                ┆                ┆               │\n",
       "│ PINA…          ┆ pina…          ┆              ┆                ┆                ┆               │\n",
       "│ PEDRO SUN      ┆ pedro sun      ┆ ID           ┆ medan          ┆ medan          ┆ [16, 21]      │\n",
       "│ PLAZA MEDAN    ┆ plaza medan    ┆              ┆                ┆                ┆               │\n",
       "│ MEDAN KO…      ┆ medan ko…      ┆              ┆                ┆                ┆               │\n",
       "│ …              ┆ …              ┆ …            ┆ …              ┆ …              ┆ …             │\n",
       "│ AUSSIE TOYS    ┆ aussie toys    ┆ AU           ┆ null           ┆ null           ┆ []            │\n",
       "│ ONLINE         ┆ online         ┆              ┆                ┆                ┆               │\n",
       "│ PAKENHAM AU    ┆ pakenham       ┆              ┆                ┆                ┆               │\n",
       "│ TOKO EMAS      ┆ toko emas      ┆ ID           ┆ medan          ┆ medan          ┆ [18, 23]      │\n",
       "│ GINBERS MEDAN  ┆ ginbers medan  ┆              ┆                ┆                ┆               │\n",
       "│ KOT. I…        ┆ kot            ┆              ┆                ┆                ┆               │\n",
       "│ BINTANG SPORT  ┆ bintang sport  ┆ ID           ┆ serang         ┆ serang         ┆ [14, 20]      │\n",
       "│ SERANG         ┆ serang kota    ┆              ┆                ┆                ┆               │\n",
       "│ (KOTA)ID       ┆                ┆              ┆                ┆                ┆               │\n",
       "│ ACE HARDWARE   ┆ ace hardware   ┆ ID           ┆ null           ┆ jakarta        ┆ [23, 30]      │\n",
       "│ MALL PI I      ┆ mall pi i      ┆              ┆                ┆                ┆               │\n",
       "│ JAKARTA…       ┆ jakarta        ┆              ┆                ┆                ┆               │\n",
       "│ IDM TJAJ       ┆ idm tjaj       ┆ ID           ┆ lombok timur   ┆ lombok timur   ┆ [9, 21]       │\n",
       "│ LOMBOK TIMUR   ┆ lombok timur   ┆              ┆                ┆                ┆               │\n",
       "│ ID             ┆                ┆              ┆                ┆                ┆               │\n",
       "└────────────────┴────────────────┴──────────────┴────────────────┴────────────────┴───────────────┘"
      ]
     },
     "execution_count": 546,
     "metadata": {},
     "output_type": "execute_result"
    }
   ],
   "source": [
    "data_labeled_train"
   ]
  },
  {
   "cell_type": "code",
   "execution_count": 516,
   "metadata": {},
   "outputs": [],
   "source": [
    "# extract location with regex\n",
    "flags = [\n",
    "    ((pl.col(\"cleaned_merchant_name\").str.contains(\"jakarta slt\")),\"jakarta slt\"),\n",
    "    ((pl.col(\"cleaned_merchant_name\").str.contains(\"jakarta selat\")),\"jakarta selat\"),\n",
    "    ((pl.col(\"cleaned_merchant_name\").str.contains(\"jakarta selatan\")),\"jakarta selatan\"),\n",
    "    ((pl.col(\"cleaned_merchant_name\").str.contains(\"jaksel\")),\"jaksel\"),\n",
    "    ((pl.col(\"cleaned_merchant_name\").str.contains(\"jakarta pusat\")),\"jakarta pusat\"),\n",
    "    ((pl.col(\"cleaned_merchant_name\").str.contains(\"jakpus\")),\"jakpus\"),\n",
    "    ((pl.col(\"cleaned_merchant_name\").str.contains(\"jakarta barat\")),\"jakarta barat\"),\n",
    "    ((pl.col(\"cleaned_merchant_name\").str.contains(\"jakbar\")),\"jakbar\"),\n",
    "    ((pl.col(\"cleaned_merchant_name\").str.contains(\"jakarta utara\")),\"jakarta utara\"),\n",
    "    ((pl.col(\"cleaned_merchant_name\").str.contains(\"jakut\")),\"jakut\"),\n",
    "    ((pl.col(\"cleaned_merchant_name\").str.contains(\"jakarta timur\")),\"jakarta timur\"),\n",
    "    ((pl.col(\"cleaned_merchant_name\").str.contains(\"jaktim\")),\"jaktim\"),\n",
    "    ((pl.col(\"cleaned_merchant_name\").str.contains(\"makassar\")),\"makassar\"),\n",
    "    ((pl.col(\"cleaned_merchant_name\").str.contains(\"bekasi\")),\"bekasi\"),\n",
    "    ((pl.col(\"cleaned_merchant_name\").str.contains(\"bogor\")),\"bogor\"),\n",
    "    ((pl.col(\"cleaned_merchant_name\").str.contains(\"surabaya\")),\"surabaya\"),\n",
    "    ((pl.col(\"cleaned_merchant_name\").str.contains(\"medan\")),\"medan\"),\n",
    "    ((pl.col(\"cleaned_merchant_name\").str.contains(\"muara bungo\")),\"muara bungo\"),\n",
    "    ((pl.col(\"cleaned_merchant_name\").str.contains(\"sumbawabesar\")),\"sumbawabesar\"),\n",
    "    ((pl.col(\"cleaned_merchant_name\").str.contains(\"limboto\")),\"limboto\"),\n",
    "    ((pl.col(\"cleaned_merchant_name\").str.contains(\"manado\")),\"manado\"),\n",
    "    ((pl.col(\"cleaned_merchant_name\").str.contains(\"subang\")),\"subang\"),\n",
    "    ((pl.col(\"cleaned_merchant_name\").str.contains(\"lombok t\")),\"lombok t\"),\n",
    "    ((pl.col(\"cleaned_merchant_name\").str.contains(\"cimahi\")),\"cimahi\"),\n",
    "    ((pl.col(\"cleaned_merchant_name\").str.contains(\"bdg barat\")),\"bdg barat\"),\n",
    "    ((pl.col(\"cleaned_merchant_name\").str.contains(\"bandung barat\")),\"bandung barat\"),\n",
    "    ((pl.col(\"cleaned_merchant_name\").str.contains(\"bandungbarat\")),\"bandungbarat\"),\n",
    "    ((pl.col(\"cleaned_merchant_name\").str.contains(\"majalengka\")),\"majalengka\"),\n",
    "    ((pl.col(\"cleaned_merchant_name\").str.contains(\"majaleng\")),\"majaleng\"),\n",
    "    ((pl.col(\"cleaned_merchant_name\").str.contains(\"rantauprapat\")),\"rantauprapat\"),\n",
    "    ((pl.col(\"cleaned_merchant_name\").str.contains(\"majaleng\")),\"majaleng\"),\n",
    "    ((pl.col(\"cleaned_merchant_name\").str.contains(\"banyuwangi\")),\"banyuwangi\"),\n",
    "    ((pl.col(\"cleaned_merchant_name\").str.contains(\"bdr lampung\")),\"bdr lampung\"),\n",
    "    ((pl.col(\"cleaned_merchant_name\").str.contains(\"bandar lampung\")),\"bandar lampung\"),\n",
    "    ((pl.col(\"cleaned_merchant_name\").str.contains(\"jakarta$\")),\"jakarta\"),\n",
    "    ((pl.col(\"cleaned_merchant_name\").str.contains(\"tangerang sel\")),\"tangerang sel\"),\n",
    "    ((pl.col(\"cleaned_merchant_name\").str.contains(\"tangerang slt\")),\"tangerang slt\"),\n",
    "    ((pl.col(\"cleaned_merchant_name\").str.contains(\"tangerang ka\")),\"tangerang ka\"),\n",
    "    ((pl.col(\"cleaned_merchant_name\").str.contains(\"tangerang selatan\")),\"tangerang selatan\"),\n",
    "    ((pl.col(\"cleaned_merchant_name\").str.contains(\"tjg pinang\")),\"tjg pinang\"),\n",
    "    ((pl.col(\"cleaned_merchant_name\").str.contains(\"semarang\")),\"semarang\"),\n",
    "    ((pl.col(\"cleaned_merchant_name\").str.contains(\"depok\")),\"depok\"),\n",
    "    ((pl.col(\"cleaned_merchant_name\").str.contains(\"bandung$\")),\"bandung\"),\n",
    "    ((pl.col(\"cleaned_merchant_name\").str.contains(\"tangerang$\")),\"tangerang\"),\n",
    "    ((pl.col(\"cleaned_merchant_name\").str.contains(\"denpasar\")),\"denpasar\"),\n",
    "    ((pl.col(\"cleaned_merchant_name\").str.contains(\"karawang\")),\"karawang\"),\n",
    "    ((pl.col(\"cleaned_merchant_name\").str.contains(\"bandung kab\")),\"bandung kab\"),\n",
    "]"
   ]
  },
  {
   "cell_type": "code",
   "execution_count": 517,
   "metadata": {},
   "outputs": [],
   "source": [
    "for flag in flags:\n",
    "    data_labeled_train = add_flag_column(data_labeled_train, flag[0], \"cleaned_location\", flag[1])"
   ]
  },
  {
   "cell_type": "code",
   "execution_count": 518,
   "metadata": {},
   "outputs": [
    {
     "data": {
      "text/html": [
       "<div><style>\n",
       ".dataframe > thead > tr,\n",
       ".dataframe > tbody > tr {\n",
       "  text-align: right;\n",
       "  white-space: pre-wrap;\n",
       "}\n",
       "</style>\n",
       "<small>shape: (24_709, 6)</small><table border=\"1\" class=\"dataframe\"><thead><tr><th>merchant_name</th><th>cleaned_merchant_name</th><th>country_code</th><th>enhanced_location</th><th>cleaned_location</th><th>loc_entity_index</th></tr><tr><td>str</td><td>str</td><td>str</td><td>str</td><td>str</td><td>list[i32]</td></tr></thead><tbody><tr><td>&quot;MSIGLIF-REECURRING 37202173558…</td><td>&quot;msiglifreecurring 372021735580…</td><td>&quot;ID&quot;</td><td>null</td><td>null</td><td>[]</td></tr><tr><td>&quot;SPBU 7490616 PANGKEP-H PANGKAJ…</td><td>&quot;spbu 7490616 pangkeph pangkaje…</td><td>&quot;ID&quot;</td><td>null</td><td>null</td><td>[]</td></tr><tr><td>&quot;IDM TRRH-RAYA SERDANG KRASERAN…</td><td>&quot;idm trrhraya serdang kraserang&quot;</td><td>&quot;ID&quot;</td><td>null</td><td>null</td><td>[]</td></tr><tr><td>&quot;ALFAMART AN 2AH2 BEGADUNGKOTA …</td><td>&quot;alfamart an 2ah2 begadungkota …</td><td>&quot;ID&quot;</td><td>null</td><td>null</td><td>[]</td></tr><tr><td>&quot;TUKAR TAMBAH BENCOOLEN MABENGK…</td><td>&quot;tukar tambah bencoolen mabengk…</td><td>&quot;ID&quot;</td><td>null</td><td>null</td><td>[]</td></tr><tr><td>&hellip;</td><td>&hellip;</td><td>&hellip;</td><td>&hellip;</td><td>&hellip;</td><td>&hellip;</td></tr><tr><td>&quot;AIRASIA_QZ R379PB INDONESIA ID&quot;</td><td>&quot;airasiaqz r379pb indonesia&quot;</td><td>&quot;ID&quot;</td><td>null</td><td>null</td><td>[]</td></tr><tr><td>&quot;BSI SBILL TELKOMSEL 0811805228…</td><td>&quot;bsi sbill telkomsel 0811805228…</td><td>&quot;ID&quot;</td><td>null</td><td>null</td><td>[]</td></tr><tr><td>&quot;5148 SH EG EX BP PARIS VABANDU…</td><td>&quot;5148 sh eg ex bp paris vabandu…</td><td>&quot;ID&quot;</td><td>null</td><td>null</td><td>[]</td></tr><tr><td>&quot;SAGA FRESH CIGOMBONG. MBLJAYAP…</td><td>&quot;saga fresh cigombong mbljayapu…</td><td>&quot;ID&quot;</td><td>null</td><td>null</td><td>[]</td></tr><tr><td>&quot;IDM FFV0-RUKO LILY - WONOSUKOH…</td><td>&quot;idm ffv0ruko lily&nbsp;&nbsp;wonosukohar…</td><td>&quot;ID&quot;</td><td>null</td><td>null</td><td>[]</td></tr></tbody></table></div>"
      ],
      "text/plain": [
       "shape: (24_709, 6)\n",
       "┌────────────────┬────────────────┬──────────────┬────────────────┬────────────────┬───────────────┐\n",
       "│ merchant_name  ┆ cleaned_mercha ┆ country_code ┆ enhanced_locat ┆ cleaned_locati ┆ loc_entity_in │\n",
       "│ ---            ┆ nt_name        ┆ ---          ┆ ion            ┆ on             ┆ dex           │\n",
       "│ str            ┆ ---            ┆ str          ┆ ---            ┆ ---            ┆ ---           │\n",
       "│                ┆ str            ┆              ┆ str            ┆ str            ┆ list[i32]     │\n",
       "╞════════════════╪════════════════╪══════════════╪════════════════╪════════════════╪═══════════════╡\n",
       "│ MSIGLIF-REECUR ┆ msiglifreecurr ┆ ID           ┆ null           ┆ null           ┆ []            │\n",
       "│ RING           ┆ ing            ┆              ┆                ┆                ┆               │\n",
       "│ 37202173558…   ┆ 372021735580…  ┆              ┆                ┆                ┆               │\n",
       "│ SPBU 7490616   ┆ spbu 7490616   ┆ ID           ┆ null           ┆ null           ┆ []            │\n",
       "│ PANGKEP-H      ┆ pangkeph       ┆              ┆                ┆                ┆               │\n",
       "│ PANGKAJ…       ┆ pangkaje…      ┆              ┆                ┆                ┆               │\n",
       "│ IDM TRRH-RAYA  ┆ idm trrhraya   ┆ ID           ┆ null           ┆ null           ┆ []            │\n",
       "│ SERDANG        ┆ serdang        ┆              ┆                ┆                ┆               │\n",
       "│ KRASERAN…      ┆ kraserang      ┆              ┆                ┆                ┆               │\n",
       "│ ALFAMART AN    ┆ alfamart an    ┆ ID           ┆ null           ┆ null           ┆ []            │\n",
       "│ 2AH2           ┆ 2ah2           ┆              ┆                ┆                ┆               │\n",
       "│ BEGADUNGKOTA … ┆ begadungkota … ┆              ┆                ┆                ┆               │\n",
       "│ TUKAR TAMBAH   ┆ tukar tambah   ┆ ID           ┆ null           ┆ null           ┆ []            │\n",
       "│ BENCOOLEN      ┆ bencoolen      ┆              ┆                ┆                ┆               │\n",
       "│ MABENGK…       ┆ mabengk…       ┆              ┆                ┆                ┆               │\n",
       "│ …              ┆ …              ┆ …            ┆ …              ┆ …              ┆ …             │\n",
       "│ AIRASIA_QZ     ┆ airasiaqz      ┆ ID           ┆ null           ┆ null           ┆ []            │\n",
       "│ R379PB         ┆ r379pb         ┆              ┆                ┆                ┆               │\n",
       "│ INDONESIA ID   ┆ indonesia      ┆              ┆                ┆                ┆               │\n",
       "│ BSI SBILL      ┆ bsi sbill      ┆ ID           ┆ null           ┆ null           ┆ []            │\n",
       "│ TELKOMSEL      ┆ telkomsel      ┆              ┆                ┆                ┆               │\n",
       "│ 0811805228…    ┆ 0811805228…    ┆              ┆                ┆                ┆               │\n",
       "│ 5148 SH EG EX  ┆ 5148 sh eg ex  ┆ ID           ┆ null           ┆ null           ┆ []            │\n",
       "│ BP PARIS       ┆ bp paris       ┆              ┆                ┆                ┆               │\n",
       "│ VABANDU…       ┆ vabandu…       ┆              ┆                ┆                ┆               │\n",
       "│ SAGA FRESH     ┆ saga fresh     ┆ ID           ┆ null           ┆ null           ┆ []            │\n",
       "│ CIGOMBONG.     ┆ cigombong      ┆              ┆                ┆                ┆               │\n",
       "│ MBLJAYAP…      ┆ mbljayapu…     ┆              ┆                ┆                ┆               │\n",
       "│ IDM FFV0-RUKO  ┆ idm ffv0ruko   ┆ ID           ┆ null           ┆ null           ┆ []            │\n",
       "│ LILY -         ┆ lily           ┆              ┆                ┆                ┆               │\n",
       "│ WONOSUKOH…     ┆ wonosukohar…   ┆              ┆                ┆                ┆               │\n",
       "└────────────────┴────────────────┴──────────────┴────────────────┴────────────────┴───────────────┘"
      ]
     },
     "execution_count": 518,
     "metadata": {},
     "output_type": "execute_result"
    }
   ],
   "source": [
    "data_labeled_train.filter((pl.col('country_code') == 'ID') & pl.col('cleaned_location').is_null())"
   ]
  },
  {
   "cell_type": "code",
   "execution_count": 519,
   "metadata": {},
   "outputs": [],
   "source": [
    "data_labeled_train[['merchant_name','cleaned_merchant_name','country_code','enhanced_location','cleaned_location']].filter((pl.col('country_code') == 'ID') & pl.col('cleaned_location').is_null()).sort(\"cleaned_merchant_name\").write_csv(\"unextracted_location.csv\")"
   ]
  },
  {
   "cell_type": "code",
   "execution_count": 523,
   "metadata": {},
   "outputs": [
    {
     "data": {
      "text/html": [
       "<div><style>\n",
       ".dataframe > thead > tr,\n",
       ".dataframe > tbody > tr {\n",
       "  text-align: right;\n",
       "  white-space: pre-wrap;\n",
       "}\n",
       "</style>\n",
       "<small>shape: (492_245, 6)</small><table border=\"1\" class=\"dataframe\"><thead><tr><th>merchant_name</th><th>cleaned_merchant_name</th><th>country_code</th><th>enhanced_location</th><th>cleaned_location</th><th>loc_entity_index</th></tr><tr><td>str</td><td>str</td><td>str</td><td>str</td><td>str</td><td>list[i32]</td></tr></thead><tbody><tr><td>&quot;CHOP BUNTUT CAK YO SLEMAN (KAB…</td><td>&quot;chop buntut cak yo sleman kab&quot;</td><td>&quot;ID&quot;</td><td>&quot;sleman&quot;</td><td>&quot;sleman&quot;</td><td>[19, 25]</td></tr><tr><td>&quot;TBL* THE SEED LEVEL AMSTERDAM …</td><td>&quot;tbl the seed level amsterdam&quot;</td><td>&quot;NL&quot;</td><td>null</td><td>null</td><td>[]</td></tr><tr><td>&quot;SILOAM CLINIC GRH RAYA TANGERA…</td><td>&quot;siloam clinic grh raya tangera…</td><td>&quot;ID&quot;</td><td>&quot;tangerang&quot;</td><td>&quot;tangerang&quot;</td><td>[23, 32]</td></tr><tr><td>&quot;SWALAYAN ZOOM MBL TANJUNG PINA…</td><td>&quot;swalayan zoom mbl tanjung pina…</td><td>&quot;ID&quot;</td><td>&quot;tanjung pinang&quot;</td><td>&quot;tanjung pinan&quot;</td><td>[18, 31]</td></tr><tr><td>&quot;PEDRO SUN PLAZA MEDAN MEDAN KO…</td><td>&quot;pedro sun plaza medan medan ko…</td><td>&quot;ID&quot;</td><td>&quot;medan&quot;</td><td>&quot;medan&quot;</td><td>[16, 21]</td></tr><tr><td>&hellip;</td><td>&hellip;</td><td>&hellip;</td><td>&hellip;</td><td>&hellip;</td><td>&hellip;</td></tr><tr><td>&quot;AUSSIE TOYS ONLINE PAKENHAM AU&quot;</td><td>&quot;aussie toys online pakenham&quot;</td><td>&quot;AU&quot;</td><td>null</td><td>null</td><td>[]</td></tr><tr><td>&quot;TOKO EMAS GINBERS MEDAN KOT. I…</td><td>&quot;toko emas ginbers medan kot&quot;</td><td>&quot;ID&quot;</td><td>&quot;medan&quot;</td><td>&quot;medan&quot;</td><td>[18, 23]</td></tr><tr><td>&quot;BINTANG SPORT SERANG (KOTA)ID&quot;</td><td>&quot;bintang sport serang kota&quot;</td><td>&quot;ID&quot;</td><td>&quot;serang&quot;</td><td>&quot;serang&quot;</td><td>[14, 20]</td></tr><tr><td>&quot;ACE HARDWARE MALL PI I JAKARTA…</td><td>&quot;ace hardware mall pi i jakarta&quot;</td><td>&quot;ID&quot;</td><td>null</td><td>&quot;jakarta&quot;</td><td>[23, 30]</td></tr><tr><td>&quot;IDM TJAJ LOMBOK TIMUR ID&quot;</td><td>&quot;idm tjaj lombok timur&quot;</td><td>&quot;ID&quot;</td><td>&quot;lombok timur&quot;</td><td>&quot;lombok timur&quot;</td><td>[9, 21]</td></tr></tbody></table></div>"
      ],
      "text/plain": [
       "shape: (492_245, 6)\n",
       "┌────────────────┬────────────────┬──────────────┬────────────────┬────────────────┬───────────────┐\n",
       "│ merchant_name  ┆ cleaned_mercha ┆ country_code ┆ enhanced_locat ┆ cleaned_locati ┆ loc_entity_in │\n",
       "│ ---            ┆ nt_name        ┆ ---          ┆ ion            ┆ on             ┆ dex           │\n",
       "│ str            ┆ ---            ┆ str          ┆ ---            ┆ ---            ┆ ---           │\n",
       "│                ┆ str            ┆              ┆ str            ┆ str            ┆ list[i32]     │\n",
       "╞════════════════╪════════════════╪══════════════╪════════════════╪════════════════╪═══════════════╡\n",
       "│ CHOP BUNTUT    ┆ chop buntut    ┆ ID           ┆ sleman         ┆ sleman         ┆ [19, 25]      │\n",
       "│ CAK YO SLEMAN  ┆ cak yo sleman  ┆              ┆                ┆                ┆               │\n",
       "│ (KAB…          ┆ kab            ┆              ┆                ┆                ┆               │\n",
       "│ TBL* THE SEED  ┆ tbl the seed   ┆ NL           ┆ null           ┆ null           ┆ []            │\n",
       "│ LEVEL          ┆ level          ┆              ┆                ┆                ┆               │\n",
       "│ AMSTERDAM …    ┆ amsterdam      ┆              ┆                ┆                ┆               │\n",
       "│ SILOAM CLINIC  ┆ siloam clinic  ┆ ID           ┆ tangerang      ┆ tangerang      ┆ [23, 32]      │\n",
       "│ GRH RAYA       ┆ grh raya       ┆              ┆                ┆                ┆               │\n",
       "│ TANGERA…       ┆ tangera…       ┆              ┆                ┆                ┆               │\n",
       "│ SWALAYAN ZOOM  ┆ swalayan zoom  ┆ ID           ┆ tanjung pinang ┆ tanjung pinan  ┆ [18, 31]      │\n",
       "│ MBL TANJUNG    ┆ mbl tanjung    ┆              ┆                ┆                ┆               │\n",
       "│ PINA…          ┆ pina…          ┆              ┆                ┆                ┆               │\n",
       "│ PEDRO SUN      ┆ pedro sun      ┆ ID           ┆ medan          ┆ medan          ┆ [16, 21]      │\n",
       "│ PLAZA MEDAN    ┆ plaza medan    ┆              ┆                ┆                ┆               │\n",
       "│ MEDAN KO…      ┆ medan ko…      ┆              ┆                ┆                ┆               │\n",
       "│ …              ┆ …              ┆ …            ┆ …              ┆ …              ┆ …             │\n",
       "│ AUSSIE TOYS    ┆ aussie toys    ┆ AU           ┆ null           ┆ null           ┆ []            │\n",
       "│ ONLINE         ┆ online         ┆              ┆                ┆                ┆               │\n",
       "│ PAKENHAM AU    ┆ pakenham       ┆              ┆                ┆                ┆               │\n",
       "│ TOKO EMAS      ┆ toko emas      ┆ ID           ┆ medan          ┆ medan          ┆ [18, 23]      │\n",
       "│ GINBERS MEDAN  ┆ ginbers medan  ┆              ┆                ┆                ┆               │\n",
       "│ KOT. I…        ┆ kot            ┆              ┆                ┆                ┆               │\n",
       "│ BINTANG SPORT  ┆ bintang sport  ┆ ID           ┆ serang         ┆ serang         ┆ [14, 20]      │\n",
       "│ SERANG         ┆ serang kota    ┆              ┆                ┆                ┆               │\n",
       "│ (KOTA)ID       ┆                ┆              ┆                ┆                ┆               │\n",
       "│ ACE HARDWARE   ┆ ace hardware   ┆ ID           ┆ null           ┆ jakarta        ┆ [23, 30]      │\n",
       "│ MALL PI I      ┆ mall pi i      ┆              ┆                ┆                ┆               │\n",
       "│ JAKARTA…       ┆ jakarta        ┆              ┆                ┆                ┆               │\n",
       "│ IDM TJAJ       ┆ idm tjaj       ┆ ID           ┆ lombok timur   ┆ lombok timur   ┆ [9, 21]       │\n",
       "│ LOMBOK TIMUR   ┆ lombok timur   ┆              ┆                ┆                ┆               │\n",
       "│ ID             ┆                ┆              ┆                ┆                ┆               │\n",
       "└────────────────┴────────────────┴──────────────┴────────────────┴────────────────┴───────────────┘"
      ]
     },
     "execution_count": 523,
     "metadata": {},
     "output_type": "execute_result"
    }
   ],
   "source": [
    "data_labeled_train"
   ]
  },
  {
   "cell_type": "code",
   "execution_count": 521,
   "metadata": {},
   "outputs": [],
   "source": [
    "# find starting and ending index\n",
    "data_labeled_train = data_labeled_train.with_columns(\n",
    "    pl.struct([\"cleaned_merchant_name\",\"cleaned_location\"]).map_elements(lambda x: find_index(x), return_dtype = pl.List(pl.Int32)).alias('loc_entity_index')\n",
    ")"
   ]
  },
  {
   "cell_type": "code",
   "execution_count": 529,
   "metadata": {},
   "outputs": [],
   "source": [
    "data_labeled_train.write_parquet('data/merchant_ner_labeled_all.parquet')"
   ]
  },
  {
   "cell_type": "markdown",
   "metadata": {},
   "source": [
    "# NER TRAINING"
   ]
  },
  {
   "cell_type": "code",
   "execution_count": 532,
   "metadata": {},
   "outputs": [],
   "source": [
    "to_split = data_labeled_train.filter(pl.col('cleaned_location').is_not_null())"
   ]
  },
  {
   "cell_type": "code",
   "execution_count": 533,
   "metadata": {},
   "outputs": [
    {
     "data": {
      "text/html": [
       "<div><style>\n",
       ".dataframe > thead > tr,\n",
       ".dataframe > tbody > tr {\n",
       "  text-align: right;\n",
       "  white-space: pre-wrap;\n",
       "}\n",
       "</style>\n",
       "<small>shape: (311_128, 6)</small><table border=\"1\" class=\"dataframe\"><thead><tr><th>merchant_name</th><th>cleaned_merchant_name</th><th>country_code</th><th>enhanced_location</th><th>cleaned_location</th><th>loc_entity_index</th></tr><tr><td>str</td><td>str</td><td>str</td><td>str</td><td>str</td><td>list[i32]</td></tr></thead><tbody><tr><td>&quot;CHOP BUNTUT CAK YO SLEMAN (KAB…</td><td>&quot;chop buntut cak yo sleman kab&quot;</td><td>&quot;ID&quot;</td><td>&quot;sleman&quot;</td><td>&quot;sleman&quot;</td><td>[19, 25]</td></tr><tr><td>&quot;SILOAM CLINIC GRH RAYA TANGERA…</td><td>&quot;siloam clinic grh raya tangera…</td><td>&quot;ID&quot;</td><td>&quot;tangerang&quot;</td><td>&quot;tangerang&quot;</td><td>[23, 32]</td></tr><tr><td>&quot;SWALAYAN ZOOM MBL TANJUNG PINA…</td><td>&quot;swalayan zoom mbl tanjung pina…</td><td>&quot;ID&quot;</td><td>&quot;tanjung pinang&quot;</td><td>&quot;tanjung pinan&quot;</td><td>[18, 31]</td></tr><tr><td>&quot;PEDRO SUN PLAZA MEDAN MEDAN KO…</td><td>&quot;pedro sun plaza medan medan ko…</td><td>&quot;ID&quot;</td><td>&quot;medan&quot;</td><td>&quot;medan&quot;</td><td>[16, 21]</td></tr><tr><td>&quot;AIA FIN 39020926 112 TANGERANG…</td><td>&quot;aia fin 39020926 112 tangerang&quot;</td><td>&quot;ID&quot;</td><td>&quot;tangerang&quot;</td><td>&quot;tangerang&quot;</td><td>[21, 30]</td></tr><tr><td>&hellip;</td><td>&hellip;</td><td>&hellip;</td><td>&hellip;</td><td>&hellip;</td><td>&hellip;</td></tr><tr><td>&quot;IDM TRWR-KARANG MULYA BANJARMA…</td><td>&quot;idm trwrkarang mulya banjarmas…</td><td>&quot;ID&quot;</td><td>&quot;banjarmasin&quot;</td><td>&quot;banjarmasin&quot;</td><td>[21, 32]</td></tr><tr><td>&quot;TOKO EMAS GINBERS MEDAN KOT. I…</td><td>&quot;toko emas ginbers medan kot&quot;</td><td>&quot;ID&quot;</td><td>&quot;medan&quot;</td><td>&quot;medan&quot;</td><td>[18, 23]</td></tr><tr><td>&quot;BINTANG SPORT SERANG (KOTA)ID&quot;</td><td>&quot;bintang sport serang kota&quot;</td><td>&quot;ID&quot;</td><td>&quot;serang&quot;</td><td>&quot;serang&quot;</td><td>[14, 20]</td></tr><tr><td>&quot;ACE HARDWARE MALL PI I JAKARTA…</td><td>&quot;ace hardware mall pi i jakarta&quot;</td><td>&quot;ID&quot;</td><td>null</td><td>&quot;jakarta&quot;</td><td>[23, 30]</td></tr><tr><td>&quot;IDM TJAJ LOMBOK TIMUR ID&quot;</td><td>&quot;idm tjaj lombok timur&quot;</td><td>&quot;ID&quot;</td><td>&quot;lombok timur&quot;</td><td>&quot;lombok timur&quot;</td><td>[9, 21]</td></tr></tbody></table></div>"
      ],
      "text/plain": [
       "shape: (311_128, 6)\n",
       "┌────────────────┬────────────────┬──────────────┬────────────────┬────────────────┬───────────────┐\n",
       "│ merchant_name  ┆ cleaned_mercha ┆ country_code ┆ enhanced_locat ┆ cleaned_locati ┆ loc_entity_in │\n",
       "│ ---            ┆ nt_name        ┆ ---          ┆ ion            ┆ on             ┆ dex           │\n",
       "│ str            ┆ ---            ┆ str          ┆ ---            ┆ ---            ┆ ---           │\n",
       "│                ┆ str            ┆              ┆ str            ┆ str            ┆ list[i32]     │\n",
       "╞════════════════╪════════════════╪══════════════╪════════════════╪════════════════╪═══════════════╡\n",
       "│ CHOP BUNTUT    ┆ chop buntut    ┆ ID           ┆ sleman         ┆ sleman         ┆ [19, 25]      │\n",
       "│ CAK YO SLEMAN  ┆ cak yo sleman  ┆              ┆                ┆                ┆               │\n",
       "│ (KAB…          ┆ kab            ┆              ┆                ┆                ┆               │\n",
       "│ SILOAM CLINIC  ┆ siloam clinic  ┆ ID           ┆ tangerang      ┆ tangerang      ┆ [23, 32]      │\n",
       "│ GRH RAYA       ┆ grh raya       ┆              ┆                ┆                ┆               │\n",
       "│ TANGERA…       ┆ tangera…       ┆              ┆                ┆                ┆               │\n",
       "│ SWALAYAN ZOOM  ┆ swalayan zoom  ┆ ID           ┆ tanjung pinang ┆ tanjung pinan  ┆ [18, 31]      │\n",
       "│ MBL TANJUNG    ┆ mbl tanjung    ┆              ┆                ┆                ┆               │\n",
       "│ PINA…          ┆ pina…          ┆              ┆                ┆                ┆               │\n",
       "│ PEDRO SUN      ┆ pedro sun      ┆ ID           ┆ medan          ┆ medan          ┆ [16, 21]      │\n",
       "│ PLAZA MEDAN    ┆ plaza medan    ┆              ┆                ┆                ┆               │\n",
       "│ MEDAN KO…      ┆ medan ko…      ┆              ┆                ┆                ┆               │\n",
       "│ AIA FIN        ┆ aia fin        ┆ ID           ┆ tangerang      ┆ tangerang      ┆ [21, 30]      │\n",
       "│ 39020926 112   ┆ 39020926 112   ┆              ┆                ┆                ┆               │\n",
       "│ TANGERANG…     ┆ tangerang      ┆              ┆                ┆                ┆               │\n",
       "│ …              ┆ …              ┆ …            ┆ …              ┆ …              ┆ …             │\n",
       "│ IDM            ┆ idm trwrkarang ┆ ID           ┆ banjarmasin    ┆ banjarmasin    ┆ [21, 32]      │\n",
       "│ TRWR-KARANG    ┆ mulya          ┆              ┆                ┆                ┆               │\n",
       "│ MULYA          ┆ banjarmas…     ┆              ┆                ┆                ┆               │\n",
       "│ BANJARMA…      ┆                ┆              ┆                ┆                ┆               │\n",
       "│ TOKO EMAS      ┆ toko emas      ┆ ID           ┆ medan          ┆ medan          ┆ [18, 23]      │\n",
       "│ GINBERS MEDAN  ┆ ginbers medan  ┆              ┆                ┆                ┆               │\n",
       "│ KOT. I…        ┆ kot            ┆              ┆                ┆                ┆               │\n",
       "│ BINTANG SPORT  ┆ bintang sport  ┆ ID           ┆ serang         ┆ serang         ┆ [14, 20]      │\n",
       "│ SERANG         ┆ serang kota    ┆              ┆                ┆                ┆               │\n",
       "│ (KOTA)ID       ┆                ┆              ┆                ┆                ┆               │\n",
       "│ ACE HARDWARE   ┆ ace hardware   ┆ ID           ┆ null           ┆ jakarta        ┆ [23, 30]      │\n",
       "│ MALL PI I      ┆ mall pi i      ┆              ┆                ┆                ┆               │\n",
       "│ JAKARTA…       ┆ jakarta        ┆              ┆                ┆                ┆               │\n",
       "│ IDM TJAJ       ┆ idm tjaj       ┆ ID           ┆ lombok timur   ┆ lombok timur   ┆ [9, 21]       │\n",
       "│ LOMBOK TIMUR   ┆ lombok timur   ┆              ┆                ┆                ┆               │\n",
       "│ ID             ┆                ┆              ┆                ┆                ┆               │\n",
       "└────────────────┴────────────────┴──────────────┴────────────────┴────────────────┴───────────────┘"
      ]
     },
     "execution_count": 533,
     "metadata": {},
     "output_type": "execute_result"
    }
   ],
   "source": [
    "to_split"
   ]
  },
  {
   "cell_type": "code",
   "execution_count": 331,
   "metadata": {},
   "outputs": [],
   "source": [
    "# Alternative implementation using Polars' built-in methods\n",
    "def split_polars_with_sample(df, train_ratio=0.8, seed=None):\n",
    "    \"\"\"\n",
    "    Split a Polars DataFrame using Polars' sample method.\n",
    "    \n",
    "    Parameters:\n",
    "    -----------\n",
    "    df : polars.DataFrame\n",
    "        The input DataFrame to split\n",
    "    train_ratio : float\n",
    "        The proportion of data to include in the training set (default: 0.8)\n",
    "    seed : int or None\n",
    "        Random seed for reproducibility (default: None)\n",
    "    \n",
    "    Returns:\n",
    "    --------\n",
    "    tuple of polars.DataFrame\n",
    "        (train_df, test_df)\n",
    "    \"\"\"\n",
    "    # Sample the training set\n",
    "    train_df = df.sample(fraction=train_ratio, seed=seed)\n",
    "    \n",
    "    # Create a temporary column with row indices\n",
    "    df_with_idx = df.with_row_index(\"__idx\")\n",
    "    train_with_idx = train_df.with_row_index(\"__idx\")\n",
    "    \n",
    "    # Find indices not in the training set\n",
    "    test_df = df_with_idx.filter(\n",
    "        ~pl.col(\"__idx\").is_in(train_with_idx.get_column(\"__idx\"))\n",
    "    ).drop(\"__idx\")\n",
    "    \n",
    "    # Remove the temporary index column from train_df\n",
    "    train_df = train_with_idx.drop(\"__idx\")\n",
    "    \n",
    "    return train_df, test_df"
   ]
  },
  {
   "cell_type": "code",
   "execution_count": 330,
   "metadata": {},
   "outputs": [
    {
     "ename": "NameError",
     "evalue": "name 'split_polars_with_sample' is not defined",
     "output_type": "error",
     "traceback": [
      "\u001b[0;31m---------------------------------------------------------------------------\u001b[0m",
      "\u001b[0;31mNameError\u001b[0m                                 Traceback (most recent call last)",
      "Cell \u001b[0;32mIn[330], line 1\u001b[0m\n\u001b[0;32m----> 1\u001b[0m split_train, split_validation \u001b[38;5;241m=\u001b[39m \u001b[43msplit_polars_with_sample\u001b[49m(to_split, train_ratio\u001b[38;5;241m=\u001b[39m\u001b[38;5;241m0.9\u001b[39m, seed\u001b[38;5;241m=\u001b[39m\u001b[38;5;241m1\u001b[39m)\n",
      "\u001b[0;31mNameError\u001b[0m: name 'split_polars_with_sample' is not defined"
     ]
    }
   ],
   "source": [
    "split_train, split_validation = split_polars_with_sample(to_split, train_ratio=0.9, seed=1)"
   ]
  },
  {
   "cell_type": "code",
   "execution_count": 538,
   "metadata": {},
   "outputs": [],
   "source": [
    "split_train.write_parquet('data/merchant_ner_labeled_train.parquet')"
   ]
  },
  {
   "cell_type": "code",
   "execution_count": 539,
   "metadata": {},
   "outputs": [],
   "source": [
    "split_validation.write_parquet('data/merchant_ner_labeled_validation.parquet')"
   ]
  },
  {
   "cell_type": "code",
   "execution_count": 332,
   "metadata": {},
   "outputs": [],
   "source": [
    "train = pl.read_parquet('data/merchant_ner_labeled_train.parquet')"
   ]
  },
  {
   "cell_type": "code",
   "execution_count": 333,
   "metadata": {},
   "outputs": [
    {
     "data": {
      "text/html": [
       "<div><style>\n",
       ".dataframe > thead > tr,\n",
       ".dataframe > tbody > tr {\n",
       "  text-align: right;\n",
       "  white-space: pre-wrap;\n",
       "}\n",
       "</style>\n",
       "<small>shape: (280_015, 6)</small><table border=\"1\" class=\"dataframe\"><thead><tr><th>merchant_name</th><th>cleaned_merchant_name</th><th>country_code</th><th>enhanced_location</th><th>cleaned_location</th><th>loc_entity_index</th></tr><tr><td>str</td><td>str</td><td>str</td><td>str</td><td>str</td><td>list[i32]</td></tr></thead><tbody><tr><td>&quot;Z003 ELZATTA SURABAYA BANDUNG …</td><td>&quot;z003 elzatta surabaya bandung …</td><td>&quot;ID&quot;</td><td>&quot;surabaya&quot;</td><td>&quot;surabaya&quot;</td><td>[13, 21]</td></tr><tr><td>&quot;SOUR SALLY MALL CENTRAL PJAKAR…</td><td>&quot;sour sally mall central pjakar…</td><td>&quot;ID&quot;</td><td>null</td><td>&quot;jakarta barat&quot;</td><td>[25, 38]</td></tr><tr><td>&quot;GUMATI CIREBON CIREBON KAB. ID&quot;</td><td>&quot;gumati cirebon cirebon kab&quot;</td><td>&quot;ID&quot;</td><td>&quot;cirebon&quot;</td><td>&quot;cirebon&quot;</td><td>[7, 14]</td></tr><tr><td>&quot;KOBE PETSHOP MBL JAKARTA ID&quot;</td><td>&quot;kobe petshop mbl jakarta&quot;</td><td>&quot;ID&quot;</td><td>null</td><td>&quot;jakarta&quot;</td><td>[17, 24]</td></tr><tr><td>&quot;DUNIA LISTRIK TOKO - H MADIUN …</td><td>&quot;dunia listrik toko&nbsp;&nbsp;h madiun&quot;</td><td>&quot;ID&quot;</td><td>&quot;madiun&quot;</td><td>&quot;madiun&quot;</td><td>[22, 28]</td></tr><tr><td>&hellip;</td><td>&hellip;</td><td>&hellip;</td><td>&hellip;</td><td>&hellip;</td><td>&hellip;</td></tr><tr><td>&quot;MIE BANDUNGKEJAKSAAN 1 TANGERA…</td><td>&quot;mie bandungkejaksaan 1 tangera…</td><td>&quot;ID&quot;</td><td>&quot;tangerang&quot;</td><td>&quot;tangerang&quot;</td><td>[23, 32]</td></tr><tr><td>&quot;GUNUNG GEULIS COUNTRY C BOGOR …</td><td>&quot;gunung geulis country c bogor&quot;</td><td>&quot;ID&quot;</td><td>&quot;bogor&quot;</td><td>&quot;bogor&quot;</td><td>[24, 29]</td></tr><tr><td>&quot;SAGA FRESH DOK 9 JAYAPURA (KO …</td><td>&quot;saga fresh dok 9 jayapura ko&quot;</td><td>&quot;ID&quot;</td><td>&quot;jayapura&quot;</td><td>&quot;jayapura&quot;</td><td>[17, 25]</td></tr><tr><td>&quot;BILLBOSS BANJARMASIN KID&quot;</td><td>&quot;billboss banjarmasin k&quot;</td><td>&quot;ID&quot;</td><td>&quot;banjarmasin&quot;</td><td>&quot;banjarmasin&quot;</td><td>[9, 20]</td></tr><tr><td>&quot;LAXMI TAILORS-HO TANGERANG ID&quot;</td><td>&quot;laxmi tailorsho tangerang&quot;</td><td>&quot;ID&quot;</td><td>&quot;tangerang&quot;</td><td>&quot;tangerang&quot;</td><td>[16, 25]</td></tr></tbody></table></div>"
      ],
      "text/plain": [
       "shape: (280_015, 6)\n",
       "┌────────────────┬────────────────┬──────────────┬────────────────┬────────────────┬───────────────┐\n",
       "│ merchant_name  ┆ cleaned_mercha ┆ country_code ┆ enhanced_locat ┆ cleaned_locati ┆ loc_entity_in │\n",
       "│ ---            ┆ nt_name        ┆ ---          ┆ ion            ┆ on             ┆ dex           │\n",
       "│ str            ┆ ---            ┆ str          ┆ ---            ┆ ---            ┆ ---           │\n",
       "│                ┆ str            ┆              ┆ str            ┆ str            ┆ list[i32]     │\n",
       "╞════════════════╪════════════════╪══════════════╪════════════════╪════════════════╪═══════════════╡\n",
       "│ Z003 ELZATTA   ┆ z003 elzatta   ┆ ID           ┆ surabaya       ┆ surabaya       ┆ [13, 21]      │\n",
       "│ SURABAYA       ┆ surabaya       ┆              ┆                ┆                ┆               │\n",
       "│ BANDUNG …      ┆ bandung …      ┆              ┆                ┆                ┆               │\n",
       "│ SOUR SALLY     ┆ sour sally     ┆ ID           ┆ null           ┆ jakarta barat  ┆ [25, 38]      │\n",
       "│ MALL CENTRAL   ┆ mall central   ┆              ┆                ┆                ┆               │\n",
       "│ PJAKAR…        ┆ pjakar…        ┆              ┆                ┆                ┆               │\n",
       "│ GUMATI CIREBON ┆ gumati cirebon ┆ ID           ┆ cirebon        ┆ cirebon        ┆ [7, 14]       │\n",
       "│ CIREBON KAB.   ┆ cirebon kab    ┆              ┆                ┆                ┆               │\n",
       "│ ID             ┆                ┆              ┆                ┆                ┆               │\n",
       "│ KOBE PETSHOP   ┆ kobe petshop   ┆ ID           ┆ null           ┆ jakarta        ┆ [17, 24]      │\n",
       "│ MBL JAKARTA ID ┆ mbl jakarta    ┆              ┆                ┆                ┆               │\n",
       "│ DUNIA LISTRIK  ┆ dunia listrik  ┆ ID           ┆ madiun         ┆ madiun         ┆ [22, 28]      │\n",
       "│ TOKO - H       ┆ toko  h madiun ┆              ┆                ┆                ┆               │\n",
       "│ MADIUN …       ┆                ┆              ┆                ┆                ┆               │\n",
       "│ …              ┆ …              ┆ …            ┆ …              ┆ …              ┆ …             │\n",
       "│ MIE BANDUNGKEJ ┆ mie bandungkej ┆ ID           ┆ tangerang      ┆ tangerang      ┆ [23, 32]      │\n",
       "│ AKSAAN 1       ┆ aksaan 1       ┆              ┆                ┆                ┆               │\n",
       "│ TANGERA…       ┆ tangera…       ┆              ┆                ┆                ┆               │\n",
       "│ GUNUNG GEULIS  ┆ gunung geulis  ┆ ID           ┆ bogor          ┆ bogor          ┆ [24, 29]      │\n",
       "│ COUNTRY C      ┆ country c      ┆              ┆                ┆                ┆               │\n",
       "│ BOGOR …        ┆ bogor          ┆              ┆                ┆                ┆               │\n",
       "│ SAGA FRESH DOK ┆ saga fresh dok ┆ ID           ┆ jayapura       ┆ jayapura       ┆ [17, 25]      │\n",
       "│ 9 JAYAPURA (KO ┆ 9 jayapura ko  ┆              ┆                ┆                ┆               │\n",
       "│ …              ┆                ┆              ┆                ┆                ┆               │\n",
       "│ BILLBOSS       ┆ billboss       ┆ ID           ┆ banjarmasin    ┆ banjarmasin    ┆ [9, 20]       │\n",
       "│ BANJARMASIN    ┆ banjarmasin k  ┆              ┆                ┆                ┆               │\n",
       "│ KID            ┆                ┆              ┆                ┆                ┆               │\n",
       "│ LAXMI          ┆ laxmi          ┆ ID           ┆ tangerang      ┆ tangerang      ┆ [16, 25]      │\n",
       "│ TAILORS-HO     ┆ tailorsho      ┆              ┆                ┆                ┆               │\n",
       "│ TANGERANG ID   ┆ tangerang      ┆              ┆                ┆                ┆               │\n",
       "└────────────────┴────────────────┴──────────────┴────────────────┴────────────────┴───────────────┘"
      ]
     },
     "execution_count": 333,
     "metadata": {},
     "output_type": "execute_result"
    }
   ],
   "source": [
    "train"
   ]
  },
  {
   "cell_type": "code",
   "execution_count": 7,
   "metadata": {},
   "outputs": [],
   "source": [
    "import spacy\n",
    "from spacy import displacy\n",
    "\n",
    "nlp = spacy.blank(\"id\")"
   ]
  },
  {
   "cell_type": "code",
   "execution_count": 15,
   "metadata": {},
   "outputs": [
    {
     "data": {
      "text/plain": [
       "<spacy.lang.id.Indonesian at 0x7fa6dc312650>"
      ]
     },
     "execution_count": 15,
     "metadata": {},
     "output_type": "execute_result"
    }
   ],
   "source": [
    "nlp"
   ]
  },
  {
   "cell_type": "code",
   "execution_count": 48,
   "metadata": {},
   "outputs": [],
   "source": [
    "train_spacy = []"
   ]
  },
  {
   "cell_type": "code",
   "execution_count": 149,
   "metadata": {},
   "outputs": [],
   "source": [
    "spacy_data = []"
   ]
  },
  {
   "cell_type": "code",
   "execution_count": 150,
   "metadata": {},
   "outputs": [],
   "source": [
    "for row in train.iter_rows():\n",
    "    spacy_data.append((row[1], {\"entities\": [(row[5][0], row[5][1], \"LOC\")]}))"
   ]
  },
  {
   "cell_type": "code",
   "execution_count": 151,
   "metadata": {},
   "outputs": [],
   "source": [
    "import random\n",
    "random.shuffle(spacy_data)\n",
    "train_data = spacy_data[:int(len(spacy_data) * 0.8)]\n",
    "test_data = spacy_data[int(len(spacy_data) * 0.8):]"
   ]
  },
  {
   "cell_type": "code",
   "execution_count": 152,
   "metadata": {},
   "outputs": [
    {
     "data": {
      "text/plain": [
       "224012"
      ]
     },
     "execution_count": 152,
     "metadata": {},
     "output_type": "execute_result"
    }
   ],
   "source": [
    "len(train_data)"
   ]
  },
  {
   "cell_type": "code",
   "execution_count": 153,
   "metadata": {},
   "outputs": [],
   "source": [
    "def create_model(train_data):\n",
    "    nlp = spacy.blank(\"id\")  # create blank model (adjust language as needed)\n",
    "    print(\"Created blank model\")\n",
    "    \n",
    "    # Add NER component if it doesn't exist\n",
    "    if \"ner\" not in nlp.pipe_names:\n",
    "        ner = nlp.add_pipe(\"ner\", last=True)\n",
    "    else:\n",
    "        ner = nlp.get_pipe(\"ner\")\n",
    "    \n",
    "    # Add entity labels\n",
    "    for _, annotations in train_data:\n",
    "        for ent in annotations.get(\"entities\"):\n",
    "            ner.add_label(ent[2])\n",
    "    \n",
    "    return nlp"
   ]
  },
  {
   "cell_type": "code",
   "execution_count": null,
   "metadata": {},
   "outputs": [],
   "source": [
    "from spacy import displacy\n",
    "displacy.render(doc, style=\"ent\", jupyter=True)"
   ]
  },
  {
   "cell_type": "code",
   "execution_count": 83,
   "metadata": {},
   "outputs": [],
   "source": [
    "count_span_none = 0\n",
    "span_none = []\n",
    "for text, annots in train_data:\n",
    "    #print(text, annots)\n",
    "    break_loop = False\n",
    "    doc = nlp.make_doc(text)\n",
    "    for start, end, label in annots.get(\"entities\"):\n",
    "        span = doc.char_span(start, end, label=label)\n",
    "        if span is None:\n",
    "            span_none.append((text, annots))\n"
   ]
  },
  {
   "cell_type": "code",
   "execution_count": null,
   "metadata": {},
   "outputs": [],
   "source": [
    "...................|...........\n",
    "mybluebird 96961057jakarta slt"
   ]
  },
  {
   "cell_type": "code",
   "execution_count": null,
   "metadata": {},
   "outputs": [],
   "source": [
    "nlp.make_doc(text)"
   ]
  },
  {
   "cell_type": "code",
   "execution_count": 145,
   "metadata": {},
   "outputs": [],
   "source": [
    "# 4. Convert data to Spacy format and save\n",
    "from spacy.tokens import DocBin\n",
    "from spacy.util import filter_spans\n",
    "\n",
    "def convert_to_spacy(data, output_path):\n",
    "    db = DocBin()\n",
    "    nlp_model = spacy.blank(\"id\")\n",
    "    \n",
    "    for text, annots in data:\n",
    "        doc = nlp_model.make_doc(text)\n",
    "        ents = []\n",
    "        for start, end, label in annots.get(\"entities\"):\n",
    "            span = doc.char_span(start, end, label=label)\n",
    "            # if span is None:\n",
    "            #     print(f\"Skipping entity in '{text}' - invalid span\")\n",
    "            if span is not None:\n",
    "                ents.append(span)\n",
    "        filtered_ents = filter_spans(ents)\n",
    "        doc.ents = filtered_ents\n",
    "        db.add(doc)\n",
    "\n",
    "    db.to_disk(output_path)\n",
    "    print(f\"Saved {len(data)} examples to {output_path}\")"
   ]
  },
  {
   "cell_type": "code",
   "execution_count": null,
   "metadata": {},
   "outputs": [],
   "source": [
    "train_data"
   ]
  },
  {
   "cell_type": "code",
   "execution_count": 237,
   "metadata": {},
   "outputs": [
    {
     "name": "stdout",
     "output_type": "stream",
     "text": [
      "Saved 224012 examples to data/spacy_training_data.spacy\n",
      "Saved 56003 examples to data/spacy_test_data.spacy\n"
     ]
    }
   ],
   "source": [
    "convert_to_spacy(train_data, \"data/spacy_training_data.spacy\")\n",
    "convert_to_spacy(test_data, \"data/spacy_test_data.spacy\")"
   ]
  },
  {
   "cell_type": "code",
   "execution_count": 232,
   "metadata": {},
   "outputs": [
    {
     "name": "stdout",
     "output_type": "stream",
     "text": [
      "Created blank model\n"
     ]
    }
   ],
   "source": [
    "nlp = create_model(train_data)"
   ]
  },
  {
   "cell_type": "code",
   "execution_count": 148,
   "metadata": {},
   "outputs": [
    {
     "name": "stdout",
     "output_type": "stream",
     "text": [
      "\u001b[33mUsage: \u001b[0mpython \u001b[1;32m-m\u001b[0m spacy init fill-config [OPTIONS] BASE_PATH [OUTPUT_FILE]\n",
      "\u001b[2mTry \u001b[0m\u001b[2;34m'python \u001b[0m\u001b[1;2;34m-m\u001b[0m\u001b[2;34m spacy init fill-config \u001b[0m\u001b[1;2;34m-\u001b[0m\u001b[1;2;34m-help\u001b[0m\u001b[2;34m'\u001b[0m\u001b[2m for help.\u001b[0m\n",
      "\u001b[31m╭─\u001b[0m\u001b[31m Error \u001b[0m\u001b[31m─────────────────────────────────────────────────────────────────────\u001b[0m\u001b[31m─╮\u001b[0m\n",
      "\u001b[31m│\u001b[0m Invalid value for 'BASE_PATH': File 'base_config.cfg' does not exist.        \u001b[31m│\u001b[0m\n",
      "\u001b[31m╰──────────────────────────────────────────────────────────────────────────────╯\u001b[0m\n"
     ]
    }
   ],
   "source": [
    "!python -m spacy init fill-config base_config.cfg config.cfg"
   ]
  },
  {
   "cell_type": "code",
   "execution_count": 240,
   "metadata": {},
   "outputs": [
    {
     "name": "stdout",
     "output_type": "stream",
     "text": [
      "Loaded 224012 examples from data/spacy_training_data.spacy\n",
      "Loaded 56003 examples from data/spacy_test_data.spacy\n"
     ]
    }
   ],
   "source": [
    "def load_data_from_spacy_format(file_path, nlp=None):\n",
    "    \"\"\"\n",
    "    Load training/evaluation data from a .spacy binary file.\n",
    "    \n",
    "    Parameters:\n",
    "    -----------\n",
    "    file_path : str\n",
    "        Path to the .spacy file\n",
    "    nlp : spacy.Language, optional\n",
    "        spaCy language model, will create a blank one if not provided\n",
    "        \n",
    "    Returns:\n",
    "    --------\n",
    "    list\n",
    "        List of (text, annotations) tuples in the format needed for training\n",
    "    \"\"\"\n",
    "    \n",
    "    # Create blank model if none provided\n",
    "    if nlp is None:\n",
    "        nlp = spacy.blank(\"id\")  # Use appropriate language code\n",
    "    \n",
    "    # Load the DocBin\n",
    "    doc_bin = DocBin().from_disk(file_path)\n",
    "    \n",
    "    # Convert to docs\n",
    "    docs = list(doc_bin.get_docs(nlp.vocab))\n",
    "    \n",
    "    # Convert back to the training data format\n",
    "    training_data = []\n",
    "    for doc in docs:\n",
    "        text = doc.text\n",
    "        entities = []\n",
    "        for ent in doc.ents:\n",
    "            entities.append((ent.start_char, ent.end_char, ent.label_))\n",
    "        \n",
    "        # Create the annotation dictionary\n",
    "        annotations = {\"entities\": entities}\n",
    "        \n",
    "        # Add to the training data list\n",
    "        training_data.append((text, annotations))\n",
    "    \n",
    "    print(f\"Loaded {len(training_data)} examples from {file_path}\")\n",
    "    return training_data\n",
    "\n",
    "# Usage\n",
    "train_data = load_data_from_spacy_format(\"data/spacy_training_data.spacy\")\n",
    "test_data = load_data_from_spacy_format(\"data/spacy_test_data.spacy\")"
   ]
  },
  {
   "cell_type": "code",
   "execution_count": 233,
   "metadata": {},
   "outputs": [
    {
     "data": {
      "text/plain": [
       "['ner']"
      ]
     },
     "execution_count": 233,
     "metadata": {},
     "output_type": "execute_result"
    }
   ],
   "source": [
    "nlp.pipe_names"
   ]
  },
  {
   "cell_type": "code",
   "execution_count": 239,
   "metadata": {},
   "outputs": [
    {
     "data": {
      "text/plain": [
       "224012"
      ]
     },
     "execution_count": 239,
     "metadata": {},
     "output_type": "execute_result"
    }
   ],
   "source": [
    "len(train_data)"
   ]
  },
  {
   "cell_type": "code",
   "execution_count": 242,
   "metadata": {},
   "outputs": [],
   "source": [
    "# Setup training examples\n",
    "from spacy.training import Example\n",
    "train_examples = []\n",
    "for text, annotations in train_data:\n",
    "    doc = nlp.make_doc(text)\n",
    "    example = Example.from_dict(doc, annotations)\n",
    "train_examples.append(example)"
   ]
  },
  {
   "cell_type": "code",
   "execution_count": 159,
   "metadata": {},
   "outputs": [
    {
     "data": {
      "text/plain": [
       "{'doc_annotation': {'cats': {}, 'entities': ['O', 'O', 'U-LOC'], 'spans': {}, 'links': {}}, 'token_annotation': {'ORTH': ['mang', 'gangho', 'tangerang'], 'SPACY': [True, True, False], 'TAG': ['', '', ''], 'LEMMA': ['', '', ''], 'POS': ['', '', ''], 'MORPH': ['', '', ''], 'HEAD': [0, 1, 2], 'DEP': ['', '', ''], 'SENT_START': [1, 0, 0]}}"
      ]
     },
     "execution_count": 159,
     "metadata": {},
     "output_type": "execute_result"
    }
   ],
   "source": [
    "train_examples[0]"
   ]
  },
  {
   "cell_type": "code",
   "execution_count": 177,
   "metadata": {},
   "outputs": [
    {
     "data": {
      "text/plain": [
       "0"
      ]
     },
     "execution_count": 177,
     "metadata": {},
     "output_type": "execute_result"
    }
   ],
   "source": [
    "ner = nlp.get_pipe(\"ner\")\n",
    "#ner.add_label(\"O\")\n",
    "#ner.add_label(\"LOC\")"
   ]
  },
  {
   "cell_type": "code",
   "execution_count": 243,
   "metadata": {},
   "outputs": [],
   "source": [
    "optimizer = nlp.begin_training()"
   ]
  },
  {
   "cell_type": "code",
   "execution_count": 230,
   "metadata": {},
   "outputs": [],
   "source": [
    "optimizer.learn_rate = 0.01"
   ]
  },
  {
   "cell_type": "code",
   "execution_count": 244,
   "metadata": {},
   "outputs": [
    {
     "data": {
      "text/plain": [
       "[{'doc_annotation': {'cats': {}, 'entities': ['O', 'O', 'O', 'B-LOC', 'L-LOC'], 'spans': {}, 'links': {}}, 'token_annotation': {'ORTH': ['terra', 'factory', 'outlet', 'jakarta', 'timur'], 'SPACY': [True, True, True, True, False], 'TAG': ['', '', '', '', ''], 'LEMMA': ['', '', '', '', ''], 'POS': ['', '', '', '', ''], 'MORPH': ['', '', '', '', ''], 'HEAD': [0, 1, 2, 3, 4], 'DEP': ['', '', '', '', ''], 'SENT_START': [1, 0, 0, 0, 0]}}]"
      ]
     },
     "execution_count": 244,
     "metadata": {},
     "output_type": "execute_result"
    }
   ],
   "source": [
    "nlp.pipe_names\n",
    "examples[:1]"
   ]
  },
  {
   "cell_type": "code",
   "execution_count": 245,
   "metadata": {},
   "outputs": [
    {
     "data": {
      "text/plain": [
       "{'ner': 1293.82568359375}"
      ]
     },
     "execution_count": 245,
     "metadata": {},
     "output_type": "execute_result"
    }
   ],
   "source": [
    "nlp.update(examples[:1], drop=0.5, losses=losses)"
   ]
  },
  {
   "cell_type": "code",
   "execution_count": 321,
   "metadata": {},
   "outputs": [
    {
     "name": "stdout",
     "output_type": "stream",
     "text": [
      "Training model...\n",
      "Iteration 1, Losses: {'ner': np.float32(6571.7866)}\n",
      "Iteration 2, Losses: {'ner': np.float32(6769.374)}\n",
      "Iteration 3, Losses: {'ner': np.float32(6651.9404)}\n",
      "Iteration 4, Losses: {'ner': np.float32(6656.863)}\n",
      "Iteration 5, Losses: {'ner': np.float32(6418.442)}\n",
      "Iteration 6, Losses: {'ner': np.float32(6274.0923)}\n",
      "Iteration 7, Losses: {'ner': np.float32(6338.069)}\n",
      "Iteration 8, Losses: {'ner': np.float32(6130.4077)}\n",
      "Iteration 9, Losses: {'ner': np.float32(6131.9736)}\n",
      "Iteration 10, Losses: {'ner': np.float32(6104.8755)}\n"
     ]
    }
   ],
   "source": [
    "# Batch up the examples\n",
    "from spacy.util import minibatch, compounding\n",
    "n_iter=10\n",
    "print(\"Training model...\")\n",
    "for i in range(n_iter):\n",
    "    #random.shuffle(train_data)\n",
    "    losses = {}\n",
    "    \n",
    "    # Batch the examples\n",
    "    batches = minibatch(examples, size=compounding(4.0, 32.0, 1.001))\n",
    "    for batch in batches:\n",
    "        nlp.update(batch, drop=0.4, losses=losses)\n",
    "    \n",
    "    print(f\"Iteration {i+1}, Losses: {losses}\")"
   ]
  },
  {
   "cell_type": "code",
   "execution_count": 325,
   "metadata": {},
   "outputs": [],
   "source": [
    "# 6. Evaluate the model\n",
    "def evaluate_model(nlp, eval_data):\n",
    "    scorer = spacy.scorer.Scorer()\n",
    "    examples = []\n",
    "    \n",
    "    for text, annotations in eval_data:\n",
    "        doc_gold_text = nlp.make_doc(text)\n",
    "        gold = Example.from_dict(doc_gold_text, annotations)\n",
    "        pred_value = nlp(text)\n",
    "        examples.append(Example(pred_value, gold.reference))\n",
    "    \n",
    "    scores = scorer.score(examples)\n",
    "    \n",
    "    # Print results\n",
    "    print(\"Evaluation results:\")\n",
    "    for metric, value in scores.items():\n",
    "        if metric.startswith(\"ents\"):\n",
    "            # Handle different types of values\n",
    "            if isinstance(value, (int, float)):\n",
    "                print(f\"{metric}: {value:.4f}\")\n",
    "            else:\n",
    "                print(f\"{metric}: {value}\")"
   ]
  },
  {
   "cell_type": "code",
   "execution_count": 256,
   "metadata": {},
   "outputs": [],
   "source": [
    "import warnings\n",
    "warnings.filterwarnings(\"ignore\", category=UserWarning)"
   ]
  },
  {
   "cell_type": "code",
   "execution_count": 336,
   "metadata": {},
   "outputs": [
    {
     "name": "stdout",
     "output_type": "stream",
     "text": [
      "Evaluation results:\n",
      "ents_p: 0.9229\n",
      "ents_r: 0.9959\n",
      "ents_f: 0.9580\n",
      "ents_per_type: {'LOC': {'p': 0.9228676273158507, 'r': 0.9959432832361009, 'f': 0.9580139550872889}}\n"
     ]
    }
   ],
   "source": [
    "evaluate_model(nlp, test_data)"
   ]
  },
  {
   "cell_type": "code",
   "execution_count": 337,
   "metadata": {},
   "outputs": [],
   "source": [
    "val = pl.read_parquet('data/merchant_ner_labeled_validation.parquet')\n",
    "validation_data = []\n",
    "for row in val.iter_rows():\n",
    "    validation_data.append((row[1], {\"entities\": [(row[5][0], row[5][1], \"LOC\")]}))"
   ]
  },
  {
   "cell_type": "code",
   "execution_count": 338,
   "metadata": {},
   "outputs": [
    {
     "name": "stdout",
     "output_type": "stream",
     "text": [
      "Evaluation results:\n",
      "ents_p: 0.9942\n",
      "ents_r: 0.9957\n",
      "ents_f: 0.9950\n",
      "ents_per_type: {'LOC': {'p': 0.9941963509991312, 'r': 0.9957189098882739, 'f': 0.9949570479602129}}\n"
     ]
    }
   ],
   "source": [
    "evaluate_model(nlp, validation_data)"
   ]
  },
  {
   "cell_type": "code",
   "execution_count": 342,
   "metadata": {},
   "outputs": [
    {
     "data": {
      "text/plain": [
       "[('cafe tutur bekasi', {'entities': [(11, 17, 'LOC')]}),\n",
       " ('idm t430 menanggal surabaya', {'entities': [(9, 18, 'LOC')]}),\n",
       " ('rejuve gandaria city 2 jakarta slt', {'entities': [(23, 34, 'LOC')]}),\n",
       " ('imperial kitchen  dim kakarawang kab', {'entities': [(22, 32, 'LOC')]}),\n",
       " ('alma restoran manggarai bar', {'entities': [(14, 23, 'LOC')]})]"
      ]
     },
     "execution_count": 342,
     "metadata": {},
     "output_type": "execute_result"
    }
   ],
   "source": [
    "validation_data[:5]"
   ]
  },
  {
   "cell_type": "code",
   "execution_count": 348,
   "metadata": {},
   "outputs": [],
   "source": [
    "LHMGS-GR1 TANGERANG KOTI : 0/12\n",
    "test_text = \"rejuve gandaria city 2 jakarta slt\""
   ]
  },
  {
   "cell_type": "code",
   "execution_count": 349,
   "metadata": {},
   "outputs": [
    {
     "name": "stdout",
     "output_type": "stream",
     "text": [
      "Entity: jakarta slt, Label: LOC, Position: (23, 34)\n"
     ]
    }
   ],
   "source": [
    "doc = nlp(test_text.lower())\n",
    "doc\n",
    "for ent in doc.ents:\n",
    "    print(f\"Entity: {ent.text}, Label: {ent.label_}, Position: ({ent.start_char}, {ent.end_char})\")"
   ]
  },
  {
   "cell_type": "code",
   "execution_count": 329,
   "metadata": {},
   "outputs": [],
   "source": [
    "# Save to disk\n",
    "output_dir = \"model/indonesian_location_ner_model\"\n",
    "nlp.to_disk(output_dir)"
   ]
  },
  {
   "cell_type": "markdown",
   "metadata": {},
   "source": [
    "# LOAD THE MODEL"
   ]
  },
  {
   "cell_type": "code",
   "execution_count": null,
   "metadata": {},
   "outputs": [],
   "source": [
    "import spacy\n",
    "# Load the saved model\n",
    "loaded_nlp = spacy.load(\"model/indonesian_location_ner_model\")"
   ]
  },
  {
   "cell_type": "code",
   "execution_count": 374,
   "metadata": {},
   "outputs": [
    {
     "name": "stdout",
     "output_type": "stream",
     "text": [
      "badung - LOC\n"
     ]
    }
   ],
   "source": [
    "# Test on some text\n",
    "text = \"YASUI MBL BADUNG - BALIID\"\n",
    "text_clean = clean_merchant_name(text)\n",
    "doc = loaded_nlp(text_clean)\n",
    "\n",
    "# Print entities\n",
    "for ent in doc.ents:\n",
    "    print(f\"{ent.text} - {ent.label_}\")"
   ]
  },
  {
   "cell_type": "markdown",
   "metadata": {},
   "source": [
    "# SANDBOX"
   ]
  },
  {
   "cell_type": "code",
   "execution_count": 215,
   "metadata": {},
   "outputs": [],
   "source": [
    "import spacy\n",
    "\n",
    "# Load a model for your language (example with English)\n",
    "nlp = spacy.load(\"en_core_web_sm\")  # Use Indonesian model if available\n",
    "\n",
    "def is_location_ner(word, context=\"\"):\n",
    "    \"\"\"Use NER to determine if a word is a location.\"\"\"\n",
    "    # If we have context, use it\n",
    "    text = context if context else word\n",
    "    doc = nlp(text)\n",
    "\n",
    "    # Check if the word is tagged as a location\n",
    "    for entity in doc.ents:\n",
    "        print(entity.text, entity.label_)\n",
    "        if entity.text == word and entity.label_ == \"GPE\":  # GPE = Geopolitical Entity\n",
    "            return True\n",
    "    \n",
    "    return False"
   ]
  },
  {
   "cell_type": "code",
   "execution_count": 227,
   "metadata": {
    "editable": true,
    "slideshow": {
     "slide_type": ""
    },
    "tags": []
   },
   "outputs": [
    {
     "name": "stdout",
     "output_type": "stream",
     "text": [
      "KUALA ORG\n"
     ]
    },
    {
     "data": {
      "text/plain": [
       "False"
      ]
     },
     "execution_count": 227,
     "metadata": {},
     "output_type": "execute_result"
    }
   ],
   "source": [
    "is_location_ner(\"KUALA LUMPUR\")"
   ]
  },
  {
   "cell_type": "code",
   "execution_count": 217,
   "metadata": {},
   "outputs": [
    {
     "name": "stderr",
     "output_type": "stream",
     "text": [
      "Some weights of the model checkpoint at cahya/bert-base-indonesian-NER were not used when initializing BertForTokenClassification: ['bert.pooler.dense.bias', 'bert.pooler.dense.weight']\n",
      "- This IS expected if you are initializing BertForTokenClassification from the checkpoint of a model trained on another task or with another architecture (e.g. initializing a BertForSequenceClassification model from a BertForPreTraining model).\n",
      "- This IS NOT expected if you are initializing BertForTokenClassification from the checkpoint of a model that you expect to be exactly identical (initializing a BertForSequenceClassification model from a BertForSequenceClassification model).\n",
      "Device set to use cuda:0\n"
     ]
    }
   ],
   "source": [
    "from transformers import pipeline\n",
    "\n",
    "# Load a pretrained NER pipeline\n",
    "ner = pipeline(\"ner\", model=\"cahya/bert-base-indonesian-NER\")\n",
    "\n",
    "def is_location(text):\n",
    "    \"\"\"Determine if text contains a location using pretrained NER model.\"\"\"\n",
    "    results = ner(text)\n",
    "    \n",
    "    # Filter for location entities (labels may vary by model)\n",
    "    location_entities = [entity for entity in results if entity['entity'] in \n",
    "                        ['B-LOC', 'I-LOC', 'B-GPE', 'I-GPE', 'LOC', 'GPE']]\n",
    "    \n",
    "    if location_entities:\n",
    "        return True, location_entities\n",
    "    return False, []"
   ]
  },
  {
   "cell_type": "code",
   "execution_count": 225,
   "metadata": {
    "editable": true,
    "slideshow": {
     "slide_type": ""
    },
    "tags": []
   },
   "outputs": [
    {
     "data": {
      "text/plain": [
       "(False, [])"
      ]
     },
     "execution_count": 225,
     "metadata": {},
     "output_type": "execute_result"
    }
   ],
   "source": [
    "is_location(\"SHIBUYA\")"
   ]
  },
  {
   "cell_type": "code",
   "execution_count": 51,
   "metadata": {
    "editable": true,
    "slideshow": {
     "slide_type": ""
    },
    "tags": []
   },
   "outputs": [],
   "source": [
    "import spacy\n",
    "from spacy import displacy\n",
    "\n",
    "nlp = spacy.blank(\"id\")"
   ]
  },
  {
   "cell_type": "code",
   "execution_count": null,
   "metadata": {},
   "outputs": [],
   "source": []
  },
  {
   "cell_type": "code",
   "execution_count": 44,
   "metadata": {
    "editable": true,
    "slideshow": {
     "slide_type": ""
    },
    "tags": []
   },
   "outputs": [],
   "source": [
    "text = \"The Mars Orbiter Mission (MOM), informally known as Mangalyaan, was launched into Earth orbit on 5 November 2013 by the Indian Space Research Organisation (ISRO) and has entered Mars orbit on 24 September 2014. India thus became the first country to enter Mars orbit on its first attempt. It was completed at a record low cost of $74 million.\""
   ]
  },
  {
   "cell_type": "code",
   "execution_count": 52,
   "metadata": {},
   "outputs": [
    {
     "data": {
      "text/plain": [
       "[]"
      ]
     },
     "execution_count": 52,
     "metadata": {},
     "output_type": "execute_result"
    }
   ],
   "source": [
    "nlp.pipe_names"
   ]
  },
  {
   "cell_type": "code",
   "execution_count": 53,
   "metadata": {},
   "outputs": [],
   "source": [
    "ner_en = spacy.load(\"en_core_web_sm\")"
   ]
  },
  {
   "cell_type": "code",
   "execution_count": 54,
   "metadata": {
    "editable": true,
    "slideshow": {
     "slide_type": ""
    },
    "tags": []
   },
   "outputs": [
    {
     "data": {
      "text/plain": [
       "['tok2vec', 'tagger', 'parser', 'attribute_ruler', 'lemmatizer', 'ner']"
      ]
     },
     "execution_count": 54,
     "metadata": {},
     "output_type": "execute_result"
    }
   ],
   "source": [
    "ner_en.pipe_names"
   ]
  },
  {
   "cell_type": "code",
   "execution_count": 45,
   "metadata": {},
   "outputs": [],
   "source": [
    "text2 = NER(text)"
   ]
  },
  {
   "cell_type": "code",
   "execution_count": null,
   "metadata": {},
   "outputs": [],
   "source": []
  }
 ],
 "metadata": {
  "kernelspec": {
   "display_name": "nn_venv",
   "language": "python",
   "name": "python3"
  },
  "language_info": {
   "codemirror_mode": {
    "name": "ipython",
    "version": 3
   },
   "file_extension": ".py",
   "mimetype": "text/x-python",
   "name": "python",
   "nbconvert_exporter": "python",
   "pygments_lexer": "ipython3",
   "version": "3.11.2"
  }
 },
 "nbformat": 4,
 "nbformat_minor": 4
}
