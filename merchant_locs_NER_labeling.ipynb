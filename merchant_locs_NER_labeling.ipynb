{
 "cells": [
  {
   "cell_type": "code",
   "execution_count": 4,
   "metadata": {
    "editable": true,
    "slideshow": {
     "slide_type": "slide"
    },
    "tags": []
   },
   "outputs": [],
   "source": [
    "import polars as pl\n",
    "import re\n",
    "\n",
    "from collections import Counter \n"
   ]
  },
  {
   "cell_type": "code",
   "execution_count": 354,
   "metadata": {},
   "outputs": [],
   "source": [
    "data = pl.read_csv('data/merchant_location_training.csv', separator=',', quote_char='\"')"
   ]
  },
  {
   "cell_type": "code",
   "execution_count": 351,
   "metadata": {},
   "outputs": [],
   "source": [
    "data = pl.read_csv('data/merchant_locs_train.csv', separator=',', quote_char='\"')"
   ]
  },
  {
   "cell_type": "code",
   "execution_count": 353,
   "metadata": {},
   "outputs": [
    {
     "data": {
      "text/html": [
       "<div><style>\n",
       ".dataframe > thead > tr,\n",
       ".dataframe > tbody > tr {\n",
       "  text-align: right;\n",
       "  white-space: pre-wrap;\n",
       "}\n",
       "</style>\n",
       "<small>shape: (2_373_230, 4)</small><table border=\"1\" class=\"dataframe\"><thead><tr><th>source</th><th>merchant_name</th><th>merchant_location</th><th>online_offline_flag</th></tr><tr><td>str</td><td>str</td><td>str</td><td>str</td></tr></thead><tbody><tr><td>&quot;CREDIT_CARD&quot;</td><td>&quot;YOG3102 POP MART DR WAHIDYOGYA…</td><td>null</td><td>&quot;ONLINE&quot;</td></tr><tr><td>&quot;QRIS_WONDR&quot;</td><td>&quot;ANIMO BAKERY&quot;</td><td>&quot;TANGERANG&quot;</td><td>&quot;OFFLINE&quot;</td></tr><tr><td>&quot;QRIS_WONDR&quot;</td><td>&quot;APOTEK 92 FARMA&quot;</td><td>&quot;SURABAYA (KOTA)&quot;</td><td>&quot;OFFLINE&quot;</td></tr><tr><td>&quot;QRIS_WONDR&quot;</td><td>&quot;CHATERAISE HIVE KHI&quot;</td><td>&quot;BEKASI&quot;</td><td>&quot;OFFLINE&quot;</td></tr><tr><td>&quot;QRIS_WONDR&quot;</td><td>&quot;FOTOCOPY ALFATTAH MASTRIP&quot;</td><td>&quot;KAB. JEMBER&quot;</td><td>&quot;OFFLINE&quot;</td></tr><tr><td>&hellip;</td><td>&hellip;</td><td>&hellip;</td><td>&hellip;</td></tr><tr><td>&quot;QRIS_WONDR&quot;</td><td>&quot;JUICE KABITA, DASANA INDA&quot;</td><td>&quot;TANGERANG&quot;</td><td>&quot;OFFLINE&quot;</td></tr><tr><td>&quot;CREDIT_CARD&quot;</td><td>&quot;TRAVELOKA*1202604564 JAKARTA I…</td><td>null</td><td>&quot;ONLINE&quot;</td></tr><tr><td>&quot;QRIS_WONDR&quot;</td><td>&quot;KEDAI LINGGA&quot;</td><td>&quot;SUMEDANG&quot;</td><td>&quot;OFFLINE&quot;</td></tr><tr><td>&quot;QRIS_WONDR&quot;</td><td>&quot;MUTIARA MANDIRI COLL&quot;</td><td>&quot;MOJOKERTO&quot;</td><td>&quot;OFFLINE&quot;</td></tr><tr><td>&quot;QRIS_WONDR&quot;</td><td>&quot;CHIGO X FLIP&quot;</td><td>&quot;BANDAR LAMPUNG&quot;</td><td>&quot;OFFLINE&quot;</td></tr></tbody></table></div>"
      ],
      "text/plain": [
       "shape: (2_373_230, 4)\n",
       "┌─────────────┬─────────────────────────────────┬───────────────────┬─────────────────────┐\n",
       "│ source      ┆ merchant_name                   ┆ merchant_location ┆ online_offline_flag │\n",
       "│ ---         ┆ ---                             ┆ ---               ┆ ---                 │\n",
       "│ str         ┆ str                             ┆ str               ┆ str                 │\n",
       "╞═════════════╪═════════════════════════════════╪═══════════════════╪═════════════════════╡\n",
       "│ CREDIT_CARD ┆ YOG3102 POP MART DR WAHIDYOGYA… ┆ null              ┆ ONLINE              │\n",
       "│ QRIS_WONDR  ┆ ANIMO BAKERY                    ┆ TANGERANG         ┆ OFFLINE             │\n",
       "│ QRIS_WONDR  ┆ APOTEK 92 FARMA                 ┆ SURABAYA (KOTA)   ┆ OFFLINE             │\n",
       "│ QRIS_WONDR  ┆ CHATERAISE HIVE KHI             ┆ BEKASI            ┆ OFFLINE             │\n",
       "│ QRIS_WONDR  ┆ FOTOCOPY ALFATTAH MASTRIP       ┆ KAB. JEMBER       ┆ OFFLINE             │\n",
       "│ …           ┆ …                               ┆ …                 ┆ …                   │\n",
       "│ QRIS_WONDR  ┆ JUICE KABITA, DASANA INDA       ┆ TANGERANG         ┆ OFFLINE             │\n",
       "│ CREDIT_CARD ┆ TRAVELOKA*1202604564 JAKARTA I… ┆ null              ┆ ONLINE              │\n",
       "│ QRIS_WONDR  ┆ KEDAI LINGGA                    ┆ SUMEDANG          ┆ OFFLINE             │\n",
       "│ QRIS_WONDR  ┆ MUTIARA MANDIRI COLL            ┆ MOJOKERTO         ┆ OFFLINE             │\n",
       "│ QRIS_WONDR  ┆ CHIGO X FLIP                    ┆ BANDAR LAMPUNG    ┆ OFFLINE             │\n",
       "└─────────────┴─────────────────────────────────┴───────────────────┴─────────────────────┘"
      ]
     },
     "execution_count": 353,
     "metadata": {},
     "output_type": "execute_result"
    }
   ],
   "source": [
    "data"
   ]
  },
  {
   "cell_type": "code",
   "execution_count": 4,
   "metadata": {
    "editable": true,
    "slideshow": {
     "slide_type": ""
    },
    "tags": []
   },
   "outputs": [
    {
     "data": {
      "text/html": [
       "<div><style>\n",
       ".dataframe > thead > tr,\n",
       ".dataframe > tbody > tr {\n",
       "  text-align: right;\n",
       "  white-space: pre-wrap;\n",
       "}\n",
       "</style>\n",
       "<small>shape: (2, 2)</small><table border=\"1\" class=\"dataframe\"><thead><tr><th>online_offline_flag</th><th>count</th></tr><tr><td>str</td><td>u32</td></tr></thead><tbody><tr><td>null</td><td>443739</td></tr><tr><td>&quot;OFFLINE&quot;</td><td>1573240</td></tr></tbody></table></div>"
      ],
      "text/plain": [
       "shape: (2, 2)\n",
       "┌─────────────────────┬─────────┐\n",
       "│ online_offline_flag ┆ count   │\n",
       "│ ---                 ┆ ---     │\n",
       "│ str                 ┆ u32     │\n",
       "╞═════════════════════╪═════════╡\n",
       "│ null                ┆ 443739  │\n",
       "│ OFFLINE             ┆ 1573240 │\n",
       "└─────────────────────┴─────────┘"
      ]
     },
     "execution_count": 4,
     "metadata": {},
     "output_type": "execute_result"
    }
   ],
   "source": [
    "data['online_offline_flag'].value_counts()"
   ]
  },
  {
   "cell_type": "code",
   "execution_count": 4,
   "metadata": {
    "editable": true,
    "slideshow": {
     "slide_type": ""
    },
    "tags": []
   },
   "outputs": [
    {
     "data": {
      "text/html": [
       "<div><style>\n",
       ".dataframe > thead > tr,\n",
       ".dataframe > tbody > tr {\n",
       "  text-align: right;\n",
       "  white-space: pre-wrap;\n",
       "}\n",
       "</style>\n",
       "<small>shape: (492_245, 4)</small><table border=\"1\" class=\"dataframe\"><thead><tr><th>source</th><th>merchant_name</th><th>merchant_location</th><th>online_offline_flag</th></tr><tr><td>str</td><td>str</td><td>str</td><td>str</td></tr></thead><tbody><tr><td>&quot;CREDIT_CARD&quot;</td><td>&quot;CHOP BUNTUT CAK YO SLEMAN (KAB…</td><td>null</td><td>null</td></tr><tr><td>&quot;CREDIT_CARD&quot;</td><td>&quot;TBL* THE SEED LEVEL AMSTERDAM …</td><td>null</td><td>null</td></tr><tr><td>&quot;CREDIT_CARD&quot;</td><td>&quot;SILOAM CLINIC GRH RAYA TANGERA…</td><td>null</td><td>null</td></tr><tr><td>&quot;CREDIT_CARD&quot;</td><td>&quot;SWALAYAN ZOOM MBL TANJUNG PINA…</td><td>null</td><td>null</td></tr><tr><td>&quot;CREDIT_CARD&quot;</td><td>&quot;PEDRO SUN PLAZA MEDAN MEDAN KO…</td><td>null</td><td>null</td></tr><tr><td>&hellip;</td><td>&hellip;</td><td>&hellip;</td><td>&hellip;</td></tr><tr><td>&quot;CREDIT_CARD&quot;</td><td>&quot;AUSSIE TOYS ONLINE PAKENHAM AU&quot;</td><td>null</td><td>null</td></tr><tr><td>&quot;CREDIT_CARD&quot;</td><td>&quot;TOKO EMAS GINBERS MEDAN KOT. I…</td><td>null</td><td>&quot;OFFLINE&quot;</td></tr><tr><td>&quot;CREDIT_CARD&quot;</td><td>&quot;BINTANG SPORT SERANG (KOTA)ID&quot;</td><td>null</td><td>null</td></tr><tr><td>&quot;CREDIT_CARD&quot;</td><td>&quot;ACE HARDWARE MALL PI I JAKARTA…</td><td>null</td><td>null</td></tr><tr><td>&quot;CREDIT_CARD&quot;</td><td>&quot;IDM TJAJ LOMBOK TIMUR ID&quot;</td><td>null</td><td>&quot;OFFLINE&quot;</td></tr></tbody></table></div>"
      ],
      "text/plain": [
       "shape: (492_245, 4)\n",
       "┌─────────────┬─────────────────────────────────┬───────────────────┬─────────────────────┐\n",
       "│ source      ┆ merchant_name                   ┆ merchant_location ┆ online_offline_flag │\n",
       "│ ---         ┆ ---                             ┆ ---               ┆ ---                 │\n",
       "│ str         ┆ str                             ┆ str               ┆ str                 │\n",
       "╞═════════════╪═════════════════════════════════╪═══════════════════╪═════════════════════╡\n",
       "│ CREDIT_CARD ┆ CHOP BUNTUT CAK YO SLEMAN (KAB… ┆ null              ┆ null                │\n",
       "│ CREDIT_CARD ┆ TBL* THE SEED LEVEL AMSTERDAM … ┆ null              ┆ null                │\n",
       "│ CREDIT_CARD ┆ SILOAM CLINIC GRH RAYA TANGERA… ┆ null              ┆ null                │\n",
       "│ CREDIT_CARD ┆ SWALAYAN ZOOM MBL TANJUNG PINA… ┆ null              ┆ null                │\n",
       "│ CREDIT_CARD ┆ PEDRO SUN PLAZA MEDAN MEDAN KO… ┆ null              ┆ null                │\n",
       "│ …           ┆ …                               ┆ …                 ┆ …                   │\n",
       "│ CREDIT_CARD ┆ AUSSIE TOYS ONLINE PAKENHAM AU  ┆ null              ┆ null                │\n",
       "│ CREDIT_CARD ┆ TOKO EMAS GINBERS MEDAN KOT. I… ┆ null              ┆ OFFLINE             │\n",
       "│ CREDIT_CARD ┆ BINTANG SPORT SERANG (KOTA)ID   ┆ null              ┆ null                │\n",
       "│ CREDIT_CARD ┆ ACE HARDWARE MALL PI I JAKARTA… ┆ null              ┆ null                │\n",
       "│ CREDIT_CARD ┆ IDM TJAJ LOMBOK TIMUR ID        ┆ null              ┆ OFFLINE             │\n",
       "└─────────────┴─────────────────────────────────┴───────────────────┴─────────────────────┘"
      ]
     },
     "execution_count": 4,
     "metadata": {},
     "output_type": "execute_result"
    }
   ],
   "source": [
    "data.filter(pl.col('merchant_location').is_null())"
   ]
  },
  {
   "cell_type": "code",
   "execution_count": 5,
   "metadata": {},
   "outputs": [],
   "source": [
    "data.filter(pl.col('merchant_location').is_not_null()).sample(10000).sort('merchant_name').write_csv('data_exploration/not_null_merchant_locations.csv')"
   ]
  },
  {
   "cell_type": "markdown",
   "metadata": {
    "editable": true,
    "slideshow": {
     "slide_type": ""
    },
    "tags": []
   },
   "source": [
    "# CREATE NER LABELS\n",
    "\n",
    "1. Country Label (ID, JP) ISO 3166-1 alpha-2\n",
    "2. City Label\n",
    "3. Area Label\n",
    "4. Merchant Name"
   ]
  },
  {
   "cell_type": "code",
   "execution_count": 4,
   "metadata": {},
   "outputs": [],
   "source": [
    "#for merchant with known location, \n",
    "#we assume the country code is ID, city label is the merchant_location, and merchant name is the merchant name\n",
    "data_location_known = data.filter(pl.col(\"merchant_location\").is_not_null()) \n",
    "data_location_unknown = data.filter(pl.col(\"merchant_location\").is_null())"
   ]
  },
  {
   "cell_type": "code",
   "execution_count": 5,
   "metadata": {
    "editable": true,
    "slideshow": {
     "slide_type": ""
    },
    "tags": []
   },
   "outputs": [],
   "source": [
    "# split the merchant name into country, city, merchant_name\n",
    "# \n",
    "# def split_backward(text):\n",
    "#     splitted = []\n",
    "#     element = \"\"\n",
    "#     split_count = 0\n",
    "#     for i, c in enumerate(reversed(text)):\n",
    "#         if split_count == 2:\n",
    "#             element += c\n",
    "#             if i == len(text) -1:\n",
    "#                 splitted.append(element[::-1])\n",
    "        \n",
    "#         elif c == \" \":\n",
    "#             splitted.append(element[::-1])\n",
    "#             element = \"\"\n",
    "#             split_count += 1\n",
    "#         else:\n",
    "#             element += c\n",
    "\n",
    "#     return splitted\n",
    "\n",
    "def get_word_ngram(text, n):\n",
    "    words = text.split()\n",
    "    if len(words) < n:\n",
    "        return []\n",
    "        \n",
    "    return [tuple(words[i:i+n]) for i in range(len(words) - n + 1)]\n",
    "\n",
    "def split_logically(text):\n",
    "\n",
    "    remainder = text\n",
    "    # last two characters are country id\n",
    "    country_id = remainder[len(text)-2] + remainder[len(text)-1]\n",
    "    remainder = text[:len(text)-2].lower()\n",
    "\n",
    "    #return country_id, get_word_ngram(remainder.strip(),1)\n",
    "    return country_id, re.split(r\"\\s+\", re.sub(r'[^a-zA-Z0-9\\s]','',remainder).strip())\n"
   ]
  },
  {
   "cell_type": "code",
   "execution_count": 6,
   "metadata": {
    "editable": true,
    "slideshow": {
     "slide_type": ""
    },
    "tags": []
   },
   "outputs": [],
   "source": [
    "data_location_unknown = data_location_unknown.with_columns(\n",
    "    pl.col(\"merchant_name\").map_elements(lambda x: split_logically(x)[0], return_dtype = pl.String).alias(\"country_code\"),\n",
    "    pl.col(\"merchant_name\").map_elements(lambda x: split_logically(x)[1], return_dtype = pl.List(pl.String)).alias(\"word_list\"),  \n",
    ")"
   ]
  },
  {
   "cell_type": "code",
   "execution_count": 45,
   "metadata": {
    "editable": true,
    "slideshow": {
     "slide_type": ""
    },
    "tags": []
   },
   "outputs": [],
   "source": [
    "data_location_unknown.sample(1000).write_json(\"data_exploration/split_1.json\")"
   ]
  },
  {
   "cell_type": "code",
   "execution_count": 7,
   "metadata": {
    "editable": true,
    "slideshow": {
     "slide_type": ""
    },
    "tags": []
   },
   "outputs": [
    {
     "data": {
      "text/html": [
       "<div><style>\n",
       ".dataframe > thead > tr,\n",
       ".dataframe > tbody > tr {\n",
       "  text-align: right;\n",
       "  white-space: pre-wrap;\n",
       "}\n",
       "</style>\n",
       "<small>shape: (1, 6)</small><table border=\"1\" class=\"dataframe\"><thead><tr><th>source</th><th>merchant_name</th><th>merchant_location</th><th>online_offline_flag</th><th>country_code</th><th>word_list</th></tr><tr><td>str</td><td>str</td><td>str</td><td>str</td><td>str</td><td>list[str]</td></tr></thead><tbody><tr><td>&quot;CREDIT_CARD&quot;</td><td>&quot;W519 ALFAMART KRUENG M LHOKSEU…</td><td>null</td><td>&quot;OFFLINE&quot;</td><td>&quot;ID&quot;</td><td>[&quot;w519&quot;, &quot;alfamart&quot;, … &quot;lhokseumawe&quot;]</td></tr></tbody></table></div>"
      ],
      "text/plain": [
       "shape: (1, 6)\n",
       "┌─────────────┬─────────────────┬─────────────────┬────────────────┬──────────────┬────────────────┐\n",
       "│ source      ┆ merchant_name   ┆ merchant_locati ┆ online_offline ┆ country_code ┆ word_list      │\n",
       "│ ---         ┆ ---             ┆ on              ┆ _flag          ┆ ---          ┆ ---            │\n",
       "│ str         ┆ str             ┆ ---             ┆ ---            ┆ str          ┆ list[str]      │\n",
       "│             ┆                 ┆ str             ┆ str            ┆              ┆                │\n",
       "╞═════════════╪═════════════════╪═════════════════╪════════════════╪══════════════╪════════════════╡\n",
       "│ CREDIT_CARD ┆ W519 ALFAMART   ┆ null            ┆ OFFLINE        ┆ ID           ┆ [\"w519\",       │\n",
       "│             ┆ KRUENG M        ┆                 ┆                ┆              ┆ \"alfamart\", …  │\n",
       "│             ┆ LHOKSEU…        ┆                 ┆                ┆              ┆ \"lhokse…       │\n",
       "└─────────────┴─────────────────┴─────────────────┴────────────────┴──────────────┴────────────────┘"
      ]
     },
     "execution_count": 7,
     "metadata": {},
     "output_type": "execute_result"
    }
   ],
   "source": [
    "data_location_unknown[45]"
   ]
  },
  {
   "cell_type": "code",
   "execution_count": 111,
   "metadata": {},
   "outputs": [
    {
     "data": {
      "text/plain": [
       "'W519 ALFAMART KRUENG M LHOKSEUMAWE'"
      ]
     },
     "execution_count": 111,
     "metadata": {},
     "output_type": "execute_result"
    }
   ],
   "source": [
    "re.sub(r'[^a-zA-Z0-9\\s]','', \"W519 ALFAMART KRUENG M LHOKSEUMAWE (\").strip()"
   ]
  },
  {
   "cell_type": "code",
   "execution_count": 186,
   "metadata": {
    "editable": true,
    "slideshow": {
     "slide_type": ""
    },
    "tags": []
   },
   "outputs": [
    {
     "data": {
      "text/html": [
       "<div><style>\n",
       ".dataframe > thead > tr,\n",
       ".dataframe > tbody > tr {\n",
       "  text-align: right;\n",
       "  white-space: pre-wrap;\n",
       "}\n",
       "</style>\n",
       "<small>shape: (223, 2)</small><table border=\"1\" class=\"dataframe\"><thead><tr><th>country_code</th><th>count</th></tr><tr><td>str</td><td>u32</td></tr></thead><tbody><tr><td>&quot;DO&quot;</td><td>12</td></tr><tr><td>&quot;YA&quot;</td><td>4</td></tr><tr><td>&quot;KN&quot;</td><td>5</td></tr><tr><td>&quot;LL&quot;</td><td>1</td></tr><tr><td>&quot;I.&quot;</td><td>1</td></tr><tr><td>&hellip;</td><td>&hellip;</td></tr><tr><td>&quot;SE&quot;</td><td>651</td></tr><tr><td>&quot;JP&quot;</td><td>17203</td></tr><tr><td>&quot;GP&quot;</td><td>1</td></tr><tr><td>&quot;JO&quot;</td><td>91</td></tr><tr><td>&quot;KG&quot;</td><td>6</td></tr></tbody></table></div>"
      ],
      "text/plain": [
       "shape: (223, 2)\n",
       "┌──────────────┬───────┐\n",
       "│ country_code ┆ count │\n",
       "│ ---          ┆ ---   │\n",
       "│ str          ┆ u32   │\n",
       "╞══════════════╪═══════╡\n",
       "│ DO           ┆ 12    │\n",
       "│ YA           ┆ 4     │\n",
       "│ KN           ┆ 5     │\n",
       "│ LL           ┆ 1     │\n",
       "│ I.           ┆ 1     │\n",
       "│ …            ┆ …     │\n",
       "│ SE           ┆ 651   │\n",
       "│ JP           ┆ 17203 │\n",
       "│ GP           ┆ 1     │\n",
       "│ JO           ┆ 91    │\n",
       "│ KG           ┆ 6     │\n",
       "└──────────────┴───────┘"
      ]
     },
     "execution_count": 186,
     "metadata": {},
     "output_type": "execute_result"
    }
   ],
   "source": [
    "data_location_unknown['country_code'].value_counts()"
   ]
  },
  {
   "cell_type": "code",
   "execution_count": 380,
   "metadata": {},
   "outputs": [
    {
     "data": {
      "text/html": [
       "<div><style>\n",
       ".dataframe > thead > tr,\n",
       ".dataframe > tbody > tr {\n",
       "  text-align: right;\n",
       "  white-space: pre-wrap;\n",
       "}\n",
       "</style>\n",
       "<small>shape: (1,)</small><table border=\"1\" class=\"dataframe\"><thead><tr><th>word_list</th></tr><tr><td>list[str]</td></tr></thead><tbody><tr><td>[&quot;iboxaasp&quot;, &quot;dago&quot;, &quot;bandung&quot;]</td></tr></tbody></table></div>"
      ],
      "text/plain": [
       "shape: (1,)\n",
       "Series: 'word_list' [list[str]]\n",
       "[\n",
       "\t[\"iboxaasp\", \"dago\", \"bandung\"]\n",
       "]"
      ]
     },
     "execution_count": 380,
     "metadata": {},
     "output_type": "execute_result"
    }
   ],
   "source": [
    "data_location_unknown.filter(pl.col('country_code')== 'ID').sample(1)['word_list']"
   ]
  },
  {
   "cell_type": "markdown",
   "metadata": {},
   "source": [
    "# CREATE DICTIONARY OF INDONESIAN LOCATIONS"
   ]
  },
  {
   "cell_type": "code",
   "execution_count": 2,
   "metadata": {},
   "outputs": [],
   "source": [
    "cities_regencies = pl.read_csv('data/regencies.csv', new_columns=['id', 'id_provinces', 'name'])"
   ]
  },
  {
   "cell_type": "code",
   "execution_count": 3,
   "metadata": {},
   "outputs": [
    {
     "data": {
      "text/html": [
       "<div><style>\n",
       ".dataframe > thead > tr,\n",
       ".dataframe > tbody > tr {\n",
       "  text-align: right;\n",
       "  white-space: pre-wrap;\n",
       "}\n",
       "</style>\n",
       "<small>shape: (513, 3)</small><table border=\"1\" class=\"dataframe\"><thead><tr><th>id</th><th>id_provinces</th><th>name</th></tr><tr><td>i64</td><td>i64</td><td>str</td></tr></thead><tbody><tr><td>1102</td><td>11</td><td>&quot;KABUPATEN ACEH SINGKIL&quot;</td></tr><tr><td>1103</td><td>11</td><td>&quot;KABUPATEN ACEH SELATAN&quot;</td></tr><tr><td>1104</td><td>11</td><td>&quot;KABUPATEN ACEH TENGGARA&quot;</td></tr><tr><td>1105</td><td>11</td><td>&quot;KABUPATEN ACEH TIMUR&quot;</td></tr><tr><td>1106</td><td>11</td><td>&quot;KABUPATEN ACEH TENGAH&quot;</td></tr><tr><td>&hellip;</td><td>&hellip;</td><td>&hellip;</td></tr><tr><td>9433</td><td>94</td><td>&quot;KABUPATEN PUNCAK&quot;</td></tr><tr><td>9434</td><td>94</td><td>&quot;KABUPATEN DOGIYAI&quot;</td></tr><tr><td>9435</td><td>94</td><td>&quot;KABUPATEN INTAN JAYA&quot;</td></tr><tr><td>9436</td><td>94</td><td>&quot;KABUPATEN DEIYAI&quot;</td></tr><tr><td>9471</td><td>94</td><td>&quot;KOTA JAYAPURA&quot;</td></tr></tbody></table></div>"
      ],
      "text/plain": [
       "shape: (513, 3)\n",
       "┌──────┬──────────────┬─────────────────────────┐\n",
       "│ id   ┆ id_provinces ┆ name                    │\n",
       "│ ---  ┆ ---          ┆ ---                     │\n",
       "│ i64  ┆ i64          ┆ str                     │\n",
       "╞══════╪══════════════╪═════════════════════════╡\n",
       "│ 1102 ┆ 11           ┆ KABUPATEN ACEH SINGKIL  │\n",
       "│ 1103 ┆ 11           ┆ KABUPATEN ACEH SELATAN  │\n",
       "│ 1104 ┆ 11           ┆ KABUPATEN ACEH TENGGARA │\n",
       "│ 1105 ┆ 11           ┆ KABUPATEN ACEH TIMUR    │\n",
       "│ 1106 ┆ 11           ┆ KABUPATEN ACEH TENGAH   │\n",
       "│ …    ┆ …            ┆ …                       │\n",
       "│ 9433 ┆ 94           ┆ KABUPATEN PUNCAK        │\n",
       "│ 9434 ┆ 94           ┆ KABUPATEN DOGIYAI       │\n",
       "│ 9435 ┆ 94           ┆ KABUPATEN INTAN JAYA    │\n",
       "│ 9436 ┆ 94           ┆ KABUPATEN DEIYAI        │\n",
       "│ 9471 ┆ 94           ┆ KOTA JAYAPURA           │\n",
       "└──────┴──────────────┴─────────────────────────┘"
      ]
     },
     "execution_count": 3,
     "metadata": {},
     "output_type": "execute_result"
    }
   ],
   "source": [
    "cities_regencies"
   ]
  },
  {
   "cell_type": "code",
   "execution_count": 4,
   "metadata": {},
   "outputs": [],
   "source": [
    "# ngram\n",
    "def get_word_ngram(text, n):\n",
    "    words = text.split()\n",
    "    if len(words) < n:\n",
    "        return []\n",
    "        \n",
    "    return [tuple(words[i:i+n]) for i in range(len(words) - n + 1)]\n",
    "\n",
    "def get_word_ngram_from_list(wordlist, n):\n",
    "    if len(wordlist) < n:\n",
    "        return []\n",
    "        \n",
    "    return [tuple(wordlist[i:i+n]) for i in range(len(wordlist) - n + 1)]\n",
    "\n",
    "def get_char_ngrams(text, n):\n",
    "    \"\"\"Generate character n-grams from text.\"\"\"\n",
    "    # Convert text to lowercase and remove spaces for character-level comparison\n",
    "    text = text.lower().replace(\" \", \"\")\n",
    "    return [text[i:i+n] for i in range(len(text) - n + 1)]"
   ]
  },
  {
   "cell_type": "code",
   "execution_count": 5,
   "metadata": {},
   "outputs": [],
   "source": [
    "cities_regencies = cities_regencies.with_columns(\n",
    "    pl.col('name').str.replace(r'(KABUPATEN|KOTA)','').str.strip_chars().alias('name_clean')\n",
    ")"
   ]
  },
  {
   "cell_type": "code",
   "execution_count": 6,
   "metadata": {},
   "outputs": [
    {
     "data": {
      "text/html": [
       "<div><style>\n",
       ".dataframe > thead > tr,\n",
       ".dataframe > tbody > tr {\n",
       "  text-align: right;\n",
       "  white-space: pre-wrap;\n",
       "}\n",
       "</style>\n",
       "<small>shape: (513, 4)</small><table border=\"1\" class=\"dataframe\"><thead><tr><th>id</th><th>id_provinces</th><th>name</th><th>name_clean</th></tr><tr><td>i64</td><td>i64</td><td>str</td><td>str</td></tr></thead><tbody><tr><td>1102</td><td>11</td><td>&quot;KABUPATEN ACEH SINGKIL&quot;</td><td>&quot;ACEH SINGKIL&quot;</td></tr><tr><td>1103</td><td>11</td><td>&quot;KABUPATEN ACEH SELATAN&quot;</td><td>&quot;ACEH SELATAN&quot;</td></tr><tr><td>1104</td><td>11</td><td>&quot;KABUPATEN ACEH TENGGARA&quot;</td><td>&quot;ACEH TENGGARA&quot;</td></tr><tr><td>1105</td><td>11</td><td>&quot;KABUPATEN ACEH TIMUR&quot;</td><td>&quot;ACEH TIMUR&quot;</td></tr><tr><td>1106</td><td>11</td><td>&quot;KABUPATEN ACEH TENGAH&quot;</td><td>&quot;ACEH TENGAH&quot;</td></tr><tr><td>&hellip;</td><td>&hellip;</td><td>&hellip;</td><td>&hellip;</td></tr><tr><td>9433</td><td>94</td><td>&quot;KABUPATEN PUNCAK&quot;</td><td>&quot;PUNCAK&quot;</td></tr><tr><td>9434</td><td>94</td><td>&quot;KABUPATEN DOGIYAI&quot;</td><td>&quot;DOGIYAI&quot;</td></tr><tr><td>9435</td><td>94</td><td>&quot;KABUPATEN INTAN JAYA&quot;</td><td>&quot;INTAN JAYA&quot;</td></tr><tr><td>9436</td><td>94</td><td>&quot;KABUPATEN DEIYAI&quot;</td><td>&quot;DEIYAI&quot;</td></tr><tr><td>9471</td><td>94</td><td>&quot;KOTA JAYAPURA&quot;</td><td>&quot;JAYAPURA&quot;</td></tr></tbody></table></div>"
      ],
      "text/plain": [
       "shape: (513, 4)\n",
       "┌──────┬──────────────┬─────────────────────────┬───────────────┐\n",
       "│ id   ┆ id_provinces ┆ name                    ┆ name_clean    │\n",
       "│ ---  ┆ ---          ┆ ---                     ┆ ---           │\n",
       "│ i64  ┆ i64          ┆ str                     ┆ str           │\n",
       "╞══════╪══════════════╪═════════════════════════╪═══════════════╡\n",
       "│ 1102 ┆ 11           ┆ KABUPATEN ACEH SINGKIL  ┆ ACEH SINGKIL  │\n",
       "│ 1103 ┆ 11           ┆ KABUPATEN ACEH SELATAN  ┆ ACEH SELATAN  │\n",
       "│ 1104 ┆ 11           ┆ KABUPATEN ACEH TENGGARA ┆ ACEH TENGGARA │\n",
       "│ 1105 ┆ 11           ┆ KABUPATEN ACEH TIMUR    ┆ ACEH TIMUR    │\n",
       "│ 1106 ┆ 11           ┆ KABUPATEN ACEH TENGAH   ┆ ACEH TENGAH   │\n",
       "│ …    ┆ …            ┆ …                       ┆ …             │\n",
       "│ 9433 ┆ 94           ┆ KABUPATEN PUNCAK        ┆ PUNCAK        │\n",
       "│ 9434 ┆ 94           ┆ KABUPATEN DOGIYAI       ┆ DOGIYAI       │\n",
       "│ 9435 ┆ 94           ┆ KABUPATEN INTAN JAYA    ┆ INTAN JAYA    │\n",
       "│ 9436 ┆ 94           ┆ KABUPATEN DEIYAI        ┆ DEIYAI        │\n",
       "│ 9471 ┆ 94           ┆ KOTA JAYAPURA           ┆ JAYAPURA      │\n",
       "└──────┴──────────────┴─────────────────────────┴───────────────┘"
      ]
     },
     "execution_count": 6,
     "metadata": {},
     "output_type": "execute_result"
    }
   ],
   "source": [
    "cities_regencies"
   ]
  },
  {
   "cell_type": "code",
   "execution_count": 7,
   "metadata": {},
   "outputs": [],
   "source": [
    "cities_regencies = cities_regencies.with_columns(\n",
    "    pl.col('name_clean').map_elements(lambda x: get_char_ngrams(x,1), return_dtype=pl.Object).alias('unigram'),\n",
    "    pl.col('name_clean').map_elements(lambda x: get_char_ngrams(x,2), return_dtype=pl.Object).alias('bigram'),\n",
    "    pl.col('name_clean').map_elements(lambda x: get_char_ngrams(x,3), return_dtype=pl.Object).alias('trigram'),\n",
    ")"
   ]
  },
  {
   "cell_type": "code",
   "execution_count": 8,
   "metadata": {},
   "outputs": [
    {
     "data": {
      "text/html": [
       "<div><style>\n",
       ".dataframe > thead > tr,\n",
       ".dataframe > tbody > tr {\n",
       "  text-align: right;\n",
       "  white-space: pre-wrap;\n",
       "}\n",
       "</style>\n",
       "<small>shape: (513, 7)</small><table border=\"1\" class=\"dataframe\"><thead><tr><th>id</th><th>id_provinces</th><th>name</th><th>name_clean</th><th>unigram</th><th>bigram</th><th>trigram</th></tr><tr><td>i64</td><td>i64</td><td>str</td><td>str</td><td>object</td><td>object</td><td>object</td></tr></thead><tbody><tr><td>1102</td><td>11</td><td>&quot;KABUPATEN ACEH SINGKIL&quot;</td><td>&quot;ACEH SINGKIL&quot;</td><td>[&#x27;a&#x27;, &#x27;c&#x27;, &#x27;e&#x27;, &#x27;h&#x27;, &#x27;s&#x27;, &#x27;i&#x27;, &#x27;n&#x27;, &#x27;g&#x27;, &#x27;k&#x27;, &#x27;i&#x27;, &#x27;l&#x27;]</td><td>[&#x27;ac&#x27;, &#x27;ce&#x27;, &#x27;eh&#x27;, &#x27;hs&#x27;, &#x27;si&#x27;, &#x27;in&#x27;, &#x27;ng&#x27;, &#x27;gk&#x27;, &#x27;ki&#x27;, &#x27;il&#x27;]</td><td>[&#x27;ace&#x27;, &#x27;ceh&#x27;, &#x27;ehs&#x27;, &#x27;hsi&#x27;, &#x27;sin&#x27;, &#x27;ing&#x27;, &#x27;ngk&#x27;, &#x27;gki&#x27;, &#x27;kil&#x27;]</td></tr><tr><td>1103</td><td>11</td><td>&quot;KABUPATEN ACEH SELATAN&quot;</td><td>&quot;ACEH SELATAN&quot;</td><td>[&#x27;a&#x27;, &#x27;c&#x27;, &#x27;e&#x27;, &#x27;h&#x27;, &#x27;s&#x27;, &#x27;e&#x27;, &#x27;l&#x27;, &#x27;a&#x27;, &#x27;t&#x27;, &#x27;a&#x27;, &#x27;n&#x27;]</td><td>[&#x27;ac&#x27;, &#x27;ce&#x27;, &#x27;eh&#x27;, &#x27;hs&#x27;, &#x27;se&#x27;, &#x27;el&#x27;, &#x27;la&#x27;, &#x27;at&#x27;, &#x27;ta&#x27;, &#x27;an&#x27;]</td><td>[&#x27;ace&#x27;, &#x27;ceh&#x27;, &#x27;ehs&#x27;, &#x27;hse&#x27;, &#x27;sel&#x27;, &#x27;ela&#x27;, &#x27;lat&#x27;, &#x27;ata&#x27;, &#x27;tan&#x27;]</td></tr><tr><td>1104</td><td>11</td><td>&quot;KABUPATEN ACEH TENGGARA&quot;</td><td>&quot;ACEH TENGGARA&quot;</td><td>[&#x27;a&#x27;, &#x27;c&#x27;, &#x27;e&#x27;, &#x27;h&#x27;, &#x27;t&#x27;, &#x27;e&#x27;, &#x27;n&#x27;, &#x27;g&#x27;, &#x27;g&#x27;, &#x27;a&#x27;, &#x27;r&#x27;, &#x27;a&#x27;]</td><td>[&#x27;ac&#x27;, &#x27;ce&#x27;, &#x27;eh&#x27;, &#x27;ht&#x27;, &#x27;te&#x27;, &#x27;en&#x27;, &#x27;ng&#x27;, &#x27;gg&#x27;, &#x27;ga&#x27;, &#x27;ar&#x27;, &#x27;ra&#x27;]</td><td>[&#x27;ace&#x27;, &#x27;ceh&#x27;, &#x27;eht&#x27;, &#x27;hte&#x27;, &#x27;ten&#x27;, &#x27;eng&#x27;, &#x27;ngg&#x27;, &#x27;gga&#x27;, &#x27;gar&#x27;, &#x27;ara&#x27;]</td></tr><tr><td>1105</td><td>11</td><td>&quot;KABUPATEN ACEH TIMUR&quot;</td><td>&quot;ACEH TIMUR&quot;</td><td>[&#x27;a&#x27;, &#x27;c&#x27;, &#x27;e&#x27;, &#x27;h&#x27;, &#x27;t&#x27;, &#x27;i&#x27;, &#x27;m&#x27;, &#x27;u&#x27;, &#x27;r&#x27;]</td><td>[&#x27;ac&#x27;, &#x27;ce&#x27;, &#x27;eh&#x27;, &#x27;ht&#x27;, &#x27;ti&#x27;, &#x27;im&#x27;, &#x27;mu&#x27;, &#x27;ur&#x27;]</td><td>[&#x27;ace&#x27;, &#x27;ceh&#x27;, &#x27;eht&#x27;, &#x27;hti&#x27;, &#x27;tim&#x27;, &#x27;imu&#x27;, &#x27;mur&#x27;]</td></tr><tr><td>1106</td><td>11</td><td>&quot;KABUPATEN ACEH TENGAH&quot;</td><td>&quot;ACEH TENGAH&quot;</td><td>[&#x27;a&#x27;, &#x27;c&#x27;, &#x27;e&#x27;, &#x27;h&#x27;, &#x27;t&#x27;, &#x27;e&#x27;, &#x27;n&#x27;, &#x27;g&#x27;, &#x27;a&#x27;, &#x27;h&#x27;]</td><td>[&#x27;ac&#x27;, &#x27;ce&#x27;, &#x27;eh&#x27;, &#x27;ht&#x27;, &#x27;te&#x27;, &#x27;en&#x27;, &#x27;ng&#x27;, &#x27;ga&#x27;, &#x27;ah&#x27;]</td><td>[&#x27;ace&#x27;, &#x27;ceh&#x27;, &#x27;eht&#x27;, &#x27;hte&#x27;, &#x27;ten&#x27;, &#x27;eng&#x27;, &#x27;nga&#x27;, &#x27;gah&#x27;]</td></tr><tr><td>&hellip;</td><td>&hellip;</td><td>&hellip;</td><td>&hellip;</td><td>&hellip;</td><td>&hellip;</td><td>&hellip;</td></tr><tr><td>9433</td><td>94</td><td>&quot;KABUPATEN PUNCAK&quot;</td><td>&quot;PUNCAK&quot;</td><td>[&#x27;p&#x27;, &#x27;u&#x27;, &#x27;n&#x27;, &#x27;c&#x27;, &#x27;a&#x27;, &#x27;k&#x27;]</td><td>[&#x27;pu&#x27;, &#x27;un&#x27;, &#x27;nc&#x27;, &#x27;ca&#x27;, &#x27;ak&#x27;]</td><td>[&#x27;pun&#x27;, &#x27;unc&#x27;, &#x27;nca&#x27;, &#x27;cak&#x27;]</td></tr><tr><td>9434</td><td>94</td><td>&quot;KABUPATEN DOGIYAI&quot;</td><td>&quot;DOGIYAI&quot;</td><td>[&#x27;d&#x27;, &#x27;o&#x27;, &#x27;g&#x27;, &#x27;i&#x27;, &#x27;y&#x27;, &#x27;a&#x27;, &#x27;i&#x27;]</td><td>[&#x27;do&#x27;, &#x27;og&#x27;, &#x27;gi&#x27;, &#x27;iy&#x27;, &#x27;ya&#x27;, &#x27;ai&#x27;]</td><td>[&#x27;dog&#x27;, &#x27;ogi&#x27;, &#x27;giy&#x27;, &#x27;iya&#x27;, &#x27;yai&#x27;]</td></tr><tr><td>9435</td><td>94</td><td>&quot;KABUPATEN INTAN JAYA&quot;</td><td>&quot;INTAN JAYA&quot;</td><td>[&#x27;i&#x27;, &#x27;n&#x27;, &#x27;t&#x27;, &#x27;a&#x27;, &#x27;n&#x27;, &#x27;j&#x27;, &#x27;a&#x27;, &#x27;y&#x27;, &#x27;a&#x27;]</td><td>[&#x27;in&#x27;, &#x27;nt&#x27;, &#x27;ta&#x27;, &#x27;an&#x27;, &#x27;nj&#x27;, &#x27;ja&#x27;, &#x27;ay&#x27;, &#x27;ya&#x27;]</td><td>[&#x27;int&#x27;, &#x27;nta&#x27;, &#x27;tan&#x27;, &#x27;anj&#x27;, &#x27;nja&#x27;, &#x27;jay&#x27;, &#x27;aya&#x27;]</td></tr><tr><td>9436</td><td>94</td><td>&quot;KABUPATEN DEIYAI&quot;</td><td>&quot;DEIYAI&quot;</td><td>[&#x27;d&#x27;, &#x27;e&#x27;, &#x27;i&#x27;, &#x27;y&#x27;, &#x27;a&#x27;, &#x27;i&#x27;]</td><td>[&#x27;de&#x27;, &#x27;ei&#x27;, &#x27;iy&#x27;, &#x27;ya&#x27;, &#x27;ai&#x27;]</td><td>[&#x27;dei&#x27;, &#x27;eiy&#x27;, &#x27;iya&#x27;, &#x27;yai&#x27;]</td></tr><tr><td>9471</td><td>94</td><td>&quot;KOTA JAYAPURA&quot;</td><td>&quot;JAYAPURA&quot;</td><td>[&#x27;j&#x27;, &#x27;a&#x27;, &#x27;y&#x27;, &#x27;a&#x27;, &#x27;p&#x27;, &#x27;u&#x27;, &#x27;r&#x27;, &#x27;a&#x27;]</td><td>[&#x27;ja&#x27;, &#x27;ay&#x27;, &#x27;ya&#x27;, &#x27;ap&#x27;, &#x27;pu&#x27;, &#x27;ur&#x27;, &#x27;ra&#x27;]</td><td>[&#x27;jay&#x27;, &#x27;aya&#x27;, &#x27;yap&#x27;, &#x27;apu&#x27;, &#x27;pur&#x27;, &#x27;ura&#x27;]</td></tr></tbody></table></div>"
      ],
      "text/plain": [
       "shape: (513, 7)\n",
       "┌──────┬──────────────┬─────────────────┬────────────────┬────────────┬────────────────┬───────────┐\n",
       "│ id   ┆ id_provinces ┆ name            ┆ name_clean     ┆ unigram    ┆ bigram         ┆ trigram   │\n",
       "│ ---  ┆ ---          ┆ ---             ┆ ---            ┆ ---        ┆ ---            ┆ ---       │\n",
       "│ i64  ┆ i64          ┆ str             ┆ str            ┆ object     ┆ object         ┆ object    │\n",
       "╞══════╪══════════════╪═════════════════╪════════════════╪════════════╪════════════════╪═══════════╡\n",
       "│ 1102 ┆ 11           ┆ KABUPATEN ACEH  ┆ ACEH SINGKIL   ┆ ['a', 'c', ┆ ['ac', 'ce',   ┆ ['ace',   │\n",
       "│      ┆              ┆ SINGKIL         ┆                ┆ 'e', 'h',  ┆ 'eh', 'hs',    ┆ 'ceh',    │\n",
       "│      ┆              ┆                 ┆                ┆ 's', 'i',… ┆ 'si',…         ┆ 'ehs',    │\n",
       "│      ┆              ┆                 ┆                ┆            ┆                ┆ 'hsi', '… │\n",
       "│ 1103 ┆ 11           ┆ KABUPATEN ACEH  ┆ ACEH SELATAN   ┆ ['a', 'c', ┆ ['ac', 'ce',   ┆ ['ace',   │\n",
       "│      ┆              ┆ SELATAN         ┆                ┆ 'e', 'h',  ┆ 'eh', 'hs',    ┆ 'ceh',    │\n",
       "│      ┆              ┆                 ┆                ┆ 's', 'e',… ┆ 'se',…         ┆ 'ehs',    │\n",
       "│      ┆              ┆                 ┆                ┆            ┆                ┆ 'hse', '… │\n",
       "│ 1104 ┆ 11           ┆ KABUPATEN ACEH  ┆ ACEH TENGGARA  ┆ ['a', 'c', ┆ ['ac', 'ce',   ┆ ['ace',   │\n",
       "│      ┆              ┆ TENGGARA        ┆                ┆ 'e', 'h',  ┆ 'eh', 'ht',    ┆ 'ceh',    │\n",
       "│      ┆              ┆                 ┆                ┆ 't', 'e',… ┆ 'te',…         ┆ 'eht',    │\n",
       "│      ┆              ┆                 ┆                ┆            ┆                ┆ 'hte', '… │\n",
       "│ 1105 ┆ 11           ┆ KABUPATEN ACEH  ┆ ACEH TIMUR     ┆ ['a', 'c', ┆ ['ac', 'ce',   ┆ ['ace',   │\n",
       "│      ┆              ┆ TIMUR           ┆                ┆ 'e', 'h',  ┆ 'eh', 'ht',    ┆ 'ceh',    │\n",
       "│      ┆              ┆                 ┆                ┆ 't', 'i',… ┆ 'ti',…         ┆ 'eht',    │\n",
       "│      ┆              ┆                 ┆                ┆            ┆                ┆ 'hti', '… │\n",
       "│ 1106 ┆ 11           ┆ KABUPATEN ACEH  ┆ ACEH TENGAH    ┆ ['a', 'c', ┆ ['ac', 'ce',   ┆ ['ace',   │\n",
       "│      ┆              ┆ TENGAH          ┆                ┆ 'e', 'h',  ┆ 'eh', 'ht',    ┆ 'ceh',    │\n",
       "│      ┆              ┆                 ┆                ┆ 't', 'e',… ┆ 'te',…         ┆ 'eht',    │\n",
       "│      ┆              ┆                 ┆                ┆            ┆                ┆ 'hte', '… │\n",
       "│ …    ┆ …            ┆ …               ┆ …              ┆ …          ┆ …              ┆ …         │\n",
       "│ 9433 ┆ 94           ┆ KABUPATEN       ┆ PUNCAK         ┆ ['p', 'u', ┆ ['pu', 'un',   ┆ ['pun',   │\n",
       "│      ┆              ┆ PUNCAK          ┆                ┆ 'n', 'c',  ┆ 'nc', 'ca',    ┆ 'unc',    │\n",
       "│      ┆              ┆                 ┆                ┆ 'a', 'k']  ┆ 'ak']          ┆ 'nca',    │\n",
       "│      ┆              ┆                 ┆                ┆            ┆                ┆ 'cak']    │\n",
       "│ 9434 ┆ 94           ┆ KABUPATEN       ┆ DOGIYAI        ┆ ['d', 'o', ┆ ['do', 'og',   ┆ ['dog',   │\n",
       "│      ┆              ┆ DOGIYAI         ┆                ┆ 'g', 'i',  ┆ 'gi', 'iy',    ┆ 'ogi',    │\n",
       "│      ┆              ┆                 ┆                ┆ 'y', 'a',… ┆ 'ya',…         ┆ 'giy',    │\n",
       "│      ┆              ┆                 ┆                ┆            ┆                ┆ 'iya', '… │\n",
       "│ 9435 ┆ 94           ┆ KABUPATEN INTAN ┆ INTAN JAYA     ┆ ['i', 'n', ┆ ['in', 'nt',   ┆ ['int',   │\n",
       "│      ┆              ┆ JAYA            ┆                ┆ 't', 'a',  ┆ 'ta', 'an',    ┆ 'nta',    │\n",
       "│      ┆              ┆                 ┆                ┆ 'n', 'j',… ┆ 'nj',…         ┆ 'tan',    │\n",
       "│      ┆              ┆                 ┆                ┆            ┆                ┆ 'anj', '… │\n",
       "│ 9436 ┆ 94           ┆ KABUPATEN       ┆ DEIYAI         ┆ ['d', 'e', ┆ ['de', 'ei',   ┆ ['dei',   │\n",
       "│      ┆              ┆ DEIYAI          ┆                ┆ 'i', 'y',  ┆ 'iy', 'ya',    ┆ 'eiy',    │\n",
       "│      ┆              ┆                 ┆                ┆ 'a', 'i']  ┆ 'ai']          ┆ 'iya',    │\n",
       "│      ┆              ┆                 ┆                ┆            ┆                ┆ 'yai']    │\n",
       "│ 9471 ┆ 94           ┆ KOTA JAYAPURA   ┆ JAYAPURA       ┆ ['j', 'a', ┆ ['ja', 'ay',   ┆ ['jay',   │\n",
       "│      ┆              ┆                 ┆                ┆ 'y', 'a',  ┆ 'ya', 'ap',    ┆ 'aya',    │\n",
       "│      ┆              ┆                 ┆                ┆ 'p', 'u',… ┆ 'pu',…         ┆ 'yap',    │\n",
       "│      ┆              ┆                 ┆                ┆            ┆                ┆ 'apu', '… │\n",
       "└──────┴──────────────┴─────────────────┴────────────────┴────────────┴────────────────┴───────────┘"
      ]
     },
     "execution_count": 8,
     "metadata": {},
     "output_type": "execute_result"
    }
   ],
   "source": [
    "cities_regencies"
   ]
  },
  {
   "cell_type": "code",
   "execution_count": 15,
   "metadata": {},
   "outputs": [
    {
     "data": {
      "text/plain": [
       "['b', 'a', 'n', 'd', 'u', 'n', 'g']"
      ]
     },
     "execution_count": 15,
     "metadata": {},
     "output_type": "execute_result"
    }
   ],
   "source": [
    "bandung = cities_regencies.filter(pl.col('name') == 'KOTA BANDUNG')['unigram'][0]\n",
    "bandung"
   ]
  },
  {
   "cell_type": "code",
   "execution_count": 17,
   "metadata": {},
   "outputs": [
    {
     "data": {
      "text/html": [
       "<div><style>\n",
       ".dataframe > thead > tr,\n",
       ".dataframe > tbody > tr {\n",
       "  text-align: right;\n",
       "  white-space: pre-wrap;\n",
       "}\n",
       "</style>\n",
       "<small>shape: (1, 7)</small><table border=\"1\" class=\"dataframe\"><thead><tr><th>id</th><th>id_provinces</th><th>name</th><th>name_clean</th><th>unigram</th><th>bigram</th><th>trigram</th></tr><tr><td>i64</td><td>i64</td><td>str</td><td>str</td><td>object</td><td>object</td><td>object</td></tr></thead><tbody><tr><td>3174</td><td>31</td><td>&quot;KOTA JAKARTA BARAT&quot;</td><td>&quot; JAKARTA BARAT&quot;</td><td>[&#x27;j&#x27;, &#x27;a&#x27;, &#x27;k&#x27;, &#x27;a&#x27;, &#x27;r&#x27;, &#x27;t&#x27;, &#x27;a&#x27;, &#x27;b&#x27;, &#x27;a&#x27;, &#x27;r&#x27;, &#x27;a&#x27;, &#x27;t&#x27;]</td><td>[&#x27;ja&#x27;, &#x27;ak&#x27;, &#x27;ka&#x27;, &#x27;ar&#x27;, &#x27;rt&#x27;, &#x27;ta&#x27;, &#x27;ab&#x27;, &#x27;ba&#x27;, &#x27;ar&#x27;, &#x27;ra&#x27;, &#x27;at&#x27;]</td><td>[&#x27;jak&#x27;, &#x27;aka&#x27;, &#x27;kar&#x27;, &#x27;art&#x27;, &#x27;rta&#x27;, &#x27;tab&#x27;, &#x27;aba&#x27;, &#x27;bar&#x27;, &#x27;ara&#x27;, &#x27;rat&#x27;]</td></tr></tbody></table></div>"
      ],
      "text/plain": [
       "shape: (1, 7)\n",
       "┌──────┬──────────────┬─────────────────┬────────────────┬────────────┬────────────────┬───────────┐\n",
       "│ id   ┆ id_provinces ┆ name            ┆ name_clean     ┆ unigram    ┆ bigram         ┆ trigram   │\n",
       "│ ---  ┆ ---          ┆ ---             ┆ ---            ┆ ---        ┆ ---            ┆ ---       │\n",
       "│ i64  ┆ i64          ┆ str             ┆ str            ┆ object     ┆ object         ┆ object    │\n",
       "╞══════╪══════════════╪═════════════════╪════════════════╪════════════╪════════════════╪═══════════╡\n",
       "│ 3174 ┆ 31           ┆ KOTA JAKARTA    ┆  JAKARTA BARAT ┆ ['j', 'a', ┆ ['ja', 'ak',   ┆ ['jak',   │\n",
       "│      ┆              ┆ BARAT           ┆                ┆ 'k', 'a',  ┆ 'ka', 'ar',    ┆ 'aka',    │\n",
       "│      ┆              ┆                 ┆                ┆ 'r', 't',… ┆ 'rt',…         ┆ 'kar',    │\n",
       "│      ┆              ┆                 ┆                ┆            ┆                ┆ 'art', '… │\n",
       "└──────┴──────────────┴─────────────────┴────────────────┴────────────┴────────────────┴───────────┘"
      ]
     },
     "execution_count": 17,
     "metadata": {},
     "output_type": "execute_result"
    }
   ],
   "source": [
    "cities_regencies.filter(pl.col('name') == 'KOTA JAKARTA BARAT')"
   ]
  },
  {
   "cell_type": "code",
   "execution_count": 291,
   "metadata": {},
   "outputs": [],
   "source": [
    "def jaccard_similarity(ngrams1, ngrams2):\n",
    "    _ngrams1 = set(ngrams1)\n",
    "    _ngrams2 = set(ngrams2)\n",
    "    \n",
    "    intersection = len(_ngrams1.intersection(_ngrams2))\n",
    "    union = len(_ngrams1.union(_ngrams2))\n",
    "\n",
    "    return intersection / union\n",
    "    "
   ]
  },
  {
   "cell_type": "code",
   "execution_count": 19,
   "metadata": {},
   "outputs": [
    {
     "data": {
      "text/plain": [
       "['chop', 'buntut', 'cak', 'yo', 'sleman', 'kab']"
      ]
     },
     "execution_count": 19,
     "metadata": {},
     "output_type": "execute_result"
    }
   ],
   "source": [
    "merchant_words = data_location_unknown.filter(pl.col('country_code') == 'ID')['word_list'][0].to_list()\n",
    "merchant_words"
   ]
  },
  {
   "cell_type": "code",
   "execution_count": 20,
   "metadata": {},
   "outputs": [
    {
     "data": {
      "text/plain": [
       "['s', 'l', 'e', 'm', 'a', 'n']"
      ]
     },
     "execution_count": 20,
     "metadata": {},
     "output_type": "execute_result"
    }
   ],
   "source": [
    "city_unigram = cities_regencies.filter(pl.col('name').str.contains(r'SLEMAN'))['unigram'][0]\n",
    "city_unigram"
   ]
  },
  {
   "cell_type": "code",
   "execution_count": 21,
   "metadata": {},
   "outputs": [
    {
     "data": {
      "text/plain": [
       "['sl', 'le', 'em', 'ma', 'an']"
      ]
     },
     "execution_count": 21,
     "metadata": {},
     "output_type": "execute_result"
    }
   ],
   "source": [
    "city_bigram = cities_regencies.filter(pl.col('name').str.contains(r'SLEMAN'))['bigram'][0]\n",
    "city_bigram"
   ]
  },
  {
   "cell_type": "code",
   "execution_count": 17,
   "metadata": {},
   "outputs": [
    {
     "data": {
      "text/plain": [
       "['kab',\n",
       " 'abu',\n",
       " 'bup',\n",
       " 'upa',\n",
       " 'pat',\n",
       " 'ate',\n",
       " 'ten',\n",
       " 'ens',\n",
       " 'nsl',\n",
       " 'sle',\n",
       " 'lem',\n",
       " 'ema',\n",
       " 'man']"
      ]
     },
     "execution_count": 17,
     "metadata": {},
     "output_type": "execute_result"
    }
   ],
   "source": [
    "city_trigram = cities_regencies.filter(pl.col('name').str.contains(r'SLEMAN'))['trigram'][0]\n",
    "city_trigram"
   ]
  },
  {
   "cell_type": "code",
   "execution_count": 15,
   "metadata": {},
   "outputs": [],
   "source": [
    "def get_word_ngram_from_list(wordlist, n):\n",
    "    if len(wordlist) < n:\n",
    "        return []\n",
    "    return [tuple(wordlist[i:i+n]) for i in range(len(wordlist) - n + 1)]\n",
    "\n",
    "# def get_word_ngram_from_list(wordlist, n):\n",
    "#     if len(wordlist) < n:\n",
    "#         return []\n",
    "\n",
    "#     result = []\n",
    "#     for i in range(len(wordlist) - n + 1):\n",
    "#         word = []\n",
    "#         for j in range(i,i+n):\n",
    "#             word.append((wordlist[j],j))\n",
    "#         result.append(word)\n",
    "        \n",
    "#     return result"
   ]
  },
  {
   "cell_type": "code",
   "execution_count": 23,
   "metadata": {},
   "outputs": [
    {
     "data": {
      "text/plain": [
       "[('chop', 'buntut'),\n",
       " ('buntut', 'cak'),\n",
       " ('cak', 'yo'),\n",
       " ('yo', 'sleman'),\n",
       " ('sleman', 'kab')]"
      ]
     },
     "execution_count": 23,
     "metadata": {},
     "output_type": "execute_result"
    }
   ],
   "source": [
    "get_word_ngram_from_list(merchant_words,2)"
   ]
  },
  {
   "cell_type": "code",
   "execution_count": 20,
   "metadata": {},
   "outputs": [
    {
     "data": {
      "text/plain": [
       "[('chop',), ('buntut',), ('cak',), ('yo',), ('sleman',), ('kab',)]"
      ]
     },
     "execution_count": 20,
     "metadata": {},
     "output_type": "execute_result"
    }
   ],
   "source": [
    "merchant_unigram = get_word_ngram_from_list(merchant_words,1)\n",
    "merchant_unigram"
   ]
  },
  {
   "cell_type": "code",
   "execution_count": 23,
   "metadata": {},
   "outputs": [],
   "source": [
    "# unigram matching\n",
    "unigram_threshold = 0.5\n",
    "word_matches = []\n",
    "\n",
    "for i, word in enumerate(merchant_unigram):\n",
    "    best_match = None\n",
    "    best_score = 0\n",
    "\n",
    "    string_word = \" \".join(word)\n",
    "    word_char = get_char_ngrams(string_word,1)\n",
    "    \n",
    "    score = jaccard_similarity(city_unigram, word_char)\n",
    "    if score > best_score:\n",
    "        best_score = score\n",
    "    \n",
    "    is_location = best_score >= unigram_threshold\n",
    "    match_info = {\n",
    "            'word': word,\n",
    "            'is_location': is_location,\n",
    "            'score': best_score,\n",
    "            'index_interval': [i,i+len(word)-1]\n",
    "        }\n",
    "    word_matches.append(match_info)\n",
    "    #results['labeled_words'].append((word, is_location, best_match, best_score))"
   ]
  },
  {
   "cell_type": "code",
   "execution_count": 24,
   "metadata": {},
   "outputs": [
    {
     "data": {
      "text/plain": [
       "[{'word': ('chop',),\n",
       "  'is_location': False,\n",
       "  'score': 0.07142857142857142,\n",
       "  'index_interval': [0, 0]},\n",
       " {'word': ('buntut',),\n",
       "  'is_location': False,\n",
       "  'score': 0.36363636363636365,\n",
       "  'index_interval': [1, 1]},\n",
       " {'word': ('cak',),\n",
       "  'is_location': False,\n",
       "  'score': 0.16666666666666666,\n",
       "  'index_interval': [2, 2]},\n",
       " {'word': ('yo',), 'is_location': False, 'score': 0, 'index_interval': [3, 3]},\n",
       " {'word': ('sleman',),\n",
       "  'is_location': True,\n",
       "  'score': 0.5454545454545454,\n",
       "  'index_interval': [4, 4]},\n",
       " {'word': ('kab',),\n",
       "  'is_location': False,\n",
       "  'score': 0.2727272727272727,\n",
       "  'index_interval': [5, 5]}]"
      ]
     },
     "execution_count": 24,
     "metadata": {},
     "output_type": "execute_result"
    }
   ],
   "source": [
    "word_matches"
   ]
  },
  {
   "cell_type": "code",
   "execution_count": 25,
   "metadata": {},
   "outputs": [
    {
     "data": {
      "text/plain": [
       "[('chop', 'buntut'),\n",
       " ('buntut', 'cak'),\n",
       " ('cak', 'yo'),\n",
       " ('yo', 'sleman'),\n",
       " ('sleman', 'kab')]"
      ]
     },
     "execution_count": 25,
     "metadata": {},
     "output_type": "execute_result"
    }
   ],
   "source": [
    "merchant_list = get_word_ngram_from_list(merchant_words, 2)\n",
    "merchant_list"
   ]
  },
  {
   "cell_type": "code",
   "execution_count": 26,
   "metadata": {},
   "outputs": [
    {
     "data": {
      "text/plain": [
       "('sleman', 'kab')"
      ]
     },
     "execution_count": 26,
     "metadata": {},
     "output_type": "execute_result"
    }
   ],
   "source": [
    "merchant_list[4]"
   ]
  },
  {
   "cell_type": "code",
   "execution_count": 27,
   "metadata": {},
   "outputs": [
    {
     "data": {
      "text/plain": [
       "['ka',\n",
       " 'ab',\n",
       " 'bu',\n",
       " 'up',\n",
       " 'pa',\n",
       " 'at',\n",
       " 'te',\n",
       " 'en',\n",
       " 'ns',\n",
       " 'sl',\n",
       " 'le',\n",
       " 'em',\n",
       " 'ma',\n",
       " 'an']"
      ]
     },
     "execution_count": 27,
     "metadata": {},
     "output_type": "execute_result"
    }
   ],
   "source": [
    "city_bigram"
   ]
  },
  {
   "cell_type": "code",
   "execution_count": 38,
   "metadata": {},
   "outputs": [],
   "source": [
    "# bigram matching\n",
    "bigram_threshold = 0.4\n",
    "word_matches = []\n",
    "\n",
    "merchant_bigram = get_word_ngram_from_list(merchant_words, 2)"
   ]
  },
  {
   "cell_type": "code",
   "execution_count": 39,
   "metadata": {},
   "outputs": [],
   "source": [
    "for i, word in enumerate(merchant_bigram):\n",
    "    best_match = None\n",
    "    best_score = 0\n",
    "\n",
    "    string_word = \" \".join(word)\n",
    "    \n",
    "    word_char = get_char_ngrams(string_word,2)\n",
    "    \n",
    "    score = jaccard_similarity(city_bigram, word_char)\n",
    "    if score > best_score:\n",
    "        best_score = score\n",
    "    \n",
    "    is_location = best_score >= bigram_threshold\n",
    "    match_info = {\n",
    "            'word': word,\n",
    "            'is_location': is_location,\n",
    "            'score': best_score,\n",
    "            'index_interval': [i, i+len(word)-1]\n",
    "        }\n",
    "    word_matches.append(match_info)\n",
    "    #results['labeled_words'].append((word, is_location, best_match, best_score))"
   ]
  },
  {
   "cell_type": "code",
   "execution_count": 40,
   "metadata": {},
   "outputs": [
    {
     "data": {
      "text/plain": [
       "[{'word': ('chop', 'buntut'),\n",
       "  'is_location': False,\n",
       "  'score': 0.045454545454545456,\n",
       "  'index_interval': [0, 1]},\n",
       " {'word': ('buntut', 'cak'),\n",
       "  'is_location': False,\n",
       "  'score': 0.047619047619047616,\n",
       "  'index_interval': [1, 2]},\n",
       " {'word': ('cak', 'yo'),\n",
       "  'is_location': False,\n",
       "  'score': 0,\n",
       "  'index_interval': [2, 3]},\n",
       " {'word': ('yo', 'sleman'),\n",
       "  'is_location': False,\n",
       "  'score': 0.3125,\n",
       "  'index_interval': [3, 4]},\n",
       " {'word': ('sleman', 'kab'),\n",
       "  'is_location': True,\n",
       "  'score': 0.4666666666666667,\n",
       "  'index_interval': [4, 5]}]"
      ]
     },
     "execution_count": 40,
     "metadata": {},
     "output_type": "execute_result"
    }
   ],
   "source": [
    "word_matches"
   ]
  },
  {
   "cell_type": "code",
   "execution_count": 342,
   "metadata": {},
   "outputs": [
    {
     "data": {
      "text/plain": [
       "['kab',\n",
       " 'abu',\n",
       " 'bup',\n",
       " 'upa',\n",
       " 'pat',\n",
       " 'ate',\n",
       " 'ten',\n",
       " 'ens',\n",
       " 'nsl',\n",
       " 'sle',\n",
       " 'lem',\n",
       " 'ema',\n",
       " 'man']"
      ]
     },
     "execution_count": 342,
     "metadata": {},
     "output_type": "execute_result"
    }
   ],
   "source": [
    "city_trigram"
   ]
  },
  {
   "cell_type": "code",
   "execution_count": 42,
   "metadata": {},
   "outputs": [],
   "source": [
    "# trigram matching\n",
    "\n",
    "trigram_threshold = 0.4\n",
    "word_matches = []\n",
    "\n",
    "merchant_trigram = get_word_ngram_from_list(merchant_words, 3)\n",
    "for i, word in enumerate(merchant_trigram):\n",
    "    best_match = None\n",
    "    best_score = 0\n",
    "\n",
    "    string_word = \"\".join(word)\n",
    "    \n",
    "    word_char = get_char_ngrams(string_word,1)\n",
    "    \n",
    "    score = jaccard_similarity(city_unigram, word_char)\n",
    "    if score > best_score:\n",
    "        best_score = score\n",
    "    \n",
    "    is_location = best_score >= trigram_threshold\n",
    "    match_info = {\n",
    "            'word': word,\n",
    "            'is_location': is_location,\n",
    "            'score': best_score,\n",
    "            'index_interval': [i, i+len(word)-1]\n",
    "        }\n",
    "    word_matches.append(match_info)\n",
    "    #results['labeled_words'].append((word, is_location, best_match, best_score))"
   ]
  },
  {
   "cell_type": "code",
   "execution_count": 349,
   "metadata": {
    "scrolled": true
   },
   "outputs": [
    {
     "data": {
      "text/plain": [
       "{'unigram': [(0.8333333333333334,\n",
       "   {'word': ('samsung',),\n",
       "    'score': 0.8333333333333334,\n",
       "    'index_interval': [0, 0]}),\n",
       "  (0.75, {'word': ('samsung',), 'score': 0.75, 'index_interval': [0, 0]}),\n",
       "  (0.75, {'word': ('samsung',), 'score': 0.75, 'index_interval': [0, 0]}),\n",
       "  (0.7142857142857143,\n",
       "   {'word': ('samsung',),\n",
       "    'score': 0.7142857142857143,\n",
       "    'index_interval': [0, 0]}),\n",
       "  (0.625, {'word': ('samsung',), 'score': 0.625, 'index_interval': [0, 0]}),\n",
       "  (0.625, {'word': ('samsung',), 'score': 0.625, 'index_interval': [0, 0]}),\n",
       "  (0.7142857142857143,\n",
       "   {'word': ('samsung',),\n",
       "    'score': 0.7142857142857143,\n",
       "    'index_interval': [0, 0]}),\n",
       "  (0.6, {'word': ('samsung',), 'score': 0.6, 'index_interval': [0, 0]}),\n",
       "  (0.8333333333333334,\n",
       "   {'word': ('samsung',),\n",
       "    'score': 0.8333333333333334,\n",
       "    'index_interval': [0, 0]}),\n",
       "  (0.6923076923076923,\n",
       "   {'word': ('metrobekasi',),\n",
       "    'score': 0.6923076923076923,\n",
       "    'index_interval': [2, 2]})],\n",
       " 'bigram': [],\n",
       " 'trigram': []}"
      ]
     },
     "execution_count": 349,
     "metadata": {},
     "output_type": "execute_result"
    }
   ],
   "source": [
    "word_matches"
   ]
  },
  {
   "cell_type": "markdown",
   "metadata": {},
   "source": [
    "# LOOP TO ALL CITY DICTIONARY"
   ]
  },
  {
   "cell_type": "code",
   "execution_count": 292,
   "metadata": {},
   "outputs": [
    {
     "data": {
      "text/plain": [
       "['samsung', 'rstore', 'metrobekasi']"
      ]
     },
     "execution_count": 292,
     "metadata": {},
     "output_type": "execute_result"
    }
   ],
   "source": [
    "merchant_words = data_location_unknown['word_list'][9997].to_list()\n",
    "merchant_words"
   ]
  },
  {
   "cell_type": "code",
   "execution_count": 9,
   "metadata": {},
   "outputs": [],
   "source": [
    "city_dictionary = {\n",
    "    'unigram':{},\n",
    "    'bigram':{},\n",
    "}"
   ]
  },
  {
   "cell_type": "code",
   "execution_count": 10,
   "metadata": {},
   "outputs": [],
   "source": [
    "for unigram in cities_regencies['unigram']:\n",
    "    if unigram[0] not in city_dictionary['unigram']:\n",
    "        unigram_list = [unigram]\n",
    "        city_dictionary['unigram'][unigram[0]] = unigram_list\n",
    "    else:\n",
    "        city_dictionary['unigram'][unigram[0]].append(unigram)"
   ]
  },
  {
   "cell_type": "code",
   "execution_count": 11,
   "metadata": {},
   "outputs": [],
   "source": [
    "for bigram in cities_regencies['bigram']:\n",
    "    if bigram[0][0] not in city_dictionary['bigram']:\n",
    "        bigram_list = [bigram]\n",
    "        city_dictionary['bigram'][bigram[0][0]] = bigram_list\n",
    "    else:\n",
    "        city_dictionary['bigram'][bigram[0][0]].append(bigram)"
   ]
  },
  {
   "cell_type": "code",
   "execution_count": 314,
   "metadata": {},
   "outputs": [],
   "source": [
    "unigram_threshold = 0.81\n",
    "merchant_unigram = get_word_ngram_from_list(merchant_words,1)"
   ]
  },
  {
   "cell_type": "code",
   "execution_count": 315,
   "metadata": {},
   "outputs": [
    {
     "data": {
      "text/plain": [
       "'s'"
      ]
     },
     "execution_count": 315,
     "metadata": {},
     "output_type": "execute_result"
    }
   ],
   "source": [
    "merchant_unigram[0][0][0]"
   ]
  },
  {
   "cell_type": "code",
   "execution_count": 280,
   "metadata": {},
   "outputs": [],
   "source": [
    "word_matches = {'unigram':[], 'bigram':[], 'trigram':[]}"
   ]
  },
  {
   "cell_type": "code",
   "execution_count": 282,
   "metadata": {},
   "outputs": [
    {
     "name": "stdout",
     "output_type": "stream",
     "text": [
      "['s', 'i', 'm', 'a', 'l', 'u', 'n', 'g', 'u', 'n']\n",
      "['s', 'u', 'm', 'e', 'd', 'a', 'n', 'g']\n",
      "['s', 'u', 'b', 'a', 'n', 'g']\n",
      "['s', 'e', 'm', 'a', 'r', 'a', 'n', 'g']\n",
      "['s', 'e', 'm', 'a', 'r', 'a', 'n', 'g']\n",
      "['s', 'a', 'm', 'p', 'a', 'n', 'g']\n",
      "['s', 'u', 'm', 'b', 'a', 't', 'e', 'n', 'g', 'a', 'h']\n",
      "['s', 'a', 'n', 'g', 'g', 'a', 'u']\n",
      "['m', 'a', 'n', 'o', 'k', 'w', 'a', 'r', 'i', 's', 'e', 'l', 'a', 't', 'a', 'n']\n",
      "CPU times: user 601 μs, sys: 7 μs, total: 608 μs\n",
      "Wall time: 595 μs\n"
     ]
    }
   ],
   "source": [
    "%%time\n",
    "unigram_threshold = 0.6\n",
    "merchant_unigram = get_word_ngram_from_list(merchant_words,1)\n",
    "\n",
    "# unigram matching\n",
    "for i, word in enumerate(merchant_unigram):\n",
    "    first_char = word[0][0]\n",
    "\n",
    "    if first_char not in city_dictionary['unigram']:\n",
    "         continue\n",
    "        \n",
    "    for city_unigram in city_dictionary['unigram'][first_char]:\n",
    "    #for city_unigram in cities_regencies['unigram']:\n",
    "        \n",
    "        best_match = None\n",
    "        best_score = 0\n",
    "    \n",
    "        string_word = \" \".join(word)\n",
    "        word_char = get_char_ngrams(string_word,1)\n",
    "        \n",
    "        score = jaccard_similarity(city_unigram, word_char)\n",
    "        if score > best_score:\n",
    "            best_score = score\n",
    "        \n",
    "        is_location = best_score >= unigram_threshold\n",
    "        match_info = (\n",
    "            best_score,\n",
    "                {\n",
    "                'word': word,\n",
    "                'score': best_score,\n",
    "                'index_interval': [i,i+len(word)-1]\n",
    "                }\n",
    "        )\n",
    "        if is_location:\n",
    "            print(city_unigram)\n",
    "            word_matches['unigram'].append(match_info)"
   ]
  },
  {
   "cell_type": "code",
   "execution_count": 283,
   "metadata": {},
   "outputs": [
    {
     "data": {
      "text/plain": [
       "{'unigram': [(0.8333333333333334,\n",
       "   {'word': ('samsung',),\n",
       "    'score': 0.8333333333333334,\n",
       "    'index_interval': [0, 0]}),\n",
       "  (0.75, {'word': ('samsung',), 'score': 0.75, 'index_interval': [0, 0]}),\n",
       "  (0.75, {'word': ('samsung',), 'score': 0.75, 'index_interval': [0, 0]}),\n",
       "  (0.7142857142857143,\n",
       "   {'word': ('samsung',),\n",
       "    'score': 0.7142857142857143,\n",
       "    'index_interval': [0, 0]}),\n",
       "  (0.625, {'word': ('samsung',), 'score': 0.625, 'index_interval': [0, 0]}),\n",
       "  (0.625, {'word': ('samsung',), 'score': 0.625, 'index_interval': [0, 0]}),\n",
       "  (0.7142857142857143,\n",
       "   {'word': ('samsung',),\n",
       "    'score': 0.7142857142857143,\n",
       "    'index_interval': [0, 0]}),\n",
       "  (0.6, {'word': ('samsung',), 'score': 0.6, 'index_interval': [0, 0]}),\n",
       "  (0.8333333333333334,\n",
       "   {'word': ('samsung',),\n",
       "    'score': 0.8333333333333334,\n",
       "    'index_interval': [0, 0]}),\n",
       "  (0.6923076923076923,\n",
       "   {'word': ('metrobekasi',),\n",
       "    'score': 0.6923076923076923,\n",
       "    'index_interval': [2, 2]})],\n",
       " 'bigram': [],\n",
       " 'trigram': []}"
      ]
     },
     "execution_count": 283,
     "metadata": {},
     "output_type": "execute_result"
    }
   ],
   "source": [
    "word_matches"
   ]
  },
  {
   "cell_type": "code",
   "execution_count": 269,
   "metadata": {},
   "outputs": [
    {
     "data": {
      "text/plain": [
       "'a'"
      ]
     },
     "execution_count": 269,
     "metadata": {},
     "output_type": "execute_result"
    }
   ],
   "source": [
    "cities_regencies['bigram'][0][0][0]"
   ]
  },
  {
   "cell_type": "code",
   "execution_count": 270,
   "metadata": {},
   "outputs": [],
   "source": [
    "bigram_threshold = 0.55\n",
    "merchant_bigram = get_word_ngram_from_list(merchant_words,2)"
   ]
  },
  {
   "cell_type": "code",
   "execution_count": 271,
   "metadata": {},
   "outputs": [
    {
     "data": {
      "text/plain": [
       "[('samsung', 'rstore'), ('rstore', 'metrobekasi')]"
      ]
     },
     "execution_count": 271,
     "metadata": {},
     "output_type": "execute_result"
    }
   ],
   "source": [
    "merchant_bigram"
   ]
  },
  {
   "cell_type": "code",
   "execution_count": 272,
   "metadata": {},
   "outputs": [
    {
     "name": "stdout",
     "output_type": "stream",
     "text": [
      "CPU times: user 850 μs, sys: 0 ns, total: 850 μs\n",
      "Wall time: 854 μs\n"
     ]
    }
   ],
   "source": [
    "%%time\n",
    "#word_matches = {'unigram':[], 'bigram':[], 'trigram':[]}\n",
    "bigram_threshold = 0.65\n",
    "merchant_bigram = get_word_ngram_from_list(merchant_words,2)\n",
    "\n",
    "for i, word in enumerate(merchant_bigram):\n",
    "    first_chars = (word[0][0], word[1][0])\n",
    "\n",
    "    for first_char in first_chars:\n",
    "        if first_char not in city_dictionary['bigram']:\n",
    "            continue\n",
    "        \n",
    "        for city_bigram in city_dictionary['bigram'][first_char]:\n",
    "            best_match = None\n",
    "            best_score = 0\n",
    "        \n",
    "            string_word = \" \".join(word)\n",
    "            word_char = get_char_ngrams(string_word,2)\n",
    "            \n",
    "            score = jaccard_similarity(city_bigram, word_char)\n",
    "            if score > best_score:\n",
    "                best_score = score\n",
    "            \n",
    "            is_location = best_score >= bigram_threshold\n",
    "            match_info = {\n",
    "                    'word': word,\n",
    "                    'score': best_score,\n",
    "                    'index_interval': [i,i+len(word)-1]\n",
    "                }\n",
    "            if is_location:\n",
    "                print(city_bigram)\n",
    "                word_matches['bigram'].append(match_info)"
   ]
  },
  {
   "cell_type": "code",
   "execution_count": 273,
   "metadata": {},
   "outputs": [
    {
     "data": {
      "text/plain": [
       "{'unigram': [(0.8333333333333334,\n",
       "   {'word': ('samsung',),\n",
       "    'score': 0.8333333333333334,\n",
       "    'index_interval': [0, 0]})],\n",
       " 'bigram': [],\n",
       " 'trigram': []}"
      ]
     },
     "execution_count": 273,
     "metadata": {},
     "output_type": "execute_result"
    }
   ],
   "source": [
    "word_matches"
   ]
  },
  {
   "cell_type": "code",
   "execution_count": 229,
   "metadata": {},
   "outputs": [],
   "source": [
    "#word_matches = {'unigram':[], 'bigram':[], 'trigram':[]}\n",
    "trigram_threshold = 0.7\n",
    "merchant_trigram = get_word_ngram_from_list(merchant_words,3)\n",
    "\n",
    "for city_trigram in cities_regencies['trigram']:\n",
    "    # trigram matching\n",
    "    for i, word in enumerate(merchant_trigram):\n",
    "        best_match = None\n",
    "        best_score = 0\n",
    "    \n",
    "        string_word = \" \".join(word)\n",
    "        word_char = get_char_ngrams(string_word,3)\n",
    "        \n",
    "        score = jaccard_similarity(city_trigram, word_char)\n",
    "        if score > best_score:\n",
    "            best_score = score\n",
    "        \n",
    "        is_location = best_score >= trigram_threshold\n",
    "        match_info = {\n",
    "                'word': word,\n",
    "                'is_location': is_location,\n",
    "                'score': best_score,\n",
    "                'index_interval': [i,i+len(word)-1]\n",
    "            }\n",
    "        if is_location:\n",
    "            print(city_trigram)\n",
    "            word_matches['trigram'].append(match_info)"
   ]
  },
  {
   "cell_type": "code",
   "execution_count": 230,
   "metadata": {},
   "outputs": [
    {
     "data": {
      "text/plain": [
       "[('alfamrt', 'x761', 'pr2'), ('x761', 'pr2', 'pand'), ('pr2', 'pand', 'bogor')]"
      ]
     },
     "execution_count": 230,
     "metadata": {},
     "output_type": "execute_result"
    }
   ],
   "source": [
    "get_word_ngram_from_list(merchant_words,3)"
   ]
  },
  {
   "cell_type": "code",
   "execution_count": 231,
   "metadata": {},
   "outputs": [
    {
     "data": {
      "text/plain": [
       "{'unigram': [{'word': ('bogor',),\n",
       "   'is_location': True,\n",
       "   'score': 1.0,\n",
       "   'index_interval': [4, 4]},\n",
       "  {'word': ('bogor',),\n",
       "   'is_location': True,\n",
       "   'score': 1.0,\n",
       "   'index_interval': [4, 4]}],\n",
       " 'bigram': [],\n",
       " 'trigram': []}"
      ]
     },
     "execution_count": 231,
     "metadata": {},
     "output_type": "execute_result"
    }
   ],
   "source": [
    "word_matches"
   ]
  },
  {
   "cell_type": "markdown",
   "metadata": {},
   "source": [
    "# FIND & EXTRACT LOCATION INDEX"
   ]
  },
  {
   "cell_type": "code",
   "execution_count": 175,
   "metadata": {},
   "outputs": [],
   "source": [
    "def find_location_index(merchant_words, \n",
    "                        cities_regencies, \n",
    "                        unigram_threshold=0.9,\n",
    "                        bigram_threshold=0.65,\n",
    "                       ):\n",
    "    word_matches = {'unigram':[], 'bigram':[]}\n",
    "    \n",
    "    # unigram matching\n",
    "    #unigram_threshold = 0.81\n",
    "    merchant_unigram = get_word_ngram_from_list(merchant_words,1)\n",
    "\n",
    "    for city_unigram in cities_regencies['unigram']:\n",
    "        for i, word in enumerate(merchant_unigram):\n",
    "            best_match = None\n",
    "            best_score = 0\n",
    "        \n",
    "            string_word = \" \".join(word)\n",
    "            word_char = get_char_ngrams(string_word,1)\n",
    "            \n",
    "            score = jaccard_similarity(city_unigram, word_char)\n",
    "            if score > best_score:\n",
    "                best_score = score\n",
    "\n",
    "\n",
    "            is_location = best_score >= unigram_threshold\n",
    "            match_info = (\n",
    "                best_score,\n",
    "                    {\n",
    "                    'word': word,\n",
    "                    'score': best_score,\n",
    "                    'index_interval': [i,i+len(word)-1]\n",
    "                    }\n",
    "            )\n",
    "            if is_location:\n",
    "                word_matches['unigram'].append(match_info)\n",
    "\n",
    "    # bigram matching \n",
    "    merchant_bigram = get_word_ngram_from_list(merchant_words,2)\n",
    "    for city_bigram in cities_regencies['bigram']:\n",
    "        for i, word in enumerate(merchant_bigram):\n",
    "            best_match = None\n",
    "            best_score = 0\n",
    "        \n",
    "            string_word = \" \".join(word)\n",
    "            word_char = get_char_ngrams(string_word,2)\n",
    "            \n",
    "            score = jaccard_similarity(city_bigram, word_char)\n",
    "            if score > best_score:\n",
    "                best_score = score\n",
    "            \n",
    "            is_location = best_score >= bigram_threshold\n",
    "            match_info = (\n",
    "                best_score,\n",
    "                    {\n",
    "                    'word': word,\n",
    "                    'score': best_score,\n",
    "                    'index_interval': [i,i+len(word)-1]\n",
    "                    }\n",
    "            )\n",
    "            if is_location:\n",
    "                word_matches['bigram'].append(match_info)    \n",
    "\n",
    "    return word_matches"
   ]
  },
  {
   "cell_type": "code",
   "execution_count": 22,
   "metadata": {},
   "outputs": [],
   "source": [
    "# WITH DICTIONARY\n",
    "def find_location_index(merchant_words, \n",
    "                        city_dict, \n",
    "                        unigram_threshold=0.9,\n",
    "                        bigram_threshold=0.67,\n",
    "                       ):\n",
    "    word_matches = {'unigram':[], 'bigram':[]}\n",
    "    \n",
    "    # unigram matching\n",
    "    #unigram_threshold = 0.81\n",
    "    merchant_unigram = get_word_ngram_from_list(merchant_words,1)\n",
    "    for i, word in enumerate(merchant_unigram):   \n",
    "        if len(word) == 0:\n",
    "            continue\n",
    "            \n",
    "        if len(word[0]) > 0:\n",
    "            first_char = word[0][0]\n",
    "        else:\n",
    "            continue\n",
    "            \n",
    "        if first_char not in city_dict['unigram']:\n",
    "             continue\n",
    "            \n",
    "        for city_unigram in city_dict['unigram'][first_char]:\n",
    "            best_match = None\n",
    "            best_score = 0\n",
    "        \n",
    "            string_word = \" \".join(word)\n",
    "            word_char = get_char_ngrams(string_word,1)\n",
    "            \n",
    "            score = jaccard_similarity(city_unigram, word_char)\n",
    "            if score > best_score:\n",
    "                best_score = score\n",
    "            \n",
    "            is_location = best_score >= unigram_threshold\n",
    "            match_info = (\n",
    "                best_score,\n",
    "                    {\n",
    "                    'word': word,\n",
    "                    'score': best_score,\n",
    "                    'index_interval': [i,i+len(word)-1]\n",
    "                    }\n",
    "            )\n",
    "            if is_location:\n",
    "                word_matches['unigram'].append(match_info)\n",
    "\n",
    "    # bigram matching \n",
    "    merchant_bigram = get_word_ngram_from_list(merchant_words,2)\n",
    "    for i, word in enumerate(merchant_bigram):\n",
    "        first_chars = []\n",
    "        \n",
    "        for w in word:\n",
    "            if len(w) == 0:\n",
    "                continue\n",
    "            if len(w[0]) > 0:\n",
    "                first_chars.append(w[0])\n",
    "                \n",
    "        #first_chars = (word[0][0], word[1][0])\n",
    "    \n",
    "        for first_char in first_chars:\n",
    "            if first_char not in city_dict['bigram']:\n",
    "                continue\n",
    "            \n",
    "            for city_bigram in city_dict['bigram'][first_char]:\n",
    "                best_match = None\n",
    "                best_score = 0\n",
    "            \n",
    "                string_word = \" \".join(word)\n",
    "                word_char = get_char_ngrams(string_word,2)\n",
    "                \n",
    "                score = jaccard_similarity(city_bigram, word_char)\n",
    "                if score > best_score:\n",
    "                    best_score = score\n",
    "                \n",
    "                is_location = best_score >= bigram_threshold\n",
    "                match_info = (\n",
    "                    best_score,\n",
    "                        {\n",
    "                        'word': word,\n",
    "                        'score': best_score,\n",
    "                        'index_interval': [i,i+len(word)-1]\n",
    "                        }\n",
    "                )\n",
    "                if is_location:\n",
    "                    word_matches['bigram'].append(match_info) \n",
    "\n",
    "    return word_matches"
   ]
  },
  {
   "cell_type": "code",
   "execution_count": 23,
   "metadata": {},
   "outputs": [
    {
     "data": {
      "text/plain": [
       "['samsung', 'rstore', 'metrobekasi']"
      ]
     },
     "execution_count": 23,
     "metadata": {},
     "output_type": "execute_result"
    }
   ],
   "source": [
    "merchant_words = data_location_unknown['word_list'][9997].to_list()\n",
    "merchant_words"
   ]
  },
  {
   "cell_type": "code",
   "execution_count": 24,
   "metadata": {},
   "outputs": [
    {
     "ename": "NameError",
     "evalue": "name 'city_dictionary' is not defined",
     "output_type": "error",
     "traceback": [
      "\u001b[0;31m---------------------------------------------------------------------------\u001b[0m",
      "\u001b[0;31mNameError\u001b[0m                                 Traceback (most recent call last)",
      "File \u001b[0;32m<timed exec>:2\u001b[0m\n",
      "\u001b[0;31mNameError\u001b[0m: name 'city_dictionary' is not defined"
     ]
    }
   ],
   "source": [
    "%%time\n",
    "result = find_location_index(merchant_words,\n",
    "                             city_dictionary\n",
    "                            )"
   ]
  },
  {
   "cell_type": "code",
   "execution_count": 190,
   "metadata": {},
   "outputs": [
    {
     "data": {
      "text/plain": [
       "{'unigram': [], 'bigram': []}"
      ]
     },
     "execution_count": 190,
     "metadata": {},
     "output_type": "execute_result"
    }
   ],
   "source": [
    "result"
   ]
  },
  {
   "cell_type": "code",
   "execution_count": 191,
   "metadata": {},
   "outputs": [
    {
     "data": {
      "text/plain": [
       "[]"
      ]
     },
     "execution_count": 191,
     "metadata": {},
     "output_type": "execute_result"
    }
   ],
   "source": [
    "sorted(result['bigram'], key= lambda x: x[0], reverse=True)"
   ]
  },
  {
   "cell_type": "code",
   "execution_count": 192,
   "metadata": {},
   "outputs": [],
   "source": [
    "def extract_location_index(word_matches):\n",
    "    unigram_sorted = sorted(word_matches['unigram'], key=lambda x: x[0], reverse=True)\n",
    "    bigram_sorted = sorted(word_matches['bigram'], key=lambda x: x[0], reverse=True)\n",
    "\n",
    "    result = [-1,-1]\n",
    "    unigram_index = set()\n",
    "    bigram_index = set()\n",
    "    \n",
    "    if len(unigram_sorted) > 0:\n",
    "        unigram_index = set(unigram_sorted[0][1]['index_interval'])\n",
    "\n",
    "    if len(bigram_sorted) > 0:\n",
    "        bigram_index = set(bigram_sorted[0][1]['index_interval'])\n",
    "\n",
    "    result[0] = min(unigram_index.union(bigram_index), default=-1)\n",
    "    result[1] = max(unigram_index.union(bigram_index), default=-1)\n",
    "    \n",
    "    return result"
   ]
  },
  {
   "cell_type": "code",
   "execution_count": 193,
   "metadata": {},
   "outputs": [
    {
     "data": {
      "text/plain": [
       "[-1, -1]"
      ]
     },
     "execution_count": 193,
     "metadata": {},
     "output_type": "execute_result"
    }
   ],
   "source": [
    "extract_location_index(result)"
   ]
  },
  {
   "cell_type": "code",
   "execution_count": 194,
   "metadata": {},
   "outputs": [],
   "source": [
    "def process_loc_index_on_dataframe(merchant_words, cities_regencies):\n",
    "    result = find_location_index(merchant_words,cities_regencies)\n",
    "    return extract_location_index(result)"
   ]
  },
  {
   "cell_type": "code",
   "execution_count": 197,
   "metadata": {},
   "outputs": [
    {
     "name": "stdout",
     "output_type": "stream",
     "text": [
      "CPU times: user 13min 35s, sys: 9.33 s, total: 13min 44s\n",
      "Wall time: 13min 25s\n"
     ]
    }
   ],
   "source": [
    "%%time\n",
    "data_location_unknown = data_location_unknown.with_columns(\n",
    "    pl.when(pl.col('country_code') == 'ID').then(\n",
    "        pl.col('word_list').map_elements(\n",
    "            lambda word: process_loc_index_on_dataframe(word, city_dictionary), \n",
    "            return_dtype = pl.List(pl.Int32)\n",
    "        )\n",
    "    ).otherwise(pl.lit(None)).alias('location_index')\n",
    ")"
   ]
  },
  {
   "cell_type": "code",
   "execution_count": 198,
   "metadata": {},
   "outputs": [
    {
     "data": {
      "text/html": [
       "<div><style>\n",
       ".dataframe > thead > tr,\n",
       ".dataframe > tbody > tr {\n",
       "  text-align: right;\n",
       "  white-space: pre-wrap;\n",
       "}\n",
       "</style>\n",
       "<small>shape: (492_245, 7)</small><table border=\"1\" class=\"dataframe\"><thead><tr><th>source</th><th>merchant_name</th><th>merchant_location</th><th>online_offline_flag</th><th>country_code</th><th>word_list</th><th>location_index</th></tr><tr><td>str</td><td>str</td><td>str</td><td>str</td><td>str</td><td>list[str]</td><td>list[i32]</td></tr></thead><tbody><tr><td>&quot;CREDIT_CARD&quot;</td><td>&quot;CHOP BUNTUT CAK YO SLEMAN (KAB…</td><td>null</td><td>null</td><td>&quot;ID&quot;</td><td>[&quot;chop&quot;, &quot;buntut&quot;, … &quot;kab&quot;]</td><td>[3, 4]</td></tr><tr><td>&quot;CREDIT_CARD&quot;</td><td>&quot;TBL* THE SEED LEVEL AMSTERDAM …</td><td>null</td><td>null</td><td>&quot;NL&quot;</td><td>[&quot;tbl&quot;, &quot;the&quot;, … &quot;amsterdam&quot;]</td><td>null</td></tr><tr><td>&quot;CREDIT_CARD&quot;</td><td>&quot;SILOAM CLINIC GRH RAYA TANGERA…</td><td>null</td><td>null</td><td>&quot;ID&quot;</td><td>[&quot;siloam&quot;, &quot;clinic&quot;, … &quot;slt&quot;]</td><td>[4, 4]</td></tr><tr><td>&quot;CREDIT_CARD&quot;</td><td>&quot;SWALAYAN ZOOM MBL TANJUNG PINA…</td><td>null</td><td>null</td><td>&quot;ID&quot;</td><td>[&quot;swalayan&quot;, &quot;zoom&quot;, … &quot;pinan&quot;]</td><td>[3, 4]</td></tr><tr><td>&quot;CREDIT_CARD&quot;</td><td>&quot;PEDRO SUN PLAZA MEDAN MEDAN KO…</td><td>null</td><td>null</td><td>&quot;ID&quot;</td><td>[&quot;pedro&quot;, &quot;sun&quot;, … &quot;kot&quot;]</td><td>[3, 4]</td></tr><tr><td>&hellip;</td><td>&hellip;</td><td>&hellip;</td><td>&hellip;</td><td>&hellip;</td><td>&hellip;</td><td>&hellip;</td></tr><tr><td>&quot;CREDIT_CARD&quot;</td><td>&quot;AUSSIE TOYS ONLINE PAKENHAM AU&quot;</td><td>null</td><td>null</td><td>&quot;AU&quot;</td><td>[&quot;aussie&quot;, &quot;toys&quot;, … &quot;pakenham&quot;]</td><td>null</td></tr><tr><td>&quot;CREDIT_CARD&quot;</td><td>&quot;TOKO EMAS GINBERS MEDAN KOT. I…</td><td>null</td><td>&quot;OFFLINE&quot;</td><td>&quot;ID&quot;</td><td>[&quot;toko&quot;, &quot;emas&quot;, … &quot;kot&quot;]</td><td>[3, 3]</td></tr><tr><td>&quot;CREDIT_CARD&quot;</td><td>&quot;BINTANG SPORT SERANG (KOTA)ID&quot;</td><td>null</td><td>null</td><td>&quot;ID&quot;</td><td>[&quot;bintang&quot;, &quot;sport&quot;, … &quot;kota&quot;]</td><td>[2, 2]</td></tr><tr><td>&quot;CREDIT_CARD&quot;</td><td>&quot;ACE HARDWARE MALL PI I JAKARTA…</td><td>null</td><td>null</td><td>&quot;ID&quot;</td><td>[&quot;ace&quot;, &quot;hardware&quot;, … &quot;jakarta&quot;]</td><td>[-1, -1]</td></tr><tr><td>&quot;CREDIT_CARD&quot;</td><td>&quot;IDM TJAJ LOMBOK TIMUR ID&quot;</td><td>null</td><td>&quot;OFFLINE&quot;</td><td>&quot;ID&quot;</td><td>[&quot;idm&quot;, &quot;tjaj&quot;, … &quot;timur&quot;]</td><td>[2, 3]</td></tr></tbody></table></div>"
      ],
      "text/plain": [
       "shape: (492_245, 7)\n",
       "┌─────────────┬──────────────┬─────────────┬─────────────┬─────────────┬─────────────┬─────────────┐\n",
       "│ source      ┆ merchant_nam ┆ merchant_lo ┆ online_offl ┆ country_cod ┆ word_list   ┆ location_in │\n",
       "│ ---         ┆ e            ┆ cation      ┆ ine_flag    ┆ e           ┆ ---         ┆ dex         │\n",
       "│ str         ┆ ---          ┆ ---         ┆ ---         ┆ ---         ┆ list[str]   ┆ ---         │\n",
       "│             ┆ str          ┆ str         ┆ str         ┆ str         ┆             ┆ list[i32]   │\n",
       "╞═════════════╪══════════════╪═════════════╪═════════════╪═════════════╪═════════════╪═════════════╡\n",
       "│ CREDIT_CARD ┆ CHOP BUNTUT  ┆ null        ┆ null        ┆ ID          ┆ [\"chop\",    ┆ [3, 4]      │\n",
       "│             ┆ CAK YO       ┆             ┆             ┆             ┆ \"buntut\", … ┆             │\n",
       "│             ┆ SLEMAN (KAB… ┆             ┆             ┆             ┆ \"kab\"]      ┆             │\n",
       "│ CREDIT_CARD ┆ TBL* THE     ┆ null        ┆ null        ┆ NL          ┆ [\"tbl\",     ┆ null        │\n",
       "│             ┆ SEED LEVEL   ┆             ┆             ┆             ┆ \"the\", …    ┆             │\n",
       "│             ┆ AMSTERDAM …  ┆             ┆             ┆             ┆ \"amsterdam\" ┆             │\n",
       "│             ┆              ┆             ┆             ┆             ┆ ]           ┆             │\n",
       "│ CREDIT_CARD ┆ SILOAM       ┆ null        ┆ null        ┆ ID          ┆ [\"siloam\",  ┆ [4, 4]      │\n",
       "│             ┆ CLINIC GRH   ┆             ┆             ┆             ┆ \"clinic\", … ┆             │\n",
       "│             ┆ RAYA         ┆             ┆             ┆             ┆ \"slt\"]      ┆             │\n",
       "│             ┆ TANGERA…     ┆             ┆             ┆             ┆             ┆             │\n",
       "│ CREDIT_CARD ┆ SWALAYAN     ┆ null        ┆ null        ┆ ID          ┆ [\"swalayan\" ┆ [3, 4]      │\n",
       "│             ┆ ZOOM MBL     ┆             ┆             ┆             ┆ , \"zoom\", … ┆             │\n",
       "│             ┆ TANJUNG      ┆             ┆             ┆             ┆ \"pinan\"…    ┆             │\n",
       "│             ┆ PINA…        ┆             ┆             ┆             ┆             ┆             │\n",
       "│ CREDIT_CARD ┆ PEDRO SUN    ┆ null        ┆ null        ┆ ID          ┆ [\"pedro\",   ┆ [3, 4]      │\n",
       "│             ┆ PLAZA MEDAN  ┆             ┆             ┆             ┆ \"sun\", …    ┆             │\n",
       "│             ┆ MEDAN KO…    ┆             ┆             ┆             ┆ \"kot\"]      ┆             │\n",
       "│ …           ┆ …            ┆ …           ┆ …           ┆ …           ┆ …           ┆ …           │\n",
       "│ CREDIT_CARD ┆ AUSSIE TOYS  ┆ null        ┆ null        ┆ AU          ┆ [\"aussie\",  ┆ null        │\n",
       "│             ┆ ONLINE       ┆             ┆             ┆             ┆ \"toys\", …   ┆             │\n",
       "│             ┆ PAKENHAM AU  ┆             ┆             ┆             ┆ \"pakenham…  ┆             │\n",
       "│ CREDIT_CARD ┆ TOKO EMAS    ┆ null        ┆ OFFLINE     ┆ ID          ┆ [\"toko\",    ┆ [3, 3]      │\n",
       "│             ┆ GINBERS      ┆             ┆             ┆             ┆ \"emas\", …   ┆             │\n",
       "│             ┆ MEDAN KOT.   ┆             ┆             ┆             ┆ \"kot\"]      ┆             │\n",
       "│             ┆ I…           ┆             ┆             ┆             ┆             ┆             │\n",
       "│ CREDIT_CARD ┆ BINTANG      ┆ null        ┆ null        ┆ ID          ┆ [\"bintang\", ┆ [2, 2]      │\n",
       "│             ┆ SPORT SERANG ┆             ┆             ┆             ┆ \"sport\", …  ┆             │\n",
       "│             ┆ (KOTA)ID     ┆             ┆             ┆             ┆ \"kota\"]     ┆             │\n",
       "│ CREDIT_CARD ┆ ACE HARDWARE ┆ null        ┆ null        ┆ ID          ┆ [\"ace\",     ┆ [-1, -1]    │\n",
       "│             ┆ MALL PI I    ┆             ┆             ┆             ┆ \"hardware\", ┆             │\n",
       "│             ┆ JAKARTA…     ┆             ┆             ┆             ┆ … \"jakarta… ┆             │\n",
       "│ CREDIT_CARD ┆ IDM TJAJ     ┆ null        ┆ OFFLINE     ┆ ID          ┆ [\"idm\",     ┆ [2, 3]      │\n",
       "│             ┆ LOMBOK TIMUR ┆             ┆             ┆             ┆ \"tjaj\", …   ┆             │\n",
       "│             ┆ ID           ┆             ┆             ┆             ┆ \"timur\"]    ┆             │\n",
       "└─────────────┴──────────────┴─────────────┴─────────────┴─────────────┴─────────────┴─────────────┘"
      ]
     },
     "execution_count": 198,
     "metadata": {},
     "output_type": "execute_result"
    }
   ],
   "source": [
    "data_location_unknown"
   ]
  },
  {
   "cell_type": "code",
   "execution_count": 200,
   "metadata": {},
   "outputs": [],
   "source": [
    "data_location_unknown.write_parquet('data_location_labeled.parquet')"
   ]
  },
  {
   "cell_type": "markdown",
   "metadata": {},
   "source": [
    "# LOAD LABELED LOCATION FROM FILE"
   ]
  },
  {
   "cell_type": "code",
   "execution_count": 16,
   "metadata": {},
   "outputs": [],
   "source": [
    "data_labeled = pl.read_parquet('data_location_labeled.parquet')"
   ]
  },
  {
   "cell_type": "code",
   "execution_count": 17,
   "metadata": {},
   "outputs": [
    {
     "data": {
      "text/html": [
       "<div><style>\n",
       ".dataframe > thead > tr,\n",
       ".dataframe > tbody > tr {\n",
       "  text-align: right;\n",
       "  white-space: pre-wrap;\n",
       "}\n",
       "</style>\n",
       "<small>shape: (492_245, 8)</small><table border=\"1\" class=\"dataframe\"><thead><tr><th>source</th><th>merchant_name</th><th>merchant_location</th><th>online_offline_flag</th><th>country_code</th><th>word_list</th><th>location_index</th><th>extracted_location</th></tr><tr><td>str</td><td>str</td><td>str</td><td>str</td><td>str</td><td>list[str]</td><td>list[i32]</td><td>str</td></tr></thead><tbody><tr><td>&quot;CREDIT_CARD&quot;</td><td>&quot;CHOP BUNTUT CAK YO SLEMAN (KAB…</td><td>null</td><td>null</td><td>&quot;ID&quot;</td><td>[&quot;chop&quot;, &quot;buntut&quot;, … &quot;kab&quot;]</td><td>[3, 4]</td><td>&quot;yo sleman&quot;</td></tr><tr><td>&quot;CREDIT_CARD&quot;</td><td>&quot;TBL* THE SEED LEVEL AMSTERDAM …</td><td>null</td><td>null</td><td>&quot;NL&quot;</td><td>[&quot;tbl&quot;, &quot;the&quot;, … &quot;amsterdam&quot;]</td><td>null</td><td>null</td></tr><tr><td>&quot;CREDIT_CARD&quot;</td><td>&quot;SILOAM CLINIC GRH RAYA TANGERA…</td><td>null</td><td>null</td><td>&quot;ID&quot;</td><td>[&quot;siloam&quot;, &quot;clinic&quot;, … &quot;slt&quot;]</td><td>[4, 4]</td><td>&quot;tangerang&quot;</td></tr><tr><td>&quot;CREDIT_CARD&quot;</td><td>&quot;SWALAYAN ZOOM MBL TANJUNG PINA…</td><td>null</td><td>null</td><td>&quot;ID&quot;</td><td>[&quot;swalayan&quot;, &quot;zoom&quot;, … &quot;pinan&quot;]</td><td>[3, 4]</td><td>&quot;tanjung pinan&quot;</td></tr><tr><td>&quot;CREDIT_CARD&quot;</td><td>&quot;PEDRO SUN PLAZA MEDAN MEDAN KO…</td><td>null</td><td>null</td><td>&quot;ID&quot;</td><td>[&quot;pedro&quot;, &quot;sun&quot;, … &quot;kot&quot;]</td><td>[3, 4]</td><td>&quot;medan medan&quot;</td></tr><tr><td>&hellip;</td><td>&hellip;</td><td>&hellip;</td><td>&hellip;</td><td>&hellip;</td><td>&hellip;</td><td>&hellip;</td><td>&hellip;</td></tr><tr><td>&quot;CREDIT_CARD&quot;</td><td>&quot;AUSSIE TOYS ONLINE PAKENHAM AU&quot;</td><td>null</td><td>null</td><td>&quot;AU&quot;</td><td>[&quot;aussie&quot;, &quot;toys&quot;, … &quot;pakenham&quot;]</td><td>null</td><td>null</td></tr><tr><td>&quot;CREDIT_CARD&quot;</td><td>&quot;TOKO EMAS GINBERS MEDAN KOT. I…</td><td>null</td><td>&quot;OFFLINE&quot;</td><td>&quot;ID&quot;</td><td>[&quot;toko&quot;, &quot;emas&quot;, … &quot;kot&quot;]</td><td>[3, 3]</td><td>&quot;medan&quot;</td></tr><tr><td>&quot;CREDIT_CARD&quot;</td><td>&quot;BINTANG SPORT SERANG (KOTA)ID&quot;</td><td>null</td><td>null</td><td>&quot;ID&quot;</td><td>[&quot;bintang&quot;, &quot;sport&quot;, … &quot;kota&quot;]</td><td>[2, 2]</td><td>&quot;serang&quot;</td></tr><tr><td>&quot;CREDIT_CARD&quot;</td><td>&quot;ACE HARDWARE MALL PI I JAKARTA…</td><td>null</td><td>null</td><td>&quot;ID&quot;</td><td>[&quot;ace&quot;, &quot;hardware&quot;, … &quot;jakarta&quot;]</td><td>[-1, -1]</td><td>null</td></tr><tr><td>&quot;CREDIT_CARD&quot;</td><td>&quot;IDM TJAJ LOMBOK TIMUR ID&quot;</td><td>null</td><td>&quot;OFFLINE&quot;</td><td>&quot;ID&quot;</td><td>[&quot;idm&quot;, &quot;tjaj&quot;, … &quot;timur&quot;]</td><td>[2, 3]</td><td>&quot;lombok timur&quot;</td></tr></tbody></table></div>"
      ],
      "text/plain": [
       "shape: (492_245, 8)\n",
       "┌────────────┬────────────┬────────────┬───────────┬───────────┬───────────┬───────────┬───────────┐\n",
       "│ source     ┆ merchant_n ┆ merchant_l ┆ online_of ┆ country_c ┆ word_list ┆ location_ ┆ extracted │\n",
       "│ ---        ┆ ame        ┆ ocation    ┆ fline_fla ┆ ode       ┆ ---       ┆ index     ┆ _location │\n",
       "│ str        ┆ ---        ┆ ---        ┆ g         ┆ ---       ┆ list[str] ┆ ---       ┆ ---       │\n",
       "│            ┆ str        ┆ str        ┆ ---       ┆ str       ┆           ┆ list[i32] ┆ str       │\n",
       "│            ┆            ┆            ┆ str       ┆           ┆           ┆           ┆           │\n",
       "╞════════════╪════════════╪════════════╪═══════════╪═══════════╪═══════════╪═══════════╪═══════════╡\n",
       "│ CREDIT_CAR ┆ CHOP       ┆ null       ┆ null      ┆ ID        ┆ [\"chop\",  ┆ [3, 4]    ┆ yo sleman │\n",
       "│ D          ┆ BUNTUT CAK ┆            ┆           ┆           ┆ \"buntut\", ┆           ┆           │\n",
       "│            ┆ YO SLEMAN  ┆            ┆           ┆           ┆ … \"kab\"]  ┆           ┆           │\n",
       "│            ┆ (KAB…      ┆            ┆           ┆           ┆           ┆           ┆           │\n",
       "│ CREDIT_CAR ┆ TBL* THE   ┆ null       ┆ null      ┆ NL        ┆ [\"tbl\",   ┆ null      ┆ null      │\n",
       "│ D          ┆ SEED LEVEL ┆            ┆           ┆           ┆ \"the\", …  ┆           ┆           │\n",
       "│            ┆ AMSTERDAM  ┆            ┆           ┆           ┆ \"amsterda ┆           ┆           │\n",
       "│            ┆ …          ┆            ┆           ┆           ┆ m\"]       ┆           ┆           │\n",
       "│ CREDIT_CAR ┆ SILOAM     ┆ null       ┆ null      ┆ ID        ┆ [\"siloam\" ┆ [4, 4]    ┆ tangerang │\n",
       "│ D          ┆ CLINIC GRH ┆            ┆           ┆           ┆ ,         ┆           ┆           │\n",
       "│            ┆ RAYA       ┆            ┆           ┆           ┆ \"clinic\", ┆           ┆           │\n",
       "│            ┆ TANGERA…   ┆            ┆           ┆           ┆ … \"slt\"]  ┆           ┆           │\n",
       "│ CREDIT_CAR ┆ SWALAYAN   ┆ null       ┆ null      ┆ ID        ┆ [\"swalaya ┆ [3, 4]    ┆ tanjung   │\n",
       "│ D          ┆ ZOOM MBL   ┆            ┆           ┆           ┆ n\",       ┆           ┆ pinan     │\n",
       "│            ┆ TANJUNG    ┆            ┆           ┆           ┆ \"zoom\", … ┆           ┆           │\n",
       "│            ┆ PINA…      ┆            ┆           ┆           ┆ \"pinan\"…  ┆           ┆           │\n",
       "│ CREDIT_CAR ┆ PEDRO SUN  ┆ null       ┆ null      ┆ ID        ┆ [\"pedro\", ┆ [3, 4]    ┆ medan     │\n",
       "│ D          ┆ PLAZA      ┆            ┆           ┆           ┆ \"sun\", …  ┆           ┆ medan     │\n",
       "│            ┆ MEDAN      ┆            ┆           ┆           ┆ \"kot\"]    ┆           ┆           │\n",
       "│            ┆ MEDAN KO…  ┆            ┆           ┆           ┆           ┆           ┆           │\n",
       "│ …          ┆ …          ┆ …          ┆ …         ┆ …         ┆ …         ┆ …         ┆ …         │\n",
       "│ CREDIT_CAR ┆ AUSSIE     ┆ null       ┆ null      ┆ AU        ┆ [\"aussie\" ┆ null      ┆ null      │\n",
       "│ D          ┆ TOYS       ┆            ┆           ┆           ┆ , \"toys\", ┆           ┆           │\n",
       "│            ┆ ONLINE     ┆            ┆           ┆           ┆ … \"pakenh ┆           ┆           │\n",
       "│            ┆ PAKENHAM   ┆            ┆           ┆           ┆ am…       ┆           ┆           │\n",
       "│            ┆ AU         ┆            ┆           ┆           ┆           ┆           ┆           │\n",
       "│ CREDIT_CAR ┆ TOKO EMAS  ┆ null       ┆ OFFLINE   ┆ ID        ┆ [\"toko\",  ┆ [3, 3]    ┆ medan     │\n",
       "│ D          ┆ GINBERS    ┆            ┆           ┆           ┆ \"emas\", … ┆           ┆           │\n",
       "│            ┆ MEDAN KOT. ┆            ┆           ┆           ┆ \"kot\"]    ┆           ┆           │\n",
       "│            ┆ I…         ┆            ┆           ┆           ┆           ┆           ┆           │\n",
       "│ CREDIT_CAR ┆ BINTANG    ┆ null       ┆ null      ┆ ID        ┆ [\"bintang ┆ [2, 2]    ┆ serang    │\n",
       "│ D          ┆ SPORT      ┆            ┆           ┆           ┆ \",        ┆           ┆           │\n",
       "│            ┆ SERANG     ┆            ┆           ┆           ┆ \"sport\",  ┆           ┆           │\n",
       "│            ┆ (KOTA)ID   ┆            ┆           ┆           ┆ … \"kota\"] ┆           ┆           │\n",
       "│ CREDIT_CAR ┆ ACE        ┆ null       ┆ null      ┆ ID        ┆ [\"ace\",   ┆ [-1, -1]  ┆ null      │\n",
       "│ D          ┆ HARDWARE   ┆            ┆           ┆           ┆ \"hardware ┆           ┆           │\n",
       "│            ┆ MALL PI I  ┆            ┆           ┆           ┆ \", …      ┆           ┆           │\n",
       "│            ┆ JAKARTA…   ┆            ┆           ┆           ┆ \"jakarta… ┆           ┆           │\n",
       "│ CREDIT_CAR ┆ IDM TJAJ   ┆ null       ┆ OFFLINE   ┆ ID        ┆ [\"idm\",   ┆ [2, 3]    ┆ lombok    │\n",
       "│ D          ┆ LOMBOK     ┆            ┆           ┆           ┆ \"tjaj\", … ┆           ┆ timur     │\n",
       "│            ┆ TIMUR ID   ┆            ┆           ┆           ┆ \"timur\"]  ┆           ┆           │\n",
       "└────────────┴────────────┴────────────┴───────────┴───────────┴───────────┴───────────┴───────────┘"
      ]
     },
     "execution_count": 17,
     "metadata": {},
     "output_type": "execute_result"
    }
   ],
   "source": [
    "data_labeled"
   ]
  },
  {
   "cell_type": "code",
   "execution_count": 18,
   "metadata": {},
   "outputs": [],
   "source": [
    "sample = data_labeled.filter(pl.col('country_code') == 'ID').tail(5)"
   ]
  },
  {
   "cell_type": "code",
   "execution_count": 19,
   "metadata": {},
   "outputs": [
    {
     "data": {
      "text/html": [
       "<div><style>\n",
       ".dataframe > thead > tr,\n",
       ".dataframe > tbody > tr {\n",
       "  text-align: right;\n",
       "  white-space: pre-wrap;\n",
       "}\n",
       "</style>\n",
       "<small>shape: (1,)</small><table border=\"1\" class=\"dataframe\"><thead><tr><th>word_list</th></tr><tr><td>list[str]</td></tr></thead><tbody><tr><td>[&quot;ace&quot;, &quot;hardware&quot;, … &quot;jakarta&quot;]</td></tr></tbody></table></div>"
      ],
      "text/plain": [
       "shape: (1,)\n",
       "Series: 'word_list' [list[str]]\n",
       "[\n",
       "\t[\"ace\", \"hardware\", … \"jakarta\"]\n",
       "]"
      ]
     },
     "execution_count": 19,
     "metadata": {},
     "output_type": "execute_result"
    }
   ],
   "source": [
    "sample.filter(pl.col('merchant_name') == 'ACE HARDWARE MALL PI I JAKARTA ID')['word_list']"
   ]
  },
  {
   "cell_type": "code",
   "execution_count": 30,
   "metadata": {},
   "outputs": [
    {
     "data": {
      "text/plain": [
       "['ace', 'hardware', 'mall', 'pi', 'i', 'jakarta']"
      ]
     },
     "execution_count": 30,
     "metadata": {},
     "output_type": "execute_result"
    }
   ],
   "source": [
    "merchant_words = sample.filter(pl.col('merchant_name') == \"ACE HARDWARE MALL PI I JAKARTA ID\")['word_list'].to_list()[0]\n",
    "merchant_words"
   ]
  },
  {
   "cell_type": "code",
   "execution_count": 31,
   "metadata": {},
   "outputs": [
    {
     "name": "stdout",
     "output_type": "stream",
     "text": [
      "CPU times: user 1.43 ms, sys: 0 ns, total: 1.43 ms\n",
      "Wall time: 1.44 ms\n"
     ]
    },
    {
     "data": {
      "text/plain": [
       "{'unigram': [(0.8333333333333334,\n",
       "   {'word': ('jakarta',),\n",
       "    'score': 0.8333333333333334,\n",
       "    'index_interval': [5, 5]}),\n",
       "  (0.8333333333333334,\n",
       "   {'word': ('jakarta',),\n",
       "    'score': 0.8333333333333334,\n",
       "    'index_interval': [5, 5]})],\n",
       " 'bigram': []}"
      ]
     },
     "execution_count": 31,
     "metadata": {},
     "output_type": "execute_result"
    }
   ],
   "source": [
    "%%time\n",
    "find_location_index(merchant_words,\n",
    "                             city_dictionary,\n",
    "                             unigram_threshold = 0.8,\n",
    "                             bigram_threshold = 0.7\n",
    "                            )"
   ]
  },
  {
   "cell_type": "code",
   "execution_count": 298,
   "metadata": {},
   "outputs": [],
   "source": [
    "x = [1,2,3,4,5]"
   ]
  },
  {
   "cell_type": "code",
   "execution_count": 310,
   "metadata": {},
   "outputs": [
    {
     "data": {
      "text/plain": [
       "[4, 5]"
      ]
     },
     "execution_count": 310,
     "metadata": {},
     "output_type": "execute_result"
    }
   ],
   "source": [
    "x[3:4+1]"
   ]
  },
  {
   "cell_type": "code",
   "execution_count": 302,
   "metadata": {},
   "outputs": [
    {
     "data": {
      "text/html": [
       "<div><style>\n",
       ".dataframe > thead > tr,\n",
       ".dataframe > tbody > tr {\n",
       "  text-align: right;\n",
       "  white-space: pre-wrap;\n",
       "}\n",
       "</style>\n",
       "<small>shape: (4,)</small><table border=\"1\" class=\"dataframe\"><thead><tr><th></th></tr><tr><td>str</td></tr></thead><tbody><tr><td>&quot;idm&quot;</td></tr><tr><td>&quot;tjaj&quot;</td></tr><tr><td>&quot;lombok&quot;</td></tr><tr><td>&quot;timur&quot;</td></tr></tbody></table></div>"
      ],
      "text/plain": [
       "shape: (4,)\n",
       "Series: '' [str]\n",
       "[\n",
       "\t\"idm\"\n",
       "\t\"tjaj\"\n",
       "\t\"lombok\"\n",
       "\t\"timur\"\n",
       "]"
      ]
     },
     "execution_count": 302,
     "metadata": {},
     "output_type": "execute_result"
    }
   ],
   "source": [
    "merchant_words = sample['word_list'][4]\n",
    "merchant_words"
   ]
  },
  {
   "cell_type": "code",
   "execution_count": 32,
   "metadata": {},
   "outputs": [],
   "source": [
    "def extract_location(row):\n",
    "    word_list = row[\"word_list\"]\n",
    "    loc_index = row[\"location_index\"]\n",
    "\n",
    "    if loc_index is None or loc_index == [-1,-1]:\n",
    "        return None\n",
    "    \n",
    "    loc_index_start = loc_index[0]\n",
    "    loc_index_end = loc_index[1]\n",
    "        \n",
    "    return \" \".join(word_list[loc_index_start:loc_index_end+1])"
   ]
  },
  {
   "cell_type": "code",
   "execution_count": 33,
   "metadata": {},
   "outputs": [],
   "source": [
    "data_labeled = data_labeled.with_columns(\n",
    "    pl.struct([\"word_list\",\"location_index\"]).map_elements(extract_location, return_dtype = pl.String).alias(\"extracted_location\")\n",
    ")"
   ]
  },
  {
   "cell_type": "code",
   "execution_count": 34,
   "metadata": {},
   "outputs": [
    {
     "data": {
      "text/html": [
       "<div><style>\n",
       ".dataframe > thead > tr,\n",
       ".dataframe > tbody > tr {\n",
       "  text-align: right;\n",
       "  white-space: pre-wrap;\n",
       "}\n",
       "</style>\n",
       "<small>shape: (492_245, 8)</small><table border=\"1\" class=\"dataframe\"><thead><tr><th>source</th><th>merchant_name</th><th>merchant_location</th><th>online_offline_flag</th><th>country_code</th><th>word_list</th><th>location_index</th><th>extracted_location</th></tr><tr><td>str</td><td>str</td><td>str</td><td>str</td><td>str</td><td>list[str]</td><td>list[i32]</td><td>str</td></tr></thead><tbody><tr><td>&quot;CREDIT_CARD&quot;</td><td>&quot;CHOP BUNTUT CAK YO SLEMAN (KAB…</td><td>null</td><td>null</td><td>&quot;ID&quot;</td><td>[&quot;chop&quot;, &quot;buntut&quot;, … &quot;kab&quot;]</td><td>[3, 4]</td><td>&quot;yo sleman&quot;</td></tr><tr><td>&quot;CREDIT_CARD&quot;</td><td>&quot;TBL* THE SEED LEVEL AMSTERDAM …</td><td>null</td><td>null</td><td>&quot;NL&quot;</td><td>[&quot;tbl&quot;, &quot;the&quot;, … &quot;amsterdam&quot;]</td><td>null</td><td>null</td></tr><tr><td>&quot;CREDIT_CARD&quot;</td><td>&quot;SILOAM CLINIC GRH RAYA TANGERA…</td><td>null</td><td>null</td><td>&quot;ID&quot;</td><td>[&quot;siloam&quot;, &quot;clinic&quot;, … &quot;slt&quot;]</td><td>[4, 4]</td><td>&quot;tangerang&quot;</td></tr><tr><td>&quot;CREDIT_CARD&quot;</td><td>&quot;SWALAYAN ZOOM MBL TANJUNG PINA…</td><td>null</td><td>null</td><td>&quot;ID&quot;</td><td>[&quot;swalayan&quot;, &quot;zoom&quot;, … &quot;pinan&quot;]</td><td>[3, 4]</td><td>&quot;tanjung pinan&quot;</td></tr><tr><td>&quot;CREDIT_CARD&quot;</td><td>&quot;PEDRO SUN PLAZA MEDAN MEDAN KO…</td><td>null</td><td>null</td><td>&quot;ID&quot;</td><td>[&quot;pedro&quot;, &quot;sun&quot;, … &quot;kot&quot;]</td><td>[3, 4]</td><td>&quot;medan medan&quot;</td></tr><tr><td>&hellip;</td><td>&hellip;</td><td>&hellip;</td><td>&hellip;</td><td>&hellip;</td><td>&hellip;</td><td>&hellip;</td><td>&hellip;</td></tr><tr><td>&quot;CREDIT_CARD&quot;</td><td>&quot;AUSSIE TOYS ONLINE PAKENHAM AU&quot;</td><td>null</td><td>null</td><td>&quot;AU&quot;</td><td>[&quot;aussie&quot;, &quot;toys&quot;, … &quot;pakenham&quot;]</td><td>null</td><td>null</td></tr><tr><td>&quot;CREDIT_CARD&quot;</td><td>&quot;TOKO EMAS GINBERS MEDAN KOT. I…</td><td>null</td><td>&quot;OFFLINE&quot;</td><td>&quot;ID&quot;</td><td>[&quot;toko&quot;, &quot;emas&quot;, … &quot;kot&quot;]</td><td>[3, 3]</td><td>&quot;medan&quot;</td></tr><tr><td>&quot;CREDIT_CARD&quot;</td><td>&quot;BINTANG SPORT SERANG (KOTA)ID&quot;</td><td>null</td><td>null</td><td>&quot;ID&quot;</td><td>[&quot;bintang&quot;, &quot;sport&quot;, … &quot;kota&quot;]</td><td>[2, 2]</td><td>&quot;serang&quot;</td></tr><tr><td>&quot;CREDIT_CARD&quot;</td><td>&quot;ACE HARDWARE MALL PI I JAKARTA…</td><td>null</td><td>null</td><td>&quot;ID&quot;</td><td>[&quot;ace&quot;, &quot;hardware&quot;, … &quot;jakarta&quot;]</td><td>[-1, -1]</td><td>null</td></tr><tr><td>&quot;CREDIT_CARD&quot;</td><td>&quot;IDM TJAJ LOMBOK TIMUR ID&quot;</td><td>null</td><td>&quot;OFFLINE&quot;</td><td>&quot;ID&quot;</td><td>[&quot;idm&quot;, &quot;tjaj&quot;, … &quot;timur&quot;]</td><td>[2, 3]</td><td>&quot;lombok timur&quot;</td></tr></tbody></table></div>"
      ],
      "text/plain": [
       "shape: (492_245, 8)\n",
       "┌────────────┬────────────┬────────────┬───────────┬───────────┬───────────┬───────────┬───────────┐\n",
       "│ source     ┆ merchant_n ┆ merchant_l ┆ online_of ┆ country_c ┆ word_list ┆ location_ ┆ extracted │\n",
       "│ ---        ┆ ame        ┆ ocation    ┆ fline_fla ┆ ode       ┆ ---       ┆ index     ┆ _location │\n",
       "│ str        ┆ ---        ┆ ---        ┆ g         ┆ ---       ┆ list[str] ┆ ---       ┆ ---       │\n",
       "│            ┆ str        ┆ str        ┆ ---       ┆ str       ┆           ┆ list[i32] ┆ str       │\n",
       "│            ┆            ┆            ┆ str       ┆           ┆           ┆           ┆           │\n",
       "╞════════════╪════════════╪════════════╪═══════════╪═══════════╪═══════════╪═══════════╪═══════════╡\n",
       "│ CREDIT_CAR ┆ CHOP       ┆ null       ┆ null      ┆ ID        ┆ [\"chop\",  ┆ [3, 4]    ┆ yo sleman │\n",
       "│ D          ┆ BUNTUT CAK ┆            ┆           ┆           ┆ \"buntut\", ┆           ┆           │\n",
       "│            ┆ YO SLEMAN  ┆            ┆           ┆           ┆ … \"kab\"]  ┆           ┆           │\n",
       "│            ┆ (KAB…      ┆            ┆           ┆           ┆           ┆           ┆           │\n",
       "│ CREDIT_CAR ┆ TBL* THE   ┆ null       ┆ null      ┆ NL        ┆ [\"tbl\",   ┆ null      ┆ null      │\n",
       "│ D          ┆ SEED LEVEL ┆            ┆           ┆           ┆ \"the\", …  ┆           ┆           │\n",
       "│            ┆ AMSTERDAM  ┆            ┆           ┆           ┆ \"amsterda ┆           ┆           │\n",
       "│            ┆ …          ┆            ┆           ┆           ┆ m\"]       ┆           ┆           │\n",
       "│ CREDIT_CAR ┆ SILOAM     ┆ null       ┆ null      ┆ ID        ┆ [\"siloam\" ┆ [4, 4]    ┆ tangerang │\n",
       "│ D          ┆ CLINIC GRH ┆            ┆           ┆           ┆ ,         ┆           ┆           │\n",
       "│            ┆ RAYA       ┆            ┆           ┆           ┆ \"clinic\", ┆           ┆           │\n",
       "│            ┆ TANGERA…   ┆            ┆           ┆           ┆ … \"slt\"]  ┆           ┆           │\n",
       "│ CREDIT_CAR ┆ SWALAYAN   ┆ null       ┆ null      ┆ ID        ┆ [\"swalaya ┆ [3, 4]    ┆ tanjung   │\n",
       "│ D          ┆ ZOOM MBL   ┆            ┆           ┆           ┆ n\",       ┆           ┆ pinan     │\n",
       "│            ┆ TANJUNG    ┆            ┆           ┆           ┆ \"zoom\", … ┆           ┆           │\n",
       "│            ┆ PINA…      ┆            ┆           ┆           ┆ \"pinan\"…  ┆           ┆           │\n",
       "│ CREDIT_CAR ┆ PEDRO SUN  ┆ null       ┆ null      ┆ ID        ┆ [\"pedro\", ┆ [3, 4]    ┆ medan     │\n",
       "│ D          ┆ PLAZA      ┆            ┆           ┆           ┆ \"sun\", …  ┆           ┆ medan     │\n",
       "│            ┆ MEDAN      ┆            ┆           ┆           ┆ \"kot\"]    ┆           ┆           │\n",
       "│            ┆ MEDAN KO…  ┆            ┆           ┆           ┆           ┆           ┆           │\n",
       "│ …          ┆ …          ┆ …          ┆ …         ┆ …         ┆ …         ┆ …         ┆ …         │\n",
       "│ CREDIT_CAR ┆ AUSSIE     ┆ null       ┆ null      ┆ AU        ┆ [\"aussie\" ┆ null      ┆ null      │\n",
       "│ D          ┆ TOYS       ┆            ┆           ┆           ┆ , \"toys\", ┆           ┆           │\n",
       "│            ┆ ONLINE     ┆            ┆           ┆           ┆ … \"pakenh ┆           ┆           │\n",
       "│            ┆ PAKENHAM   ┆            ┆           ┆           ┆ am…       ┆           ┆           │\n",
       "│            ┆ AU         ┆            ┆           ┆           ┆           ┆           ┆           │\n",
       "│ CREDIT_CAR ┆ TOKO EMAS  ┆ null       ┆ OFFLINE   ┆ ID        ┆ [\"toko\",  ┆ [3, 3]    ┆ medan     │\n",
       "│ D          ┆ GINBERS    ┆            ┆           ┆           ┆ \"emas\", … ┆           ┆           │\n",
       "│            ┆ MEDAN KOT. ┆            ┆           ┆           ┆ \"kot\"]    ┆           ┆           │\n",
       "│            ┆ I…         ┆            ┆           ┆           ┆           ┆           ┆           │\n",
       "│ CREDIT_CAR ┆ BINTANG    ┆ null       ┆ null      ┆ ID        ┆ [\"bintang ┆ [2, 2]    ┆ serang    │\n",
       "│ D          ┆ SPORT      ┆            ┆           ┆           ┆ \",        ┆           ┆           │\n",
       "│            ┆ SERANG     ┆            ┆           ┆           ┆ \"sport\",  ┆           ┆           │\n",
       "│            ┆ (KOTA)ID   ┆            ┆           ┆           ┆ … \"kota\"] ┆           ┆           │\n",
       "│ CREDIT_CAR ┆ ACE        ┆ null       ┆ null      ┆ ID        ┆ [\"ace\",   ┆ [-1, -1]  ┆ null      │\n",
       "│ D          ┆ HARDWARE   ┆            ┆           ┆           ┆ \"hardware ┆           ┆           │\n",
       "│            ┆ MALL PI I  ┆            ┆           ┆           ┆ \", …      ┆           ┆           │\n",
       "│            ┆ JAKARTA…   ┆            ┆           ┆           ┆ \"jakarta… ┆           ┆           │\n",
       "│ CREDIT_CAR ┆ IDM TJAJ   ┆ null       ┆ OFFLINE   ┆ ID        ┆ [\"idm\",   ┆ [2, 3]    ┆ lombok    │\n",
       "│ D          ┆ LOMBOK     ┆            ┆           ┆           ┆ \"tjaj\", … ┆           ┆ timur     │\n",
       "│            ┆ TIMUR ID   ┆            ┆           ┆           ┆ \"timur\"]  ┆           ┆           │\n",
       "└────────────┴────────────┴────────────┴───────────┴───────────┴───────────┴───────────┴───────────┘"
      ]
     },
     "execution_count": 34,
     "metadata": {},
     "output_type": "execute_result"
    }
   ],
   "source": [
    "data_labeled"
   ]
  },
  {
   "cell_type": "code",
   "execution_count": 337,
   "metadata": {},
   "outputs": [],
   "source": [
    "# export data\n",
    "data_labeled.write_parquet('data_location_labeled.parquet')"
   ]
  },
  {
   "cell_type": "code",
   "execution_count": 525,
   "metadata": {},
   "outputs": [
    {
     "data": {
      "text/html": [
       "<div><style>\n",
       ".dataframe > thead > tr,\n",
       ".dataframe > tbody > tr {\n",
       "  text-align: right;\n",
       "  white-space: pre-wrap;\n",
       "}\n",
       "</style>\n",
       "<small>shape: (492_245, 10)</small><table border=\"1\" class=\"dataframe\"><thead><tr><th>source</th><th>merchant_name</th><th>merchant_location</th><th>online_offline_flag</th><th>country_code</th><th>word_list</th><th>location_index</th><th>extracted_location</th><th>enhanced_location</th><th>cleaned_location</th></tr><tr><td>str</td><td>str</td><td>str</td><td>str</td><td>str</td><td>list[str]</td><td>list[i32]</td><td>str</td><td>str</td><td>str</td></tr></thead><tbody><tr><td>&quot;CREDIT_CARD&quot;</td><td>&quot;CHOP BUNTUT CAK YO SLEMAN (KAB…</td><td>null</td><td>null</td><td>&quot;ID&quot;</td><td>[&quot;chop&quot;, &quot;buntut&quot;, … &quot;kab&quot;]</td><td>[3, 4]</td><td>&quot;yo sleman&quot;</td><td>&quot;sleman&quot;</td><td>&quot;sleman&quot;</td></tr><tr><td>&quot;CREDIT_CARD&quot;</td><td>&quot;TBL* THE SEED LEVEL AMSTERDAM …</td><td>null</td><td>null</td><td>&quot;NL&quot;</td><td>[&quot;tbl&quot;, &quot;the&quot;, … &quot;amsterdam&quot;]</td><td>null</td><td>null</td><td>null</td><td>null</td></tr><tr><td>&quot;CREDIT_CARD&quot;</td><td>&quot;SILOAM CLINIC GRH RAYA TANGERA…</td><td>null</td><td>null</td><td>&quot;ID&quot;</td><td>[&quot;siloam&quot;, &quot;clinic&quot;, … &quot;slt&quot;]</td><td>[4, 4]</td><td>&quot;tangerang&quot;</td><td>&quot;tangerang&quot;</td><td>&quot;tangerang&quot;</td></tr><tr><td>&quot;CREDIT_CARD&quot;</td><td>&quot;SWALAYAN ZOOM MBL TANJUNG PINA…</td><td>null</td><td>null</td><td>&quot;ID&quot;</td><td>[&quot;swalayan&quot;, &quot;zoom&quot;, … &quot;pinan&quot;]</td><td>[3, 4]</td><td>&quot;tanjung pinan&quot;</td><td>&quot;tanjung pinang&quot;</td><td>&quot;tanjung pinan&quot;</td></tr><tr><td>&quot;CREDIT_CARD&quot;</td><td>&quot;PEDRO SUN PLAZA MEDAN MEDAN KO…</td><td>null</td><td>null</td><td>&quot;ID&quot;</td><td>[&quot;pedro&quot;, &quot;sun&quot;, … &quot;kot&quot;]</td><td>[3, 4]</td><td>&quot;medan medan&quot;</td><td>&quot;medan&quot;</td><td>&quot;medan&quot;</td></tr><tr><td>&hellip;</td><td>&hellip;</td><td>&hellip;</td><td>&hellip;</td><td>&hellip;</td><td>&hellip;</td><td>&hellip;</td><td>&hellip;</td><td>&hellip;</td><td>&hellip;</td></tr><tr><td>&quot;CREDIT_CARD&quot;</td><td>&quot;AUSSIE TOYS ONLINE PAKENHAM AU&quot;</td><td>null</td><td>null</td><td>&quot;AU&quot;</td><td>[&quot;aussie&quot;, &quot;toys&quot;, … &quot;pakenham&quot;]</td><td>null</td><td>null</td><td>null</td><td>null</td></tr><tr><td>&quot;CREDIT_CARD&quot;</td><td>&quot;TOKO EMAS GINBERS MEDAN KOT. I…</td><td>null</td><td>&quot;OFFLINE&quot;</td><td>&quot;ID&quot;</td><td>[&quot;toko&quot;, &quot;emas&quot;, … &quot;kot&quot;]</td><td>[3, 3]</td><td>&quot;medan&quot;</td><td>&quot;medan&quot;</td><td>&quot;medan&quot;</td></tr><tr><td>&quot;CREDIT_CARD&quot;</td><td>&quot;BINTANG SPORT SERANG (KOTA)ID&quot;</td><td>null</td><td>null</td><td>&quot;ID&quot;</td><td>[&quot;bintang&quot;, &quot;sport&quot;, … &quot;kota&quot;]</td><td>[2, 2]</td><td>&quot;serang&quot;</td><td>&quot;serang&quot;</td><td>&quot;serang&quot;</td></tr><tr><td>&quot;CREDIT_CARD&quot;</td><td>&quot;ACE HARDWARE MALL PI I JAKARTA…</td><td>null</td><td>null</td><td>&quot;ID&quot;</td><td>[&quot;ace&quot;, &quot;hardware&quot;, … &quot;jakarta&quot;]</td><td>[-1, -1]</td><td>null</td><td>null</td><td>null</td></tr><tr><td>&quot;CREDIT_CARD&quot;</td><td>&quot;IDM TJAJ LOMBOK TIMUR ID&quot;</td><td>null</td><td>&quot;OFFLINE&quot;</td><td>&quot;ID&quot;</td><td>[&quot;idm&quot;, &quot;tjaj&quot;, … &quot;timur&quot;]</td><td>[2, 3]</td><td>&quot;lombok timur&quot;</td><td>&quot;lombok timur&quot;</td><td>&quot;lombok timur&quot;</td></tr></tbody></table></div>"
      ],
      "text/plain": [
       "shape: (492_245, 10)\n",
       "┌───────────┬───────────┬───────────┬───────────┬───┬───────────┬───────────┬───────────┬──────────┐\n",
       "│ source    ┆ merchant_ ┆ merchant_ ┆ online_of ┆ … ┆ location_ ┆ extracted ┆ enhanced_ ┆ cleaned_ │\n",
       "│ ---       ┆ name      ┆ location  ┆ fline_fla ┆   ┆ index     ┆ _location ┆ location  ┆ location │\n",
       "│ str       ┆ ---       ┆ ---       ┆ g         ┆   ┆ ---       ┆ ---       ┆ ---       ┆ ---      │\n",
       "│           ┆ str       ┆ str       ┆ ---       ┆   ┆ list[i32] ┆ str       ┆ str       ┆ str      │\n",
       "│           ┆           ┆           ┆ str       ┆   ┆           ┆           ┆           ┆          │\n",
       "╞═══════════╪═══════════╪═══════════╪═══════════╪═══╪═══════════╪═══════════╪═══════════╪══════════╡\n",
       "│ CREDIT_CA ┆ CHOP      ┆ null      ┆ null      ┆ … ┆ [3, 4]    ┆ yo sleman ┆ sleman    ┆ sleman   │\n",
       "│ RD        ┆ BUNTUT    ┆           ┆           ┆   ┆           ┆           ┆           ┆          │\n",
       "│           ┆ CAK YO    ┆           ┆           ┆   ┆           ┆           ┆           ┆          │\n",
       "│           ┆ SLEMAN    ┆           ┆           ┆   ┆           ┆           ┆           ┆          │\n",
       "│           ┆ (KAB…     ┆           ┆           ┆   ┆           ┆           ┆           ┆          │\n",
       "│ CREDIT_CA ┆ TBL* THE  ┆ null      ┆ null      ┆ … ┆ null      ┆ null      ┆ null      ┆ null     │\n",
       "│ RD        ┆ SEED      ┆           ┆           ┆   ┆           ┆           ┆           ┆          │\n",
       "│           ┆ LEVEL     ┆           ┆           ┆   ┆           ┆           ┆           ┆          │\n",
       "│           ┆ AMSTERDAM ┆           ┆           ┆   ┆           ┆           ┆           ┆          │\n",
       "│           ┆ …         ┆           ┆           ┆   ┆           ┆           ┆           ┆          │\n",
       "│ CREDIT_CA ┆ SILOAM    ┆ null      ┆ null      ┆ … ┆ [4, 4]    ┆ tangerang ┆ tangerang ┆ tangeran │\n",
       "│ RD        ┆ CLINIC    ┆           ┆           ┆   ┆           ┆           ┆           ┆ g        │\n",
       "│           ┆ GRH RAYA  ┆           ┆           ┆   ┆           ┆           ┆           ┆          │\n",
       "│           ┆ TANGERA…  ┆           ┆           ┆   ┆           ┆           ┆           ┆          │\n",
       "│ CREDIT_CA ┆ SWALAYAN  ┆ null      ┆ null      ┆ … ┆ [3, 4]    ┆ tanjung   ┆ tanjung   ┆ tanjung  │\n",
       "│ RD        ┆ ZOOM MBL  ┆           ┆           ┆   ┆           ┆ pinan     ┆ pinang    ┆ pinan    │\n",
       "│           ┆ TANJUNG   ┆           ┆           ┆   ┆           ┆           ┆           ┆          │\n",
       "│           ┆ PINA…     ┆           ┆           ┆   ┆           ┆           ┆           ┆          │\n",
       "│ CREDIT_CA ┆ PEDRO SUN ┆ null      ┆ null      ┆ … ┆ [3, 4]    ┆ medan     ┆ medan     ┆ medan    │\n",
       "│ RD        ┆ PLAZA     ┆           ┆           ┆   ┆           ┆ medan     ┆           ┆          │\n",
       "│           ┆ MEDAN     ┆           ┆           ┆   ┆           ┆           ┆           ┆          │\n",
       "│           ┆ MEDAN KO… ┆           ┆           ┆   ┆           ┆           ┆           ┆          │\n",
       "│ …         ┆ …         ┆ …         ┆ …         ┆ … ┆ …         ┆ …         ┆ …         ┆ …        │\n",
       "│ CREDIT_CA ┆ AUSSIE    ┆ null      ┆ null      ┆ … ┆ null      ┆ null      ┆ null      ┆ null     │\n",
       "│ RD        ┆ TOYS      ┆           ┆           ┆   ┆           ┆           ┆           ┆          │\n",
       "│           ┆ ONLINE    ┆           ┆           ┆   ┆           ┆           ┆           ┆          │\n",
       "│           ┆ PAKENHAM  ┆           ┆           ┆   ┆           ┆           ┆           ┆          │\n",
       "│           ┆ AU        ┆           ┆           ┆   ┆           ┆           ┆           ┆          │\n",
       "│ CREDIT_CA ┆ TOKO EMAS ┆ null      ┆ OFFLINE   ┆ … ┆ [3, 3]    ┆ medan     ┆ medan     ┆ medan    │\n",
       "│ RD        ┆ GINBERS   ┆           ┆           ┆   ┆           ┆           ┆           ┆          │\n",
       "│           ┆ MEDAN     ┆           ┆           ┆   ┆           ┆           ┆           ┆          │\n",
       "│           ┆ KOT. I…   ┆           ┆           ┆   ┆           ┆           ┆           ┆          │\n",
       "│ CREDIT_CA ┆ BINTANG   ┆ null      ┆ null      ┆ … ┆ [2, 2]    ┆ serang    ┆ serang    ┆ serang   │\n",
       "│ RD        ┆ SPORT     ┆           ┆           ┆   ┆           ┆           ┆           ┆          │\n",
       "│           ┆ SERANG    ┆           ┆           ┆   ┆           ┆           ┆           ┆          │\n",
       "│           ┆ (KOTA)ID  ┆           ┆           ┆   ┆           ┆           ┆           ┆          │\n",
       "│ CREDIT_CA ┆ ACE       ┆ null      ┆ null      ┆ … ┆ [-1, -1]  ┆ null      ┆ null      ┆ null     │\n",
       "│ RD        ┆ HARDWARE  ┆           ┆           ┆   ┆           ┆           ┆           ┆          │\n",
       "│           ┆ MALL PI I ┆           ┆           ┆   ┆           ┆           ┆           ┆          │\n",
       "│           ┆ JAKARTA…  ┆           ┆           ┆   ┆           ┆           ┆           ┆          │\n",
       "│ CREDIT_CA ┆ IDM TJAJ  ┆ null      ┆ OFFLINE   ┆ … ┆ [2, 3]    ┆ lombok    ┆ lombok    ┆ lombok   │\n",
       "│ RD        ┆ LOMBOK    ┆           ┆           ┆   ┆           ┆ timur     ┆ timur     ┆ timur    │\n",
       "│           ┆ TIMUR ID  ┆           ┆           ┆   ┆           ┆           ┆           ┆          │\n",
       "└───────────┴───────────┴───────────┴───────────┴───┴───────────┴───────────┴───────────┴──────────┘"
      ]
     },
     "execution_count": 525,
     "metadata": {},
     "output_type": "execute_result"
    }
   ],
   "source": [
    "data_labeled"
   ]
  },
  {
   "cell_type": "code",
   "execution_count": 346,
   "metadata": {},
   "outputs": [
    {
     "data": {
      "text/html": [
       "<div><style>\n",
       ".dataframe > thead > tr,\n",
       ".dataframe > tbody > tr {\n",
       "  text-align: right;\n",
       "  white-space: pre-wrap;\n",
       "}\n",
       "</style>\n",
       "<small>shape: (10_885, 8)</small><table border=\"1\" class=\"dataframe\"><thead><tr><th>source</th><th>merchant_name</th><th>merchant_location</th><th>online_offline_flag</th><th>country_code</th><th>word_list</th><th>location_index</th><th>extracted_location</th></tr><tr><td>str</td><td>str</td><td>str</td><td>str</td><td>str</td><td>list[str]</td><td>list[i32]</td><td>str</td></tr></thead><tbody><tr><td>&quot;CREDIT_CARD&quot;</td><td>&quot;SUSHI HIRO PASIFIC PLA JAJAKAR…</td><td>null</td><td>null</td><td>&quot;ID&quot;</td><td>[&quot;sushi&quot;, &quot;hiro&quot;, … &quot;selat&quot;]</td><td>[4, 5]</td><td>&quot;jajakarta selat&quot;</td></tr><tr><td>&quot;CREDIT_CARD&quot;</td><td>&quot;KYZN KUNINGAN MBL 1 JAKARTA SE…</td><td>null</td><td>null</td><td>&quot;ID&quot;</td><td>[&quot;kyzn&quot;, &quot;kuningan&quot;, … &quot;selat&quot;]</td><td>[1, 5]</td><td>&quot;kuningan mbl 1 jakarta selat&quot;</td></tr><tr><td>&quot;CREDIT_CARD&quot;</td><td>&quot;IRWAN TEAM JAKARTA SELATID&quot;</td><td>null</td><td>null</td><td>&quot;ID&quot;</td><td>[&quot;irwan&quot;, &quot;team&quot;, … &quot;selat&quot;]</td><td>[2, 3]</td><td>&quot;jakarta selat&quot;</td></tr><tr><td>&quot;CREDIT_CARD&quot;</td><td>&quot;KEBULI BY KHAN CAB.FAT JAKARTA…</td><td>null</td><td>null</td><td>&quot;ID&quot;</td><td>[&quot;kebuli&quot;, &quot;by&quot;, … &quot;selat&quot;]</td><td>[4, 5]</td><td>&quot;jakarta selat&quot;</td></tr><tr><td>&quot;CREDIT_CARD&quot;</td><td>&quot;HARDWARE BG JAKARTA SELATID&quot;</td><td>null</td><td>null</td><td>&quot;ID&quot;</td><td>[&quot;hardware&quot;, &quot;bg&quot;, … &quot;selat&quot;]</td><td>[2, 3]</td><td>&quot;jakarta selat&quot;</td></tr><tr><td>&hellip;</td><td>&hellip;</td><td>&hellip;</td><td>&hellip;</td><td>&hellip;</td><td>&hellip;</td><td>&hellip;</td><td>&hellip;</td></tr><tr><td>&quot;CREDIT_CARD&quot;</td><td>&quot;DAPUR SATE MAK SYUKUR JAKARTA …</td><td>null</td><td>null</td><td>&quot;ID&quot;</td><td>[&quot;dapur&quot;, &quot;sate&quot;, … &quot;selat&quot;]</td><td>[4, 5]</td><td>&quot;jakarta selat&quot;</td></tr><tr><td>&quot;CREDIT_CARD&quot;</td><td>&quot;GUESS - KOTA KASABLAN JAKARTA …</td><td>null</td><td>null</td><td>&quot;ID&quot;</td><td>[&quot;guess&quot;, &quot;kota&quot;, … &quot;sela&quot;]</td><td>[3, 4]</td><td>&quot;jakarta sela&quot;</td></tr><tr><td>&quot;CREDIT_CARD&quot;</td><td>&quot;SUCK MY DUCK JAKARTA SELATID&quot;</td><td>null</td><td>null</td><td>&quot;ID&quot;</td><td>[&quot;suck&quot;, &quot;my&quot;, … &quot;selat&quot;]</td><td>[3, 4]</td><td>&quot;jakarta selat&quot;</td></tr><tr><td>&quot;CREDIT_CARD&quot;</td><td>&quot;INDRI COLLECTION JAKARTA SELAT…</td><td>null</td><td>null</td><td>&quot;ID&quot;</td><td>[&quot;indri&quot;, &quot;collection&quot;, … &quot;selat&quot;]</td><td>[2, 3]</td><td>&quot;jakarta selat&quot;</td></tr><tr><td>&quot;CREDIT_CARD&quot;</td><td>&quot;HARIO ONE SATRIO JAKARTA SELA …</td><td>null</td><td>null</td><td>&quot;ID&quot;</td><td>[&quot;hario&quot;, &quot;one&quot;, … &quot;sela&quot;]</td><td>[3, 4]</td><td>&quot;jakarta sela&quot;</td></tr></tbody></table></div>"
      ],
      "text/plain": [
       "shape: (10_885, 8)\n",
       "┌────────────┬────────────┬────────────┬───────────┬───────────┬───────────┬───────────┬───────────┐\n",
       "│ source     ┆ merchant_n ┆ merchant_l ┆ online_of ┆ country_c ┆ word_list ┆ location_ ┆ extracted │\n",
       "│ ---        ┆ ame        ┆ ocation    ┆ fline_fla ┆ ode       ┆ ---       ┆ index     ┆ _location │\n",
       "│ str        ┆ ---        ┆ ---        ┆ g         ┆ ---       ┆ list[str] ┆ ---       ┆ ---       │\n",
       "│            ┆ str        ┆ str        ┆ ---       ┆ str       ┆           ┆ list[i32] ┆ str       │\n",
       "│            ┆            ┆            ┆ str       ┆           ┆           ┆           ┆           │\n",
       "╞════════════╪════════════╪════════════╪═══════════╪═══════════╪═══════════╪═══════════╪═══════════╡\n",
       "│ CREDIT_CAR ┆ SUSHI HIRO ┆ null       ┆ null      ┆ ID        ┆ [\"sushi\", ┆ [4, 5]    ┆ jajakarta │\n",
       "│ D          ┆ PASIFIC    ┆            ┆           ┆           ┆ \"hiro\", … ┆           ┆ selat     │\n",
       "│            ┆ PLA        ┆            ┆           ┆           ┆ \"selat\"]  ┆           ┆           │\n",
       "│            ┆ JAJAKAR…   ┆            ┆           ┆           ┆           ┆           ┆           │\n",
       "│ CREDIT_CAR ┆ KYZN       ┆ null       ┆ null      ┆ ID        ┆ [\"kyzn\",  ┆ [1, 5]    ┆ kuningan  │\n",
       "│ D          ┆ KUNINGAN   ┆            ┆           ┆           ┆ \"kuningan ┆           ┆ mbl 1     │\n",
       "│            ┆ MBL 1      ┆            ┆           ┆           ┆ \", …      ┆           ┆ jakarta   │\n",
       "│            ┆ JAKARTA    ┆            ┆           ┆           ┆ \"selat\"…  ┆           ┆ selat     │\n",
       "│            ┆ SE…        ┆            ┆           ┆           ┆           ┆           ┆           │\n",
       "│ CREDIT_CAR ┆ IRWAN TEAM ┆ null       ┆ null      ┆ ID        ┆ [\"irwan\", ┆ [2, 3]    ┆ jakarta   │\n",
       "│ D          ┆ JAKARTA    ┆            ┆           ┆           ┆ \"team\", … ┆           ┆ selat     │\n",
       "│            ┆ SELATID    ┆            ┆           ┆           ┆ \"selat\"]  ┆           ┆           │\n",
       "│ CREDIT_CAR ┆ KEBULI BY  ┆ null       ┆ null      ┆ ID        ┆ [\"kebuli\" ┆ [4, 5]    ┆ jakarta   │\n",
       "│ D          ┆ KHAN       ┆            ┆           ┆           ┆ , \"by\", … ┆           ┆ selat     │\n",
       "│            ┆ CAB.FAT    ┆            ┆           ┆           ┆ \"selat\"]  ┆           ┆           │\n",
       "│            ┆ JAKARTA…   ┆            ┆           ┆           ┆           ┆           ┆           │\n",
       "│ CREDIT_CAR ┆ HARDWARE   ┆ null       ┆ null      ┆ ID        ┆ [\"hardwar ┆ [2, 3]    ┆ jakarta   │\n",
       "│ D          ┆ BG JAKARTA ┆            ┆           ┆           ┆ e\", \"bg\", ┆           ┆ selat     │\n",
       "│            ┆ SELATID    ┆            ┆           ┆           ┆ …         ┆           ┆           │\n",
       "│            ┆            ┆            ┆           ┆           ┆ \"selat\"]  ┆           ┆           │\n",
       "│ …          ┆ …          ┆ …          ┆ …         ┆ …         ┆ …         ┆ …         ┆ …         │\n",
       "│ CREDIT_CAR ┆ DAPUR SATE ┆ null       ┆ null      ┆ ID        ┆ [\"dapur\", ┆ [4, 5]    ┆ jakarta   │\n",
       "│ D          ┆ MAK SYUKUR ┆            ┆           ┆           ┆ \"sate\", … ┆           ┆ selat     │\n",
       "│            ┆ JAKARTA …  ┆            ┆           ┆           ┆ \"selat\"]  ┆           ┆           │\n",
       "│ CREDIT_CAR ┆ GUESS -    ┆ null       ┆ null      ┆ ID        ┆ [\"guess\", ┆ [3, 4]    ┆ jakarta   │\n",
       "│ D          ┆ KOTA       ┆            ┆           ┆           ┆ \"kota\", … ┆           ┆ sela      │\n",
       "│            ┆ KASABLAN   ┆            ┆           ┆           ┆ \"sela\"]   ┆           ┆           │\n",
       "│            ┆ JAKARTA …  ┆            ┆           ┆           ┆           ┆           ┆           │\n",
       "│ CREDIT_CAR ┆ SUCK MY    ┆ null       ┆ null      ┆ ID        ┆ [\"suck\",  ┆ [3, 4]    ┆ jakarta   │\n",
       "│ D          ┆ DUCK       ┆            ┆           ┆           ┆ \"my\", …   ┆           ┆ selat     │\n",
       "│            ┆ JAKARTA    ┆            ┆           ┆           ┆ \"selat\"]  ┆           ┆           │\n",
       "│            ┆ SELATID    ┆            ┆           ┆           ┆           ┆           ┆           │\n",
       "│ CREDIT_CAR ┆ INDRI      ┆ null       ┆ null      ┆ ID        ┆ [\"indri\", ┆ [2, 3]    ┆ jakarta   │\n",
       "│ D          ┆ COLLECTION ┆            ┆           ┆           ┆ \"collecti ┆           ┆ selat     │\n",
       "│            ┆ JAKARTA    ┆            ┆           ┆           ┆ on\", …    ┆           ┆           │\n",
       "│            ┆ SELAT…     ┆            ┆           ┆           ┆ \"sel…     ┆           ┆           │\n",
       "│ CREDIT_CAR ┆ HARIO ONE  ┆ null       ┆ null      ┆ ID        ┆ [\"hario\", ┆ [3, 4]    ┆ jakarta   │\n",
       "│ D          ┆ SATRIO     ┆            ┆           ┆           ┆ \"one\", …  ┆           ┆ sela      │\n",
       "│            ┆ JAKARTA    ┆            ┆           ┆           ┆ \"sela\"]   ┆           ┆           │\n",
       "│            ┆ SELA …     ┆            ┆           ┆           ┆           ┆           ┆           │\n",
       "└────────────┴────────────┴────────────┴───────────┴───────────┴───────────┴───────────┴───────────┘"
      ]
     },
     "execution_count": 346,
     "metadata": {},
     "output_type": "execute_result"
    }
   ],
   "source": [
    "data_labeled.filter(pl.col('extracted_location').str.contains(r'jakarta sel'))"
   ]
  },
  {
   "cell_type": "markdown",
   "metadata": {},
   "source": [
    "# TEXT ADJUSTMENT (COMPLETION AND DELETION) TO ENHANCE THE LABEL"
   ]
  },
  {
   "cell_type": "code",
   "execution_count": 316,
   "metadata": {},
   "outputs": [
    {
     "data": {
      "text/html": [
       "<div><style>\n",
       ".dataframe > thead > tr,\n",
       ".dataframe > tbody > tr {\n",
       "  text-align: right;\n",
       "  white-space: pre-wrap;\n",
       "}\n",
       "</style>\n",
       "<small>shape: (492_245, 8)</small><table border=\"1\" class=\"dataframe\"><thead><tr><th>source</th><th>merchant_name</th><th>merchant_location</th><th>online_offline_flag</th><th>country_code</th><th>word_list</th><th>location_index</th><th>extracted_location</th></tr><tr><td>str</td><td>str</td><td>str</td><td>str</td><td>str</td><td>list[str]</td><td>list[i32]</td><td>str</td></tr></thead><tbody><tr><td>&quot;CREDIT_CARD&quot;</td><td>&quot;CHOP BUNTUT CAK YO SLEMAN (KAB…</td><td>null</td><td>null</td><td>&quot;ID&quot;</td><td>[&quot;chop&quot;, &quot;buntut&quot;, … &quot;kab&quot;]</td><td>[3, 4]</td><td>&quot;yo sleman&quot;</td></tr><tr><td>&quot;CREDIT_CARD&quot;</td><td>&quot;TBL* THE SEED LEVEL AMSTERDAM …</td><td>null</td><td>null</td><td>&quot;NL&quot;</td><td>[&quot;tbl&quot;, &quot;the&quot;, … &quot;amsterdam&quot;]</td><td>null</td><td>null</td></tr><tr><td>&quot;CREDIT_CARD&quot;</td><td>&quot;SILOAM CLINIC GRH RAYA TANGERA…</td><td>null</td><td>null</td><td>&quot;ID&quot;</td><td>[&quot;siloam&quot;, &quot;clinic&quot;, … &quot;slt&quot;]</td><td>[4, 4]</td><td>&quot;tangerang&quot;</td></tr><tr><td>&quot;CREDIT_CARD&quot;</td><td>&quot;SWALAYAN ZOOM MBL TANJUNG PINA…</td><td>null</td><td>null</td><td>&quot;ID&quot;</td><td>[&quot;swalayan&quot;, &quot;zoom&quot;, … &quot;pinan&quot;]</td><td>[3, 4]</td><td>&quot;tanjung pinan&quot;</td></tr><tr><td>&quot;CREDIT_CARD&quot;</td><td>&quot;PEDRO SUN PLAZA MEDAN MEDAN KO…</td><td>null</td><td>null</td><td>&quot;ID&quot;</td><td>[&quot;pedro&quot;, &quot;sun&quot;, … &quot;kot&quot;]</td><td>[3, 4]</td><td>&quot;medan medan&quot;</td></tr><tr><td>&hellip;</td><td>&hellip;</td><td>&hellip;</td><td>&hellip;</td><td>&hellip;</td><td>&hellip;</td><td>&hellip;</td><td>&hellip;</td></tr><tr><td>&quot;CREDIT_CARD&quot;</td><td>&quot;AUSSIE TOYS ONLINE PAKENHAM AU&quot;</td><td>null</td><td>null</td><td>&quot;AU&quot;</td><td>[&quot;aussie&quot;, &quot;toys&quot;, … &quot;pakenham&quot;]</td><td>null</td><td>null</td></tr><tr><td>&quot;CREDIT_CARD&quot;</td><td>&quot;TOKO EMAS GINBERS MEDAN KOT. I…</td><td>null</td><td>&quot;OFFLINE&quot;</td><td>&quot;ID&quot;</td><td>[&quot;toko&quot;, &quot;emas&quot;, … &quot;kot&quot;]</td><td>[3, 3]</td><td>&quot;medan&quot;</td></tr><tr><td>&quot;CREDIT_CARD&quot;</td><td>&quot;BINTANG SPORT SERANG (KOTA)ID&quot;</td><td>null</td><td>null</td><td>&quot;ID&quot;</td><td>[&quot;bintang&quot;, &quot;sport&quot;, … &quot;kota&quot;]</td><td>[2, 2]</td><td>&quot;serang&quot;</td></tr><tr><td>&quot;CREDIT_CARD&quot;</td><td>&quot;ACE HARDWARE MALL PI I JAKARTA…</td><td>null</td><td>null</td><td>&quot;ID&quot;</td><td>[&quot;ace&quot;, &quot;hardware&quot;, … &quot;jakarta&quot;]</td><td>[-1, -1]</td><td>null</td></tr><tr><td>&quot;CREDIT_CARD&quot;</td><td>&quot;IDM TJAJ LOMBOK TIMUR ID&quot;</td><td>null</td><td>&quot;OFFLINE&quot;</td><td>&quot;ID&quot;</td><td>[&quot;idm&quot;, &quot;tjaj&quot;, … &quot;timur&quot;]</td><td>[2, 3]</td><td>&quot;lombok timur&quot;</td></tr></tbody></table></div>"
      ],
      "text/plain": [
       "shape: (492_245, 8)\n",
       "┌────────────┬────────────┬────────────┬───────────┬───────────┬───────────┬───────────┬───────────┐\n",
       "│ source     ┆ merchant_n ┆ merchant_l ┆ online_of ┆ country_c ┆ word_list ┆ location_ ┆ extracted │\n",
       "│ ---        ┆ ame        ┆ ocation    ┆ fline_fla ┆ ode       ┆ ---       ┆ index     ┆ _location │\n",
       "│ str        ┆ ---        ┆ ---        ┆ g         ┆ ---       ┆ list[str] ┆ ---       ┆ ---       │\n",
       "│            ┆ str        ┆ str        ┆ ---       ┆ str       ┆           ┆ list[i32] ┆ str       │\n",
       "│            ┆            ┆            ┆ str       ┆           ┆           ┆           ┆           │\n",
       "╞════════════╪════════════╪════════════╪═══════════╪═══════════╪═══════════╪═══════════╪═══════════╡\n",
       "│ CREDIT_CAR ┆ CHOP       ┆ null       ┆ null      ┆ ID        ┆ [\"chop\",  ┆ [3, 4]    ┆ yo sleman │\n",
       "│ D          ┆ BUNTUT CAK ┆            ┆           ┆           ┆ \"buntut\", ┆           ┆           │\n",
       "│            ┆ YO SLEMAN  ┆            ┆           ┆           ┆ … \"kab\"]  ┆           ┆           │\n",
       "│            ┆ (KAB…      ┆            ┆           ┆           ┆           ┆           ┆           │\n",
       "│ CREDIT_CAR ┆ TBL* THE   ┆ null       ┆ null      ┆ NL        ┆ [\"tbl\",   ┆ null      ┆ null      │\n",
       "│ D          ┆ SEED LEVEL ┆            ┆           ┆           ┆ \"the\", …  ┆           ┆           │\n",
       "│            ┆ AMSTERDAM  ┆            ┆           ┆           ┆ \"amsterda ┆           ┆           │\n",
       "│            ┆ …          ┆            ┆           ┆           ┆ m\"]       ┆           ┆           │\n",
       "│ CREDIT_CAR ┆ SILOAM     ┆ null       ┆ null      ┆ ID        ┆ [\"siloam\" ┆ [4, 4]    ┆ tangerang │\n",
       "│ D          ┆ CLINIC GRH ┆            ┆           ┆           ┆ ,         ┆           ┆           │\n",
       "│            ┆ RAYA       ┆            ┆           ┆           ┆ \"clinic\", ┆           ┆           │\n",
       "│            ┆ TANGERA…   ┆            ┆           ┆           ┆ … \"slt\"]  ┆           ┆           │\n",
       "│ CREDIT_CAR ┆ SWALAYAN   ┆ null       ┆ null      ┆ ID        ┆ [\"swalaya ┆ [3, 4]    ┆ tanjung   │\n",
       "│ D          ┆ ZOOM MBL   ┆            ┆           ┆           ┆ n\",       ┆           ┆ pinan     │\n",
       "│            ┆ TANJUNG    ┆            ┆           ┆           ┆ \"zoom\", … ┆           ┆           │\n",
       "│            ┆ PINA…      ┆            ┆           ┆           ┆ \"pinan\"…  ┆           ┆           │\n",
       "│ CREDIT_CAR ┆ PEDRO SUN  ┆ null       ┆ null      ┆ ID        ┆ [\"pedro\", ┆ [3, 4]    ┆ medan     │\n",
       "│ D          ┆ PLAZA      ┆            ┆           ┆           ┆ \"sun\", …  ┆           ┆ medan     │\n",
       "│            ┆ MEDAN      ┆            ┆           ┆           ┆ \"kot\"]    ┆           ┆           │\n",
       "│            ┆ MEDAN KO…  ┆            ┆           ┆           ┆           ┆           ┆           │\n",
       "│ …          ┆ …          ┆ …          ┆ …         ┆ …         ┆ …         ┆ …         ┆ …         │\n",
       "│ CREDIT_CAR ┆ AUSSIE     ┆ null       ┆ null      ┆ AU        ┆ [\"aussie\" ┆ null      ┆ null      │\n",
       "│ D          ┆ TOYS       ┆            ┆           ┆           ┆ , \"toys\", ┆           ┆           │\n",
       "│            ┆ ONLINE     ┆            ┆           ┆           ┆ … \"pakenh ┆           ┆           │\n",
       "│            ┆ PAKENHAM   ┆            ┆           ┆           ┆ am…       ┆           ┆           │\n",
       "│            ┆ AU         ┆            ┆           ┆           ┆           ┆           ┆           │\n",
       "│ CREDIT_CAR ┆ TOKO EMAS  ┆ null       ┆ OFFLINE   ┆ ID        ┆ [\"toko\",  ┆ [3, 3]    ┆ medan     │\n",
       "│ D          ┆ GINBERS    ┆            ┆           ┆           ┆ \"emas\", … ┆           ┆           │\n",
       "│            ┆ MEDAN KOT. ┆            ┆           ┆           ┆ \"kot\"]    ┆           ┆           │\n",
       "│            ┆ I…         ┆            ┆           ┆           ┆           ┆           ┆           │\n",
       "│ CREDIT_CAR ┆ BINTANG    ┆ null       ┆ null      ┆ ID        ┆ [\"bintang ┆ [2, 2]    ┆ serang    │\n",
       "│ D          ┆ SPORT      ┆            ┆           ┆           ┆ \",        ┆           ┆           │\n",
       "│            ┆ SERANG     ┆            ┆           ┆           ┆ \"sport\",  ┆           ┆           │\n",
       "│            ┆ (KOTA)ID   ┆            ┆           ┆           ┆ … \"kota\"] ┆           ┆           │\n",
       "│ CREDIT_CAR ┆ ACE        ┆ null       ┆ null      ┆ ID        ┆ [\"ace\",   ┆ [-1, -1]  ┆ null      │\n",
       "│ D          ┆ HARDWARE   ┆            ┆           ┆           ┆ \"hardware ┆           ┆           │\n",
       "│            ┆ MALL PI I  ┆            ┆           ┆           ┆ \", …      ┆           ┆           │\n",
       "│            ┆ JAKARTA…   ┆            ┆           ┆           ┆ \"jakarta… ┆           ┆           │\n",
       "│ CREDIT_CAR ┆ IDM TJAJ   ┆ null       ┆ OFFLINE   ┆ ID        ┆ [\"idm\",   ┆ [2, 3]    ┆ lombok    │\n",
       "│ D          ┆ LOMBOK     ┆            ┆           ┆           ┆ \"tjaj\", … ┆           ┆ timur     │\n",
       "│            ┆ TIMUR ID   ┆            ┆           ┆           ┆ \"timur\"]  ┆           ┆           │\n",
       "└────────────┴────────────┴────────────┴───────────┴───────────┴───────────┴───────────┴───────────┘"
      ]
     },
     "execution_count": 316,
     "metadata": {},
     "output_type": "execute_result"
    }
   ],
   "source": [
    "# Description preprocessing (Training pipeline)\n",
    "# 1. Extract and remove last 2 characters (Country code)\n",
    "# 2. Remove non-alphanumeric\n",
    "# 3. Remove extra spaces (should be just 1 space)\n",
    "# 4. Enhance extracted location (completion & deletion)\n",
    "# 5. Put the enhanced location back to description\n",
    "# 6. Extract location starting & ending index\n",
    "# DONE - Go to Training\n",
    "\n",
    "# Description preprocessing (Inference pipeline)\n",
    "# 1. Extract and remove last 2 characters (Country code)\n",
    "# 2. Remove non-alphanumeric\n",
    "# 3. Remove extra spaces (should be just 1 space)\n",
    "# DONE - Go to inference\n",
    "\n",
    "# Postprocessing (Inference pipeline)\n",
    "# 1. Enhance extracted location (completion & deletion)\n",
    "data_labeled"
   ]
  },
  {
   "cell_type": "code",
   "execution_count": 12,
   "metadata": {},
   "outputs": [],
   "source": [
    "city_dictionary['full_text'] = {}\n",
    "for city_name in cities_regencies['name_clean']:\n",
    "    city_name = city_name.strip().lower()\n",
    "    first_char = city_name[0]\n",
    "    if first_char not in city_dictionary['full_text']:\n",
    "        city_dictionary['full_text'][first_char] = [city_name]\n",
    "    else:\n",
    "        city_dictionary['full_text'][first_char].append(city_name)\n"
   ]
  },
  {
   "cell_type": "code",
   "execution_count": 14,
   "metadata": {},
   "outputs": [],
   "source": [
    "import pickle"
   ]
  },
  {
   "cell_type": "code",
   "execution_count": 15,
   "metadata": {},
   "outputs": [],
   "source": [
    "file_path=open(\"data/city_dictionary.pkl\", \"wb\")\n",
    "pickle.dump(city_dictionary,file_path)\n",
    "file_path.close()"
   ]
  },
  {
   "cell_type": "code",
   "execution_count": 204,
   "metadata": {},
   "outputs": [
    {
     "name": "stdout",
     "output_type": "stream",
     "text": [
      "4\n",
      "3\n"
     ]
    }
   ],
   "source": [
    "def edit_distance(str1, str2):\n",
    "    \"\"\"\n",
    "    Calculate the Levenshtein (edit) distance between two strings.\n",
    "    \n",
    "    The edit distance is the minimum number of single-character operations\n",
    "    (insertions, deletions, or substitutions) required to change one string\n",
    "    into another.\n",
    "    \n",
    "    Args:\n",
    "        str1: First string\n",
    "        str2: Second string\n",
    "        \n",
    "    Returns:\n",
    "        The edit distance between str1 and str2\n",
    "    \"\"\"\n",
    "    # Create a matrix of size (len(str1)+1) x (len(str2)+1)\n",
    "    dp = [[0 for _ in range(len(str2) + 1)] for _ in range(len(str1) + 1)]\n",
    "    \n",
    "    # Initialize the first row and column\n",
    "    for i in range(len(str1) + 1):\n",
    "        dp[i][0] = i\n",
    "    for j in range(len(str2) + 1):\n",
    "        dp[0][j] = j\n",
    "    \n",
    "    # Fill the matrix\n",
    "    for i in range(1, len(str1) + 1):\n",
    "        for j in range(1, len(str2) + 1):\n",
    "            # If characters match, no operation needed\n",
    "            if str1[i - 1] == str2[j - 1]:\n",
    "                dp[i][j] = dp[i - 1][j - 1]\n",
    "            else:\n",
    "                # Take the minimum of three operations: insert, delete, substitute\n",
    "                dp[i][j] = 1 + min(\n",
    "                    dp[i - 1][j],      # deletion\n",
    "                    dp[i][j - 1],      # insertion\n",
    "                    dp[i - 1][j - 1]   # substitution\n",
    "                )\n",
    "    \n",
    "    return dp[len(str1)][len(str2)]\n",
    "\n",
    "# Example usage\n",
    "print(edit_distance(\"jajakarta selat\", \"jakarta selatan\"))  # Output: 3\n",
    "print(edit_distance(\"sunday\", \"saturday\"))  # Output: 3"
   ]
  },
  {
   "cell_type": "code",
   "execution_count": 319,
   "metadata": {},
   "outputs": [
    {
     "data": {
      "text/html": [
       "<div><style>\n",
       ".dataframe > thead > tr,\n",
       ".dataframe > tbody > tr {\n",
       "  text-align: right;\n",
       "  white-space: pre-wrap;\n",
       "}\n",
       "</style>\n",
       "<small>shape: (9, 7)</small><table border=\"1\" class=\"dataframe\"><thead><tr><th>id</th><th>id_provinces</th><th>name</th><th>name_clean</th><th>unigram</th><th>bigram</th><th>trigram</th></tr><tr><td>i64</td><td>i64</td><td>str</td><td>str</td><td>object</td><td>object</td><td>object</td></tr></thead><tbody><tr><td>1207</td><td>12</td><td>&quot;KABUPATEN LABUHAN BATU&quot;</td><td>&quot;LABUHAN BATU&quot;</td><td>[&#x27;l&#x27;, &#x27;a&#x27;, &#x27;b&#x27;, &#x27;u&#x27;, &#x27;h&#x27;, &#x27;a&#x27;, &#x27;n&#x27;, &#x27;b&#x27;, &#x27;a&#x27;, &#x27;t&#x27;, &#x27;u&#x27;]</td><td>[&#x27;la&#x27;, &#x27;ab&#x27;, &#x27;bu&#x27;, &#x27;uh&#x27;, &#x27;ha&#x27;, &#x27;an&#x27;, &#x27;nb&#x27;, &#x27;ba&#x27;, &#x27;at&#x27;, &#x27;tu&#x27;]</td><td>[&#x27;lab&#x27;, &#x27;abu&#x27;, &#x27;buh&#x27;, &#x27;uha&#x27;, &#x27;han&#x27;, &#x27;anb&#x27;, &#x27;nba&#x27;, &#x27;bat&#x27;, &#x27;atu&#x27;]</td></tr><tr><td>1219</td><td>12</td><td>&quot;KABUPATEN BATU BARA&quot;</td><td>&quot;BATU BARA&quot;</td><td>[&#x27;b&#x27;, &#x27;a&#x27;, &#x27;t&#x27;, &#x27;u&#x27;, &#x27;b&#x27;, &#x27;a&#x27;, &#x27;r&#x27;, &#x27;a&#x27;]</td><td>[&#x27;ba&#x27;, &#x27;at&#x27;, &#x27;tu&#x27;, &#x27;ub&#x27;, &#x27;ba&#x27;, &#x27;ar&#x27;, &#x27;ra&#x27;]</td><td>[&#x27;bat&#x27;, &#x27;atu&#x27;, &#x27;tub&#x27;, &#x27;uba&#x27;, &#x27;bar&#x27;, &#x27;ara&#x27;]</td></tr><tr><td>1222</td><td>12</td><td>&quot;KABUPATEN LABUHAN BATU SELATAN&quot;</td><td>&quot;LABUHAN BATU SELATAN&quot;</td><td>[&#x27;l&#x27;, &#x27;a&#x27;, &#x27;b&#x27;, &#x27;u&#x27;, &#x27;h&#x27;, &#x27;a&#x27;, &#x27;n&#x27;, &#x27;b&#x27;, &#x27;a&#x27;, &#x27;t&#x27;, &#x27;u&#x27;, &#x27;s&#x27;, &#x27;e&#x27;, &#x27;l&#x27;, &#x27;a&#x27;, &#x27;t&#x27;, &#x27;a&#x27;, &#x27;n&#x27;]</td><td>[&#x27;la&#x27;, &#x27;ab&#x27;, &#x27;bu&#x27;, &#x27;uh&#x27;, &#x27;ha&#x27;, &#x27;an&#x27;, &#x27;nb&#x27;, &#x27;ba&#x27;, &#x27;at&#x27;, &#x27;tu&#x27;, &#x27;us&#x27;, &#x27;se&#x27;, &#x27;el&#x27;, &#x27;la&#x27;, &#x27;at&#x27;, &#x27;ta&#x27;, &#x27;an&#x27;]</td><td>[&#x27;lab&#x27;, &#x27;abu&#x27;, &#x27;buh&#x27;, &#x27;uha&#x27;, &#x27;han&#x27;, &#x27;anb&#x27;, &#x27;nba&#x27;, &#x27;bat&#x27;, &#x27;atu&#x27;, &#x27;tus&#x27;, &#x27;use&#x27;, &#x27;sel&#x27;, &#x27;ela&#x27;, &#x27;lat&#x27;, &#x27;ata&#x27;, &#x27;tan&#x27;]</td></tr><tr><td>1223</td><td>12</td><td>&quot;KABUPATEN LABUHAN BATU UTARA&quot;</td><td>&quot;LABUHAN BATU UTARA&quot;</td><td>[&#x27;l&#x27;, &#x27;a&#x27;, &#x27;b&#x27;, &#x27;u&#x27;, &#x27;h&#x27;, &#x27;a&#x27;, &#x27;n&#x27;, &#x27;b&#x27;, &#x27;a&#x27;, &#x27;t&#x27;, &#x27;u&#x27;, &#x27;u&#x27;, &#x27;t&#x27;, &#x27;a&#x27;, &#x27;r&#x27;, &#x27;a&#x27;]</td><td>[&#x27;la&#x27;, &#x27;ab&#x27;, &#x27;bu&#x27;, &#x27;uh&#x27;, &#x27;ha&#x27;, &#x27;an&#x27;, &#x27;nb&#x27;, &#x27;ba&#x27;, &#x27;at&#x27;, &#x27;tu&#x27;, &#x27;uu&#x27;, &#x27;ut&#x27;, &#x27;ta&#x27;, &#x27;ar&#x27;, &#x27;ra&#x27;]</td><td>[&#x27;lab&#x27;, &#x27;abu&#x27;, &#x27;buh&#x27;, &#x27;uha&#x27;, &#x27;han&#x27;, &#x27;anb&#x27;, &#x27;nba&#x27;, &#x27;bat&#x27;, &#x27;atu&#x27;, &#x27;tuu&#x27;, &#x27;uut&#x27;, &#x27;uta&#x27;, &#x27;tar&#x27;, &#x27;ara&#x27;]</td></tr><tr><td>1504</td><td>15</td><td>&quot;KABUPATEN BATANG HARI&quot;</td><td>&quot;BATANG HARI&quot;</td><td>[&#x27;b&#x27;, &#x27;a&#x27;, &#x27;t&#x27;, &#x27;a&#x27;, &#x27;n&#x27;, &#x27;g&#x27;, &#x27;h&#x27;, &#x27;a&#x27;, &#x27;r&#x27;, &#x27;i&#x27;]</td><td>[&#x27;ba&#x27;, &#x27;at&#x27;, &#x27;ta&#x27;, &#x27;an&#x27;, &#x27;ng&#x27;, &#x27;gh&#x27;, &#x27;ha&#x27;, &#x27;ar&#x27;, &#x27;ri&#x27;]</td><td>[&#x27;bat&#x27;, &#x27;ata&#x27;, &#x27;tan&#x27;, &#x27;ang&#x27;, &#x27;ngh&#x27;, &#x27;gha&#x27;, &#x27;har&#x27;, &#x27;ari&#x27;]</td></tr><tr><td>2171</td><td>21</td><td>&quot;KOTA BATAM&quot;</td><td>&quot;BATAM&quot;</td><td>[&#x27;b&#x27;, &#x27;a&#x27;, &#x27;t&#x27;, &#x27;a&#x27;, &#x27;m&#x27;]</td><td>[&#x27;ba&#x27;, &#x27;at&#x27;, &#x27;ta&#x27;, &#x27;am&#x27;]</td><td>[&#x27;bat&#x27;, &#x27;ata&#x27;, &#x27;tam&#x27;]</td></tr><tr><td>3325</td><td>33</td><td>&quot;KABUPATEN BATANG&quot;</td><td>&quot;BATANG&quot;</td><td>[&#x27;b&#x27;, &#x27;a&#x27;, &#x27;t&#x27;, &#x27;a&#x27;, &#x27;n&#x27;, &#x27;g&#x27;]</td><td>[&#x27;ba&#x27;, &#x27;at&#x27;, &#x27;ta&#x27;, &#x27;an&#x27;, &#x27;ng&#x27;]</td><td>[&#x27;bat&#x27;, &#x27;ata&#x27;, &#x27;tan&#x27;, &#x27;ang&#x27;]</td></tr><tr><td>3579</td><td>35</td><td>&quot;KOTA BATU&quot;</td><td>&quot;BATU&quot;</td><td>[&#x27;b&#x27;, &#x27;a&#x27;, &#x27;t&#x27;, &#x27;u&#x27;]</td><td>[&#x27;ba&#x27;, &#x27;at&#x27;, &#x27;tu&#x27;]</td><td>[&#x27;bat&#x27;, &#x27;atu&#x27;]</td></tr><tr><td>5308</td><td>53</td><td>&quot;KABUPATEN LEMBATA&quot;</td><td>&quot;LEMBATA&quot;</td><td>[&#x27;l&#x27;, &#x27;e&#x27;, &#x27;m&#x27;, &#x27;b&#x27;, &#x27;a&#x27;, &#x27;t&#x27;, &#x27;a&#x27;]</td><td>[&#x27;le&#x27;, &#x27;em&#x27;, &#x27;mb&#x27;, &#x27;ba&#x27;, &#x27;at&#x27;, &#x27;ta&#x27;]</td><td>[&#x27;lem&#x27;, &#x27;emb&#x27;, &#x27;mba&#x27;, &#x27;bat&#x27;, &#x27;ata&#x27;]</td></tr></tbody></table></div>"
      ],
      "text/plain": [
       "shape: (9, 7)\n",
       "┌──────┬──────────────┬─────────────────┬────────────────┬────────────┬────────────────┬───────────┐\n",
       "│ id   ┆ id_provinces ┆ name            ┆ name_clean     ┆ unigram    ┆ bigram         ┆ trigram   │\n",
       "│ ---  ┆ ---          ┆ ---             ┆ ---            ┆ ---        ┆ ---            ┆ ---       │\n",
       "│ i64  ┆ i64          ┆ str             ┆ str            ┆ object     ┆ object         ┆ object    │\n",
       "╞══════╪══════════════╪═════════════════╪════════════════╪════════════╪════════════════╪═══════════╡\n",
       "│ 1207 ┆ 12           ┆ KABUPATEN       ┆ LABUHAN BATU   ┆ ['l', 'a', ┆ ['la', 'ab',   ┆ ['lab',   │\n",
       "│      ┆              ┆ LABUHAN BATU    ┆                ┆ 'b', 'u',  ┆ 'bu', 'uh',    ┆ 'abu',    │\n",
       "│      ┆              ┆                 ┆                ┆ 'h', 'a',… ┆ 'ha',…         ┆ 'buh',    │\n",
       "│      ┆              ┆                 ┆                ┆            ┆                ┆ 'uha', '… │\n",
       "│ 1219 ┆ 12           ┆ KABUPATEN BATU  ┆ BATU BARA      ┆ ['b', 'a', ┆ ['ba', 'at',   ┆ ['bat',   │\n",
       "│      ┆              ┆ BARA            ┆                ┆ 't', 'u',  ┆ 'tu', 'ub',    ┆ 'atu',    │\n",
       "│      ┆              ┆                 ┆                ┆ 'b', 'a',… ┆ 'ba',…         ┆ 'tub',    │\n",
       "│      ┆              ┆                 ┆                ┆            ┆                ┆ 'uba', '… │\n",
       "│ 1222 ┆ 12           ┆ KABUPATEN       ┆ LABUHAN BATU   ┆ ['l', 'a', ┆ ['la', 'ab',   ┆ ['lab',   │\n",
       "│      ┆              ┆ LABUHAN BATU    ┆ SELATAN        ┆ 'b', 'u',  ┆ 'bu', 'uh',    ┆ 'abu',    │\n",
       "│      ┆              ┆ SELATAN         ┆                ┆ 'h', 'a',… ┆ 'ha',…         ┆ 'buh',    │\n",
       "│      ┆              ┆                 ┆                ┆            ┆                ┆ 'uha', '… │\n",
       "│ 1223 ┆ 12           ┆ KABUPATEN       ┆ LABUHAN BATU   ┆ ['l', 'a', ┆ ['la', 'ab',   ┆ ['lab',   │\n",
       "│      ┆              ┆ LABUHAN BATU    ┆ UTARA          ┆ 'b', 'u',  ┆ 'bu', 'uh',    ┆ 'abu',    │\n",
       "│      ┆              ┆ UTARA           ┆                ┆ 'h', 'a',… ┆ 'ha',…         ┆ 'buh',    │\n",
       "│      ┆              ┆                 ┆                ┆            ┆                ┆ 'uha', '… │\n",
       "│ 1504 ┆ 15           ┆ KABUPATEN       ┆ BATANG HARI    ┆ ['b', 'a', ┆ ['ba', 'at',   ┆ ['bat',   │\n",
       "│      ┆              ┆ BATANG HARI     ┆                ┆ 't', 'a',  ┆ 'ta', 'an',    ┆ 'ata',    │\n",
       "│      ┆              ┆                 ┆                ┆ 'n', 'g',… ┆ 'ng',…         ┆ 'tan',    │\n",
       "│      ┆              ┆                 ┆                ┆            ┆                ┆ 'ang', '… │\n",
       "│ 2171 ┆ 21           ┆ KOTA BATAM      ┆ BATAM          ┆ ['b', 'a', ┆ ['ba', 'at',   ┆ ['bat',   │\n",
       "│      ┆              ┆                 ┆                ┆ 't', 'a',  ┆ 'ta', 'am']    ┆ 'ata',    │\n",
       "│      ┆              ┆                 ┆                ┆ 'm']       ┆                ┆ 'tam']    │\n",
       "│ 3325 ┆ 33           ┆ KABUPATEN       ┆ BATANG         ┆ ['b', 'a', ┆ ['ba', 'at',   ┆ ['bat',   │\n",
       "│      ┆              ┆ BATANG          ┆                ┆ 't', 'a',  ┆ 'ta', 'an',    ┆ 'ata',    │\n",
       "│      ┆              ┆                 ┆                ┆ 'n', 'g']  ┆ 'ng']          ┆ 'tan',    │\n",
       "│      ┆              ┆                 ┆                ┆            ┆                ┆ 'ang']    │\n",
       "│ 3579 ┆ 35           ┆ KOTA BATU       ┆ BATU           ┆ ['b', 'a', ┆ ['ba', 'at',   ┆ ['bat',   │\n",
       "│      ┆              ┆                 ┆                ┆ 't', 'u']  ┆ 'tu']          ┆ 'atu']    │\n",
       "│ 5308 ┆ 53           ┆ KABUPATEN       ┆ LEMBATA        ┆ ['l', 'e', ┆ ['le', 'em',   ┆ ['lem',   │\n",
       "│      ┆              ┆ LEMBATA         ┆                ┆ 'm', 'b',  ┆ 'mb', 'ba',    ┆ 'emb',    │\n",
       "│      ┆              ┆                 ┆                ┆ 'a', 't',… ┆ 'at',…         ┆ 'mba',    │\n",
       "│      ┆              ┆                 ┆                ┆            ┆                ┆ 'bat', '… │\n",
       "└──────┴──────────────┴─────────────────┴────────────────┴────────────┴────────────────┴───────────┘"
      ]
     },
     "execution_count": 319,
     "metadata": {},
     "output_type": "execute_result"
    }
   ],
   "source": [
    "cities_regencies.filter(pl.col('name').str.contains(r'BAT'))"
   ]
  },
  {
   "cell_type": "code",
   "execution_count": 342,
   "metadata": {},
   "outputs": [
    {
     "data": {
      "text/plain": [
       "<re.Match object; span=(3, 9), match='badung'>"
      ]
     },
     "execution_count": 342,
     "metadata": {},
     "output_type": "execute_result"
    }
   ],
   "source": [
    "re.search(r'badung', 'ho badung')"
   ]
  },
  {
   "cell_type": "code",
   "execution_count": 374,
   "metadata": {},
   "outputs": [],
   "source": [
    "def enhance_location(row, threshold = 0.8, all_text_threshold = 0.7):\n",
    "    if row is None or len(row) == 0:\n",
    "        return None\n",
    "\n",
    "    # SPECIAL CASE: BADUNG & BANDUNG\n",
    "    if re.search(r'(bandung\\s?barat)', row):\n",
    "        return row, [(1.1, 'bandung barat')]\n",
    "    if re.search(r'(bdg\\s?barat)', row):\n",
    "        return row, [(1.1, 'bdg barat')]\n",
    "    if re.search(r'bandung', row):\n",
    "        return row, [(1.1, 'bandung')]\n",
    "    if re.search(r'(bdg)', row):\n",
    "        return row, [(1.1, 'bdg')]\n",
    "    if re.search(r'badung', row):\n",
    "        return row, [(1.1, 'badung')]\n",
    "\n",
    "    # word by word\n",
    "    match = []\n",
    "    for loc_word in row.split(\" \"):\n",
    "        if len(loc_word) == 0:\n",
    "            continue\n",
    "        if loc_word[0] not in city_dictionary['full_text']:\n",
    "            continue\n",
    "        \n",
    "        for possible_loc in city_dictionary['full_text'][loc_word[0]]:\n",
    "            score = jaccard_similarity(possible_loc, loc_word)\n",
    "            if possible_loc in loc_word:\n",
    "                score += 0.01\n",
    "\n",
    "            if score >= threshold:\n",
    "                match.append((score,loc_word, 'wbw')) # change loc_word to possible_loc for full enhancement\n",
    "    # single\n",
    "    if row[0] in city_dictionary['full_text']:\n",
    "        for possible_loc in city_dictionary['full_text'][row[0]]:\n",
    "            score = jaccard_similarity(possible_loc, row)\n",
    "            if score >= all_text_threshold:\n",
    "                match.append((1.01*score, row ,'sin')) # change row to possible_loc for full enhancement\n",
    "\n",
    "    return row, sorted(match, key=lambda x: x[0], reverse=True)"
   ]
  },
  {
   "cell_type": "code",
   "execution_count": 375,
   "metadata": {},
   "outputs": [
    {
     "name": "stdout",
     "output_type": "stream",
     "text": [
      "None\n",
      "None\n",
      "('jakarta barat', [(1.01, 'jakarta barat', 'sin'), (0.7575000000000001, 'jakarta barat', 'sin')])\n",
      "('bekasi', [(1.01, 'bekasi', 'wbw'), (1.01, 'bekasi', 'wbw'), (1.01, 'bekasi', 'sin'), (1.01, 'bekasi', 'sin')])\n",
      "None\n",
      "('jakarta pusa', [(1.01, 'jakarta pusa', 'sin'), (0.7855555555555556, 'jakarta pusa', 'sin')])\n",
      "None\n",
      "None\n",
      "('sukabumi kab', [(1.01, 'sukabumi', 'wbw'), (1.01, 'sukabumi', 'wbw'), (0.88375, 'sukabumi kab', 'sin'), (0.88375, 'sukabumi kab', 'sin'), (0.707, 'sukabumi kab', 'sin')])\n",
      "('bebekasi', [(1.01, 'bebekasi', 'wbw'), (1.01, 'bebekasi', 'wbw'), (1.01, 'bebekasi', 'sin'), (1.01, 'bebekasi', 'sin')])\n",
      "CPU times: user 4.03 ms, sys: 0 ns, total: 4.03 ms\n",
      "Wall time: 2.79 ms\n"
     ]
    }
   ],
   "source": [
    "%%time\n",
    "for row in data_labeled['extracted_location'].sample(10):\n",
    "    print(enhance_location(row))"
   ]
  },
  {
   "cell_type": "code",
   "execution_count": 1,
   "metadata": {},
   "outputs": [
    {
     "ename": "NameError",
     "evalue": "name 'enhance_location' is not defined",
     "output_type": "error",
     "traceback": [
      "\u001b[0;31m---------------------------------------------------------------------------\u001b[0m",
      "\u001b[0;31mNameError\u001b[0m                                 Traceback (most recent call last)",
      "Cell \u001b[0;32mIn[1], line 1\u001b[0m\n\u001b[0;32m----> 1\u001b[0m \u001b[43menhance_location\u001b[49m(\u001b[38;5;124m\"\u001b[39m\u001b[38;5;124mjakarta slt\u001b[39m\u001b[38;5;124m\"\u001b[39m)\n",
      "\u001b[0;31mNameError\u001b[0m: name 'enhance_location' is not defined"
     ]
    }
   ],
   "source": [
    "enhance_location(\"jakarta slt\")"
   ]
  },
  {
   "cell_type": "code",
   "execution_count": 359,
   "metadata": {},
   "outputs": [],
   "source": [
    "def create_enhanced_location(row):\n",
    "    enhanced = enhance_location(row)\n",
    "\n",
    "    if len(enhanced[1]) == 0:\n",
    "        return None\n",
    "    if len(enhanced[1][0]) == 0:\n",
    "        return None\n",
    "    \n",
    "    return enhanced[1][0][1]"
   ]
  },
  {
   "cell_type": "code",
   "execution_count": 376,
   "metadata": {},
   "outputs": [
    {
     "name": "stdout",
     "output_type": "stream",
     "text": [
      "CPU times: user 41.5 s, sys: 94.5 ms, total: 41.6 s\n",
      "Wall time: 41.4 s\n"
     ]
    }
   ],
   "source": [
    "%%time\n",
    "data_labeled = data_labeled.with_columns(\n",
    "    pl.col('extracted_location').map_elements(lambda x: create_enhanced_location(x), return_dtype=pl.String).alias('cleaned_location')\n",
    ")"
   ]
  },
  {
   "cell_type": "code",
   "execution_count": 377,
   "metadata": {},
   "outputs": [
    {
     "data": {
      "text/html": [
       "<div><style>\n",
       ".dataframe > thead > tr,\n",
       ".dataframe > tbody > tr {\n",
       "  text-align: right;\n",
       "  white-space: pre-wrap;\n",
       "}\n",
       "</style>\n",
       "<small>shape: (492_245, 10)</small><table border=\"1\" class=\"dataframe\"><thead><tr><th>source</th><th>merchant_name</th><th>merchant_location</th><th>online_offline_flag</th><th>country_code</th><th>word_list</th><th>location_index</th><th>extracted_location</th><th>enhanced_location</th><th>cleaned_location</th></tr><tr><td>str</td><td>str</td><td>str</td><td>str</td><td>str</td><td>list[str]</td><td>list[i32]</td><td>str</td><td>str</td><td>str</td></tr></thead><tbody><tr><td>&quot;CREDIT_CARD&quot;</td><td>&quot;CHOP BUNTUT CAK YO SLEMAN (KAB…</td><td>null</td><td>null</td><td>&quot;ID&quot;</td><td>[&quot;chop&quot;, &quot;buntut&quot;, … &quot;kab&quot;]</td><td>[3, 4]</td><td>&quot;yo sleman&quot;</td><td>&quot;sleman&quot;</td><td>&quot;sleman&quot;</td></tr><tr><td>&quot;CREDIT_CARD&quot;</td><td>&quot;TBL* THE SEED LEVEL AMSTERDAM …</td><td>null</td><td>null</td><td>&quot;NL&quot;</td><td>[&quot;tbl&quot;, &quot;the&quot;, … &quot;amsterdam&quot;]</td><td>null</td><td>null</td><td>null</td><td>null</td></tr><tr><td>&quot;CREDIT_CARD&quot;</td><td>&quot;SILOAM CLINIC GRH RAYA TANGERA…</td><td>null</td><td>null</td><td>&quot;ID&quot;</td><td>[&quot;siloam&quot;, &quot;clinic&quot;, … &quot;slt&quot;]</td><td>[4, 4]</td><td>&quot;tangerang&quot;</td><td>&quot;tangerang&quot;</td><td>&quot;tangerang&quot;</td></tr><tr><td>&quot;CREDIT_CARD&quot;</td><td>&quot;SWALAYAN ZOOM MBL TANJUNG PINA…</td><td>null</td><td>null</td><td>&quot;ID&quot;</td><td>[&quot;swalayan&quot;, &quot;zoom&quot;, … &quot;pinan&quot;]</td><td>[3, 4]</td><td>&quot;tanjung pinan&quot;</td><td>&quot;tanjung pinang&quot;</td><td>&quot;tanjung pinan&quot;</td></tr><tr><td>&quot;CREDIT_CARD&quot;</td><td>&quot;PEDRO SUN PLAZA MEDAN MEDAN KO…</td><td>null</td><td>null</td><td>&quot;ID&quot;</td><td>[&quot;pedro&quot;, &quot;sun&quot;, … &quot;kot&quot;]</td><td>[3, 4]</td><td>&quot;medan medan&quot;</td><td>&quot;medan&quot;</td><td>&quot;medan&quot;</td></tr><tr><td>&hellip;</td><td>&hellip;</td><td>&hellip;</td><td>&hellip;</td><td>&hellip;</td><td>&hellip;</td><td>&hellip;</td><td>&hellip;</td><td>&hellip;</td><td>&hellip;</td></tr><tr><td>&quot;CREDIT_CARD&quot;</td><td>&quot;AUSSIE TOYS ONLINE PAKENHAM AU&quot;</td><td>null</td><td>null</td><td>&quot;AU&quot;</td><td>[&quot;aussie&quot;, &quot;toys&quot;, … &quot;pakenham&quot;]</td><td>null</td><td>null</td><td>null</td><td>null</td></tr><tr><td>&quot;CREDIT_CARD&quot;</td><td>&quot;TOKO EMAS GINBERS MEDAN KOT. I…</td><td>null</td><td>&quot;OFFLINE&quot;</td><td>&quot;ID&quot;</td><td>[&quot;toko&quot;, &quot;emas&quot;, … &quot;kot&quot;]</td><td>[3, 3]</td><td>&quot;medan&quot;</td><td>&quot;medan&quot;</td><td>&quot;medan&quot;</td></tr><tr><td>&quot;CREDIT_CARD&quot;</td><td>&quot;BINTANG SPORT SERANG (KOTA)ID&quot;</td><td>null</td><td>null</td><td>&quot;ID&quot;</td><td>[&quot;bintang&quot;, &quot;sport&quot;, … &quot;kota&quot;]</td><td>[2, 2]</td><td>&quot;serang&quot;</td><td>&quot;serang&quot;</td><td>&quot;serang&quot;</td></tr><tr><td>&quot;CREDIT_CARD&quot;</td><td>&quot;ACE HARDWARE MALL PI I JAKARTA…</td><td>null</td><td>null</td><td>&quot;ID&quot;</td><td>[&quot;ace&quot;, &quot;hardware&quot;, … &quot;jakarta&quot;]</td><td>[-1, -1]</td><td>null</td><td>null</td><td>null</td></tr><tr><td>&quot;CREDIT_CARD&quot;</td><td>&quot;IDM TJAJ LOMBOK TIMUR ID&quot;</td><td>null</td><td>&quot;OFFLINE&quot;</td><td>&quot;ID&quot;</td><td>[&quot;idm&quot;, &quot;tjaj&quot;, … &quot;timur&quot;]</td><td>[2, 3]</td><td>&quot;lombok timur&quot;</td><td>&quot;lombok timur&quot;</td><td>&quot;lombok timur&quot;</td></tr></tbody></table></div>"
      ],
      "text/plain": [
       "shape: (492_245, 10)\n",
       "┌───────────┬───────────┬───────────┬───────────┬───┬───────────┬───────────┬───────────┬──────────┐\n",
       "│ source    ┆ merchant_ ┆ merchant_ ┆ online_of ┆ … ┆ location_ ┆ extracted ┆ enhanced_ ┆ cleaned_ │\n",
       "│ ---       ┆ name      ┆ location  ┆ fline_fla ┆   ┆ index     ┆ _location ┆ location  ┆ location │\n",
       "│ str       ┆ ---       ┆ ---       ┆ g         ┆   ┆ ---       ┆ ---       ┆ ---       ┆ ---      │\n",
       "│           ┆ str       ┆ str       ┆ ---       ┆   ┆ list[i32] ┆ str       ┆ str       ┆ str      │\n",
       "│           ┆           ┆           ┆ str       ┆   ┆           ┆           ┆           ┆          │\n",
       "╞═══════════╪═══════════╪═══════════╪═══════════╪═══╪═══════════╪═══════════╪═══════════╪══════════╡\n",
       "│ CREDIT_CA ┆ CHOP      ┆ null      ┆ null      ┆ … ┆ [3, 4]    ┆ yo sleman ┆ sleman    ┆ sleman   │\n",
       "│ RD        ┆ BUNTUT    ┆           ┆           ┆   ┆           ┆           ┆           ┆          │\n",
       "│           ┆ CAK YO    ┆           ┆           ┆   ┆           ┆           ┆           ┆          │\n",
       "│           ┆ SLEMAN    ┆           ┆           ┆   ┆           ┆           ┆           ┆          │\n",
       "│           ┆ (KAB…     ┆           ┆           ┆   ┆           ┆           ┆           ┆          │\n",
       "│ CREDIT_CA ┆ TBL* THE  ┆ null      ┆ null      ┆ … ┆ null      ┆ null      ┆ null      ┆ null     │\n",
       "│ RD        ┆ SEED      ┆           ┆           ┆   ┆           ┆           ┆           ┆          │\n",
       "│           ┆ LEVEL     ┆           ┆           ┆   ┆           ┆           ┆           ┆          │\n",
       "│           ┆ AMSTERDAM ┆           ┆           ┆   ┆           ┆           ┆           ┆          │\n",
       "│           ┆ …         ┆           ┆           ┆   ┆           ┆           ┆           ┆          │\n",
       "│ CREDIT_CA ┆ SILOAM    ┆ null      ┆ null      ┆ … ┆ [4, 4]    ┆ tangerang ┆ tangerang ┆ tangeran │\n",
       "│ RD        ┆ CLINIC    ┆           ┆           ┆   ┆           ┆           ┆           ┆ g        │\n",
       "│           ┆ GRH RAYA  ┆           ┆           ┆   ┆           ┆           ┆           ┆          │\n",
       "│           ┆ TANGERA…  ┆           ┆           ┆   ┆           ┆           ┆           ┆          │\n",
       "│ CREDIT_CA ┆ SWALAYAN  ┆ null      ┆ null      ┆ … ┆ [3, 4]    ┆ tanjung   ┆ tanjung   ┆ tanjung  │\n",
       "│ RD        ┆ ZOOM MBL  ┆           ┆           ┆   ┆           ┆ pinan     ┆ pinang    ┆ pinan    │\n",
       "│           ┆ TANJUNG   ┆           ┆           ┆   ┆           ┆           ┆           ┆          │\n",
       "│           ┆ PINA…     ┆           ┆           ┆   ┆           ┆           ┆           ┆          │\n",
       "│ CREDIT_CA ┆ PEDRO SUN ┆ null      ┆ null      ┆ … ┆ [3, 4]    ┆ medan     ┆ medan     ┆ medan    │\n",
       "│ RD        ┆ PLAZA     ┆           ┆           ┆   ┆           ┆ medan     ┆           ┆          │\n",
       "│           ┆ MEDAN     ┆           ┆           ┆   ┆           ┆           ┆           ┆          │\n",
       "│           ┆ MEDAN KO… ┆           ┆           ┆   ┆           ┆           ┆           ┆          │\n",
       "│ …         ┆ …         ┆ …         ┆ …         ┆ … ┆ …         ┆ …         ┆ …         ┆ …        │\n",
       "│ CREDIT_CA ┆ AUSSIE    ┆ null      ┆ null      ┆ … ┆ null      ┆ null      ┆ null      ┆ null     │\n",
       "│ RD        ┆ TOYS      ┆           ┆           ┆   ┆           ┆           ┆           ┆          │\n",
       "│           ┆ ONLINE    ┆           ┆           ┆   ┆           ┆           ┆           ┆          │\n",
       "│           ┆ PAKENHAM  ┆           ┆           ┆   ┆           ┆           ┆           ┆          │\n",
       "│           ┆ AU        ┆           ┆           ┆   ┆           ┆           ┆           ┆          │\n",
       "│ CREDIT_CA ┆ TOKO EMAS ┆ null      ┆ OFFLINE   ┆ … ┆ [3, 3]    ┆ medan     ┆ medan     ┆ medan    │\n",
       "│ RD        ┆ GINBERS   ┆           ┆           ┆   ┆           ┆           ┆           ┆          │\n",
       "│           ┆ MEDAN     ┆           ┆           ┆   ┆           ┆           ┆           ┆          │\n",
       "│           ┆ KOT. I…   ┆           ┆           ┆   ┆           ┆           ┆           ┆          │\n",
       "│ CREDIT_CA ┆ BINTANG   ┆ null      ┆ null      ┆ … ┆ [2, 2]    ┆ serang    ┆ serang    ┆ serang   │\n",
       "│ RD        ┆ SPORT     ┆           ┆           ┆   ┆           ┆           ┆           ┆          │\n",
       "│           ┆ SERANG    ┆           ┆           ┆   ┆           ┆           ┆           ┆          │\n",
       "│           ┆ (KOTA)ID  ┆           ┆           ┆   ┆           ┆           ┆           ┆          │\n",
       "│ CREDIT_CA ┆ ACE       ┆ null      ┆ null      ┆ … ┆ [-1, -1]  ┆ null      ┆ null      ┆ null     │\n",
       "│ RD        ┆ HARDWARE  ┆           ┆           ┆   ┆           ┆           ┆           ┆          │\n",
       "│           ┆ MALL PI I ┆           ┆           ┆   ┆           ┆           ┆           ┆          │\n",
       "│           ┆ JAKARTA…  ┆           ┆           ┆   ┆           ┆           ┆           ┆          │\n",
       "│ CREDIT_CA ┆ IDM TJAJ  ┆ null      ┆ OFFLINE   ┆ … ┆ [2, 3]    ┆ lombok    ┆ lombok    ┆ lombok   │\n",
       "│ RD        ┆ LOMBOK    ┆           ┆           ┆   ┆           ┆ timur     ┆ timur     ┆ timur    │\n",
       "│           ┆ TIMUR ID  ┆           ┆           ┆   ┆           ┆           ┆           ┆          │\n",
       "└───────────┴───────────┴───────────┴───────────┴───┴───────────┴───────────┴───────────┴──────────┘"
      ]
     },
     "execution_count": 377,
     "metadata": {},
     "output_type": "execute_result"
    }
   ],
   "source": [
    "data_labeled"
   ]
  },
  {
   "cell_type": "code",
   "execution_count": 379,
   "metadata": {},
   "outputs": [],
   "source": [
    "data_labeled.filter(pl.col('extracted_location').is_not_null() & pl.col('enhanced_location').is_null()).write_json('failed_location_enhancement.json')"
   ]
  },
  {
   "cell_type": "code",
   "execution_count": 80,
   "metadata": {},
   "outputs": [
    {
     "data": {
      "text/plain": [
       "0.9"
      ]
     },
     "execution_count": 80,
     "metadata": {},
     "output_type": "execute_result"
    }
   ],
   "source": [
    "jaccard_similarity(\"JAKARTA SELAT\", \"JAKARTA SELATAN\")"
   ]
  },
  {
   "cell_type": "code",
   "execution_count": 51,
   "metadata": {},
   "outputs": [
    {
     "data": {
      "text/plain": [
       "['yogyakarta', 'yahukimo', 'yalimo']"
      ]
     },
     "execution_count": 51,
     "metadata": {},
     "output_type": "execute_result"
    }
   ],
   "source": [
    "city_dictionary['full_text']['y']"
   ]
  },
  {
   "cell_type": "code",
   "execution_count": 380,
   "metadata": {},
   "outputs": [
    {
     "data": {
      "text/html": [
       "<div><style>\n",
       ".dataframe > thead > tr,\n",
       ".dataframe > tbody > tr {\n",
       "  text-align: right;\n",
       "  white-space: pre-wrap;\n",
       "}\n",
       "</style>\n",
       "<small>shape: (492_245, 10)</small><table border=\"1\" class=\"dataframe\"><thead><tr><th>source</th><th>merchant_name</th><th>merchant_location</th><th>online_offline_flag</th><th>country_code</th><th>word_list</th><th>location_index</th><th>extracted_location</th><th>enhanced_location</th><th>cleaned_location</th></tr><tr><td>str</td><td>str</td><td>str</td><td>str</td><td>str</td><td>list[str]</td><td>list[i32]</td><td>str</td><td>str</td><td>str</td></tr></thead><tbody><tr><td>&quot;CREDIT_CARD&quot;</td><td>&quot;CHOP BUNTUT CAK YO SLEMAN (KAB…</td><td>null</td><td>null</td><td>&quot;ID&quot;</td><td>[&quot;chop&quot;, &quot;buntut&quot;, … &quot;kab&quot;]</td><td>[3, 4]</td><td>&quot;yo sleman&quot;</td><td>&quot;sleman&quot;</td><td>&quot;sleman&quot;</td></tr><tr><td>&quot;CREDIT_CARD&quot;</td><td>&quot;TBL* THE SEED LEVEL AMSTERDAM …</td><td>null</td><td>null</td><td>&quot;NL&quot;</td><td>[&quot;tbl&quot;, &quot;the&quot;, … &quot;amsterdam&quot;]</td><td>null</td><td>null</td><td>null</td><td>null</td></tr><tr><td>&quot;CREDIT_CARD&quot;</td><td>&quot;SILOAM CLINIC GRH RAYA TANGERA…</td><td>null</td><td>null</td><td>&quot;ID&quot;</td><td>[&quot;siloam&quot;, &quot;clinic&quot;, … &quot;slt&quot;]</td><td>[4, 4]</td><td>&quot;tangerang&quot;</td><td>&quot;tangerang&quot;</td><td>&quot;tangerang&quot;</td></tr><tr><td>&quot;CREDIT_CARD&quot;</td><td>&quot;SWALAYAN ZOOM MBL TANJUNG PINA…</td><td>null</td><td>null</td><td>&quot;ID&quot;</td><td>[&quot;swalayan&quot;, &quot;zoom&quot;, … &quot;pinan&quot;]</td><td>[3, 4]</td><td>&quot;tanjung pinan&quot;</td><td>&quot;tanjung pinang&quot;</td><td>&quot;tanjung pinan&quot;</td></tr><tr><td>&quot;CREDIT_CARD&quot;</td><td>&quot;PEDRO SUN PLAZA MEDAN MEDAN KO…</td><td>null</td><td>null</td><td>&quot;ID&quot;</td><td>[&quot;pedro&quot;, &quot;sun&quot;, … &quot;kot&quot;]</td><td>[3, 4]</td><td>&quot;medan medan&quot;</td><td>&quot;medan&quot;</td><td>&quot;medan&quot;</td></tr><tr><td>&hellip;</td><td>&hellip;</td><td>&hellip;</td><td>&hellip;</td><td>&hellip;</td><td>&hellip;</td><td>&hellip;</td><td>&hellip;</td><td>&hellip;</td><td>&hellip;</td></tr><tr><td>&quot;CREDIT_CARD&quot;</td><td>&quot;AUSSIE TOYS ONLINE PAKENHAM AU&quot;</td><td>null</td><td>null</td><td>&quot;AU&quot;</td><td>[&quot;aussie&quot;, &quot;toys&quot;, … &quot;pakenham&quot;]</td><td>null</td><td>null</td><td>null</td><td>null</td></tr><tr><td>&quot;CREDIT_CARD&quot;</td><td>&quot;TOKO EMAS GINBERS MEDAN KOT. I…</td><td>null</td><td>&quot;OFFLINE&quot;</td><td>&quot;ID&quot;</td><td>[&quot;toko&quot;, &quot;emas&quot;, … &quot;kot&quot;]</td><td>[3, 3]</td><td>&quot;medan&quot;</td><td>&quot;medan&quot;</td><td>&quot;medan&quot;</td></tr><tr><td>&quot;CREDIT_CARD&quot;</td><td>&quot;BINTANG SPORT SERANG (KOTA)ID&quot;</td><td>null</td><td>null</td><td>&quot;ID&quot;</td><td>[&quot;bintang&quot;, &quot;sport&quot;, … &quot;kota&quot;]</td><td>[2, 2]</td><td>&quot;serang&quot;</td><td>&quot;serang&quot;</td><td>&quot;serang&quot;</td></tr><tr><td>&quot;CREDIT_CARD&quot;</td><td>&quot;ACE HARDWARE MALL PI I JAKARTA…</td><td>null</td><td>null</td><td>&quot;ID&quot;</td><td>[&quot;ace&quot;, &quot;hardware&quot;, … &quot;jakarta&quot;]</td><td>[-1, -1]</td><td>null</td><td>null</td><td>null</td></tr><tr><td>&quot;CREDIT_CARD&quot;</td><td>&quot;IDM TJAJ LOMBOK TIMUR ID&quot;</td><td>null</td><td>&quot;OFFLINE&quot;</td><td>&quot;ID&quot;</td><td>[&quot;idm&quot;, &quot;tjaj&quot;, … &quot;timur&quot;]</td><td>[2, 3]</td><td>&quot;lombok timur&quot;</td><td>&quot;lombok timur&quot;</td><td>&quot;lombok timur&quot;</td></tr></tbody></table></div>"
      ],
      "text/plain": [
       "shape: (492_245, 10)\n",
       "┌───────────┬───────────┬───────────┬───────────┬───┬───────────┬───────────┬───────────┬──────────┐\n",
       "│ source    ┆ merchant_ ┆ merchant_ ┆ online_of ┆ … ┆ location_ ┆ extracted ┆ enhanced_ ┆ cleaned_ │\n",
       "│ ---       ┆ name      ┆ location  ┆ fline_fla ┆   ┆ index     ┆ _location ┆ location  ┆ location │\n",
       "│ str       ┆ ---       ┆ ---       ┆ g         ┆   ┆ ---       ┆ ---       ┆ ---       ┆ ---      │\n",
       "│           ┆ str       ┆ str       ┆ ---       ┆   ┆ list[i32] ┆ str       ┆ str       ┆ str      │\n",
       "│           ┆           ┆           ┆ str       ┆   ┆           ┆           ┆           ┆          │\n",
       "╞═══════════╪═══════════╪═══════════╪═══════════╪═══╪═══════════╪═══════════╪═══════════╪══════════╡\n",
       "│ CREDIT_CA ┆ CHOP      ┆ null      ┆ null      ┆ … ┆ [3, 4]    ┆ yo sleman ┆ sleman    ┆ sleman   │\n",
       "│ RD        ┆ BUNTUT    ┆           ┆           ┆   ┆           ┆           ┆           ┆          │\n",
       "│           ┆ CAK YO    ┆           ┆           ┆   ┆           ┆           ┆           ┆          │\n",
       "│           ┆ SLEMAN    ┆           ┆           ┆   ┆           ┆           ┆           ┆          │\n",
       "│           ┆ (KAB…     ┆           ┆           ┆   ┆           ┆           ┆           ┆          │\n",
       "│ CREDIT_CA ┆ TBL* THE  ┆ null      ┆ null      ┆ … ┆ null      ┆ null      ┆ null      ┆ null     │\n",
       "│ RD        ┆ SEED      ┆           ┆           ┆   ┆           ┆           ┆           ┆          │\n",
       "│           ┆ LEVEL     ┆           ┆           ┆   ┆           ┆           ┆           ┆          │\n",
       "│           ┆ AMSTERDAM ┆           ┆           ┆   ┆           ┆           ┆           ┆          │\n",
       "│           ┆ …         ┆           ┆           ┆   ┆           ┆           ┆           ┆          │\n",
       "│ CREDIT_CA ┆ SILOAM    ┆ null      ┆ null      ┆ … ┆ [4, 4]    ┆ tangerang ┆ tangerang ┆ tangeran │\n",
       "│ RD        ┆ CLINIC    ┆           ┆           ┆   ┆           ┆           ┆           ┆ g        │\n",
       "│           ┆ GRH RAYA  ┆           ┆           ┆   ┆           ┆           ┆           ┆          │\n",
       "│           ┆ TANGERA…  ┆           ┆           ┆   ┆           ┆           ┆           ┆          │\n",
       "│ CREDIT_CA ┆ SWALAYAN  ┆ null      ┆ null      ┆ … ┆ [3, 4]    ┆ tanjung   ┆ tanjung   ┆ tanjung  │\n",
       "│ RD        ┆ ZOOM MBL  ┆           ┆           ┆   ┆           ┆ pinan     ┆ pinang    ┆ pinan    │\n",
       "│           ┆ TANJUNG   ┆           ┆           ┆   ┆           ┆           ┆           ┆          │\n",
       "│           ┆ PINA…     ┆           ┆           ┆   ┆           ┆           ┆           ┆          │\n",
       "│ CREDIT_CA ┆ PEDRO SUN ┆ null      ┆ null      ┆ … ┆ [3, 4]    ┆ medan     ┆ medan     ┆ medan    │\n",
       "│ RD        ┆ PLAZA     ┆           ┆           ┆   ┆           ┆ medan     ┆           ┆          │\n",
       "│           ┆ MEDAN     ┆           ┆           ┆   ┆           ┆           ┆           ┆          │\n",
       "│           ┆ MEDAN KO… ┆           ┆           ┆   ┆           ┆           ┆           ┆          │\n",
       "│ …         ┆ …         ┆ …         ┆ …         ┆ … ┆ …         ┆ …         ┆ …         ┆ …        │\n",
       "│ CREDIT_CA ┆ AUSSIE    ┆ null      ┆ null      ┆ … ┆ null      ┆ null      ┆ null      ┆ null     │\n",
       "│ RD        ┆ TOYS      ┆           ┆           ┆   ┆           ┆           ┆           ┆          │\n",
       "│           ┆ ONLINE    ┆           ┆           ┆   ┆           ┆           ┆           ┆          │\n",
       "│           ┆ PAKENHAM  ┆           ┆           ┆   ┆           ┆           ┆           ┆          │\n",
       "│           ┆ AU        ┆           ┆           ┆   ┆           ┆           ┆           ┆          │\n",
       "│ CREDIT_CA ┆ TOKO EMAS ┆ null      ┆ OFFLINE   ┆ … ┆ [3, 3]    ┆ medan     ┆ medan     ┆ medan    │\n",
       "│ RD        ┆ GINBERS   ┆           ┆           ┆   ┆           ┆           ┆           ┆          │\n",
       "│           ┆ MEDAN     ┆           ┆           ┆   ┆           ┆           ┆           ┆          │\n",
       "│           ┆ KOT. I…   ┆           ┆           ┆   ┆           ┆           ┆           ┆          │\n",
       "│ CREDIT_CA ┆ BINTANG   ┆ null      ┆ null      ┆ … ┆ [2, 2]    ┆ serang    ┆ serang    ┆ serang   │\n",
       "│ RD        ┆ SPORT     ┆           ┆           ┆   ┆           ┆           ┆           ┆          │\n",
       "│           ┆ SERANG    ┆           ┆           ┆   ┆           ┆           ┆           ┆          │\n",
       "│           ┆ (KOTA)ID  ┆           ┆           ┆   ┆           ┆           ┆           ┆          │\n",
       "│ CREDIT_CA ┆ ACE       ┆ null      ┆ null      ┆ … ┆ [-1, -1]  ┆ null      ┆ null      ┆ null     │\n",
       "│ RD        ┆ HARDWARE  ┆           ┆           ┆   ┆           ┆           ┆           ┆          │\n",
       "│           ┆ MALL PI I ┆           ┆           ┆   ┆           ┆           ┆           ┆          │\n",
       "│           ┆ JAKARTA…  ┆           ┆           ┆   ┆           ┆           ┆           ┆          │\n",
       "│ CREDIT_CA ┆ IDM TJAJ  ┆ null      ┆ OFFLINE   ┆ … ┆ [2, 3]    ┆ lombok    ┆ lombok    ┆ lombok   │\n",
       "│ RD        ┆ LOMBOK    ┆           ┆           ┆   ┆           ┆ timur     ┆ timur     ┆ timur    │\n",
       "│           ┆ TIMUR ID  ┆           ┆           ┆   ┆           ┆           ┆           ┆          │\n",
       "└───────────┴───────────┴───────────┴───────────┴───┴───────────┴───────────┴───────────┴──────────┘"
      ]
     },
     "execution_count": 380,
     "metadata": {},
     "output_type": "execute_result"
    }
   ],
   "source": [
    "data_labeled"
   ]
  },
  {
   "cell_type": "markdown",
   "metadata": {},
   "source": [
    "# CREATE ENTITY INDEX FROM CLEANED MERCHANT NAME\n",
    "\n",
    "Description preprocessing (Training pipeline)\n",
    "\n",
    "1. Extract and remove last 2 characters (Country code)\n",
    "\n",
    "2. Remove non-alphanumeric\n",
    "\n",
    "3. Remove extra spaces (should be just 1 space)\n",
    "\n",
    "4. Enhance extracted location (completion & deletion)\n",
    "\n",
    "5. Put the enhanced location back to description\n",
    "\n",
    "6. Extract location starting & ending index\n",
    "\n",
    "DONE - Go to Training"
   ]
  },
  {
   "cell_type": "code",
   "execution_count": 448,
   "metadata": {},
   "outputs": [],
   "source": [
    "data_labeled_train = data_labeled[['merchant_name','country_code','enhanced_location','cleaned_location']]"
   ]
  },
  {
   "cell_type": "code",
   "execution_count": 313,
   "metadata": {},
   "outputs": [],
   "source": [
    "def clean_merchant_name(text):\n",
    "    remainder = text\n",
    "    # last two characters are country id\n",
    "    country_id = remainder[len(text)-2] + remainder[len(text)-1]\n",
    "    remainder = text[:len(text)-2].lower()\n",
    "\n",
    "    #return country_id, get_word_ngram(remainder.strip(),1)\n",
    "    return re.sub(r'[^a-zA-Z0-9\\s]','',remainder).strip()"
   ]
  },
  {
   "cell_type": "code",
   "execution_count": 450,
   "metadata": {},
   "outputs": [],
   "source": [
    "data_labeled_train = data_labeled_train.with_columns(\n",
    "    pl.col('merchant_name').map_elements(lambda x: clean_merchant_name(x), return_dtype=pl.String).alias('cleaned_merchant_name')\n",
    ")"
   ]
  },
  {
   "cell_type": "code",
   "execution_count": 451,
   "metadata": {},
   "outputs": [],
   "source": [
    "data_labeled_train = data_labeled_train[['merchant_name','cleaned_merchant_name','country_code','enhanced_location','cleaned_location']]"
   ]
  },
  {
   "cell_type": "code",
   "execution_count": 452,
   "metadata": {},
   "outputs": [
    {
     "data": {
      "text/html": [
       "<div><style>\n",
       ".dataframe > thead > tr,\n",
       ".dataframe > tbody > tr {\n",
       "  text-align: right;\n",
       "  white-space: pre-wrap;\n",
       "}\n",
       "</style>\n",
       "<small>shape: (492_245, 5)</small><table border=\"1\" class=\"dataframe\"><thead><tr><th>merchant_name</th><th>cleaned_merchant_name</th><th>country_code</th><th>enhanced_location</th><th>cleaned_location</th></tr><tr><td>str</td><td>str</td><td>str</td><td>str</td><td>str</td></tr></thead><tbody><tr><td>&quot;CHOP BUNTUT CAK YO SLEMAN (KAB…</td><td>&quot;chop buntut cak yo sleman kab&quot;</td><td>&quot;ID&quot;</td><td>&quot;sleman&quot;</td><td>&quot;sleman&quot;</td></tr><tr><td>&quot;TBL* THE SEED LEVEL AMSTERDAM …</td><td>&quot;tbl the seed level amsterdam&quot;</td><td>&quot;NL&quot;</td><td>null</td><td>null</td></tr><tr><td>&quot;SILOAM CLINIC GRH RAYA TANGERA…</td><td>&quot;siloam clinic grh raya tangera…</td><td>&quot;ID&quot;</td><td>&quot;tangerang&quot;</td><td>&quot;tangerang&quot;</td></tr><tr><td>&quot;SWALAYAN ZOOM MBL TANJUNG PINA…</td><td>&quot;swalayan zoom mbl tanjung pina…</td><td>&quot;ID&quot;</td><td>&quot;tanjung pinang&quot;</td><td>&quot;tanjung pinan&quot;</td></tr><tr><td>&quot;PEDRO SUN PLAZA MEDAN MEDAN KO…</td><td>&quot;pedro sun plaza medan medan ko…</td><td>&quot;ID&quot;</td><td>&quot;medan&quot;</td><td>&quot;medan&quot;</td></tr><tr><td>&hellip;</td><td>&hellip;</td><td>&hellip;</td><td>&hellip;</td><td>&hellip;</td></tr><tr><td>&quot;AUSSIE TOYS ONLINE PAKENHAM AU&quot;</td><td>&quot;aussie toys online pakenham&quot;</td><td>&quot;AU&quot;</td><td>null</td><td>null</td></tr><tr><td>&quot;TOKO EMAS GINBERS MEDAN KOT. I…</td><td>&quot;toko emas ginbers medan kot&quot;</td><td>&quot;ID&quot;</td><td>&quot;medan&quot;</td><td>&quot;medan&quot;</td></tr><tr><td>&quot;BINTANG SPORT SERANG (KOTA)ID&quot;</td><td>&quot;bintang sport serang kota&quot;</td><td>&quot;ID&quot;</td><td>&quot;serang&quot;</td><td>&quot;serang&quot;</td></tr><tr><td>&quot;ACE HARDWARE MALL PI I JAKARTA…</td><td>&quot;ace hardware mall pi i jakarta&quot;</td><td>&quot;ID&quot;</td><td>null</td><td>null</td></tr><tr><td>&quot;IDM TJAJ LOMBOK TIMUR ID&quot;</td><td>&quot;idm tjaj lombok timur&quot;</td><td>&quot;ID&quot;</td><td>&quot;lombok timur&quot;</td><td>&quot;lombok timur&quot;</td></tr></tbody></table></div>"
      ],
      "text/plain": [
       "shape: (492_245, 5)\n",
       "┌──────────────────────┬─────────────────────┬──────────────┬───────────────────┬──────────────────┐\n",
       "│ merchant_name        ┆ cleaned_merchant_na ┆ country_code ┆ enhanced_location ┆ cleaned_location │\n",
       "│ ---                  ┆ me                  ┆ ---          ┆ ---               ┆ ---              │\n",
       "│ str                  ┆ ---                 ┆ str          ┆ str               ┆ str              │\n",
       "│                      ┆ str                 ┆              ┆                   ┆                  │\n",
       "╞══════════════════════╪═════════════════════╪══════════════╪═══════════════════╪══════════════════╡\n",
       "│ CHOP BUNTUT CAK YO   ┆ chop buntut cak yo  ┆ ID           ┆ sleman            ┆ sleman           │\n",
       "│ SLEMAN (KAB…         ┆ sleman kab          ┆              ┆                   ┆                  │\n",
       "│ TBL* THE SEED LEVEL  ┆ tbl the seed level  ┆ NL           ┆ null              ┆ null             │\n",
       "│ AMSTERDAM …          ┆ amsterdam           ┆              ┆                   ┆                  │\n",
       "│ SILOAM CLINIC GRH    ┆ siloam clinic grh   ┆ ID           ┆ tangerang         ┆ tangerang        │\n",
       "│ RAYA TANGERA…        ┆ raya tangera…       ┆              ┆                   ┆                  │\n",
       "│ SWALAYAN ZOOM MBL    ┆ swalayan zoom mbl   ┆ ID           ┆ tanjung pinang    ┆ tanjung pinan    │\n",
       "│ TANJUNG PINA…        ┆ tanjung pina…       ┆              ┆                   ┆                  │\n",
       "│ PEDRO SUN PLAZA      ┆ pedro sun plaza     ┆ ID           ┆ medan             ┆ medan            │\n",
       "│ MEDAN MEDAN KO…      ┆ medan medan ko…     ┆              ┆                   ┆                  │\n",
       "│ …                    ┆ …                   ┆ …            ┆ …                 ┆ …                │\n",
       "│ AUSSIE TOYS ONLINE   ┆ aussie toys online  ┆ AU           ┆ null              ┆ null             │\n",
       "│ PAKENHAM AU          ┆ pakenham            ┆              ┆                   ┆                  │\n",
       "│ TOKO EMAS GINBERS    ┆ toko emas ginbers   ┆ ID           ┆ medan             ┆ medan            │\n",
       "│ MEDAN KOT. I…        ┆ medan kot           ┆              ┆                   ┆                  │\n",
       "│ BINTANG SPORT SERANG ┆ bintang sport       ┆ ID           ┆ serang            ┆ serang           │\n",
       "│ (KOTA)ID             ┆ serang kota         ┆              ┆                   ┆                  │\n",
       "│ ACE HARDWARE MALL PI ┆ ace hardware mall   ┆ ID           ┆ null              ┆ null             │\n",
       "│ I JAKARTA…           ┆ pi i jakarta        ┆              ┆                   ┆                  │\n",
       "│ IDM TJAJ LOMBOK      ┆ idm tjaj lombok     ┆ ID           ┆ lombok timur      ┆ lombok timur     │\n",
       "│ TIMUR ID             ┆ timur               ┆              ┆                   ┆                  │\n",
       "└──────────────────────┴─────────────────────┴──────────────┴───────────────────┴──────────────────┘"
      ]
     },
     "execution_count": 452,
     "metadata": {},
     "output_type": "execute_result"
    }
   ],
   "source": [
    "data_labeled_train"
   ]
  },
  {
   "cell_type": "code",
   "execution_count": 434,
   "metadata": {},
   "outputs": [],
   "source": [
    "def find_index(row):\n",
    "    if row['cleaned_location'] is None:\n",
    "        return None\n",
    "    \n",
    "    start = row['cleaned_merchant_name'].index(row['cleaned_location'])\n",
    "    end = start + len(row['cleaned_location'])\n",
    "    return [start,end]\n"
   ]
  },
  {
   "cell_type": "code",
   "execution_count": 453,
   "metadata": {},
   "outputs": [],
   "source": [
    "# find starting and ending index\n",
    "data_labeled_train = data_labeled_train.with_columns(\n",
    "    pl.struct([\"cleaned_merchant_name\",\"cleaned_location\"]).map_elements(lambda x: find_index(x), return_dtype = pl.List(pl.Int32)).alias('loc_entity_index')\n",
    ")"
   ]
  },
  {
   "cell_type": "code",
   "execution_count": 454,
   "metadata": {},
   "outputs": [
    {
     "data": {
      "text/html": [
       "<div><style>\n",
       ".dataframe > thead > tr,\n",
       ".dataframe > tbody > tr {\n",
       "  text-align: right;\n",
       "  white-space: pre-wrap;\n",
       "}\n",
       "</style>\n",
       "<small>shape: (492_245, 6)</small><table border=\"1\" class=\"dataframe\"><thead><tr><th>merchant_name</th><th>cleaned_merchant_name</th><th>country_code</th><th>enhanced_location</th><th>cleaned_location</th><th>loc_entity_index</th></tr><tr><td>str</td><td>str</td><td>str</td><td>str</td><td>str</td><td>list[i32]</td></tr></thead><tbody><tr><td>&quot;CHOP BUNTUT CAK YO SLEMAN (KAB…</td><td>&quot;chop buntut cak yo sleman kab&quot;</td><td>&quot;ID&quot;</td><td>&quot;sleman&quot;</td><td>&quot;sleman&quot;</td><td>[19, 25]</td></tr><tr><td>&quot;TBL* THE SEED LEVEL AMSTERDAM …</td><td>&quot;tbl the seed level amsterdam&quot;</td><td>&quot;NL&quot;</td><td>null</td><td>null</td><td>[]</td></tr><tr><td>&quot;SILOAM CLINIC GRH RAYA TANGERA…</td><td>&quot;siloam clinic grh raya tangera…</td><td>&quot;ID&quot;</td><td>&quot;tangerang&quot;</td><td>&quot;tangerang&quot;</td><td>[23, 32]</td></tr><tr><td>&quot;SWALAYAN ZOOM MBL TANJUNG PINA…</td><td>&quot;swalayan zoom mbl tanjung pina…</td><td>&quot;ID&quot;</td><td>&quot;tanjung pinang&quot;</td><td>&quot;tanjung pinan&quot;</td><td>[18, 31]</td></tr><tr><td>&quot;PEDRO SUN PLAZA MEDAN MEDAN KO…</td><td>&quot;pedro sun plaza medan medan ko…</td><td>&quot;ID&quot;</td><td>&quot;medan&quot;</td><td>&quot;medan&quot;</td><td>[16, 21]</td></tr><tr><td>&hellip;</td><td>&hellip;</td><td>&hellip;</td><td>&hellip;</td><td>&hellip;</td><td>&hellip;</td></tr><tr><td>&quot;AUSSIE TOYS ONLINE PAKENHAM AU&quot;</td><td>&quot;aussie toys online pakenham&quot;</td><td>&quot;AU&quot;</td><td>null</td><td>null</td><td>[]</td></tr><tr><td>&quot;TOKO EMAS GINBERS MEDAN KOT. I…</td><td>&quot;toko emas ginbers medan kot&quot;</td><td>&quot;ID&quot;</td><td>&quot;medan&quot;</td><td>&quot;medan&quot;</td><td>[18, 23]</td></tr><tr><td>&quot;BINTANG SPORT SERANG (KOTA)ID&quot;</td><td>&quot;bintang sport serang kota&quot;</td><td>&quot;ID&quot;</td><td>&quot;serang&quot;</td><td>&quot;serang&quot;</td><td>[14, 20]</td></tr><tr><td>&quot;ACE HARDWARE MALL PI I JAKARTA…</td><td>&quot;ace hardware mall pi i jakarta&quot;</td><td>&quot;ID&quot;</td><td>null</td><td>null</td><td>[]</td></tr><tr><td>&quot;IDM TJAJ LOMBOK TIMUR ID&quot;</td><td>&quot;idm tjaj lombok timur&quot;</td><td>&quot;ID&quot;</td><td>&quot;lombok timur&quot;</td><td>&quot;lombok timur&quot;</td><td>[9, 21]</td></tr></tbody></table></div>"
      ],
      "text/plain": [
       "shape: (492_245, 6)\n",
       "┌────────────────┬────────────────┬──────────────┬────────────────┬────────────────┬───────────────┐\n",
       "│ merchant_name  ┆ cleaned_mercha ┆ country_code ┆ enhanced_locat ┆ cleaned_locati ┆ loc_entity_in │\n",
       "│ ---            ┆ nt_name        ┆ ---          ┆ ion            ┆ on             ┆ dex           │\n",
       "│ str            ┆ ---            ┆ str          ┆ ---            ┆ ---            ┆ ---           │\n",
       "│                ┆ str            ┆              ┆ str            ┆ str            ┆ list[i32]     │\n",
       "╞════════════════╪════════════════╪══════════════╪════════════════╪════════════════╪═══════════════╡\n",
       "│ CHOP BUNTUT    ┆ chop buntut    ┆ ID           ┆ sleman         ┆ sleman         ┆ [19, 25]      │\n",
       "│ CAK YO SLEMAN  ┆ cak yo sleman  ┆              ┆                ┆                ┆               │\n",
       "│ (KAB…          ┆ kab            ┆              ┆                ┆                ┆               │\n",
       "│ TBL* THE SEED  ┆ tbl the seed   ┆ NL           ┆ null           ┆ null           ┆ []            │\n",
       "│ LEVEL          ┆ level          ┆              ┆                ┆                ┆               │\n",
       "│ AMSTERDAM …    ┆ amsterdam      ┆              ┆                ┆                ┆               │\n",
       "│ SILOAM CLINIC  ┆ siloam clinic  ┆ ID           ┆ tangerang      ┆ tangerang      ┆ [23, 32]      │\n",
       "│ GRH RAYA       ┆ grh raya       ┆              ┆                ┆                ┆               │\n",
       "│ TANGERA…       ┆ tangera…       ┆              ┆                ┆                ┆               │\n",
       "│ SWALAYAN ZOOM  ┆ swalayan zoom  ┆ ID           ┆ tanjung pinang ┆ tanjung pinan  ┆ [18, 31]      │\n",
       "│ MBL TANJUNG    ┆ mbl tanjung    ┆              ┆                ┆                ┆               │\n",
       "│ PINA…          ┆ pina…          ┆              ┆                ┆                ┆               │\n",
       "│ PEDRO SUN      ┆ pedro sun      ┆ ID           ┆ medan          ┆ medan          ┆ [16, 21]      │\n",
       "│ PLAZA MEDAN    ┆ plaza medan    ┆              ┆                ┆                ┆               │\n",
       "│ MEDAN KO…      ┆ medan ko…      ┆              ┆                ┆                ┆               │\n",
       "│ …              ┆ …              ┆ …            ┆ …              ┆ …              ┆ …             │\n",
       "│ AUSSIE TOYS    ┆ aussie toys    ┆ AU           ┆ null           ┆ null           ┆ []            │\n",
       "│ ONLINE         ┆ online         ┆              ┆                ┆                ┆               │\n",
       "│ PAKENHAM AU    ┆ pakenham       ┆              ┆                ┆                ┆               │\n",
       "│ TOKO EMAS      ┆ toko emas      ┆ ID           ┆ medan          ┆ medan          ┆ [18, 23]      │\n",
       "│ GINBERS MEDAN  ┆ ginbers medan  ┆              ┆                ┆                ┆               │\n",
       "│ KOT. I…        ┆ kot            ┆              ┆                ┆                ┆               │\n",
       "│ BINTANG SPORT  ┆ bintang sport  ┆ ID           ┆ serang         ┆ serang         ┆ [14, 20]      │\n",
       "│ SERANG         ┆ serang kota    ┆              ┆                ┆                ┆               │\n",
       "│ (KOTA)ID       ┆                ┆              ┆                ┆                ┆               │\n",
       "│ ACE HARDWARE   ┆ ace hardware   ┆ ID           ┆ null           ┆ null           ┆ []            │\n",
       "│ MALL PI I      ┆ mall pi i      ┆              ┆                ┆                ┆               │\n",
       "│ JAKARTA…       ┆ jakarta        ┆              ┆                ┆                ┆               │\n",
       "│ IDM TJAJ       ┆ idm tjaj       ┆ ID           ┆ lombok timur   ┆ lombok timur   ┆ [9, 21]       │\n",
       "│ LOMBOK TIMUR   ┆ lombok timur   ┆              ┆                ┆                ┆               │\n",
       "│ ID             ┆                ┆              ┆                ┆                ┆               │\n",
       "└────────────────┴────────────────┴──────────────┴────────────────┴────────────────┴───────────────┘"
      ]
     },
     "execution_count": 454,
     "metadata": {},
     "output_type": "execute_result"
    }
   ],
   "source": [
    "data_labeled_train"
   ]
  },
  {
   "cell_type": "code",
   "execution_count": 459,
   "metadata": {},
   "outputs": [],
   "source": [
    "def add_flag_column(data, condition, flag_column_name, flag_value=None):\n",
    "    # Create a dictionary with the column name as key and the when-then-otherwise expression as value\n",
    "    column_expr = {\n",
    "        flag_column_name: pl.when((pl.col('country_code') == 'ID') & pl.col('enhanced_location').is_null() & condition)\n",
    "                            .then(pl.lit(flag_value))\n",
    "                            .otherwise(flag_column_name)\n",
    "    }\n",
    "    \n",
    "    # Add the column to the DataFrame\n",
    "    return data.with_columns(**column_expr)"
   ]
  },
  {
   "cell_type": "code",
   "execution_count": null,
   "metadata": {},
   "outputs": [],
   "source": [
    "data_labeled_train.filter((pl.col('country_code') == 'ID') & pl.col('enhanced_location').is_null()).write_csv(\"unextracted_location.csv\")"
   ]
  },
  {
   "cell_type": "code",
   "execution_count": 546,
   "metadata": {},
   "outputs": [
    {
     "data": {
      "text/html": [
       "<div><style>\n",
       ".dataframe > thead > tr,\n",
       ".dataframe > tbody > tr {\n",
       "  text-align: right;\n",
       "  white-space: pre-wrap;\n",
       "}\n",
       "</style>\n",
       "<small>shape: (492_245, 6)</small><table border=\"1\" class=\"dataframe\"><thead><tr><th>merchant_name</th><th>cleaned_merchant_name</th><th>country_code</th><th>enhanced_location</th><th>cleaned_location</th><th>loc_entity_index</th></tr><tr><td>str</td><td>str</td><td>str</td><td>str</td><td>str</td><td>list[i32]</td></tr></thead><tbody><tr><td>&quot;CHOP BUNTUT CAK YO SLEMAN (KAB…</td><td>&quot;chop buntut cak yo sleman kab&quot;</td><td>&quot;ID&quot;</td><td>&quot;sleman&quot;</td><td>&quot;sleman&quot;</td><td>[19, 25]</td></tr><tr><td>&quot;TBL* THE SEED LEVEL AMSTERDAM …</td><td>&quot;tbl the seed level amsterdam&quot;</td><td>&quot;NL&quot;</td><td>null</td><td>null</td><td>[]</td></tr><tr><td>&quot;SILOAM CLINIC GRH RAYA TANGERA…</td><td>&quot;siloam clinic grh raya tangera…</td><td>&quot;ID&quot;</td><td>&quot;tangerang&quot;</td><td>&quot;tangerang&quot;</td><td>[23, 32]</td></tr><tr><td>&quot;SWALAYAN ZOOM MBL TANJUNG PINA…</td><td>&quot;swalayan zoom mbl tanjung pina…</td><td>&quot;ID&quot;</td><td>&quot;tanjung pinang&quot;</td><td>&quot;tanjung pinan&quot;</td><td>[18, 31]</td></tr><tr><td>&quot;PEDRO SUN PLAZA MEDAN MEDAN KO…</td><td>&quot;pedro sun plaza medan medan ko…</td><td>&quot;ID&quot;</td><td>&quot;medan&quot;</td><td>&quot;medan&quot;</td><td>[16, 21]</td></tr><tr><td>&hellip;</td><td>&hellip;</td><td>&hellip;</td><td>&hellip;</td><td>&hellip;</td><td>&hellip;</td></tr><tr><td>&quot;AUSSIE TOYS ONLINE PAKENHAM AU&quot;</td><td>&quot;aussie toys online pakenham&quot;</td><td>&quot;AU&quot;</td><td>null</td><td>null</td><td>[]</td></tr><tr><td>&quot;TOKO EMAS GINBERS MEDAN KOT. I…</td><td>&quot;toko emas ginbers medan kot&quot;</td><td>&quot;ID&quot;</td><td>&quot;medan&quot;</td><td>&quot;medan&quot;</td><td>[18, 23]</td></tr><tr><td>&quot;BINTANG SPORT SERANG (KOTA)ID&quot;</td><td>&quot;bintang sport serang kota&quot;</td><td>&quot;ID&quot;</td><td>&quot;serang&quot;</td><td>&quot;serang&quot;</td><td>[14, 20]</td></tr><tr><td>&quot;ACE HARDWARE MALL PI I JAKARTA…</td><td>&quot;ace hardware mall pi i jakarta&quot;</td><td>&quot;ID&quot;</td><td>null</td><td>&quot;jakarta&quot;</td><td>[23, 30]</td></tr><tr><td>&quot;IDM TJAJ LOMBOK TIMUR ID&quot;</td><td>&quot;idm tjaj lombok timur&quot;</td><td>&quot;ID&quot;</td><td>&quot;lombok timur&quot;</td><td>&quot;lombok timur&quot;</td><td>[9, 21]</td></tr></tbody></table></div>"
      ],
      "text/plain": [
       "shape: (492_245, 6)\n",
       "┌────────────────┬────────────────┬──────────────┬────────────────┬────────────────┬───────────────┐\n",
       "│ merchant_name  ┆ cleaned_mercha ┆ country_code ┆ enhanced_locat ┆ cleaned_locati ┆ loc_entity_in │\n",
       "│ ---            ┆ nt_name        ┆ ---          ┆ ion            ┆ on             ┆ dex           │\n",
       "│ str            ┆ ---            ┆ str          ┆ ---            ┆ ---            ┆ ---           │\n",
       "│                ┆ str            ┆              ┆ str            ┆ str            ┆ list[i32]     │\n",
       "╞════════════════╪════════════════╪══════════════╪════════════════╪════════════════╪═══════════════╡\n",
       "│ CHOP BUNTUT    ┆ chop buntut    ┆ ID           ┆ sleman         ┆ sleman         ┆ [19, 25]      │\n",
       "│ CAK YO SLEMAN  ┆ cak yo sleman  ┆              ┆                ┆                ┆               │\n",
       "│ (KAB…          ┆ kab            ┆              ┆                ┆                ┆               │\n",
       "│ TBL* THE SEED  ┆ tbl the seed   ┆ NL           ┆ null           ┆ null           ┆ []            │\n",
       "│ LEVEL          ┆ level          ┆              ┆                ┆                ┆               │\n",
       "│ AMSTERDAM …    ┆ amsterdam      ┆              ┆                ┆                ┆               │\n",
       "│ SILOAM CLINIC  ┆ siloam clinic  ┆ ID           ┆ tangerang      ┆ tangerang      ┆ [23, 32]      │\n",
       "│ GRH RAYA       ┆ grh raya       ┆              ┆                ┆                ┆               │\n",
       "│ TANGERA…       ┆ tangera…       ┆              ┆                ┆                ┆               │\n",
       "│ SWALAYAN ZOOM  ┆ swalayan zoom  ┆ ID           ┆ tanjung pinang ┆ tanjung pinan  ┆ [18, 31]      │\n",
       "│ MBL TANJUNG    ┆ mbl tanjung    ┆              ┆                ┆                ┆               │\n",
       "│ PINA…          ┆ pina…          ┆              ┆                ┆                ┆               │\n",
       "│ PEDRO SUN      ┆ pedro sun      ┆ ID           ┆ medan          ┆ medan          ┆ [16, 21]      │\n",
       "│ PLAZA MEDAN    ┆ plaza medan    ┆              ┆                ┆                ┆               │\n",
       "│ MEDAN KO…      ┆ medan ko…      ┆              ┆                ┆                ┆               │\n",
       "│ …              ┆ …              ┆ …            ┆ …              ┆ …              ┆ …             │\n",
       "│ AUSSIE TOYS    ┆ aussie toys    ┆ AU           ┆ null           ┆ null           ┆ []            │\n",
       "│ ONLINE         ┆ online         ┆              ┆                ┆                ┆               │\n",
       "│ PAKENHAM AU    ┆ pakenham       ┆              ┆                ┆                ┆               │\n",
       "│ TOKO EMAS      ┆ toko emas      ┆ ID           ┆ medan          ┆ medan          ┆ [18, 23]      │\n",
       "│ GINBERS MEDAN  ┆ ginbers medan  ┆              ┆                ┆                ┆               │\n",
       "│ KOT. I…        ┆ kot            ┆              ┆                ┆                ┆               │\n",
       "│ BINTANG SPORT  ┆ bintang sport  ┆ ID           ┆ serang         ┆ serang         ┆ [14, 20]      │\n",
       "│ SERANG         ┆ serang kota    ┆              ┆                ┆                ┆               │\n",
       "│ (KOTA)ID       ┆                ┆              ┆                ┆                ┆               │\n",
       "│ ACE HARDWARE   ┆ ace hardware   ┆ ID           ┆ null           ┆ jakarta        ┆ [23, 30]      │\n",
       "│ MALL PI I      ┆ mall pi i      ┆              ┆                ┆                ┆               │\n",
       "│ JAKARTA…       ┆ jakarta        ┆              ┆                ┆                ┆               │\n",
       "│ IDM TJAJ       ┆ idm tjaj       ┆ ID           ┆ lombok timur   ┆ lombok timur   ┆ [9, 21]       │\n",
       "│ LOMBOK TIMUR   ┆ lombok timur   ┆              ┆                ┆                ┆               │\n",
       "│ ID             ┆                ┆              ┆                ┆                ┆               │\n",
       "└────────────────┴────────────────┴──────────────┴────────────────┴────────────────┴───────────────┘"
      ]
     },
     "execution_count": 546,
     "metadata": {},
     "output_type": "execute_result"
    }
   ],
   "source": [
    "data_labeled_train"
   ]
  },
  {
   "cell_type": "code",
   "execution_count": 516,
   "metadata": {},
   "outputs": [],
   "source": [
    "# extract location with regex\n",
    "flags = [\n",
    "    ((pl.col(\"cleaned_merchant_name\").str.contains(\"jakarta slt\")),\"jakarta slt\"),\n",
    "    ((pl.col(\"cleaned_merchant_name\").str.contains(\"jakarta selat\")),\"jakarta selat\"),\n",
    "    ((pl.col(\"cleaned_merchant_name\").str.contains(\"jakarta selatan\")),\"jakarta selatan\"),\n",
    "    ((pl.col(\"cleaned_merchant_name\").str.contains(\"jaksel\")),\"jaksel\"),\n",
    "    ((pl.col(\"cleaned_merchant_name\").str.contains(\"jakarta pusat\")),\"jakarta pusat\"),\n",
    "    ((pl.col(\"cleaned_merchant_name\").str.contains(\"jakpus\")),\"jakpus\"),\n",
    "    ((pl.col(\"cleaned_merchant_name\").str.contains(\"jakarta barat\")),\"jakarta barat\"),\n",
    "    ((pl.col(\"cleaned_merchant_name\").str.contains(\"jakbar\")),\"jakbar\"),\n",
    "    ((pl.col(\"cleaned_merchant_name\").str.contains(\"jakarta utara\")),\"jakarta utara\"),\n",
    "    ((pl.col(\"cleaned_merchant_name\").str.contains(\"jakut\")),\"jakut\"),\n",
    "    ((pl.col(\"cleaned_merchant_name\").str.contains(\"jakarta timur\")),\"jakarta timur\"),\n",
    "    ((pl.col(\"cleaned_merchant_name\").str.contains(\"jaktim\")),\"jaktim\"),\n",
    "    ((pl.col(\"cleaned_merchant_name\").str.contains(\"makassar\")),\"makassar\"),\n",
    "    ((pl.col(\"cleaned_merchant_name\").str.contains(\"bekasi\")),\"bekasi\"),\n",
    "    ((pl.col(\"cleaned_merchant_name\").str.contains(\"bogor\")),\"bogor\"),\n",
    "    ((pl.col(\"cleaned_merchant_name\").str.contains(\"surabaya\")),\"surabaya\"),\n",
    "    ((pl.col(\"cleaned_merchant_name\").str.contains(\"medan\")),\"medan\"),\n",
    "    ((pl.col(\"cleaned_merchant_name\").str.contains(\"muara bungo\")),\"muara bungo\"),\n",
    "    ((pl.col(\"cleaned_merchant_name\").str.contains(\"sumbawabesar\")),\"sumbawabesar\"),\n",
    "    ((pl.col(\"cleaned_merchant_name\").str.contains(\"limboto\")),\"limboto\"),\n",
    "    ((pl.col(\"cleaned_merchant_name\").str.contains(\"manado\")),\"manado\"),\n",
    "    ((pl.col(\"cleaned_merchant_name\").str.contains(\"subang\")),\"subang\"),\n",
    "    ((pl.col(\"cleaned_merchant_name\").str.contains(\"lombok t\")),\"lombok t\"),\n",
    "    ((pl.col(\"cleaned_merchant_name\").str.contains(\"cimahi\")),\"cimahi\"),\n",
    "    ((pl.col(\"cleaned_merchant_name\").str.contains(\"bdg barat\")),\"bdg barat\"),\n",
    "    ((pl.col(\"cleaned_merchant_name\").str.contains(\"bandung barat\")),\"bandung barat\"),\n",
    "    ((pl.col(\"cleaned_merchant_name\").str.contains(\"bandungbarat\")),\"bandungbarat\"),\n",
    "    ((pl.col(\"cleaned_merchant_name\").str.contains(\"majalengka\")),\"majalengka\"),\n",
    "    ((pl.col(\"cleaned_merchant_name\").str.contains(\"majaleng\")),\"majaleng\"),\n",
    "    ((pl.col(\"cleaned_merchant_name\").str.contains(\"rantauprapat\")),\"rantauprapat\"),\n",
    "    ((pl.col(\"cleaned_merchant_name\").str.contains(\"majaleng\")),\"majaleng\"),\n",
    "    ((pl.col(\"cleaned_merchant_name\").str.contains(\"banyuwangi\")),\"banyuwangi\"),\n",
    "    ((pl.col(\"cleaned_merchant_name\").str.contains(\"bdr lampung\")),\"bdr lampung\"),\n",
    "    ((pl.col(\"cleaned_merchant_name\").str.contains(\"bandar lampung\")),\"bandar lampung\"),\n",
    "    ((pl.col(\"cleaned_merchant_name\").str.contains(\"jakarta$\")),\"jakarta\"),\n",
    "    ((pl.col(\"cleaned_merchant_name\").str.contains(\"tangerang sel\")),\"tangerang sel\"),\n",
    "    ((pl.col(\"cleaned_merchant_name\").str.contains(\"tangerang slt\")),\"tangerang slt\"),\n",
    "    ((pl.col(\"cleaned_merchant_name\").str.contains(\"tangerang ka\")),\"tangerang ka\"),\n",
    "    ((pl.col(\"cleaned_merchant_name\").str.contains(\"tangerang selatan\")),\"tangerang selatan\"),\n",
    "    ((pl.col(\"cleaned_merchant_name\").str.contains(\"tjg pinang\")),\"tjg pinang\"),\n",
    "    ((pl.col(\"cleaned_merchant_name\").str.contains(\"semarang\")),\"semarang\"),\n",
    "    ((pl.col(\"cleaned_merchant_name\").str.contains(\"depok\")),\"depok\"),\n",
    "    ((pl.col(\"cleaned_merchant_name\").str.contains(\"bandung$\")),\"bandung\"),\n",
    "    ((pl.col(\"cleaned_merchant_name\").str.contains(\"tangerang$\")),\"tangerang\"),\n",
    "    ((pl.col(\"cleaned_merchant_name\").str.contains(\"denpasar\")),\"denpasar\"),\n",
    "    ((pl.col(\"cleaned_merchant_name\").str.contains(\"karawang\")),\"karawang\"),\n",
    "    ((pl.col(\"cleaned_merchant_name\").str.contains(\"bandung kab\")),\"bandung kab\"),\n",
    "]"
   ]
  },
  {
   "cell_type": "code",
   "execution_count": 517,
   "metadata": {},
   "outputs": [],
   "source": [
    "for flag in flags:\n",
    "    data_labeled_train = add_flag_column(data_labeled_train, flag[0], \"cleaned_location\", flag[1])"
   ]
  },
  {
   "cell_type": "code",
   "execution_count": 518,
   "metadata": {},
   "outputs": [
    {
     "data": {
      "text/html": [
       "<div><style>\n",
       ".dataframe > thead > tr,\n",
       ".dataframe > tbody > tr {\n",
       "  text-align: right;\n",
       "  white-space: pre-wrap;\n",
       "}\n",
       "</style>\n",
       "<small>shape: (24_709, 6)</small><table border=\"1\" class=\"dataframe\"><thead><tr><th>merchant_name</th><th>cleaned_merchant_name</th><th>country_code</th><th>enhanced_location</th><th>cleaned_location</th><th>loc_entity_index</th></tr><tr><td>str</td><td>str</td><td>str</td><td>str</td><td>str</td><td>list[i32]</td></tr></thead><tbody><tr><td>&quot;MSIGLIF-REECURRING 37202173558…</td><td>&quot;msiglifreecurring 372021735580…</td><td>&quot;ID&quot;</td><td>null</td><td>null</td><td>[]</td></tr><tr><td>&quot;SPBU 7490616 PANGKEP-H PANGKAJ…</td><td>&quot;spbu 7490616 pangkeph pangkaje…</td><td>&quot;ID&quot;</td><td>null</td><td>null</td><td>[]</td></tr><tr><td>&quot;IDM TRRH-RAYA SERDANG KRASERAN…</td><td>&quot;idm trrhraya serdang kraserang&quot;</td><td>&quot;ID&quot;</td><td>null</td><td>null</td><td>[]</td></tr><tr><td>&quot;ALFAMART AN 2AH2 BEGADUNGKOTA …</td><td>&quot;alfamart an 2ah2 begadungkota …</td><td>&quot;ID&quot;</td><td>null</td><td>null</td><td>[]</td></tr><tr><td>&quot;TUKAR TAMBAH BENCOOLEN MABENGK…</td><td>&quot;tukar tambah bencoolen mabengk…</td><td>&quot;ID&quot;</td><td>null</td><td>null</td><td>[]</td></tr><tr><td>&hellip;</td><td>&hellip;</td><td>&hellip;</td><td>&hellip;</td><td>&hellip;</td><td>&hellip;</td></tr><tr><td>&quot;AIRASIA_QZ R379PB INDONESIA ID&quot;</td><td>&quot;airasiaqz r379pb indonesia&quot;</td><td>&quot;ID&quot;</td><td>null</td><td>null</td><td>[]</td></tr><tr><td>&quot;BSI SBILL TELKOMSEL 0811805228…</td><td>&quot;bsi sbill telkomsel 0811805228…</td><td>&quot;ID&quot;</td><td>null</td><td>null</td><td>[]</td></tr><tr><td>&quot;5148 SH EG EX BP PARIS VABANDU…</td><td>&quot;5148 sh eg ex bp paris vabandu…</td><td>&quot;ID&quot;</td><td>null</td><td>null</td><td>[]</td></tr><tr><td>&quot;SAGA FRESH CIGOMBONG. MBLJAYAP…</td><td>&quot;saga fresh cigombong mbljayapu…</td><td>&quot;ID&quot;</td><td>null</td><td>null</td><td>[]</td></tr><tr><td>&quot;IDM FFV0-RUKO LILY - WONOSUKOH…</td><td>&quot;idm ffv0ruko lily&nbsp;&nbsp;wonosukohar…</td><td>&quot;ID&quot;</td><td>null</td><td>null</td><td>[]</td></tr></tbody></table></div>"
      ],
      "text/plain": [
       "shape: (24_709, 6)\n",
       "┌────────────────┬────────────────┬──────────────┬────────────────┬────────────────┬───────────────┐\n",
       "│ merchant_name  ┆ cleaned_mercha ┆ country_code ┆ enhanced_locat ┆ cleaned_locati ┆ loc_entity_in │\n",
       "│ ---            ┆ nt_name        ┆ ---          ┆ ion            ┆ on             ┆ dex           │\n",
       "│ str            ┆ ---            ┆ str          ┆ ---            ┆ ---            ┆ ---           │\n",
       "│                ┆ str            ┆              ┆ str            ┆ str            ┆ list[i32]     │\n",
       "╞════════════════╪════════════════╪══════════════╪════════════════╪════════════════╪═══════════════╡\n",
       "│ MSIGLIF-REECUR ┆ msiglifreecurr ┆ ID           ┆ null           ┆ null           ┆ []            │\n",
       "│ RING           ┆ ing            ┆              ┆                ┆                ┆               │\n",
       "│ 37202173558…   ┆ 372021735580…  ┆              ┆                ┆                ┆               │\n",
       "│ SPBU 7490616   ┆ spbu 7490616   ┆ ID           ┆ null           ┆ null           ┆ []            │\n",
       "│ PANGKEP-H      ┆ pangkeph       ┆              ┆                ┆                ┆               │\n",
       "│ PANGKAJ…       ┆ pangkaje…      ┆              ┆                ┆                ┆               │\n",
       "│ IDM TRRH-RAYA  ┆ idm trrhraya   ┆ ID           ┆ null           ┆ null           ┆ []            │\n",
       "│ SERDANG        ┆ serdang        ┆              ┆                ┆                ┆               │\n",
       "│ KRASERAN…      ┆ kraserang      ┆              ┆                ┆                ┆               │\n",
       "│ ALFAMART AN    ┆ alfamart an    ┆ ID           ┆ null           ┆ null           ┆ []            │\n",
       "│ 2AH2           ┆ 2ah2           ┆              ┆                ┆                ┆               │\n",
       "│ BEGADUNGKOTA … ┆ begadungkota … ┆              ┆                ┆                ┆               │\n",
       "│ TUKAR TAMBAH   ┆ tukar tambah   ┆ ID           ┆ null           ┆ null           ┆ []            │\n",
       "│ BENCOOLEN      ┆ bencoolen      ┆              ┆                ┆                ┆               │\n",
       "│ MABENGK…       ┆ mabengk…       ┆              ┆                ┆                ┆               │\n",
       "│ …              ┆ …              ┆ …            ┆ …              ┆ …              ┆ …             │\n",
       "│ AIRASIA_QZ     ┆ airasiaqz      ┆ ID           ┆ null           ┆ null           ┆ []            │\n",
       "│ R379PB         ┆ r379pb         ┆              ┆                ┆                ┆               │\n",
       "│ INDONESIA ID   ┆ indonesia      ┆              ┆                ┆                ┆               │\n",
       "│ BSI SBILL      ┆ bsi sbill      ┆ ID           ┆ null           ┆ null           ┆ []            │\n",
       "│ TELKOMSEL      ┆ telkomsel      ┆              ┆                ┆                ┆               │\n",
       "│ 0811805228…    ┆ 0811805228…    ┆              ┆                ┆                ┆               │\n",
       "│ 5148 SH EG EX  ┆ 5148 sh eg ex  ┆ ID           ┆ null           ┆ null           ┆ []            │\n",
       "│ BP PARIS       ┆ bp paris       ┆              ┆                ┆                ┆               │\n",
       "│ VABANDU…       ┆ vabandu…       ┆              ┆                ┆                ┆               │\n",
       "│ SAGA FRESH     ┆ saga fresh     ┆ ID           ┆ null           ┆ null           ┆ []            │\n",
       "│ CIGOMBONG.     ┆ cigombong      ┆              ┆                ┆                ┆               │\n",
       "│ MBLJAYAP…      ┆ mbljayapu…     ┆              ┆                ┆                ┆               │\n",
       "│ IDM FFV0-RUKO  ┆ idm ffv0ruko   ┆ ID           ┆ null           ┆ null           ┆ []            │\n",
       "│ LILY -         ┆ lily           ┆              ┆                ┆                ┆               │\n",
       "│ WONOSUKOH…     ┆ wonosukohar…   ┆              ┆                ┆                ┆               │\n",
       "└────────────────┴────────────────┴──────────────┴────────────────┴────────────────┴───────────────┘"
      ]
     },
     "execution_count": 518,
     "metadata": {},
     "output_type": "execute_result"
    }
   ],
   "source": [
    "data_labeled_train.filter((pl.col('country_code') == 'ID') & pl.col('cleaned_location').is_null())"
   ]
  },
  {
   "cell_type": "code",
   "execution_count": 519,
   "metadata": {},
   "outputs": [],
   "source": [
    "data_labeled_train[['merchant_name','cleaned_merchant_name','country_code','enhanced_location','cleaned_location']].filter((pl.col('country_code') == 'ID') & pl.col('cleaned_location').is_null()).sort(\"cleaned_merchant_name\").write_csv(\"unextracted_location.csv\")"
   ]
  },
  {
   "cell_type": "code",
   "execution_count": 523,
   "metadata": {},
   "outputs": [
    {
     "data": {
      "text/html": [
       "<div><style>\n",
       ".dataframe > thead > tr,\n",
       ".dataframe > tbody > tr {\n",
       "  text-align: right;\n",
       "  white-space: pre-wrap;\n",
       "}\n",
       "</style>\n",
       "<small>shape: (492_245, 6)</small><table border=\"1\" class=\"dataframe\"><thead><tr><th>merchant_name</th><th>cleaned_merchant_name</th><th>country_code</th><th>enhanced_location</th><th>cleaned_location</th><th>loc_entity_index</th></tr><tr><td>str</td><td>str</td><td>str</td><td>str</td><td>str</td><td>list[i32]</td></tr></thead><tbody><tr><td>&quot;CHOP BUNTUT CAK YO SLEMAN (KAB…</td><td>&quot;chop buntut cak yo sleman kab&quot;</td><td>&quot;ID&quot;</td><td>&quot;sleman&quot;</td><td>&quot;sleman&quot;</td><td>[19, 25]</td></tr><tr><td>&quot;TBL* THE SEED LEVEL AMSTERDAM …</td><td>&quot;tbl the seed level amsterdam&quot;</td><td>&quot;NL&quot;</td><td>null</td><td>null</td><td>[]</td></tr><tr><td>&quot;SILOAM CLINIC GRH RAYA TANGERA…</td><td>&quot;siloam clinic grh raya tangera…</td><td>&quot;ID&quot;</td><td>&quot;tangerang&quot;</td><td>&quot;tangerang&quot;</td><td>[23, 32]</td></tr><tr><td>&quot;SWALAYAN ZOOM MBL TANJUNG PINA…</td><td>&quot;swalayan zoom mbl tanjung pina…</td><td>&quot;ID&quot;</td><td>&quot;tanjung pinang&quot;</td><td>&quot;tanjung pinan&quot;</td><td>[18, 31]</td></tr><tr><td>&quot;PEDRO SUN PLAZA MEDAN MEDAN KO…</td><td>&quot;pedro sun plaza medan medan ko…</td><td>&quot;ID&quot;</td><td>&quot;medan&quot;</td><td>&quot;medan&quot;</td><td>[16, 21]</td></tr><tr><td>&hellip;</td><td>&hellip;</td><td>&hellip;</td><td>&hellip;</td><td>&hellip;</td><td>&hellip;</td></tr><tr><td>&quot;AUSSIE TOYS ONLINE PAKENHAM AU&quot;</td><td>&quot;aussie toys online pakenham&quot;</td><td>&quot;AU&quot;</td><td>null</td><td>null</td><td>[]</td></tr><tr><td>&quot;TOKO EMAS GINBERS MEDAN KOT. I…</td><td>&quot;toko emas ginbers medan kot&quot;</td><td>&quot;ID&quot;</td><td>&quot;medan&quot;</td><td>&quot;medan&quot;</td><td>[18, 23]</td></tr><tr><td>&quot;BINTANG SPORT SERANG (KOTA)ID&quot;</td><td>&quot;bintang sport serang kota&quot;</td><td>&quot;ID&quot;</td><td>&quot;serang&quot;</td><td>&quot;serang&quot;</td><td>[14, 20]</td></tr><tr><td>&quot;ACE HARDWARE MALL PI I JAKARTA…</td><td>&quot;ace hardware mall pi i jakarta&quot;</td><td>&quot;ID&quot;</td><td>null</td><td>&quot;jakarta&quot;</td><td>[23, 30]</td></tr><tr><td>&quot;IDM TJAJ LOMBOK TIMUR ID&quot;</td><td>&quot;idm tjaj lombok timur&quot;</td><td>&quot;ID&quot;</td><td>&quot;lombok timur&quot;</td><td>&quot;lombok timur&quot;</td><td>[9, 21]</td></tr></tbody></table></div>"
      ],
      "text/plain": [
       "shape: (492_245, 6)\n",
       "┌────────────────┬────────────────┬──────────────┬────────────────┬────────────────┬───────────────┐\n",
       "│ merchant_name  ┆ cleaned_mercha ┆ country_code ┆ enhanced_locat ┆ cleaned_locati ┆ loc_entity_in │\n",
       "│ ---            ┆ nt_name        ┆ ---          ┆ ion            ┆ on             ┆ dex           │\n",
       "│ str            ┆ ---            ┆ str          ┆ ---            ┆ ---            ┆ ---           │\n",
       "│                ┆ str            ┆              ┆ str            ┆ str            ┆ list[i32]     │\n",
       "╞════════════════╪════════════════╪══════════════╪════════════════╪════════════════╪═══════════════╡\n",
       "│ CHOP BUNTUT    ┆ chop buntut    ┆ ID           ┆ sleman         ┆ sleman         ┆ [19, 25]      │\n",
       "│ CAK YO SLEMAN  ┆ cak yo sleman  ┆              ┆                ┆                ┆               │\n",
       "│ (KAB…          ┆ kab            ┆              ┆                ┆                ┆               │\n",
       "│ TBL* THE SEED  ┆ tbl the seed   ┆ NL           ┆ null           ┆ null           ┆ []            │\n",
       "│ LEVEL          ┆ level          ┆              ┆                ┆                ┆               │\n",
       "│ AMSTERDAM …    ┆ amsterdam      ┆              ┆                ┆                ┆               │\n",
       "│ SILOAM CLINIC  ┆ siloam clinic  ┆ ID           ┆ tangerang      ┆ tangerang      ┆ [23, 32]      │\n",
       "│ GRH RAYA       ┆ grh raya       ┆              ┆                ┆                ┆               │\n",
       "│ TANGERA…       ┆ tangera…       ┆              ┆                ┆                ┆               │\n",
       "│ SWALAYAN ZOOM  ┆ swalayan zoom  ┆ ID           ┆ tanjung pinang ┆ tanjung pinan  ┆ [18, 31]      │\n",
       "│ MBL TANJUNG    ┆ mbl tanjung    ┆              ┆                ┆                ┆               │\n",
       "│ PINA…          ┆ pina…          ┆              ┆                ┆                ┆               │\n",
       "│ PEDRO SUN      ┆ pedro sun      ┆ ID           ┆ medan          ┆ medan          ┆ [16, 21]      │\n",
       "│ PLAZA MEDAN    ┆ plaza medan    ┆              ┆                ┆                ┆               │\n",
       "│ MEDAN KO…      ┆ medan ko…      ┆              ┆                ┆                ┆               │\n",
       "│ …              ┆ …              ┆ …            ┆ …              ┆ …              ┆ …             │\n",
       "│ AUSSIE TOYS    ┆ aussie toys    ┆ AU           ┆ null           ┆ null           ┆ []            │\n",
       "│ ONLINE         ┆ online         ┆              ┆                ┆                ┆               │\n",
       "│ PAKENHAM AU    ┆ pakenham       ┆              ┆                ┆                ┆               │\n",
       "│ TOKO EMAS      ┆ toko emas      ┆ ID           ┆ medan          ┆ medan          ┆ [18, 23]      │\n",
       "│ GINBERS MEDAN  ┆ ginbers medan  ┆              ┆                ┆                ┆               │\n",
       "│ KOT. I…        ┆ kot            ┆              ┆                ┆                ┆               │\n",
       "│ BINTANG SPORT  ┆ bintang sport  ┆ ID           ┆ serang         ┆ serang         ┆ [14, 20]      │\n",
       "│ SERANG         ┆ serang kota    ┆              ┆                ┆                ┆               │\n",
       "│ (KOTA)ID       ┆                ┆              ┆                ┆                ┆               │\n",
       "│ ACE HARDWARE   ┆ ace hardware   ┆ ID           ┆ null           ┆ jakarta        ┆ [23, 30]      │\n",
       "│ MALL PI I      ┆ mall pi i      ┆              ┆                ┆                ┆               │\n",
       "│ JAKARTA…       ┆ jakarta        ┆              ┆                ┆                ┆               │\n",
       "│ IDM TJAJ       ┆ idm tjaj       ┆ ID           ┆ lombok timur   ┆ lombok timur   ┆ [9, 21]       │\n",
       "│ LOMBOK TIMUR   ┆ lombok timur   ┆              ┆                ┆                ┆               │\n",
       "│ ID             ┆                ┆              ┆                ┆                ┆               │\n",
       "└────────────────┴────────────────┴──────────────┴────────────────┴────────────────┴───────────────┘"
      ]
     },
     "execution_count": 523,
     "metadata": {},
     "output_type": "execute_result"
    }
   ],
   "source": [
    "data_labeled_train"
   ]
  },
  {
   "cell_type": "code",
   "execution_count": 521,
   "metadata": {},
   "outputs": [],
   "source": [
    "# find starting and ending index\n",
    "data_labeled_train = data_labeled_train.with_columns(\n",
    "    pl.struct([\"cleaned_merchant_name\",\"cleaned_location\"]).map_elements(lambda x: find_index(x), return_dtype = pl.List(pl.Int32)).alias('loc_entity_index')\n",
    ")"
   ]
  },
  {
   "cell_type": "code",
   "execution_count": 529,
   "metadata": {},
   "outputs": [],
   "source": [
    "data_labeled_train.write_parquet('data/merchant_ner_labeled_all.parquet')"
   ]
  },
  {
   "cell_type": "markdown",
   "metadata": {},
   "source": [
    "# NER TRAINING"
   ]
  },
  {
   "cell_type": "code",
   "execution_count": 1,
   "metadata": {},
   "outputs": [
    {
     "ename": "NameError",
     "evalue": "name 'data_labeled_train' is not defined",
     "output_type": "error",
     "traceback": [
      "\u001b[0;31m---------------------------------------------------------------------------\u001b[0m",
      "\u001b[0;31mNameError\u001b[0m                                 Traceback (most recent call last)",
      "Cell \u001b[0;32mIn[1], line 1\u001b[0m\n\u001b[0;32m----> 1\u001b[0m to_split \u001b[38;5;241m=\u001b[39m \u001b[43mdata_labeled_train\u001b[49m\u001b[38;5;241m.\u001b[39mfilter(pl\u001b[38;5;241m.\u001b[39mcol(\u001b[38;5;124m'\u001b[39m\u001b[38;5;124mcleaned_location\u001b[39m\u001b[38;5;124m'\u001b[39m)\u001b[38;5;241m.\u001b[39mis_not_null())\n",
      "\u001b[0;31mNameError\u001b[0m: name 'data_labeled_train' is not defined"
     ]
    }
   ],
   "source": [
    "to_split = data_labeled_train.filter(pl.col('cleaned_location').is_not_null())"
   ]
  },
  {
   "cell_type": "code",
   "execution_count": 2,
   "metadata": {},
   "outputs": [
    {
     "ename": "NameError",
     "evalue": "name 'to_split' is not defined",
     "output_type": "error",
     "traceback": [
      "\u001b[0;31m---------------------------------------------------------------------------\u001b[0m",
      "\u001b[0;31mNameError\u001b[0m                                 Traceback (most recent call last)",
      "Cell \u001b[0;32mIn[2], line 1\u001b[0m\n\u001b[0;32m----> 1\u001b[0m \u001b[43mto_split\u001b[49m\n",
      "\u001b[0;31mNameError\u001b[0m: name 'to_split' is not defined"
     ]
    }
   ],
   "source": [
    "to_split"
   ]
  },
  {
   "cell_type": "code",
   "execution_count": 331,
   "metadata": {},
   "outputs": [],
   "source": [
    "# Alternative implementation using Polars' built-in methods\n",
    "def split_polars_with_sample(df, train_ratio=0.8, seed=None):\n",
    "    \"\"\"\n",
    "    Split a Polars DataFrame using Polars' sample method.\n",
    "    \n",
    "    Parameters:\n",
    "    -----------\n",
    "    df : polars.DataFrame\n",
    "        The input DataFrame to split\n",
    "    train_ratio : float\n",
    "        The proportion of data to include in the training set (default: 0.8)\n",
    "    seed : int or None\n",
    "        Random seed for reproducibility (default: None)\n",
    "    \n",
    "    Returns:\n",
    "    --------\n",
    "    tuple of polars.DataFrame\n",
    "        (train_df, test_df)\n",
    "    \"\"\"\n",
    "    # Sample the training set\n",
    "    train_df = df.sample(fraction=train_ratio, seed=seed)\n",
    "    \n",
    "    # Create a temporary column with row indices\n",
    "    df_with_idx = df.with_row_index(\"__idx\")\n",
    "    train_with_idx = train_df.with_row_index(\"__idx\")\n",
    "    \n",
    "    # Find indices not in the training set\n",
    "    test_df = df_with_idx.filter(\n",
    "        ~pl.col(\"__idx\").is_in(train_with_idx.get_column(\"__idx\"))\n",
    "    ).drop(\"__idx\")\n",
    "    \n",
    "    # Remove the temporary index column from train_df\n",
    "    train_df = train_with_idx.drop(\"__idx\")\n",
    "    \n",
    "    return train_df, test_df"
   ]
  },
  {
   "cell_type": "code",
   "execution_count": 330,
   "metadata": {},
   "outputs": [
    {
     "ename": "NameError",
     "evalue": "name 'split_polars_with_sample' is not defined",
     "output_type": "error",
     "traceback": [
      "\u001b[0;31m---------------------------------------------------------------------------\u001b[0m",
      "\u001b[0;31mNameError\u001b[0m                                 Traceback (most recent call last)",
      "Cell \u001b[0;32mIn[330], line 1\u001b[0m\n\u001b[0;32m----> 1\u001b[0m split_train, split_validation \u001b[38;5;241m=\u001b[39m \u001b[43msplit_polars_with_sample\u001b[49m(to_split, train_ratio\u001b[38;5;241m=\u001b[39m\u001b[38;5;241m0.9\u001b[39m, seed\u001b[38;5;241m=\u001b[39m\u001b[38;5;241m1\u001b[39m)\n",
      "\u001b[0;31mNameError\u001b[0m: name 'split_polars_with_sample' is not defined"
     ]
    }
   ],
   "source": [
    "split_train, split_validation = split_polars_with_sample(to_split, train_ratio=0.9, seed=1)"
   ]
  },
  {
   "cell_type": "code",
   "execution_count": 538,
   "metadata": {},
   "outputs": [],
   "source": [
    "split_train.write_parquet('data/merchant_ner_labeled_train.parquet')"
   ]
  },
  {
   "cell_type": "code",
   "execution_count": 539,
   "metadata": {},
   "outputs": [],
   "source": [
    "split_validation.write_parquet('data/merchant_ner_labeled_validation.parquet')"
   ]
  },
  {
   "cell_type": "code",
   "execution_count": 5,
   "metadata": {},
   "outputs": [],
   "source": [
    "train = pl.read_parquet('data/merchant_ner_labeled_train.parquet')"
   ]
  },
  {
   "cell_type": "code",
   "execution_count": 6,
   "metadata": {},
   "outputs": [
    {
     "data": {
      "text/html": [
       "<div><style>\n",
       ".dataframe > thead > tr,\n",
       ".dataframe > tbody > tr {\n",
       "  text-align: right;\n",
       "  white-space: pre-wrap;\n",
       "}\n",
       "</style>\n",
       "<small>shape: (280_015, 6)</small><table border=\"1\" class=\"dataframe\"><thead><tr><th>merchant_name</th><th>cleaned_merchant_name</th><th>country_code</th><th>enhanced_location</th><th>cleaned_location</th><th>loc_entity_index</th></tr><tr><td>str</td><td>str</td><td>str</td><td>str</td><td>str</td><td>list[i32]</td></tr></thead><tbody><tr><td>&quot;Z003 ELZATTA SURABAYA BANDUNG …</td><td>&quot;z003 elzatta surabaya bandung …</td><td>&quot;ID&quot;</td><td>&quot;surabaya&quot;</td><td>&quot;surabaya&quot;</td><td>[13, 21]</td></tr><tr><td>&quot;SOUR SALLY MALL CENTRAL PJAKAR…</td><td>&quot;sour sally mall central pjakar…</td><td>&quot;ID&quot;</td><td>null</td><td>&quot;jakarta barat&quot;</td><td>[25, 38]</td></tr><tr><td>&quot;GUMATI CIREBON CIREBON KAB. ID&quot;</td><td>&quot;gumati cirebon cirebon kab&quot;</td><td>&quot;ID&quot;</td><td>&quot;cirebon&quot;</td><td>&quot;cirebon&quot;</td><td>[7, 14]</td></tr><tr><td>&quot;KOBE PETSHOP MBL JAKARTA ID&quot;</td><td>&quot;kobe petshop mbl jakarta&quot;</td><td>&quot;ID&quot;</td><td>null</td><td>&quot;jakarta&quot;</td><td>[17, 24]</td></tr><tr><td>&quot;DUNIA LISTRIK TOKO - H MADIUN …</td><td>&quot;dunia listrik toko&nbsp;&nbsp;h madiun&quot;</td><td>&quot;ID&quot;</td><td>&quot;madiun&quot;</td><td>&quot;madiun&quot;</td><td>[22, 28]</td></tr><tr><td>&hellip;</td><td>&hellip;</td><td>&hellip;</td><td>&hellip;</td><td>&hellip;</td><td>&hellip;</td></tr><tr><td>&quot;MIE BANDUNGKEJAKSAAN 1 TANGERA…</td><td>&quot;mie bandungkejaksaan 1 tangera…</td><td>&quot;ID&quot;</td><td>&quot;tangerang&quot;</td><td>&quot;tangerang&quot;</td><td>[23, 32]</td></tr><tr><td>&quot;GUNUNG GEULIS COUNTRY C BOGOR …</td><td>&quot;gunung geulis country c bogor&quot;</td><td>&quot;ID&quot;</td><td>&quot;bogor&quot;</td><td>&quot;bogor&quot;</td><td>[24, 29]</td></tr><tr><td>&quot;SAGA FRESH DOK 9 JAYAPURA (KO …</td><td>&quot;saga fresh dok 9 jayapura ko&quot;</td><td>&quot;ID&quot;</td><td>&quot;jayapura&quot;</td><td>&quot;jayapura&quot;</td><td>[17, 25]</td></tr><tr><td>&quot;BILLBOSS BANJARMASIN KID&quot;</td><td>&quot;billboss banjarmasin k&quot;</td><td>&quot;ID&quot;</td><td>&quot;banjarmasin&quot;</td><td>&quot;banjarmasin&quot;</td><td>[9, 20]</td></tr><tr><td>&quot;LAXMI TAILORS-HO TANGERANG ID&quot;</td><td>&quot;laxmi tailorsho tangerang&quot;</td><td>&quot;ID&quot;</td><td>&quot;tangerang&quot;</td><td>&quot;tangerang&quot;</td><td>[16, 25]</td></tr></tbody></table></div>"
      ],
      "text/plain": [
       "shape: (280_015, 6)\n",
       "┌────────────────┬────────────────┬──────────────┬────────────────┬────────────────┬───────────────┐\n",
       "│ merchant_name  ┆ cleaned_mercha ┆ country_code ┆ enhanced_locat ┆ cleaned_locati ┆ loc_entity_in │\n",
       "│ ---            ┆ nt_name        ┆ ---          ┆ ion            ┆ on             ┆ dex           │\n",
       "│ str            ┆ ---            ┆ str          ┆ ---            ┆ ---            ┆ ---           │\n",
       "│                ┆ str            ┆              ┆ str            ┆ str            ┆ list[i32]     │\n",
       "╞════════════════╪════════════════╪══════════════╪════════════════╪════════════════╪═══════════════╡\n",
       "│ Z003 ELZATTA   ┆ z003 elzatta   ┆ ID           ┆ surabaya       ┆ surabaya       ┆ [13, 21]      │\n",
       "│ SURABAYA       ┆ surabaya       ┆              ┆                ┆                ┆               │\n",
       "│ BANDUNG …      ┆ bandung …      ┆              ┆                ┆                ┆               │\n",
       "│ SOUR SALLY     ┆ sour sally     ┆ ID           ┆ null           ┆ jakarta barat  ┆ [25, 38]      │\n",
       "│ MALL CENTRAL   ┆ mall central   ┆              ┆                ┆                ┆               │\n",
       "│ PJAKAR…        ┆ pjakar…        ┆              ┆                ┆                ┆               │\n",
       "│ GUMATI CIREBON ┆ gumati cirebon ┆ ID           ┆ cirebon        ┆ cirebon        ┆ [7, 14]       │\n",
       "│ CIREBON KAB.   ┆ cirebon kab    ┆              ┆                ┆                ┆               │\n",
       "│ ID             ┆                ┆              ┆                ┆                ┆               │\n",
       "│ KOBE PETSHOP   ┆ kobe petshop   ┆ ID           ┆ null           ┆ jakarta        ┆ [17, 24]      │\n",
       "│ MBL JAKARTA ID ┆ mbl jakarta    ┆              ┆                ┆                ┆               │\n",
       "│ DUNIA LISTRIK  ┆ dunia listrik  ┆ ID           ┆ madiun         ┆ madiun         ┆ [22, 28]      │\n",
       "│ TOKO - H       ┆ toko  h madiun ┆              ┆                ┆                ┆               │\n",
       "│ MADIUN …       ┆                ┆              ┆                ┆                ┆               │\n",
       "│ …              ┆ …              ┆ …            ┆ …              ┆ …              ┆ …             │\n",
       "│ MIE BANDUNGKEJ ┆ mie bandungkej ┆ ID           ┆ tangerang      ┆ tangerang      ┆ [23, 32]      │\n",
       "│ AKSAAN 1       ┆ aksaan 1       ┆              ┆                ┆                ┆               │\n",
       "│ TANGERA…       ┆ tangera…       ┆              ┆                ┆                ┆               │\n",
       "│ GUNUNG GEULIS  ┆ gunung geulis  ┆ ID           ┆ bogor          ┆ bogor          ┆ [24, 29]      │\n",
       "│ COUNTRY C      ┆ country c      ┆              ┆                ┆                ┆               │\n",
       "│ BOGOR …        ┆ bogor          ┆              ┆                ┆                ┆               │\n",
       "│ SAGA FRESH DOK ┆ saga fresh dok ┆ ID           ┆ jayapura       ┆ jayapura       ┆ [17, 25]      │\n",
       "│ 9 JAYAPURA (KO ┆ 9 jayapura ko  ┆              ┆                ┆                ┆               │\n",
       "│ …              ┆                ┆              ┆                ┆                ┆               │\n",
       "│ BILLBOSS       ┆ billboss       ┆ ID           ┆ banjarmasin    ┆ banjarmasin    ┆ [9, 20]       │\n",
       "│ BANJARMASIN    ┆ banjarmasin k  ┆              ┆                ┆                ┆               │\n",
       "│ KID            ┆                ┆              ┆                ┆                ┆               │\n",
       "│ LAXMI          ┆ laxmi          ┆ ID           ┆ tangerang      ┆ tangerang      ┆ [16, 25]      │\n",
       "│ TAILORS-HO     ┆ tailorsho      ┆              ┆                ┆                ┆               │\n",
       "│ TANGERANG ID   ┆ tangerang      ┆              ┆                ┆                ┆               │\n",
       "└────────────────┴────────────────┴──────────────┴────────────────┴────────────────┴───────────────┘"
      ]
     },
     "execution_count": 6,
     "metadata": {},
     "output_type": "execute_result"
    }
   ],
   "source": [
    "train"
   ]
  },
  {
   "cell_type": "code",
   "execution_count": 7,
   "metadata": {},
   "outputs": [],
   "source": [
    "import spacy\n",
    "from spacy import displacy\n",
    "\n",
    "nlp = spacy.blank(\"id\")"
   ]
  },
  {
   "cell_type": "code",
   "execution_count": 8,
   "metadata": {},
   "outputs": [
    {
     "data": {
      "text/plain": [
       "<spacy.lang.id.Indonesian at 0x7ff4f2fa0450>"
      ]
     },
     "execution_count": 8,
     "metadata": {},
     "output_type": "execute_result"
    }
   ],
   "source": [
    "nlp"
   ]
  },
  {
   "cell_type": "code",
   "execution_count": 9,
   "metadata": {},
   "outputs": [],
   "source": [
    "train_spacy = []"
   ]
  },
  {
   "cell_type": "code",
   "execution_count": 10,
   "metadata": {},
   "outputs": [],
   "source": [
    "spacy_data = []"
   ]
  },
  {
   "cell_type": "code",
   "execution_count": 11,
   "metadata": {},
   "outputs": [],
   "source": [
    "for row in train.iter_rows():\n",
    "    spacy_data.append((row[1], {\"entities\": [(row[5][0], row[5][1], \"LOC\")]}))"
   ]
  },
  {
   "cell_type": "code",
   "execution_count": 81,
   "metadata": {},
   "outputs": [],
   "source": [
    "import random\n",
    "random.Random(1).shuffle(spacy_data)\n",
    "train_data = spacy_data[:int(len(spacy_data) * 0.9)]\n",
    "test_data = spacy_data[int(len(spacy_data) * 0.9):]"
   ]
  },
  {
   "cell_type": "code",
   "execution_count": 82,
   "metadata": {},
   "outputs": [
    {
     "data": {
      "text/plain": [
       "252013"
      ]
     },
     "execution_count": 82,
     "metadata": {},
     "output_type": "execute_result"
    }
   ],
   "source": [
    "len(train_data)"
   ]
  },
  {
   "cell_type": "code",
   "execution_count": 83,
   "metadata": {},
   "outputs": [],
   "source": [
    "def create_model(train_data):\n",
    "    nlp = spacy.blank(\"id\")  # create blank model (adjust language as needed)\n",
    "    print(\"Created blank model\")\n",
    "    \n",
    "    # Add NER component if it doesn't exist\n",
    "    if \"ner\" not in nlp.pipe_names:\n",
    "        ner = nlp.add_pipe(\"ner\", last=True)\n",
    "    else:\n",
    "        ner = nlp.get_pipe(\"ner\")\n",
    "    \n",
    "    # Add entity labels\n",
    "    for _, annotations in train_data:\n",
    "        for ent in annotations.get(\"entities\"):\n",
    "            ner.add_label(ent[2])\n",
    "    \n",
    "    return nlp"
   ]
  },
  {
   "cell_type": "code",
   "execution_count": 84,
   "metadata": {},
   "outputs": [],
   "source": [
    "count_span_none = 0\n",
    "span_none = []\n",
    "for text, annots in train_data:\n",
    "    #print(text, annots)\n",
    "    break_loop = False\n",
    "    doc = nlp.make_doc(text)\n",
    "    for start, end, label in annots.get(\"entities\"):\n",
    "        span = doc.char_span(start, end, label=label)\n",
    "        if span is None:\n",
    "            span_none.append((text, annots))\n"
   ]
  },
  {
   "cell_type": "code",
   "execution_count": null,
   "metadata": {},
   "outputs": [],
   "source": [
    "#...................|...........\n",
    "#mybluebird 96961057jakarta slt"
   ]
  },
  {
   "cell_type": "code",
   "execution_count": null,
   "metadata": {},
   "outputs": [],
   "source": [
    "nlp.make_doc(text)"
   ]
  },
  {
   "cell_type": "code",
   "execution_count": 12,
   "metadata": {},
   "outputs": [],
   "source": [
    "# 4. Convert data to Spacy format and save\n",
    "from spacy.tokens import DocBin\n",
    "from spacy.util import filter_spans\n",
    "\n",
    "def convert_to_spacy(data, output_path):\n",
    "    db = DocBin()\n",
    "    nlp_model = spacy.blank(\"id\")\n",
    "    \n",
    "    for text, annots in data:\n",
    "        doc = nlp_model.make_doc(text)\n",
    "        ents = []\n",
    "        for start, end, label in annots.get(\"entities\"):\n",
    "            span = doc.char_span(start, end, label=label)\n",
    "            # if span is None:\n",
    "            #     print(f\"Skipping entity in '{text}' - invalid span\")\n",
    "            if span is not None:\n",
    "                ents.append(span)\n",
    "        filtered_ents = filter_spans(ents)\n",
    "        doc.ents = filtered_ents\n",
    "        db.add(doc)\n",
    "\n",
    "    db.to_disk(output_path)\n",
    "    print(f\"Saved {len(data)} examples to {output_path}\")"
   ]
  },
  {
   "cell_type": "code",
   "execution_count": 85,
   "metadata": {},
   "outputs": [
    {
     "data": {
      "text/plain": [
       "[('hotel flaminggo padang kota', {'entities': [(16, 22, 'LOC')]}),\n",
       " ('richeese factory cilegon cilegon', {'entities': [(17, 24, 'LOC')]}),\n",
       " ('kfc surya s bdg 551 bandung', {'entities': [(20, 27, 'LOC')]}),\n",
       " ('borong petshop makassar', {'entities': [(15, 23, 'LOC')]}),\n",
       " ('reebok bencoolenpr35 bengkulu', {'entities': [(21, 29, 'LOC')]}),\n",
       " ('timberland senayan city jakarta pusat', {'entities': [(24, 37, 'LOC')]}),\n",
       " ('remaja diponegoro sidoarjo', {'entities': [(18, 26, 'LOC')]}),\n",
       " ('native tribe jakarta timur', {'entities': [(13, 26, 'LOC')]}),\n",
       " ('alfamart eg34 mbl bogor', {'entities': [(18, 23, 'LOC')]}),\n",
       " ('apotek mose pamulangh tangerang slt', {'entities': [(22, 31, 'LOC')]}),\n",
       " ('hyfresh prabumulih prabumulih k', {'entities': [(8, 18, 'LOC')]}),\n",
       " ('spbu 3440121 babandung kota', {'entities': [(15, 22, 'LOC')]}),\n",
       " ('asia jaya wtc 2 mbl surabaya', {'entities': [(20, 28, 'LOC')]}),\n",
       " ('le bay  tipsea jakarta utara', {'entities': [(15, 28, 'LOC')]}),\n",
       " ('museum angkut kota bat batu kot', {'entities': [(23, 27, 'LOC')]}),\n",
       " ('hotel santika malang mbl malang', {'entities': [(14, 20, 'LOC')]}),\n",
       " ('cinnamoreho jakarta timur', {'entities': [(12, 25, 'LOC')]}),\n",
       " ('fitnessfirstcohn3mnw jakarta slt', {'entities': [(21, 32, 'LOC')]}),\n",
       " ('shabu hachi depok depok', {'entities': [(12, 17, 'LOC')]}),\n",
       " ('ben gongs tea pik jakarta utara', {'entities': [(18, 31, 'LOC')]}),\n",
       " ('cbtl  cilandak town squajakarta selat', {'entities': [(24, 37, 'LOC')]}),\n",
       " ('gs lab  gunung sahari jakarta pusat', {'entities': [(22, 35, 'LOC')]}),\n",
       " ('lorong kopi jakarta selat', {'entities': [(12, 25, 'LOC')]}),\n",
       " ('dermaqueen salonho jakarta slt', {'entities': [(19, 30, 'LOC')]}),\n",
       " ('lumigarnet tangerang k', {'entities': [(11, 20, 'LOC')]}),\n",
       " ('balebebakaran yogyakarta k', {'entities': [(14, 24, 'LOC')]}),\n",
       " ('spbu 4451119 pepekalongan k', {'entities': [(13, 25, 'LOC')]}),\n",
       " ('haus season city jakarta barat', {'entities': [(17, 30, 'LOC')]}),\n",
       " ('spbu 4457101 pabelan sukoharjo kab', {'entities': [(21, 30, 'LOC')]}),\n",
       " ('rotio stasiun rangkas bi lebak kab', {'entities': [(25, 30, 'LOC')]}),\n",
       " ('hotel santika lahat kab', {'entities': [(14, 19, 'LOC')]}),\n",
       " ('saidov indo kjaya mho jakarta pusat', {'entities': [(22, 35, 'LOC')]}),\n",
       " ('bakso sukowati bogor kab', {'entities': [(15, 20, 'LOC')]}),\n",
       " ('seminggu kopitiam medan kot', {'entities': [(18, 23, 'LOC')]}),\n",
       " ('hotel horison tasikmal tasikmalaya k', {'entities': [(23, 34, 'LOC')]}),\n",
       " ('wingstop living world pekpekanbaru', {'entities': [(22, 34, 'LOC')]}),\n",
       " ('rodalink semarang set semarang ka', {'entities': [(9, 17, 'LOC')]}),\n",
       " ('semesta baru  jakarta barat', {'entities': [(8, 12, 'LOC')]}),\n",
       " ('alfamart an ub32 bright jkab sidoarjo', {'entities': [(29, 37, 'LOC')]}),\n",
       " ('alfamart j883 mbl jakarta', {'entities': [(18, 25, 'LOC')]}),\n",
       " ('hankam teknik bekasi kab', {'entities': [(14, 20, 'LOC')]}),\n",
       " ('jimbaran jaya ptho jakarta utara', {'entities': [(19, 32, 'LOC')]}),\n",
       " ('aeon  bsd city tangerang k', {'entities': [(15, 24, 'LOC')]}),\n",
       " ('idm g301 go f02 sidoarjo', {'entities': [(16, 24, 'LOC')]}),\n",
       " ('kfc ms taman rasuna jakarta', {'entities': [(20, 27, 'LOC')]}),\n",
       " ('santika hotel siligita denpasar', {'entities': [(14, 22, 'LOC')]}),\n",
       " ('nadira store bandung kot', {'entities': [(13, 20, 'LOC')]}),\n",
       " ('ck spbu dago atas bandung', {'entities': [(18, 25, 'LOC')]}),\n",
       " ('idm f966 salak madiun', {'entities': [(15, 21, 'LOC')]}),\n",
       " ('total buah segar bekasi kota', {'entities': [(17, 23, 'LOC')]}),\n",
       " ('fitnessfirstcogfd74c3svjakarta slt', {'entities': [(23, 34, 'LOC')]}),\n",
       " ('big bang donho medan', {'entities': [(15, 20, 'LOC')]}),\n",
       " ('idm th7k menjangan raya tangerang', {'entities': [(24, 33, 'LOC')]}),\n",
       " ('sariguna swalayan  ho dumai', {'entities': [(22, 27, 'LOC')]}),\n",
       " ('alfamart an 1scr sultan skab bima', {'entities': [(29, 33, 'LOC')]}),\n",
       " ('idm g049 go r02 pekanbaru', {'entities': [(16, 25, 'LOC')]}),\n",
       " ('honda kencana service bekasi kota', {'entities': [(22, 28, 'LOC')]}),\n",
       " ('saung ranggon tasikmalaya', {'entities': [(0, 5, 'LOC')]}),\n",
       " ('pizza hut r282 bksmb bekasi kota', {'entities': [(21, 27, 'LOC')]}),\n",
       " ('idm thllangkasa dalam jakarta pusat', {'entities': [(22, 35, 'LOC')]}),\n",
       " ('ud sinar jayaho sidoarjo', {'entities': [(16, 24, 'LOC')]}),\n",
       " ('aurama resort lumajang ka', {'entities': [(14, 22, 'LOC')]}),\n",
       " ('bc purwakarta purwakarta', {'entities': [(3, 13, 'LOC')]}),\n",
       " ('alfamrt c723 bambu ku bekasi', {'entities': [(22, 28, 'LOC')]}),\n",
       " ('four palms mbl ambon', {'entities': [(15, 20, 'LOC')]}),\n",
       " ('dana qroff  a2 food c jakarta', {'entities': [(22, 29, 'LOC')]}),\n",
       " ('mygrapari tsel sdm plb palembang', {'entities': [(23, 32, 'LOC')]}),\n",
       " ('penthouse on 19 th medan', {'entities': [(19, 24, 'LOC')]}),\n",
       " ('dana qroff  jonkira r jakarta', {'entities': [(22, 29, 'LOC')]}),\n",
       " ('apotek duta farma 2 surabaya kot', {'entities': [(20, 28, 'LOC')]}),\n",
       " ('aia fin 35147683 1224 tangerang', {'entities': [(22, 31, 'LOC')]}),\n",
       " ('bordir computer by elwa jakarta pusat', {'entities': [(24, 37, 'LOC')]}),\n",
       " ('padel pro kemang jakarta selat', {'entities': [(17, 30, 'LOC')]}),\n",
       " ('hoops jakarta pusat', {'entities': [(6, 19, 'LOC')]}),\n",
       " ('tomoro coffee gran rubinajakarta selat', {'entities': [(25, 38, 'LOC')]}),\n",
       " ('hcir selma panbil btm batam', {'entities': [(22, 27, 'LOC')]}),\n",
       " ('kamakura branz jakarta slt', {'entities': [(15, 26, 'LOC')]}),\n",
       " ('excelcom nov 081798jakarta slt', {'entities': [(19, 30, 'LOC')]}),\n",
       " ('pd sarana utama mbl pontianak', {'entities': [(20, 29, 'LOC')]}),\n",
       " ('lotte wholesale padalaranbandung', {'entities': [(25, 32, 'LOC')]}),\n",
       " ('ken hermawan terapi kaki tangerang', {'entities': [(25, 34, 'LOC')]}),\n",
       " ('alma coquette seminyak badung', {'entities': [(23, 29, 'LOC')]}),\n",
       " ('my pisita anyer resor serang kab', {'entities': [(22, 28, 'LOC')]}),\n",
       " ('pondok kemangi jajakarta utara', {'entities': [(15, 30, 'LOC')]}),\n",
       " ('raacha bancoolen bengkulu', {'entities': [(17, 25, 'LOC')]}),\n",
       " ('la vie villa ho badung', {'entities': [(16, 22, 'LOC')]}),\n",
       " ('kopi arobi km 5 luwuk banggai', {'entities': [(22, 29, 'LOC')]}),\n",
       " ('toko fauzi bangunan pekanbaru kot', {'entities': [(20, 29, 'LOC')]}),\n",
       " ('pelangi cell jakarta timur', {'entities': [(13, 26, 'LOC')]}),\n",
       " ('paninlife 2022016114jan25jakarta pusat', {'entities': [(25, 38, 'LOC')]}),\n",
       " ('sahabat sekip makmur c palembang', {'entities': [(23, 32, 'LOC')]}),\n",
       " ('bh95 alfamart ciateul 1 bandung', {'entities': [(24, 31, 'LOC')]}),\n",
       " ('shakko restaurant bekasi kab', {'entities': [(18, 24, 'LOC')]}),\n",
       " ('bff batam kot', {'entities': [(4, 9, 'LOC')]}),\n",
       " ('digiplus gmp qf51 jakarta', {'entities': [(18, 25, 'LOC')]}),\n",
       " ('sr polo cilegon cente cilegon kot', {'entities': [(8, 15, 'LOC')]}),\n",
       " ('parade tangerang', {'entities': [(7, 16, 'LOC')]}),\n",
       " ('familymart taman galaxy bekasi', {'entities': [(24, 30, 'LOC')]}),\n",
       " ('jogja speed bantul mbl yogyakarta', {'entities': [(12, 18, 'LOC')]}),\n",
       " ('apotek tiara surabaya ko', {'entities': [(13, 21, 'LOC')]}),\n",
       " ('sugu resto bandung kot', {'entities': [(11, 18, 'LOC')]}),\n",
       " ('bali starlingho gianyar', {'entities': [(16, 23, 'LOC')]}),\n",
       " ('idm trr8tonsea lama minahasa', {'entities': [(20, 28, 'LOC')]}),\n",
       " ('penimo prambanan mbl klaten', {'entities': [(21, 27, 'LOC')]}),\n",
       " ('sinar kumala mbl manado', {'entities': [(17, 23, 'LOC')]}),\n",
       " ('spbu 5460253gnsari surabaya', {'entities': [(19, 27, 'LOC')]}),\n",
       " ('anaair 2054402764789dki jakarta', {'entities': [(24, 31, 'LOC')]}),\n",
       " ('dr bags outlet tangerang kot', {'entities': [(15, 24, 'LOC')]}),\n",
       " ('alfamart 1yn6 mbl kotamobagu', {'entities': [(18, 28, 'LOC')]}),\n",
       " ('holland bakery cideng jakarta barat', {'entities': [(22, 35, 'LOC')]}),\n",
       " ('payless park solopy72 sukoharjo', {'entities': [(22, 31, 'LOC')]}),\n",
       " ('lepari ciamis kab', {'entities': [(7, 13, 'LOC')]}),\n",
       " ('lampoh coffe  resto tangerang sel', {'entities': [(20, 29, 'LOC')]}),\n",
       " ('kfc rs tanjung perak  phsurabaya kot', {'entities': [(24, 32, 'LOC')]}),\n",
       " ('spbu 3411703 jakarta barat', {'entities': [(13, 26, 'LOC')]}),\n",
       " ('x344 alfamart anggur depok kota', {'entities': [(21, 26, 'LOC')]}),\n",
       " ('gsi miko mbl bandung', {'entities': [(13, 20, 'LOC')]}),\n",
       " ('rise hospitality indone jakarta barat', {'entities': [(24, 37, 'LOC')]}),\n",
       " ('mybluebird 95791322jakarta slt', {'entities': [(19, 30, 'LOC')]}),\n",
       " ('idm tw6b cirebon', {'entities': [(9, 16, 'LOC')]}),\n",
       " ('pepito market canggu badung', {'entities': [(21, 27, 'LOC')]}),\n",
       " ('toko mas arjuna jakarta timu', {'entities': [(5, 8, 'LOC')]}),\n",
       " ('chigo jktcgplzbntro jakarta slt', {'entities': [(20, 31, 'LOC')]}),\n",
       " ('aicha makassar', {'entities': [(6, 14, 'LOC')]}),\n",
       " ('pulen  kopi ponti ca sleman kab', {'entities': [(21, 27, 'LOC')]}),\n",
       " ('maxx coffee pjv jakarta', {'entities': [(16, 23, 'LOC')]}),\n",
       " ('indomaret twst  ujung pontianak ko', {'entities': [(22, 31, 'LOC')]}),\n",
       " ('salon christopher ptc palembang k', {'entities': [(22, 31, 'LOC')]}),\n",
       " ('b662 alfamart lodaya bandung kot', {'entities': [(21, 28, 'LOC')]}),\n",
       " ('alfamart q358 mbl denpasar', {'entities': [(18, 26, 'LOC')]}),\n",
       " ('idm tfme cipendawa cianjur', {'entities': [(19, 26, 'LOC')]}),\n",
       " ('mi store palembang ico palembang dan', {'entities': [(9, 18, 'LOC')]}),\n",
       " ('watsons trans studio depok kota', {'entities': [(21, 26, 'LOC')]}),\n",
       " ('midi sc60 gadog bogor', {'entities': [(16, 21, 'LOC')]}),\n",
       " ('esb pos south jakarta', {'entities': [(4, 7, 'LOC')]}),\n",
       " ('eclinic mataram kot', {'entities': [(8, 15, 'LOC')]}),\n",
       " ('mgc  yoshinoya margo depok kota', {'entities': [(21, 26, 'LOC')]}),\n",
       " ('number 1 silver sanur denpasar', {'entities': [(22, 30, 'LOC')]}),\n",
       " ('murni cosmetics dalun badung kab', {'entities': [(22, 28, 'LOC')]}),\n",
       " ('alfamart m606 mbl malang', {'entities': [(18, 24, 'LOC')]}),\n",
       " ('dharma kitchen indo pthojakarta utara', {'entities': [(24, 37, 'LOC')]}),\n",
       " ('temu roastery tangerang slt', {'entities': [(14, 23, 'LOC')]}),\n",
       " ('dafmart mbl padang', {'entities': [(12, 18, 'LOC')]}),\n",
       " ('imola motor balikpapan', {'entities': [(12, 22, 'LOC')]}),\n",
       " ('mcd singkawang kalimantan ba', {'entities': [(4, 14, 'LOC')]}),\n",
       " ('alfamart ta78 mbl tangerang', {'entities': [(18, 27, 'LOC')]}),\n",
       " ('mcd  dt cipondoh tangeratangerang', {'entities': [(17, 33, 'LOC')]}),\n",
       " ('grandmas kitchen jakarta utara', {'entities': [(17, 30, 'LOC')]}),\n",
       " ('bina bangsa school jakarta utara', {'entities': [(19, 32, 'LOC')]}),\n",
       " ('rs sentra medika bekasi kab', {'entities': [(17, 23, 'LOC')]}),\n",
       " ('dseasoning  ho medan', {'entities': [(15, 20, 'LOC')]}),\n",
       " ('dana qroff  mega luce jakarta', {'entities': [(22, 29, 'LOC')]}),\n",
       " ('idm thiq joglo a2 jakarta', {'entities': [(18, 25, 'LOC')]}),\n",
       " ('alfamart 1sa2 mbl sumbawabesar', {'entities': [(18, 30, 'LOC')]}),\n",
       " ('francis jakarta barat', {'entities': [(8, 21, 'LOC')]}),\n",
       " ('rumah sakit tiara sella bengkulu kot', {'entities': [(24, 32, 'LOC')]}),\n",
       " ('spbu 3412902gsubrot jakarta slt', {'entities': [(20, 31, 'LOC')]}),\n",
       " ('reddoorz syariah kebr surabaya kot', {'entities': [(22, 30, 'LOC')]}),\n",
       " ('begor pondok suryo jakarta pusat', {'entities': [(19, 32, 'LOC')]}),\n",
       " ('alfamart an w728 residen banda aceh', {'entities': [(25, 35, 'LOC')]}),\n",
       " ('rs citra harapan bebekasi kota', {'entities': [(17, 25, 'LOC')]}),\n",
       " ('fountain medan', {'entities': [(9, 14, 'LOC')]}),\n",
       " ('wayang cafe bengkulu', {'entities': [(12, 20, 'LOC')]}),\n",
       " ('play n learn mkg jakarta utara', {'entities': [(17, 30, 'LOC')]}),\n",
       " ('marugame aeon jgc jakarta timu', {'entities': [(18, 30, 'LOC')]}),\n",
       " ('idm txs5 kusuma bangsa kekediri', {'entities': [(23, 31, 'LOC')]}),\n",
       " ('idm tybf gunung kidul', {'entities': [(9, 21, 'LOC')]}),\n",
       " ('matahari toko pasuruan', {'entities': [(14, 22, 'LOC')]}),\n",
       " ('remaja pikho jakarta utara', {'entities': [(13, 26, 'LOC')]}),\n",
       " ('xb22 alfamart raya pa bogor kab', {'entities': [(22, 27, 'LOC')]}),\n",
       " ('skin n coskincare lase jakarta pusat', {'entities': [(23, 36, 'LOC')]}),\n",
       " ('alfamart an ch42 ch42 alfbekasi', {'entities': [(25, 31, 'LOC')]}),\n",
       " ('eramart gerilya samarinda kot', {'entities': [(16, 25, 'LOC')]}),\n",
       " ('nam pameran 14 surabaya', {'entities': [(15, 23, 'LOC')]}),\n",
       " ('susan wilson home bake palembang ko', {'entities': [(23, 32, 'LOC')]}),\n",
       " ('idm t7vp bandung barat', {'entities': [(9, 22, 'LOC')]}),\n",
       " ('alim tokoho bogor', {'entities': [(12, 17, 'LOC')]}),\n",
       " ('green mipa sanbers mbl depok', {'entities': [(6, 10, 'LOC')]}),\n",
       " ('dan dan and 9au4 grand bekasi', {'entities': [(23, 29, 'LOC')]}),\n",
       " ('optik melawai ruko ra koskota sukabumi', {'entities': [(6, 13, 'LOC')]}),\n",
       " ('a390 azko mkslplatanete makassar', {'entities': [(24, 32, 'LOC')]}),\n",
       " ('toko sukses gemilang mar pohuwato kab', {'entities': [(25, 33, 'LOC')]}),\n",
       " ('dbubbles shisha cafe jakarta selat', {'entities': [(21, 34, 'LOC')]}),\n",
       " ('havaianas  7ka semi badung kab', {'entities': [(20, 26, 'LOC')]}),\n",
       " ('back to bajo manggarai brt', {'entities': [(13, 22, 'LOC')]}),\n",
       " ('aia fin 34938301 1124 tangerang', {'entities': [(22, 31, 'LOC')]}),\n",
       " ('dana qroff  kwetiau a jakarta', {'entities': [(22, 29, 'LOC')]}),\n",
       " ('idm t4eb pandeglang', {'entities': [(9, 19, 'LOC')]}),\n",
       " ('a1 pdp padang panjan', {'entities': [(7, 13, 'LOC')]}),\n",
       " ('micup lounge barkaraoke tangerang kot', {'entities': [(24, 33, 'LOC')]}),\n",
       " ('indomaret tyok  kolo jakarta timu', {'entities': [(21, 33, 'LOC')]}),\n",
       " ('alfamart cc75 mbl karawang', {'entities': [(18, 26, 'LOC')]}),\n",
       " ('asoka baby store rawamangjakarta', {'entities': [(25, 32, 'LOC')]}),\n",
       " ('the bolu rampah alaudd makassar kot', {'entities': [(23, 31, 'LOC')]}),\n",
       " ('lw kota wisataxxi deluxekabbogor', {'entities': [(27, 32, 'LOC')]}),\n",
       " ('burger king panam pekanbaru k', {'entities': [(18, 27, 'LOC')]}),\n",
       " ('aneka jaya semarang kot', {'entities': [(11, 19, 'LOC')]}),\n",
       " ('braun buffel kasablanka jakarta slt', {'entities': [(24, 35, 'LOC')]}),\n",
       " ('cotton on grand indoc jakarta', {'entities': [(22, 29, 'LOC')]}),\n",
       " ('baraya travel melawai bekasi kab', {'entities': [(22, 28, 'LOC')]}),\n",
       " ('midi mc32 mayor oking bogor', {'entities': [(22, 27, 'LOC')]}),\n",
       " ('global pet shop tatangerang sel', {'entities': [(16, 27, 'LOC')]}),\n",
       " ('selawaktu cafe jakarta selat', {'entities': [(15, 28, 'LOC')]}),\n",
       " ('sagung seto mbl jakarta', {'entities': [(0, 6, 'LOC')]}),\n",
       " ('sumber baru central mtr magelang', {'entities': [(24, 32, 'LOC')]}),\n",
       " ('cerita manisan gianyar', {'entities': [(15, 22, 'LOC')]}),\n",
       " ('jaco tv shopping rcw mbl medan', {'entities': [(25, 30, 'LOC')]}),\n",
       " ('rotio rsud kardinah te tegal kot', {'entities': [(23, 28, 'LOC')]}),\n",
       " ('balizen icon mall sanur denpasar', {'entities': [(24, 32, 'LOC')]}),\n",
       " ('arena seaside mbl denpasar  ba', {'entities': [(18, 26, 'LOC')]}),\n",
       " ('bali united mega store denpasar kot', {'entities': [(23, 31, 'LOC')]}),\n",
       " ('fw grand palu mall palu', {'entities': [(9, 13, 'LOC')]}),\n",
       " ('bebek tepi sawahbw h jakarta utara', {'entities': [(21, 34, 'LOC')]}),\n",
       " ('erafone  wtc e mall surabaya ko', {'entities': [(20, 28, 'LOC')]}),\n",
       " ('apotekku sanggulan tabanan', {'entities': [(19, 26, 'LOC')]}),\n",
       " ('apotek golden sehat jk jakarta barat', {'entities': [(23, 36, 'LOC')]}),\n",
       " ('i494 alfamart rinjani cilacap kab', {'entities': [(22, 29, 'LOC')]}),\n",
       " ('zomia coffeeinside sleman kab', {'entities': [(19, 25, 'LOC')]}),\n",
       " ('adidas sleman kab', {'entities': [(7, 13, 'LOC')]}),\n",
       " ('guardian 6228 samarinda bsamarinda ko', {'entities': [(14, 23, 'LOC')]}),\n",
       " ('intimo malang', {'entities': [(7, 13, 'LOC')]}),\n",
       " ('alfamart an xa50 p asogirbogor', {'entities': [(25, 30, 'LOC')]}),\n",
       " ('elektronik murahbiz pontianak', {'entities': [(20, 29, 'LOC')]}),\n",
       " ('tb karitas jaya bekasi kab', {'entities': [(16, 22, 'LOC')]}),\n",
       " ('proban komodor halim jakarta timur', {'entities': [(21, 34, 'LOC')]}),\n",
       " ('apotek kimia farma bsd tangerang', {'entities': [(23, 32, 'LOC')]}),\n",
       " ('idm t48h  turangga 17 bandung', {'entities': [(22, 29, 'LOC')]}),\n",
       " ('hypermart citra raya tg tangerang', {'entities': [(24, 33, 'LOC')]}),\n",
       " ('home of beyond milk ho badung', {'entities': [(23, 29, 'LOC')]}),\n",
       " ('pt pesona natasha gemilanbanyuwangi k', {'entities': [(25, 35, 'LOC')]}),\n",
       " ('bakso lapangan tembak jakarta sela', {'entities': [(22, 34, 'LOC')]}),\n",
       " ('owl eyewear indonesia surabaya', {'entities': [(22, 30, 'LOC')]}),\n",
       " ('sn cargo domesticho balikpapan', {'entities': [(20, 30, 'LOC')]}),\n",
       " ('ems land propertindo p gowa', {'entities': [(23, 27, 'LOC')]}),\n",
       " ('idm tpcsraya bohar sidoarjo', {'entities': [(19, 27, 'LOC')]}),\n",
       " ('toko dumain frozen bekasi kot', {'entities': [(19, 25, 'LOC')]}),\n",
       " ('kfc drive true otista jakarta timu', {'entities': [(22, 34, 'LOC')]}),\n",
       " ('mochi kaswari lampionh sukabumi', {'entities': [(23, 31, 'LOC')]}),\n",
       " ('mirota pasaraya mbl yogyakarta', {'entities': [(20, 30, 'LOC')]}),\n",
       " ('krisna oleholeh denpasar', {'entities': [(16, 24, 'LOC')]}),\n",
       " ('sakura tokoho sidoarjo', {'entities': [(14, 22, 'LOC')]}),\n",
       " ('benings clinic cimahi cimahi', {'entities': [(15, 21, 'LOC')]}),\n",
       " ('toko mas sinar fajar jakarta barat', {'entities': [(5, 8, 'LOC')]}),\n",
       " ('iqos kiosk westmrkt sby surabaya', {'entities': [(24, 32, 'LOC')]}),\n",
       " ('art landho surabaya', {'entities': [(11, 19, 'LOC')]}),\n",
       " ('sbux bsd1w tangerang', {'entities': [(11, 20, 'LOC')]}),\n",
       " ('buno shop makassar', {'entities': [(10, 18, 'LOC')]}),\n",
       " ('miniso aeon tjg barat jakarta slt', {'entities': [(22, 33, 'LOC')]}),\n",
       " ('mybluebird 96032945jakarta slt', {'entities': [(19, 30, 'LOC')]}),\n",
       " ('o167 alfamart palagan sleman kab', {'entities': [(22, 28, 'LOC')]}),\n",
       " ('toko susu ceria kids depok kota', {'entities': [(21, 26, 'LOC')]}),\n",
       " ('spbu 5460262rymengn surabaya', {'entities': [(20, 28, 'LOC')]}),\n",
       " ('tunjunganplaza doughlab surabaya', {'entities': [(24, 32, 'LOC')]}),\n",
       " ('mbok berek ny astuti bsd tangerang', {'entities': [(25, 34, 'LOC')]}),\n",
       " ('alfamart i604 mbl cilacap', {'entities': [(18, 25, 'LOC')]}),\n",
       " ('bebe story balikpapan', {'entities': [(11, 21, 'LOC')]}),\n",
       " ('pendy sport mbl bandar lampun', {'entities': [(16, 29, 'LOC')]}),\n",
       " ('idm tm9igatot subroto tangerang', {'entities': [(22, 31, 'LOC')]}),\n",
       " ('kedai dandang gula  ho semarang', {'entities': [(23, 31, 'LOC')]}),\n",
       " ('yamagoya ramen amp sleman', {'entities': [(19, 25, 'LOC')]}),\n",
       " ('wwwsuperairibedpsjhryjakarta pusat', {'entities': [(21, 34, 'LOC')]}),\n",
       " ('spbu 3415701 tangerang ka', {'entities': [(13, 22, 'LOC')]}),\n",
       " ('kilat premium carwash  lmedan kota', {'entities': [(24, 29, 'LOC')]}),\n",
       " ('dana qroff  rumah don jakarta', {'entities': [(22, 29, 'LOC')]}),\n",
       " ('pelangi cafe sesemarang kot', {'entities': [(13, 23, 'LOC')]}),\n",
       " ('alfamart 1g2q katingan hibanjarmasin', {'entities': [(14, 22, 'LOC')]}),\n",
       " ('pondok wong palembang bandung', {'entities': [(12, 21, 'LOC')]}),\n",
       " ('alfamart 1sl8 ahmad dahlakab lombok t', {'entities': [(29, 37, 'LOC')]}),\n",
       " ('bubur ayam akiong jajakarta utara', {'entities': [(0, 5, 'LOC')]}),\n",
       " ('kacamatamoo bandung', {'entities': [(12, 19, 'LOC')]}),\n",
       " ('hcir informa a yani bekasbekasi kot', {'entities': [(20, 31, 'LOC')]}),\n",
       " ('mobile8 jan 5611449505 jakarta pusat', {'entities': [(23, 36, 'LOC')]}),\n",
       " ('chamart wr supratman bandar lampun', {'entities': [(21, 34, 'LOC')]}),\n",
       " ('tema coffee and spaceho tjg pinang', {'entities': [(24, 34, 'LOC')]}),\n",
       " ('midi sa44 kelapa dua tangerang', {'entities': [(21, 30, 'LOC')]}),\n",
       " ('secret garden restaurant bekasi', {'entities': [(25, 31, 'LOC')]}),\n",
       " ('abs kuningan jakarta selat', {'entities': [(4, 12, 'LOC')]}),\n",
       " ('seven event tangerang k', {'entities': [(12, 21, 'LOC')]}),\n",
       " ('apartemen senayanho jakarta slt', {'entities': [(20, 31, 'LOC')]}),\n",
       " ('volcano supplement  gym palembang ko', {'entities': [(24, 33, 'LOC')]}),\n",
       " ('house wacoal cihampela babandung kota', {'entities': [(25, 32, 'LOC')]}),\n",
       " ('gunung langit manado', {'entities': [(14, 20, 'LOC')]}),\n",
       " ('wal mart samarinda kot', {'entities': [(9, 18, 'LOC')]}),\n",
       " ('dunia buah 4 mbl kab bandung', {'entities': [(21, 28, 'LOC')]}),\n",
       " ('apotek k24 ngaglik sleman', {'entities': [(19, 25, 'LOC')]}),\n",
       " ('ai03 midi demaan kudus kab', {'entities': [(17, 22, 'LOC')]}),\n",
       " ('erf samsung grand bat batam kota', {'entities': [(22, 27, 'LOC')]}),\n",
       " ('pepperlnch sun plaza mb medan', {'entities': [(24, 29, 'LOC')]}),\n",
       " ('lawson 6a79 antam jakarta selat', {'entities': [(18, 31, 'LOC')]}),\n",
       " ('apotek k24 danaukerinci malang', {'entities': [(24, 30, 'LOC')]}),\n",
       " ('bola seafood denpasar kot', {'entities': [(13, 21, 'LOC')]}),\n",
       " ('room service tatangerang ko', {'entities': [(13, 24, 'LOC')]}),\n",
       " ('elzatta hijab mbl sidoarjo', {'entities': [(18, 26, 'LOC')]}),\n",
       " ('bakmijogjamassandoroh sidoarjo', {'entities': [(22, 30, 'LOC')]}),\n",
       " ('montblanc pp jakarta', {'entities': [(13, 20, 'LOC')]}),\n",
       " ('p773 alfamart yos sud pangkal pina', {'entities': [(22, 34, 'LOC')]}),\n",
       " ('maya resort ho denpasar', {'entities': [(15, 23, 'LOC')]}),\n",
       " ('first golf  bike 2 semarang kot', {'entities': [(19, 27, 'LOC')]}),\n",
       " ('nara parkho bandung', {'entities': [(12, 19, 'LOC')]}),\n",
       " ('mixue cp medan medan', {'entities': [(9, 14, 'LOC')]}),\n",
       " ('fitnessfirstcopfpkpdp3sjakarta slt', {'entities': [(23, 34, 'LOC')]}),\n",
       " ('fitnessfirstcoblpl6sb8hjakarta slt', {'entities': [(23, 34, 'LOC')]}),\n",
       " ('hhb c63 kitchen jgc jakarta timur', {'entities': [(20, 33, 'LOC')]}),\n",
       " ('nissan sukamaju mbl depok', {'entities': [(0, 6, 'LOC')]}),\n",
       " ('impressions menteng jakarta', {'entities': [(20, 27, 'LOC')]}),\n",
       " ('universal homeware batam', {'entities': [(19, 24, 'LOC')]}),\n",
       " ('idm t6ggharm ayoeb berau', {'entities': [(19, 24, 'LOC')]}),\n",
       " ('rs hermina soreang bandung kab', {'entities': [(19, 26, 'LOC')]}),\n",
       " ('momo paradise lippo jakarta bara', {'entities': [(20, 32, 'LOC')]}),\n",
       " ('planet surf pameran iv badung', {'entities': [(23, 29, 'LOC')]}),\n",
       " ('ud15 alfamart soekarn balikpapan', {'entities': [(22, 32, 'LOC')]}),\n",
       " ('stop n go tangerang sel', {'entities': [(10, 19, 'LOC')]}),\n",
       " ('blibli store margo city mdepok', {'entities': [(25, 30, 'LOC')]}),\n",
       " ('idm g080 go r35 purwakarta', {'entities': [(16, 26, 'LOC')]}),\n",
       " ('bangi kopi jakarta utara', {'entities': [(0, 5, 'LOC')]}),\n",
       " ('restaurant bcm banggai kab', {'entities': [(15, 22, 'LOC')]}),\n",
       " ('kcic frequent whooshe jakarta timu', {'entities': [(22, 34, 'LOC')]}),\n",
       " ('idm t02npengandonan palembang', {'entities': [(20, 29, 'LOC')]}),\n",
       " ('ascott kuningan jakarta jakarta sela', {'entities': [(7, 15, 'LOC')]}),\n",
       " ('mybluebird 94245428jakarta slt', {'entities': [(19, 30, 'LOC')]}),\n",
       " ('maniac duren nusantara bekasi kot', {'entities': [(23, 29, 'LOC')]}),\n",
       " ('smrn  mrdiy suzuya memedan kota', {'entities': [(19, 26, 'LOC')]}),\n",
       " ('idm ffitngumban surbaktimedan', {'entities': [(24, 29, 'LOC')]}),\n",
       " ('dunkin donuts banjarbaru', {'entities': [(14, 24, 'LOC')]}),\n",
       " ('tomoro coffee jakarta utara', {'entities': [(14, 27, 'LOC')]}),\n",
       " ('le meridien nonama jakarta pusat', {'entities': [(19, 32, 'LOC')]}),\n",
       " ('2023 eiger patmr kediri kediri', {'entities': [(17, 23, 'LOC')]}),\n",
       " ('pet corner bekasi', {'entities': [(11, 17, 'LOC')]}),\n",
       " ('adidas original  tunjungsurabaya kot', {'entities': [(7, 15, 'LOC')]}),\n",
       " ('spbu 4450102 semarang', {'entities': [(13, 21, 'LOC')]}),\n",
       " ('warung biru badung', {'entities': [(12, 18, 'LOC')]}),\n",
       " ('texas medan mall medan', {'entities': [(6, 11, 'LOC')]}),\n",
       " ('1855 si cp jakarta barat', {'entities': [(11, 24, 'LOC')]}),\n",
       " ('soundtrip cafe  studio jakarta selat', {'entities': [(23, 36, 'LOC')]}),\n",
       " ('7028 st eg bekasi utr bekasi', {'entities': [(11, 17, 'LOC')]}),\n",
       " ('kyoai medical service jakarta pusa', {'entities': [(22, 34, 'LOC')]}),\n",
       " ('kami depok', {'entities': [(5, 10, 'LOC')]}),\n",
       " ('baby wish tangerang ka', {'entities': [(10, 19, 'LOC')]}),\n",
       " ('bakso malang enggal pa depok kot', {'entities': [(6, 12, 'LOC')]}),\n",
       " ('alfamrt n777 bc bojo bandung barat', {'entities': [(21, 34, 'LOC')]}),\n",
       " ('kharisma variasi  surabaya', {'entities': [(18, 26, 'LOC')]}),\n",
       " ('sumber mas mbl ntb  sumbawa', {'entities': [(7, 10, 'LOC')]}),\n",
       " ('loewe plaza indolw05 jakarta pusat', {'entities': [(21, 34, 'LOC')]}),\n",
       " ('ws 21ho batam', {'entities': [(8, 13, 'LOC')]}),\n",
       " ('alfamart u044 mbl sidoarjo', {'entities': [(18, 26, 'LOC')]}),\n",
       " ('fm qr t3 westlobby tangerang', {'entities': [(19, 28, 'LOC')]}),\n",
       " ('xdtthe gym pod jakarta selat', {'entities': [(15, 28, 'LOC')]}),\n",
       " ('alfamart an 1sew 1sew a kab sumbawa', {'entities': [(28, 35, 'LOC')]}),\n",
       " ('anggrek indah bakeryho palembang', {'entities': [(23, 32, 'LOC')]}),\n",
       " ('grage hotel cirebonho cirebon', {'entities': [(12, 19, 'LOC')]}),\n",
       " ('vape centralho medan', {'entities': [(15, 20, 'LOC')]}),\n",
       " ('oneda mog malang malang', {'entities': [(10, 16, 'LOC')]}),\n",
       " ('qantas air 0812364743855jakarta', {'entities': [(24, 31, 'LOC')]}),\n",
       " ('trans optik mbl batu licin', {'entities': [(16, 20, 'LOC')]}),\n",
       " ('meika sambal palembang dan', {'entities': [(13, 22, 'LOC')]}),\n",
       " ('piweekend palopo kot', {'entities': [(10, 16, 'LOC')]}),\n",
       " ('lym toko tahuho kediri', {'entities': [(16, 22, 'LOC')]}),\n",
       " ('zr atk mbl banjarbaru', {'entities': [(11, 21, 'LOC')]}),\n",
       " ('hari petshopho jakarta slt', {'entities': [(15, 26, 'LOC')]}),\n",
       " ('kate spade dmd medan', {'entities': [(15, 20, 'LOC')]}),\n",
       " ('artique objectz jakarta slt', {'entities': [(16, 27, 'LOC')]}),\n",
       " ('play n learn tangerang kab', {'entities': [(13, 22, 'LOC')]}),\n",
       " ('teh63 central park jakarta barat', {'entities': [(19, 32, 'LOC')]}),\n",
       " ('pt royal persada semesta tangerang sel', {'entities': [(25, 34, 'LOC')]}),\n",
       " ('ohsome grand kota bintanbekasi kot', {'entities': [(24, 30, 'LOC')]}),\n",
       " ('sari abadi ho medan', {'entities': [(14, 19, 'LOC')]}),\n",
       " ('tpc aeon deltamas ckrn bekasi', {'entities': [(23, 29, 'LOC')]}),\n",
       " ('rhein scarves surakarta k', {'entities': [(14, 23, 'LOC')]}),\n",
       " ('the hachi jakarta slt', {'entities': [(10, 21, 'LOC')]}),\n",
       " ('sunset santorini resort lombok barat', {'entities': [(24, 36, 'LOC')]}),\n",
       " ('minoshe outlet karawang', {'entities': [(15, 23, 'LOC')]}),\n",
       " ('vkool dewata ho denpasar', {'entities': [(16, 24, 'LOC')]}),\n",
       " ('xdrg  mrdiy ruko drambogor kab', {'entities': [(21, 26, 'LOC')]}),\n",
       " ('idm fe1e grand poris tangerang', {'entities': [(21, 30, 'LOC')]}),\n",
       " ('malacca toast tangerang', {'entities': [(14, 23, 'LOC')]}),\n",
       " ('global royal pemuteran buleleng kab', {'entities': [(23, 31, 'LOC')]}),\n",
       " ('hhb 312 lokasari jakarta', {'entities': [(17, 24, 'LOC')]}),\n",
       " ('kingkong size badung kab', {'entities': [(14, 20, 'LOC')]}),\n",
       " ('first crack coffee bumi jakarta selat', {'entities': [(24, 37, 'LOC')]}),\n",
       " ('papacookies perdagangan banjarmasin k', {'entities': [(24, 35, 'LOC')]}),\n",
       " ('0607 sd ruhui rahayu balikpapan k', {'entities': [(21, 31, 'LOC')]}),\n",
       " ('vio optical danausunter jakarta utara', {'entities': [(24, 37, 'LOC')]}),\n",
       " ('sc1x midi pasir koja kota bandung', {'entities': [(26, 33, 'LOC')]}),\n",
       " ('alfamart an 1m3j bali reskabbogor', {'entities': [(28, 33, 'LOC')]}),\n",
       " ('spbu 3416507ryparun bogor', {'entities': [(20, 25, 'LOC')]}),\n",
       " ('mybluebird 90938870jakarta slt', {'entities': [(19, 30, 'LOC')]}),\n",
       " ('bakoel bamboe smd mbl samarinda', {'entities': [(22, 31, 'LOC')]}),\n",
       " ('alfamart 1ar8 mbl bengkalis', {'entities': [(18, 27, 'LOC')]}),\n",
       " ('obaja motor bandung', {'entities': [(12, 19, 'LOC')]}),\n",
       " ('aleza  bandung bandung', {'entities': [(7, 14, 'LOC')]}),\n",
       " ('midi vc61 jonggol bogor', {'entities': [(18, 23, 'LOC')]}),\n",
       " ('clandys niten yogyakarta', {'entities': [(14, 24, 'LOC')]}),\n",
       " ('sembako tiga putraho denpasar', {'entities': [(21, 29, 'LOC')]}),\n",
       " ('hookah habibi jakarta sela', {'entities': [(14, 26, 'LOC')]}),\n",
       " ('tb marina jaya depok kota', {'entities': [(15, 20, 'LOC')]}),\n",
       " ('breman85 jakarta pusat', {'entities': [(9, 22, 'LOC')]}),\n",
       " ('spbu 4450219semarang semarang', {'entities': [(12, 20, 'LOC')]}),\n",
       " ('dim sum suki xlho surabaya', {'entities': [(18, 26, 'LOC')]}),\n",
       " ('uncle jo by se superma badung', {'entities': [(23, 29, 'LOC')]}),\n",
       " ('v616 alfamart pilangsa cirebon kab', {'entities': [(23, 30, 'LOC')]}),\n",
       " ('qatar air 6lyf5c jakarta', {'entities': [(17, 24, 'LOC')]}),\n",
       " ('apotek karunia farma  palembang', {'entities': [(22, 31, 'LOC')]}),\n",
       " ('efhroda mini serang serang', {'entities': [(13, 19, 'LOC')]}),\n",
       " ('detox by ecaho jakarta slt', {'entities': [(15, 26, 'LOC')]}),\n",
       " ('optik katamso medan kot', {'entities': [(14, 19, 'LOC')]}),\n",
       " ('nike jakarta utara', {'entities': [(5, 18, 'LOC')]}),\n",
       " ('aia fin 36342903 112 tangerang', {'entities': [(21, 30, 'LOC')]}),\n",
       " ('kitchenette sency jakarta pusat', {'entities': [(18, 31, 'LOC')]}),\n",
       " ('matahari dsparagon semarang', {'entities': [(19, 27, 'LOC')]}),\n",
       " ('cv tirto raharjo mbl yogyakarta', {'entities': [(21, 31, 'LOC')]}),\n",
       " ('hotel ratna probolinggo', {'entities': [(12, 23, 'LOC')]}),\n",
       " ('berrybenka jakarta timur', {'entities': [(11, 24, 'LOC')]}),\n",
       " ('dana qroff  kf0152 p jakarta', {'entities': [(21, 28, 'LOC')]}),\n",
       " ('idm tma3raya maos  cilakab cilacap', {'entities': [(27, 34, 'LOC')]}),\n",
       " ('jung won restaurant jakarta selat', {'entities': [(20, 33, 'LOC')]}),\n",
       " ('transmart pekalongan pekalongan', {'entities': [(10, 20, 'LOC')]}),\n",
       " ('dana qroff  bento ng jakarta', {'entities': [(21, 28, 'LOC')]}),\n",
       " ('frozen dalung permai tk badung', {'entities': [(24, 30, 'LOC')]}),\n",
       " ('pt pesona natasha gem batam kota', {'entities': [(22, 27, 'LOC')]}),\n",
       " ('anaair 2052423554907dki jakarta', {'entities': [(24, 31, 'LOC')]}),\n",
       " ('kfd kkf 0419 trunojoyo bangkalan', {'entities': [(23, 32, 'LOC')]}),\n",
       " ('trans icon sbyxxi caf surabaya', {'entities': [(22, 30, 'LOC')]}),\n",
       " ('kfc ms buaran plaza jakarta timur', {'entities': [(20, 33, 'LOC')]}),\n",
       " ('clinic mode by gizca medan kot', {'entities': [(21, 26, 'LOC')]}),\n",
       " ('osella surabaya kot', {'entities': [(7, 15, 'LOC')]}),\n",
       " ('niaga martho batam', {'entities': [(13, 18, 'LOC')]}),\n",
       " ('timi  mrdiy timik mimika kab', {'entities': [(18, 24, 'LOC')]}),\n",
       " ('dot store tangerang kot', {'entities': [(10, 19, 'LOC')]}),\n",
       " ('kopi kenangan rest ar brebes kab', {'entities': [(22, 28, 'LOC')]}),\n",
       " ('ta wanliving world ko bobogor kab', {'entities': [(22, 29, 'LOC')]}),\n",
       " ('yi tiao xianho medan', {'entities': [(15, 20, 'LOC')]}),\n",
       " ('sale restaurantho tangerang', {'entities': [(18, 27, 'LOC')]}),\n",
       " ('citra susu dau malang', {'entities': [(15, 21, 'LOC')]}),\n",
       " ('giordano living world ba denpasar kot', {'entities': [(25, 33, 'LOC')]}),\n",
       " ('asuransi allian151224imzjakarta slt', {'entities': [(24, 35, 'LOC')]}),\n",
       " ('idm g025 go r06 malang', {'entities': [(16, 22, 'LOC')]}),\n",
       " ('jayapura motor jakarta sela', {'entities': [(0, 8, 'LOC')]}),\n",
       " ('aquarius boutique hotel palangka raya', {'entities': [(24, 37, 'LOC')]}),\n",
       " ('familymart botanica po jakarta', {'entities': [(23, 30, 'LOC')]}),\n",
       " ('chic lin kubu raya', {'entities': [(9, 18, 'LOC')]}),\n",
       " ('hana restoran lb jakarta selat', {'entities': [(17, 30, 'LOC')]}),\n",
       " ('cf aeon jgc jakarta timur', {'entities': [(12, 25, 'LOC')]}),\n",
       " ('pt jakarta akuarium in jakarta barat', {'entities': [(23, 36, 'LOC')]}),\n",
       " ('asuransicar 10000356685 1jakarta pusat', {'entities': [(25, 38, 'LOC')]}),\n",
       " ('mega bengkluxxi delux bengkulu', {'entities': [(22, 30, 'LOC')]}),\n",
       " ('midi mc70 warung sila jakarta selat', {'entities': [(22, 35, 'LOC')]}),\n",
       " ('pepper lunch jambi to jambi kota', {'entities': [(13, 18, 'LOC')]}),\n",
       " ('miniso the park sawangan depok kota', {'entities': [(25, 30, 'LOC')]}),\n",
       " ('phd pengasinan bekasi bekasi', {'entities': [(15, 21, 'LOC')]}),\n",
       " ('doran sukses kokas jakarta slt', {'entities': [(19, 30, 'LOC')]}),\n",
       " ('batu garden official mbl kota batu', {'entities': [(0, 4, 'LOC')]}),\n",
       " ('alfamart m913 mbl batu', {'entities': [(18, 22, 'LOC')]}),\n",
       " ('idm twddangkatan laut bekasi', {'entities': [(22, 28, 'LOC')]}),\n",
       " ('excelcom dec 081980jakarta slt', {'entities': [(19, 30, 'LOC')]}),\n",
       " ('hokben 23 paskal bandung kot', {'entities': [(17, 24, 'LOC')]}),\n",
       " ('resto sari gurih mbl ambon', {'entities': [(21, 26, 'LOC')]}),\n",
       " ('arirang kj restaurant batam', {'entities': [(22, 27, 'LOC')]}),\n",
       " ('smartfren pkt dos0066814tangerang slt', {'entities': [(24, 37, 'LOC')]}),\n",
       " ('cirebon ayu seafood jakarta utar', {'entities': [(0, 7, 'LOC')]}),\n",
       " ('grand whiz megamas manadomanado kot', {'entities': [(19, 31, 'LOC')]}),\n",
       " ('indomaret g148 go r16 jombang', {'entities': [(22, 29, 'LOC')]}),\n",
       " ('restoran sederhana medan kota', {'entities': [(19, 24, 'LOC')]}),\n",
       " ('crocs galaxy 3cx18 surabaya', {'entities': [(19, 27, 'LOC')]}),\n",
       " ('yi ma yi laho jakarta utara', {'entities': [(14, 27, 'LOC')]}),\n",
       " ('kfc drive thru kendari edkendari kota', {'entities': [(15, 22, 'LOC')]}),\n",
       " ('aia fin 28345325 1224 tangerang', {'entities': [(22, 31, 'LOC')]}),\n",
       " ('media coffee roastery tangerang', {'entities': [(22, 31, 'LOC')]}),\n",
       " ('laneige gile01 jakpus', {'entities': [(15, 21, 'LOC')]}),\n",
       " ('rotio bandung kab', {'entities': [(6, 13, 'LOC')]}),\n",
       " ('alfamart cb56 mbl bekasi', {'entities': [(18, 24, 'LOC')]}),\n",
       " ('rs mitra keluarga del bekasi kab', {'entities': [(22, 28, 'LOC')]}),\n",
       " ('topsell plaza sidoarjo sidoarjo kab', {'entities': [(14, 22, 'LOC')]}),\n",
       " ('alfamart 2a2q rest area 6kab madiun', {'entities': [(29, 35, 'LOC')]}),\n",
       " ('toko baji pamai mamakassar kot', {'entities': [(16, 26, 'LOC')]}),\n",
       " ('batik karlina susurakarta ko', {'entities': [(14, 25, 'LOC')]}),\n",
       " ('spbu 4459518 demak', {'entities': [(13, 18, 'LOC')]}),\n",
       " ('apotek kf 312 rantau labuhanbatu', {'entities': [(21, 32, 'LOC')]}),\n",
       " ('idm g026 go f11 tangerang', {'entities': [(16, 25, 'LOC')]}),\n",
       " ('hotel zahra kendari', {'entities': [(12, 19, 'LOC')]}),\n",
       " ('casadienta wastu bandung', {'entities': [(17, 24, 'LOC')]}),\n",
       " ('chatime atealier living wbogor', {'entities': [(25, 30, 'LOC')]}),\n",
       " ('tobaku gresik gresik kab', {'entities': [(7, 13, 'LOC')]}),\n",
       " ('marriottroom svc pesawaran ka', {'entities': [(17, 26, 'LOC')]}),\n",
       " ('kopi kenangan plaza indonjakarta pusat', {'entities': [(25, 38, 'LOC')]}),\n",
       " ('electronic city cipnang jakarta', {'entities': [(24, 31, 'LOC')]}),\n",
       " ('laboratorium enggal bandar lampun', {'entities': [(20, 33, 'LOC')]}),\n",
       " ('dprimahotel panakkukan makassar', {'entities': [(23, 31, 'LOC')]}),\n",
       " ('dana qroff  siliwangi jakarta', {'entities': [(22, 29, 'LOC')]}),\n",
       " ('yomart kota baru parahyanbandung barat', {'entities': [(7, 16, 'LOC')]}),\n",
       " ('juice friend jakarta selat', {'entities': [(13, 26, 'LOC')]}),\n",
       " ('maju mart luwuk  ho banggai', {'entities': [(20, 27, 'LOC')]}),\n",
       " ('burger king km 10 jajakarta timur', {'entities': [(18, 33, 'LOC')]}),\n",
       " ('skechers pentaski5 balikpapan', {'entities': [(19, 29, 'LOC')]}),\n",
       " ('aryaduta makassar hote makassar', {'entities': [(9, 17, 'LOC')]}),\n",
       " ('santika premiere fo kuningan', {'entities': [(20, 28, 'LOC')]}),\n",
       " ('hhb 534 pim 2 jakarta slt', {'entities': [(14, 25, 'LOC')]}),\n",
       " ('toys kingdom living plz kbekasi', {'entities': [(25, 31, 'LOC')]}),\n",
       " ('diara hotel bogor kab', {'entities': [(0, 5, 'LOC')]}),\n",
       " ('sarang chae fusion rest bekasi', {'entities': [(24, 30, 'LOC')]}),\n",
       " ('maju bersama kptmuslim medan', {'entities': [(0, 4, 'LOC')]}),\n",
       " ('mybluebird 92644166jakarta slt', {'entities': [(19, 30, 'LOC')]}),\n",
       " ('spbu 3417142 bekasi kota', {'entities': [(13, 19, 'LOC')]}),\n",
       " ('alfamrt ch48 kgjy ked bekasi', {'entities': [(22, 28, 'LOC')]}),\n",
       " ('senju omakase jakarta pusa', {'entities': [(14, 26, 'LOC')]}),\n",
       " ('villa marchell pasuruan kab', {'entities': [(15, 23, 'LOC')]}),\n",
       " ('golf trump bogor kab', {'entities': [(11, 16, 'LOC')]}),\n",
       " ('apotek k24 sidokareho sidoarjo', {'entities': [(22, 30, 'LOC')]}),\n",
       " ('ace singkawang grand mallsingkawang ba', {'entities': [(4, 14, 'LOC')]}),\n",
       " ('cfc tembilahan indragiri hil', {'entities': [(15, 28, 'LOC')]}),\n",
       " ('ibox mkg 3 jakarta', {'entities': [(11, 18, 'LOC')]}),\n",
       " ('inter royal pacific cv manggarai brt', {'entities': [(23, 32, 'LOC')]}),\n",
       " ('pignik mbl manado', {'entities': [(11, 17, 'LOC')]}),\n",
       " ('carissa nails tangerang k', {'entities': [(14, 23, 'LOC')]}),\n",
       " ('alfamart ha50 spbu bandunsemarang', {'entities': [(25, 33, 'LOC')]}),\n",
       " ('pizzalicious mbl surabaya', {'entities': [(17, 25, 'LOC')]}),\n",
       " ('camelia salon ciamis kab', {'entities': [(14, 20, 'LOC')]}),\n",
       " ('steak 21 aeon mall gar tangerang kab', {'entities': [(23, 32, 'LOC')]}),\n",
       " ('silver horse tour jakarta utar', {'entities': [(18, 30, 'LOC')]}),\n",
       " ('tomoropuri indah finan jakarta barat', {'entities': [(23, 36, 'LOC')]}),\n",
       " ('michael korspi jakarta pusat', {'entities': [(15, 28, 'LOC')]}),\n",
       " ('h  n baby kids  gift depok', {'entities': [(21, 26, 'LOC')]}),\n",
       " ('samsung erf plz kalibat jakarta', {'entities': [(24, 31, 'LOC')]}),\n",
       " ('alfamart be57 jatinangor kab sumedang', {'entities': [(29, 37, 'LOC')]}),\n",
       " ('idm tquowj lalamentik kupang', {'entities': [(22, 28, 'LOC')]}),\n",
       " ('bakmi akiu denpasar kot', {'entities': [(11, 19, 'LOC')]}),\n",
       " ('gudeg yu djum dagen yogyakarta', {'entities': [(20, 30, 'LOC')]}),\n",
       " ('jogja city mall ohsome sleman kab', {'entities': [(23, 29, 'LOC')]}),\n",
       " ('pepito market tibubeneng badung', {'entities': [(25, 31, 'LOC')]}),\n",
       " ('darmaga sunda resto bandung barat', {'entities': [(20, 33, 'LOC')]}),\n",
       " ('doea tjankirho bogor', {'entities': [(15, 20, 'LOC')]}),\n",
       " ('dumadi martho surabaya', {'entities': [(0, 6, 'LOC')]}),\n",
       " ('gulai kpl ikan p untun semarang', {'entities': [(23, 31, 'LOC')]}),\n",
       " ('levis jajakarta pusat', {'entities': [(6, 21, 'LOC')]}),\n",
       " ('spbu 5466207 tulungagung k', {'entities': [(13, 24, 'LOC')]}),\n",
       " ('perdana apotekho surabaya', {'entities': [(17, 25, 'LOC')]}),\n",
       " ('nature republic jakarta barat', {'entities': [(16, 29, 'LOC')]}),\n",
       " ('conversegajahmadacvc5 jakarta', {'entities': [(22, 29, 'LOC')]}),\n",
       " ('venel optikho medan', {'entities': [(14, 19, 'LOC')]}),\n",
       " ('pizza hut padang padang kota', {'entities': [(10, 16, 'LOC')]}),\n",
       " ('swalayan baru mbl solok', {'entities': [(9, 13, 'LOC')]}),\n",
       " ('raja susu permata regencytangerang', {'entities': [(25, 34, 'LOC')]}),\n",
       " ('pesona natsha gemilang jakarta utara', {'entities': [(23, 36, 'LOC')]}),\n",
       " ('hago beach mbl denpasar  ba', {'entities': [(15, 23, 'LOC')]}),\n",
       " ('alfamart t156 mbl tangerang', {'entities': [(18, 27, 'LOC')]}),\n",
       " ('dana qroff  surya dig jakarta', {'entities': [(22, 29, 'LOC')]}),\n",
       " ('idm teb7 serang', {'entities': [(9, 15, 'LOC')]}),\n",
       " ('alfamart ha95 pekunden dasemarang', {'entities': [(25, 33, 'LOC')]}),\n",
       " ('kimia farma pndnaran m boyolali', {'entities': [(23, 31, 'LOC')]}),\n",
       " ('imah tako bogor', {'entities': [(10, 15, 'LOC')]}),\n",
       " ('siomay bandung wibisan tangerang', {'entities': [(7, 14, 'LOC')]}),\n",
       " ('sociolla mall kelapa jakarta utar', {'entities': [(21, 33, 'LOC')]}),\n",
       " ('grand toserba 4 sidoar sidoarjo kab', {'entities': [(23, 31, 'LOC')]}),\n",
       " ('papito coffee kendari', {'entities': [(14, 21, 'LOC')]}),\n",
       " ('erafone ruko bukit ti bukittinggi', {'entities': [(22, 33, 'LOC')]}),\n",
       " ('panorama jtb tours pur jakarta', {'entities': [(23, 30, 'LOC')]}),\n",
       " ('digiphoto imaging indo buleleng', {'entities': [(23, 31, 'LOC')]}),\n",
       " ('bpk nangin milala tj durejakarta barat', {'entities': [(25, 38, 'LOC')]}),\n",
       " ('yomartparakan muncang bandung', {'entities': [(22, 29, 'LOC')]}),\n",
       " ('fat bubble jajakarta selat', {'entities': [(4, 10, 'LOC')]}),\n",
       " ('family jepara mbl jepara', {'entities': [(7, 13, 'LOC')]}),\n",
       " ('kimiafarmaberawa apotek badung', {'entities': [(24, 30, 'LOC')]}),\n",
       " ('fore coffee jatiwaring bekasi', {'entities': [(23, 29, 'LOC')]}),\n",
       " ('idm tsccmandai maros maros', {'entities': [(15, 20, 'LOC')]}),\n",
       " ('yopie salon mega pontianak k', {'entities': [(17, 26, 'LOC')]}),\n",
       " ('chatime ace palem semi tangerang', {'entities': [(23, 32, 'LOC')]}),\n",
       " ('shell agading1 north jakarta utara', {'entities': [(21, 34, 'LOC')]}),\n",
       " ('swalayan 288 bandung kot', {'entities': [(13, 20, 'LOC')]}),\n",
       " ('swarovski plz indorv10 jakarta pusat', {'entities': [(23, 36, 'LOC')]}),\n",
       " ('switch by koni kemang jakarta selat', {'entities': [(22, 35, 'LOC')]}),\n",
       " ('gingsul malang kot', {'entities': [(8, 14, 'LOC')]}),\n",
       " ('starbucks palem semi tangerang', {'entities': [(21, 30, 'LOC')]}),\n",
       " ('idm th9p jombang', {'entities': [(9, 16, 'LOC')]}),\n",
       " ('avila catholic shopho tangerang', {'entities': [(22, 31, 'LOC')]}),\n",
       " ('rozelleho cimahi', {'entities': [(10, 16, 'LOC')]}),\n",
       " ('colorbox sidoarjo kab', {'entities': [(9, 17, 'LOC')]}),\n",
       " ('spbu wonosari klaten kab', {'entities': [(14, 20, 'LOC')]}),\n",
       " ('alfamart eh41 mbl bekasi', {'entities': [(18, 24, 'LOC')]}),\n",
       " ('pendopo basuki rahmat tjg pinang', {'entities': [(22, 32, 'LOC')]}),\n",
       " ('kimia farma apotek jember kot', {'entities': [(19, 25, 'LOC')]}),\n",
       " ('rempah nyonya jakarta utara', {'entities': [(14, 27, 'LOC')]}),\n",
       " ('alfamart m779 mbl jombang', {'entities': [(18, 25, 'LOC')]}),\n",
       " ('andalas mt haryono2 mbl balikpapan', {'entities': [(24, 34, 'LOC')]}),\n",
       " ('kopi kenangan grand in jajakarta pusat', {'entities': [(23, 38, 'LOC')]}),\n",
       " ('erha apothecarymakasa makassar', {'entities': [(22, 30, 'LOC')]}),\n",
       " ('warna warni mbl jember', {'entities': [(16, 22, 'LOC')]}),\n",
       " ('vaporpro denpasar', {'entities': [(9, 17, 'LOC')]}),\n",
       " ('four seasons ho000093 jakarta slt', {'entities': [(22, 33, 'LOC')]}),\n",
       " ('329 mds lippo plaza kupankupang', {'entities': [(20, 31, 'LOC')]}),\n",
       " ('idm f1ogsungai pinang 2 kab banyuasi', {'entities': [(28, 36, 'LOC')]}),\n",
       " ('ilham songket mbl palembang', {'entities': [(18, 27, 'LOC')]}),\n",
       " ('soto betawi h mamat jakarta pusat', {'entities': [(20, 33, 'LOC')]}),\n",
       " ('jec cibuburho bekasi', {'entities': [(14, 20, 'LOC')]}),\n",
       " ('mr diy parpostel bekasi', {'entities': [(17, 23, 'LOC')]}),\n",
       " ('studio tui jakarta selat', {'entities': [(11, 24, 'LOC')]}),\n",
       " ('petit bateau piho jakarta pusat', {'entities': [(18, 31, 'LOC')]}),\n",
       " ('apotek salwa bekasi kab', {'entities': [(13, 19, 'LOC')]}),\n",
       " ('boost juice cibinong m bogor', {'entities': [(23, 28, 'LOC')]}),\n",
       " ('chandra superstore mall bbandar lampun', {'entities': [(24, 38, 'LOC')]}),\n",
       " ('tk sejati utama mbl balikpapan', {'entities': [(20, 30, 'LOC')]}),\n",
       " ('dd pit stop km26 sidoarjo', {'entities': [(17, 25, 'LOC')]}),\n",
       " ('vapehan jakarta timur', {'entities': [(8, 21, 'LOC')]}),\n",
       " ('ella skin care tangerang slt', {'entities': [(15, 24, 'LOC')]}),\n",
       " ('asuransi allian261124u9ijakarta slt', {'entities': [(24, 35, 'LOC')]}),\n",
       " ('usm store batam kota', {'entities': [(10, 15, 'LOC')]}),\n",
       " ('momo batik badung', {'entities': [(11, 17, 'LOC')]}),\n",
       " ('rm taman jaya ujung k cilegon kot', {'entities': [(22, 29, 'LOC')]}),\n",
       " ('alfamrt cf21 tp2 topa bekasi', {'entities': [(22, 28, 'LOC')]}),\n",
       " ('islippo plaza kupang kupang kota', {'entities': [(14, 20, 'LOC')]}),\n",
       " ('tomorogrand wisata bk bekasi', {'entities': [(22, 28, 'LOC')]}),\n",
       " ('auntie annes taman anggrejakarta barat', {'entities': [(25, 38, 'LOC')]}),\n",
       " ('manca kemetug tabanan', {'entities': [(14, 21, 'LOC')]}),\n",
       " ('merch raia pilates and bejakarta barat', {'entities': [(25, 38, 'LOC')]}),\n",
       " ('sidoarjo sport  music sidoarjo kab', {'entities': [(0, 8, 'LOC')]}),\n",
       " ('griu graha amerta surabaya ko', {'entities': [(18, 26, 'LOC')]}),\n",
       " ('alfamart an p991 samsul bbengkulu', {'entities': [(24, 33, 'LOC')]}),\n",
       " ('miniso tunjungan plaz surabaya ko', {'entities': [(22, 30, 'LOC')]}),\n",
       " ('makeke regency bpn mbl balikpapan', {'entities': [(23, 33, 'LOC')]}),\n",
       " ('hog wild with chef bru tangerang kab', {'entities': [(19, 22, 'LOC')]}),\n",
       " ('kimia farma tamblingan denpasar', {'entities': [(23, 31, 'LOC')]}),\n",
       " ('wong hang pondok indah jakarta selat', {'entities': [(23, 36, 'LOC')]}),\n",
       " ('naavagreen batam kot', {'entities': [(11, 16, 'LOC')]}),\n",
       " ('fuse south jakarta', {'entities': [(11, 18, 'LOC')]}),\n",
       " ('dcrepes ayani makassar', {'entities': [(14, 22, 'LOC')]}),\n",
       " ('hotel santika be2f9776bbjakarta slt', {'entities': [(24, 35, 'LOC')]}),\n",
       " ('pho24 ciputra world jakarta sela', {'entities': [(20, 32, 'LOC')]}),\n",
       " ('optik seis pakuwon ma sleman kab', {'entities': [(22, 28, 'LOC')]}),\n",
       " ('idm tk13 bekasi timur rayjakarta', {'entities': [(9, 15, 'LOC')]}),\n",
       " ('qian li xiang jakarta utara', {'entities': [(14, 27, 'LOC')]}),\n",
       " ('ahs coss tangerang kot', {'entities': [(9, 18, 'LOC')]}),\n",
       " ('maji minahasa uta', {'entities': [(5, 13, 'LOC')]}),\n",
       " ('spbu 8499107 jayapur jayapura', {'entities': [(21, 29, 'LOC')]}),\n",
       " ('fitnessfirstcos697562p6jakarta slt', {'entities': [(23, 34, 'LOC')]}),\n",
       " ('alfamart tg14 exit tol jetangerang sel', {'entities': [(25, 38, 'LOC')]}),\n",
       " ('sour sally  plaza senayajakarta pusat', {'entities': [(24, 37, 'LOC')]}),\n",
       " ('edu one stationho tangerang', {'entities': [(18, 27, 'LOC')]}),\n",
       " ('paradise dynasty jakarta pusat', {'entities': [(17, 30, 'LOC')]}),\n",
       " ('xkam  mr diy sungai dharmasraya', {'entities': [(20, 31, 'LOC')]}),\n",
       " ('iqos kiosk chandra krg2 bdr lampung', {'entities': [(24, 35, 'LOC')]}),\n",
       " ('yogya elektronikbh batu bandung', {'entities': [(19, 23, 'LOC')]}),\n",
       " ('mabac id deli serdang', {'entities': [(9, 21, 'LOC')]}),\n",
       " ('rubi pakuwoncn30 surabaya', {'entities': [(17, 25, 'LOC')]}),\n",
       " ('michell bakery  pastr samarinda', {'entities': [(22, 31, 'LOC')]}),\n",
       " ('toko kopi tuku toserba jakarta slt', {'entities': [(23, 34, 'LOC')]}),\n",
       " ('vtshopatvelvet jakarta', {'entities': [(15, 22, 'LOC')]}),\n",
       " ('bio dental clg mbl cilegon', {'entities': [(19, 26, 'LOC')]}),\n",
       " ('spbu 5463101 banguns madiun kab', {'entities': [(21, 27, 'LOC')]}),\n",
       " ('paninlife 2018002992ja jakarta pusat', {'entities': [(23, 36, 'LOC')]}),\n",
       " ('salezone rest area pend semarang', {'entities': [(24, 32, 'LOC')]}),\n",
       " ('dominos pizza pdm7 bandunbandung', {'entities': [(25, 32, 'LOC')]}),\n",
       " ('idm tgph batam', {'entities': [(9, 14, 'LOC')]}),\n",
       " ('alfamart m509 mbl malang', {'entities': [(18, 24, 'LOC')]}),\n",
       " ('ashta residence000060 jakarta slt', {'entities': [(22, 33, 'LOC')]}),\n",
       " ('marugame the park sawangadepok kota', {'entities': [(25, 30, 'LOC')]}),\n",
       " ('converse sun plazacv91 medan', {'entities': [(23, 28, 'LOC')]}),\n",
       " ('crepe signature ciputra semarang', {'entities': [(24, 32, 'LOC')]}),\n",
       " ('dd arteri jakarta slt', {'entities': [(10, 21, 'LOC')]}),\n",
       " ('pelangi hotel mbl kab majaleng', {'entities': [(22, 30, 'LOC')]}),\n",
       " ('midtranstujuspace jakarta', {'entities': [(18, 25, 'LOC')]}),\n",
       " ('dana qroff  toko dipe jakarta', {'entities': [(22, 29, 'LOC')]}),\n",
       " ('aunty chef jakarta selat', {'entities': [(11, 24, 'LOC')]}),\n",
       " ('idm txlt semarang', {'entities': [(9, 17, 'LOC')]}),\n",
       " ('bakso mas sabar bandung kab', {'entities': [(6, 9, 'LOC')]}),\n",
       " ('agung amertha kencana tabanan kab', {'entities': [(22, 29, 'LOC')]}),\n",
       " ('26 petshop grooming  badung kab', {'entities': [(21, 27, 'LOC')]}),\n",
       " ('duf  yoshinoya dunia jakarta utar', {'entities': [(21, 33, 'LOC')]}),\n",
       " ('alfamart 1sbn aik darek kkab lombok t', {'entities': [(29, 37, 'LOC')]}),\n",
       " ('dana qroff  anugerah jakarta', {'entities': [(21, 28, 'LOC')]}),\n",
       " ('agastya cell kutai timur k', {'entities': [(13, 24, 'LOC')]}),\n",
       " ('cibaduyut shoes and ba bangli', {'entities': [(23, 29, 'LOC')]}),\n",
       " ('erf plz millenium medan medan', {'entities': [(18, 23, 'LOC')]}),\n",
       " ('mulya baruho bekasi', {'entities': [(13, 19, 'LOC')]}),\n",
       " ('dana qroff  new star jakarta', {'entities': [(21, 28, 'LOC')]}),\n",
       " ('holland bakery bukit jakarta sela', {'entities': [(21, 33, 'LOC')]}),\n",
       " ('tumbuh sehat makmur c jakarta pusat', {'entities': [(22, 35, 'LOC')]}),\n",
       " ('jco reserve sa serang 1 serang kota', {'entities': [(15, 21, 'LOC')]}),\n",
       " ('aia fin 39237868 012 tangerang', {'entities': [(21, 30, 'LOC')]}),\n",
       " ('payless marospya2 makassar', {'entities': [(18, 26, 'LOC')]}),\n",
       " ('colorbox aeon mall tanjunjakarta selat', {'entities': [(25, 38, 'LOC')]}),\n",
       " ('surya siawang mkmr drg medan', {'entities': [(23, 28, 'LOC')]}),\n",
       " ('masterpiece signature jakarta pusat', {'entities': [(22, 35, 'LOC')]}),\n",
       " ('kfc taman palem 0361 jakarta barat', {'entities': [(21, 34, 'LOC')]}),\n",
       " ('a334 azko btm nagoya hi batam', {'entities': [(24, 29, 'LOC')]}),\n",
       " ('toko raja jakarta barat', {'entities': [(10, 23, 'LOC')]}),\n",
       " ('cafe teras makassar kot', {'entities': [(11, 19, 'LOC')]}),\n",
       " ('lookboutiquestort45kk bandung', {'entities': [(22, 29, 'LOC')]}),\n",
       " ('idm t8up lampung timur', {'entities': [(9, 22, 'LOC')]}),\n",
       " ('apotek shifa legenda w bogor', {'entities': [(23, 28, 'LOC')]}),\n",
       " ('kiosk mcd deli serdang', {'entities': [(10, 22, 'LOC')]}),\n",
       " ('hypermart bali galeria prbali denpasar', {'entities': [(30, 38, 'LOC')]}),\n",
       " ('mybluebird 95512299jakarta slt', {'entities': [(19, 30, 'LOC')]}),\n",
       " ('indomaret f9ub  manda tangerang sel', {'entities': [(22, 31, 'LOC')]}),\n",
       " ('alfamart h030 mbl semarang', {'entities': [(18, 26, 'LOC')]}),\n",
       " ('bk bojong gede 2 bogor', {'entities': [(17, 22, 'LOC')]}),\n",
       " ('toko buku singgalang bandung kot', {'entities': [(21, 28, 'LOC')]}),\n",
       " ('sate khas abah bandung kot', {'entities': [(15, 22, 'LOC')]}),\n",
       " ('idm tiy6kalangan tapanuli teng', {'entities': [(17, 30, 'LOC')]}),\n",
       " ('alfamrt jd46 hrdt har bogor', {'entities': [(22, 27, 'LOC')]}),\n",
       " ('okky somawihardjadrg jakarta timur', {'entities': [(21, 34, 'LOC')]}),\n",
       " ('romeo bungalow mbl badung  bali', {'entities': [(19, 25, 'LOC')]}),\n",
       " ('klinik hendarmin sedayu jakarta barat', {'entities': [(24, 37, 'LOC')]}),\n",
       " ('little ubud greenlake jakarta barat', {'entities': [(22, 35, 'LOC')]}),\n",
       " ('saturdays lifestyle bogor', {'entities': [(20, 25, 'LOC')]}),\n",
       " ('kimia farma jakal km 4 yogyakarta', {'entities': [(23, 33, 'LOC')]}),\n",
       " ('dana qroff  mossgrove jakarta', {'entities': [(22, 29, 'LOC')]}),\n",
       " ('spbu 5467112beji 1h pasuruan', {'entities': [(20, 28, 'LOC')]}),\n",
       " ('zee swalayan binjai kot', {'entities': [(13, 19, 'LOC')]}),\n",
       " ('hainan rmho surabaya', {'entities': [(12, 20, 'LOC')]}),\n",
       " ('xxi cafe trsm p pinang pangkal pinan', {'entities': [(23, 36, 'LOC')]}),\n",
       " ('sensatia botanicals sp medan', {'entities': [(23, 28, 'LOC')]}),\n",
       " ('bilik ayu dicomz3jjakarta utara', {'entities': [(18, 31, 'LOC')]}),\n",
       " ('hop hop pondok indah mal jakarta selat', {'entities': [(25, 38, 'LOC')]}),\n",
       " ('jxb 2024  1 somethinc jajakarta pusat', {'entities': [(22, 37, 'LOC')]}),\n",
       " ('bowling gbm gb2 batam', {'entities': [(16, 21, 'LOC')]}),\n",
       " ('pizzaria denpasar kot', {'entities': [(9, 17, 'LOC')]}),\n",
       " ('spbu 4454309 kebumen kab', {'entities': [(13, 20, 'LOC')]}),\n",
       " ('mds plaza atrium jakarta pusa', {'entities': [(17, 29, 'LOC')]}),\n",
       " ('fitflop deliparkfl23 medan', {'entities': [(21, 26, 'LOC')]}),\n",
       " ('a568ace mlg sunandar malang kota', {'entities': [(21, 27, 'LOC')]}),\n",
       " ('idm tpdt kab magetan', {'entities': [(13, 20, 'LOC')]}),\n",
       " ('malioboro food court yogyakarta', {'entities': [(21, 31, 'LOC')]}),\n",
       " ('maison feerie  tunju surabaya ko', {'entities': [(21, 29, 'LOC')]}),\n",
       " ('sushitei surabaya', {'entities': [(9, 17, 'LOC')]}),\n",
       " ('gemilang petshopho depok', {'entities': [(19, 24, 'LOC')]}),\n",
       " ('adelia cafe bojonegoro', {'entities': [(12, 22, 'LOC')]}),\n",
       " ('idm fcu1pati gabus pati', {'entities': [(8, 12, 'LOC')]}),\n",
       " ('my kopio samarinda kot', {'entities': [(9, 18, 'LOC')]}),\n",
       " ('drg hilda suherman ho buleleng', {'entities': [(22, 30, 'LOC')]}),\n",
       " ('warung bebek sinjay bangkalan ka', {'entities': [(20, 29, 'LOC')]}),\n",
       " ('ta wancitra land jakarta bara', {'entities': [(17, 29, 'LOC')]}),\n",
       " ('mitra sarana safetindo denpasar kot', {'entities': [(23, 31, 'LOC')]}),\n",
       " ('bsd sky house tangerang', {'entities': [(14, 23, 'LOC')]}),\n",
       " ('borobudur toko ho bogor', {'entities': [(18, 23, 'LOC')]}),\n",
       " ('rm bumi aki cisarua bogor', {'entities': [(20, 25, 'LOC')]}),\n",
       " ('marugame lippo mall ke jajakarta selat', {'entities': [(23, 38, 'LOC')]}),\n",
       " ('midtranskerjoo sleman', {'entities': [(15, 21, 'LOC')]}),\n",
       " ('coco jimbaran mbl badung  bali', {'entities': [(18, 24, 'LOC')]}),\n",
       " ('idm t7lj pematangsiant', {'entities': [(9, 22, 'LOC')]}),\n",
       " ('alfamart 1a65 mbl pekanbaru', {'entities': [(18, 27, 'LOC')]}),\n",
       " ('shigeru palembang squa palembang', {'entities': [(8, 17, 'LOC')]}),\n",
       " ('ace hardware rawamangun jakarta', {'entities': [(24, 31, 'LOC')]}),\n",
       " ('pt boga harum indah jakarta slt', {'entities': [(20, 31, 'LOC')]}),\n",
       " ('gosha x goemerot denpasar ko', {'entities': [(17, 25, 'LOC')]}),\n",
       " ('alfamart h221 mbl pati', {'entities': [(18, 22, 'LOC')]}),\n",
       " ('indigo bali seminyak h badung', {'entities': [(23, 29, 'LOC')]}),\n",
       " ('sushi hiro summarecon tatangerang ko', {'entities': [(22, 33, 'LOC')]}),\n",
       " ('paradise batik semarang kot', {'entities': [(15, 23, 'LOC')]}),\n",
       " ('bakmie tjo kin progo bandung', {'entities': [(21, 28, 'LOC')]}),\n",
       " ('i am fashion store banjarbaru k', {'entities': [(19, 31, 'LOC')]}),\n",
       " ('johnny andrean salon m bekasi', {'entities': [(23, 29, 'LOC')]}),\n",
       " ('6833 grd rk klp gading jakarta utara', {'entities': [(23, 36, 'LOC')]}),\n",
       " ('padangpadang inn badung kab', {'entities': [(0, 12, 'LOC')]}),\n",
       " ('chiby pet shop balikpapan', {'entities': [(15, 25, 'LOC')]}),\n",
       " ('toko roti podomoro banyumas kab', {'entities': [(19, 27, 'LOC')]}),\n",
       " ('intan market mbl sintang', {'entities': [(17, 24, 'LOC')]}),\n",
       " ('meubel mm gresik kab', {'entities': [(10, 16, 'LOC')]}),\n",
       " ('alfamart k227 mbl jakarta', {'entities': [(18, 25, 'LOC')]}),\n",
       " ('kfc coffee pejanggik mataram kot', {'entities': [(21, 28, 'LOC')]}),\n",
       " ('bhinneka sangkuriang jakarta timur', {'entities': [(21, 34, 'LOC')]}),\n",
       " ('uc01 alfamart bp akr h surabaya kot', {'entities': [(23, 31, 'LOC')]}),\n",
       " ('maulins browniesho bekasi', {'entities': [(19, 25, 'LOC')]}),\n",
       " ('yogya kuningan mbl cirebon', {'entities': [(6, 14, 'LOC')]}),\n",
       " ('sabies closet badung kab', {'entities': [(14, 20, 'LOC')]}),\n",
       " ('tegal ratu sukses sedu cilegon', {'entities': [(0, 5, 'LOC')]}),\n",
       " ('sozo skin clinic pik jakarta utar', {'entities': [(21, 33, 'LOC')]}),\n",
       " ('pujasera 88 pepekanbaru ko', {'entities': [(12, 23, 'LOC')]}),\n",
       " ('alfamart eh64 mbl kab bogor', {'entities': [(22, 27, 'LOC')]}),\n",
       " ('merch aesthetic clinic jakarta sltn', {'entities': [(23, 34, 'LOC')]}),\n",
       " ('raja wali tokoho bogor', {'entities': [(17, 22, 'LOC')]}),\n",
       " ('garden bayho batam', {'entities': [(13, 18, 'LOC')]}),\n",
       " ('hotel q qubu resort kab kubu raya', {'entities': [(24, 33, 'LOC')]}),\n",
       " ('alaska swalayan mbl kolaka', {'entities': [(20, 26, 'LOC')]}),\n",
       " ('bzr ks suncity bcgg sidoarjo', {'entities': [(20, 28, 'LOC')]}),\n",
       " ('rm rengkot buyut mbl jepara', {'entities': [(21, 27, 'LOC')]}),\n",
       " ('bright tangerang moder tangerang', {'entities': [(7, 16, 'LOC')]}),\n",
       " ('mie ayam aloi palembang dan', {'entities': [(14, 23, 'LOC')]}),\n",
       " ('pindang pondok bambu prabprabumulih ko', {'entities': [(21, 35, 'LOC')]}),\n",
       " ('hokkaido ya grand indo jakarta', {'entities': [(23, 30, 'LOC')]}),\n",
       " ('blue cafe jayapura kot', {'entities': [(10, 18, 'LOC')]}),\n",
       " ('nw03ag jan25 jakarta barat', {'entities': [(13, 26, 'LOC')]}),\n",
       " ('alfamart p118 mbl ogan ilir', {'entities': [(18, 27, 'LOC')]}),\n",
       " ('rasa manis pontianak kab', {'entities': [(11, 20, 'LOC')]}),\n",
       " ('lapislapis cp jakarta', {'entities': [(14, 21, 'LOC')]}),\n",
       " ('hotel mercure resepsioni makassar kot', {'entities': [(25, 33, 'LOC')]}),\n",
       " ('midi kriing 26574471tangerang', {'entities': [(20, 29, 'LOC')]}),\n",
       " ('gion the sushi bar jakarta barat', {'entities': [(19, 32, 'LOC')]}),\n",
       " ('fmcgrapari makassar makassar', {'entities': [(11, 19, 'LOC')]}),\n",
       " ('mom n jo green lake city tangerang', {'entities': [(25, 34, 'LOC')]}),\n",
       " ('alfamart 1ya4 mbl manado', {'entities': [(18, 24, 'LOC')]}),\n",
       " ('buekahyangan jewelry tangerang kot', {'entities': [(21, 30, 'LOC')]}),\n",
       " ('hotel a loft tbs mbl jakarta selat', {'entities': [(21, 34, 'LOC')]}),\n",
       " ('toko mas sinulingga medan kot', {'entities': [(5, 8, 'LOC')]}),\n",
       " ('sebun bali bird parkho gianyar', {'entities': [(23, 30, 'LOC')]}),\n",
       " ('alfamart an ch97 segara jkab bekasi', {'entities': [(29, 35, 'LOC')]}),\n",
       " ('hsp semarang 0d357be65jakarta slt', {'entities': [(4, 12, 'LOC')]}),\n",
       " ('esco restaurantho yogyakarta', {'entities': [(18, 28, 'LOC')]}),\n",
       " ('idm fmtoperum ninda kenzkab luwu tim', {'entities': [(28, 32, 'LOC')]}),\n",
       " ('idm tfjn pekanbaru', {'entities': [(9, 18, 'LOC')]}),\n",
       " ('akhtara coffee mbl semarang', {'entities': [(19, 27, 'LOC')]}),\n",
       " ('bp kelapa gading jakarta utara', {'entities': [(17, 30, 'LOC')]}),\n",
       " ('beard papa t1a shoppi tangerang k', {'entities': [(22, 31, 'LOC')]}),\n",
       " ('xaka  mrdiy fs ruk bebelu kab', {'entities': [(19, 25, 'LOC')]}),\n",
       " ('paninlife 2018007371feb25jakarta pusat', {'entities': [(25, 38, 'LOC')]}),\n",
       " ('rb 46 medan kota', {'entities': [(6, 11, 'LOC')]}),\n",
       " ('alfamart te69 pakulonan stangerang sel', {'entities': [(25, 38, 'LOC')]}),\n",
       " ('nusantara mobil pematangsian', {'entities': [(16, 28, 'LOC')]}),\n",
       " ('tsm rungkut surabaya', {'entities': [(12, 20, 'LOC')]}),\n",
       " ('greyhound cafe jakarta selat', {'entities': [(15, 28, 'LOC')]}),\n",
       " ('laguna bandung barat', {'entities': [(7, 20, 'LOC')]}),\n",
       " ('larut coffee wajo kab', {'entities': [(13, 17, 'LOC')]}),\n",
       " ('afterhour jakarta utara', {'entities': [(10, 23, 'LOC')]}),\n",
       " ('drmartensdeliparkdm16 medan', {'entities': [(22, 27, 'LOC')]}),\n",
       " ('ff adventure buaran plazjakarta timur', {'entities': [(24, 37, 'LOC')]}),\n",
       " ('toko jaya bangunan makassar kot', {'entities': [(19, 27, 'LOC')]}),\n",
       " ('triwarna bandung barat', {'entities': [(9, 22, 'LOC')]}),\n",
       " ('simpatik batikho surabaya', {'entities': [(17, 25, 'LOC')]}),\n",
       " ('rodalink bogor siliwa bogor kota', {'entities': [(9, 14, 'LOC')]}),\n",
       " ('rsi jemursari poli ex surabaya ko', {'entities': [(22, 30, 'LOC')]}),\n",
       " ('niceso 115 bintaro tangerang kab', {'entities': [(19, 28, 'LOC')]}),\n",
       " ('puyo silky desserts denpasar ko', {'entities': [(20, 28, 'LOC')]}),\n",
       " ('house of riderho palembang', {'entities': [(17, 26, 'LOC')]}),\n",
       " ('tb gramedia matraman jakarta pusa', {'entities': [(21, 33, 'LOC')]}),\n",
       " ('toys kingdommanado ts manado', {'entities': [(12, 18, 'LOC')]}),\n",
       " ('genius cafe v v mbl bali gianyar', {'entities': [(25, 32, 'LOC')]}),\n",
       " ('trio jaya bekasi bekasi', {'entities': [(10, 16, 'LOC')]}),\n",
       " ('the palace cntr point mdnmedan', {'entities': [(22, 30, 'LOC')]}),\n",
       " ('mentari sun plaza medan kota', {'entities': [(18, 23, 'LOC')]}),\n",
       " ('rn pet care ciracas jakarta timur', {'entities': [(20, 33, 'LOC')]}),\n",
       " ('yomartrancamanyar bandung', {'entities': [(18, 25, 'LOC')]}),\n",
       " ('idm frni kemiri raya tangerang', {'entities': [(21, 30, 'LOC')]}),\n",
       " ('radja hapesmg semarang kab', {'entities': [(14, 22, 'LOC')]}),\n",
       " ('kawai music school tangerang', {'entities': [(19, 28, 'LOC')]}),\n",
       " ('burger king km 10 jakarta timu', {'entities': [(18, 30, 'LOC')]}),\n",
       " ('idm t2qh surabayakot', {'entities': [(9, 17, 'LOC')]}),\n",
       " ('asuransi allian301124yhjjakarta slt', {'entities': [(24, 35, 'LOC')]}),\n",
       " ('dana qroff  warkop at jakarta', {'entities': [(22, 29, 'LOC')]}),\n",
       " ('alfamrt r383 bangkala t makassar', {'entities': [(13, 21, 'LOC')]}),\n",
       " ('cendana tangerang', {'entities': [(8, 17, 'LOC')]}),\n",
       " ('aw sentra komersial 3 pekanbaru', {'entities': [(22, 31, 'LOC')]}),\n",
       " ('hubas ban bojong sari depok kot', {'entities': [(22, 27, 'LOC')]}),\n",
       " ('central moda mbl balikpapan', {'entities': [(17, 27, 'LOC')]}),\n",
       " ('primarasa sidoarjo mbl sidoarjo', {'entities': [(10, 18, 'LOC')]}),\n",
       " ('susu mbok darmi jakarta sela', {'entities': [(16, 28, 'LOC')]}),\n",
       " ('sono coffee pasir sal sukabumi ka', {'entities': [(22, 30, 'LOC')]}),\n",
       " ('asuransi allian2012249injakarta slt', {'entities': [(24, 35, 'LOC')]}),\n",
       " ('mayasari siliwangi bandung', {'entities': [(19, 26, 'LOC')]}),\n",
       " ('cv sumber mas jaya mbl mataram  ntb', {'entities': [(10, 13, 'LOC')]}),\n",
       " ('carwash parkho tangerang', {'entities': [(15, 24, 'LOC')]}),\n",
       " ('beer hall jakarta selat', {'entities': [(10, 23, 'LOC')]}),\n",
       " ('metro dsmakassar makassar', {'entities': [(0, 5, 'LOC')]}),\n",
       " ('lovina innbc batam', {'entities': [(13, 18, 'LOC')]}),\n",
       " ('solaria pndp 13km456b semarang', {'entities': [(22, 30, 'LOC')]}),\n",
       " ('alfamrt 1yx6 zpm zer minahasa utr', {'entities': [(21, 29, 'LOC')]}),\n",
       " ('digimap jember rxym223 kab jember', {'entities': [(8, 14, 'LOC')]}),\n",
       " ('erafone drsutomo padang', {'entities': [(17, 23, 'LOC')]}),\n",
       " ('bizpark bandeng presto semarang kot', {'entities': [(23, 31, 'LOC')]}),\n",
       " ('solaria pasar festiva jakarta sela', {'entities': [(22, 34, 'LOC')]}),\n",
       " ('funworldlittle venice cianjur', {'entities': [(22, 29, 'LOC')]}),\n",
       " ('toko mas family jakarta sela', {'entities': [(5, 8, 'LOC')]}),\n",
       " ('mie gacoan smg banyumani semarang kot', {'entities': [(25, 33, 'LOC')]}),\n",
       " ('gorjes hair and studio tangerang', {'entities': [(23, 32, 'LOC')]}),\n",
       " ('ht rita purwokerto banyumas', {'entities': [(19, 27, 'LOC')]}),\n",
       " ('tomoro menara astra jakarta pusat', {'entities': [(20, 33, 'LOC')]}),\n",
       " ('onkor shop ho denpasar', {'entities': [(14, 22, 'LOC')]}),\n",
       " ('native menteng jakarta pusat', {'entities': [(15, 28, 'LOC')]}),\n",
       " ('laopan signature badung kab', {'entities': [(17, 23, 'LOC')]}),\n",
       " ('homecenteridretail4 tangerang kot', {'entities': [(20, 29, 'LOC')]}),\n",
       " ('vecoptical medan kota', {'entities': [(11, 16, 'LOC')]}),\n",
       " ('papaya fresh galleryho jakarta slt', {'entities': [(23, 34, 'LOC')]}),\n",
       " ('r746 alfamart sungai m bone kab', {'entities': [(23, 27, 'LOC')]}),\n",
       " ('playworks gandaria city mjakarta', {'entities': [(25, 32, 'LOC')]}),\n",
       " ('brits hotel karawang ka', {'entities': [(12, 20, 'LOC')]}),\n",
       " ('alfamart u542 mbl sidoarjo', {'entities': [(18, 26, 'LOC')]}),\n",
       " ('hcir informa sparman medan', {'entities': [(21, 26, 'LOC')]}),\n",
       " ('ykanrec2 others 34370 jakarta', {'entities': [(22, 29, 'LOC')]}),\n",
       " ('optik melawai citimall dumai', {'entities': [(6, 13, 'LOC')]}),\n",
       " ('onna istana decor medan kot', {'entities': [(18, 23, 'LOC')]}),\n",
       " ('watsons pesanggrahan jakarta barat', {'entities': [(21, 34, 'LOC')]}),\n",
       " ('adimulia hotel memedan kota', {'entities': [(15, 22, 'LOC')]}),\n",
       " ('toko sinar jakarta pusat', {'entities': [(11, 24, 'LOC')]}),\n",
       " ('robusta coffee malang', {'entities': [(15, 21, 'LOC')]}),\n",
       " ('alfamart h450 pekajangan pekalongan', {'entities': [(25, 35, 'LOC')]}),\n",
       " ('esher bogor kot', {'entities': [(6, 11, 'LOC')]}),\n",
       " ('safety life ft1124 jakarta', {'entities': [(19, 26, 'LOC')]}),\n",
       " ('sate mak syukur jakarta pusat', {'entities': [(16, 29, 'LOC')]}),\n",
       " ('toko cat selalu ada depokdepok', {'entities': [(20, 30, 'LOC')]}),\n",
       " ('tutu jakarta utara', {'entities': [(5, 18, 'LOC')]}),\n",
       " ('bengkel sunda fortuna bandung kot', {'entities': [(22, 29, 'LOC')]}),\n",
       " ('plaza auto raya pt jakarta slt', {'entities': [(19, 30, 'LOC')]}),\n",
       " ('okas bakery and cafe badung kab', {'entities': [(21, 27, 'LOC')]}),\n",
       " ('mie gacoan bandung mar bandung', {'entities': [(11, 18, 'LOC')]}),\n",
       " ('dana qroff  myht gami jakarta', {'entities': [(22, 29, 'LOC')]}),\n",
       " ('idm tvo5 kadu bitung lebaserang', {'entities': [(14, 20, 'LOC')]}),\n",
       " ('aia fin 22039719 0225 tangerang', {'entities': [(22, 31, 'LOC')]}),\n",
       " ('rm pelmas tanta olla mbl manado', {'entities': [(25, 31, 'LOC')]}),\n",
       " ('deva mart bojong pekalongan ka', {'entities': [(17, 27, 'LOC')]}),\n",
       " ('aia fin 35914010 1124 tangerang', {'entities': [(22, 31, 'LOC')]}),\n",
       " ('sate abah sukabumi kab', {'entities': [(10, 18, 'LOC')]}),\n",
       " ('idm ti3t aku tahu 10 batam', {'entities': [(21, 26, 'LOC')]}),\n",
       " ('rm pondok pangandaran jakarta utara', {'entities': [(10, 21, 'LOC')]}),\n",
       " ('idm ffx7 malang', {'entities': [(9, 15, 'LOC')]}),\n",
       " ('kopi kenangan central jakarta bara', {'entities': [(22, 34, 'LOC')]}),\n",
       " ('resinda hotel k47420065 karawang', {'entities': [(24, 32, 'LOC')]}),\n",
       " ('idm f66l boja semarang', {'entities': [(14, 22, 'LOC')]}),\n",
       " ('apotek sahabat galenika 1bekasi kota', {'entities': [(25, 31, 'LOC')]}),\n",
       " ('surya jaya sport bogor kot', {'entities': [(17, 22, 'LOC')]}),\n",
       " ('waki waki jakarta pusa', {'entities': [(10, 22, 'LOC')]}),\n",
       " ('better home bengkulu ko', {'entities': [(12, 20, 'LOC')]}),\n",
       " ('alfamart m114 mbl malang', {'entities': [(18, 24, 'LOC')]}),\n",
       " ('sbux cyber2scn4 jakarta slt', {'entities': [(16, 27, 'LOC')]}),\n",
       " ('klinik gigi dentes co yogyakarta', {'entities': [(22, 32, 'LOC')]}),\n",
       " ('house of wacoal centre pomedan kota', {'entities': [(25, 30, 'LOC')]}),\n",
       " ('apple car wash karawac tangerang', {'entities': [(23, 32, 'LOC')]}),\n",
       " ('jc bicycle bandung kot', {'entities': [(11, 18, 'LOC')]}),\n",
       " ('holland bakery mangun bebekasi kab', {'entities': [(22, 30, 'LOC')]}),\n",
       " ('spbu 54  64143 jabon kediri', {'entities': [(21, 27, 'LOC')]}),\n",
       " ('dana qroff  sambal bu jakarta', {'entities': [(22, 29, 'LOC')]}),\n",
       " ('hyundai mobil indonesi jakarta timur', {'entities': [(23, 36, 'LOC')]}),\n",
       " ('thpm  thamrin plaza medamedan kota', {'entities': [(20, 29, 'LOC')]}),\n",
       " ('syailendra hotel jepara kab', {'entities': [(17, 23, 'LOC')]}),\n",
       " ('viet24 tsm cibubur depok', {'entities': [(19, 24, 'LOC')]}),\n",
       " ('cinepolis ponorogo surabaya', {'entities': [(10, 18, 'LOC')]}),\n",
       " ('lojel shop jakarta slt', {'entities': [(11, 22, 'LOC')]}),\n",
       " ('selaras coffee and spa kudus kab', {'entities': [(23, 28, 'LOC')]}),\n",
       " ('new balance kemvilne81 jakarta slt', {'entities': [(23, 34, 'LOC')]}),\n",
       " ('pepitomarket batubolong badung', {'entities': [(24, 30, 'LOC')]}),\n",
       " ('erafone  more semper jakarta utar', {'entities': [(21, 33, 'LOC')]}),\n",
       " ('bandung parahyangan golf bandung kab', {'entities': [(0, 7, 'LOC')]}),\n",
       " ('henny salonho malang', {'entities': [(14, 20, 'LOC')]}),\n",
       " ('global art citra grand bebekasi kota', {'entities': [(23, 31, 'LOC')]}),\n",
       " ('frank and co tangerang kot', {'entities': [(13, 22, 'LOC')]}),\n",
       " ('kidzilla gressmall lt kab gresik', {'entities': [(26, 32, 'LOC')]}),\n",
       " ('eka pratama 2 semarang kot', {'entities': [(14, 22, 'LOC')]}),\n",
       " ('gadgetmart sultan adam banjarmasin k', {'entities': [(23, 34, 'LOC')]}),\n",
       " ('gl  mall kelapa gading jakarta utara', {'entities': [(23, 36, 'LOC')]}),\n",
       " ('bowl kitchen dedenpasar kot', {'entities': [(13, 23, 'LOC')]}),\n",
       " ('idm tvhzbabakan binong tangerang', {'entities': [(23, 32, 'LOC')]}),\n",
       " ('dipo internasional pt jakarta slt', {'entities': [(22, 33, 'LOC')]}),\n",
       " ('idm tt0vcipete raya no jakarta slt', {'entities': [(23, 34, 'LOC')]}),\n",
       " ('toko satria sesemarang kot', {'entities': [(12, 22, 'LOC')]}),\n",
       " ('3 second banjarmasin k', {'entities': [(9, 20, 'LOC')]}),\n",
       " ('service adi suka medan kot', {'entities': [(17, 22, 'LOC')]}),\n",
       " ('xdttufine jakarta', {'entities': [(10, 17, 'LOC')]}),\n",
       " ('kopi kenangan warakas jakarta utar', {'entities': [(22, 34, 'LOC')]}),\n",
       " ('emerald tree garden restodepok', {'entities': [(25, 30, 'LOC')]}),\n",
       " ('kios kti abdul kadir makassar', {'entities': [(21, 29, 'LOC')]}),\n",
       " ('hanamasa menteng mbl jakarta', {'entities': [(21, 28, 'LOC')]}),\n",
       " ('mhi pgc mbl jakarta', {'entities': [(12, 19, 'LOC')]}),\n",
       " ('xndr  mr diy sriwijay sesemarang kot', {'entities': [(22, 32, 'LOC')]}),\n",
       " ('gion sushi dp mall semarasemarang kot', {'entities': [(19, 33, 'LOC')]}),\n",
       " ('kopi mage babandung kab', {'entities': [(12, 19, 'LOC')]}),\n",
       " ('hsp dyandra meda0e7f0 jakarta slt', {'entities': [(22, 33, 'LOC')]}),\n",
       " ('ahass kian jaya bandung kot', {'entities': [(16, 23, 'LOC')]}),\n",
       " ('spbu 4455516 sleman kab', {'entities': [(13, 19, 'LOC')]}),\n",
       " ('kana jakarta selat', {'entities': [(5, 18, 'LOC')]}),\n",
       " ('bp lenteng agung jakarta slt', {'entities': [(17, 28, 'LOC')]}),\n",
       " ('idm f994gaga ketapang jakarta', {'entities': [(13, 21, 'LOC')]}),\n",
       " ('zenbu 23 paskal bandung kot', {'entities': [(16, 23, 'LOC')]}),\n",
       " ('aurel permata badung kab', {'entities': [(14, 20, 'LOC')]}),\n",
       " ('alfamart m500 mbl mojokerto', {'entities': [(18, 27, 'LOC')]}),\n",
       " ('indomaret g080 go r60 purwakarta', {'entities': [(22, 32, 'LOC')]}),\n",
       " ('mentari market mbl kotabaru', {'entities': [(19, 27, 'LOC')]}),\n",
       " ('sanur resort watujimb denpasar ko', {'entities': [(22, 30, 'LOC')]}),\n",
       " ('coffeeright pgv bogor', {'entities': [(16, 21, 'LOC')]}),\n",
       " ('jxb 2024  1 somethinc jakarta pusat', {'entities': [(22, 35, 'LOC')]}),\n",
       " ('jco the kings bandung bandung', {'entities': [(14, 21, 'LOC')]}),\n",
       " ('kids sea pekanbaru ko', {'entities': [(9, 18, 'LOC')]}),\n",
       " ('tb curug garden depok kota', {'entities': [(16, 21, 'LOC')]}),\n",
       " ('vitara audio medan kot', {'entities': [(13, 18, 'LOC')]}),\n",
       " ('xdtbongkar bisnis jakarta selat', {'entities': [(18, 31, 'LOC')]}),\n",
       " ('honda sonic bandung kota', {'entities': [(12, 19, 'LOC')]}),\n",
       " ('kidz station aceh ksq3 banda aceh', {'entities': [(23, 33, 'LOC')]}),\n",
       " ('kopi titik koma jakarta barat', {'entities': [(16, 29, 'LOC')]}),\n",
       " ('toko mas famili garut kab', {'entities': [(5, 8, 'LOC')]}),\n",
       " ('domo domo sun plazaho medan', {'entities': [(22, 27, 'LOC')]}),\n",
       " ('tomoro spbu bintaro sekt tangerang kab', {'entities': [(25, 34, 'LOC')]}),\n",
       " ('diora storeho surabaya', {'entities': [(14, 22, 'LOC')]}),\n",
       " ('butterflyho batam kot', {'entities': [(12, 17, 'LOC')]}),\n",
       " ('bibit bunga ho makassar', {'entities': [(15, 23, 'LOC')]}),\n",
       " ('spbu 3417421 bebekasi kota', {'entities': [(13, 21, 'LOC')]}),\n",
       " ('spbu 4457518 sukoharjo kab', {'entities': [(13, 22, 'LOC')]}),\n",
       " ('cemara auto mobil mbl pekanbaru', {'entities': [(22, 31, 'LOC')]}),\n",
       " ('shopdrivenusantara depok', {'entities': [(19, 24, 'LOC')]}),\n",
       " ('solaria cibinong city bogor kab', {'entities': [(22, 27, 'LOC')]}),\n",
       " ('icm cikokol tangerang', {'entities': [(12, 21, 'LOC')]}),\n",
       " ('warung sate maranggi h bogor', {'entities': [(23, 28, 'LOC')]}),\n",
       " ('hotel le temple resto magelang kab', {'entities': [(22, 30, 'LOC')]}),\n",
       " ('nada puspita scarf jakarta selat', {'entities': [(19, 32, 'LOC')]}),\n",
       " ('ks pop up storebcbd semarang', {'entities': [(20, 28, 'LOC')]}),\n",
       " ('mbok lik rdtx place jakarta selat', {'entities': [(20, 33, 'LOC')]}),\n",
       " ('toko hegarho bandung', {'entities': [(13, 20, 'LOC')]}),\n",
       " ('dana qroff  cut ponse jakarta', {'entities': [(22, 29, 'LOC')]}),\n",
       " ('halomart mbl makassar', {'entities': [(13, 21, 'LOC')]}),\n",
       " ('alfamart l190 mbl metro', {'entities': [(18, 23, 'LOC')]}),\n",
       " ('cole haan pin jakarta', {'entities': [(14, 21, 'LOC')]}),\n",
       " ('5asec puri kencana jakarta barat', {'entities': [(19, 32, 'LOC')]}),\n",
       " ('alfamart w371 mbl rantauprapat', {'entities': [(18, 30, 'LOC')]}),\n",
       " ('auto 2000rajabasa bdr lampung', {'entities': [(18, 29, 'LOC')]}),\n",
       " ('watsons  grand city surabaya ko', {'entities': [(20, 28, 'LOC')]}),\n",
       " ('madu pramukaho depok', {'entities': [(15, 20, 'LOC')]}),\n",
       " ('siloam hospitalsblph balikpapan', {'entities': [(21, 31, 'LOC')]}),\n",
       " ...]"
      ]
     },
     "execution_count": 85,
     "metadata": {},
     "output_type": "execute_result"
    }
   ],
   "source": [
    "train_data"
   ]
  },
  {
   "cell_type": "code",
   "execution_count": 86,
   "metadata": {},
   "outputs": [
    {
     "name": "stdout",
     "output_type": "stream",
     "text": [
      "Saved 252013 examples to data/spacy_training_data.spacy\n",
      "Saved 28002 examples to data/spacy_test_data.spacy\n"
     ]
    }
   ],
   "source": [
    "convert_to_spacy(train_data, \"data/spacy_training_data.spacy\")\n",
    "convert_to_spacy(test_data, \"data/spacy_test_data.spacy\")"
   ]
  },
  {
   "cell_type": "code",
   "execution_count": 87,
   "metadata": {},
   "outputs": [
    {
     "name": "stdout",
     "output_type": "stream",
     "text": [
      "Created blank model\n"
     ]
    }
   ],
   "source": [
    "nlp = create_model(train_data)"
   ]
  },
  {
   "cell_type": "code",
   "execution_count": 148,
   "metadata": {},
   "outputs": [
    {
     "name": "stdout",
     "output_type": "stream",
     "text": [
      "\u001b[33mUsage: \u001b[0mpython \u001b[1;32m-m\u001b[0m spacy init fill-config [OPTIONS] BASE_PATH [OUTPUT_FILE]\n",
      "\u001b[2mTry \u001b[0m\u001b[2;34m'python \u001b[0m\u001b[1;2;34m-m\u001b[0m\u001b[2;34m spacy init fill-config \u001b[0m\u001b[1;2;34m-\u001b[0m\u001b[1;2;34m-help\u001b[0m\u001b[2;34m'\u001b[0m\u001b[2m for help.\u001b[0m\n",
      "\u001b[31m╭─\u001b[0m\u001b[31m Error \u001b[0m\u001b[31m─────────────────────────────────────────────────────────────────────\u001b[0m\u001b[31m─╮\u001b[0m\n",
      "\u001b[31m│\u001b[0m Invalid value for 'BASE_PATH': File 'base_config.cfg' does not exist.        \u001b[31m│\u001b[0m\n",
      "\u001b[31m╰──────────────────────────────────────────────────────────────────────────────╯\u001b[0m\n"
     ]
    }
   ],
   "source": [
    "!python -m spacy init fill-config base_config.cfg config.cfg"
   ]
  },
  {
   "cell_type": "code",
   "execution_count": 88,
   "metadata": {},
   "outputs": [
    {
     "name": "stdout",
     "output_type": "stream",
     "text": [
      "Loaded 252013 examples from data/spacy_training_data.spacy\n",
      "Loaded 28002 examples from data/spacy_test_data.spacy\n"
     ]
    }
   ],
   "source": [
    "def load_data_from_spacy_format(file_path, nlp=None):\n",
    "    \"\"\"\n",
    "    Load training/evaluation data from a .spacy binary file.\n",
    "    \n",
    "    Parameters:\n",
    "    -----------\n",
    "    file_path : str\n",
    "        Path to the .spacy file\n",
    "    nlp : spacy.Language, optional\n",
    "        spaCy language model, will create a blank one if not provided\n",
    "        \n",
    "    Returns:\n",
    "    --------\n",
    "    list\n",
    "        List of (text, annotations) tuples in the format needed for training\n",
    "    \"\"\"\n",
    "    \n",
    "    # Create blank model if none provided\n",
    "    if nlp is None:\n",
    "        nlp = spacy.blank(\"id\")  # Use appropriate language code\n",
    "    \n",
    "    # Load the DocBin\n",
    "    doc_bin = DocBin().from_disk(file_path)\n",
    "    \n",
    "    # Convert to docs\n",
    "    docs = list(doc_bin.get_docs(nlp.vocab))\n",
    "    \n",
    "    # Convert back to the training data format\n",
    "    training_data = []\n",
    "    for doc in docs:\n",
    "        text = doc.text\n",
    "        entities = []\n",
    "        for ent in doc.ents:\n",
    "            entities.append((ent.start_char, ent.end_char, ent.label_))\n",
    "        \n",
    "        # Create the annotation dictionary\n",
    "        annotations = {\"entities\": entities}\n",
    "        \n",
    "        # Add to the training data list\n",
    "        training_data.append((text, annotations))\n",
    "    \n",
    "    print(f\"Loaded {len(training_data)} examples from {file_path}\")\n",
    "    return training_data\n",
    "\n",
    "# Usage\n",
    "train_data = load_data_from_spacy_format(\"data/spacy_training_data.spacy\")\n",
    "test_data = load_data_from_spacy_format(\"data/spacy_test_data.spacy\")"
   ]
  },
  {
   "cell_type": "code",
   "execution_count": 89,
   "metadata": {},
   "outputs": [
    {
     "data": {
      "text/plain": [
       "['ner']"
      ]
     },
     "execution_count": 89,
     "metadata": {},
     "output_type": "execute_result"
    }
   ],
   "source": [
    "nlp.pipe_names"
   ]
  },
  {
   "cell_type": "code",
   "execution_count": 90,
   "metadata": {},
   "outputs": [
    {
     "data": {
      "text/plain": [
       "252013"
      ]
     },
     "execution_count": 90,
     "metadata": {},
     "output_type": "execute_result"
    }
   ],
   "source": [
    "len(train_data)"
   ]
  },
  {
   "cell_type": "code",
   "execution_count": 91,
   "metadata": {},
   "outputs": [],
   "source": [
    "# Setup training examples\n",
    "from spacy.training import Example\n",
    "train_examples = []\n",
    "for text, annotations in train_data:\n",
    "    doc = nlp.make_doc(text)\n",
    "    example = Example.from_dict(doc, annotations)\n",
    "    train_examples.append(example)"
   ]
  },
  {
   "cell_type": "code",
   "execution_count": 93,
   "metadata": {},
   "outputs": [
    {
     "data": {
      "text/plain": [
       "252013"
      ]
     },
     "execution_count": 93,
     "metadata": {},
     "output_type": "execute_result"
    }
   ],
   "source": [
    "len(train_examples)"
   ]
  },
  {
   "cell_type": "code",
   "execution_count": 94,
   "metadata": {},
   "outputs": [],
   "source": [
    "ner = nlp.get_pipe(\"ner\")\n",
    "#ner.add_label(\"O\")\n",
    "#ner.add_label(\"LOC\")"
   ]
  },
  {
   "cell_type": "code",
   "execution_count": 107,
   "metadata": {},
   "outputs": [],
   "source": [
    "optimizer = nlp.begin_training()"
   ]
  },
  {
   "cell_type": "code",
   "execution_count": 96,
   "metadata": {},
   "outputs": [],
   "source": [
    "#optimizer.learn_rate = 0.01"
   ]
  },
  {
   "cell_type": "code",
   "execution_count": 108,
   "metadata": {},
   "outputs": [
    {
     "data": {
      "text/plain": [
       "[{'doc_annotation': {'cats': {}, 'entities': ['O', 'O', 'B-LOC', 'L-LOC'], 'spans': {}, 'links': {}}, 'token_annotation': {'ORTH': ['idm', 't9t4', 'muara', 'enim'], 'SPACY': [True, True, True, False], 'TAG': ['', '', '', ''], 'LEMMA': ['', '', '', ''], 'POS': ['', '', '', ''], 'MORPH': ['', '', '', ''], 'HEAD': [0, 1, 2, 3], 'DEP': ['', '', '', ''], 'SENT_START': [1, 0, 0, 0]}}]"
      ]
     },
     "execution_count": 108,
     "metadata": {},
     "output_type": "execute_result"
    }
   ],
   "source": [
    "nlp.pipe_names\n",
    "train_examples[:1]"
   ]
  },
  {
   "cell_type": "code",
   "execution_count": 109,
   "metadata": {},
   "outputs": [
    {
     "data": {
      "text/plain": [
       "{'ner': 3.3333334922790527}"
      ]
     },
     "execution_count": 109,
     "metadata": {},
     "output_type": "execute_result"
    }
   ],
   "source": [
    "losses = {}\n",
    "nlp.update(train_examples[:1], drop=0.5, losses=losses)"
   ]
  },
  {
   "cell_type": "code",
   "execution_count": 110,
   "metadata": {},
   "outputs": [
    {
     "data": {
      "text/plain": [
       "252013"
      ]
     },
     "execution_count": 110,
     "metadata": {},
     "output_type": "execute_result"
    }
   ],
   "source": [
    "len(train_examples)"
   ]
  },
  {
   "cell_type": "code",
   "execution_count": null,
   "metadata": {},
   "outputs": [
    {
     "name": "stdout",
     "output_type": "stream",
     "text": [
      "Training model...\n",
      "Iteration 1, Losses: {'ner': 24026.07411120608}\n",
      "Iteration 2, Losses: {'ner': 14639.776859516578}\n"
     ]
    }
   ],
   "source": [
    "# Batch up the examples\n",
    "from spacy.util import minibatch, compounding\n",
    "n_iter=30\n",
    "print(\"Training model...\")\n",
    "for i in range(n_iter):\n",
    "    random.shuffle(train_examples)\n",
    "    losses = {}\n",
    "    # Batch the examples\n",
    "    batches = minibatch(train_examples, size=compounding(4.0, 32.0, 1.001))\n",
    "    for batch in batches:\n",
    "        nlp.update(batch, drop=0.3, losses=losses)\n",
    "    \n",
    "    print(f\"Iteration {i+1}, Losses: {losses}\")"
   ]
  },
  {
   "cell_type": "code",
   "execution_count": 101,
   "metadata": {},
   "outputs": [],
   "source": [
    "# 6. Evaluate the model\n",
    "def evaluate_model(nlp, eval_data):\n",
    "    scorer = spacy.scorer.Scorer()\n",
    "    examples = []\n",
    "    \n",
    "    for text, annotations in eval_data:\n",
    "        doc_gold_text = nlp.make_doc(text)\n",
    "        gold = Example.from_dict(doc_gold_text, annotations)\n",
    "        pred_value = nlp(text)\n",
    "        examples.append(Example(pred_value, gold.reference))\n",
    "    \n",
    "    scores = scorer.score(examples)\n",
    "    \n",
    "    # Print results\n",
    "    print(\"Evaluation results:\")\n",
    "    for metric, value in scores.items():\n",
    "        if metric.startswith(\"ents\"):\n",
    "            # Handle different types of values\n",
    "            if isinstance(value, (int, float)):\n",
    "                print(f\"{metric}: {value:.4f}\")\n",
    "            else:\n",
    "                print(f\"{metric}: {value}\")"
   ]
  },
  {
   "cell_type": "code",
   "execution_count": 102,
   "metadata": {},
   "outputs": [],
   "source": [
    "import warnings\n",
    "warnings.filterwarnings(\"ignore\", category=UserWarning)"
   ]
  },
  {
   "cell_type": "code",
   "execution_count": null,
   "metadata": {},
   "outputs": [
    {
     "name": "stdout",
     "output_type": "stream",
     "text": [
      "Evaluation results:\n",
      "ents_p: 0.9798\n",
      "ents_r: 0.9866\n",
      "ents_f: 0.9832\n",
      "ents_per_type: {'LOC': {'p': 0.9798239883171285, 'r': 0.9866491234859333, 'f': 0.9832247117349892}}\n"
     ]
    }
   ],
   "source": [
    "evaluate_model(nlp, test_data)"
   ]
  },
  {
   "cell_type": "code",
   "execution_count": 58,
   "metadata": {},
   "outputs": [],
   "source": [
    "val = pl.read_parquet('data/merchant_ner_labeled_validation.parquet')\n",
    "validation_data = []\n",
    "for row in val.iter_rows():\n",
    "    validation_data.append((row[1], {\"entities\": [(row[5][0], row[5][1], \"LOC\")]}))"
   ]
  },
  {
   "cell_type": "code",
   "execution_count": null,
   "metadata": {},
   "outputs": [
    {
     "name": "stdout",
     "output_type": "stream",
     "text": [
      "Evaluation results:\n",
      "ents_p: 0.9872\n",
      "ents_r: 0.9836\n",
      "ents_f: 0.9854\n",
      "ents_per_type: {'LOC': {'p': 0.9872489082969432, 'r': 0.9836065573770492, 'f': 0.985424367110677}}\n"
     ]
    }
   ],
   "source": [
    "evaluate_model(nlp, validation_data)"
   ]
  },
  {
   "cell_type": "code",
   "execution_count": 342,
   "metadata": {},
   "outputs": [
    {
     "data": {
      "text/plain": [
       "[('cafe tutur bekasi', {'entities': [(11, 17, 'LOC')]}),\n",
       " ('idm t430 menanggal surabaya', {'entities': [(9, 18, 'LOC')]}),\n",
       " ('rejuve gandaria city 2 jakarta slt', {'entities': [(23, 34, 'LOC')]}),\n",
       " ('imperial kitchen  dim kakarawang kab', {'entities': [(22, 32, 'LOC')]}),\n",
       " ('alma restoran manggarai bar', {'entities': [(14, 23, 'LOC')]})]"
      ]
     },
     "execution_count": 342,
     "metadata": {},
     "output_type": "execute_result"
    }
   ],
   "source": [
    "validation_data[:5]"
   ]
  },
  {
   "cell_type": "code",
   "execution_count": 105,
   "metadata": {},
   "outputs": [],
   "source": [
    "#LHMGS-GR1 TANGERANG KOTI : 0/12\n",
    "test_text = \"lawson jendral sudirbanyumas\""
   ]
  },
  {
   "cell_type": "code",
   "execution_count": 106,
   "metadata": {},
   "outputs": [
    {
     "name": "stdout",
     "output_type": "stream",
     "text": [
      "Entity: sudirbanyumas, Label: LOC, Position: (15, 28)\n"
     ]
    }
   ],
   "source": [
    "doc = nlp(test_text.lower())\n",
    "doc\n",
    "for ent in doc.ents:\n",
    "    print(f\"Entity: {ent.text}, Label: {ent.label_}, Position: ({ent.start_char}, {ent.end_char})\")"
   ]
  },
  {
   "cell_type": "code",
   "execution_count": null,
   "metadata": {},
   "outputs": [],
   "source": [
    "# Save to disk\n",
    "output_dir = \"model/indonesian_location_ner_model\"\n",
    "nlp.to_disk(output_dir)"
   ]
  },
  {
   "cell_type": "markdown",
   "metadata": {},
   "source": [
    "# LOAD THE MODEL"
   ]
  },
  {
   "cell_type": "code",
   "execution_count": 51,
   "metadata": {},
   "outputs": [],
   "source": [
    "import spacy\n",
    "# Load the saved model\n",
    "loaded_nlp = spacy.load(\"model/indonesian_location_ner_model\")"
   ]
  },
  {
   "cell_type": "code",
   "execution_count": 374,
   "metadata": {},
   "outputs": [
    {
     "name": "stdout",
     "output_type": "stream",
     "text": [
      "badung - LOC\n"
     ]
    }
   ],
   "source": [
    "# Test on some text\n",
    "text = \"YASUI MBL BADUNG - BALIID\"\n",
    "text_clean = clean_merchant_name(text)\n",
    "doc = loaded_nlp(text_clean)\n",
    "\n",
    "# Print entities\n",
    "for ent in doc.ents:\n",
    "    print(f\"{ent.text} - {ent.label_}\")"
   ]
  },
  {
   "cell_type": "markdown",
   "metadata": {},
   "source": [
    "# SANDBOX"
   ]
  },
  {
   "cell_type": "code",
   "execution_count": 215,
   "metadata": {},
   "outputs": [],
   "source": [
    "import spacy\n",
    "\n",
    "# Load a model for your language (example with English)\n",
    "nlp = spacy.load(\"en_core_web_sm\")  # Use Indonesian model if available\n",
    "\n",
    "def is_location_ner(word, context=\"\"):\n",
    "    \"\"\"Use NER to determine if a word is a location.\"\"\"\n",
    "    # If we have context, use it\n",
    "    text = context if context else word\n",
    "    doc = nlp(text)\n",
    "\n",
    "    # Check if the word is tagged as a location\n",
    "    for entity in doc.ents:\n",
    "        print(entity.text, entity.label_)\n",
    "        if entity.text == word and entity.label_ == \"GPE\":  # GPE = Geopolitical Entity\n",
    "            return True\n",
    "    \n",
    "    return False"
   ]
  },
  {
   "cell_type": "code",
   "execution_count": 227,
   "metadata": {
    "editable": true,
    "slideshow": {
     "slide_type": ""
    },
    "tags": []
   },
   "outputs": [
    {
     "name": "stdout",
     "output_type": "stream",
     "text": [
      "KUALA ORG\n"
     ]
    },
    {
     "data": {
      "text/plain": [
       "False"
      ]
     },
     "execution_count": 227,
     "metadata": {},
     "output_type": "execute_result"
    }
   ],
   "source": [
    "is_location_ner(\"KUALA LUMPUR\")"
   ]
  },
  {
   "cell_type": "code",
   "execution_count": 217,
   "metadata": {},
   "outputs": [
    {
     "name": "stderr",
     "output_type": "stream",
     "text": [
      "Some weights of the model checkpoint at cahya/bert-base-indonesian-NER were not used when initializing BertForTokenClassification: ['bert.pooler.dense.bias', 'bert.pooler.dense.weight']\n",
      "- This IS expected if you are initializing BertForTokenClassification from the checkpoint of a model trained on another task or with another architecture (e.g. initializing a BertForSequenceClassification model from a BertForPreTraining model).\n",
      "- This IS NOT expected if you are initializing BertForTokenClassification from the checkpoint of a model that you expect to be exactly identical (initializing a BertForSequenceClassification model from a BertForSequenceClassification model).\n",
      "Device set to use cuda:0\n"
     ]
    }
   ],
   "source": [
    "from transformers import pipeline\n",
    "\n",
    "# Load a pretrained NER pipeline\n",
    "ner = pipeline(\"ner\", model=\"cahya/bert-base-indonesian-NER\")\n",
    "\n",
    "def is_location(text):\n",
    "    \"\"\"Determine if text contains a location using pretrained NER model.\"\"\"\n",
    "    results = ner(text)\n",
    "    \n",
    "    # Filter for location entities (labels may vary by model)\n",
    "    location_entities = [entity for entity in results if entity['entity'] in \n",
    "                        ['B-LOC', 'I-LOC', 'B-GPE', 'I-GPE', 'LOC', 'GPE']]\n",
    "    \n",
    "    if location_entities:\n",
    "        return True, location_entities\n",
    "    return False, []"
   ]
  },
  {
   "cell_type": "code",
   "execution_count": 225,
   "metadata": {
    "editable": true,
    "slideshow": {
     "slide_type": ""
    },
    "tags": []
   },
   "outputs": [
    {
     "data": {
      "text/plain": [
       "(False, [])"
      ]
     },
     "execution_count": 225,
     "metadata": {},
     "output_type": "execute_result"
    }
   ],
   "source": [
    "is_location(\"SHIBUYA\")"
   ]
  },
  {
   "cell_type": "code",
   "execution_count": 51,
   "metadata": {
    "editable": true,
    "slideshow": {
     "slide_type": ""
    },
    "tags": []
   },
   "outputs": [],
   "source": [
    "import spacy\n",
    "from spacy import displacy\n",
    "\n",
    "nlp = spacy.blank(\"id\")"
   ]
  },
  {
   "cell_type": "code",
   "execution_count": null,
   "metadata": {},
   "outputs": [],
   "source": []
  },
  {
   "cell_type": "code",
   "execution_count": 44,
   "metadata": {
    "editable": true,
    "slideshow": {
     "slide_type": ""
    },
    "tags": []
   },
   "outputs": [],
   "source": [
    "text = \"The Mars Orbiter Mission (MOM), informally known as Mangalyaan, was launched into Earth orbit on 5 November 2013 by the Indian Space Research Organisation (ISRO) and has entered Mars orbit on 24 September 2014. India thus became the first country to enter Mars orbit on its first attempt. It was completed at a record low cost of $74 million.\""
   ]
  },
  {
   "cell_type": "code",
   "execution_count": 52,
   "metadata": {},
   "outputs": [
    {
     "data": {
      "text/plain": [
       "[]"
      ]
     },
     "execution_count": 52,
     "metadata": {},
     "output_type": "execute_result"
    }
   ],
   "source": [
    "nlp.pipe_names"
   ]
  },
  {
   "cell_type": "code",
   "execution_count": 53,
   "metadata": {},
   "outputs": [],
   "source": [
    "ner_en = spacy.load(\"en_core_web_sm\")"
   ]
  },
  {
   "cell_type": "code",
   "execution_count": 54,
   "metadata": {
    "editable": true,
    "slideshow": {
     "slide_type": ""
    },
    "tags": []
   },
   "outputs": [
    {
     "data": {
      "text/plain": [
       "['tok2vec', 'tagger', 'parser', 'attribute_ruler', 'lemmatizer', 'ner']"
      ]
     },
     "execution_count": 54,
     "metadata": {},
     "output_type": "execute_result"
    }
   ],
   "source": [
    "ner_en.pipe_names"
   ]
  },
  {
   "cell_type": "code",
   "execution_count": 45,
   "metadata": {},
   "outputs": [],
   "source": [
    "text2 = NER(text)"
   ]
  },
  {
   "cell_type": "code",
   "execution_count": null,
   "metadata": {},
   "outputs": [],
   "source": []
  }
 ],
 "metadata": {
  "kernelspec": {
   "display_name": "Python 3 (ipykernel)",
   "language": "python",
   "name": "python3"
  },
  "language_info": {
   "codemirror_mode": {
    "name": "ipython",
    "version": 3
   },
   "file_extension": ".py",
   "mimetype": "text/x-python",
   "name": "python",
   "nbconvert_exporter": "python",
   "pygments_lexer": "ipython3",
   "version": "3.11.2"
  }
 },
 "nbformat": 4,
 "nbformat_minor": 4
}
